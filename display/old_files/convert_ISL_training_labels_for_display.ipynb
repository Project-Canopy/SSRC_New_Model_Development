{
 "cells": [
  {
   "cell_type": "code",
   "execution_count": 26,
   "metadata": {},
   "outputs": [],
   "source": [
    "from glob import glob\n",
    "import geopandas as gpd\n",
    "import pandas as pd"
   ]
  },
  {
   "cell_type": "code",
   "execution_count": 27,
   "metadata": {},
   "outputs": [],
   "source": [
    "dir_path = \"/Users/user/Downloads/ISL_Labels\"\n",
    "out_file = \"/Users/user/Documents/GitHub/cb_feature_detection/analytics/ISL_Training_Labels.geojson\""
   ]
  },
  {
   "cell_type": "code",
   "execution_count": 28,
   "metadata": {},
   "outputs": [],
   "source": [
    "def output_label_file(dir_path, out_file):\n",
    "    \n",
    "    file_list = glob(f'{dir_path}/*/*.shp')\n",
    "    gdf1 = None\n",
    "    for file in file_list: \n",
    "        if gdf1 is None:\n",
    "            gdf1 = gpd.read_file(file)\n",
    "        else:\n",
    "            gdf2 = gpd.read_file(file)\n",
    "            gdf1 = pd.concat([gdf1, gdf2])\n",
    "    gdf1 = gdf1.set_crs(epsg=3257)\n",
    "    gdf1 = gdf1.to_crs(epsg=4326)\n",
    "    gdf1.to_file(out_file, driver='GeoJSON')\n",
    "    return gdf1\n",
    "            "
   ]
  },
  {
   "cell_type": "code",
   "execution_count": 29,
   "metadata": {},
   "outputs": [],
   "source": [
    "ISL_Training_Labels = output_label_file(dir_path,out_file)"
   ]
  }
 ],
 "metadata": {
  "kernelspec": {
   "display_name": "conda inference",
   "language": "python",
   "name": "conda-inference"
  },
  "language_info": {
   "codemirror_mode": {
    "name": "ipython",
    "version": 3
   },
   "file_extension": ".py",
   "mimetype": "text/x-python",
   "name": "python",
   "nbconvert_exporter": "python",
   "pygments_lexer": "ipython3",
   "version": "3.9.2"
  }
 },
 "nbformat": 4,
 "nbformat_minor": 4
}
