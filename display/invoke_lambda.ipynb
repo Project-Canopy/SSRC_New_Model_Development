{
 "cells": [
  {
   "cell_type": "code",
   "execution_count": 37,
   "metadata": {},
   "outputs": [],
   "source": [
    "import boto3\n",
    "import os\n",
    "import subprocess\n",
    "import requests\n",
    "import json"
   ]
  },
  {
   "cell_type": "code",
   "execution_count": 11,
   "metadata": {},
   "outputs": [],
   "source": [
    "def s3_dir_ls(granule_dir):\n",
    "\n",
    "    objs = []\n",
    "    bucket = granule_dir.split(\"/\")[2]\n",
    "    key = \"/\".join(granule_dir.split(\"/\")[3:])\n",
    "\n",
    "    s3 = boto3.resource('s3')\n",
    "    my_bucket = s3.Bucket(bucket)\n",
    "\n",
    "\n",
    "    for obj in my_bucket.objects.filter(Prefix=key):\n",
    "        objs.append(\"s3://\" + bucket + \"/\" + obj.key)\n",
    "\n",
    "    return objs[1:]"
   ]
  },
  {
   "cell_type": "code",
   "execution_count": 13,
   "metadata": {},
   "outputs": [],
   "source": [
    "files = s3_dir_ls(\"s3://canopy-production-ml/full_congo_basin/02.17.21_CB_GEE_Pull/\")"
   ]
  },
  {
   "cell_type": "markdown",
   "metadata": {},
   "source": [
    "# POST Request"
   ]
  },
  {
   "cell_type": "code",
   "execution_count": 35,
   "metadata": {},
   "outputs": [
    {
     "name": "stdout",
     "output_type": "stream",
     "text": [
      "{\"message\":\"Missing Authentication Token\"}\n"
     ]
    }
   ],
   "source": [
    "endpoint = \" https://5oiulqb7cg.execute-api.us-east-1.amazonaws.com/default/cb-raster-process\"\n",
    "job_spec = { \"granule_path\": \"s3://canopy-production-ml/full_congo_basin/02.17.21_CB_GEE_Pull/1000_full_congo_export_v12_all_bands_Feb_11_12_22_04_2021.tif\", \"dest_dir\": \"s3://canopy-production-ml/full_congo_basin/RGB/\"}\n",
    "\n",
    "response = requests.post(endpoint, json=job_spec)\n",
    "print(response.text)"
   ]
  },
  {
   "cell_type": "code",
   "execution_count": 34,
   "metadata": {},
   "outputs": [
    {
     "name": "stdout",
     "output_type": "stream",
     "text": [
      "{\"message\":\"Missing Authentication Token\"}"
     ]
    }
   ],
   "source": [
    "!curl -X POST  https://5oiulqb7cg.execute-api.us-east-1.amazonaws.com/default -d sample"
   ]
  },
  {
   "cell_type": "markdown",
   "metadata": {},
   "source": [
    "# Functional Code"
   ]
  },
  {
   "cell_type": "code",
   "execution_count": 43,
   "metadata": {},
   "outputs": [],
   "source": [
    "# define an empty list\n",
    "paths = []\n",
    "\n",
    "# open file and read the content in a list\n",
    "with open('incomplete_granules_for_conversion.txt', 'r') as filehandle:\n",
    "    for line in filehandle:\n",
    "        # remove linebreak which is the last character of the string\n",
    "        currentPlace = line[:-1]\n",
    "\n",
    "        # add item to the list\n",
    "        paths.append(currentPlace)"
   ]
  },
  {
   "cell_type": "code",
   "execution_count": 45,
   "metadata": {},
   "outputs": [],
   "source": [
    "base_command = [\n",
    "    'aws',\n",
    "    'lambda',\n",
    "    'invoke',\n",
    "    '--function-name',\n",
    "    'cb-raster-process',\n",
    "    '--payload',\n",
    "    'payload_dict_here',\n",
    "    'response.json'\n",
    "]\n",
    "\n",
    "for file in paths:\n",
    "\n",
    "    payload_dict = {'granule_path': file, 'dest_dir': r\"s3://canopy-production-ml/full_congo_basin/RGB/\"}\n",
    "    test_command = base_command.copy()\n",
    "    test_command[6] = json.dumps(payload_dict)\n",
    "    subprocess.run(test_command, capture_output=True)"
   ]
  },
  {
   "cell_type": "code",
   "execution_count": null,
   "metadata": {},
   "outputs": [],
   "source": []
  }
 ],
 "metadata": {
  "kernelspec": {
   "display_name": "infer-conda",
   "language": "python",
   "name": "infer-conda"
  },
  "language_info": {
   "codemirror_mode": {
    "name": "ipython",
    "version": 3
   },
   "file_extension": ".py",
   "mimetype": "text/x-python",
   "name": "python",
   "nbconvert_exporter": "python",
   "pygments_lexer": "ipython3",
   "version": "3.7.7"
  }
 },
 "nbformat": 4,
 "nbformat_minor": 4
}
