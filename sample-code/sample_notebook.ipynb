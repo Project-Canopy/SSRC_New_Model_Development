{
 "cells": [
  {
   "cell_type": "code",
   "execution_count": 1,
   "id": "bd347b6b",
   "metadata": {},
   "outputs": [
    {
     "name": "stderr",
     "output_type": "stream",
     "text": [
      "C:\\Anaconda3\\envs\\test_models\\lib\\site-packages\\scipy\\__init__.py:146: UserWarning: A NumPy version >=1.16.5 and <1.23.0 is required for this version of SciPy (detected version 1.23.1\n",
      "  warnings.warn(f\"A NumPy version >={np_minversion} and <{np_maxversion}\"\n"
     ]
    }
   ],
   "source": [
    "from dataloader import DataLoader"
   ]
  },
  {
   "cell_type": "code",
   "execution_count": 4,
   "id": "71dc1c5d",
   "metadata": {},
   "outputs": [],
   "source": [
    "training_dir = 'D:/canopy_data/s2cloudless_new_model/'\n",
    "label_file_path_train = 'DRC_labels_train_sample.csv'\n",
    "label_file_path_val = 'DRC_labels_val_sample.csv'"
   ]
  },
  {
   "cell_type": "code",
   "execution_count": 5,
   "id": "7306789c",
   "metadata": {},
   "outputs": [
    {
     "name": "stdout",
     "output_type": "stream",
     "text": [
      "label_file_path_train: DRC_labels_train_sample.csv\n",
      "labels_file_val: DRC_labels_val_sample.csv\n",
      "No data augmentation. Please set augment to True if you want to augment training dataset\n",
      "Training on 1189 images\n",
      "Validation on 396 images \n"
     ]
    }
   ],
   "source": [
    "gen = DataLoader(\n",
    "    training_dir=training_dir,\n",
    "    label_file_path_train=label_file_path_train,\n",
    "    label_file_path_val=label_file_path_val\n",
    ")"
   ]
  },
  {
   "cell_type": "code",
   "execution_count": null,
   "id": "f7bf8a50",
   "metadata": {},
   "outputs": [],
   "source": []
  }
 ],
 "metadata": {
  "kernelspec": {
   "display_name": "test-models",
   "language": "python",
   "name": "test_models"
  },
  "language_info": {
   "codemirror_mode": {
    "name": "ipython",
    "version": 3
   },
   "file_extension": ".py",
   "mimetype": "text/x-python",
   "name": "python",
   "nbconvert_exporter": "python",
   "pygments_lexer": "ipython3",
   "version": "3.9.12"
  }
 },
 "nbformat": 4,
 "nbformat_minor": 5
}
