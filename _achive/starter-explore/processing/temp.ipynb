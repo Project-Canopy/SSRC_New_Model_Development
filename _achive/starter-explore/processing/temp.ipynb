{
 "cells": [
  {
   "cell_type": "code",
   "execution_count": null,
   "metadata": {},
   "outputs": [],
   "source": [
    "from glob import glob\n",
    "import numpy as np\n",
    "import zarr"
   ]
  },
  {
   "cell_type": "code",
   "execution_count": 6,
   "metadata": {},
   "outputs": [],
   "source": [
    "def create_tf_dataset(path,chip_size=100,out_zarr_raster_path = 'example.zarr',out_zarr_label_path='labels.zarr'):\n",
    "    \n",
    "#     rast_arr = zarr.open_array(out_zarr_path, mode='w', shape=(47451,9,100,100),\n",
    "#                       chunks=(100, 100), dtype='i4', fill_value=0)\n",
    "    \n",
    "    label_arr = zarr.open_array(out_zarr_label_path, mode='w', shape=(47451), dtype='i4', fill_value=0)\n",
    "    \n",
    "    label_list = glob(f'{path}/*/')\n",
    "    \n",
    "    labels_map = {}\n",
    "    \n",
    "    labels = sorted([i.split(\"/\")[-2] for i in label_list])\n",
    "    \n",
    "    for i,label in enumerate(labels,1):\n",
    "        \n",
    "        labels_map[label] = i\n",
    "    \n",
    "    \n",
    "    tif_list = glob(f'{path}/*/{chip_size}/*/*.tif')\n",
    "    \n",
    "    \n",
    "    for raster_index,tif_path in enumerate(tif_list):\n",
    "        \n",
    "        print(f'Adding raster {raster_index + 1} of {len(tif_list)}', end=\"\\r\", flush=True)\n",
    "        \n",
    "        label = tif_path.split(\"/\")[-4]\n",
    "        \n",
    "        label_arr[raster_index] = labels_map[label]\n",
    "        \n",
    "#         with rio.open(tif_path, 'r') as r:\n",
    "#             rast = r.read()\n",
    "# # #             rast = np.float32(rast)\n",
    "#             z1[i] = rast\n",
    "            \n",
    "    return label_arr"
   ]
  },
  {
   "cell_type": "code",
   "execution_count": 7,
   "metadata": {},
   "outputs": [
    {
     "name": "stdout",
     "output_type": "stream",
     "text": [
      "Adding raster 47451 of 47451\r"
     ]
    },
    {
     "ename": "NameError",
     "evalue": "name 'labels_arr' is not defined",
     "output_type": "error",
     "traceback": [
      "\u001b[0;31m---------------------------------------------------------------------------\u001b[0m",
      "\u001b[0;31mNameError\u001b[0m                                 Traceback (most recent call last)",
      "\u001b[0;32m<ipython-input-7-0be28d3830fe>\u001b[0m in \u001b[0;36m<module>\u001b[0;34m\u001b[0m\n\u001b[1;32m      1\u001b[0m \u001b[0mpath\u001b[0m \u001b[0;34m=\u001b[0m \u001b[0;34m'/Volumes/Lacie/zhenyadata/Project_Canopy_Data/PC_Data/Sentinel_Data/Chips/misha_polygons_v8/yes/'\u001b[0m\u001b[0;34m\u001b[0m\u001b[0;34m\u001b[0m\u001b[0m\n\u001b[1;32m      2\u001b[0m \u001b[0;34m\u001b[0m\u001b[0m\n\u001b[0;32m----> 3\u001b[0;31m \u001b[0mcreate_tf_dataset\u001b[0m\u001b[0;34m(\u001b[0m\u001b[0mpath\u001b[0m\u001b[0;34m)\u001b[0m\u001b[0;34m\u001b[0m\u001b[0;34m\u001b[0m\u001b[0m\n\u001b[0m",
      "\u001b[0;32m<ipython-input-6-1a856a4972fc>\u001b[0m in \u001b[0;36mcreate_tf_dataset\u001b[0;34m(path, chip_size, out_zarr_raster_path, out_zarr_label_path)\u001b[0m\n\u001b[1;32m     33\u001b[0m \u001b[0;31m#             z1[i] = rast\u001b[0m\u001b[0;34m\u001b[0m\u001b[0;34m\u001b[0m\u001b[0;34m\u001b[0m\u001b[0m\n\u001b[1;32m     34\u001b[0m \u001b[0;34m\u001b[0m\u001b[0m\n\u001b[0;32m---> 35\u001b[0;31m     \u001b[0;32mreturn\u001b[0m \u001b[0mlabels_arr\u001b[0m\u001b[0;34m\u001b[0m\u001b[0;34m\u001b[0m\u001b[0m\n\u001b[0m",
      "\u001b[0;31mNameError\u001b[0m: name 'labels_arr' is not defined"
     ]
    }
   ],
   "source": [
    "path = '/Volumes/Lacie/zhenyadata/Project_Canopy_Data/PC_Data/Sentinel_Data/Chips/misha_polygons_v8/yes/'\n",
    "\n",
    "create_tf_dataset(path)"
   ]
  },
  {
   "cell_type": "code",
   "execution_count": 8,
   "metadata": {},
   "outputs": [],
   "source": [
    "out_zarr_label_path='labels.zarr'\n",
    "label_arr = zarr.open_array(out_zarr_label_path, mode='r')"
   ]
  },
  {
   "cell_type": "code",
   "execution_count": 11,
   "metadata": {},
   "outputs": [
    {
     "data": {
      "text/plain": [
       "5"
      ]
     },
     "execution_count": 11,
     "metadata": {},
     "output_type": "execute_result"
    }
   ],
   "source": [
    "label_arr[20000]"
   ]
  },
  {
   "cell_type": "code",
   "execution_count": null,
   "metadata": {},
   "outputs": [],
   "source": []
  }
 ],
 "metadata": {
  "kernelspec": {
   "display_name": "ml-conda",
   "language": "python",
   "name": "ml-conda"
  },
  "language_info": {
   "codemirror_mode": {
    "name": "ipython",
    "version": 3
   },
   "file_extension": ".py",
   "mimetype": "text/x-python",
   "name": "python",
   "nbconvert_exporter": "python",
   "pygments_lexer": "ipython3",
   "version": "3.7.7"
  }
 },
 "nbformat": 4,
 "nbformat_minor": 4
}
