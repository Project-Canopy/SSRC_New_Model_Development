{
 "cells": [
  {
   "cell_type": "code",
   "execution_count": 1,
   "metadata": {},
   "outputs": [],
   "source": [
    "import cortex\n",
    "import requests\n",
    "import time"
   ]
  },
  {
   "cell_type": "code",
   "execution_count": 2,
   "metadata": {},
   "outputs": [],
   "source": [
    "def gen_timestamp():\n",
    "        time_stamp = time.strftime(\"%Y-%m-%d-%H-%M-%S\", time.gmtime())\n",
    "        return time_stamp"
   ]
  },
  {
   "cell_type": "markdown",
   "metadata": {},
   "source": [
    "# Incomplete Gran Read"
   ]
  },
  {
   "cell_type": "code",
   "execution_count": 19,
   "metadata": {},
   "outputs": [],
   "source": [
    "# define an empty list\n",
    "paths = []\n",
    "\n",
    "# open file and read the content in a list\n",
    "with open('incomplete_granules_3257.txt', 'r') as filehandle:\n",
    "    for line in filehandle:\n",
    "        # remove linebreak which is the last character of the string\n",
    "        currentPlace = line[:-1]\n",
    "\n",
    "        # add item to the list\n",
    "        paths.append(currentPlace)"
   ]
  },
  {
   "cell_type": "markdown",
   "metadata": {},
   "source": [
    "# Post - Remaining Granules"
   ]
  },
  {
   "cell_type": "code",
   "execution_count": 20,
   "metadata": {},
   "outputs": [
    {
     "name": "stdout",
     "output_type": "stream",
     "text": [
      "http://ae36bae3b451d469d8b1f3e7cd1a0a21-eb7e7603ffae9185.elb.us-east-1.amazonaws.com/cb-feature-detection-3257\n",
      "{\"job_id\":\"697fb613d695d18e\",\"api_name\":\"cb-feature-detection-3257\",\"kind\":\"BatchAPI\",\"workers\":1,\"sqs_dead_letter_queue\":null,\"config\":{\"timestamp\":\"2021-05-18-22-32-24\"},\"timeout\":null,\"api_id\":\"6980c5e842a6e53f--c8f75f6125b785a30cfed49c9ec637a6\",\"sqs_url\":\"\",\"start_time\":\"2021-05-18T22:32:24.534328041Z\"}\n",
      "\n"
     ]
    }
   ],
   "source": [
    "cx = cortex.client(\"cortex\")\n",
    "batch_endpoint = cx.get_api(\"cb-feature-detection-3257\")[\"endpoint\"]\n",
    "print(batch_endpoint)\n",
    "\n",
    "job_spec = {\n",
    "      \n",
    "    \"workers\": 1,      \n",
    "    \"item_list\": {\n",
    "        \"items\": paths,\n",
    "        \"batch_size\": 1\n",
    "    }, \n",
    "    \"config\": {\n",
    "                \"timestamp\":gen_timestamp()\n",
    "  }\n",
    "}\n",
    "\n",
    "response = requests.post(batch_endpoint, json=job_spec)\n",
    "print(response.text)"
   ]
  },
  {
   "cell_type": "markdown",
   "metadata": {},
   "source": [
    "# Post - From Scratch"
   ]
  },
  {
   "cell_type": "code",
   "execution_count": 112,
   "metadata": {},
   "outputs": [
    {
     "name": "stdout",
     "output_type": "stream",
     "text": [
      "{\"job_id\":\"6980a29137d8964b\",\"api_name\":\"cb-feature-detection-4326\",\"kind\":\"BatchAPI\",\"workers\":1,\"sqs_dead_letter_queue\":null,\"config\":{\"timestamp\":\"2021-05-15-22-18-40\"},\"timeout\":null,\"api_id\":\"6980c595bf2e8714--22080c7d7376af4449ab568150f110a7\",\"sqs_url\":\"\",\"start_time\":\"2021-05-15T22:18:41.274596611Z\"}\n",
      "\n"
     ]
    }
   ],
   "source": [
    "cx = cortex.client(\"cortex\")\n",
    "batch_endpoint = cx.get_api(\"cb-feature-detection-4326\")[\"endpoint\"]\n",
    "\n",
    "job_spec = {\n",
    "      \n",
    "    \"workers\": 1,      \n",
    "    \"file_path_lister\": {\n",
    "        \"s3_paths\": [\"s3://canopy-production-ml/full_congo_basin/02.17.21_CB_GEE_Pull/\"],\n",
    "        \"batch_size\": 1\n",
    "    }, \n",
    "    \"config\": {\n",
    "                \"timestamp\":gen_timestamp()\n",
    "  }\n",
    "}\n",
    "\n",
    "response = requests.post(batch_endpoint, json=job_spec)\n",
    "print(response.text)"
   ]
  },
  {
   "cell_type": "code",
   "execution_count": null,
   "metadata": {},
   "outputs": [],
   "source": []
  }
 ],
 "metadata": {
  "kernelspec": {
   "display_name": "infer-conda",
   "language": "python",
   "name": "infer-conda"
  },
  "language_info": {
   "codemirror_mode": {
    "name": "ipython",
    "version": 3
   },
   "file_extension": ".py",
   "mimetype": "text/x-python",
   "name": "python",
   "nbconvert_exporter": "python",
   "pygments_lexer": "ipython3",
   "version": "3.7.7"
  }
 },
 "nbformat": 4,
 "nbformat_minor": 4
}
