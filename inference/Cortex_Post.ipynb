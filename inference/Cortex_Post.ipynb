{
 "cells": [
  {
   "cell_type": "code",
   "execution_count": 7,
   "metadata": {},
   "outputs": [],
   "source": [
    "import cortex\n",
    "import requests\n",
    "import time"
   ]
  },
  {
   "cell_type": "code",
   "execution_count": 8,
   "metadata": {},
   "outputs": [],
   "source": [
    "def gen_timestamp():\n",
    "        time_stamp = time.strftime(\"%Y-%m-%d-%H-%M-%S\", time.gmtime())\n",
    "        return time_stamp"
   ]
  },
  {
   "cell_type": "code",
   "execution_count": 12,
   "metadata": {},
   "outputs": [
    {
     "name": "stdout",
     "output_type": "stream",
     "text": [
      "{\"job_id\":\"69826b06ecda74aa\",\"api_name\":\"cb-feature-detection\",\"kind\":\"BatchAPI\",\"workers\":1,\"sqs_dead_letter_queue\":null,\"config\":{\"timestamp\":\"2021-05-10-02-53-57\"},\"timeout\":null,\"api_id\":\"69826b22103b452f--487af28cd5af03d6f59f20fc951d23c2\",\"spec_id\":\"487af28cd5af03d6f59f20fc951d23c2\",\"handler_id\":\"b8b4b7cc0dce7794fbce509e82d254159721685174914fb4ae84a28f13b209b\",\"sqs_url\":\"https://sqs.us-east-1.amazonaws.com/963659202518/cx_1ee11af4_b_cb-feature-detection_69826b06ecda74aa.fifo\",\"total_batch_count\":0,\"start_time\":\"2021-05-10T02:53:58.543149049Z\"}\n",
      "\n"
     ]
    }
   ],
   "source": [
    "cx = cortex.client(\"aws\")\n",
    "batch_endpoint = cx.get_api(\"cb-feature-detection\")[\"endpoint\"]\n",
    "\n",
    "\n",
    "job_spec = {\n",
    "      \n",
    "    \"workers\": 1,      \n",
    "    \"file_path_lister\": {\n",
    "        \"s3_paths\": [\"s3://canopy-production-ml/full_congo_basin/02.17.21_CB_GEE_Pull/\"],\n",
    "        \"batch_size\": 1\n",
    "    }, \n",
    "    \"config\": {\n",
    "                \"timestamp\":gen_timestamp()\n",
    "  }\n",
    "}\n",
    "\n",
    "response = requests.post(batch_endpoint, json=job_spec)\n",
    "print(response.text)"
   ]
  },
  {
   "cell_type": "code",
   "execution_count": null,
   "metadata": {},
   "outputs": [],
   "source": []
  }
 ],
 "metadata": {
  "kernelspec": {
   "display_name": "infer-conda",
   "language": "python",
   "name": "infer-conda"
  },
  "language_info": {
   "codemirror_mode": {
    "name": "ipython",
    "version": 3
   },
   "file_extension": ".py",
   "mimetype": "text/x-python",
   "name": "python",
   "nbconvert_exporter": "python",
   "pygments_lexer": "ipython3",
   "version": "3.7.7"
  }
 },
 "nbformat": 4,
 "nbformat_minor": 4
}
