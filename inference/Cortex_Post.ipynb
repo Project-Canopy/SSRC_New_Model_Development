{
 "cells": [
  {
   "cell_type": "code",
   "execution_count": 7,
   "metadata": {},
   "outputs": [],
   "source": [
    "import cortex\n",
    "import requests\n",
    "import time"
   ]
  },
  {
   "cell_type": "code",
   "execution_count": 13,
   "metadata": {},
   "outputs": [],
   "source": [
    "def gen_timestamp():\n",
    "        time_stamp = time.strftime(\"%Y-%m-%d-%H-%M-%S\", time.gmtime())\n",
    "        return time_stamp"
   ]
  },
  {
   "cell_type": "code",
   "execution_count": 71,
   "metadata": {},
   "outputs": [
    {
     "name": "stdout",
     "output_type": "stream",
     "text": [
      "{\"job_id\":\"69822a6067d3e4f0\",\"api_name\":\"cb-feature-detection\",\"kind\":\"BatchAPI\",\"workers\":1,\"sqs_dead_letter_queue\":null,\"config\":{\"timestamp\":\"2021-05-10-22-38-41\"},\"timeout\":null,\"api_id\":\"69822a61c3227385--da1ae06a5c63a983bf457f20c5bc17d5\",\"spec_id\":\"da1ae06a5c63a983bf457f20c5bc17d5\",\"handler_id\":\"39a6ae7c97585064b4389cdeafb1621aa80f4fb2622caf3c47f007b6457f9bf\",\"sqs_url\":\"https://sqs.us-east-1.amazonaws.com/963659202518/cx_1ee11af4_b_cb-feature-detection_69822a6067d3e4f0.fifo\",\"total_batch_count\":0,\"start_time\":\"2021-05-10T22:38:42.452059251Z\"}\n",
      "\n"
     ]
    }
   ],
   "source": [
    "cx = cortex.client(\"aws\")\n",
    "batch_endpoint = cx.get_api(\"cb-feature-detection\")[\"endpoint\"]\n",
    "\n",
    "\n",
    "job_spec = {\n",
    "      \n",
    "    \"workers\": 1,      \n",
    "    \"file_path_lister\": {\n",
    "        \"s3_paths\": [\"s3://canopy-production-ml/full_congo_basin/02.17.21_CB_GEE_Pull/\"],\n",
    "        \"batch_size\": 1\n",
    "    }, \n",
    "    \"config\": {\n",
    "                \"timestamp\":gen_timestamp()\n",
    "  }\n",
    "}\n",
    "\n",
    "response = requests.post(batch_endpoint, json=job_spec)\n",
    "print(response.text)"
   ]
  },
  {
   "cell_type": "markdown",
   "metadata": {},
   "source": [
    "# Sandbox"
   ]
  },
  {
   "cell_type": "code",
   "execution_count": 72,
   "metadata": {},
   "outputs": [],
   "source": [
    "import rasterio as rio"
   ]
  },
  {
   "cell_type": "code",
   "execution_count": 75,
   "metadata": {},
   "outputs": [
    {
     "data": {
      "text/plain": [
       "['Affine',\n",
       " 'Band',\n",
       " 'DatasetReader',\n",
       " 'DriverCapabilityError',\n",
       " 'Env',\n",
       " 'MemoryFile',\n",
       " 'NullHandler',\n",
       " 'Path',\n",
       " 'RasterioIOError',\n",
       " '__all__',\n",
       " '__builtins__',\n",
       " '__cached__',\n",
       " '__doc__',\n",
       " '__file__',\n",
       " '__gdal_version__',\n",
       " '__loader__',\n",
       " '__name__',\n",
       " '__package__',\n",
       " '__path__',\n",
       " '__spec__',\n",
       " '__version__',\n",
       " '_base',\n",
       " '_crs',\n",
       " '_env',\n",
       " '_err',\n",
       " '_features',\n",
       " '_io',\n",
       " '_shim',\n",
       " '_transform',\n",
       " '_warp',\n",
       " 'band',\n",
       " 'bool_',\n",
       " 'check_dtype',\n",
       " 'complex_',\n",
       " 'contextmanager',\n",
       " 'control',\n",
       " 'coords',\n",
       " 'crs',\n",
       " 'default_gtiff_profile',\n",
       " 'driver_from_extension',\n",
       " 'drivers',\n",
       " 'dtypes',\n",
       " 'ensure_env_with_credentials',\n",
       " 'enums',\n",
       " 'env',\n",
       " 'errors',\n",
       " 'float32',\n",
       " 'float64',\n",
       " 'gdal_version',\n",
       " 'get_writer_for_driver',\n",
       " 'get_writer_for_path',\n",
       " 'guard_transform',\n",
       " 'int16',\n",
       " 'int32',\n",
       " 'int8',\n",
       " 'io',\n",
       " 'is_blacklisted',\n",
       " 'log',\n",
       " 'logging',\n",
       " 'namedtuple',\n",
       " 'open',\n",
       " 'pad',\n",
       " 'parse_path',\n",
       " 'path',\n",
       " 'profiles',\n",
       " 'rasterio',\n",
       " 'rpc',\n",
       " 'sample',\n",
       " 'sbyte',\n",
       " 'session',\n",
       " 'transform',\n",
       " 'ubyte',\n",
       " 'uint16',\n",
       " 'uint32',\n",
       " 'uint8',\n",
       " 'vrt',\n",
       " 'windows']"
      ]
     },
     "execution_count": 75,
     "metadata": {},
     "output_type": "execute_result"
    }
   ],
   "source": [
    "dir(rio.rasterio)"
   ]
  },
  {
   "cell_type": "code",
   "execution_count": null,
   "metadata": {},
   "outputs": [],
   "source": []
  }
 ],
 "metadata": {
  "kernelspec": {
   "display_name": "infer-conda",
   "language": "python",
   "name": "infer-conda"
  },
  "language_info": {
   "codemirror_mode": {
    "name": "ipython",
    "version": 3
   },
   "file_extension": ".py",
   "mimetype": "text/x-python",
   "name": "python",
   "nbconvert_exporter": "python",
   "pygments_lexer": "ipython3",
   "version": "3.7.7"
  }
 },
 "nbformat": 4,
 "nbformat_minor": 4
}
