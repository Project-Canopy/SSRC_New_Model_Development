{
 "cells": [
  {
   "cell_type": "markdown",
   "metadata": {},
   "source": [
    "# Inference Data Mount"
   ]
  },
  {
   "cell_type": "code",
   "execution_count": 17,
   "metadata": {},
   "outputs": [
    {
     "name": "stdout",
     "output_type": "stream",
     "text": [
      "Password:\n"
     ]
    }
   ],
   "source": [
    "!sudo mount -t nfs4 -o nfsvers=4.1,rsize=1048576,wsize=1048576,hard,timeo=600,retrans=2,noresvport 172.31.91.151:/ ./efs_inference_data"
   ]
  },
  {
   "cell_type": "markdown",
   "metadata": {},
   "source": [
    "# For Docker Run / Sagemaker"
   ]
  },
  {
   "cell_type": "code",
   "execution_count": 3,
   "metadata": {},
   "outputs": [
    {
     "name": "stdout",
     "output_type": "stream",
     "text": [
      "zsh:1: no matches found: tensorflow-addons[tensorflow]\n"
     ]
    }
   ],
   "source": [
    "!pip install rasterio geopandas shapely tensorflow-addons[tensorflow]"
   ]
  },
  {
   "cell_type": "markdown",
   "metadata": {},
   "source": [
    "# Start Local / Sagemaker Imports"
   ]
  },
  {
   "cell_type": "code",
   "execution_count": 1,
   "metadata": {},
   "outputs": [],
   "source": [
    "import os\n",
    "import rasterio as rio\n",
    "import numpy as np\n",
    "from rasterio.windows import Window\n",
    "from glob import glob\n",
    "from shapely.geometry import Polygon\n",
    "from shapely.geometry import box\n",
    "import geopandas as gpd\n",
    "from rasterio.windows import get_data_window\n",
    "import rasterio as rio\n",
    "from inference_predict import *"
   ]
  },
  {
   "cell_type": "markdown",
   "metadata": {},
   "source": [
    "# Windowing"
   ]
  },
  {
   "cell_type": "code",
   "execution_count": 2,
   "metadata": {},
   "outputs": [],
   "source": [
    "def get_windows(img_dim, patch_size=(240, 240), stride=(240, 240)):\n",
    "    patch_size = np.array(patch_size)\n",
    "    stride = np.array(stride)\n",
    "    img_dim = np.array(img_dim)\n",
    "    # to take into account edges, add additional blocks around right side edge and bottom edge of raster\n",
    "    new_img_dim = [img_dim[0] + stride[0],img_dim[1] + stride[0]]\n",
    "    \n",
    "    max_dim = (new_img_dim//patch_size)*patch_size - patch_size\n",
    "\n",
    "    ys = np.arange(0, img_dim[0], stride[0])\n",
    "    xs = np.arange(0, img_dim[1], stride[1])\n",
    "\n",
    "    tlc = np.array(np.meshgrid(ys, xs)).T.reshape(-1, 2)\n",
    "    tlc = tlc[tlc[:, 0] <= max_dim[0]]\n",
    "    tlc = tlc[tlc[:, 1] <= max_dim[1]]\n",
    "    \n",
    "    windows = []\n",
    "    for y,x in tlc.astype(int):\n",
    "        windows.append(Window(x, y, patch_size[1], patch_size[0]))\n",
    "\n",
    "    return windows"
   ]
  },
  {
   "cell_type": "code",
   "execution_count": 3,
   "metadata": {},
   "outputs": [],
   "source": [
    "def add_ndvi(data, dtype_1=rio.float32):\n",
    "    \n",
    "    nir = data[3].astype(dtype_1)\n",
    "    red = data[0].astype(dtype_1)\n",
    "\n",
    "    # Allow division by zero\n",
    "    np.seterr(divide='ignore', invalid='ignore')\n",
    "\n",
    "    # Calculate NDVI\n",
    "    ndvi = np.zeros(nir.shape, dtype=dtype_1)\n",
    "    ndvi = ((nir - red) / (nir + red)).astype(dtype_1)\n",
    "\n",
    "    # Rescaling for use in 16bit output\n",
    "\n",
    "    ndvi = (ndvi + 1) * (2**15 - 1)\n",
    "\n",
    "    # Add NDVI band to end of array    \n",
    "    rast = np.concatenate((data,[ndvi]),axis=0)\n",
    "    \n",
    "    rast = rast.astype(rio.uint16)\n",
    "    \n",
    "    return rast\n"
   ]
  },
  {
   "cell_type": "markdown",
   "metadata": {},
   "source": [
    "# Download Model Files"
   ]
  },
  {
   "cell_type": "code",
   "execution_count": 4,
   "metadata": {},
   "outputs": [],
   "source": [
    "# model_url = \"s3://canopy-production-ml/inference/model_files/model-best.h5\"\n",
    "# weights_url = \"s3://canopy-production-ml/inference/model_files/model_weights_best.h5\"\n",
    "\n",
    "# download_model(model_url,weights_url)"
   ]
  },
  {
   "cell_type": "code",
   "execution_count": 5,
   "metadata": {},
   "outputs": [],
   "source": [
    "model = load_model(\"model.h5\",\"model_weights.h5\") "
   ]
  },
  {
   "cell_type": "code",
   "execution_count": 6,
   "metadata": {},
   "outputs": [],
   "source": [
    "label_list = [\"Industrial_agriculture\",\"ISL\",\"Mining\",\"Roads\",\"Shifting_cultivation\"]"
   ]
  },
  {
   "cell_type": "code",
   "execution_count": 43,
   "metadata": {},
   "outputs": [],
   "source": [
    "def output_windows(granule_dir,patch_size=100,\n",
    "                   stride=100,SAVE=False,SAVE_INDIVIDUAL=False,\n",
    "                   bands=[2, 3, 4, 8, 11, 12], \n",
    "                  model=model,\n",
    "                   predict_thresh=.5,\n",
    "                  label_list=label_list, \n",
    "                  job_name=\"test_inference\", \n",
    "                  output_filename=\"./inference_output/result.json\"):\n",
    "    \n",
    "    granule_list = glob(f'{granule_dir}/*.tif')\n",
    "    \n",
    "    output_dict = {}\n",
    "    \n",
    "    granule_id_list = []\n",
    "    \n",
    "    window_id_list = []\n",
    "    \n",
    "    window_geom_list = []\n",
    "    \n",
    "    data_list = []\n",
    "    \n",
    "    label_master_list = []\n",
    "    \n",
    "    gdf_list = []\n",
    "    \n",
    "    timestamp = gen_timestamp()\n",
    "    \n",
    "    for j,granule_path in enumerate(granule_list):\n",
    "        \n",
    "        granule_id = granule_path.split(\"/\")[-1].split(\"_\")[0]\n",
    "    \n",
    "        with rio.open(granule_path) as src:\n",
    "\n",
    "            windows = get_windows(src.shape, (patch_size, patch_size), (stride, stride))\n",
    "\n",
    "            for i, window in enumerate(windows):\n",
    "                \n",
    "                print(f\"predicting window {i + 1} of {len(windows)} of granulate {j + 1} of {len(granule_list)}\",end='\\r', flush=True)\n",
    "                \n",
    "                label_name_list = []\n",
    "                \n",
    "                window_id = i+1\n",
    "\n",
    "#                 granule_id_list.append(granule_id)\n",
    "\n",
    "#                 window_id_list.append(window_id)\n",
    "\n",
    "                #need to understand impact of \"masked\" argument for inference\n",
    "\n",
    "                data = src.read(bands,window=window, masked=True)\n",
    "\n",
    "                data = add_ndvi(data)\n",
    "        \n",
    "                shape = data.shape\n",
    "            \n",
    "                new_shape = (data.shape[0],patch_size,patch_size)\n",
    "            \n",
    "                if shape != new_shape:\n",
    "\n",
    "                    filled_array = np.full(new_shape, 0)\n",
    "                    filled_array[:shape[0],:shape[1],:shape[2]] = data\n",
    "                    data = filled_array\n",
    "                    window = Window(window.col_off,window.row_off,shape[2],shape[1])\n",
    "                    \n",
    "                    \n",
    "                #image pre-processing / inference\n",
    "                prediction = model.predict(read_image_tf_out(data))\n",
    "                prediction = np.where(prediction > predict_thresh, 1, 0)\n",
    "                prediction_i = np.where(prediction == 1)[1]\n",
    "                for i in prediction_i:\n",
    "                    label_name_list.append(label_list[i])\n",
    "                \n",
    "                label_master_list.append(label_name_list)\n",
    "                \n",
    "                #vectorizing raster bounds for visualization \n",
    "                window_bounds = rio.windows.bounds(window, src.transform, height=patch_size, width=patch_size)\n",
    "                geom = box(*window_bounds)\n",
    "                geom_coords = list(geom.exterior.coords)\n",
    "#                 window_geom_list.append(geom)\n",
    "                \n",
    "                #create or append to dict....\n",
    "                \n",
    "                if granule_id in output_dict:\n",
    "\n",
    "                    output_dict[granule_id].append({\"window_id\":window_id,\"polygon_coords\":geom_coords,\"labels\":label_name_list})\n",
    "\n",
    "\n",
    "                else:\n",
    "\n",
    "                    output_dict[granule_id] = [{\"window_id\":window_id,\"polygon_coords\":geom_coords,\"labels\":label_name_list}]\n",
    "        \n",
    "        save_to_s3(output_dict,output_filename,job_name,timestamp)\n",
    "        \n",
    "\n",
    "\n",
    "#             gdf = gpd.GeoDataFrame({\"granule_id\":granule_id_list,\"window_id\":window_id_list,\"geometry\":window_geom_list,\"labels\":label_master_list})\n",
    "#             gdf[\"labels\"] = gdf[\"labels\"].astype(str)\n",
    "\n",
    "#             gdf_list.append(gdf)\n",
    "            \n",
    "    return output_dict\n",
    "\n",
    "\n",
    "    #             if SAVE:\n",
    "\n",
    "    #                 if SAVE_INDIVIDUAL:\n",
    "    #                     meta = raster.meta.copy()\n",
    "    #                     # Get the window specific transform - IF we want to save windows independantly\n",
    "    #             #         trans = raster.window_transform(window)\n",
    "    #                     meta.update({\n",
    "    #             #                 'transform': trans,\n",
    "    #                             'dtype': src.dtype\n",
    "    #                         })\n",
    "\n",
    "    #                     with rasterio.open(f\"{out_path}/some_chip_{j}.tif\", 'w', **meta) as dest:\n",
    "    #                         dest.write(data)\n",
    "    #                 else:\n",
    "    #                     meta = raster.meta.copy()\n",
    "\n",
    "    #                     with rasterio.open(f\"{out_path}/some_chip_{j}.tif\", 'w+', **meta) as dest:\n",
    "    #                         dest.write(data, window=window)"
   ]
  },
  {
   "cell_type": "code",
   "execution_count": null,
   "metadata": {},
   "outputs": [
    {
     "name": "stdout",
     "output_type": "stream",
     "text": [
      "predicting window 322 of 1156 of granulate 4 of 188\r"
     ]
    }
   ],
   "source": [
    "# granule_dir = \"./efs_inference_data/\"\n",
    "granule_dir = \"/Volumes/Lacie/zhenyadata/Project_Canopy_Data/PC_Data/Sentinel_Data/Inference_Test\"\n",
    "\n",
    "output_dict = output_windows(granule_dir)"
   ]
  },
  {
   "cell_type": "code",
   "execution_count": 30,
   "metadata": {},
   "outputs": [
    {
     "data": {
      "text/plain": [
       "[(17.279094490038997, -3.718486287084347),\n",
       " (17.279094490038997, -3.709503134243152),\n",
       " (17.2701113371978, -3.709503134243152),\n",
       " (17.2701113371978, -3.718486287084347),\n",
       " (17.279094490038997, -3.718486287084347)]"
      ]
     },
     "execution_count": 30,
     "metadata": {},
     "output_type": "execute_result"
    }
   ],
   "source": [
    "list(output_dict.exterior.coords)"
   ]
  },
  {
   "cell_type": "code",
   "execution_count": 15,
   "metadata": {},
   "outputs": [
    {
     "data": {
      "text/plain": [
       "(358780, 4)"
      ]
     },
     "execution_count": 15,
     "metadata": {},
     "output_type": "execute_result"
    }
   ],
   "source": [
    "new_gdf.shape"
   ]
  },
  {
   "cell_type": "code",
   "execution_count": 8,
   "metadata": {},
   "outputs": [
    {
     "data": {
      "text/plain": [
       "<AxesSubplot:>"
      ]
     },
     "execution_count": 8,
     "metadata": {},
     "output_type": "execute_result"
    },
    {
     "data": {
      "image/png": "[encoded data removed]",
      "text/plain": [
       "<Figure size 432x288 with 1 Axes>"
      ]
     },
     "metadata": {
      "needs_background": "light"
     },
     "output_type": "display_data"
    }
   ],
   "source": [
    "gdf.plot()"
   ]
  },
  {
   "cell_type": "code",
   "execution_count": 16,
   "metadata": {},
   "outputs": [],
   "source": [
    "new_gdf.to_file(\"./inference_output/test.geojson\", driver='GeoJSON')"
   ]
  },
  {
   "cell_type": "code",
   "execution_count": 20,
   "metadata": {},
   "outputs": [],
   "source": [
    "gdf.to_file(\"./inference_output/test.geojson\", driver='GeoJSON')"
   ]
  },
  {
   "cell_type": "markdown",
   "metadata": {},
   "source": [
    "# Staging"
   ]
  },
  {
   "cell_type": "code",
   "execution_count": 58,
   "metadata": {},
   "outputs": [],
   "source": [
    "import time"
   ]
  },
  {
   "cell_type": "code",
   "execution_count": 12,
   "metadata": {},
   "outputs": [],
   "source": [
    "\n",
    "d = {}"
   ]
  },
  {
   "cell_type": "code",
   "execution_count": 13,
   "metadata": {},
   "outputs": [],
   "source": [
    "save_to_s3(d,\"result.json\",\"test_output\",gen_timestamp())"
   ]
  },
  {
   "cell_type": "code",
   "execution_count": 49,
   "metadata": {},
   "outputs": [],
   "source": []
  },
  {
   "cell_type": "code",
   "execution_count": 92,
   "metadata": {},
   "outputs": [
    {
     "data": {
      "text/plain": [
       "'2021-04-27-05-08-01'"
      ]
     },
     "execution_count": 92,
     "metadata": {},
     "output_type": "execute_result"
    }
   ],
   "source": [
    "\n",
    "\n"
   ]
  },
  {
   "cell_type": "code",
   "execution_count": null,
   "metadata": {},
   "outputs": [],
   "source": []
  }
 ],
 "metadata": {
  "kernelspec": {
   "display_name": "infer-conda",
   "language": "python",
   "name": "infer-conda"
  },
  "language_info": {
   "codemirror_mode": {
    "name": "ipython",
    "version": 3
   },
   "file_extension": ".py",
   "mimetype": "text/x-python",
   "name": "python",
   "nbconvert_exporter": "python",
   "pygments_lexer": "ipython3",
   "version": "3.9.4"
  }
 },
 "nbformat": 4,
 "nbformat_minor": 4
}
