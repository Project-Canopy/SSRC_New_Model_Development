{
 "cells": [
  {
   "cell_type": "code",
   "execution_count": 1,
   "metadata": {},
   "outputs": [],
   "source": [
    "# Generate Multiline Vector from Labelbox Labels\n",
    "\n",
    "from glob import glob\n",
    "import pandas as pd\n",
    "import json\n",
    "import rasterio as rio\n",
    "from shapely.geometry import LineString\n",
    "from shapely.geometry import Polygon\n",
    "from geopandas import GeoDataFrame\n",
    "import geopandas as gpd\n",
    "\n",
    "# Extract Chips\n",
    "\n",
    "import gdal\n",
    "import os\n",
    "\n",
    "# Create NDVI\n",
    "\n",
    "import numpy as np\n",
    "\n",
    "\n",
    "# Exporting Intersecting Chips\n",
    "\n",
    "from osgeo import gdal, osr, ogr\n",
    "from shutil import copyfile"
   ]
  },
  {
   "cell_type": "code",
   "execution_count": 2,
   "metadata": {},
   "outputs": [],
   "source": [
    "def convert_rasters(src_dir, dest_dir, epsg_format='EPSG:3257', windows=False):\n",
    "    \"\"\"Converts the rasters in the src_dir into a different EPSG format,\n",
    "    keeping the same folder structure and saving them in the dest_dir.\"\"\"\n",
    "\n",
    "    src_dir = add_trailing_slash(src_dir)\n",
    "    dest_dir = add_trailing_slash(dest_dir)\n",
    "    \n",
    "    # If the output folder doesn't exist, create it\n",
    "    create_dir(dest_dir)\n",
    "\n",
    "    input_files = glob(src_dir + '/*.tif')\n",
    "    # Keep track of how many files were converted\n",
    "    n = 1\n",
    "    total = len(input_files)\n",
    "    \n",
    "    for f in input_files:\n",
    "        print(f'processing file {n} of {total}', end=\"\\r\", flush=True)\n",
    "        \n",
    "        n += 1\n",
    "        \n",
    "        # The way we've set it up, we save each product into a numbered folder,\n",
    "        # depending on which layer it's in. To keep this structure, we need to\n",
    "        # pull out the folder number from the file path.\n",
    "        # How exactly to do this depends on if you're using Windows or not,\n",
    "        # since the path conventions are different.\n",
    "        if windows:\n",
    "            filename = f.split('\\\\')[-1]\n",
    "        else:\n",
    "            filename = f.split('/')[-1]\n",
    "            \n",
    "        # If the respective grouping folders are not available \n",
    "        create_dir(dest_dir)\n",
    "        \n",
    "        output_filepath = dest_dir + filename\n",
    "\n",
    "\n",
    "#         Finally, we convert\n",
    "        converted = gdal.Warp(output_filepath, [f],format='GTiff',\n",
    "                              dstSRS=epsg_format, resampleAlg='near')\n",
    "        converted = None\n",
    "        \n",
    "    print('Finished')"
   ]
  },
  {
   "cell_type": "code",
   "execution_count": null,
   "metadata": {},
   "outputs": [],
   "source": []
  }
 ],
 "metadata": {
  "kernelspec": {
   "display_name": "canopy-conda",
   "language": "python",
   "name": "canopy_conda"
  },
  "language_info": {
   "codemirror_mode": {
    "name": "ipython",
    "version": 3
   },
   "file_extension": ".py",
   "mimetype": "text/x-python",
   "name": "python",
   "nbconvert_exporter": "python",
   "pygments_lexer": "ipython3",
   "version": "3.8.5"
  }
 },
 "nbformat": 4,
 "nbformat_minor": 4
}
