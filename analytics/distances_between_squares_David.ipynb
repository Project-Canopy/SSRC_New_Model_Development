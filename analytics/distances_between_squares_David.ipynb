{
 "cells": [
  {
   "cell_type": "code",
   "execution_count": 1,
   "metadata": {},
   "outputs": [],
   "source": [
    "import geopandas as gpd\n",
    "from shapely.geometry import Polygon"
   ]
  },
  {
   "cell_type": "code",
   "execution_count": 2,
   "metadata": {},
   "outputs": [],
   "source": [
    "predictions_loc = 'D:/canopy_data/analysis/CB_ISL_Full_Predict_05242021.geojson'\n",
    "\n",
    "gdf = gpd.read_file(predictions_loc)"
   ]
  },
  {
   "cell_type": "code",
   "execution_count": 3,
   "metadata": {},
   "outputs": [
    {
     "data": {
      "text/html": [
       "<div>\n",
       "<style scoped>\n",
       "    .dataframe tbody tr th:only-of-type {\n",
       "        vertical-align: middle;\n",
       "    }\n",
       "\n",
       "    .dataframe tbody tr th {\n",
       "        vertical-align: top;\n",
       "    }\n",
       "\n",
       "    .dataframe thead th {\n",
       "        text-align: right;\n",
       "    }\n",
       "</style>\n",
       "<table border=\"1\" class=\"dataframe\">\n",
       "  <thead>\n",
       "    <tr style=\"text-align: right;\">\n",
       "      <th></th>\n",
       "      <th>geometry</th>\n",
       "    </tr>\n",
       "  </thead>\n",
       "  <tbody>\n",
       "    <tr>\n",
       "      <th>0</th>\n",
       "      <td>POLYGON ((25.28119 -3.40557, 25.28983 -3.40798...</td>\n",
       "    </tr>\n",
       "    <tr>\n",
       "      <th>1</th>\n",
       "      <td>POLYGON ((25.25050 -3.41571, 25.25913 -3.41812...</td>\n",
       "    </tr>\n",
       "    <tr>\n",
       "      <th>2</th>\n",
       "      <td>POLYGON ((25.25711 -3.15636, 25.26571 -3.15876...</td>\n",
       "    </tr>\n",
       "    <tr>\n",
       "      <th>3</th>\n",
       "      <td>POLYGON ((25.22033 -3.15541, 25.22893 -3.15781...</td>\n",
       "    </tr>\n",
       "    <tr>\n",
       "      <th>4</th>\n",
       "      <td>POLYGON ((25.26411 -2.99855, 25.27274 -3.00096...</td>\n",
       "    </tr>\n",
       "  </tbody>\n",
       "</table>\n",
       "</div>"
      ],
      "text/plain": [
       "                                            geometry\n",
       "0  POLYGON ((25.28119 -3.40557, 25.28983 -3.40798...\n",
       "1  POLYGON ((25.25050 -3.41571, 25.25913 -3.41812...\n",
       "2  POLYGON ((25.25711 -3.15636, 25.26571 -3.15876...\n",
       "3  POLYGON ((25.22033 -3.15541, 25.22893 -3.15781...\n",
       "4  POLYGON ((25.26411 -2.99855, 25.27274 -3.00096..."
      ]
     },
     "execution_count": 3,
     "metadata": {},
     "output_type": "execute_result"
    }
   ],
   "source": [
    "gdf.head()"
   ]
  },
  {
   "cell_type": "code",
   "execution_count": 4,
   "metadata": {},
   "outputs": [
    {
     "data": {
      "image/svg+xml": [
       "<svg xmlns=\"http://www.w3.org/2000/svg\" xmlns:xlink=\"http://www.w3.org/1999/xlink\" width=\"100.0\" height=\"100.0\" viewBox=\"25.280751533527692 -3.4084193583434623 0.011913397451607466 0.011967883787064704\" preserveAspectRatio=\"xMinYMin meet\"><g transform=\"matrix(1,0,0,-1,0,-6.80487083289986)\"><path fill-rule=\"evenodd\" fill=\"#66cc99\" stroke=\"#555555\" stroke-width=\"0.00023935767574129408\" opacity=\"0.6\" d=\"M 25.281194788482768,-3.405573329789303 L 25.28983163001777,-3.407976103388386 L 25.292221676024223,-3.399296828783552 L 25.283585990037892,-3.396894729511474 L 25.281194788482768,-3.405573329789303 z\" /></g></svg>"
      ],
      "text/plain": [
       "<shapely.geometry.polygon.Polygon at 0x2059cbae5b0>"
      ]
     },
     "execution_count": 4,
     "metadata": {},
     "output_type": "execute_result"
    }
   ],
   "source": [
    "poly1 = gdf.loc[0, 'geometry']\n",
    "\n",
    "poly1"
   ]
  },
  {
   "cell_type": "code",
   "execution_count": 5,
   "metadata": {},
   "outputs": [
    {
     "data": {
      "text/plain": [
       "shapely.geometry.polygon.Polygon"
      ]
     },
     "execution_count": 5,
     "metadata": {},
     "output_type": "execute_result"
    }
   ],
   "source": [
    "type(poly1)"
   ]
  },
  {
   "cell_type": "code",
   "execution_count": 6,
   "metadata": {},
   "outputs": [],
   "source": [
    "poly2 = gdf.loc[1, 'geometry']"
   ]
  },
  {
   "cell_type": "code",
   "execution_count": 7,
   "metadata": {},
   "outputs": [
    {
     "data": {
      "text/plain": [
       "0.02004283895346015"
      ]
     },
     "execution_count": 7,
     "metadata": {},
     "output_type": "execute_result"
    }
   ],
   "source": [
    "poly1.exterior.distance(poly2.exterior)"
   ]
  },
  {
   "cell_type": "code",
   "execution_count": 8,
   "metadata": {},
   "outputs": [],
   "source": [
    "gdf2 = gdf.to_crs('EPSG:3857')"
   ]
  },
  {
   "cell_type": "code",
   "execution_count": 11,
   "metadata": {},
   "outputs": [
    {
     "data": {
      "text/html": [
       "<div>\n",
       "<style scoped>\n",
       "    .dataframe tbody tr th:only-of-type {\n",
       "        vertical-align: middle;\n",
       "    }\n",
       "\n",
       "    .dataframe tbody tr th {\n",
       "        vertical-align: top;\n",
       "    }\n",
       "\n",
       "    .dataframe thead th {\n",
       "        text-align: right;\n",
       "    }\n",
       "</style>\n",
       "<table border=\"1\" class=\"dataframe\">\n",
       "  <thead>\n",
       "    <tr style=\"text-align: right;\">\n",
       "      <th></th>\n",
       "      <th>geometry</th>\n",
       "    </tr>\n",
       "  </thead>\n",
       "  <tbody>\n",
       "    <tr>\n",
       "      <th>0</th>\n",
       "      <td>POLYGON ((2814289.730 -379330.113, 2815251.179...</td>\n",
       "    </tr>\n",
       "    <tr>\n",
       "      <th>1</th>\n",
       "      <td>POLYGON ((2810872.469 -380461.015, 2811833.944...</td>\n",
       "    </tr>\n",
       "    <tr>\n",
       "      <th>2</th>\n",
       "      <td>POLYGON ((2811608.679 -351542.726, 2812566.029...</td>\n",
       "    </tr>\n",
       "    <tr>\n",
       "      <th>3</th>\n",
       "      <td>POLYGON ((2807513.991 -351436.033, 2808471.161...</td>\n",
       "    </tr>\n",
       "    <tr>\n",
       "      <th>4</th>\n",
       "      <td>POLYGON ((2812387.356 -333949.423, 2813349.103...</td>\n",
       "    </tr>\n",
       "  </tbody>\n",
       "</table>\n",
       "</div>"
      ],
      "text/plain": [
       "                                            geometry\n",
       "0  POLYGON ((2814289.730 -379330.113, 2815251.179...\n",
       "1  POLYGON ((2810872.469 -380461.015, 2811833.944...\n",
       "2  POLYGON ((2811608.679 -351542.726, 2812566.029...\n",
       "3  POLYGON ((2807513.991 -351436.033, 2808471.161...\n",
       "4  POLYGON ((2812387.356 -333949.423, 2813349.103..."
      ]
     },
     "execution_count": 11,
     "metadata": {},
     "output_type": "execute_result"
    }
   ],
   "source": [
    "gdf2.head()"
   ]
  },
  {
   "cell_type": "code",
   "execution_count": 12,
   "metadata": {},
   "outputs": [
    {
     "data": {
      "text/plain": [
       "2231.306021146834"
      ]
     },
     "execution_count": 12,
     "metadata": {},
     "output_type": "execute_result"
    }
   ],
   "source": [
    "gdf2.loc[0, 'geometry'].exterior.distance(gdf2.loc[1, 'geometry'].exterior)"
   ]
  },
  {
   "cell_type": "code",
   "execution_count": 17,
   "metadata": {},
   "outputs": [
    {
     "data": {
      "text/plain": [
       "132069"
      ]
     },
     "execution_count": 17,
     "metadata": {},
     "output_type": "execute_result"
    }
   ],
   "source": [
    "len(gdf2)"
   ]
  },
  {
   "cell_type": "code",
   "execution_count": 19,
   "metadata": {},
   "outputs": [
    {
     "name": "stdout",
     "output_type": "stream",
     "text": [
      "intersection found\n"
     ]
    }
   ],
   "source": [
    "i = 0\n",
    "j = 1\n",
    "while True:\n",
    "    print(f'i: {i}; j: {j}', end='\\r', flush=True)\n",
    "    poly1 = gdf2.loc[i, 'geometry']\n",
    "    poly2 = gdf2.loc[j, 'geometry']\n",
    "    if poly1.intersects(poly2):\n",
    "        print('intersection found')\n",
    "        break\n",
    "    else:\n",
    "        i += 1\n",
    "        j += 1"
   ]
  },
  {
   "cell_type": "code",
   "execution_count": 20,
   "metadata": {},
   "outputs": [
    {
     "data": {
      "text/plain": [
       "9"
      ]
     },
     "execution_count": 20,
     "metadata": {},
     "output_type": "execute_result"
    }
   ],
   "source": [
    "i"
   ]
  },
  {
   "cell_type": "code",
   "execution_count": 21,
   "metadata": {},
   "outputs": [
    {
     "data": {
      "text/plain": [
       "10"
      ]
     },
     "execution_count": 21,
     "metadata": {},
     "output_type": "execute_result"
    }
   ],
   "source": [
    "j"
   ]
  },
  {
   "cell_type": "code",
   "execution_count": 22,
   "metadata": {},
   "outputs": [],
   "source": [
    "poly1 = gdf2.loc[9, 'geometry']\n",
    "poly2 = gdf2.loc[10, 'geometry']"
   ]
  },
  {
   "cell_type": "code",
   "execution_count": 23,
   "metadata": {},
   "outputs": [
    {
     "data": {
      "text/plain": [
       "True"
      ]
     },
     "execution_count": 23,
     "metadata": {},
     "output_type": "execute_result"
    }
   ],
   "source": [
    "poly1.intersects(poly2)"
   ]
  },
  {
   "cell_type": "code",
   "execution_count": 25,
   "metadata": {},
   "outputs": [
    {
     "data": {
      "text/plain": [
       "0.0"
      ]
     },
     "execution_count": 25,
     "metadata": {},
     "output_type": "execute_result"
    }
   ],
   "source": [
    "poly1.exterior.distance(poly2.exterior)"
   ]
  },
  {
   "cell_type": "code",
   "execution_count": 26,
   "metadata": {},
   "outputs": [
    {
     "name": "stdout",
     "output_type": "stream",
     "text": [
      "i: 0\n",
      "j: 0\n",
      "j: 1\n",
      "j: 2\n",
      "i: 1\n",
      "j: 0\n",
      "j: 1\n",
      "j: 2\n",
      "i: 2\n",
      "j: 0\n",
      "j: 1\n",
      "j: 2\n",
      "i: 3\n",
      "j: 0\n",
      "j: 1\n",
      "j: 2\n"
     ]
    }
   ],
   "source": [
    "for i in range(10):\n",
    "    print('i:', i)\n",
    "    for j in range(10):\n",
    "        print('j:', j)\n",
    "        if j == 2:\n",
    "            break\n",
    "    if i == 3:\n",
    "        break"
   ]
  },
  {
   "cell_type": "code",
   "execution_count": 33,
   "metadata": {},
   "outputs": [],
   "source": [
    "def find_orphans(gdf, geom_column='geometry', max_distance=1000):\n",
    "    \n",
    "    is_orphan_col = [True] * len(gdf)\n",
    "    index_covered = []\n",
    "    \n",
    "    for i in range(len(gdf)):\n",
    "        print(f'Calculating polygon {i+1} of {len(gdf)}', end='\\r', flush=True)\n",
    "        if i not in index_covered:\n",
    "            is_orphan = True\n",
    "            poly1 = gdf.loc[i, geom_column]\n",
    "            for j in range(len(gdf)):\n",
    "                if i != j:\n",
    "                    poly2 = gdf.loc[j, geom_column]\n",
    "                    distance = poly1.exterior.distance(poly2.exterior)\n",
    "                    if (distance < max_distance) and (distance > 0):\n",
    "                        is_orphan_col[i] = False\n",
    "                        is_orphan_col[j] = False\n",
    "                        index_covered.append(j)\n",
    "                        break\n",
    "                    elif distance >= max_distance:\n",
    "                        continue\n",
    "                    else:\n",
    "                        if j in index_covered:\n",
    "                            j_is_orphan = is_orphan_col[j]\n",
    "                            if not j_is_orphan:\n",
    "                                is_orphan_col[i] = False\n",
    "                                break\n",
    "                            else:\n",
    "                                raise ValueError(f'ERROR -- i: {i} j: {j}')\n",
    "                        else:\n",
    "                            for k in range(len(gdf)):\n",
    "                                if (k != i) and (k != j):\n",
    "                                    poly3 = gdf.loc[k, geom_column]\n",
    "                                    distance1 = poly1.exterior.distance(poly3.exterior)\n",
    "                                    distance2 = poly2.exterior.distance(poly3.exterior)\n",
    "                                    if (distance1 < max_distance) or (distance2 < max_distance):\n",
    "                                        is_orphan_col[i] = False\n",
    "                                        is_orphan_col[j] = False\n",
    "                                        if k not in index_covered:\n",
    "                                            is_orphan_col[k] = False\n",
    "                                            index_covered.append(k)\n",
    "                                        else:\n",
    "                                            if is_orphan_col[k] == True:\n",
    "                                                raise ValueError(f'ERROR -- i: {i} j: {j} k: {k}')\n",
    "                                        break\n",
    "                            index_covered.append(j)\n",
    "                            break\n",
    "            index_covered.append(i)\n",
    "            \n",
    "    gdf['is_orphan'] = is_orphan_col\n",
    "    \n",
    "    return gdf"
   ]
  },
  {
   "cell_type": "code",
   "execution_count": 29,
   "metadata": {},
   "outputs": [
    {
     "data": {
      "text/html": [
       "<div>\n",
       "<style scoped>\n",
       "    .dataframe tbody tr th:only-of-type {\n",
       "        vertical-align: middle;\n",
       "    }\n",
       "\n",
       "    .dataframe tbody tr th {\n",
       "        vertical-align: top;\n",
       "    }\n",
       "\n",
       "    .dataframe thead th {\n",
       "        text-align: right;\n",
       "    }\n",
       "</style>\n",
       "<table border=\"1\" class=\"dataframe\">\n",
       "  <thead>\n",
       "    <tr style=\"text-align: right;\">\n",
       "      <th></th>\n",
       "      <th>geometry</th>\n",
       "    </tr>\n",
       "  </thead>\n",
       "  <tbody>\n",
       "    <tr>\n",
       "      <th>0</th>\n",
       "      <td>POLYGON ((2814289.730 -379330.113, 2815251.179...</td>\n",
       "    </tr>\n",
       "    <tr>\n",
       "      <th>1</th>\n",
       "      <td>POLYGON ((2810872.469 -380461.015, 2811833.944...</td>\n",
       "    </tr>\n",
       "    <tr>\n",
       "      <th>2</th>\n",
       "      <td>POLYGON ((2811608.679 -351542.726, 2812566.029...</td>\n",
       "    </tr>\n",
       "    <tr>\n",
       "      <th>3</th>\n",
       "      <td>POLYGON ((2807513.991 -351436.033, 2808471.161...</td>\n",
       "    </tr>\n",
       "    <tr>\n",
       "      <th>4</th>\n",
       "      <td>POLYGON ((2812387.356 -333949.423, 2813349.103...</td>\n",
       "    </tr>\n",
       "  </tbody>\n",
       "</table>\n",
       "</div>"
      ],
      "text/plain": [
       "                                            geometry\n",
       "0  POLYGON ((2814289.730 -379330.113, 2815251.179...\n",
       "1  POLYGON ((2810872.469 -380461.015, 2811833.944...\n",
       "2  POLYGON ((2811608.679 -351542.726, 2812566.029...\n",
       "3  POLYGON ((2807513.991 -351436.033, 2808471.161...\n",
       "4  POLYGON ((2812387.356 -333949.423, 2813349.103..."
      ]
     },
     "execution_count": 29,
     "metadata": {},
     "output_type": "execute_result"
    }
   ],
   "source": [
    "gdf3 = gdf2.copy()\n",
    "gdf3.head()"
   ]
  },
  {
   "cell_type": "code",
   "execution_count": 30,
   "metadata": {},
   "outputs": [
    {
     "data": {
      "text/plain": [
       "2231.306021146834"
      ]
     },
     "execution_count": 30,
     "metadata": {},
     "output_type": "execute_result"
    }
   ],
   "source": [
    "gdf3.loc[0, 'geometry'].exterior.distance(gdf3.loc[1, 'geometry'].exterior)"
   ]
  },
  {
   "cell_type": "code",
   "execution_count": 31,
   "metadata": {},
   "outputs": [
    {
     "data": {
      "text/plain": [
       "2231.306021146834"
      ]
     },
     "execution_count": 31,
     "metadata": {},
     "output_type": "execute_result"
    }
   ],
   "source": [
    "gdf3.loc[0, 'geometry'].distance(gdf3.loc[1, 'geometry'])"
   ]
  },
  {
   "cell_type": "code",
   "execution_count": 34,
   "metadata": {},
   "outputs": [
    {
     "name": "stdout",
     "output_type": "stream",
     "text": [
      "Calculating polygon 2140 of 132069\r"
     ]
    },
    {
     "ename": "KeyboardInterrupt",
     "evalue": "",
     "output_type": "error",
     "traceback": [
      "\u001b[1;31m---------------------------------------------------------------------------\u001b[0m",
      "\u001b[1;31mKeyboardInterrupt\u001b[0m                         Traceback (most recent call last)",
      "\u001b[1;32m<ipython-input-34-b603d80fa7ac>\u001b[0m in \u001b[0;36m<module>\u001b[1;34m\u001b[0m\n\u001b[1;32m----> 1\u001b[1;33m \u001b[0mgdf3\u001b[0m \u001b[1;33m=\u001b[0m \u001b[0mfind_orphans\u001b[0m\u001b[1;33m(\u001b[0m\u001b[0mgdf3\u001b[0m\u001b[1;33m)\u001b[0m\u001b[1;33m\u001b[0m\u001b[1;33m\u001b[0m\u001b[0m\n\u001b[0m",
      "\u001b[1;32m<ipython-input-33-f8e8a359a800>\u001b[0m in \u001b[0;36mfind_orphans\u001b[1;34m(gdf, geom_column, max_distance)\u001b[0m\n\u001b[0;32m     33\u001b[0m                                     \u001b[0mpoly3\u001b[0m \u001b[1;33m=\u001b[0m \u001b[0mgdf\u001b[0m\u001b[1;33m.\u001b[0m\u001b[0mloc\u001b[0m\u001b[1;33m[\u001b[0m\u001b[0mk\u001b[0m\u001b[1;33m,\u001b[0m \u001b[0mgeom_column\u001b[0m\u001b[1;33m]\u001b[0m\u001b[1;33m\u001b[0m\u001b[1;33m\u001b[0m\u001b[0m\n\u001b[0;32m     34\u001b[0m                                     \u001b[0mdistance1\u001b[0m \u001b[1;33m=\u001b[0m \u001b[0mpoly1\u001b[0m\u001b[1;33m.\u001b[0m\u001b[0mexterior\u001b[0m\u001b[1;33m.\u001b[0m\u001b[0mdistance\u001b[0m\u001b[1;33m(\u001b[0m\u001b[0mpoly3\u001b[0m\u001b[1;33m.\u001b[0m\u001b[0mexterior\u001b[0m\u001b[1;33m)\u001b[0m\u001b[1;33m\u001b[0m\u001b[1;33m\u001b[0m\u001b[0m\n\u001b[1;32m---> 35\u001b[1;33m                                     \u001b[0mdistance2\u001b[0m \u001b[1;33m=\u001b[0m \u001b[0mpoly2\u001b[0m\u001b[1;33m.\u001b[0m\u001b[0mexterior\u001b[0m\u001b[1;33m.\u001b[0m\u001b[0mdistance\u001b[0m\u001b[1;33m(\u001b[0m\u001b[0mpoly3\u001b[0m\u001b[1;33m.\u001b[0m\u001b[0mexterior\u001b[0m\u001b[1;33m)\u001b[0m\u001b[1;33m\u001b[0m\u001b[1;33m\u001b[0m\u001b[0m\n\u001b[0m\u001b[0;32m     36\u001b[0m                                     \u001b[1;32mif\u001b[0m \u001b[1;33m(\u001b[0m\u001b[0mdistance1\u001b[0m \u001b[1;33m<\u001b[0m \u001b[0mmax_distance\u001b[0m\u001b[1;33m)\u001b[0m \u001b[1;32mor\u001b[0m \u001b[1;33m(\u001b[0m\u001b[0mdistance2\u001b[0m \u001b[1;33m<\u001b[0m \u001b[0mmax_distance\u001b[0m\u001b[1;33m)\u001b[0m\u001b[1;33m:\u001b[0m\u001b[1;33m\u001b[0m\u001b[1;33m\u001b[0m\u001b[0m\n\u001b[0;32m     37\u001b[0m                                         \u001b[0mis_orphan_col\u001b[0m\u001b[1;33m[\u001b[0m\u001b[0mi\u001b[0m\u001b[1;33m]\u001b[0m \u001b[1;33m=\u001b[0m \u001b[1;32mFalse\u001b[0m\u001b[1;33m\u001b[0m\u001b[1;33m\u001b[0m\u001b[0m\n",
      "\u001b[1;32mC:\\Anaconda3\\envs\\canopy_conda\\lib\\site-packages\\shapely\\geometry\\base.py\u001b[0m in \u001b[0;36mdistance\u001b[1;34m(self, other)\u001b[0m\n\u001b[0;32m    442\u001b[0m     \u001b[1;32mdef\u001b[0m \u001b[0mdistance\u001b[0m\u001b[1;33m(\u001b[0m\u001b[0mself\u001b[0m\u001b[1;33m,\u001b[0m \u001b[0mother\u001b[0m\u001b[1;33m)\u001b[0m\u001b[1;33m:\u001b[0m\u001b[1;33m\u001b[0m\u001b[1;33m\u001b[0m\u001b[0m\n\u001b[0;32m    443\u001b[0m         \u001b[1;34m\"\"\"Unitless distance to other geometry (float)\"\"\"\u001b[0m\u001b[1;33m\u001b[0m\u001b[1;33m\u001b[0m\u001b[0m\n\u001b[1;32m--> 444\u001b[1;33m         \u001b[1;32mreturn\u001b[0m \u001b[0mself\u001b[0m\u001b[1;33m.\u001b[0m\u001b[0mimpl\u001b[0m\u001b[1;33m[\u001b[0m\u001b[1;34m'distance'\u001b[0m\u001b[1;33m]\u001b[0m\u001b[1;33m(\u001b[0m\u001b[0mself\u001b[0m\u001b[1;33m,\u001b[0m \u001b[0mother\u001b[0m\u001b[1;33m)\u001b[0m\u001b[1;33m\u001b[0m\u001b[1;33m\u001b[0m\u001b[0m\n\u001b[0m\u001b[0;32m    445\u001b[0m \u001b[1;33m\u001b[0m\u001b[0m\n\u001b[0;32m    446\u001b[0m     \u001b[1;32mdef\u001b[0m \u001b[0mhausdorff_distance\u001b[0m\u001b[1;33m(\u001b[0m\u001b[0mself\u001b[0m\u001b[1;33m,\u001b[0m \u001b[0mother\u001b[0m\u001b[1;33m)\u001b[0m\u001b[1;33m:\u001b[0m\u001b[1;33m\u001b[0m\u001b[1;33m\u001b[0m\u001b[0m\n",
      "\u001b[1;32mC:\\Anaconda3\\envs\\canopy_conda\\lib\\site-packages\\shapely\\topology.py\u001b[0m in \u001b[0;36m__call__\u001b[1;34m(self, this, other)\u001b[0m\n\u001b[0;32m     46\u001b[0m         \u001b[0mself\u001b[0m\u001b[1;33m.\u001b[0m\u001b[0m_validate\u001b[0m\u001b[1;33m(\u001b[0m\u001b[0mother\u001b[0m\u001b[1;33m,\u001b[0m \u001b[0mstop_prepared\u001b[0m\u001b[1;33m=\u001b[0m\u001b[1;32mTrue\u001b[0m\u001b[1;33m)\u001b[0m\u001b[1;33m\u001b[0m\u001b[1;33m\u001b[0m\u001b[0m\n\u001b[0;32m     47\u001b[0m         \u001b[0md\u001b[0m \u001b[1;33m=\u001b[0m \u001b[0mc_double\u001b[0m\u001b[1;33m(\u001b[0m\u001b[1;33m)\u001b[0m\u001b[1;33m\u001b[0m\u001b[1;33m\u001b[0m\u001b[0m\n\u001b[1;32m---> 48\u001b[1;33m         \u001b[0mretval\u001b[0m \u001b[1;33m=\u001b[0m \u001b[0mself\u001b[0m\u001b[1;33m.\u001b[0m\u001b[0mfn\u001b[0m\u001b[1;33m(\u001b[0m\u001b[0mthis\u001b[0m\u001b[1;33m.\u001b[0m\u001b[0m_geom\u001b[0m\u001b[1;33m,\u001b[0m \u001b[0mother\u001b[0m\u001b[1;33m.\u001b[0m\u001b[0m_geom\u001b[0m\u001b[1;33m,\u001b[0m \u001b[0mbyref\u001b[0m\u001b[1;33m(\u001b[0m\u001b[0md\u001b[0m\u001b[1;33m)\u001b[0m\u001b[1;33m)\u001b[0m\u001b[1;33m\u001b[0m\u001b[1;33m\u001b[0m\u001b[0m\n\u001b[0m\u001b[0;32m     49\u001b[0m         \u001b[1;32mreturn\u001b[0m \u001b[0md\u001b[0m\u001b[1;33m.\u001b[0m\u001b[0mvalue\u001b[0m\u001b[1;33m\u001b[0m\u001b[1;33m\u001b[0m\u001b[0m\n\u001b[0;32m     50\u001b[0m \u001b[1;33m\u001b[0m\u001b[0m\n",
      "\u001b[1;31mKeyboardInterrupt\u001b[0m: "
     ]
    }
   ],
   "source": [
    "gdf3 = find_orphans(gdf3)"
   ]
  },
  {
   "cell_type": "code",
   "execution_count": 35,
   "metadata": {},
   "outputs": [],
   "source": [
    "import scipy"
   ]
  },
  {
   "cell_type": "code",
   "execution_count": 101,
   "metadata": {},
   "outputs": [
    {
     "data": {
      "text/html": [
       "<div>\n",
       "<style scoped>\n",
       "    .dataframe tbody tr th:only-of-type {\n",
       "        vertical-align: middle;\n",
       "    }\n",
       "\n",
       "    .dataframe tbody tr th {\n",
       "        vertical-align: top;\n",
       "    }\n",
       "\n",
       "    .dataframe thead th {\n",
       "        text-align: right;\n",
       "    }\n",
       "</style>\n",
       "<table border=\"1\" class=\"dataframe\">\n",
       "  <thead>\n",
       "    <tr style=\"text-align: right;\">\n",
       "      <th></th>\n",
       "      <th>geometry</th>\n",
       "    </tr>\n",
       "  </thead>\n",
       "  <tbody>\n",
       "    <tr>\n",
       "      <th>0</th>\n",
       "      <td>POLYGON ((2814289.730 -379330.113, 2815251.179...</td>\n",
       "    </tr>\n",
       "    <tr>\n",
       "      <th>1</th>\n",
       "      <td>POLYGON ((2810872.469 -380461.015, 2811833.944...</td>\n",
       "    </tr>\n",
       "    <tr>\n",
       "      <th>2</th>\n",
       "      <td>POLYGON ((2811608.679 -351542.726, 2812566.029...</td>\n",
       "    </tr>\n",
       "    <tr>\n",
       "      <th>3</th>\n",
       "      <td>POLYGON ((2807513.991 -351436.033, 2808471.161...</td>\n",
       "    </tr>\n",
       "    <tr>\n",
       "      <th>4</th>\n",
       "      <td>POLYGON ((2812387.356 -333949.423, 2813349.103...</td>\n",
       "    </tr>\n",
       "  </tbody>\n",
       "</table>\n",
       "</div>"
      ],
      "text/plain": [
       "                                            geometry\n",
       "0  POLYGON ((2814289.730 -379330.113, 2815251.179...\n",
       "1  POLYGON ((2810872.469 -380461.015, 2811833.944...\n",
       "2  POLYGON ((2811608.679 -351542.726, 2812566.029...\n",
       "3  POLYGON ((2807513.991 -351436.033, 2808471.161...\n",
       "4  POLYGON ((2812387.356 -333949.423, 2813349.103..."
      ]
     },
     "execution_count": 101,
     "metadata": {},
     "output_type": "execute_result"
    }
   ],
   "source": [
    "test = gdf2.copy()\n",
    "\n",
    "test.head()"
   ]
  },
  {
   "cell_type": "code",
   "execution_count": 102,
   "metadata": {},
   "outputs": [
    {
     "data": {
      "text/html": [
       "<div>\n",
       "<style scoped>\n",
       "    .dataframe tbody tr th:only-of-type {\n",
       "        vertical-align: middle;\n",
       "    }\n",
       "\n",
       "    .dataframe tbody tr th {\n",
       "        vertical-align: top;\n",
       "    }\n",
       "\n",
       "    .dataframe thead th {\n",
       "        text-align: right;\n",
       "    }\n",
       "</style>\n",
       "<table border=\"1\" class=\"dataframe\">\n",
       "  <thead>\n",
       "    <tr style=\"text-align: right;\">\n",
       "      <th></th>\n",
       "      <th>geometry</th>\n",
       "    </tr>\n",
       "  </thead>\n",
       "  <tbody>\n",
       "    <tr>\n",
       "      <th>0</th>\n",
       "      <td>POLYGON ((2814289.730 -379330.113, 2815251.179...</td>\n",
       "    </tr>\n",
       "    <tr>\n",
       "      <th>2</th>\n",
       "      <td>POLYGON ((2811608.679 -351542.726, 2812566.029...</td>\n",
       "    </tr>\n",
       "    <tr>\n",
       "      <th>3</th>\n",
       "      <td>POLYGON ((2807513.991 -351436.033, 2808471.161...</td>\n",
       "    </tr>\n",
       "    <tr>\n",
       "      <th>4</th>\n",
       "      <td>POLYGON ((2812387.356 -333949.423, 2813349.103...</td>\n",
       "    </tr>\n",
       "    <tr>\n",
       "      <th>5</th>\n",
       "      <td>POLYGON ((2810997.665 -331476.596, 2811959.000...</td>\n",
       "    </tr>\n",
       "  </tbody>\n",
       "</table>\n",
       "</div>"
      ],
      "text/plain": [
       "                                            geometry\n",
       "0  POLYGON ((2814289.730 -379330.113, 2815251.179...\n",
       "2  POLYGON ((2811608.679 -351542.726, 2812566.029...\n",
       "3  POLYGON ((2807513.991 -351436.033, 2808471.161...\n",
       "4  POLYGON ((2812387.356 -333949.423, 2813349.103...\n",
       "5  POLYGON ((2810997.665 -331476.596, 2811959.000..."
      ]
     },
     "execution_count": 102,
     "metadata": {},
     "output_type": "execute_result"
    }
   ],
   "source": [
    "test = test.drop(1, axis=0)\n",
    "\n",
    "test.head()"
   ]
  },
  {
   "cell_type": "code",
   "execution_count": 103,
   "metadata": {},
   "outputs": [
    {
     "data": {
      "text/plain": [
       "array([[25.25601328, -3.41257879]])"
      ]
     },
     "execution_count": 103,
     "metadata": {},
     "output_type": "execute_result"
    }
   ],
   "source": [
    "import numpy as np\n",
    "\n",
    "\n",
    "np.array(gdf.loc[1, 'geometry'].centroid.coords)"
   ]
  },
  {
   "cell_type": "code",
   "execution_count": 104,
   "metadata": {},
   "outputs": [],
   "source": [
    "from scipy.spatial import cKDTree\n",
    "\n",
    "\n",
    "centroid = np.array(gdf.loc[1, 'geometry'].centroid.coords)"
   ]
  },
  {
   "cell_type": "code",
   "execution_count": 105,
   "metadata": {},
   "outputs": [
    {
     "data": {
      "text/plain": [
       "['__array_interface__',\n",
       " '__class__',\n",
       " '__delattr__',\n",
       " '__dict__',\n",
       " '__dir__',\n",
       " '__doc__',\n",
       " '__eq__',\n",
       " '__format__',\n",
       " '__ge__',\n",
       " '__getattribute__',\n",
       " '__getitem__',\n",
       " '__gt__',\n",
       " '__hash__',\n",
       " '__init__',\n",
       " '__init_subclass__',\n",
       " '__iter__',\n",
       " '__le__',\n",
       " '__len__',\n",
       " '__lt__',\n",
       " '__module__',\n",
       " '__ne__',\n",
       " '__new__',\n",
       " '__p__',\n",
       " '__reduce__',\n",
       " '__reduce_ex__',\n",
       " '__repr__',\n",
       " '__setattr__',\n",
       " '__sizeof__',\n",
       " '__str__',\n",
       " '__subclasshook__',\n",
       " '__weakref__',\n",
       " '_cseq',\n",
       " '_ndim',\n",
       " '_update',\n",
       " 'array_interface',\n",
       " 'ctypes',\n",
       " 'xy']"
      ]
     },
     "execution_count": 105,
     "metadata": {},
     "output_type": "execute_result"
    }
   ],
   "source": [
    "coords = gdf.loc[1, 'geometry'].centroid.coords\n",
    "\n",
    "dir(coords)"
   ]
  },
  {
   "cell_type": "code",
   "execution_count": 106,
   "metadata": {},
   "outputs": [
    {
     "name": "stdout",
     "output_type": "stream",
     "text": [
      "Help on CoordinateSequence in module shapely.coords object:\n",
      "\n",
      "class CoordinateSequence(builtins.object)\n",
      " |  CoordinateSequence(parent)\n",
      " |  \n",
      " |  Iterative access to coordinate tuples from the parent geometry's coordinate\n",
      " |  sequence.\n",
      " |  \n",
      " |  Example:\n",
      " |  \n",
      " |    >>> from shapely.wkt import loads\n",
      " |    >>> g = loads('POINT (0.0 0.0)')\n",
      " |    >>> list(g.coords)\n",
      " |    [(0.0, 0.0)]\n",
      " |  \n",
      " |  Methods defined here:\n",
      " |  \n",
      " |  __getitem__(self, key)\n",
      " |  \n",
      " |  __init__(self, parent)\n",
      " |      Initialize self.  See help(type(self)) for accurate signature.\n",
      " |  \n",
      " |  __iter__ = coordseq_iter(...)\n",
      " |  \n",
      " |  __len__(self)\n",
      " |  \n",
      " |  array_interface(self)\n",
      " |      Provide the Numpy array protocol.\n",
      " |  \n",
      " |  ----------------------------------------------------------------------\n",
      " |  Readonly properties defined here:\n",
      " |  \n",
      " |  __array_interface__\n",
      " |      Provide the Numpy array protocol.\n",
      " |  \n",
      " |  ctypes\n",
      " |  \n",
      " |  xy\n",
      " |      X and Y arrays\n",
      " |  \n",
      " |  ----------------------------------------------------------------------\n",
      " |  Data descriptors defined here:\n",
      " |  \n",
      " |  __dict__\n",
      " |      dictionary for instance variables (if defined)\n",
      " |  \n",
      " |  __weakref__\n",
      " |      list of weak references to the object (if defined)\n",
      " |  \n",
      " |  ----------------------------------------------------------------------\n",
      " |  Data and other attributes defined here:\n",
      " |  \n",
      " |  __p__ = None\n",
      "\n"
     ]
    }
   ],
   "source": [
    "help(coords)"
   ]
  },
  {
   "cell_type": "code",
   "execution_count": 107,
   "metadata": {},
   "outputs": [
    {
     "data": {
      "text/plain": [
       "[(25.256013281362332, -3.4125787880506455)]"
      ]
     },
     "execution_count": 107,
     "metadata": {},
     "output_type": "execute_result"
    }
   ],
   "source": [
    "coords = list(coords)\n",
    "\n",
    "coords"
   ]
  },
  {
   "cell_type": "code",
   "execution_count": 108,
   "metadata": {},
   "outputs": [
    {
     "data": {
      "text/plain": [
       "25.256013281362332"
      ]
     },
     "execution_count": 108,
     "metadata": {},
     "output_type": "execute_result"
    }
   ],
   "source": [
    "coords[0][0]"
   ]
  },
  {
   "cell_type": "code",
   "execution_count": 109,
   "metadata": {},
   "outputs": [],
   "source": [
    "def isolate_coords(shapely_coords):\n",
    "    x = list(shapely_coords)[0][0]\n",
    "    y = list(shapely_coords)[0][1]\n",
    "    return [x,y]"
   ]
  },
  {
   "cell_type": "code",
   "execution_count": 110,
   "metadata": {},
   "outputs": [
    {
     "data": {
      "text/plain": [
       "array([1, 2])"
      ]
     },
     "execution_count": 110,
     "metadata": {},
     "output_type": "execute_result"
    }
   ],
   "source": [
    "np.array((1, 2))"
   ]
  },
  {
   "cell_type": "code",
   "execution_count": 111,
   "metadata": {},
   "outputs": [
    {
     "data": {
      "text/plain": [
       "shapely.geometry.point.Point"
      ]
     },
     "execution_count": 111,
     "metadata": {},
     "output_type": "execute_result"
    }
   ],
   "source": [
    "type(gdf.loc[0, 'geometry'].centroid)"
   ]
  },
  {
   "cell_type": "code",
   "execution_count": 112,
   "metadata": {},
   "outputs": [
    {
     "data": {
      "text/html": [
       "<div>\n",
       "<style scoped>\n",
       "    .dataframe tbody tr th:only-of-type {\n",
       "        vertical-align: middle;\n",
       "    }\n",
       "\n",
       "    .dataframe tbody tr th {\n",
       "        vertical-align: top;\n",
       "    }\n",
       "\n",
       "    .dataframe thead th {\n",
       "        text-align: right;\n",
       "    }\n",
       "</style>\n",
       "<table border=\"1\" class=\"dataframe\">\n",
       "  <thead>\n",
       "    <tr style=\"text-align: right;\">\n",
       "      <th></th>\n",
       "      <th>geometry</th>\n",
       "      <th>centroids</th>\n",
       "    </tr>\n",
       "  </thead>\n",
       "  <tbody>\n",
       "    <tr>\n",
       "      <th>0</th>\n",
       "      <td>POLYGON ((2814289.730 -379330.113, 2815251.179...</td>\n",
       "      <td>POINT (2814903.516 -378980.179)</td>\n",
       "    </tr>\n",
       "    <tr>\n",
       "      <th>1</th>\n",
       "      <td>POLYGON ((2811608.679 -351542.726, 2812566.029...</td>\n",
       "      <td>POINT (2812220.057 -351194.493)</td>\n",
       "    </tr>\n",
       "    <tr>\n",
       "      <th>2</th>\n",
       "      <td>POLYGON ((2807513.991 -351436.033, 2808471.161...</td>\n",
       "      <td>POINT (2808125.572 -351088.185)</td>\n",
       "    </tr>\n",
       "    <tr>\n",
       "      <th>3</th>\n",
       "      <td>POLYGON ((2812387.356 -333949.423, 2813349.103...</td>\n",
       "      <td>POINT (2813001.481 -333599.529)</td>\n",
       "    </tr>\n",
       "    <tr>\n",
       "      <th>4</th>\n",
       "      <td>POLYGON ((2810997.665 -331476.596, 2811959.000...</td>\n",
       "      <td>POINT (2811611.635 -331126.961)</td>\n",
       "    </tr>\n",
       "  </tbody>\n",
       "</table>\n",
       "</div>"
      ],
      "text/plain": [
       "                                            geometry  \\\n",
       "0  POLYGON ((2814289.730 -379330.113, 2815251.179...   \n",
       "1  POLYGON ((2811608.679 -351542.726, 2812566.029...   \n",
       "2  POLYGON ((2807513.991 -351436.033, 2808471.161...   \n",
       "3  POLYGON ((2812387.356 -333949.423, 2813349.103...   \n",
       "4  POLYGON ((2810997.665 -331476.596, 2811959.000...   \n",
       "\n",
       "                         centroids  \n",
       "0  POINT (2814903.516 -378980.179)  \n",
       "1  POINT (2812220.057 -351194.493)  \n",
       "2  POINT (2808125.572 -351088.185)  \n",
       "3  POINT (2813001.481 -333599.529)  \n",
       "4  POINT (2811611.635 -331126.961)  "
      ]
     },
     "execution_count": 112,
     "metadata": {},
     "output_type": "execute_result"
    }
   ],
   "source": [
    "test = test.reset_index(drop=True)\n",
    "test['centroids'] = test['geometry'].apply(lambda x: x.centroid)\n",
    "\n",
    "test.head()"
   ]
  },
  {
   "cell_type": "code",
   "execution_count": 113,
   "metadata": {},
   "outputs": [],
   "source": [
    "ntest = np.array(list(test['centroids'].apply(lambda x: (x.x, x.y))))"
   ]
  },
  {
   "cell_type": "code",
   "execution_count": 114,
   "metadata": {},
   "outputs": [
    {
     "data": {
      "text/plain": [
       "array([[2814903.51640903, -378980.17927117],\n",
       "       [2812220.05679455, -351194.49311369],\n",
       "       [2808125.57188822, -351088.18527515],\n",
       "       ...,\n",
       "       [2915165.26623244,  404567.39313814],\n",
       "       [2915709.01510662,  410650.25103641],\n",
       "       [2915790.11465791,  418920.61193369]])"
      ]
     },
     "execution_count": 114,
     "metadata": {},
     "output_type": "execute_result"
    }
   ],
   "source": [
    "ntest"
   ]
  },
  {
   "cell_type": "code",
   "execution_count": 115,
   "metadata": {},
   "outputs": [
    {
     "data": {
      "text/plain": [
       "(132068, 2)"
      ]
     },
     "execution_count": 115,
     "metadata": {},
     "output_type": "execute_result"
    }
   ],
   "source": [
    "ntest.shape"
   ]
  },
  {
   "cell_type": "code",
   "execution_count": 116,
   "metadata": {},
   "outputs": [
    {
     "data": {
      "text/plain": [
       "array([25.25601328, -3.41257879])"
      ]
     },
     "execution_count": 116,
     "metadata": {},
     "output_type": "execute_result"
    }
   ],
   "source": [
    "centroid = gdf.loc[1, 'geometry'].centroid\n",
    "\n",
    "centroid_np = np.array([centroid.x, centroid.y])\n",
    "\n",
    "centroid_np"
   ]
  },
  {
   "cell_type": "code",
   "execution_count": 117,
   "metadata": {},
   "outputs": [
    {
     "data": {
      "text/plain": [
       "(974530.6228182899, 99123)"
      ]
     },
     "execution_count": 117,
     "metadata": {},
     "output_type": "execute_result"
    }
   ],
   "source": [
    "testtree = cKDTree(ntest)\n",
    "\n",
    "testtree.query(centroid_np, k=1)"
   ]
  },
  {
   "cell_type": "code",
   "execution_count": 121,
   "metadata": {},
   "outputs": [
    {
     "data": {
      "text/plain": [
       "974530.6228182899"
      ]
     },
     "execution_count": 121,
     "metadata": {},
     "output_type": "execute_result"
    }
   ],
   "source": [
    "test.loc[99123, 'centroids'].distance(centroid)"
   ]
  },
  {
   "cell_type": "code",
   "execution_count": 122,
   "metadata": {},
   "outputs": [
    {
     "data": {
      "text/plain": [
       "2840275.164581978"
      ]
     },
     "execution_count": 122,
     "metadata": {},
     "output_type": "execute_result"
    }
   ],
   "source": [
    "test.loc[0, 'centroids'].distance(centroid)"
   ]
  },
  {
   "cell_type": "code",
   "execution_count": 123,
   "metadata": {},
   "outputs": [
    {
     "data": {
      "text/plain": [
       "2231.306021146834"
      ]
     },
     "execution_count": 123,
     "metadata": {},
     "output_type": "execute_result"
    }
   ],
   "source": [
    "gdf2.loc[0, 'geometry'].distance(gdf2.loc[1, 'geometry'])"
   ]
  },
  {
   "cell_type": "code",
   "execution_count": 9,
   "metadata": {},
   "outputs": [
    {
     "data": {
      "text/plain": [
       "1863434.6863409418"
      ]
     },
     "execution_count": 9,
     "metadata": {},
     "output_type": "execute_result"
    }
   ],
   "source": [
    "gdf2.loc[99124, 'geometry'].distance(gdf2.loc[1, 'geometry'])"
   ]
  },
  {
   "cell_type": "code",
   "execution_count": 10,
   "metadata": {},
   "outputs": [
    {
     "data": {
      "text/plain": [
       "['__and__',\n",
       " '__array_interface__',\n",
       " '__bool__',\n",
       " '__class__',\n",
       " '__del__',\n",
       " '__delattr__',\n",
       " '__dict__',\n",
       " '__dir__',\n",
       " '__doc__',\n",
       " '__eq__',\n",
       " '__format__',\n",
       " '__ge__',\n",
       " '__geo_interface__',\n",
       " '__geom__',\n",
       " '__getattribute__',\n",
       " '__gt__',\n",
       " '__hash__',\n",
       " '__init__',\n",
       " '__init_subclass__',\n",
       " '__le__',\n",
       " '__lt__',\n",
       " '__module__',\n",
       " '__ne__',\n",
       " '__new__',\n",
       " '__nonzero__',\n",
       " '__or__',\n",
       " '__p__',\n",
       " '__reduce__',\n",
       " '__reduce_ex__',\n",
       " '__repr__',\n",
       " '__setattr__',\n",
       " '__setstate__',\n",
       " '__sizeof__',\n",
       " '__str__',\n",
       " '__sub__',\n",
       " '__subclasshook__',\n",
       " '__weakref__',\n",
       " '__xor__',\n",
       " '_crs',\n",
       " '_ctypes_data',\n",
       " '_exterior',\n",
       " '_geom',\n",
       " '_get_coords',\n",
       " '_interiors',\n",
       " '_is_empty',\n",
       " '_lgeos',\n",
       " '_ndim',\n",
       " '_other_owned',\n",
       " '_repr_svg_',\n",
       " '_set_coords',\n",
       " 'almost_equals',\n",
       " 'area',\n",
       " 'array_interface_base',\n",
       " 'boundary',\n",
       " 'bounds',\n",
       " 'buffer',\n",
       " 'centroid',\n",
       " 'contains',\n",
       " 'convex_hull',\n",
       " 'coords',\n",
       " 'covers',\n",
       " 'crosses',\n",
       " 'ctypes',\n",
       " 'difference',\n",
       " 'disjoint',\n",
       " 'distance',\n",
       " 'empty',\n",
       " 'envelope',\n",
       " 'equals',\n",
       " 'equals_exact',\n",
       " 'exterior',\n",
       " 'from_bounds',\n",
       " 'geom_type',\n",
       " 'geometryType',\n",
       " 'has_z',\n",
       " 'hausdorff_distance',\n",
       " 'impl',\n",
       " 'interiors',\n",
       " 'interpolate',\n",
       " 'intersection',\n",
       " 'intersects',\n",
       " 'is_closed',\n",
       " 'is_empty',\n",
       " 'is_ring',\n",
       " 'is_simple',\n",
       " 'is_valid',\n",
       " 'length',\n",
       " 'minimum_clearance',\n",
       " 'minimum_rotated_rectangle',\n",
       " 'overlaps',\n",
       " 'project',\n",
       " 'relate',\n",
       " 'relate_pattern',\n",
       " 'representative_point',\n",
       " 'simplify',\n",
       " 'svg',\n",
       " 'symmetric_difference',\n",
       " 'to_wkb',\n",
       " 'to_wkt',\n",
       " 'touches',\n",
       " 'type',\n",
       " 'union',\n",
       " 'within',\n",
       " 'wkb',\n",
       " 'wkb_hex',\n",
       " 'wkt',\n",
       " 'xy']"
      ]
     },
     "execution_count": 10,
     "metadata": {},
     "output_type": "execute_result"
    }
   ],
   "source": [
    "geom_test = gdf2.drop(1, axis=0)\n",
    "geom_test = geom_test.reset_index(drop=True)\n",
    "\n",
    "poly_test = geom_test.loc[0, 'geometry']\n",
    "\n",
    "dir(poly_test)"
   ]
  },
  {
   "cell_type": "code",
   "execution_count": 13,
   "metadata": {},
   "outputs": [
    {
     "data": {
      "text/plain": [
       "shapely.geometry.polygon.Polygon"
      ]
     },
     "execution_count": 13,
     "metadata": {},
     "output_type": "execute_result"
    }
   ],
   "source": [
    "type(poly_test)"
   ]
  },
  {
   "cell_type": "code",
   "execution_count": 27,
   "metadata": {},
   "outputs": [
    {
     "data": {
      "text/plain": [
       "(array('d', [2814289.730499463, 2815251.179301202, 2815517.238005613, 2814555.917838964, 2814289.730499463]),\n",
       " array('d', [-379330.11261691555, -379598.0616677635, -378630.1819574106, -378362.3105175986, -379330.11261691555]))"
      ]
     },
     "execution_count": 27,
     "metadata": {},
     "output_type": "execute_result"
    }
   ],
   "source": [
    "poly_test.exterior.xy"
   ]
  },
  {
   "cell_type": "code",
   "execution_count": 28,
   "metadata": {},
   "outputs": [
    {
     "data": {
      "text/html": [
       "<div>\n",
       "<style scoped>\n",
       "    .dataframe tbody tr th:only-of-type {\n",
       "        vertical-align: middle;\n",
       "    }\n",
       "\n",
       "    .dataframe tbody tr th {\n",
       "        vertical-align: top;\n",
       "    }\n",
       "\n",
       "    .dataframe thead th {\n",
       "        text-align: right;\n",
       "    }\n",
       "</style>\n",
       "<table border=\"1\" class=\"dataframe\">\n",
       "  <thead>\n",
       "    <tr style=\"text-align: right;\">\n",
       "      <th></th>\n",
       "      <th>geometry</th>\n",
       "      <th>xy</th>\n",
       "    </tr>\n",
       "  </thead>\n",
       "  <tbody>\n",
       "    <tr>\n",
       "      <th>0</th>\n",
       "      <td>POLYGON ((2814289.730 -379330.113, 2815251.179...</td>\n",
       "      <td>([2814289.730499463, 2815251.179301202, 281551...</td>\n",
       "    </tr>\n",
       "    <tr>\n",
       "      <th>1</th>\n",
       "      <td>POLYGON ((2811608.679 -351542.726, 2812566.029...</td>\n",
       "      <td>([2811608.6791508496, 2812566.0289998236, 2812...</td>\n",
       "    </tr>\n",
       "    <tr>\n",
       "      <th>2</th>\n",
       "      <td>POLYGON ((2807513.991 -351436.033, 2808471.161...</td>\n",
       "      <td>([2807513.990624413, 2808471.1612146134, 28087...</td>\n",
       "    </tr>\n",
       "    <tr>\n",
       "      <th>3</th>\n",
       "      <td>POLYGON ((2812387.356 -333949.423, 2813349.103...</td>\n",
       "      <td>([2812387.356224119, 2813349.1029678765, 28136...</td>\n",
       "    </tr>\n",
       "    <tr>\n",
       "      <th>4</th>\n",
       "      <td>POLYGON ((2810997.665 -331476.596, 2811959.000...</td>\n",
       "      <td>([2810997.6652544616, 2811959.000165086, 28122...</td>\n",
       "    </tr>\n",
       "  </tbody>\n",
       "</table>\n",
       "</div>"
      ],
      "text/plain": [
       "                                            geometry  \\\n",
       "0  POLYGON ((2814289.730 -379330.113, 2815251.179...   \n",
       "1  POLYGON ((2811608.679 -351542.726, 2812566.029...   \n",
       "2  POLYGON ((2807513.991 -351436.033, 2808471.161...   \n",
       "3  POLYGON ((2812387.356 -333949.423, 2813349.103...   \n",
       "4  POLYGON ((2810997.665 -331476.596, 2811959.000...   \n",
       "\n",
       "                                                  xy  \n",
       "0  ([2814289.730499463, 2815251.179301202, 281551...  \n",
       "1  ([2811608.6791508496, 2812566.0289998236, 2812...  \n",
       "2  ([2807513.990624413, 2808471.1612146134, 28087...  \n",
       "3  ([2812387.356224119, 2813349.1029678765, 28136...  \n",
       "4  ([2810997.6652544616, 2811959.000165086, 28122...  "
      ]
     },
     "execution_count": 28,
     "metadata": {},
     "output_type": "execute_result"
    }
   ],
   "source": [
    "geom_test['xy'] = geom_test['geometry'].apply(lambda x:x.exterior.xy)\n",
    "\n",
    "geom_test.head()"
   ]
  },
  {
   "cell_type": "code",
   "execution_count": 33,
   "metadata": {},
   "outputs": [],
   "source": [
    "def flatten_xys(arr):\n",
    "    l = []\n",
    "    for i in range(2):\n",
    "        for j in range(4):\n",
    "            l.append(arr[i][j])\n",
    "            \n",
    "    return np.array(l)"
   ]
  },
  {
   "cell_type": "code",
   "execution_count": 34,
   "metadata": {},
   "outputs": [
    {
     "data": {
      "text/plain": [
       "array([[2814289.73049946, 2815251.1793012 , 2815517.23800561, ...,\n",
       "        -379598.06166776, -378630.18195741, -378362.3105176 ],\n",
       "       [2811608.67915085, 2812566.02899982, 2812831.37068877, ...,\n",
       "        -351809.95337053, -350846.19663758, -350579.04643975],\n",
       "       [2807513.99062441, 2808471.16121461, 2808737.08945191, ...,\n",
       "        -351703.850592  , -350740.27418288, -350472.53361994],\n",
       "       ...,\n",
       "       [2914556.63290234, 2915522.2644929 , 2915773.83406771, ...,\n",
       "         403954.70150139,  404926.78579796,  405180.07307282],\n",
       "       [2915100.96508265, 2916065.73819173, 2916316.99974888, ...,\n",
       "         410038.147077  ,  411009.36637758,  411262.34332563],\n",
       "       [2915182.82147786, 2916146.40368866, 2916397.34261698, ...,\n",
       "         418309.27051842,  419279.2899084 ,  419531.94170899]])"
      ]
     },
     "execution_count": 34,
     "metadata": {},
     "output_type": "execute_result"
    }
   ],
   "source": [
    "import numpy as np\n",
    "\n",
    "\n",
    "ntest2 = np.array(list(geom_test['xy'].apply(flatten_xys)))\n",
    "\n",
    "ntest2"
   ]
  },
  {
   "cell_type": "code",
   "execution_count": 35,
   "metadata": {},
   "outputs": [
    {
     "data": {
      "text/plain": [
       "(132068, 8)"
      ]
     },
     "execution_count": 35,
     "metadata": {},
     "output_type": "execute_result"
    }
   ],
   "source": [
    "ntest2.shape"
   ]
  },
  {
   "cell_type": "code",
   "execution_count": 36,
   "metadata": {},
   "outputs": [],
   "source": [
    "from scipy.spatial import cKDTree\n",
    "\n",
    "\n",
    "testtree2 = cKDTree(ntest2)"
   ]
  },
  {
   "cell_type": "code",
   "execution_count": 37,
   "metadata": {},
   "outputs": [
    {
     "data": {
      "text/plain": [
       "array([2810872.46928036, 2811833.94368463, 2812100.54266758,\n",
       "       2811139.19686245, -380461.01459123, -380729.50757291,\n",
       "       -379761.60212634, -379493.18691521])"
      ]
     },
     "execution_count": 37,
     "metadata": {},
     "output_type": "execute_result"
    }
   ],
   "source": [
    "test_poly = flatten_xys(gdf2.loc[1, 'geometry'].exterior.xy)\n",
    "\n",
    "test_poly"
   ]
  },
  {
   "cell_type": "code",
   "execution_count": 45,
   "metadata": {},
   "outputs": [
    {
     "data": {
      "text/plain": [
       "(5798.102482413417, 128487)"
      ]
     },
     "execution_count": 45,
     "metadata": {},
     "output_type": "execute_result"
    }
   ],
   "source": [
    "testtree2.query(test_poly, k=1)"
   ]
  },
  {
   "cell_type": "code",
   "execution_count": 39,
   "metadata": {},
   "outputs": [
    {
     "data": {
      "text/plain": [
       "2231.306021146834"
      ]
     },
     "execution_count": 39,
     "metadata": {},
     "output_type": "execute_result"
    }
   ],
   "source": [
    "gdf2.loc[0, 'geometry'].distance(gdf2.loc[1, 'geometry'])"
   ]
  },
  {
   "cell_type": "code",
   "execution_count": 40,
   "metadata": {},
   "outputs": [
    {
     "data": {
      "text/plain": [
       "1489.2613747716432"
      ]
     },
     "execution_count": 40,
     "metadata": {},
     "output_type": "execute_result"
    }
   ],
   "source": [
    "gdf2.loc[1, 'geometry'].distance(gdf2.loc[128488, 'geometry'])"
   ]
  },
  {
   "cell_type": "code",
   "execution_count": 41,
   "metadata": {},
   "outputs": [
    {
     "name": "stdout",
     "output_type": "stream",
     "text": [
      "Row 132069 of 132069\r"
     ]
    }
   ],
   "source": [
    "min_distance = 9999999\n",
    "min_index = -1\n",
    "\n",
    "for i in range(len(gdf2)):\n",
    "    print(f'Row {i+1} of {len(gdf2)}', end='\\r', flush=True)\n",
    "    if i != 1:\n",
    "        distance = gdf2.loc[1, 'geometry'].distance(gdf2.loc[i, 'geometry'])\n",
    "        if distance < min_distance:\n",
    "            min_distance = distance\n",
    "            min_index = i"
   ]
  },
  {
   "cell_type": "code",
   "execution_count": 42,
   "metadata": {},
   "outputs": [
    {
     "data": {
      "text/plain": [
       "128488"
      ]
     },
     "execution_count": 42,
     "metadata": {},
     "output_type": "execute_result"
    }
   ],
   "source": [
    "min_index"
   ]
  },
  {
   "cell_type": "code",
   "execution_count": 43,
   "metadata": {},
   "outputs": [
    {
     "data": {
      "text/plain": [
       "1489.2613747716432"
      ]
     },
     "execution_count": 43,
     "metadata": {},
     "output_type": "execute_result"
    }
   ],
   "source": [
    "min_distance"
   ]
  },
  {
   "cell_type": "code",
   "execution_count": 46,
   "metadata": {},
   "outputs": [],
   "source": [
    "def flatten_xys(arr):\n",
    "    l = []\n",
    "    for i in range(2):\n",
    "        for j in range(4):\n",
    "            l.append(arr[i][j])\n",
    "            \n",
    "    return np.array(l)\n",
    "\n",
    "\n",
    "def make_ckdtree(gdf, geom_column='geometry'):\n",
    "    gdf2 = gdf.copy()\n",
    "    gdf2['xy'] = gdf2[geom_column].apply(lambda x:x.exterior.xy)\n",
    "    n = np.array(list(gdf2['xy'].apply(flatten_xys)))\n",
    "    return cKDTree(n)"
   ]
  },
  {
   "cell_type": "code",
   "execution_count": 47,
   "metadata": {},
   "outputs": [],
   "source": [
    "gdf5 = gdf2.copy()\n",
    "\n",
    "tree = make_ckdtree(gdf5)"
   ]
  },
  {
   "cell_type": "code",
   "execution_count": 52,
   "metadata": {},
   "outputs": [
    {
     "data": {
      "text/plain": [
       "(0.0, 17)"
      ]
     },
     "execution_count": 52,
     "metadata": {},
     "output_type": "execute_result"
    }
   ],
   "source": [
    "poly = gdf5.loc[17, 'geometry']\n",
    "\n",
    "poly_arr = flatten_xys(poly.exterior.xy)\n",
    "\n",
    "tree.query(poly_arr, k=1)"
   ]
  },
  {
   "cell_type": "code",
   "execution_count": 53,
   "metadata": {},
   "outputs": [
    {
     "data": {
      "text/plain": [
       "(array([   0.        , 1997.87533109]), array([17, 14]))"
      ]
     },
     "execution_count": 53,
     "metadata": {},
     "output_type": "execute_result"
    }
   ],
   "source": [
    "tree.query(poly_arr, k=2)"
   ]
  },
  {
   "cell_type": "code",
   "execution_count": 55,
   "metadata": {},
   "outputs": [
    {
     "name": "stdout",
     "output_type": "stream",
     "text": [
      "Min index: 14 132069\n",
      "Min distance: 0.0\n"
     ]
    }
   ],
   "source": [
    "min_distance = 9999999\n",
    "min_index = -1\n",
    "\n",
    "for i in range(len(gdf2)):\n",
    "    print(f'Row {i+1} of {len(gdf2)}', end='\\r', flush=True)\n",
    "    if i != 17:\n",
    "        distance = gdf2.loc[17, 'geometry'].distance(gdf2.loc[i, 'geometry'])\n",
    "        if distance < min_distance:\n",
    "            min_distance = distance\n",
    "            min_index = i\n",
    "\n",
    "print('Min index:', min_index)\n",
    "print('Min distance:', min_distance)"
   ]
  },
  {
   "cell_type": "code",
   "execution_count": 57,
   "metadata": {},
   "outputs": [
    {
     "data": {
      "text/plain": [
       "14"
      ]
     },
     "execution_count": 57,
     "metadata": {},
     "output_type": "execute_result"
    }
   ],
   "source": [
    "tree.query(poly_arr, k=2)[1][1]"
   ]
  },
  {
   "cell_type": "code",
   "execution_count": 59,
   "metadata": {},
   "outputs": [
    {
     "data": {
      "text/plain": [
       "18"
      ]
     },
     "execution_count": 59,
     "metadata": {},
     "output_type": "execute_result"
    }
   ],
   "source": [
    "tree.query(poly_arr, k=3)[1][2]"
   ]
  },
  {
   "cell_type": "code",
   "execution_count": 60,
   "metadata": {},
   "outputs": [],
   "source": [
    "# https://gis.stackexchange.com/questions/222315/geopandas-find-nearest-point-in-other-dataframe\n",
    "\n",
    "def find_orphans_new(gdf, geom_column='geometry', max_distance=1000):\n",
    "    \n",
    "    tree = make_ckdtree(gdf, geom_column)\n",
    "    \n",
    "    is_orphan = [True] * len(gdf)\n",
    "    index_covered = []\n",
    "    \n",
    "    for i in range(len(gdf)):\n",
    "        print(f'Analyzing row {i+1} of {len(gdf)}', end='\\r', flush=True)\n",
    "        if i not in index_covered:\n",
    "            poly = gdf.loc[i, geom_column]\n",
    "            poly_arr = flatten_xys(poly.exterior.xy)\n",
    "            closest_index = tree.query(poly_arr, k=2)[1][1]\n",
    "            closest_poly = gdf.loc[closest_index, geom_column]\n",
    "            distance = poly.distance(closest_poly)\n",
    "\n",
    "            if distance >= max_distance:\n",
    "                continue\n",
    "\n",
    "            elif distance == 0:\n",
    "                poly_arr_2 = flatten_xys(closest_poly.exterior.xy)\n",
    "                closest_index_1 = tree.query(poly_arr, k=3)[1][2]\n",
    "                closest_index_2 = tree.query(poly_arr_2, k=3)[1][2]\n",
    "                closest_poly_1 = gdf.loc[closest_index_1, geom_column]\n",
    "                closest_poly_2 = gdf.loc[closest_index_2, geom_column]\n",
    "                distance_1 = poly.distance(closest_poly_1)\n",
    "                distance_2 = closest_poly.distance(closest_poly_2)\n",
    "                if distance_1 < max_distance:\n",
    "                    is_orphan[i] = False\n",
    "                    is_orphan[closest_index] = False\n",
    "                    is_orphan[closest_index_1] = False\n",
    "                    index_covered.append(closest_index)\n",
    "                    index_covered.append(closest_index_1)\n",
    "                if distance_2 < max_distance:\n",
    "                    is_orphan[i] = False\n",
    "                    is_orphan[closest_index] = False\n",
    "                    is_orphan[closest_index_2] = False\n",
    "                    index_covered.append(closest_index)\n",
    "                    index_covered.append(closest_index_2)\n",
    "                \n",
    "            else:\n",
    "                is_orphan[i] = False\n",
    "                is_orphan[closest_index] = False\n",
    "                index_covered.append(closest_index)\n",
    "                \n",
    "    gdf2 = gdf.copy()\n",
    "    gdf2['is_orphan'] = is_orphan\n",
    "    return gdf2"
   ]
  },
  {
   "cell_type": "code",
   "execution_count": 61,
   "metadata": {},
   "outputs": [
    {
     "name": "stdout",
     "output_type": "stream",
     "text": [
      "Analyzing row 132069 of 132069\r"
     ]
    }
   ],
   "source": [
    "gdf_orphans = find_orphans_new(gdf2)"
   ]
  },
  {
   "cell_type": "code",
   "execution_count": 62,
   "metadata": {},
   "outputs": [
    {
     "data": {
      "text/html": [
       "<div>\n",
       "<style scoped>\n",
       "    .dataframe tbody tr th:only-of-type {\n",
       "        vertical-align: middle;\n",
       "    }\n",
       "\n",
       "    .dataframe tbody tr th {\n",
       "        vertical-align: top;\n",
       "    }\n",
       "\n",
       "    .dataframe thead th {\n",
       "        text-align: right;\n",
       "    }\n",
       "</style>\n",
       "<table border=\"1\" class=\"dataframe\">\n",
       "  <thead>\n",
       "    <tr style=\"text-align: right;\">\n",
       "      <th></th>\n",
       "      <th>geometry</th>\n",
       "      <th>is_orphan</th>\n",
       "    </tr>\n",
       "  </thead>\n",
       "  <tbody>\n",
       "    <tr>\n",
       "      <th>0</th>\n",
       "      <td>POLYGON ((2814289.730 -379330.113, 2815251.179...</td>\n",
       "      <td>True</td>\n",
       "    </tr>\n",
       "    <tr>\n",
       "      <th>1</th>\n",
       "      <td>POLYGON ((2810872.469 -380461.015, 2811833.944...</td>\n",
       "      <td>True</td>\n",
       "    </tr>\n",
       "    <tr>\n",
       "      <th>2</th>\n",
       "      <td>POLYGON ((2811608.679 -351542.726, 2812566.029...</td>\n",
       "      <td>True</td>\n",
       "    </tr>\n",
       "    <tr>\n",
       "      <th>3</th>\n",
       "      <td>POLYGON ((2807513.991 -351436.033, 2808471.161...</td>\n",
       "      <td>True</td>\n",
       "    </tr>\n",
       "    <tr>\n",
       "      <th>4</th>\n",
       "      <td>POLYGON ((2812387.356 -333949.423, 2813349.103...</td>\n",
       "      <td>True</td>\n",
       "    </tr>\n",
       "  </tbody>\n",
       "</table>\n",
       "</div>"
      ],
      "text/plain": [
       "                                            geometry  is_orphan\n",
       "0  POLYGON ((2814289.730 -379330.113, 2815251.179...       True\n",
       "1  POLYGON ((2810872.469 -380461.015, 2811833.944...       True\n",
       "2  POLYGON ((2811608.679 -351542.726, 2812566.029...       True\n",
       "3  POLYGON ((2807513.991 -351436.033, 2808471.161...       True\n",
       "4  POLYGON ((2812387.356 -333949.423, 2813349.103...       True"
      ]
     },
     "execution_count": 62,
     "metadata": {},
     "output_type": "execute_result"
    }
   ],
   "source": [
    "gdf_orphans.head()"
   ]
  },
  {
   "cell_type": "code",
   "execution_count": 64,
   "metadata": {},
   "outputs": [
    {
     "data": {
      "text/plain": [
       "False    93448\n",
       "True     38621\n",
       "Name: is_orphan, dtype: int64"
      ]
     },
     "execution_count": 64,
     "metadata": {},
     "output_type": "execute_result"
    }
   ],
   "source": [
    "gdf_orphans['is_orphan'].value_counts()"
   ]
  },
  {
   "cell_type": "code",
   "execution_count": 65,
   "metadata": {},
   "outputs": [],
   "source": [
    "gdf_orphans.to_file('D:/canopy_data/analysis/orphans.geojson', driver='GeoJSON')"
   ]
  },
  {
   "cell_type": "code",
   "execution_count": null,
   "metadata": {},
   "outputs": [],
   "source": []
  },
  {
   "cell_type": "code",
   "execution_count": 2,
   "metadata": {},
   "outputs": [],
   "source": [
    "gdf_orphans = gpd.read_file('D:/canopy_data/analysis/orphans.geojson')"
   ]
  },
  {
   "cell_type": "code",
   "execution_count": 3,
   "metadata": {},
   "outputs": [
    {
     "data": {
      "text/plain": [
       "<Projected CRS: EPSG:3857>\n",
       "Name: WGS 84 / Pseudo-Mercator\n",
       "Axis Info [cartesian]:\n",
       "- X[east]: Easting (metre)\n",
       "- Y[north]: Northing (metre)\n",
       "Area of Use:\n",
       "- name: World - 85°S to 85°N\n",
       "- bounds: (-180.0, -85.06, 180.0, 85.06)\n",
       "Coordinate Operation:\n",
       "- name: Popular Visualisation Pseudo-Mercator\n",
       "- method: Popular Visualisation Pseudo Mercator\n",
       "Datum: World Geodetic System 1984\n",
       "- Ellipsoid: WGS 84\n",
       "- Prime Meridian: Greenwich"
      ]
     },
     "execution_count": 3,
     "metadata": {},
     "output_type": "execute_result"
    }
   ],
   "source": [
    "gdf_orphans.crs"
   ]
  },
  {
   "cell_type": "code",
   "execution_count": 4,
   "metadata": {},
   "outputs": [
    {
     "data": {
      "text/html": [
       "<div>\n",
       "<style scoped>\n",
       "    .dataframe tbody tr th:only-of-type {\n",
       "        vertical-align: middle;\n",
       "    }\n",
       "\n",
       "    .dataframe tbody tr th {\n",
       "        vertical-align: top;\n",
       "    }\n",
       "\n",
       "    .dataframe thead th {\n",
       "        text-align: right;\n",
       "    }\n",
       "</style>\n",
       "<table border=\"1\" class=\"dataframe\">\n",
       "  <thead>\n",
       "    <tr style=\"text-align: right;\">\n",
       "      <th></th>\n",
       "      <th>is_orphan</th>\n",
       "      <th>geometry</th>\n",
       "    </tr>\n",
       "  </thead>\n",
       "  <tbody>\n",
       "    <tr>\n",
       "      <th>0</th>\n",
       "      <td>True</td>\n",
       "      <td>POLYGON ((2814289.730 -379330.113, 2815251.179...</td>\n",
       "    </tr>\n",
       "    <tr>\n",
       "      <th>1</th>\n",
       "      <td>True</td>\n",
       "      <td>POLYGON ((2810872.469 -380461.015, 2811833.944...</td>\n",
       "    </tr>\n",
       "    <tr>\n",
       "      <th>2</th>\n",
       "      <td>True</td>\n",
       "      <td>POLYGON ((2811608.679 -351542.726, 2812566.029...</td>\n",
       "    </tr>\n",
       "    <tr>\n",
       "      <th>3</th>\n",
       "      <td>True</td>\n",
       "      <td>POLYGON ((2807513.991 -351436.033, 2808471.161...</td>\n",
       "    </tr>\n",
       "    <tr>\n",
       "      <th>4</th>\n",
       "      <td>True</td>\n",
       "      <td>POLYGON ((2812387.356 -333949.423, 2813349.103...</td>\n",
       "    </tr>\n",
       "  </tbody>\n",
       "</table>\n",
       "</div>"
      ],
      "text/plain": [
       "   is_orphan                                           geometry\n",
       "0       True  POLYGON ((2814289.730 -379330.113, 2815251.179...\n",
       "1       True  POLYGON ((2810872.469 -380461.015, 2811833.944...\n",
       "2       True  POLYGON ((2811608.679 -351542.726, 2812566.029...\n",
       "3       True  POLYGON ((2807513.991 -351436.033, 2808471.161...\n",
       "4       True  POLYGON ((2812387.356 -333949.423, 2813349.103..."
      ]
     },
     "execution_count": 4,
     "metadata": {},
     "output_type": "execute_result"
    }
   ],
   "source": [
    "gdf_orphans.head()"
   ]
  },
  {
   "cell_type": "code",
   "execution_count": 5,
   "metadata": {},
   "outputs": [],
   "source": [
    "pred_orphans = gdf_orphans[gdf_orphans['is_orphan'] == True]\n",
    "\n",
    "pred_non_orphans = gdf_orphans[gdf_orphans['is_orphan'] == False]"
   ]
  },
  {
   "cell_type": "code",
   "execution_count": 6,
   "metadata": {},
   "outputs": [],
   "source": [
    "assert len(gdf_orphans) == len(pred_orphans) + len(pred_non_orphans)"
   ]
  },
  {
   "cell_type": "code",
   "execution_count": 7,
   "metadata": {},
   "outputs": [
    {
     "data": {
      "text/html": [
       "<div>\n",
       "<style scoped>\n",
       "    .dataframe tbody tr th:only-of-type {\n",
       "        vertical-align: middle;\n",
       "    }\n",
       "\n",
       "    .dataframe tbody tr th {\n",
       "        vertical-align: top;\n",
       "    }\n",
       "\n",
       "    .dataframe thead th {\n",
       "        text-align: right;\n",
       "    }\n",
       "</style>\n",
       "<table border=\"1\" class=\"dataframe\">\n",
       "  <thead>\n",
       "    <tr style=\"text-align: right;\">\n",
       "      <th></th>\n",
       "      <th>is_orphan</th>\n",
       "      <th>geometry</th>\n",
       "    </tr>\n",
       "  </thead>\n",
       "  <tbody>\n",
       "    <tr>\n",
       "      <th>7</th>\n",
       "      <td>False</td>\n",
       "      <td>POLYGON ((2805974.897 -338414.842, 2806937.029...</td>\n",
       "    </tr>\n",
       "    <tr>\n",
       "      <th>9</th>\n",
       "      <td>False</td>\n",
       "      <td>POLYGON ((2805280.646 -337176.848, 2806242.572...</td>\n",
       "    </tr>\n",
       "    <tr>\n",
       "      <th>10</th>\n",
       "      <td>False</td>\n",
       "      <td>POLYGON ((2805012.843 -338145.264, 2805974.897...</td>\n",
       "    </tr>\n",
       "    <tr>\n",
       "      <th>14</th>\n",
       "      <td>False</td>\n",
       "      <td>POLYGON ((2803088.968 -337605.720, 2804050.866...</td>\n",
       "    </tr>\n",
       "    <tr>\n",
       "      <th>17</th>\n",
       "      <td>False</td>\n",
       "      <td>POLYGON ((2802127.147 -337335.754, 2803088.968...</td>\n",
       "    </tr>\n",
       "  </tbody>\n",
       "</table>\n",
       "</div>"
      ],
      "text/plain": [
       "    is_orphan                                           geometry\n",
       "7       False  POLYGON ((2805974.897 -338414.842, 2806937.029...\n",
       "9       False  POLYGON ((2805280.646 -337176.848, 2806242.572...\n",
       "10      False  POLYGON ((2805012.843 -338145.264, 2805974.897...\n",
       "14      False  POLYGON ((2803088.968 -337605.720, 2804050.866...\n",
       "17      False  POLYGON ((2802127.147 -337335.754, 2803088.968..."
      ]
     },
     "execution_count": 7,
     "metadata": {},
     "output_type": "execute_result"
    }
   ],
   "source": [
    "pred_non_orphans.head()"
   ]
  },
  {
   "cell_type": "code",
   "execution_count": 8,
   "metadata": {},
   "outputs": [
    {
     "data": {
      "text/plain": [
       "True    38621\n",
       "Name: is_orphan, dtype: int64"
      ]
     },
     "execution_count": 8,
     "metadata": {},
     "output_type": "execute_result"
    }
   ],
   "source": [
    "pred_orphans['is_orphan'].value_counts()"
   ]
  },
  {
   "cell_type": "code",
   "execution_count": 9,
   "metadata": {},
   "outputs": [
    {
     "data": {
      "text/plain": [
       "38621"
      ]
     },
     "execution_count": 9,
     "metadata": {},
     "output_type": "execute_result"
    }
   ],
   "source": [
    "len(pred_orphans)"
   ]
  },
  {
   "cell_type": "code",
   "execution_count": 10,
   "metadata": {},
   "outputs": [
    {
     "data": {
      "text/plain": [
       "93448"
      ]
     },
     "execution_count": 10,
     "metadata": {},
     "output_type": "execute_result"
    }
   ],
   "source": [
    "len(pred_non_orphans)"
   ]
  },
  {
   "cell_type": "code",
   "execution_count": 11,
   "metadata": {},
   "outputs": [],
   "source": [
    "pred_orphans.to_file('D:/canopy_data/analysis/pred_orphans.geojson', driver='GeoJSON')"
   ]
  },
  {
   "cell_type": "code",
   "execution_count": 12,
   "metadata": {},
   "outputs": [],
   "source": [
    "pred_non_orphans.to_file('D:/canopy_data/analysis/pred_without_orphans.geojson', driver='GeoJSON')"
   ]
  },
  {
   "cell_type": "code",
   "execution_count": 13,
   "metadata": {},
   "outputs": [
    {
     "data": {
      "text/plain": [
       "0.29243047195026844"
      ]
     },
     "execution_count": 13,
     "metadata": {},
     "output_type": "execute_result"
    }
   ],
   "source": [
    "len(pred_orphans) / (len(pred_orphans) + len(pred_non_orphans))"
   ]
  },
  {
   "cell_type": "code",
   "execution_count": 14,
   "metadata": {},
   "outputs": [
    {
     "data": {
      "text/html": [
       "<div>\n",
       "<style scoped>\n",
       "    .dataframe tbody tr th:only-of-type {\n",
       "        vertical-align: middle;\n",
       "    }\n",
       "\n",
       "    .dataframe tbody tr th {\n",
       "        vertical-align: top;\n",
       "    }\n",
       "\n",
       "    .dataframe thead th {\n",
       "        text-align: right;\n",
       "    }\n",
       "</style>\n",
       "<table border=\"1\" class=\"dataframe\">\n",
       "  <thead>\n",
       "    <tr style=\"text-align: right;\">\n",
       "      <th></th>\n",
       "      <th>geometry</th>\n",
       "    </tr>\n",
       "  </thead>\n",
       "  <tbody>\n",
       "    <tr>\n",
       "      <th>0</th>\n",
       "      <td>POLYGON ((2805974.897 -338414.842, 2806937.029...</td>\n",
       "    </tr>\n",
       "    <tr>\n",
       "      <th>1</th>\n",
       "      <td>POLYGON ((2805280.646 -337176.848, 2806242.572...</td>\n",
       "    </tr>\n",
       "    <tr>\n",
       "      <th>2</th>\n",
       "      <td>POLYGON ((2805012.843 -338145.264, 2805974.897...</td>\n",
       "    </tr>\n",
       "    <tr>\n",
       "      <th>3</th>\n",
       "      <td>POLYGON ((2803088.968 -337605.720, 2804050.866...</td>\n",
       "    </tr>\n",
       "    <tr>\n",
       "      <th>4</th>\n",
       "      <td>POLYGON ((2802127.147 -337335.754, 2803088.968...</td>\n",
       "    </tr>\n",
       "  </tbody>\n",
       "</table>\n",
       "</div>"
      ],
      "text/plain": [
       "                                            geometry\n",
       "0  POLYGON ((2805974.897 -338414.842, 2806937.029...\n",
       "1  POLYGON ((2805280.646 -337176.848, 2806242.572...\n",
       "2  POLYGON ((2805012.843 -338145.264, 2805974.897...\n",
       "3  POLYGON ((2803088.968 -337605.720, 2804050.866...\n",
       "4  POLYGON ((2802127.147 -337335.754, 2803088.968..."
      ]
     },
     "execution_count": 14,
     "metadata": {},
     "output_type": "execute_result"
    }
   ],
   "source": [
    "pred_non_orphans_2 = pred_non_orphans.drop(['is_orphan'], axis=1).reset_index(drop=True)\n",
    "\n",
    "pred_non_orphans_2.head()"
   ]
  },
  {
   "cell_type": "code",
   "execution_count": 15,
   "metadata": {},
   "outputs": [],
   "source": [
    "pred_non_orphans_2.to_file('D:/canopy_data/analysis/pred_new.geojson', driver='GeoJSON')"
   ]
  },
  {
   "cell_type": "code",
   "execution_count": null,
   "metadata": {},
   "outputs": [],
   "source": []
  },
  {
   "cell_type": "code",
   "execution_count": 2,
   "metadata": {},
   "outputs": [],
   "source": [
    "gdf_orphans = gpd.read_file('D:/canopy_data/analysis/pred_orphans.geojson')\n",
    "gdf_non_orphans = gpd.read_file('D:/canopy_data/analysis/pred_non_orphans.geojson')"
   ]
  },
  {
   "cell_type": "code",
   "execution_count": 3,
   "metadata": {},
   "outputs": [
    {
     "data": {
      "text/plain": [
       "<Projected CRS: EPSG:3857>\n",
       "Name: WGS 84 / Pseudo-Mercator\n",
       "Axis Info [cartesian]:\n",
       "- X[east]: Easting (metre)\n",
       "- Y[north]: Northing (metre)\n",
       "Area of Use:\n",
       "- name: World - 85°S to 85°N\n",
       "- bounds: (-180.0, -85.06, 180.0, 85.06)\n",
       "Coordinate Operation:\n",
       "- name: Popular Visualisation Pseudo-Mercator\n",
       "- method: Popular Visualisation Pseudo Mercator\n",
       "Datum: World Geodetic System 1984\n",
       "- Ellipsoid: WGS 84\n",
       "- Prime Meridian: Greenwich"
      ]
     },
     "execution_count": 3,
     "metadata": {},
     "output_type": "execute_result"
    }
   ],
   "source": [
    "gdf_orphans.crs"
   ]
  },
  {
   "cell_type": "code",
   "execution_count": 4,
   "metadata": {},
   "outputs": [
    {
     "data": {
      "text/plain": [
       "<Projected CRS: EPSG:3857>\n",
       "Name: WGS 84 / Pseudo-Mercator\n",
       "Axis Info [cartesian]:\n",
       "- X[east]: Easting (metre)\n",
       "- Y[north]: Northing (metre)\n",
       "Area of Use:\n",
       "- name: World - 85°S to 85°N\n",
       "- bounds: (-180.0, -85.06, 180.0, 85.06)\n",
       "Coordinate Operation:\n",
       "- name: Popular Visualisation Pseudo-Mercator\n",
       "- method: Popular Visualisation Pseudo Mercator\n",
       "Datum: World Geodetic System 1984\n",
       "- Ellipsoid: WGS 84\n",
       "- Prime Meridian: Greenwich"
      ]
     },
     "execution_count": 4,
     "metadata": {},
     "output_type": "execute_result"
    }
   ],
   "source": [
    "gdf_non_orphans.crs"
   ]
  },
  {
   "cell_type": "code",
   "execution_count": null,
   "metadata": {},
   "outputs": [],
   "source": []
  }
 ],
 "metadata": {
  "kernelspec": {
   "display_name": "canopy-conda",
   "language": "python",
   "name": "canopy_conda"
  },
  "language_info": {
   "codemirror_mode": {
    "name": "ipython",
    "version": 3
   },
   "file_extension": ".py",
   "mimetype": "text/x-python",
   "name": "python",
   "nbconvert_exporter": "python",
   "pygments_lexer": "ipython3",
   "version": "3.8.5"
  }
 },
 "nbformat": 4,
 "nbformat_minor": 4
}
