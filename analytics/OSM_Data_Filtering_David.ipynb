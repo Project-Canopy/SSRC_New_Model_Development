{
 "cells": [
  {
   "cell_type": "code",
   "execution_count": 1,
   "metadata": {},
   "outputs": [],
   "source": [
    "from pyrosm import OSM\n",
    "from pyrosm import get_data\n",
    "import geopandas as gpd"
   ]
  },
  {
   "cell_type": "code",
   "execution_count": 4,
   "metadata": {},
   "outputs": [],
   "source": [
    "# Initialize the OSM object \n",
    "OSM(\"/Users/user/Downloads/africa.osm.pbf\",bounding_box=[8.32,-4.53,29.88,6.20])"
   ]
  },
  {
   "cell_type": "code",
   "execution_count": null,
   "metadata": {},
   "outputs": [],
   "source": [
    "landuse = osm.get_landuse()"
   ]
  },
  {
   "cell_type": "code",
   "execution_count": 5,
   "metadata": {},
   "outputs": [
    {
     "data": {
      "text/plain": [
       "['aerialway',\n",
       " 'aeroway',\n",
       " 'amenity',\n",
       " 'boundary',\n",
       " 'building',\n",
       " 'craft',\n",
       " 'emergency',\n",
       " 'geological',\n",
       " 'highway',\n",
       " 'historic',\n",
       " 'landuse',\n",
       " 'leisure',\n",
       " 'natural',\n",
       " 'office',\n",
       " 'power',\n",
       " 'public_transport',\n",
       " 'railway',\n",
       " 'route',\n",
       " 'place',\n",
       " 'shop',\n",
       " 'tourism',\n",
       " 'waterway']"
      ]
     },
     "execution_count": 5,
     "metadata": {},
     "output_type": "execute_result"
    }
   ],
   "source": [
    "osm.conf.tags.available"
   ]
  },
  {
   "cell_type": "code",
   "execution_count": 2,
   "metadata": {},
   "outputs": [],
   "source": [
    "gdf = gpd.read_file(\"/Users/user/Downloads/Congo_Basin_Boundary_no_islands_v5_gridded.geojson\")"
   ]
  },
  {
   "cell_type": "code",
   "execution_count": 3,
   "metadata": {},
   "outputs": [
    {
     "data": {
      "text/html": [
       "<div>\n",
       "<style scoped>\n",
       "    .dataframe tbody tr th:only-of-type {\n",
       "        vertical-align: middle;\n",
       "    }\n",
       "\n",
       "    .dataframe tbody tr th {\n",
       "        vertical-align: top;\n",
       "    }\n",
       "\n",
       "    .dataframe thead th {\n",
       "        text-align: right;\n",
       "    }\n",
       "</style>\n",
       "<table border=\"1\" class=\"dataframe\">\n",
       "  <thead>\n",
       "    <tr style=\"text-align: right;\">\n",
       "      <th></th>\n",
       "      <th>id</th>\n",
       "      <th>left</th>\n",
       "      <th>top</th>\n",
       "      <th>right</th>\n",
       "      <th>bottom</th>\n",
       "      <th>geometry</th>\n",
       "    </tr>\n",
       "  </thead>\n",
       "  <tbody>\n",
       "    <tr>\n",
       "      <th>0</th>\n",
       "      <td>4</td>\n",
       "      <td>7.589316</td>\n",
       "      <td>5.890436</td>\n",
       "      <td>7.889316</td>\n",
       "      <td>5.590436</td>\n",
       "      <td>MULTIPOLYGON (((7.77444 5.59044, 7.88932 5.720...</td>\n",
       "    </tr>\n",
       "    <tr>\n",
       "      <th>1</th>\n",
       "      <td>5</td>\n",
       "      <td>7.589316</td>\n",
       "      <td>5.590436</td>\n",
       "      <td>7.889316</td>\n",
       "      <td>5.290436</td>\n",
       "      <td>MULTIPOLYGON (((7.65207 5.29044, 7.58932 5.380...</td>\n",
       "    </tr>\n",
       "    <tr>\n",
       "      <th>2</th>\n",
       "      <td>6</td>\n",
       "      <td>7.589316</td>\n",
       "      <td>5.290436</td>\n",
       "      <td>7.889316</td>\n",
       "      <td>4.990436</td>\n",
       "      <td>MULTIPOLYGON (((7.86209 4.99044, 7.65207 5.290...</td>\n",
       "    </tr>\n",
       "    <tr>\n",
       "      <th>3</th>\n",
       "      <td>7</td>\n",
       "      <td>7.589316</td>\n",
       "      <td>4.990436</td>\n",
       "      <td>7.889316</td>\n",
       "      <td>4.690436</td>\n",
       "      <td>MULTIPOLYGON (((7.88932 4.95155, 7.86209 4.990...</td>\n",
       "    </tr>\n",
       "    <tr>\n",
       "      <th>4</th>\n",
       "      <td>49</td>\n",
       "      <td>7.889316</td>\n",
       "      <td>6.190436</td>\n",
       "      <td>8.189316</td>\n",
       "      <td>5.890436</td>\n",
       "      <td>MULTIPOLYGON (((8.03844 5.89044, 8.18932 6.061...</td>\n",
       "    </tr>\n",
       "    <tr>\n",
       "      <th>...</th>\n",
       "      <td>...</td>\n",
       "      <td>...</td>\n",
       "      <td>...</td>\n",
       "      <td>...</td>\n",
       "      <td>...</td>\n",
       "      <td>...</td>\n",
       "    </tr>\n",
       "    <tr>\n",
       "      <th>2398</th>\n",
       "      <td>3426</td>\n",
       "      <td>29.789316</td>\n",
       "      <td>0.490436</td>\n",
       "      <td>30.089316</td>\n",
       "      <td>0.190436</td>\n",
       "      <td>MULTIPOLYGON (((29.85390 0.49044, 29.78932 0.2...</td>\n",
       "    </tr>\n",
       "    <tr>\n",
       "      <th>2399</th>\n",
       "      <td>3465</td>\n",
       "      <td>30.089316</td>\n",
       "      <td>2.590436</td>\n",
       "      <td>30.389316</td>\n",
       "      <td>2.290436</td>\n",
       "      <td>MULTIPOLYGON (((30.08932 2.40776, 30.27175 2.3...</td>\n",
       "    </tr>\n",
       "    <tr>\n",
       "      <th>2400</th>\n",
       "      <td>3466</td>\n",
       "      <td>30.089316</td>\n",
       "      <td>2.290436</td>\n",
       "      <td>30.389316</td>\n",
       "      <td>1.990436</td>\n",
       "      <td>MULTIPOLYGON (((30.26841 2.29044, 30.19933 1.9...</td>\n",
       "    </tr>\n",
       "    <tr>\n",
       "      <th>2401</th>\n",
       "      <td>3467</td>\n",
       "      <td>30.089316</td>\n",
       "      <td>1.990436</td>\n",
       "      <td>30.389316</td>\n",
       "      <td>1.690436</td>\n",
       "      <td>MULTIPOLYGON (((30.19933 1.99044, 30.13024 1.6...</td>\n",
       "    </tr>\n",
       "    <tr>\n",
       "      <th>2402</th>\n",
       "      <td>3468</td>\n",
       "      <td>30.089316</td>\n",
       "      <td>1.690436</td>\n",
       "      <td>30.389316</td>\n",
       "      <td>1.390436</td>\n",
       "      <td>MULTIPOLYGON (((30.13024 1.69044, 30.08932 1.5...</td>\n",
       "    </tr>\n",
       "  </tbody>\n",
       "</table>\n",
       "<p>2403 rows × 6 columns</p>\n",
       "</div>"
      ],
      "text/plain": [
       "        id       left       top      right    bottom  \\\n",
       "0        4   7.589316  5.890436   7.889316  5.590436   \n",
       "1        5   7.589316  5.590436   7.889316  5.290436   \n",
       "2        6   7.589316  5.290436   7.889316  4.990436   \n",
       "3        7   7.589316  4.990436   7.889316  4.690436   \n",
       "4       49   7.889316  6.190436   8.189316  5.890436   \n",
       "...    ...        ...       ...        ...       ...   \n",
       "2398  3426  29.789316  0.490436  30.089316  0.190436   \n",
       "2399  3465  30.089316  2.590436  30.389316  2.290436   \n",
       "2400  3466  30.089316  2.290436  30.389316  1.990436   \n",
       "2401  3467  30.089316  1.990436  30.389316  1.690436   \n",
       "2402  3468  30.089316  1.690436  30.389316  1.390436   \n",
       "\n",
       "                                               geometry  \n",
       "0     MULTIPOLYGON (((7.77444 5.59044, 7.88932 5.720...  \n",
       "1     MULTIPOLYGON (((7.65207 5.29044, 7.58932 5.380...  \n",
       "2     MULTIPOLYGON (((7.86209 4.99044, 7.65207 5.290...  \n",
       "3     MULTIPOLYGON (((7.88932 4.95155, 7.86209 4.990...  \n",
       "4     MULTIPOLYGON (((8.03844 5.89044, 8.18932 6.061...  \n",
       "...                                                 ...  \n",
       "2398  MULTIPOLYGON (((29.85390 0.49044, 29.78932 0.2...  \n",
       "2399  MULTIPOLYGON (((30.08932 2.40776, 30.27175 2.3...  \n",
       "2400  MULTIPOLYGON (((30.26841 2.29044, 30.19933 1.9...  \n",
       "2401  MULTIPOLYGON (((30.19933 1.99044, 30.13024 1.6...  \n",
       "2402  MULTIPOLYGON (((30.13024 1.69044, 30.08932 1.5...  \n",
       "\n",
       "[2403 rows x 6 columns]"
      ]
     },
     "execution_count": 3,
     "metadata": {},
     "output_type": "execute_result"
    }
   ],
   "source": [
    "gdf"
   ]
  },
  {
   "cell_type": "code",
   "execution_count": null,
   "metadata": {},
   "outputs": [
    {
     "name": "stdout",
     "output_type": "stream",
     "text": [
      "[7.589316305, 5.890436336, 7.889316305, 5.590436336000001]\n"
     ]
    }
   ],
   "source": [
    "for row in gdf.iterrows():\n",
    "    bounding_box = [row[1][\"left\"],row[1][\"top\"],row[1][\"right\"],row[1][\"bottom\"]]\n",
    "    print(bounding_box)\n",
    "    osm = OSM(\"/Users/user/Downloads/africa.osm.pbf\",bounding_box=bounding_box)\n",
    "    landuse = osm.get_network(network_type=\"driving\")"
   ]
  },
  {
   "cell_type": "code",
   "execution_count": 4,
   "metadata": {},
   "outputs": [],
   "source": [
    "bounding_box = [15.881601572,1.4824956522,15.881601572,1.4824956522]"
   ]
  },
  {
   "cell_type": "code",
   "execution_count": 5,
   "metadata": {},
   "outputs": [],
   "source": [
    "osm = OSM(\"/Users/user/Downloads/africa.osm.pbf\",bounding_box=bounding_box)"
   ]
  },
  {
   "cell_type": "code",
   "execution_count": null,
   "metadata": {},
   "outputs": [],
   "source": [
    "driving = osm.get_network(network_type=\"driving\")"
   ]
  },
  {
   "cell_type": "code",
   "execution_count": 1,
   "metadata": {},
   "outputs": [
    {
     "name": "stdout",
     "output_type": "stream",
     "text": [
      "Downloaded Protobuf data 'new-york-latest.osm.pbf' (356.54 MB) to:\n",
      "'/var/folders/4t/1kx7_bfd5bzdv7swkrfqsc0w0000gn/T/pyrosm/new-york-latest.osm.pbf'\n",
      "Parsing roads lasted 803.0 seconds.\n",
      "Number of roads parsed: 930274\n"
     ]
    }
   ],
   "source": [
    "from pyrosm import OSM, get_data\n",
    "import time\n",
    "\n",
    "# Initialize (downloads data automatically for New York State)\n",
    "fp = get_data(\"new_york\")\n",
    "osm = OSM(fp)\n",
    "\n",
    "# Parse roads and time it\n",
    "start_time = time.time()\n",
    "roads = osm.get_network(\"driving\")\n",
    "print(f\"Parsing roads lasted {round(time.time() - start_time, 0)} seconds.\")\n",
    "print(f\"Number of roads parsed: {len(roads)}\")"
   ]
  },
  {
   "cell_type": "code",
   "execution_count": null,
   "metadata": {},
   "outputs": [],
   "source": []
  }
 ],
 "metadata": {
  "kernelspec": {
   "display_name": "cb2-analytics",
   "language": "python",
   "name": "conda-analytics"
  },
  "language_info": {
   "codemirror_mode": {
    "name": "ipython",
    "version": 3
   },
   "file_extension": ".py",
   "mimetype": "text/x-python",
   "name": "python",
   "nbconvert_exporter": "python",
   "pygments_lexer": "ipython3",
   "version": "3.8.10"
  }
 },
 "nbformat": 4,
 "nbformat_minor": 4
}
