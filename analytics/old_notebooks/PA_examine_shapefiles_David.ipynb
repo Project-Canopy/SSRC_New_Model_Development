{
 "cells": [
  {
   "cell_type": "code",
   "execution_count": 1,
   "metadata": {},
   "outputs": [],
   "source": [
    "import pandas as pd\n",
    "import geopandas as gpd"
   ]
  },
  {
   "cell_type": "code",
   "execution_count": 3,
   "metadata": {},
   "outputs": [
    {
     "data": {
      "text/html": [
       "<div>\n",
       "<style scoped>\n",
       "    .dataframe tbody tr th:only-of-type {\n",
       "        vertical-align: middle;\n",
       "    }\n",
       "\n",
       "    .dataframe tbody tr th {\n",
       "        vertical-align: top;\n",
       "    }\n",
       "\n",
       "    .dataframe thead th {\n",
       "        text-align: right;\n",
       "    }\n",
       "</style>\n",
       "<table border=\"1\" class=\"dataframe\">\n",
       "  <thead>\n",
       "    <tr style=\"text-align: right;\">\n",
       "      <th></th>\n",
       "      <th>TYPE</th>\n",
       "      <th>WDPAID</th>\n",
       "      <th>WDPA_PID</th>\n",
       "      <th>PA_DEF</th>\n",
       "      <th>NAME</th>\n",
       "      <th>ORIG_NAME</th>\n",
       "      <th>DESIG</th>\n",
       "      <th>DESIG_ENG</th>\n",
       "      <th>DESIG_TYPE</th>\n",
       "      <th>IUCN_CAT</th>\n",
       "      <th>...</th>\n",
       "      <th>OWN_TYPE</th>\n",
       "      <th>MANG_AUTH</th>\n",
       "      <th>MANG_PLAN</th>\n",
       "      <th>VERIF</th>\n",
       "      <th>METADATAID</th>\n",
       "      <th>SUB_LOC</th>\n",
       "      <th>PARENT_ISO3</th>\n",
       "      <th>ISO3</th>\n",
       "      <th>SUPP_INFO</th>\n",
       "      <th>CONS_OBJ</th>\n",
       "    </tr>\n",
       "  </thead>\n",
       "  <tbody>\n",
       "    <tr>\n",
       "      <th>0</th>\n",
       "      <td>Polygon</td>\n",
       "      <td>317281</td>\n",
       "      <td>317281</td>\n",
       "      <td>1</td>\n",
       "      <td>Mbaéré-Bodingué</td>\n",
       "      <td>Mbaéré-Bodingué</td>\n",
       "      <td>Parc National</td>\n",
       "      <td>National Park</td>\n",
       "      <td>National</td>\n",
       "      <td>Not Reported</td>\n",
       "      <td>...</td>\n",
       "      <td>Not Reported</td>\n",
       "      <td>Not Reported</td>\n",
       "      <td>Yes</td>\n",
       "      <td>Not Reported</td>\n",
       "      <td>1961</td>\n",
       "      <td>CF-SE</td>\n",
       "      <td>CAF</td>\n",
       "      <td>CAF</td>\n",
       "      <td>Not Applicable</td>\n",
       "      <td>Not Applicable</td>\n",
       "    </tr>\n",
       "    <tr>\n",
       "      <th>1</th>\n",
       "      <td>Polygon</td>\n",
       "      <td>2059</td>\n",
       "      <td>2059</td>\n",
       "      <td>1</td>\n",
       "      <td>Basse-Lobaye</td>\n",
       "      <td>Basse-Lobaye</td>\n",
       "      <td>UNESCO-MAB Biosphere Reserve</td>\n",
       "      <td>UNESCO-MAB Biosphere Reserve</td>\n",
       "      <td>International</td>\n",
       "      <td>Not Applicable</td>\n",
       "      <td>...</td>\n",
       "      <td>Not Reported</td>\n",
       "      <td>Not Reported</td>\n",
       "      <td>Not Reported</td>\n",
       "      <td>Not Reported</td>\n",
       "      <td>715</td>\n",
       "      <td>CF-LB</td>\n",
       "      <td>CAF</td>\n",
       "      <td>CAF</td>\n",
       "      <td>Not Applicable</td>\n",
       "      <td>Not Applicable</td>\n",
       "    </tr>\n",
       "    <tr>\n",
       "      <th>2</th>\n",
       "      <td>Polygon</td>\n",
       "      <td>2259</td>\n",
       "      <td>2259</td>\n",
       "      <td>1</td>\n",
       "      <td>Zemongo</td>\n",
       "      <td>Zemongo</td>\n",
       "      <td>Réserve de Faune</td>\n",
       "      <td>Faunal Reserve</td>\n",
       "      <td>National</td>\n",
       "      <td>IV</td>\n",
       "      <td>...</td>\n",
       "      <td>Not Reported</td>\n",
       "      <td>Not Reported</td>\n",
       "      <td>Not Reported</td>\n",
       "      <td>State Verified</td>\n",
       "      <td>1961</td>\n",
       "      <td>CF-HM;CF-MB</td>\n",
       "      <td>CAF</td>\n",
       "      <td>CAF</td>\n",
       "      <td>Not Applicable</td>\n",
       "      <td>Not Applicable</td>\n",
       "    </tr>\n",
       "    <tr>\n",
       "      <th>3</th>\n",
       "      <td>Polygon</td>\n",
       "      <td>28741</td>\n",
       "      <td>28741</td>\n",
       "      <td>1</td>\n",
       "      <td>Botambi</td>\n",
       "      <td>Botambi</td>\n",
       "      <td>Forêt Classée</td>\n",
       "      <td>Classified Forest</td>\n",
       "      <td>National</td>\n",
       "      <td>Not Reported</td>\n",
       "      <td>...</td>\n",
       "      <td>Not Reported</td>\n",
       "      <td>Not Reported</td>\n",
       "      <td>Not Reported</td>\n",
       "      <td>Not Reported</td>\n",
       "      <td>1961</td>\n",
       "      <td>CF-MP</td>\n",
       "      <td>CAF</td>\n",
       "      <td>CAF</td>\n",
       "      <td>Not Applicable</td>\n",
       "      <td>Not Applicable</td>\n",
       "    </tr>\n",
       "    <tr>\n",
       "      <th>4</th>\n",
       "      <td>Polygon</td>\n",
       "      <td>28745</td>\n",
       "      <td>28745</td>\n",
       "      <td>1</td>\n",
       "      <td>Ngotto</td>\n",
       "      <td>Ngotto</td>\n",
       "      <td>Forêt Classée</td>\n",
       "      <td>Classified Forest</td>\n",
       "      <td>National</td>\n",
       "      <td>Not Reported</td>\n",
       "      <td>...</td>\n",
       "      <td>Not Reported</td>\n",
       "      <td>Not Reported</td>\n",
       "      <td>Not Reported</td>\n",
       "      <td>State Verified</td>\n",
       "      <td>1961</td>\n",
       "      <td>CF-LB</td>\n",
       "      <td>CAF</td>\n",
       "      <td>CAF</td>\n",
       "      <td>Not Applicable</td>\n",
       "      <td>Not Applicable</td>\n",
       "    </tr>\n",
       "  </tbody>\n",
       "</table>\n",
       "<p>5 rows × 31 columns</p>\n",
       "</div>"
      ],
      "text/plain": [
       "      TYPE  WDPAID  WDPA_PID  PA_DEF             NAME        ORIG_NAME  \\\n",
       "0  Polygon  317281    317281       1  Mbaéré-Bodingué  Mbaéré-Bodingué   \n",
       "1  Polygon    2059      2059       1     Basse-Lobaye     Basse-Lobaye   \n",
       "2  Polygon    2259      2259       1          Zemongo          Zemongo   \n",
       "3  Polygon   28741     28741       1          Botambi          Botambi   \n",
       "4  Polygon   28745     28745       1           Ngotto           Ngotto   \n",
       "\n",
       "                          DESIG                     DESIG_ENG     DESIG_TYPE  \\\n",
       "0                 Parc National                 National Park       National   \n",
       "1  UNESCO-MAB Biosphere Reserve  UNESCO-MAB Biosphere Reserve  International   \n",
       "2              Réserve de Faune                Faunal Reserve       National   \n",
       "3                 Forêt Classée             Classified Forest       National   \n",
       "4                 Forêt Classée             Classified Forest       National   \n",
       "\n",
       "         IUCN_CAT  ...      OWN_TYPE     MANG_AUTH     MANG_PLAN  \\\n",
       "0    Not Reported  ...  Not Reported  Not Reported           Yes   \n",
       "1  Not Applicable  ...  Not Reported  Not Reported  Not Reported   \n",
       "2              IV  ...  Not Reported  Not Reported  Not Reported   \n",
       "3    Not Reported  ...  Not Reported  Not Reported  Not Reported   \n",
       "4    Not Reported  ...  Not Reported  Not Reported  Not Reported   \n",
       "\n",
       "            VERIF  METADATAID      SUB_LOC PARENT_ISO3  ISO3       SUPP_INFO  \\\n",
       "0    Not Reported        1961        CF-SE         CAF   CAF  Not Applicable   \n",
       "1    Not Reported         715        CF-LB         CAF   CAF  Not Applicable   \n",
       "2  State Verified        1961  CF-HM;CF-MB         CAF   CAF  Not Applicable   \n",
       "3    Not Reported        1961        CF-MP         CAF   CAF  Not Applicable   \n",
       "4  State Verified        1961        CF-LB         CAF   CAF  Not Applicable   \n",
       "\n",
       "         CONS_OBJ  \n",
       "0  Not Applicable  \n",
       "1  Not Applicable  \n",
       "2  Not Applicable  \n",
       "3  Not Applicable  \n",
       "4  Not Applicable  \n",
       "\n",
       "[5 rows x 31 columns]"
      ]
     },
     "execution_count": 3,
     "metadata": {},
     "output_type": "execute_result"
    }
   ],
   "source": [
    "base_uri = 'D:/canopy_data/Geometry/PA_shapefiles/PA shapefiles/'\n",
    "\n",
    "CAF_df = pd.read_csv(base_uri + 'CAF/WDPA_WDOECM_Apr2021_Public_CAF_csv.csv')\n",
    "\n",
    "CAF_df.head()"
   ]
  },
  {
   "cell_type": "code",
   "execution_count": 6,
   "metadata": {},
   "outputs": [
    {
     "data": {
      "text/plain": [
       "Index(['TYPE', 'WDPAID', 'WDPA_PID', 'PA_DEF', 'NAME', 'ORIG_NAME', 'DESIG',\n",
       "       'DESIG_ENG', 'DESIG_TYPE', 'IUCN_CAT', 'INT_CRIT', 'MARINE',\n",
       "       'REP_M_AREA', 'GIS_M_AREA', 'REP_AREA', 'GIS_AREA', 'NO_TAKE',\n",
       "       'NO_TK_AREA', 'STATUS', 'STATUS_YR', 'GOV_TYPE', 'OWN_TYPE',\n",
       "       'MANG_AUTH', 'MANG_PLAN', 'VERIF', 'METADATAID', 'SUB_LOC',\n",
       "       'PARENT_ISO3', 'ISO3', 'SUPP_INFO', 'CONS_OBJ'],\n",
       "      dtype='object')"
      ]
     },
     "execution_count": 6,
     "metadata": {},
     "output_type": "execute_result"
    }
   ],
   "source": [
    "CAF_df.columns"
   ]
  },
  {
   "cell_type": "code",
   "execution_count": 8,
   "metadata": {},
   "outputs": [
    {
     "data": {
      "text/html": [
       "<div>\n",
       "<style scoped>\n",
       "    .dataframe tbody tr th:only-of-type {\n",
       "        vertical-align: middle;\n",
       "    }\n",
       "\n",
       "    .dataframe tbody tr th {\n",
       "        vertical-align: top;\n",
       "    }\n",
       "\n",
       "    .dataframe thead th {\n",
       "        text-align: right;\n",
       "    }\n",
       "</style>\n",
       "<table border=\"1\" class=\"dataframe\">\n",
       "  <thead>\n",
       "    <tr style=\"text-align: right;\">\n",
       "      <th></th>\n",
       "      <th>WDPAID</th>\n",
       "      <th>WDPA_PID</th>\n",
       "      <th>PA_DEF</th>\n",
       "      <th>NAME</th>\n",
       "      <th>ORIG_NAME</th>\n",
       "      <th>DESIG</th>\n",
       "      <th>DESIG_ENG</th>\n",
       "      <th>DESIG_TYPE</th>\n",
       "      <th>IUCN_CAT</th>\n",
       "      <th>INT_CRIT</th>\n",
       "      <th>...</th>\n",
       "      <th>MANG_AUTH</th>\n",
       "      <th>MANG_PLAN</th>\n",
       "      <th>VERIF</th>\n",
       "      <th>METADATAID</th>\n",
       "      <th>SUB_LOC</th>\n",
       "      <th>PARENT_ISO</th>\n",
       "      <th>ISO3</th>\n",
       "      <th>SUPP_INFO</th>\n",
       "      <th>CONS_OBJ</th>\n",
       "      <th>geometry</th>\n",
       "    </tr>\n",
       "  </thead>\n",
       "  <tbody>\n",
       "    <tr>\n",
       "      <th>0</th>\n",
       "      <td>639.0</td>\n",
       "      <td>639</td>\n",
       "      <td>1</td>\n",
       "      <td>Bamingui-Bangoran</td>\n",
       "      <td>Bamingui-Bangoran</td>\n",
       "      <td>Parc National</td>\n",
       "      <td>National Park</td>\n",
       "      <td>National</td>\n",
       "      <td>II</td>\n",
       "      <td>Not Applicable</td>\n",
       "      <td>...</td>\n",
       "      <td>Not Reported</td>\n",
       "      <td>Not Reported</td>\n",
       "      <td>State Verified</td>\n",
       "      <td>1961</td>\n",
       "      <td>CF-BB</td>\n",
       "      <td>CAF</td>\n",
       "      <td>CAF</td>\n",
       "      <td>Not Applicable</td>\n",
       "      <td>Not Applicable</td>\n",
       "      <td>POLYGON ((19.38930 8.76837, 19.40054 8.76225, ...</td>\n",
       "    </tr>\n",
       "    <tr>\n",
       "      <th>1</th>\n",
       "      <td>1249.0</td>\n",
       "      <td>1249</td>\n",
       "      <td>1</td>\n",
       "      <td>Vassako-Bolo</td>\n",
       "      <td>Vassako-Bolo</td>\n",
       "      <td>Réserve Naturelle Intégrale</td>\n",
       "      <td>Integral nature reserve</td>\n",
       "      <td>National</td>\n",
       "      <td>Ia</td>\n",
       "      <td>Not Applicable</td>\n",
       "      <td>...</td>\n",
       "      <td>Not Reported</td>\n",
       "      <td>Not Reported</td>\n",
       "      <td>State Verified</td>\n",
       "      <td>1961</td>\n",
       "      <td>CF-BB</td>\n",
       "      <td>CAF</td>\n",
       "      <td>CAF</td>\n",
       "      <td>Not Applicable</td>\n",
       "      <td>Not Applicable</td>\n",
       "      <td>POLYGON ((19.67960 8.27289, 19.68591 8.27018, ...</td>\n",
       "    </tr>\n",
       "    <tr>\n",
       "      <th>2</th>\n",
       "      <td>2059.0</td>\n",
       "      <td>2059</td>\n",
       "      <td>1</td>\n",
       "      <td>Basse-Lobaye</td>\n",
       "      <td>Basse-Lobaye</td>\n",
       "      <td>UNESCO-MAB Biosphere Reserve</td>\n",
       "      <td>UNESCO-MAB Biosphere Reserve</td>\n",
       "      <td>International</td>\n",
       "      <td>Not Applicable</td>\n",
       "      <td>Not Applicable</td>\n",
       "      <td>...</td>\n",
       "      <td>Not Reported</td>\n",
       "      <td>Not Reported</td>\n",
       "      <td>Not Reported</td>\n",
       "      <td>715</td>\n",
       "      <td>CF-LB</td>\n",
       "      <td>CAF</td>\n",
       "      <td>CAF</td>\n",
       "      <td>Not Applicable</td>\n",
       "      <td>Not Applicable</td>\n",
       "      <td>POLYGON ((17.79577 3.76105, 17.79817 3.75968, ...</td>\n",
       "    </tr>\n",
       "    <tr>\n",
       "      <th>3</th>\n",
       "      <td>2256.0</td>\n",
       "      <td>2256</td>\n",
       "      <td>1</td>\n",
       "      <td>Manovo-Gounda-Saint Floris</td>\n",
       "      <td>Manovo-Gounda-Saint Floris</td>\n",
       "      <td>Parc National</td>\n",
       "      <td>National Park</td>\n",
       "      <td>National</td>\n",
       "      <td>II</td>\n",
       "      <td>Not Applicable</td>\n",
       "      <td>...</td>\n",
       "      <td>Not Reported</td>\n",
       "      <td>Not Reported</td>\n",
       "      <td>State Verified</td>\n",
       "      <td>1961</td>\n",
       "      <td>CF-BB</td>\n",
       "      <td>CAF</td>\n",
       "      <td>CAF</td>\n",
       "      <td>Not Applicable</td>\n",
       "      <td>Not Applicable</td>\n",
       "      <td>MULTIPOLYGON (((22.27498 8.66107, 22.28476 8.6...</td>\n",
       "    </tr>\n",
       "    <tr>\n",
       "      <th>4</th>\n",
       "      <td>2257.0</td>\n",
       "      <td>2257</td>\n",
       "      <td>1</td>\n",
       "      <td>Avakaba Presidential Park</td>\n",
       "      <td>Avakaba Presidential Park</td>\n",
       "      <td>Réserve Privée</td>\n",
       "      <td>Private Reserve</td>\n",
       "      <td>National</td>\n",
       "      <td>IV</td>\n",
       "      <td>Not Applicable</td>\n",
       "      <td>...</td>\n",
       "      <td>Not Reported</td>\n",
       "      <td>Not Reported</td>\n",
       "      <td>State Verified</td>\n",
       "      <td>1961</td>\n",
       "      <td>CF-BB</td>\n",
       "      <td>CAF</td>\n",
       "      <td>CAF</td>\n",
       "      <td>Not Applicable</td>\n",
       "      <td>Not Applicable</td>\n",
       "      <td>POLYGON ((20.17019 8.28331, 20.15870 8.28643, ...</td>\n",
       "    </tr>\n",
       "  </tbody>\n",
       "</table>\n",
       "<p>5 rows × 31 columns</p>\n",
       "</div>"
      ],
      "text/plain": [
       "   WDPAID WDPA_PID PA_DEF                        NAME  \\\n",
       "0   639.0      639      1           Bamingui-Bangoran   \n",
       "1  1249.0     1249      1                Vassako-Bolo   \n",
       "2  2059.0     2059      1                Basse-Lobaye   \n",
       "3  2256.0     2256      1  Manovo-Gounda-Saint Floris   \n",
       "4  2257.0     2257      1   Avakaba Presidential Park   \n",
       "\n",
       "                    ORIG_NAME                         DESIG  \\\n",
       "0           Bamingui-Bangoran                 Parc National   \n",
       "1                Vassako-Bolo   Réserve Naturelle Intégrale   \n",
       "2                Basse-Lobaye  UNESCO-MAB Biosphere Reserve   \n",
       "3  Manovo-Gounda-Saint Floris                 Parc National   \n",
       "4   Avakaba Presidential Park                Réserve Privée   \n",
       "\n",
       "                      DESIG_ENG     DESIG_TYPE        IUCN_CAT  \\\n",
       "0                 National Park       National              II   \n",
       "1       Integral nature reserve       National              Ia   \n",
       "2  UNESCO-MAB Biosphere Reserve  International  Not Applicable   \n",
       "3                 National Park       National              II   \n",
       "4               Private Reserve       National              IV   \n",
       "\n",
       "         INT_CRIT  ...     MANG_AUTH     MANG_PLAN           VERIF  \\\n",
       "0  Not Applicable  ...  Not Reported  Not Reported  State Verified   \n",
       "1  Not Applicable  ...  Not Reported  Not Reported  State Verified   \n",
       "2  Not Applicable  ...  Not Reported  Not Reported    Not Reported   \n",
       "3  Not Applicable  ...  Not Reported  Not Reported  State Verified   \n",
       "4  Not Applicable  ...  Not Reported  Not Reported  State Verified   \n",
       "\n",
       "   METADATAID  SUB_LOC PARENT_ISO  ISO3       SUPP_INFO        CONS_OBJ  \\\n",
       "0        1961    CF-BB        CAF   CAF  Not Applicable  Not Applicable   \n",
       "1        1961    CF-BB        CAF   CAF  Not Applicable  Not Applicable   \n",
       "2         715    CF-LB        CAF   CAF  Not Applicable  Not Applicable   \n",
       "3        1961    CF-BB        CAF   CAF  Not Applicable  Not Applicable   \n",
       "4        1961    CF-BB        CAF   CAF  Not Applicable  Not Applicable   \n",
       "\n",
       "                                            geometry  \n",
       "0  POLYGON ((19.38930 8.76837, 19.40054 8.76225, ...  \n",
       "1  POLYGON ((19.67960 8.27289, 19.68591 8.27018, ...  \n",
       "2  POLYGON ((17.79577 3.76105, 17.79817 3.75968, ...  \n",
       "3  MULTIPOLYGON (((22.27498 8.66107, 22.28476 8.6...  \n",
       "4  POLYGON ((20.17019 8.28331, 20.15870 8.28643, ...  \n",
       "\n",
       "[5 rows x 31 columns]"
      ]
     },
     "execution_count": 8,
     "metadata": {},
     "output_type": "execute_result"
    }
   ],
   "source": [
    "shp_test_uri = base_uri + 'CAF/WDPA_WDOECM_Mar2021_Public_CAF_shp/WDPA_WDOECM_Mar2021_Public_CAF_shp_0/WDPA_WDOECM_Mar2021_Public_CAF_shp-polygons.shp'\n",
    "\n",
    "gdf = gpd.read_file(shp_test_uri)\n",
    "\n",
    "gdf.head()"
   ]
  },
  {
   "cell_type": "code",
   "execution_count": 9,
   "metadata": {},
   "outputs": [
    {
     "data": {
      "text/html": [
       "<div>\n",
       "<style scoped>\n",
       "    .dataframe tbody tr th:only-of-type {\n",
       "        vertical-align: middle;\n",
       "    }\n",
       "\n",
       "    .dataframe tbody tr th {\n",
       "        vertical-align: top;\n",
       "    }\n",
       "\n",
       "    .dataframe thead th {\n",
       "        text-align: right;\n",
       "    }\n",
       "</style>\n",
       "<table border=\"1\" class=\"dataframe\">\n",
       "  <thead>\n",
       "    <tr style=\"text-align: right;\">\n",
       "      <th></th>\n",
       "      <th>geometry</th>\n",
       "    </tr>\n",
       "  </thead>\n",
       "  <tbody>\n",
       "    <tr>\n",
       "      <th>0</th>\n",
       "      <td>POLYGON ((2805974.897 -338414.842, 2806937.029...</td>\n",
       "    </tr>\n",
       "    <tr>\n",
       "      <th>1</th>\n",
       "      <td>POLYGON ((2805280.646 -337176.848, 2806242.572...</td>\n",
       "    </tr>\n",
       "    <tr>\n",
       "      <th>2</th>\n",
       "      <td>POLYGON ((2805012.843 -338145.264, 2805974.897...</td>\n",
       "    </tr>\n",
       "    <tr>\n",
       "      <th>3</th>\n",
       "      <td>POLYGON ((2803088.968 -337605.720, 2804050.866...</td>\n",
       "    </tr>\n",
       "    <tr>\n",
       "      <th>4</th>\n",
       "      <td>POLYGON ((2802127.147 -337335.754, 2803088.968...</td>\n",
       "    </tr>\n",
       "  </tbody>\n",
       "</table>\n",
       "</div>"
      ],
      "text/plain": [
       "                                            geometry\n",
       "0  POLYGON ((2805974.897 -338414.842, 2806937.029...\n",
       "1  POLYGON ((2805280.646 -337176.848, 2806242.572...\n",
       "2  POLYGON ((2805012.843 -338145.264, 2805974.897...\n",
       "3  POLYGON ((2803088.968 -337605.720, 2804050.866...\n",
       "4  POLYGON ((2802127.147 -337335.754, 2803088.968..."
      ]
     },
     "execution_count": 9,
     "metadata": {},
     "output_type": "execute_result"
    }
   ],
   "source": [
    "new_preds_gdf = gpd.read_file('D:/canopy_data/analysis/pred_new.geojson')\n",
    "\n",
    "new_preds_gdf.head()"
   ]
  },
  {
   "cell_type": "code",
   "execution_count": 10,
   "metadata": {},
   "outputs": [
    {
     "data": {
      "text/plain": [
       "geopandas.geoseries.GeoSeries"
      ]
     },
     "execution_count": 10,
     "metadata": {},
     "output_type": "execute_result"
    }
   ],
   "source": [
    "test_geom = gdf['geometry']\n",
    "\n",
    "type(test_geom)"
   ]
  },
  {
   "cell_type": "code",
   "execution_count": 11,
   "metadata": {},
   "outputs": [],
   "source": [
    "test_intersects = test_geom.intersects(new_preds_gdf.loc[0, 'geometry'])"
   ]
  },
  {
   "cell_type": "code",
   "execution_count": 12,
   "metadata": {},
   "outputs": [
    {
     "data": {
      "text/plain": [
       "0    False\n",
       "1    False\n",
       "2    False\n",
       "3    False\n",
       "4    False\n",
       "5    False\n",
       "6    False\n",
       "7    False\n",
       "8    False\n",
       "dtype: bool"
      ]
     },
     "execution_count": 12,
     "metadata": {},
     "output_type": "execute_result"
    }
   ],
   "source": [
    "test_intersects"
   ]
  },
  {
   "cell_type": "code",
   "execution_count": 13,
   "metadata": {},
   "outputs": [
    {
     "data": {
      "text/plain": [
       "False    9\n",
       "dtype: int64"
      ]
     },
     "execution_count": 13,
     "metadata": {},
     "output_type": "execute_result"
    }
   ],
   "source": [
    "test_intersects.value_counts()"
   ]
  },
  {
   "cell_type": "code",
   "execution_count": 14,
   "metadata": {},
   "outputs": [
    {
     "data": {
      "text/plain": [
       "9"
      ]
     },
     "execution_count": 14,
     "metadata": {},
     "output_type": "execute_result"
    }
   ],
   "source": [
    "len(gdf)"
   ]
  },
  {
   "cell_type": "code",
   "execution_count": 19,
   "metadata": {},
   "outputs": [
    {
     "data": {
      "text/plain": [
       "['D:/canopy_data/Geometry/PA_shapefiles/PA shapefiles\\\\CAF\\\\WDPA_WDOECM_Mar2021_Public_CAF_shp\\\\WDPA_WDOECM_Mar2021_Public_CAF_shp_0\\\\WDPA_WDOECM_Mar2021_Public_CAF_shp-points.shp',\n",
       " 'D:/canopy_data/Geometry/PA_shapefiles/PA shapefiles\\\\CAF\\\\WDPA_WDOECM_Mar2021_Public_CAF_shp\\\\WDPA_WDOECM_Mar2021_Public_CAF_shp_0\\\\WDPA_WDOECM_Mar2021_Public_CAF_shp-polygons.shp',\n",
       " 'D:/canopy_data/Geometry/PA_shapefiles/PA shapefiles\\\\CAF\\\\WDPA_WDOECM_Mar2021_Public_CAF_shp\\\\WDPA_WDOECM_Mar2021_Public_CAF_shp_1\\\\WDPA_WDOECM_Mar2021_Public_CAF_shp-points.shp',\n",
       " 'D:/canopy_data/Geometry/PA_shapefiles/PA shapefiles\\\\CAF\\\\WDPA_WDOECM_Mar2021_Public_CAF_shp\\\\WDPA_WDOECM_Mar2021_Public_CAF_shp_1\\\\WDPA_WDOECM_Mar2021_Public_CAF_shp-polygons.shp',\n",
       " 'D:/canopy_data/Geometry/PA_shapefiles/PA shapefiles\\\\CAF\\\\WDPA_WDOECM_Mar2021_Public_CAF_shp\\\\WDPA_WDOECM_Mar2021_Public_CAF_shp_2\\\\WDPA_WDOECM_Mar2021_Public_CAF_shp-points.shp',\n",
       " 'D:/canopy_data/Geometry/PA_shapefiles/PA shapefiles\\\\CAF\\\\WDPA_WDOECM_Mar2021_Public_CAF_shp\\\\WDPA_WDOECM_Mar2021_Public_CAF_shp_2\\\\WDPA_WDOECM_Mar2021_Public_CAF_shp-polygons.shp',\n",
       " 'D:/canopy_data/Geometry/PA_shapefiles/PA shapefiles\\\\CMR\\\\WDPA_WDOECM_Mar2021_Public_CMR_shp\\\\WDPA_WDOECM_Mar2021_Public_CMR_shp_0\\\\WDPA_WDOECM_Mar2021_Public_CMR_shp-polygons.shp',\n",
       " 'D:/canopy_data/Geometry/PA_shapefiles/PA shapefiles\\\\CMR\\\\WDPA_WDOECM_Mar2021_Public_CMR_shp\\\\WDPA_WDOECM_Mar2021_Public_CMR_shp_1\\\\WDPA_WDOECM_Mar2021_Public_CMR_shp-polygons.shp',\n",
       " 'D:/canopy_data/Geometry/PA_shapefiles/PA shapefiles\\\\CMR\\\\WDPA_WDOECM_Mar2021_Public_CMR_shp\\\\WDPA_WDOECM_Mar2021_Public_CMR_shp_2\\\\WDPA_WDOECM_Mar2021_Public_CMR_shp-polygons.shp',\n",
       " 'D:/canopy_data/Geometry/PA_shapefiles/PA shapefiles\\\\COD\\\\WDPA_WDOECM_Mar2021_Public_COD_shp\\\\WDPA_WDOECM_Mar2021_Public_COD_shp_0\\\\WDPA_WDOECM_Mar2021_Public_COD_shp-points.shp',\n",
       " 'D:/canopy_data/Geometry/PA_shapefiles/PA shapefiles\\\\COD\\\\WDPA_WDOECM_Mar2021_Public_COD_shp\\\\WDPA_WDOECM_Mar2021_Public_COD_shp_0\\\\WDPA_WDOECM_Mar2021_Public_COD_shp-polygons.shp',\n",
       " 'D:/canopy_data/Geometry/PA_shapefiles/PA shapefiles\\\\COD\\\\WDPA_WDOECM_Mar2021_Public_COD_shp\\\\WDPA_WDOECM_Mar2021_Public_COD_shp_1\\\\WDPA_WDOECM_Mar2021_Public_COD_shp-points.shp',\n",
       " 'D:/canopy_data/Geometry/PA_shapefiles/PA shapefiles\\\\COD\\\\WDPA_WDOECM_Mar2021_Public_COD_shp\\\\WDPA_WDOECM_Mar2021_Public_COD_shp_1\\\\WDPA_WDOECM_Mar2021_Public_COD_shp-polygons.shp',\n",
       " 'D:/canopy_data/Geometry/PA_shapefiles/PA shapefiles\\\\COD\\\\WDPA_WDOECM_Mar2021_Public_COD_shp\\\\WDPA_WDOECM_Mar2021_Public_COD_shp_2\\\\WDPA_WDOECM_Mar2021_Public_COD_shp-points.shp',\n",
       " 'D:/canopy_data/Geometry/PA_shapefiles/PA shapefiles\\\\COD\\\\WDPA_WDOECM_Mar2021_Public_COD_shp\\\\WDPA_WDOECM_Mar2021_Public_COD_shp_2\\\\WDPA_WDOECM_Mar2021_Public_COD_shp-polygons.shp',\n",
       " 'D:/canopy_data/Geometry/PA_shapefiles/PA shapefiles\\\\COG\\\\WDPA_WDOECM_Mar2021_Public_COG_shp\\\\WDPA_WDOECM_Mar2021_Public_COG_shp_0\\\\WDPA_WDOECM_Mar2021_Public_COG_shp-polygons.shp',\n",
       " 'D:/canopy_data/Geometry/PA_shapefiles/PA shapefiles\\\\COG\\\\WDPA_WDOECM_Mar2021_Public_COG_shp\\\\WDPA_WDOECM_Mar2021_Public_COG_shp_1\\\\WDPA_WDOECM_Mar2021_Public_COG_shp-polygons.shp',\n",
       " 'D:/canopy_data/Geometry/PA_shapefiles/PA shapefiles\\\\COG\\\\WDPA_WDOECM_Mar2021_Public_COG_shp\\\\WDPA_WDOECM_Mar2021_Public_COG_shp_2\\\\WDPA_WDOECM_Mar2021_Public_COG_shp-polygons.shp',\n",
       " 'D:/canopy_data/Geometry/PA_shapefiles/PA shapefiles\\\\GAB\\\\WDPA_WDOECM_Mar2021_Public_GAB_shp\\\\WDPA_WDOECM_Mar2021_Public_GAB_shp_0\\\\WDPA_WDOECM_Mar2021_Public_GAB_shp-points.shp',\n",
       " 'D:/canopy_data/Geometry/PA_shapefiles/PA shapefiles\\\\GAB\\\\WDPA_WDOECM_Mar2021_Public_GAB_shp\\\\WDPA_WDOECM_Mar2021_Public_GAB_shp_0\\\\WDPA_WDOECM_Mar2021_Public_GAB_shp-polygons.shp',\n",
       " 'D:/canopy_data/Geometry/PA_shapefiles/PA shapefiles\\\\GAB\\\\WDPA_WDOECM_Mar2021_Public_GAB_shp\\\\WDPA_WDOECM_Mar2021_Public_GAB_shp_1\\\\WDPA_WDOECM_Mar2021_Public_GAB_shp-points.shp',\n",
       " 'D:/canopy_data/Geometry/PA_shapefiles/PA shapefiles\\\\GAB\\\\WDPA_WDOECM_Mar2021_Public_GAB_shp\\\\WDPA_WDOECM_Mar2021_Public_GAB_shp_1\\\\WDPA_WDOECM_Mar2021_Public_GAB_shp-polygons.shp',\n",
       " 'D:/canopy_data/Geometry/PA_shapefiles/PA shapefiles\\\\GAB\\\\WDPA_WDOECM_Mar2021_Public_GAB_shp\\\\WDPA_WDOECM_Mar2021_Public_GAB_shp_2\\\\WDPA_WDOECM_Mar2021_Public_GAB_shp-points.shp',\n",
       " 'D:/canopy_data/Geometry/PA_shapefiles/PA shapefiles\\\\GAB\\\\WDPA_WDOECM_Mar2021_Public_GAB_shp\\\\WDPA_WDOECM_Mar2021_Public_GAB_shp_2\\\\WDPA_WDOECM_Mar2021_Public_GAB_shp-polygons.shp',\n",
       " 'D:/canopy_data/Geometry/PA_shapefiles/PA shapefiles\\\\GNQ\\\\WDPA_WDOECM_Mar2021_Public_GNQ_shp\\\\WDPA_WDOECM_Mar2021_Public_GNQ_shp_0\\\\WDPA_WDOECM_Mar2021_Public_GNQ_shp-polygons.shp',\n",
       " 'D:/canopy_data/Geometry/PA_shapefiles/PA shapefiles\\\\GNQ\\\\WDPA_WDOECM_Mar2021_Public_GNQ_shp\\\\WDPA_WDOECM_Mar2021_Public_GNQ_shp_1\\\\WDPA_WDOECM_Mar2021_Public_GNQ_shp-polygons.shp',\n",
       " 'D:/canopy_data/Geometry/PA_shapefiles/PA shapefiles\\\\GNQ\\\\WDPA_WDOECM_Mar2021_Public_GNQ_shp\\\\WDPA_WDOECM_Mar2021_Public_GNQ_shp_2\\\\WDPA_WDOECM_Mar2021_Public_GNQ_shp-polygons.shp']"
      ]
     },
     "execution_count": 19,
     "metadata": {},
     "output_type": "execute_result"
    }
   ],
   "source": [
    "import glob\n",
    "\n",
    "glob.glob(base_uri + '*/*/*/*.shp')"
   ]
  },
  {
   "cell_type": "code",
   "execution_count": 20,
   "metadata": {},
   "outputs": [
    {
     "data": {
      "text/plain": [
       "pandas.core.series.Series"
      ]
     },
     "execution_count": 20,
     "metadata": {},
     "output_type": "execute_result"
    }
   ],
   "source": [
    "type(test_intersects)"
   ]
  },
  {
   "cell_type": "code",
   "execution_count": 21,
   "metadata": {},
   "outputs": [
    {
     "data": {
      "text/plain": [
       "False"
      ]
     },
     "execution_count": 21,
     "metadata": {},
     "output_type": "execute_result"
    }
   ],
   "source": [
    "any(test_intersects)"
   ]
  },
  {
   "cell_type": "code",
   "execution_count": 23,
   "metadata": {},
   "outputs": [
    {
     "data": {
      "text/plain": [
       "pandas.core.series.Series"
      ]
     },
     "execution_count": 23,
     "metadata": {},
     "output_type": "execute_result"
    }
   ],
   "source": [
    "d = {'test': [False, True, False]}\n",
    "\n",
    "df = pd.DataFrame(d)\n",
    "\n",
    "type(df['test'])"
   ]
  },
  {
   "cell_type": "code",
   "execution_count": 24,
   "metadata": {},
   "outputs": [
    {
     "data": {
      "text/plain": [
       "True"
      ]
     },
     "execution_count": 24,
     "metadata": {},
     "output_type": "execute_result"
    }
   ],
   "source": [
    "any(df['test'])"
   ]
  },
  {
   "cell_type": "code",
   "execution_count": 26,
   "metadata": {},
   "outputs": [
    {
     "data": {
      "text/plain": [
       "(9, 31)"
      ]
     },
     "execution_count": 26,
     "metadata": {},
     "output_type": "execute_result"
    }
   ],
   "source": [
    "gdf.shape"
   ]
  },
  {
   "cell_type": "code",
   "execution_count": 28,
   "metadata": {},
   "outputs": [
    {
     "name": "stdout",
     "output_type": "stream",
     "text": [
      "(0, 0)\n",
      "(9, 31)\n"
     ]
    }
   ],
   "source": [
    "test_gdf = gpd.GeoDataFrame()\n",
    "\n",
    "print(test_gdf.shape)\n",
    "\n",
    "test_gdf = test_gdf.append(gdf)\n",
    "\n",
    "print(test_gdf.shape)"
   ]
  },
  {
   "cell_type": "code",
   "execution_count": 29,
   "metadata": {},
   "outputs": [
    {
     "data": {
      "text/plain": [
       "<Geographic 2D CRS: EPSG:4326>\n",
       "Name: WGS 84\n",
       "Axis Info [ellipsoidal]:\n",
       "- Lat[north]: Geodetic latitude (degree)\n",
       "- Lon[east]: Geodetic longitude (degree)\n",
       "Area of Use:\n",
       "- name: World\n",
       "- bounds: (-180.0, -90.0, 180.0, 90.0)\n",
       "Datum: World Geodetic System 1984\n",
       "- Ellipsoid: WGS 84\n",
       "- Prime Meridian: Greenwich"
      ]
     },
     "execution_count": 29,
     "metadata": {},
     "output_type": "execute_result"
    }
   ],
   "source": [
    "gdf.crs"
   ]
  },
  {
   "cell_type": "code",
   "execution_count": 30,
   "metadata": {},
   "outputs": [
    {
     "data": {
      "text/plain": [
       "<Projected CRS: EPSG:3857>\n",
       "Name: WGS 84 / Pseudo-Mercator\n",
       "Axis Info [cartesian]:\n",
       "- X[east]: Easting (metre)\n",
       "- Y[north]: Northing (metre)\n",
       "Area of Use:\n",
       "- name: World - 85°S to 85°N\n",
       "- bounds: (-180.0, -85.06, 180.0, 85.06)\n",
       "Coordinate Operation:\n",
       "- name: Popular Visualisation Pseudo-Mercator\n",
       "- method: Popular Visualisation Pseudo Mercator\n",
       "Datum: World Geodetic System 1984\n",
       "- Ellipsoid: WGS 84\n",
       "- Prime Meridian: Greenwich"
      ]
     },
     "execution_count": 30,
     "metadata": {},
     "output_type": "execute_result"
    }
   ],
   "source": [
    "new_preds_gdf.crs"
   ]
  },
  {
   "cell_type": "code",
   "execution_count": 33,
   "metadata": {},
   "outputs": [
    {
     "data": {
      "text/plain": [
       "<Geographic 2D CRS: EPSG:4326>\n",
       "Name: WGS 84\n",
       "Axis Info [ellipsoidal]:\n",
       "- Lat[north]: Geodetic latitude (degree)\n",
       "- Lon[east]: Geodetic longitude (degree)\n",
       "Area of Use:\n",
       "- name: World\n",
       "- bounds: (-180.0, -90.0, 180.0, 90.0)\n",
       "Datum: World Geodetic System 1984\n",
       "- Ellipsoid: WGS 84\n",
       "- Prime Meridian: Greenwich"
      ]
     },
     "execution_count": 33,
     "metadata": {},
     "output_type": "execute_result"
    }
   ],
   "source": [
    "gpd.GeoDataFrame().append(gdf).crs"
   ]
  },
  {
   "cell_type": "code",
   "execution_count": 35,
   "metadata": {},
   "outputs": [
    {
     "name": "stdout",
     "output_type": "stream",
     "text": [
      "(251, 31)\n"
     ]
    },
    {
     "data": {
      "text/html": [
       "<div>\n",
       "<style scoped>\n",
       "    .dataframe tbody tr th:only-of-type {\n",
       "        vertical-align: middle;\n",
       "    }\n",
       "\n",
       "    .dataframe tbody tr th {\n",
       "        vertical-align: top;\n",
       "    }\n",
       "\n",
       "    .dataframe thead th {\n",
       "        text-align: right;\n",
       "    }\n",
       "</style>\n",
       "<table border=\"1\" class=\"dataframe\">\n",
       "  <thead>\n",
       "    <tr style=\"text-align: right;\">\n",
       "      <th></th>\n",
       "      <th>WDPAID</th>\n",
       "      <th>WDPA_PID</th>\n",
       "      <th>PA_DEF</th>\n",
       "      <th>NAME</th>\n",
       "      <th>ORIG_NAME</th>\n",
       "      <th>DESIG</th>\n",
       "      <th>DESIG_ENG</th>\n",
       "      <th>DESIG_TYPE</th>\n",
       "      <th>IUCN_CAT</th>\n",
       "      <th>INT_CRIT</th>\n",
       "      <th>...</th>\n",
       "      <th>VERIF</th>\n",
       "      <th>METADATAID</th>\n",
       "      <th>SUB_LOC</th>\n",
       "      <th>PARENT_ISO</th>\n",
       "      <th>ISO3</th>\n",
       "      <th>SUPP_INFO</th>\n",
       "      <th>CONS_OBJ</th>\n",
       "      <th>geometry</th>\n",
       "      <th>GIS_M_AREA</th>\n",
       "      <th>GIS_AREA</th>\n",
       "    </tr>\n",
       "  </thead>\n",
       "  <tbody>\n",
       "    <tr>\n",
       "      <th>0</th>\n",
       "      <td>902803.0</td>\n",
       "      <td>902803</td>\n",
       "      <td>1</td>\n",
       "      <td>Les Rivières de Mbaéré-Bodingué</td>\n",
       "      <td>Les Rivières de Mbaéré-Bodingué</td>\n",
       "      <td>Ramsar Site, Wetland of International Importance</td>\n",
       "      <td>Ramsar Site, Wetland of International Importance</td>\n",
       "      <td>International</td>\n",
       "      <td>Not Reported</td>\n",
       "      <td>Not Reported</td>\n",
       "      <td>...</td>\n",
       "      <td>State Verified</td>\n",
       "      <td>1856</td>\n",
       "      <td>CF-SE; CF-LB</td>\n",
       "      <td>CAF</td>\n",
       "      <td>CAF</td>\n",
       "      <td>Not Applicable</td>\n",
       "      <td>Not Applicable</td>\n",
       "      <td>MULTIPOINT (1985197.586 427043.421)</td>\n",
       "      <td>NaN</td>\n",
       "      <td>NaN</td>\n",
       "    </tr>\n",
       "    <tr>\n",
       "      <th>1</th>\n",
       "      <td>555542690.0</td>\n",
       "      <td>555542690</td>\n",
       "      <td>1</td>\n",
       "      <td>Riviere Sangha située en République Centrafric...</td>\n",
       "      <td>Riviere Sangha située en République Centrafric...</td>\n",
       "      <td>Ramsar Site, Wetland of International Importance</td>\n",
       "      <td>Ramsar Site, Wetland of International Importance</td>\n",
       "      <td>International</td>\n",
       "      <td>Not Reported</td>\n",
       "      <td>(ii)(iii)(vii)</td>\n",
       "      <td>...</td>\n",
       "      <td>State Verified</td>\n",
       "      <td>1856</td>\n",
       "      <td>CF-SE</td>\n",
       "      <td>CAF</td>\n",
       "      <td>CAF</td>\n",
       "      <td>Not Applicable</td>\n",
       "      <td>Not Applicable</td>\n",
       "      <td>MULTIPOINT (1808941.725 296959.205)</td>\n",
       "      <td>NaN</td>\n",
       "      <td>NaN</td>\n",
       "    </tr>\n",
       "    <tr>\n",
       "      <th>2</th>\n",
       "      <td>9022.0</td>\n",
       "      <td>9022</td>\n",
       "      <td>1</td>\n",
       "      <td>Bongo</td>\n",
       "      <td>Bongo</td>\n",
       "      <td>Sanctuary</td>\n",
       "      <td>Sanctuary</td>\n",
       "      <td>National</td>\n",
       "      <td>Not Reported</td>\n",
       "      <td>Not Applicable</td>\n",
       "      <td>...</td>\n",
       "      <td>Not Reported</td>\n",
       "      <td>1961</td>\n",
       "      <td>CF-HK</td>\n",
       "      <td>CAF</td>\n",
       "      <td>CAF</td>\n",
       "      <td>Not Applicable</td>\n",
       "      <td>Not Applicable</td>\n",
       "      <td>MULTIPOINT (2471292.696 936576.183)</td>\n",
       "      <td>NaN</td>\n",
       "      <td>NaN</td>\n",
       "    </tr>\n",
       "    <tr>\n",
       "      <th>3</th>\n",
       "      <td>28750.0</td>\n",
       "      <td>28750</td>\n",
       "      <td>1</td>\n",
       "      <td>Batangafo</td>\n",
       "      <td>Batangafo</td>\n",
       "      <td>Classified Forest</td>\n",
       "      <td>Classified Forest</td>\n",
       "      <td>National</td>\n",
       "      <td>Not Reported</td>\n",
       "      <td>Not Applicable</td>\n",
       "      <td>...</td>\n",
       "      <td>State Verified</td>\n",
       "      <td>1961</td>\n",
       "      <td>CF-HS</td>\n",
       "      <td>CAF</td>\n",
       "      <td>CAF</td>\n",
       "      <td>Not Applicable</td>\n",
       "      <td>Not Applicable</td>\n",
       "      <td>MULTIPOINT (1769979.904 501453.510)</td>\n",
       "      <td>NaN</td>\n",
       "      <td>NaN</td>\n",
       "    </tr>\n",
       "    <tr>\n",
       "      <th>0</th>\n",
       "      <td>639.0</td>\n",
       "      <td>639</td>\n",
       "      <td>1</td>\n",
       "      <td>Bamingui-Bangoran</td>\n",
       "      <td>Bamingui-Bangoran</td>\n",
       "      <td>Parc National</td>\n",
       "      <td>National Park</td>\n",
       "      <td>National</td>\n",
       "      <td>II</td>\n",
       "      <td>Not Applicable</td>\n",
       "      <td>...</td>\n",
       "      <td>State Verified</td>\n",
       "      <td>1961</td>\n",
       "      <td>CF-BB</td>\n",
       "      <td>CAF</td>\n",
       "      <td>CAF</td>\n",
       "      <td>Not Applicable</td>\n",
       "      <td>Not Applicable</td>\n",
       "      <td>POLYGON ((2158407.003 979923.000, 2159658.234 ...</td>\n",
       "      <td>0.0</td>\n",
       "      <td>11263.594978</td>\n",
       "    </tr>\n",
       "  </tbody>\n",
       "</table>\n",
       "<p>5 rows × 31 columns</p>\n",
       "</div>"
      ],
      "text/plain": [
       "        WDPAID   WDPA_PID PA_DEF  \\\n",
       "0     902803.0     902803      1   \n",
       "1  555542690.0  555542690      1   \n",
       "2       9022.0       9022      1   \n",
       "3      28750.0      28750      1   \n",
       "0        639.0        639      1   \n",
       "\n",
       "                                                NAME  \\\n",
       "0                    Les Rivières de Mbaéré-Bodingué   \n",
       "1  Riviere Sangha située en République Centrafric...   \n",
       "2                                              Bongo   \n",
       "3                                          Batangafo   \n",
       "0                                  Bamingui-Bangoran   \n",
       "\n",
       "                                           ORIG_NAME  \\\n",
       "0                    Les Rivières de Mbaéré-Bodingué   \n",
       "1  Riviere Sangha située en République Centrafric...   \n",
       "2                                              Bongo   \n",
       "3                                          Batangafo   \n",
       "0                                  Bamingui-Bangoran   \n",
       "\n",
       "                                              DESIG  \\\n",
       "0  Ramsar Site, Wetland of International Importance   \n",
       "1  Ramsar Site, Wetland of International Importance   \n",
       "2                                         Sanctuary   \n",
       "3                                 Classified Forest   \n",
       "0                                     Parc National   \n",
       "\n",
       "                                          DESIG_ENG     DESIG_TYPE  \\\n",
       "0  Ramsar Site, Wetland of International Importance  International   \n",
       "1  Ramsar Site, Wetland of International Importance  International   \n",
       "2                                         Sanctuary       National   \n",
       "3                                 Classified Forest       National   \n",
       "0                                     National Park       National   \n",
       "\n",
       "       IUCN_CAT        INT_CRIT  ...           VERIF  METADATAID  \\\n",
       "0  Not Reported    Not Reported  ...  State Verified        1856   \n",
       "1  Not Reported  (ii)(iii)(vii)  ...  State Verified        1856   \n",
       "2  Not Reported  Not Applicable  ...    Not Reported        1961   \n",
       "3  Not Reported  Not Applicable  ...  State Verified        1961   \n",
       "0            II  Not Applicable  ...  State Verified        1961   \n",
       "\n",
       "        SUB_LOC PARENT_ISO  ISO3       SUPP_INFO        CONS_OBJ  \\\n",
       "0  CF-SE; CF-LB        CAF   CAF  Not Applicable  Not Applicable   \n",
       "1         CF-SE        CAF   CAF  Not Applicable  Not Applicable   \n",
       "2         CF-HK        CAF   CAF  Not Applicable  Not Applicable   \n",
       "3         CF-HS        CAF   CAF  Not Applicable  Not Applicable   \n",
       "0         CF-BB        CAF   CAF  Not Applicable  Not Applicable   \n",
       "\n",
       "                                            geometry GIS_M_AREA      GIS_AREA  \n",
       "0                MULTIPOINT (1985197.586 427043.421)        NaN           NaN  \n",
       "1                MULTIPOINT (1808941.725 296959.205)        NaN           NaN  \n",
       "2                MULTIPOINT (2471292.696 936576.183)        NaN           NaN  \n",
       "3                MULTIPOINT (1769979.904 501453.510)        NaN           NaN  \n",
       "0  POLYGON ((2158407.003 979923.000, 2159658.234 ...        0.0  11263.594978  \n",
       "\n",
       "[5 rows x 31 columns]"
      ]
     },
     "execution_count": 35,
     "metadata": {},
     "output_type": "execute_result"
    }
   ],
   "source": [
    "shp_uris = glob.glob(base_uri + '*/*/*/*.shp')\n",
    "\n",
    "shp_gdf = gpd.GeoDataFrame()\n",
    "\n",
    "for uri in shp_uris:\n",
    "    gdf2 = gpd.read_file(uri)\n",
    "    gdf2 = gdf2.to_crs('EPSG:3857')\n",
    "    shp_gdf = shp_gdf.append(gdf2)\n",
    "    \n",
    "print(shp_gdf.shape)\n",
    "\n",
    "shp_gdf.head()"
   ]
  },
  {
   "cell_type": "code",
   "execution_count": 36,
   "metadata": {},
   "outputs": [
    {
     "data": {
      "text/plain": [
       "<Projected CRS: EPSG:3857>\n",
       "Name: WGS 84 / Pseudo-Mercator\n",
       "Axis Info [cartesian]:\n",
       "- X[east]: Easting (metre)\n",
       "- Y[north]: Northing (metre)\n",
       "Area of Use:\n",
       "- name: World - 85°S to 85°N\n",
       "- bounds: (-180.0, -85.06, 180.0, 85.06)\n",
       "Coordinate Operation:\n",
       "- name: Popular Visualisation Pseudo-Mercator\n",
       "- method: Popular Visualisation Pseudo Mercator\n",
       "Datum: World Geodetic System 1984\n",
       "- Ellipsoid: WGS 84\n",
       "- Prime Meridian: Greenwich"
      ]
     },
     "execution_count": 36,
     "metadata": {},
     "output_type": "execute_result"
    }
   ],
   "source": [
    "shp_gdf.crs"
   ]
  },
  {
   "cell_type": "code",
   "execution_count": 25,
   "metadata": {},
   "outputs": [],
   "source": [
    "def see_if_intersects(polygon, gdf):\n",
    "    return any(gdf['geometry'].intersects(polygon))"
   ]
  },
  {
   "cell_type": "code",
   "execution_count": 37,
   "metadata": {},
   "outputs": [
    {
     "name": "stdout",
     "output_type": "stream",
     "text": [
      "Polygon 93448 of 93448\r"
     ]
    }
   ],
   "source": [
    "intersects_PA = []\n",
    "\n",
    "for i in range(len(new_preds_gdf)):\n",
    "    print(f'Polygon {i+1} of {len(new_preds_gdf)}', end='\\r', flush=True)\n",
    "    poly = new_preds_gdf.loc[i, 'geometry']\n",
    "    \n",
    "    intersects_PA.append(see_if_intersects(poly, shp_gdf))"
   ]
  },
  {
   "cell_type": "code",
   "execution_count": 39,
   "metadata": {},
   "outputs": [
    {
     "data": {
      "text/html": [
       "<div>\n",
       "<style scoped>\n",
       "    .dataframe tbody tr th:only-of-type {\n",
       "        vertical-align: middle;\n",
       "    }\n",
       "\n",
       "    .dataframe tbody tr th {\n",
       "        vertical-align: top;\n",
       "    }\n",
       "\n",
       "    .dataframe thead th {\n",
       "        text-align: right;\n",
       "    }\n",
       "</style>\n",
       "<table border=\"1\" class=\"dataframe\">\n",
       "  <thead>\n",
       "    <tr style=\"text-align: right;\">\n",
       "      <th></th>\n",
       "      <th>geometry</th>\n",
       "      <th>intersects_PA</th>\n",
       "    </tr>\n",
       "  </thead>\n",
       "  <tbody>\n",
       "    <tr>\n",
       "      <th>0</th>\n",
       "      <td>POLYGON ((2805974.897 -338414.842, 2806937.029...</td>\n",
       "      <td>True</td>\n",
       "    </tr>\n",
       "    <tr>\n",
       "      <th>1</th>\n",
       "      <td>POLYGON ((2805280.646 -337176.848, 2806242.572...</td>\n",
       "      <td>True</td>\n",
       "    </tr>\n",
       "    <tr>\n",
       "      <th>2</th>\n",
       "      <td>POLYGON ((2805012.843 -338145.264, 2805974.897...</td>\n",
       "      <td>True</td>\n",
       "    </tr>\n",
       "    <tr>\n",
       "      <th>3</th>\n",
       "      <td>POLYGON ((2803088.968 -337605.720, 2804050.866...</td>\n",
       "      <td>True</td>\n",
       "    </tr>\n",
       "    <tr>\n",
       "      <th>4</th>\n",
       "      <td>POLYGON ((2802127.147 -337335.754, 2803088.968...</td>\n",
       "      <td>True</td>\n",
       "    </tr>\n",
       "  </tbody>\n",
       "</table>\n",
       "</div>"
      ],
      "text/plain": [
       "                                            geometry  intersects_PA\n",
       "0  POLYGON ((2805974.897 -338414.842, 2806937.029...           True\n",
       "1  POLYGON ((2805280.646 -337176.848, 2806242.572...           True\n",
       "2  POLYGON ((2805012.843 -338145.264, 2805974.897...           True\n",
       "3  POLYGON ((2803088.968 -337605.720, 2804050.866...           True\n",
       "4  POLYGON ((2802127.147 -337335.754, 2803088.968...           True"
      ]
     },
     "execution_count": 39,
     "metadata": {},
     "output_type": "execute_result"
    }
   ],
   "source": [
    "new_preds_gdf['intersects_PA'] = intersects_PA\n",
    "\n",
    "new_preds_gdf.head()"
   ]
  },
  {
   "cell_type": "code",
   "execution_count": 40,
   "metadata": {},
   "outputs": [
    {
     "data": {
      "text/plain": [
       "False    78032\n",
       "True     15416\n",
       "Name: intersects_PA, dtype: int64"
      ]
     },
     "execution_count": 40,
     "metadata": {},
     "output_type": "execute_result"
    }
   ],
   "source": [
    " new_preds_gdf['intersects_PA'].value_counts()"
   ]
  },
  {
   "cell_type": "code",
   "execution_count": 42,
   "metadata": {},
   "outputs": [
    {
     "name": "stdout",
     "output_type": "stream",
     "text": [
      "15416 78032\n"
     ]
    }
   ],
   "source": [
    "preds_overlap_pa = new_preds_gdf[new_preds_gdf['intersects_PA'] == True].reset_index(drop=True)\n",
    "\n",
    "preds_not_overlap_pa = new_preds_gdf[new_preds_gdf['intersects_PA'] == False].reset_index(drop=True)\n",
    "\n",
    "print(len(preds_overlap_pa), len(preds_not_overlap_pa))"
   ]
  },
  {
   "cell_type": "code",
   "execution_count": 43,
   "metadata": {},
   "outputs": [
    {
     "data": {
      "text/html": [
       "<div>\n",
       "<style scoped>\n",
       "    .dataframe tbody tr th:only-of-type {\n",
       "        vertical-align: middle;\n",
       "    }\n",
       "\n",
       "    .dataframe tbody tr th {\n",
       "        vertical-align: top;\n",
       "    }\n",
       "\n",
       "    .dataframe thead th {\n",
       "        text-align: right;\n",
       "    }\n",
       "</style>\n",
       "<table border=\"1\" class=\"dataframe\">\n",
       "  <thead>\n",
       "    <tr style=\"text-align: right;\">\n",
       "      <th></th>\n",
       "      <th>geometry</th>\n",
       "      <th>intersects_PA</th>\n",
       "    </tr>\n",
       "  </thead>\n",
       "  <tbody>\n",
       "    <tr>\n",
       "      <th>0</th>\n",
       "      <td>POLYGON ((2805974.897 -338414.842, 2806937.029...</td>\n",
       "      <td>True</td>\n",
       "    </tr>\n",
       "    <tr>\n",
       "      <th>1</th>\n",
       "      <td>POLYGON ((2805280.646 -337176.848, 2806242.572...</td>\n",
       "      <td>True</td>\n",
       "    </tr>\n",
       "    <tr>\n",
       "      <th>2</th>\n",
       "      <td>POLYGON ((2805012.843 -338145.264, 2805974.897...</td>\n",
       "      <td>True</td>\n",
       "    </tr>\n",
       "    <tr>\n",
       "      <th>3</th>\n",
       "      <td>POLYGON ((2803088.968 -337605.720, 2804050.866...</td>\n",
       "      <td>True</td>\n",
       "    </tr>\n",
       "    <tr>\n",
       "      <th>4</th>\n",
       "      <td>POLYGON ((2802127.147 -337335.754, 2803088.968...</td>\n",
       "      <td>True</td>\n",
       "    </tr>\n",
       "  </tbody>\n",
       "</table>\n",
       "</div>"
      ],
      "text/plain": [
       "                                            geometry  intersects_PA\n",
       "0  POLYGON ((2805974.897 -338414.842, 2806937.029...           True\n",
       "1  POLYGON ((2805280.646 -337176.848, 2806242.572...           True\n",
       "2  POLYGON ((2805012.843 -338145.264, 2805974.897...           True\n",
       "3  POLYGON ((2803088.968 -337605.720, 2804050.866...           True\n",
       "4  POLYGON ((2802127.147 -337335.754, 2803088.968...           True"
      ]
     },
     "execution_count": 43,
     "metadata": {},
     "output_type": "execute_result"
    }
   ],
   "source": [
    "preds_overlap_pa.head()"
   ]
  },
  {
   "cell_type": "code",
   "execution_count": 44,
   "metadata": {},
   "outputs": [],
   "source": [
    "preds_overlap_pa['geometry'].to_file('D:/canopy_data/analysis/preds_overlap_pa.geojson', driver='GeoJSON')\n",
    "\n",
    "preds_not_overlap_pa['geometry'].to_file('D:/canopy_data/analysis/preds_not_overlap_pa.geojson', driver='GeoJSON')"
   ]
  },
  {
   "cell_type": "code",
   "execution_count": 45,
   "metadata": {},
   "outputs": [
    {
     "data": {
      "text/plain": [
       "0.16496875267528466"
      ]
     },
     "execution_count": 45,
     "metadata": {},
     "output_type": "execute_result"
    }
   ],
   "source": [
    "len(preds_overlap_pa) / len(new_preds_gdf)"
   ]
  },
  {
   "cell_type": "code",
   "execution_count": 46,
   "metadata": {},
   "outputs": [],
   "source": [
    "shp_gdf['geometry'].to_file('D:/canopy_data/analysis/PA_all.geojson', driver='GeoJSON')"
   ]
  },
  {
   "cell_type": "code",
   "execution_count": null,
   "metadata": {},
   "outputs": [],
   "source": []
  }
 ],
 "metadata": {
  "kernelspec": {
   "display_name": "canopy-conda",
   "language": "python",
   "name": "canopy_conda"
  },
  "language_info": {
   "codemirror_mode": {
    "name": "ipython",
    "version": 3
   },
   "file_extension": ".py",
   "mimetype": "text/x-python",
   "name": "python",
   "nbconvert_exporter": "python",
   "pygments_lexer": "ipython3",
   "version": "3.8.5"
  }
 },
 "nbformat": 4,
 "nbformat_minor": 4
}
