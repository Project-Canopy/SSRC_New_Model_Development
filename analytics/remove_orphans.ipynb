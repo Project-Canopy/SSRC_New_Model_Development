{
 "cells": [
  {
   "cell_type": "markdown",
   "metadata": {},
   "source": [
    "## Imports"
   ]
  },
  {
   "cell_type": "code",
   "execution_count": 1,
   "metadata": {},
   "outputs": [],
   "source": [
    "import geopandas as gpd\n",
    "from shapely.geometry import Polygon\n",
    "import numpy as np\n",
    "from scipy.spatial import cKDTree"
   ]
  },
  {
   "cell_type": "markdown",
   "metadata": {},
   "source": [
    "## Functions"
   ]
  },
  {
   "cell_type": "code",
   "execution_count": 2,
   "metadata": {},
   "outputs": [],
   "source": [
    "def isolate_coords(shapely_coords):\n",
    "    \"\"\"Remove the outer 'list' from a set of shapely coordinates\"\"\"\n",
    "    x = list(shapely_coords)[0][0]\n",
    "    y = list(shapely_coords)[0][1]\n",
    "    return [x,y]"
   ]
  },
  {
   "cell_type": "code",
   "execution_count": 4,
   "metadata": {},
   "outputs": [],
   "source": [
    "def flatten_xys(arr):\n",
    "    \"\"\"Flatten an array into a single list for a cKDTree\"\"\"\n",
    "    l = []\n",
    "    for i in range(2):\n",
    "        for j in range(4):\n",
    "            l.append(arr[i][j])\n",
    "            \n",
    "    return np.array(l)\n",
    "\n",
    "\n",
    "def make_ckdtree(gdf, geom_column='geometry'):\n",
    "    \"\"\"\n",
    "    Make a cKDtree from a geodataframe.\n",
    "    The cKDtree contains the exterior coordinates of your geometry.\n",
    "    gdf: The geodataframe\n",
    "    geom_column: The column that contains your geometry\n",
    "    \"\"\"\n",
    "    gdf2 = gdf.copy()\n",
    "    gdf2['xy'] = gdf2[geom_column].apply(lambda x:x.exterior.xy) # ony want the exterior\n",
    "    n = np.array(list(gdf2['xy'].apply(flatten_xys))) # flatten the coordinates\n",
    "    return cKDTree(n)"
   ]
  },
  {
   "cell_type": "code",
   "execution_count": 5,
   "metadata": {},
   "outputs": [],
   "source": [
    "# https://gis.stackexchange.com/questions/222315/geopandas-find-nearest-point-in-other-dataframe\n",
    "\n",
    "def find_orphans_new(gdf, geom_column='geometry', max_distance=1000):\n",
    "    \"\"\"\n",
    "    Given a geodataframe with predictions, find the 'orphan' predictions.\n",
    "    An orphan prediction fits one of these two conditions:\n",
    "        a) There is no other prediction within max_distance kilometers\n",
    "        b) There is *one* other prediction that *touches* the given prediction, and no\n",
    "        other prediction is within max_distance kilometers of either.\n",
    "    IMPORTANT NOTE: The EPSG **must be 3857**\n",
    "    gdf: The geodataframe with predictions\n",
    "    geom_column: The column with your predictions (default is geometry)\n",
    "    max_distance: Default 1000 kilometers\n",
    "    \"\"\"\n",
    "    \n",
    "    tree = make_ckdtree(gdf, geom_column) # make a cKDTree to make finding the nearest prediction faster\n",
    "    \n",
    "    is_orphan = [True] * len(gdf) # Start with every prediction as an orphan\n",
    "    index_covered = []\n",
    "    \n",
    "    for i in range(len(gdf)):\n",
    "        print(f'Analyzing row {i+1} of {len(gdf)}', end='\\r', flush=True)\n",
    "        if i not in index_covered:\n",
    "            poly = gdf.loc[i, geom_column]\n",
    "            poly_arr = flatten_xys(poly.exterior.xy) # flatten polygon coordinates\n",
    "            closest_index = tree.query(poly_arr, k=2)[1][1] # use the cKDTree to find the closest prediction\n",
    "            closest_poly = gdf.loc[closest_index, geom_column] # get the polygon of the closest prediction\n",
    "            distance = poly.distance(closest_poly) # find the distance between both polygons\n",
    "\n",
    "            if distance >= max_distance:\n",
    "                continue # The closest prediction is further than max_distance km away, so it's an orphan\n",
    "\n",
    "            elif distance == 0:\n",
    "                # There is another prediction that touches the current one. Need to see if there's\n",
    "                # another prediction within max_distance km of either.\n",
    "                poly_arr_2 = flatten_xys(closest_poly.exterior.xy)\n",
    "                closest_index_1 = tree.query(poly_arr, k=3)[1][2]\n",
    "                closest_index_2 = tree.query(poly_arr_2, k=3)[1][2]\n",
    "                closest_poly_1 = gdf.loc[closest_index_1, geom_column]\n",
    "                closest_poly_2 = gdf.loc[closest_index_2, geom_column]\n",
    "                distance_1 = poly.distance(closest_poly_1)\n",
    "                distance_2 = closest_poly.distance(closest_poly_2)\n",
    "                # If either distance is less than max_distance, the prediction isn't an orphan.\n",
    "                # Also, the polygon touching it, as well as the third polygon close to them, aren't orphans.\n",
    "                # So change the requisite values in the \"is_orphan\" list to False, and append the other\n",
    "                # two indexes to \"index_covered\" so the loop skips them.\n",
    "                if distance_1 < max_distance:\n",
    "                    is_orphan[i] = False\n",
    "                    is_orphan[closest_index] = False\n",
    "                    is_orphan[closest_index_1] = False\n",
    "                    index_covered.append(closest_index)\n",
    "                    index_covered.append(closest_index_1)\n",
    "                if distance_2 < max_distance:\n",
    "                    is_orphan[i] = False\n",
    "                    is_orphan[closest_index] = False\n",
    "                    is_orphan[closest_index_2] = False\n",
    "                    index_covered.append(closest_index)\n",
    "                    index_covered.append(closest_index_2)\n",
    "                \n",
    "            else:\n",
    "                # There is another prediction within max_distance km, so neither are orphans.\n",
    "                # Append the other index to index_covered so the loop skips it.\n",
    "                is_orphan[i] = False\n",
    "                is_orphan[closest_index] = False\n",
    "                index_covered.append(closest_index)\n",
    "                \n",
    "    gdf2 = gdf.copy()\n",
    "    gdf2['is_orphan'] = is_orphan\n",
    "    return gdf2"
   ]
  },
  {
   "cell_type": "code",
   "execution_count": null,
   "metadata": {},
   "outputs": [],
   "source": [
    "def save_nonorphans_to_file(preds_loc, new_loc, preds_crs='EPSG:4326', geom_column='geometry', max_distance=1000):\n",
    "    \"\"\"\n",
    "    Finds the non-orphans and saves them to a new file\n",
    "    preds_loc: The location of your predictions\n",
    "    new_loc: Where you want to save the non-orphan predictions (including filename)\n",
    "    preds_crs: The CRS of your predictions (default is EPSG:4326)\n",
    "    geom_column: The column name of your prediction polygons (default is geometry)\n",
    "    max_distance: If the closest prediction is more than max_distance km away, it counts as an orphan\n",
    "    \"\"\"\n",
    "\n",
    "    gdf = gpd.read_file(preds_loc)\n",
    "    if preds_crs != 'EPSG:3857':\n",
    "        gdf = gdf.to_crs('EPSG:3857') # switch EPSG to 3857 if it isn't that already\n",
    "        \n",
    "    gdf_orphans = find_orphans_new(gdf, geom_column, max_distance) # find orphans\n",
    "    \n",
    "    pred_non_orphans = gdf_orphans[gdf_orphans['is_orphan'] == False] # extract non-orphans\n",
    "    pred_non_orphans = pred_non_orphans.drop(['is_orphan'], axis=1).reset_index(drop=True)\n",
    "    if preds_crs != 'EPSG:3857':\n",
    "        pred_non_orphans = pred_non_orphans.to_crs(preds_crs) # switch EPSG back if necessary\n",
    "        \n",
    "    pred_non_orphans.to_file(new_loc, driver='GeoJSON') # save non-orphan predictions"
   ]
  },
  {
   "cell_type": "markdown",
   "metadata": {},
   "source": [
    "## Example of how to use the functions"
   ]
  },
  {
   "cell_type": "code",
   "execution_count": 16,
   "metadata": {},
   "outputs": [
    {
     "data": {
      "text/html": [
       "<div>\n",
       "<style scoped>\n",
       "    .dataframe tbody tr th:only-of-type {\n",
       "        vertical-align: middle;\n",
       "    }\n",
       "\n",
       "    .dataframe tbody tr th {\n",
       "        vertical-align: top;\n",
       "    }\n",
       "\n",
       "    .dataframe thead th {\n",
       "        text-align: right;\n",
       "    }\n",
       "</style>\n",
       "<table border=\"1\" class=\"dataframe\">\n",
       "  <thead>\n",
       "    <tr style=\"text-align: right;\">\n",
       "      <th></th>\n",
       "      <th>geometry</th>\n",
       "    </tr>\n",
       "  </thead>\n",
       "  <tbody>\n",
       "    <tr>\n",
       "      <th>0</th>\n",
       "      <td>POLYGON ((1937440.040 -286746.573, 1937440.040...</td>\n",
       "    </tr>\n",
       "    <tr>\n",
       "      <th>1</th>\n",
       "      <td>POLYGON ((1945440.015 -287747.570, 1945440.015...</td>\n",
       "    </tr>\n",
       "    <tr>\n",
       "      <th>2</th>\n",
       "      <td>POLYGON ((1942439.955 -288748.575, 1942439.955...</td>\n",
       "    </tr>\n",
       "    <tr>\n",
       "      <th>3</th>\n",
       "      <td>POLYGON ((1935439.963 -290750.605, 1935439.963...</td>\n",
       "    </tr>\n",
       "    <tr>\n",
       "      <th>4</th>\n",
       "      <td>POLYGON ((1941439.972 -292752.775, 1941439.972...</td>\n",
       "    </tr>\n",
       "  </tbody>\n",
       "</table>\n",
       "</div>"
      ],
      "text/plain": [
       "                                            geometry\n",
       "0  POLYGON ((1937440.040 -286746.573, 1937440.040...\n",
       "1  POLYGON ((1945440.015 -287747.570, 1945440.015...\n",
       "2  POLYGON ((1942439.955 -288748.575, 1942439.955...\n",
       "3  POLYGON ((1935439.963 -290750.605, 1935439.963...\n",
       "4  POLYGON ((1941439.972 -292752.775, 1941439.972..."
      ]
     },
     "execution_count": 16,
     "metadata": {},
     "output_type": "execute_result"
    }
   ],
   "source": [
    "pred1_loc = './predictions/ISL_2019_preds.geojson'\n",
    "gdf = gpd.read_file(pred1_loc)\n",
    "gdf2 = gdf.to_crs('EPSG:3857') # function only works with EPSG 3857\n",
    "gdf2.head()"
   ]
  },
  {
   "cell_type": "code",
   "execution_count": 17,
   "metadata": {},
   "outputs": [
    {
     "name": "stdout",
     "output_type": "stream",
     "text": [
      "Analyzing row 41335 of 41335\r"
     ]
    },
    {
     "data": {
      "text/html": [
       "<div>\n",
       "<style scoped>\n",
       "    .dataframe tbody tr th:only-of-type {\n",
       "        vertical-align: middle;\n",
       "    }\n",
       "\n",
       "    .dataframe tbody tr th {\n",
       "        vertical-align: top;\n",
       "    }\n",
       "\n",
       "    .dataframe thead th {\n",
       "        text-align: right;\n",
       "    }\n",
       "</style>\n",
       "<table border=\"1\" class=\"dataframe\">\n",
       "  <thead>\n",
       "    <tr style=\"text-align: right;\">\n",
       "      <th></th>\n",
       "      <th>geometry</th>\n",
       "      <th>is_orphan</th>\n",
       "    </tr>\n",
       "  </thead>\n",
       "  <tbody>\n",
       "    <tr>\n",
       "      <th>0</th>\n",
       "      <td>POLYGON ((1937440.040 -286746.573, 1937440.040...</td>\n",
       "      <td>True</td>\n",
       "    </tr>\n",
       "    <tr>\n",
       "      <th>1</th>\n",
       "      <td>POLYGON ((1945440.015 -287747.570, 1945440.015...</td>\n",
       "      <td>True</td>\n",
       "    </tr>\n",
       "    <tr>\n",
       "      <th>2</th>\n",
       "      <td>POLYGON ((1942439.955 -288748.575, 1942439.955...</td>\n",
       "      <td>True</td>\n",
       "    </tr>\n",
       "    <tr>\n",
       "      <th>3</th>\n",
       "      <td>POLYGON ((1935439.963 -290750.605, 1935439.963...</td>\n",
       "      <td>True</td>\n",
       "    </tr>\n",
       "    <tr>\n",
       "      <th>4</th>\n",
       "      <td>POLYGON ((1941439.972 -292752.775, 1941439.972...</td>\n",
       "      <td>True</td>\n",
       "    </tr>\n",
       "  </tbody>\n",
       "</table>\n",
       "</div>"
      ],
      "text/plain": [
       "                                            geometry  is_orphan\n",
       "0  POLYGON ((1937440.040 -286746.573, 1937440.040...       True\n",
       "1  POLYGON ((1945440.015 -287747.570, 1945440.015...       True\n",
       "2  POLYGON ((1942439.955 -288748.575, 1942439.955...       True\n",
       "3  POLYGON ((1935439.963 -290750.605, 1935439.963...       True\n",
       "4  POLYGON ((1941439.972 -292752.775, 1941439.972...       True"
      ]
     },
     "execution_count": 17,
     "metadata": {},
     "output_type": "execute_result"
    }
   ],
   "source": [
    "gdf1_orphans = find_orphans_new(gdf2)\n",
    "gdf1_orphans.head()"
   ]
  },
  {
   "cell_type": "code",
   "execution_count": 18,
   "metadata": {},
   "outputs": [
    {
     "data": {
      "text/plain": [
       "False    21955\n",
       "True     19380\n",
       "Name: is_orphan, dtype: int64"
      ]
     },
     "execution_count": 18,
     "metadata": {},
     "output_type": "execute_result"
    }
   ],
   "source": [
    "gdf1_orphans['is_orphan'].value_counts()"
   ]
  },
  {
   "cell_type": "code",
   "execution_count": 19,
   "metadata": {},
   "outputs": [
    {
     "data": {
      "text/plain": [
       "<Derived Projected CRS: EPSG:3857>\n",
       "Name: WGS 84 / Pseudo-Mercator\n",
       "Axis Info [cartesian]:\n",
       "- X[east]: Easting (metre)\n",
       "- Y[north]: Northing (metre)\n",
       "Area of Use:\n",
       "- name: World between 85.06°S and 85.06°N.\n",
       "- bounds: (-180.0, -85.06, 180.0, 85.06)\n",
       "Coordinate Operation:\n",
       "- name: Popular Visualisation Pseudo-Mercator\n",
       "- method: Popular Visualisation Pseudo Mercator\n",
       "Datum: World Geodetic System 1984 ensemble\n",
       "- Ellipsoid: WGS 84\n",
       "- Prime Meridian: Greenwich"
      ]
     },
     "execution_count": 19,
     "metadata": {},
     "output_type": "execute_result"
    }
   ],
   "source": [
    "gdf1_orphans.crs"
   ]
  },
  {
   "cell_type": "code",
   "execution_count": 21,
   "metadata": {},
   "outputs": [],
   "source": [
    "# Divide gdf into orphaans and non-orphans\n",
    "\n",
    "pred1_orphans = gdf1_orphans[gdf1_orphans['is_orphan'] == True]\n",
    "\n",
    "pred1_non_orphans = gdf1_orphans[gdf1_orphans['is_orphan'] == False]"
   ]
  },
  {
   "cell_type": "code",
   "execution_count": 22,
   "metadata": {},
   "outputs": [],
   "source": [
    "assert len(gdf1_orphans) == len(pred1_orphans) + len(pred1_non_orphans)"
   ]
  },
  {
   "cell_type": "code",
   "execution_count": 24,
   "metadata": {},
   "outputs": [
    {
     "data": {
      "text/html": [
       "<div>\n",
       "<style scoped>\n",
       "    .dataframe tbody tr th:only-of-type {\n",
       "        vertical-align: middle;\n",
       "    }\n",
       "\n",
       "    .dataframe tbody tr th {\n",
       "        vertical-align: top;\n",
       "    }\n",
       "\n",
       "    .dataframe thead th {\n",
       "        text-align: right;\n",
       "    }\n",
       "</style>\n",
       "<table border=\"1\" class=\"dataframe\">\n",
       "  <thead>\n",
       "    <tr style=\"text-align: right;\">\n",
       "      <th></th>\n",
       "      <th>geometry</th>\n",
       "      <th>is_orphan</th>\n",
       "    </tr>\n",
       "  </thead>\n",
       "  <tbody>\n",
       "    <tr>\n",
       "      <th>10</th>\n",
       "      <td>POLYGON ((1938440.023 -304765.962, 1938440.023...</td>\n",
       "      <td>False</td>\n",
       "    </tr>\n",
       "    <tr>\n",
       "      <th>21</th>\n",
       "      <td>POLYGON ((1938440.023 -304765.962, 1938440.023...</td>\n",
       "      <td>False</td>\n",
       "    </tr>\n",
       "    <tr>\n",
       "      <th>24</th>\n",
       "      <td>POLYGON ((2365839.965 474637.459, 2365839.965 ...</td>\n",
       "      <td>False</td>\n",
       "    </tr>\n",
       "    <tr>\n",
       "      <th>25</th>\n",
       "      <td>POLYGON ((2366839.948 474637.459, 2366839.948 ...</td>\n",
       "      <td>False</td>\n",
       "    </tr>\n",
       "    <tr>\n",
       "      <th>26</th>\n",
       "      <td>POLYGON ((2367840.042 474637.459, 2367840.042 ...</td>\n",
       "      <td>False</td>\n",
       "    </tr>\n",
       "  </tbody>\n",
       "</table>\n",
       "</div>"
      ],
      "text/plain": [
       "                                             geometry  is_orphan\n",
       "10  POLYGON ((1938440.023 -304765.962, 1938440.023...      False\n",
       "21  POLYGON ((1938440.023 -304765.962, 1938440.023...      False\n",
       "24  POLYGON ((2365839.965 474637.459, 2365839.965 ...      False\n",
       "25  POLYGON ((2366839.948 474637.459, 2366839.948 ...      False\n",
       "26  POLYGON ((2367840.042 474637.459, 2367840.042 ...      False"
      ]
     },
     "execution_count": 24,
     "metadata": {},
     "output_type": "execute_result"
    }
   ],
   "source": [
    "pred1_non_orphans.head()"
   ]
  },
  {
   "cell_type": "code",
   "execution_count": 26,
   "metadata": {},
   "outputs": [
    {
     "data": {
      "text/plain": [
       "<Derived Projected CRS: EPSG:3857>\n",
       "Name: WGS 84 / Pseudo-Mercator\n",
       "Axis Info [cartesian]:\n",
       "- X[east]: Easting (metre)\n",
       "- Y[north]: Northing (metre)\n",
       "Area of Use:\n",
       "- name: World between 85.06°S and 85.06°N.\n",
       "- bounds: (-180.0, -85.06, 180.0, 85.06)\n",
       "Coordinate Operation:\n",
       "- name: Popular Visualisation Pseudo-Mercator\n",
       "- method: Popular Visualisation Pseudo Mercator\n",
       "Datum: World Geodetic System 1984 ensemble\n",
       "- Ellipsoid: WGS 84\n",
       "- Prime Meridian: Greenwich"
      ]
     },
     "execution_count": 26,
     "metadata": {},
     "output_type": "execute_result"
    }
   ],
   "source": [
    "pred1_non_orphans.crs"
   ]
  },
  {
   "cell_type": "code",
   "execution_count": 25,
   "metadata": {},
   "outputs": [
    {
     "data": {
      "text/html": [
       "<div>\n",
       "<style scoped>\n",
       "    .dataframe tbody tr th:only-of-type {\n",
       "        vertical-align: middle;\n",
       "    }\n",
       "\n",
       "    .dataframe tbody tr th {\n",
       "        vertical-align: top;\n",
       "    }\n",
       "\n",
       "    .dataframe thead th {\n",
       "        text-align: right;\n",
       "    }\n",
       "</style>\n",
       "<table border=\"1\" class=\"dataframe\">\n",
       "  <thead>\n",
       "    <tr style=\"text-align: right;\">\n",
       "      <th></th>\n",
       "      <th>geometry</th>\n",
       "    </tr>\n",
       "  </thead>\n",
       "  <tbody>\n",
       "    <tr>\n",
       "      <th>0</th>\n",
       "      <td>POLYGON ((17.41330 -2.73672, 17.41330 -2.72773...</td>\n",
       "    </tr>\n",
       "    <tr>\n",
       "      <th>1</th>\n",
       "      <td>POLYGON ((17.41330 -2.73672, 17.41330 -2.72773...</td>\n",
       "    </tr>\n",
       "    <tr>\n",
       "      <th>2</th>\n",
       "      <td>POLYGON ((21.25270 4.25981, 21.25270 4.26879, ...</td>\n",
       "    </tr>\n",
       "    <tr>\n",
       "      <th>3</th>\n",
       "      <td>POLYGON ((21.26168 4.25981, 21.26168 4.26879, ...</td>\n",
       "    </tr>\n",
       "    <tr>\n",
       "      <th>4</th>\n",
       "      <td>POLYGON ((21.27067 4.25981, 21.27067 4.26879, ...</td>\n",
       "    </tr>\n",
       "  </tbody>\n",
       "</table>\n",
       "</div>"
      ],
      "text/plain": [
       "                                            geometry\n",
       "0  POLYGON ((17.41330 -2.73672, 17.41330 -2.72773...\n",
       "1  POLYGON ((17.41330 -2.73672, 17.41330 -2.72773...\n",
       "2  POLYGON ((21.25270 4.25981, 21.25270 4.26879, ...\n",
       "3  POLYGON ((21.26168 4.25981, 21.26168 4.26879, ...\n",
       "4  POLYGON ((21.27067 4.25981, 21.27067 4.26879, ..."
      ]
     },
     "execution_count": 25,
     "metadata": {},
     "output_type": "execute_result"
    }
   ],
   "source": [
    "# Drop the now-unnecessary column and switch EPSG back\n",
    "\n",
    "pred1_non_orphans_2 = pred1_non_orphans.drop(['is_orphan'], axis=1).reset_index(drop=True)\n",
    "\n",
    "pred1_non_orphans_2 = pred1_non_orphans_2.to_crs('EPSG:4326')\n",
    "\n",
    "pred1_non_orphans_2.head()"
   ]
  },
  {
   "cell_type": "code",
   "execution_count": 27,
   "metadata": {},
   "outputs": [
    {
     "data": {
      "text/plain": [
       "<Geographic 2D CRS: EPSG:4326>\n",
       "Name: WGS 84\n",
       "Axis Info [ellipsoidal]:\n",
       "- Lat[north]: Geodetic latitude (degree)\n",
       "- Lon[east]: Geodetic longitude (degree)\n",
       "Area of Use:\n",
       "- name: World.\n",
       "- bounds: (-180.0, -90.0, 180.0, 90.0)\n",
       "Datum: World Geodetic System 1984 ensemble\n",
       "- Ellipsoid: WGS 84\n",
       "- Prime Meridian: Greenwich"
      ]
     },
     "execution_count": 27,
     "metadata": {},
     "output_type": "execute_result"
    }
   ],
   "source": [
    "pred1_non_orphans_2.crs"
   ]
  },
  {
   "cell_type": "code",
   "execution_count": 30,
   "metadata": {},
   "outputs": [],
   "source": [
    "assert gdf.crs == 'EPSG:4326'"
   ]
  },
  {
   "cell_type": "code",
   "execution_count": 28,
   "metadata": {},
   "outputs": [],
   "source": [
    "pred1_non_orphans_2.to_file('test.geojson', driver='GeoJSON')"
   ]
  },
  {
   "cell_type": "code",
   "execution_count": 10,
   "metadata": {},
   "outputs": [
    {
     "data": {
      "text/plain": [
       "['./predictions\\\\ISL_2019_preds.geojson',\n",
       " './predictions\\\\ISL_2021_preds.geojson',\n",
       " './predictions\\\\SAB_2019_preds.geojson',\n",
       " './predictions\\\\SAB_2021_preds.geojson']"
      ]
     },
     "execution_count": 10,
     "metadata": {},
     "output_type": "execute_result"
    }
   ],
   "source": [
    "import glob\n",
    "\n",
    "glob.glob('./predictions/*')"
   ]
  },
  {
   "cell_type": "code",
   "execution_count": 36,
   "metadata": {},
   "outputs": [
    {
     "data": {
      "text/plain": [
       "'ISL_2019_preds.geojson'"
      ]
     },
     "execution_count": 36,
     "metadata": {},
     "output_type": "execute_result"
    }
   ],
   "source": [
    "glob.glob('./predictions/*')[0].split('\\\\')[-1]"
   ]
  },
  {
   "cell_type": "code",
   "execution_count": 11,
   "metadata": {},
   "outputs": [
    {
     "name": "stdout",
     "output_type": "stream",
     "text": [
      "Processing file 1 of 4\n",
      "Analyzing row 41335 of 41335\n",
      "Processing file 2 of 4\n",
      "Analyzing row 44586 of 44586\n",
      "Processing file 3 of 4\n",
      "Analyzing row 144615 of 144615\n",
      "Processing file 4 of 4\n",
      "Analyzing row 164152 of 164152\n"
     ]
    }
   ],
   "source": [
    "# Loop over all predictions files\n",
    "\n",
    "for i, preds_loc in enumerate(glob.glob('./predictions/*'), 1):\n",
    "    print(f'Processing file {i} of 4')\n",
    "    filename = preds_loc.split('\\\\')[-1].split('.')[0]\n",
    "    new_filename = filename + '_nonorphans.geojson'\n",
    "    new_loc = 'D:/canopy_data/analysis/DRC_preds/' + new_filename\n",
    "    \n",
    "    save_nonorphans_to_file(preds_loc, new_loc)\n",
    "    print('A') # This is just to make the printout look pretty with the find_orphans printout"
   ]
  },
  {
   "cell_type": "code",
   "execution_count": null,
   "metadata": {},
   "outputs": [],
   "source": []
  }
 ],
 "metadata": {
  "kernelspec": {
   "display_name": "osmfilter",
   "language": "python",
   "name": "osmfilter"
  },
  "language_info": {
   "codemirror_mode": {
    "name": "ipython",
    "version": 3
   },
   "file_extension": ".py",
   "mimetype": "text/x-python",
   "name": "python",
   "nbconvert_exporter": "python",
   "pygments_lexer": "ipython3",
   "version": "3.9.13"
  }
 },
 "nbformat": 4,
 "nbformat_minor": 4
}
