{
 "cells": [
  {
   "cell_type": "code",
   "execution_count": 3,
   "metadata": {},
   "outputs": [],
   "source": [
    "import os\n",
    "import rasterio as rio\n",
    "import numpy as np\n",
    "from rasterio.windows import Window\n",
    "from glob import glob\n",
    "from shapely.geometry import Polygon\n",
    "from shapely.geometry import box\n",
    "import geopandas as gpd\n",
    "from rasterio.windows import get_data_window\n",
    "import rasterio as rio"
   ]
  },
  {
   "cell_type": "code",
   "execution_count": 8,
   "metadata": {},
   "outputs": [],
   "source": [
    "# !pip install rasterio geopandas shapely"
   ]
  },
  {
   "cell_type": "markdown",
   "metadata": {},
   "source": [
    "# Mount Inference Data"
   ]
  },
  {
   "cell_type": "code",
   "execution_count": 4,
   "metadata": {},
   "outputs": [],
   "source": [
    "# !sudo mount -t nfs4 -o nfsvers=4.1,rsize=1048576,wsize=1048576,hard,timeo=600,retrans=2,noresvport 172.31.91.151:/ ./efs_inference_data"
   ]
  },
  {
   "cell_type": "markdown",
   "metadata": {},
   "source": [
    "# Windowing"
   ]
  },
  {
   "cell_type": "code",
   "execution_count": 5,
   "metadata": {},
   "outputs": [],
   "source": [
    "def get_windows(img_dim, patch_size=(240, 240), stride=(240, 240)):\n",
    "    patch_size = np.array(patch_size)\n",
    "    stride = np.array(stride)\n",
    "    img_dim = np.array(img_dim)\n",
    "    \n",
    "    max_dim = (img_dim//patch_size)*patch_size - patch_size\n",
    "\n",
    "    ys = np.arange(0, img_dim[0], stride[0])\n",
    "    xs = np.arange(0, img_dim[1], stride[1])\n",
    "\n",
    "    tlc = np.array(np.meshgrid(ys, xs)).T.reshape(-1, 2)\n",
    "    tlc = tlc[tlc[:, 0] <= max_dim[0]]\n",
    "    tlc = tlc[tlc[:, 1] <= max_dim[1]]\n",
    "    \n",
    "    windows = []\n",
    "    for y,x in tlc.astype(int):\n",
    "        windows.append(Window(x, y, patch_size[1], patch_size[0]))\n",
    "\n",
    "    return windows"
   ]
  },
  {
   "cell_type": "code",
   "execution_count": 6,
   "metadata": {},
   "outputs": [],
   "source": [
    "def add_ndvi(data, dtype_1=rio.float32):\n",
    "    \n",
    "    nir = data[7].astype(dtype_1)\n",
    "    red = data[3].astype(dtype_1)\n",
    "\n",
    "    # Allow division by zero\n",
    "    np.seterr(divide='ignore', invalid='ignore')\n",
    "\n",
    "    # Calculate NDVI\n",
    "    ndvi = np.zeros(nir.shape, dtype=dtype_1)\n",
    "    ndvi = ((nir - red) / (nir + red)).astype(dtype_1)\n",
    "\n",
    "    # Rescaling for use in 16bit output\n",
    "\n",
    "    ndvi = (ndvi + 1) * (2**15 - 1)\n",
    "\n",
    "    # Add NDVI band to end of array    \n",
    "    rast = np.concatenate((data,[ndvi]),axis=0)\n",
    "    \n",
    "    rast = rast.astype(rio.uint16)\n",
    "    \n",
    "    return rast\n"
   ]
  },
  {
   "cell_type": "code",
   "execution_count": 7,
   "metadata": {},
   "outputs": [],
   "source": [
    "# def save_to_s3():\n",
    "    \n",
    "    "
   ]
  },
  {
   "cell_type": "code",
   "execution_count": 12,
   "metadata": {},
   "outputs": [],
   "source": [
    "def output_windows(granule_dir,out_path,patch_size=100,\n",
    "                   stride=100,SAVE=False,SAVE_INDIVIDUAL=False,\n",
    "                   bands=[1, 2, 3, 4, 5, 6, 7, 8, 9, 10, 11, 12, 13, 14, 15, 16, 17]):\n",
    "    \n",
    "    granule_list = glob(f'{granule_dir}/*.tif')\n",
    "    \n",
    "    granule_id_list = []\n",
    "    \n",
    "    window_id_list = []\n",
    "    \n",
    "    window_geom_list = []\n",
    "    \n",
    "    for granule_path in granule_list[0:1]:\n",
    "        \n",
    "        granule_id = granule_path.split(\"/\")[-1].split(\"_\")[0]\n",
    "        \n",
    "#         print(granule_id)\n",
    "\n",
    "#         raster = rio.open(granule_path)\n",
    "    \n",
    "        with rio.open(granule_path) as src:\n",
    "            \n",
    "#             print(src.meta)\n",
    "            \n",
    "#             no_data_window = get_data_window(src.read(bands, masked=True))\n",
    "#             \n",
    "#             return no_data_window\n",
    "\n",
    "    #         affine = raster.transform\n",
    "\n",
    "    #         print(affine)\n",
    "\n",
    "            windows = get_windows(src.shape, (patch_size, patch_size), (stride, stride))\n",
    "\n",
    "            for i, window in enumerate(windows):\n",
    "\n",
    "                granule_id_list.append(granule_id)\n",
    "\n",
    "                window_id_list.append(i+1)\n",
    "\n",
    "                #need to understand impact of \"masked\" argument for inference\n",
    "\n",
    "                data = src.read(bands,window=window, masked=True)\n",
    "\n",
    "                data = add_ndvi(data)\n",
    "\n",
    "    #             print(granule_path, j, data)\n",
    "\n",
    "    #             print(j, window, data.shape)\n",
    "\n",
    "            #     if np.any(data.mask):\n",
    "                    # THE PATCH CONTAINS NODATA PIXELS, HANDLE AS NEEDED\n",
    "\n",
    "            #     data = DO_PREPROCESSING(data.data)\n",
    "            #     result = DO_INFERENCE(data)\n",
    "            \n",
    "#                 print(src.transform)\n",
    "\n",
    "                window_transform = rio.windows.transform(window, src.transform)\n",
    "                \n",
    "#                 print(window_transform)\n",
    "                \n",
    "    #             print(window_transform)\n",
    "                window_transform_2 = src.window_transform(window)\n",
    "#                 print(window_transform_2)\n",
    "            \n",
    "#                 window_bounds = rio.windows.bounds(window, window_transform, height=patch_size, width=patch_size)\n",
    "                \n",
    "                window_bounds = rio.windows.bounds(window, src.transform, height=patch_size, width=patch_size)\n",
    "                geom = box(*window_bounds)\n",
    "                window_geom_list.append(geom)\n",
    "\n",
    "\n",
    "    #             if gdf:\n",
    "\n",
    "    #                 gdf.loc[j] = [j, [geom] , None]\n",
    "\n",
    "    #             else:\n",
    "\n",
    "    #                 gdf = gpd.GeoDataFrame({\"id\":1,\"geometry\":[geom],\"labels\":None})\n",
    "\n",
    "\n",
    "            gdf = gpd.GeoDataFrame({\"granule_id\":granule_id_list,\"window_id\":window_id_list,\"geometry\":window_geom_list,\"labels\":None})\n",
    "\n",
    "            return windows,gdf\n",
    "\n",
    "\n",
    "    #             if SAVE:\n",
    "\n",
    "    #                 if SAVE_INDIVIDUAL:\n",
    "    #                     meta = raster.meta.copy()\n",
    "    #                     # Get the window specific transform - IF we want to save windows independantly\n",
    "    #             #         trans = raster.window_transform(window)\n",
    "    #                     meta.update({\n",
    "    #             #                 'transform': trans,\n",
    "    #                             'dtype': src.dtype\n",
    "    #                         })\n",
    "\n",
    "    #                     with rasterio.open(f\"{out_path}/some_chip_{j}.tif\", 'w', **meta) as dest:\n",
    "    #                         dest.write(data)\n",
    "    #                 else:\n",
    "    #                     meta = raster.meta.copy()\n",
    "\n",
    "    #                     with rasterio.open(f\"{out_path}/some_chip_{j}.tif\", 'w+', **meta) as dest:\n",
    "    #                         dest.write(data, window=window)"
   ]
  },
  {
   "cell_type": "code",
   "execution_count": 13,
   "metadata": {},
   "outputs": [],
   "source": [
    "granule_dir = \"./efs_inference_data/\"\n",
    "out_path = \"./windows/\"\n",
    "\n",
    "windows,gdf = output_windows(granule_dir,out_path)"
   ]
  },
  {
   "cell_type": "code",
   "execution_count": null,
   "metadata": {},
   "outputs": [],
   "source": [
    "windows[0]"
   ]
  },
  {
   "cell_type": "code",
   "execution_count": null,
   "metadata": {},
   "outputs": [],
   "source": [
    "windows[0:100]"
   ]
  },
  {
   "cell_type": "code",
   "execution_count": 37,
   "metadata": {},
   "outputs": [
    {
     "data": {
      "text/plain": [
       "0    POLYGON ((17.19825 0.48150, 17.19825 0.49048, ...\n",
       "1    POLYGON ((17.21621 0.48150, 17.21621 0.49048, ...\n",
       "2    POLYGON ((17.23418 0.48150, 17.23418 0.49048, ...\n",
       "3    POLYGON ((17.25215 0.48150, 17.25215 0.49048, ...\n",
       "4    POLYGON ((17.27011 0.48150, 17.27011 0.49048, ...\n",
       "5    POLYGON ((17.28808 0.48150, 17.28808 0.49048, ...\n",
       "6    POLYGON ((17.30604 0.48150, 17.30604 0.49048, ...\n",
       "7    POLYGON ((17.32401 0.48150, 17.32401 0.49048, ...\n",
       "8    POLYGON ((17.34198 0.48150, 17.34198 0.49048, ...\n",
       "9    POLYGON ((17.35994 0.48150, 17.35994 0.49048, ...\n",
       "Name: geometry, dtype: geometry"
      ]
     },
     "execution_count": 37,
     "metadata": {},
     "output_type": "execute_result"
    }
   ],
   "source": [
    "gdf[\"geometry\"][0:10]"
   ]
  },
  {
   "cell_type": "code",
   "execution_count": 14,
   "metadata": {},
   "outputs": [
    {
     "data": {
      "text/plain": [
       "<AxesSubplot:>"
      ]
     },
     "execution_count": 14,
     "metadata": {},
     "output_type": "execute_result"
    },
    {
     "data": {
      "image/png": "[encoded data removed]",
      "text/plain": [
       "<Figure size 432x288 with 1 Axes>"
      ]
     },
     "metadata": {
      "needs_background": "light"
     },
     "output_type": "display_data"
    }
   ],
   "source": [
    "gdf.plot()"
   ]
  },
  {
   "cell_type": "code",
   "execution_count": 15,
   "metadata": {},
   "outputs": [],
   "source": [
    "gdf.to_file(\"./inference_output/boundary.geojson\", driver=\"GeoJSON\")"
   ]
  },
  {
   "cell_type": "code",
   "execution_count": 138,
   "metadata": {},
   "outputs": [
    {
     "data": {
      "text/plain": [
       "Window(col_off=0, row_off=0, width=3341, height=3341)"
      ]
     },
     "execution_count": 138,
     "metadata": {},
     "output_type": "execute_result"
    }
   ],
   "source": [
    "window"
   ]
  },
  {
   "cell_type": "code",
   "execution_count": 128,
   "metadata": {},
   "outputs": [
    {
     "name": "stdout",
     "output_type": "stream",
     "text": [
      "Help on function get_data_window in module rasterio.windows:\n",
      "\n",
      "get_data_window(arr, nodata=None)\n",
      "    Window covering the input array's valid data pixels.\n",
      "    \n",
      "    Parameters\n",
      "    ----------\n",
      "    arr: numpy ndarray, <= 3 dimensions\n",
      "    nodata: number\n",
      "        If None, will either return a full window if arr is not a masked\n",
      "        array, or will use the mask to determine non-nodata pixels.\n",
      "        If provided, it must be a number within the valid range of the\n",
      "        dtype of the input array.\n",
      "    \n",
      "    Returns\n",
      "    -------\n",
      "    Window\n",
      "\n"
     ]
    }
   ],
   "source": [
    "help(get_data_window)"
   ]
  },
  {
   "cell_type": "code",
   "execution_count": null,
   "metadata": {},
   "outputs": [],
   "source": []
  }
 ],
 "metadata": {
  "kernelspec": {
   "display_name": "conda_tensorflow2_p36",
   "language": "python",
   "name": "conda_tensorflow2_p36"
  },
  "language_info": {
   "codemirror_mode": {
    "name": "ipython",
    "version": 3
   },
   "file_extension": ".py",
   "mimetype": "text/x-python",
   "name": "python",
   "nbconvert_exporter": "python",
   "pygments_lexer": "ipython3",
   "version": "3.6.13"
  }
 },
 "nbformat": 4,
 "nbformat_minor": 4
}
