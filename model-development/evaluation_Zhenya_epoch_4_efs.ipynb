{
 "cells": [
  {
   "cell_type": "code",
   "execution_count": 1,
   "metadata": {},
   "outputs": [
    {
     "name": "stdout",
     "output_type": "stream",
     "text": [
      "Requirement already satisfied: rasterio in /home/ec2-user/anaconda3/envs/tensorflow2_p36/lib/python3.6/site-packages (1.2.2)\n",
      "Requirement already satisfied: wget in /home/ec2-user/anaconda3/envs/tensorflow2_p36/lib/python3.6/site-packages (3.2)\n",
      "Requirement already satisfied: tensorflow==2.4.1 in /home/ec2-user/anaconda3/envs/tensorflow2_p36/lib/python3.6/site-packages (2.4.1)\n",
      "Requirement already satisfied: tensorflow_addons in /home/ec2-user/anaconda3/envs/tensorflow2_p36/lib/python3.6/site-packages (0.12.1)\n",
      "Requirement already satisfied: astunparse~=1.6.3 in /home/ec2-user/anaconda3/envs/tensorflow2_p36/lib/python3.6/site-packages (from tensorflow==2.4.1) (1.6.3)\n",
      "Requirement already satisfied: wheel~=0.35 in /home/ec2-user/anaconda3/envs/tensorflow2_p36/lib/python3.6/site-packages (from tensorflow==2.4.1) (0.36.2)\n",
      "Requirement already satisfied: h5py~=2.10.0 in /home/ec2-user/anaconda3/envs/tensorflow2_p36/lib/python3.6/site-packages (from tensorflow==2.4.1) (2.10.0)\n",
      "Requirement already satisfied: keras-preprocessing~=1.1.2 in /home/ec2-user/anaconda3/envs/tensorflow2_p36/lib/python3.6/site-packages (from tensorflow==2.4.1) (1.1.2)\n",
      "Requirement already satisfied: typing-extensions~=3.7.4 in /home/ec2-user/anaconda3/envs/tensorflow2_p36/lib/python3.6/site-packages (from tensorflow==2.4.1) (3.7.4.3)\n",
      "Requirement already satisfied: gast==0.3.3 in /home/ec2-user/anaconda3/envs/tensorflow2_p36/lib/python3.6/site-packages (from tensorflow==2.4.1) (0.3.3)\n",
      "Requirement already satisfied: protobuf>=3.9.2 in /home/ec2-user/anaconda3/envs/tensorflow2_p36/lib/python3.6/site-packages (from tensorflow==2.4.1) (3.15.2)\n",
      "Requirement already satisfied: google-pasta~=0.2 in /home/ec2-user/anaconda3/envs/tensorflow2_p36/lib/python3.6/site-packages (from tensorflow==2.4.1) (0.2.0)\n",
      "Requirement already satisfied: flatbuffers~=1.12.0 in /home/ec2-user/anaconda3/envs/tensorflow2_p36/lib/python3.6/site-packages (from tensorflow==2.4.1) (1.12)\n",
      "Requirement already satisfied: wrapt~=1.12.1 in /home/ec2-user/anaconda3/envs/tensorflow2_p36/lib/python3.6/site-packages (from tensorflow==2.4.1) (1.12.1)\n",
      "Requirement already satisfied: grpcio~=1.32.0 in /home/ec2-user/anaconda3/envs/tensorflow2_p36/lib/python3.6/site-packages (from tensorflow==2.4.1) (1.32.0)\n",
      "Requirement already satisfied: absl-py~=0.10 in /home/ec2-user/anaconda3/envs/tensorflow2_p36/lib/python3.6/site-packages (from tensorflow==2.4.1) (0.11.0)\n",
      "Requirement already satisfied: opt-einsum~=3.3.0 in /home/ec2-user/anaconda3/envs/tensorflow2_p36/lib/python3.6/site-packages (from tensorflow==2.4.1) (3.3.0)\n",
      "Requirement already satisfied: six~=1.15.0 in /home/ec2-user/anaconda3/envs/tensorflow2_p36/lib/python3.6/site-packages (from tensorflow==2.4.1) (1.15.0)\n",
      "Requirement already satisfied: tensorflow-estimator<2.5.0,>=2.4.0 in /home/ec2-user/anaconda3/envs/tensorflow2_p36/lib/python3.6/site-packages (from tensorflow==2.4.1) (2.4.0)\n",
      "Requirement already satisfied: termcolor~=1.1.0 in /home/ec2-user/anaconda3/envs/tensorflow2_p36/lib/python3.6/site-packages (from tensorflow==2.4.1) (1.1.0)\n",
      "Requirement already satisfied: tensorboard~=2.4 in /home/ec2-user/anaconda3/envs/tensorflow2_p36/lib/python3.6/site-packages (from tensorflow==2.4.1) (2.4.1)\n",
      "Requirement already satisfied: numpy~=1.19.2 in /home/ec2-user/anaconda3/envs/tensorflow2_p36/lib/python3.6/site-packages (from tensorflow==2.4.1) (1.19.5)\n",
      "Requirement already satisfied: google-auth-oauthlib<0.5,>=0.4.1 in /home/ec2-user/anaconda3/envs/tensorflow2_p36/lib/python3.6/site-packages (from tensorboard~=2.4->tensorflow==2.4.1) (0.4.3)\n",
      "Requirement already satisfied: setuptools>=41.0.0 in /home/ec2-user/anaconda3/envs/tensorflow2_p36/lib/python3.6/site-packages (from tensorboard~=2.4->tensorflow==2.4.1) (49.6.0.post20210108)\n",
      "Requirement already satisfied: werkzeug>=0.11.15 in /home/ec2-user/anaconda3/envs/tensorflow2_p36/lib/python3.6/site-packages (from tensorboard~=2.4->tensorflow==2.4.1) (1.0.1)\n",
      "Requirement already satisfied: tensorboard-plugin-wit>=1.6.0 in /home/ec2-user/anaconda3/envs/tensorflow2_p36/lib/python3.6/site-packages (from tensorboard~=2.4->tensorflow==2.4.1) (1.8.0)\n",
      "Requirement already satisfied: google-auth<2,>=1.6.3 in /home/ec2-user/anaconda3/envs/tensorflow2_p36/lib/python3.6/site-packages (from tensorboard~=2.4->tensorflow==2.4.1) (1.27.1)\n",
      "Requirement already satisfied: requests<3,>=2.21.0 in /home/ec2-user/anaconda3/envs/tensorflow2_p36/lib/python3.6/site-packages (from tensorboard~=2.4->tensorflow==2.4.1) (2.25.1)\n",
      "Requirement already satisfied: markdown>=2.6.8 in /home/ec2-user/anaconda3/envs/tensorflow2_p36/lib/python3.6/site-packages (from tensorboard~=2.4->tensorflow==2.4.1) (3.3.4)\n",
      "Requirement already satisfied: pyasn1-modules>=0.2.1 in /home/ec2-user/anaconda3/envs/tensorflow2_p36/lib/python3.6/site-packages (from google-auth<2,>=1.6.3->tensorboard~=2.4->tensorflow==2.4.1) (0.2.8)\n",
      "Requirement already satisfied: cachetools<5.0,>=2.0.0 in /home/ec2-user/anaconda3/envs/tensorflow2_p36/lib/python3.6/site-packages (from google-auth<2,>=1.6.3->tensorboard~=2.4->tensorflow==2.4.1) (4.2.1)\n",
      "Requirement already satisfied: rsa<5,>=3.1.4 in /home/ec2-user/anaconda3/envs/tensorflow2_p36/lib/python3.6/site-packages (from google-auth<2,>=1.6.3->tensorboard~=2.4->tensorflow==2.4.1) (4.7.2)\n",
      "Requirement already satisfied: requests-oauthlib>=0.7.0 in /home/ec2-user/anaconda3/envs/tensorflow2_p36/lib/python3.6/site-packages (from google-auth-oauthlib<0.5,>=0.4.1->tensorboard~=2.4->tensorflow==2.4.1) (1.3.0)\n",
      "Requirement already satisfied: importlib-metadata in /home/ec2-user/anaconda3/envs/tensorflow2_p36/lib/python3.6/site-packages (from markdown>=2.6.8->tensorboard~=2.4->tensorflow==2.4.1) (3.7.0)\n",
      "Requirement already satisfied: pyasn1<0.5.0,>=0.4.6 in /home/ec2-user/anaconda3/envs/tensorflow2_p36/lib/python3.6/site-packages (from pyasn1-modules>=0.2.1->google-auth<2,>=1.6.3->tensorboard~=2.4->tensorflow==2.4.1) (0.4.8)\n",
      "Requirement already satisfied: urllib3<1.27,>=1.21.1 in /home/ec2-user/anaconda3/envs/tensorflow2_p36/lib/python3.6/site-packages (from requests<3,>=2.21.0->tensorboard~=2.4->tensorflow==2.4.1) (1.26.3)\n",
      "Requirement already satisfied: idna<3,>=2.5 in /home/ec2-user/anaconda3/envs/tensorflow2_p36/lib/python3.6/site-packages (from requests<3,>=2.21.0->tensorboard~=2.4->tensorflow==2.4.1) (2.10)\n",
      "Requirement already satisfied: certifi>=2017.4.17 in /home/ec2-user/anaconda3/envs/tensorflow2_p36/lib/python3.6/site-packages (from requests<3,>=2.21.0->tensorboard~=2.4->tensorflow==2.4.1) (2020.12.5)\n",
      "Requirement already satisfied: chardet<5,>=3.0.2 in /home/ec2-user/anaconda3/envs/tensorflow2_p36/lib/python3.6/site-packages (from requests<3,>=2.21.0->tensorboard~=2.4->tensorflow==2.4.1) (3.0.4)\n",
      "Requirement already satisfied: oauthlib>=3.0.0 in /home/ec2-user/anaconda3/envs/tensorflow2_p36/lib/python3.6/site-packages (from requests-oauthlib>=0.7.0->google-auth-oauthlib<0.5,>=0.4.1->tensorboard~=2.4->tensorflow==2.4.1) (3.1.0)\n",
      "Requirement already satisfied: attrs in /home/ec2-user/anaconda3/envs/tensorflow2_p36/lib/python3.6/site-packages (from rasterio) (20.3.0)\n",
      "Requirement already satisfied: click-plugins in /home/ec2-user/anaconda3/envs/tensorflow2_p36/lib/python3.6/site-packages (from rasterio) (1.1.1)\n",
      "Requirement already satisfied: click<8,>=4.0 in /home/ec2-user/anaconda3/envs/tensorflow2_p36/lib/python3.6/site-packages (from rasterio) (7.1.2)\n",
      "Requirement already satisfied: snuggs>=1.4.1 in /home/ec2-user/anaconda3/envs/tensorflow2_p36/lib/python3.6/site-packages (from rasterio) (1.4.7)\n",
      "Requirement already satisfied: cligj>=0.5 in /home/ec2-user/anaconda3/envs/tensorflow2_p36/lib/python3.6/site-packages (from rasterio) (0.7.1)\n",
      "Requirement already satisfied: affine in /home/ec2-user/anaconda3/envs/tensorflow2_p36/lib/python3.6/site-packages (from rasterio) (2.3.0)\n",
      "Requirement already satisfied: pyparsing>=2.1.6 in /home/ec2-user/anaconda3/envs/tensorflow2_p36/lib/python3.6/site-packages (from snuggs>=1.4.1->rasterio) (2.4.7)\n",
      "Requirement already satisfied: typeguard>=2.7 in /home/ec2-user/anaconda3/envs/tensorflow2_p36/lib/python3.6/site-packages (from tensorflow_addons) (2.12.0)\n",
      "Requirement already satisfied: zipp>=0.5 in /home/ec2-user/anaconda3/envs/tensorflow2_p36/lib/python3.6/site-packages (from importlib-metadata->markdown>=2.6.8->tensorboard~=2.4->tensorflow==2.4.1) (3.4.0)\n"
     ]
    }
   ],
   "source": [
    "!pip install rasterio wget tensorflow==2.4.1 tensorflow_addons"
   ]
  },
  {
   "cell_type": "code",
   "execution_count": 6,
   "metadata": {},
   "outputs": [],
   "source": [
    "!sudo mount -t nfs4 -o nfsvers=4.1,rsize=1048576,wsize=1048576,hard,timeo=600,retrans=2,noresvport 172.31.9.243:/ ./efs"
   ]
  },
  {
   "cell_type": "markdown",
   "metadata": {},
   "source": [
    "## Imports"
   ]
  },
  {
   "cell_type": "code",
   "execution_count": 28,
   "metadata": {},
   "outputs": [],
   "source": [
    "import os\n",
    "import multiprocessing\n",
    "import rasterio\n",
    "import tensorflow as tf\n",
    "from glob import glob\n",
    "import pickle\n",
    "import numpy as np\n",
    "import os\n",
    "from tensorflow.keras.models import *\n",
    "from tensorflow.keras.layers import *\n",
    "from tensorflow.keras import layers\n",
    "from tensorflow_addons.metrics import F1Score\n",
    "from tensorflow_addons.losses import SigmoidFocalCrossEntropy\n",
    "from tensorflow.keras.losses import CategoricalCrossentropy, BinaryCrossentropy\n",
    "\n",
    "from tensorflow import keras\n",
    "import pandas as pd\n",
    "import matplotlib.pyplot as plt\n",
    "import random\n",
    "import time\n",
    "import boto3\n",
    "import io\n",
    "from test_generator import TestGenerator\n",
    "np.set_printoptions(suppress=True)\n",
    "np.set_printoptions(precision=6)"
   ]
  },
  {
   "cell_type": "code",
   "execution_count": 29,
   "metadata": {},
   "outputs": [
    {
     "name": "stdout",
     "output_type": "stream",
     "text": [
      "2.4.1\n"
     ]
    }
   ],
   "source": [
    "print(tf.__version__)"
   ]
  },
  {
   "cell_type": "markdown",
   "metadata": {
    "jupyter": {
     "source_hidden": true
    }
   },
   "source": [
    "## Evaluation"
   ]
  },
  {
   "cell_type": "markdown",
   "metadata": {
    "jupyter": {
     "source_hidden": true
    }
   },
   "source": [
    "#### Variables definition"
   ]
  },
  {
   "cell_type": "code",
   "execution_count": 25,
   "metadata": {
    "jupyter": {
     "source_hidden": true
    }
   },
   "outputs": [],
   "source": [
    "# label_list = [\"Habitation\", \"Industrial_agriculture\", \"Mining\", \"Rainforest\", \"River\", \"Roads\", \"Savannah\", \n",
    "#               \"Shifting_cultivation\", \"Water\"]\n",
    "\n",
    "new_label_list = [\"Industrial_agriculture\",\"ISL\",\"Mining\",\"Roads\",\"Shifting_cultivation\"]\n",
    "\n",
    "# 1:\"Industrial_agriculture\"\n",
    "# 2:\"ISL\"\n",
    "# 3:\"Mining\"\n",
    "# 4:\"Roads\"\n",
    "# 5:\"Shifting_cultivation\"\n",
    "\n",
    "\n",
    "numclasses = len(new_label_list)\n",
    "bands_all = [1, 2, 3, 4, 5, 6, 7, 8, 9, 10, 11, 12, 16, 17, 18]\n",
    "bands_RGBNIRN = [2, 3, 4, 8, 18]\n",
    "# input_shape_all_bands= (100,100,len(bands_all))\n",
    "input_shape_RGBNIRN = (100,100,len(bands_RGBNIRN))\n"
   ]
  },
  {
   "cell_type": "markdown",
   "metadata": {
    "jupyter": {
     "source_hidden": true
    }
   },
   "source": [
    "#### Define model (same architecture as the one used for the training)"
   ]
  },
  {
   "cell_type": "code",
   "execution_count": 4,
   "metadata": {
    "jupyter": {
     "source_hidden": true
    }
   },
   "outputs": [],
   "source": [
    "def define_model(numclasses,input_shape,starting_checkpoint=None,lcl_chkpt_dir=None):\n",
    "        # parameters for CNN\n",
    "        input_tensor = Input(shape=input_shape)\n",
    "\n",
    "        # introduce a additional layer to get from bands to 3 input channels\n",
    "        input_tensor = Conv2D(3, (1, 1))(input_tensor)\n",
    "\n",
    "        base_model_resnet50 = keras.applications.ResNet50(include_top=False,\n",
    "                                  weights='imagenet',\n",
    "                                  input_shape=(100, 100, 3))\n",
    "        base_model = keras.applications.ResNet50(include_top=False,\n",
    "                         weights=None,\n",
    "                         input_tensor=input_tensor)\n",
    "\n",
    "        for i, layer in enumerate(base_model_resnet50.layers):\n",
    "            # we must skip input layer, which has no weights\n",
    "            if i == 0:\n",
    "                continue\n",
    "            base_model.layers[i+1].set_weights(layer.get_weights())\n",
    "\n",
    "        # add a global spatial average pooling layer\n",
    "        top_model = base_model.output\n",
    "        top_model = GlobalAveragePooling2D()(top_model)\n",
    "\n",
    "        # let's add a fully-connected layer\n",
    "        top_model = Dense(2048, activation='relu')(top_model)\n",
    "        top_model = Dense(2048, activation='relu')(top_model)\n",
    "        # and a logistic layer\n",
    "        predictions = Dense(numclasses, activation='sigmoid')(top_model)\n",
    "\n",
    "        # this is the model we will train\n",
    "        model = Model(inputs=base_model.input, outputs=predictions)\n",
    "    #     model = model.layers[-1].bias.assign([0.0]) # WIP getting an error ValueError: Cannot assign to variable dense_8/bias:0 due to variable shape (10,) and value shape (1,) are incompatible\n",
    "\n",
    "#         model.summary()\n",
    "        if starting_checkpoint:\n",
    "            s3 = boto3.resource('s3')\n",
    "            chkpt_name = lcl_chkpt_dir + '/' + 'start_chkpt.h5'\n",
    "            s3.download_file('canopy-production-ml-output', starting_checkpoint, chkpt_name)\n",
    "            model.load_weights(chkpt_name)\n",
    "    \n",
    "        return model"
   ]
  },
  {
   "cell_type": "code",
   "execution_count": 5,
   "metadata": {
    "jupyter": {
     "source_hidden": true
    }
   },
   "outputs": [],
   "source": [
    "# model_all_bands = define_model(numclasses, input_shape_all_bands)\n",
    "\n",
    "# # Set the metrics we want to use for the evaluation\n",
    "# model_all_bands.compile(loss=SigmoidFocalCrossEntropy(), # https://www.tensorflow.org/addons/api_docs/python/tfa/losses/SigmoidFocalCrossEntropy\n",
    "#                   optimizer=keras.optimizers.Adam(0.001),\n",
    "#                   metrics=[tf.metrics.BinaryAccuracy(name='accuracy'), \n",
    "#                            tf.keras.metrics.Precision(name='precision'), # Computes the precision of the predictions with respect to the labels.\n",
    "#                            tf.keras.metrics.Recall(name='recall'), # Computes the recall of the predictions with respect to the labels.\n",
    "#                            F1Score(num_classes=numclasses, name=\"f1_score\") # https://www.tensorflow.org/addons/api_docs/python/tfa/metrics/F1Score\n",
    "#                            ]\n",
    "#                  )\n",
    "\n",
    "model_RGBNIRN = define_model(numclasses, input_shape_RGBNIRN)\n",
    "\n",
    "# Set the metrics we want to use for the evaluation\n",
    "model_RGBNIRN.compile(loss=SigmoidFocalCrossEntropy(), # https://www.tensorflow.org/addons/api_docs/python/tfa/losses/SigmoidFocalCrossEntropy\n",
    "                  optimizer=keras.optimizers.Adam(0.001),\n",
    "                  metrics=[tf.metrics.BinaryAccuracy(name='accuracy'), \n",
    "                           tf.keras.metrics.Precision(name='precision'), # Computes the precision of the predictions with respect to the labels.\n",
    "                           tf.keras.metrics.Recall(name='recall'), # Computes the recall of the predictions with respect to the labels.\n",
    "                           F1Score(num_classes=numclasses, name=\"f1_score\") # https://www.tensorflow.org/addons/api_docs/python/tfa/metrics/F1Score\n",
    "                           ]\n",
    "                 )"
   ]
  },
  {
   "cell_type": "markdown",
   "metadata": {
    "jupyter": {
     "source_hidden": true
    }
   },
   "source": [
    "#### Get the pre-trained weights from s3 (download them locally and then use the path in load_weights)"
   ]
  },
  {
   "cell_type": "code",
   "execution_count": 39,
   "metadata": {
    "jupyter": {
     "source_hidden": true
    }
   },
   "outputs": [],
   "source": [
    "# KEY = \"ckpt/pc-tf-custom-container-test-job-all-ban-2021-03-15-22-50-21-572/model_resnet_epoch_4.h5\"\n",
    "\n",
    "# s3 = boto3.resource('s3')\n",
    "# s3.Bucket('canopy-production-ml-output').download_file(KEY, 'model_weights_all_bands.h5')\n",
    "\n",
    "s3_uri = \"s3://canopy-production-ml-output/ckpt/pc-tf-custom-container-test-job-RGBNIRN-2021-04-05-21-57-36-707/model_resnet_epoch_28.h5\"\n",
    "\n",
    "KEY = \"/\".join(s3_uri.split(\"/\")[3:])\n",
    "# KEY = \"ckpt/pc-tf-custom-container-test-job-RGBNIRN-2021-03-27-02-29-15-006/model_resnet_epoch_31.h5\"\n",
    "s3 = boto3.resource('s3')\n",
    "s3.Bucket('canopy-production-ml-output').download_file(KEY, 'model_weights_RGBNIRN.h5')"
   ]
  },
  {
   "cell_type": "code",
   "execution_count": 40,
   "metadata": {
    "collapsed": true,
    "jupyter": {
     "outputs_hidden": true,
     "source_hidden": true
    }
   },
   "outputs": [
    {
     "ename": "ValueError",
     "evalue": "You are trying to load a weight file containing 5 layers into a model with 110 layers.",
     "output_type": "error",
     "traceback": [
      "\u001b[0;31m---------------------------------------------------------------------------\u001b[0m",
      "\u001b[0;31mValueError\u001b[0m                                Traceback (most recent call last)",
      "\u001b[0;32m<ipython-input-40-1daae3360e9c>\u001b[0m in \u001b[0;36m<module>\u001b[0;34m\u001b[0m\n\u001b[1;32m      1\u001b[0m \u001b[0;31m# model_all_bands.load_weights(\"model_weights_all_bands.h5\")\u001b[0m\u001b[0;34m\u001b[0m\u001b[0;34m\u001b[0m\u001b[0;34m\u001b[0m\u001b[0m\n\u001b[0;32m----> 2\u001b[0;31m \u001b[0mmodel_RGBNIRN\u001b[0m\u001b[0;34m.\u001b[0m\u001b[0mload_weights\u001b[0m\u001b[0;34m(\u001b[0m\u001b[0;34m\"model_weights_RGBNIRN.h5\"\u001b[0m\u001b[0;34m)\u001b[0m\u001b[0;34m\u001b[0m\u001b[0;34m\u001b[0m\u001b[0m\n\u001b[0m",
      "\u001b[0;32m~/anaconda3/envs/tensorflow2_p36/lib/python3.6/site-packages/tensorflow/python/keras/engine/training.py\u001b[0m in \u001b[0;36mload_weights\u001b[0;34m(self, filepath, by_name, skip_mismatch, options)\u001b[0m\n\u001b[1;32m   2232\u001b[0m             f, self.layers, skip_mismatch=skip_mismatch)\n\u001b[1;32m   2233\u001b[0m       \u001b[0;32melse\u001b[0m\u001b[0;34m:\u001b[0m\u001b[0;34m\u001b[0m\u001b[0;34m\u001b[0m\u001b[0m\n\u001b[0;32m-> 2234\u001b[0;31m         \u001b[0mhdf5_format\u001b[0m\u001b[0;34m.\u001b[0m\u001b[0mload_weights_from_hdf5_group\u001b[0m\u001b[0;34m(\u001b[0m\u001b[0mf\u001b[0m\u001b[0;34m,\u001b[0m \u001b[0mself\u001b[0m\u001b[0;34m.\u001b[0m\u001b[0mlayers\u001b[0m\u001b[0;34m)\u001b[0m\u001b[0;34m\u001b[0m\u001b[0;34m\u001b[0m\u001b[0m\n\u001b[0m\u001b[1;32m   2235\u001b[0m \u001b[0;34m\u001b[0m\u001b[0m\n\u001b[1;32m   2236\u001b[0m   \u001b[0;32mdef\u001b[0m \u001b[0m_updated_config\u001b[0m\u001b[0;34m(\u001b[0m\u001b[0mself\u001b[0m\u001b[0;34m)\u001b[0m\u001b[0;34m:\u001b[0m\u001b[0;34m\u001b[0m\u001b[0;34m\u001b[0m\u001b[0m\n",
      "\u001b[0;32m~/anaconda3/envs/tensorflow2_p36/lib/python3.6/site-packages/tensorflow/python/keras/saving/hdf5_format.py\u001b[0m in \u001b[0;36mload_weights_from_hdf5_group\u001b[0;34m(f, layers)\u001b[0m\n\u001b[1;32m    686\u001b[0m                      \u001b[0;34m'containing '\u001b[0m \u001b[0;34m+\u001b[0m \u001b[0mstr\u001b[0m\u001b[0;34m(\u001b[0m\u001b[0mlen\u001b[0m\u001b[0;34m(\u001b[0m\u001b[0mlayer_names\u001b[0m\u001b[0;34m)\u001b[0m\u001b[0;34m)\u001b[0m \u001b[0;34m+\u001b[0m\u001b[0;34m\u001b[0m\u001b[0;34m\u001b[0m\u001b[0m\n\u001b[1;32m    687\u001b[0m                      \u001b[0;34m' layers into a model with '\u001b[0m \u001b[0;34m+\u001b[0m \u001b[0mstr\u001b[0m\u001b[0;34m(\u001b[0m\u001b[0mlen\u001b[0m\u001b[0;34m(\u001b[0m\u001b[0mfiltered_layers\u001b[0m\u001b[0;34m)\u001b[0m\u001b[0;34m)\u001b[0m \u001b[0;34m+\u001b[0m\u001b[0;34m\u001b[0m\u001b[0;34m\u001b[0m\u001b[0m\n\u001b[0;32m--> 688\u001b[0;31m                      ' layers.')\n\u001b[0m\u001b[1;32m    689\u001b[0m \u001b[0;34m\u001b[0m\u001b[0m\n\u001b[1;32m    690\u001b[0m   \u001b[0;31m# We batch weight value assignments in a single backend call\u001b[0m\u001b[0;34m\u001b[0m\u001b[0;34m\u001b[0m\u001b[0;34m\u001b[0m\u001b[0m\n",
      "\u001b[0;31mValueError\u001b[0m: You are trying to load a weight file containing 5 layers into a model with 110 layers."
     ]
    }
   ],
   "source": [
    "# model_all_bands.load_weights(\"model_weights_all_bands.h5\")\n",
    "model_RGBNIRN.load_weights(\"model_weights_RGBNIRN.h5\")"
   ]
  },
  {
   "cell_type": "markdown",
   "metadata": {
    "jupyter": {
     "source_hidden": true
    }
   },
   "source": [
    "#### Test Set generator"
   ]
  },
  {
   "cell_type": "code",
   "execution_count": 35,
   "metadata": {
    "collapsed": true,
    "jupyter": {
     "outputs_hidden": true,
     "source_hidden": true
    }
   },
   "outputs": [
    {
     "name": "stdout",
     "output_type": "stream",
     "text": [
      "The file new_val_labels_v3.csv is missing positive labels for classes []\n",
      "test on 19902 images\n"
     ]
    }
   ],
   "source": [
    "batch_size = 64\n",
    "# csv_path = \"labels_test.csv\" \n",
    "# new_csv_path = \"new_test_labels_v2.csv\" \n",
    "# new_csv_path_one_third = \"new_test_labels_v3_one_third.csv\"\n",
    "train_set = \"new_train_labels_v7_one_quarter.csv\"\n",
    "new_csv_path_one_third = \"new_test_labels_v3_one_third_uri_only.csv\"\n",
    "val_labels = \"new_val_labels_v3.csv\"\n",
    "\n",
    "# gen_all_bands = TestGenerator(label_file_path_test=csv_path, \n",
    "#                          bucket_name='canopy-production-ml',\n",
    "#                          label_mapping_path=\"labels.json\",\n",
    "#                          data_extension_type='.tif',\n",
    "#                          bands=bands_all,\n",
    "#                          test_data_shape=input_shape_all_bands,\n",
    "#                          test_data_batch_size=batch_size,\n",
    "#                          enable_data_prefetch=False,\n",
    "#                          data_prefetch_size=tf.data.experimental.AUTOTUNE,\n",
    "#                          num_parallel_calls=2 * multiprocessing.cpu_count(),\n",
    "#                          output_shape=(tf.float32, tf.float32))\n",
    "\n",
    "gen_RGBNIRN = TestGenerator(label_file_path_test=val_labels,\n",
    "                            training_dir = \"./efs\",\n",
    "                         bucket_name='canopy-production-ml',\n",
    "                         label_mapping_path=\"new_labels.json\",\n",
    "                         data_extension_type='.tif',\n",
    "                            file_mode=\"file\",\n",
    "                         bands=bands_RGBNIRN,\n",
    "                         test_data_shape=input_shape_RGBNIRN,\n",
    "                         test_data_batch_size=batch_size,\n",
    "                         enable_data_prefetch=False,\n",
    "                         data_prefetch_size=tf.data.experimental.AUTOTUNE,\n",
    "                         num_parallel_calls=2 * multiprocessing.cpu_count(),\n",
    "                         output_shape=(tf.float32, tf.float32))"
   ]
  },
  {
   "cell_type": "code",
   "execution_count": 36,
   "metadata": {
    "jupyter": {
     "source_hidden": true
    }
   },
   "outputs": [],
   "source": [
    "# for img, label in gen_all_bands.test_dataset:\n",
    "#     print(img.shape)\n",
    "#     break"
   ]
  },
  {
   "cell_type": "markdown",
   "metadata": {
    "jupyter": {
     "source_hidden": true
    }
   },
   "source": [
    "#### Run Evaluation on the test set "
   ]
  },
  {
   "cell_type": "code",
   "execution_count": 37,
   "metadata": {
    "jupyter": {
     "source_hidden": true
    }
   },
   "outputs": [],
   "source": [
    "# loss_all_bands, accuracy_all_bands, precision_all_bands, recall_all_bands, f1score_all_bands = model_all_bands.evaluate(gen_all_bands.test_dataset) "
   ]
  },
  {
   "cell_type": "code",
   "execution_count": 38,
   "metadata": {
    "collapsed": true,
    "jupyter": {
     "outputs_hidden": true,
     "source_hidden": true
    }
   },
   "outputs": [
    {
     "name": "stdout",
     "output_type": "stream",
     "text": [
      "311/311 [==============================] - 609s 2s/step - loss: 3.9856 - accuracy: 0.9125 - precision: 0.0333 - recall: 0.1238 - f1_score: 0.0138\n"
     ]
    }
   ],
   "source": [
    "loss_RGBNIRN, accuracy_RGBNIRN, precision_RGBNIRN, recall_RGBNIRN, f1score_RGBNIRN = model_RGBNIRN.evaluate(gen_RGBNIRN.test_dataset) "
   ]
  },
  {
   "cell_type": "markdown",
   "metadata": {
    "jupyter": {
     "source_hidden": true
    }
   },
   "source": [
    "#### Predict on one image"
   ]
  },
  {
   "cell_type": "code",
   "execution_count": 12,
   "metadata": {
    "collapsed": true,
    "jupyter": {
     "outputs_hidden": true,
     "source_hidden": true
    }
   },
   "outputs": [
    {
     "name": "stdout",
     "output_type": "stream",
     "text": [
      "(100, 100, 5)\n"
     ]
    }
   ],
   "source": [
    "s3 = boto3.resource('s3')\n",
    "# TODO test on entire test dataset\n",
    "BUCKET_NAME = 'canopy-production-ml'\n",
    "obj = s3.Object(BUCKET_NAME, \"chips/cloudfree-merge-polygons/split/test/100/100_1000_1000.tif\")\n",
    "obj_bytes = io.BytesIO(obj.get()['Body'].read())\n",
    "with rasterio.open(obj_bytes) as src:\n",
    "    img_test = np.transpose(src.read(bands_RGBNIRN), (1, 2, 0))\n",
    "print(img_test.shape)\n"
   ]
  },
  {
   "cell_type": "code",
   "execution_count": 13,
   "metadata": {
    "collapsed": true,
    "jupyter": {
     "outputs_hidden": true,
     "source_hidden": true
    }
   },
   "outputs": [
    {
     "name": "stdout",
     "output_type": "stream",
     "text": [
      "This chip was predicted to belong to these classes:\n",
      "['Shifting_cultivation']\n"
     ]
    }
   ],
   "source": [
    "predictions = model_RGBNIRN.predict(np.array([img_test]))\n",
    "\n",
    "threshold = .2  \n",
    "argsort_list = list(np.argsort(np.array(predictions[0])))\n",
    "argsort_list.reverse()\n",
    "pred_labels = []\n",
    "for top_matches in argsort_list:\n",
    "    if predictions[0][top_matches] > threshold:\n",
    "        pred_labels.append(new_label_list[top_matches])\n",
    "\n",
    "print(\"This chip was predicted to belong to these classes:\")\n",
    "print(pred_labels)\n"
   ]
  },
  {
   "cell_type": "code",
   "execution_count": 72,
   "metadata": {
    "jupyter": {
     "source_hidden": true
    }
   },
   "outputs": [],
   "source": [
    "# print(\"correct label\")\n",
    "\n",
    "# def get_label(chip_uri,csv_path=csv_path):\n",
    "    \n",
    "#     df1 = pd.read_csv(csv_path)\n",
    "#     df2 = pd.read_csv(\"/cb_feature_detection/data-prep/local_multi_label.csv\")\n",
    "    \n",
    "#     return df2[df2[\"labels\"].contains(chip_uri)]\n",
    "    \n",
    "# get_label(\"100/100_1000_1000.tif\")\n",
    "\n",
    "\n",
    "\n"
   ]
  },
  {
   "cell_type": "markdown",
   "metadata": {
    "jupyter": {
     "source_hidden": true
    }
   },
   "source": [
    "#### Prediction on the test set"
   ]
  },
  {
   "cell_type": "code",
   "execution_count": 11,
   "metadata": {
    "collapsed": true,
    "jupyter": {
     "outputs_hidden": true,
     "source_hidden": true
    }
   },
   "outputs": [
    {
     "name": "stdout",
     "output_type": "stream",
     "text": [
      "1119/1119 [==============================] - 2258s 2s/step\n"
     ]
    }
   ],
   "source": [
    "# Predict on all chips in test set\n",
    "# y_pred_all_bands = model_all_bands.predict(gen_all_bands.test_dataset, verbose=1)\n",
    "y_pred_RGBNIRN = model_RGBNIRN.predict(gen_RGBNIRN.test_dataset, verbose=1)"
   ]
  },
  {
   "cell_type": "code",
   "execution_count": 74,
   "metadata": {
    "collapsed": true,
    "jupyter": {
     "outputs_hidden": true,
     "source_hidden": true
    }
   },
   "outputs": [
    {
     "name": "stdout",
     "output_type": "stream",
     "text": [
      "[0. 0. 0. 0. 0.]\n"
     ]
    }
   ],
   "source": [
    "# print(y_pred_all_bands[0])\n",
    "print(y_pred_RGBNIRN[0])"
   ]
  },
  {
   "cell_type": "code",
   "execution_count": 15,
   "metadata": {
    "collapsed": true,
    "jupyter": {
     "outputs_hidden": true,
     "source_hidden": true
    }
   },
   "outputs": [
    {
     "name": "stdout",
     "output_type": "stream",
     "text": [
      "[[0 0 0 0 0]\n",
      " [0 0 0 0 0]\n",
      " [0 0 0 0 0]\n",
      " ...\n",
      " [0 0 0 0 0]\n",
      " [0 0 0 0 0]\n",
      " [0 0 0 0 0]]\n"
     ]
    }
   ],
   "source": [
    "csv_path = \"new_test_labels_v2.csv\"\n",
    "\n",
    "# Get true labels from csv file \n",
    "y_true_2 = pd.read_csv(new_csv_path_one_third).drop('paths', 1)\n",
    "y_true = np.array([y_true_2.loc[i].to_list() for i in range(len(y_true_2))])\n",
    "print(y_true)"
   ]
  },
  {
   "cell_type": "code",
   "execution_count": 92,
   "metadata": {
    "jupyter": {
     "source_hidden": true
    }
   },
   "outputs": [],
   "source": [
    "def compare_ytrue_ypred(y_true, y_pred,threshold=0.2):\n",
    "    for idx in range(len(y_pred)):\n",
    "        argsort_list = list(np.argsort(np.array(y_pred[idx])))\n",
    "        argsort_list.reverse()\n",
    "        true_classes_list = [ i for i in range(len(y_true[idx])) if y_true[idx][i] == 1 ]\n",
    "        print(f\"\\n{idx}) True labels:\")\n",
    "        print([label_list[index] for index in true_classes_list])\n",
    "        pred_labels = []\n",
    "        for top_matches in argsort_list:\n",
    "            if y_pred[idx][top_matches] > threshold:\n",
    "                pred_labels.append(label_list[top_matches])\n",
    "        print(\"Predicted labels:\")\n",
    "        print(pred_labels)\n",
    "#         break\n",
    "# compare_ytrue_ypred(y_true, y_pred,threshold=0.2)"
   ]
  },
  {
   "cell_type": "markdown",
   "metadata": {
    "jupyter": {
     "source_hidden": true
    }
   },
   "source": [
    "#### Confusion matrices"
   ]
  },
  {
   "cell_type": "code",
   "execution_count": 93,
   "metadata": {
    "collapsed": true,
    "jupyter": {
     "outputs_hidden": true,
     "source_hidden": true
    }
   },
   "outputs": [
    {
     "data": {
      "text/plain": [
       "array([[0.463414, 0.671276, 0.411386, 0.504151, 0.458109],\n",
       "       [0.47129 , 0.660981, 0.411713, 0.514719, 0.44633 ],\n",
       "       [0.471118, 0.661492, 0.411457, 0.514485, 0.446558],\n",
       "       ...,\n",
       "       [0.472249, 0.666953, 0.410783, 0.511884, 0.448089],\n",
       "       [0.472249, 0.666953, 0.410783, 0.511884, 0.448089],\n",
       "       [0.472249, 0.666953, 0.410783, 0.511884, 0.448089]], dtype=float32)"
      ]
     },
     "execution_count": 93,
     "metadata": {},
     "output_type": "execute_result"
    }
   ],
   "source": [
    "y_pred_RGBNIRN"
   ]
  },
  {
   "cell_type": "code",
   "execution_count": 16,
   "metadata": {
    "collapsed": true,
    "jupyter": {
     "outputs_hidden": true,
     "source_hidden": true
    }
   },
   "outputs": [
    {
     "data": {
      "text/plain": [
       "array([[0, 0, 0, 0, 1],\n",
       "       [0, 0, 0, 0, 1],\n",
       "       [0, 0, 0, 0, 1],\n",
       "       ...,\n",
       "       [0, 0, 0, 0, 0],\n",
       "       [0, 0, 0, 0, 0],\n",
       "       [0, 0, 0, 0, 0]])"
      ]
     },
     "execution_count": 16,
     "metadata": {},
     "output_type": "execute_result"
    }
   ],
   "source": [
    "threshold = .2\n",
    "\n",
    "# y_pred_all_bands_threshold = np.where(y_pred_all_bands > threshold, 1, 0)\n",
    "y_pred_RGBNIRN_threshold = np.where(y_pred_RGBNIRN > threshold, 1, 0)\n",
    "y_pred_RGBNIRN_threshold"
   ]
  },
  {
   "cell_type": "code",
   "execution_count": 17,
   "metadata": {
    "jupyter": {
     "source_hidden": true
    }
   },
   "outputs": [],
   "source": [
    "from sklearn.metrics import multilabel_confusion_matrix, ConfusionMatrixDisplay\n",
    "# https://scikit-learn.org/stable/modules/generated/sklearn.metrics.multilabel_confusion_matrix.html\n",
    "# matrices_all_bands = multilabel_confusion_matrix(y_true, y_pred_all_bands_threshold)\n",
    "matrices_RGBNIRN = multilabel_confusion_matrix(y_true, y_pred_RGBNIRN_threshold)"
   ]
  },
  {
   "cell_type": "code",
   "execution_count": 18,
   "metadata": {
    "collapsed": true,
    "jupyter": {
     "outputs_hidden": true,
     "source_hidden": true
    }
   },
   "outputs": [
    {
     "data": {
      "image/png": "[encoded data removed]",
      "text/plain": [
       "<Figure size 432x288 with 2 Axes>"
      ]
     },
     "metadata": {
      "needs_background": "light"
     },
     "output_type": "display_data"
    },
    {
     "data": {
      "image/png": "[encoded data removed]",
      "text/plain": [
       "<Figure size 432x288 with 2 Axes>"
      ]
     },
     "metadata": {
      "needs_background": "light"
     },
     "output_type": "display_data"
    },
    {
     "data": {
      "image/png": "[encoded data removed]",
      "text/plain": [
       "<Figure size 432x288 with 2 Axes>"
      ]
     },
     "metadata": {
      "needs_background": "light"
     },
     "output_type": "display_data"
    },
    {
     "data": {
      "image/png": "[encoded data removed]",
      "text/plain": [
       "<Figure size 432x288 with 2 Axes>"
      ]
     },
     "metadata": {
      "needs_background": "light"
     },
     "output_type": "display_data"
    },
    {
     "data": {
      "image/png": "[encoded data removed]",
      "text/plain": [
       "<Figure size 432x288 with 2 Axes>"
      ]
     },
     "metadata": {
      "needs_background": "light"
     },
     "output_type": "display_data"
    }
   ],
   "source": [
    "# if no label x on chip i then label = 0 and predicted should = 0 otherwise if label predicted = 1 then it is wrongly classifiying the label (FP)\n",
    "# if label x on chip i then label = 1 and predicted should = 1 otherwise if label predicted = 0 then it is missing the label classification (FN)\n",
    "for i in range(len(new_label_list)):\n",
    "#     cmd = ConfusionMatrixDisplay(matrices_all_bands[i], display_labels=np.unique(y_true)).plot()\n",
    "#     plt.title(f'Confusion Matrix for label {label_list[i]} - All bands')\n",
    "#     plt.show()    \n",
    "    cmd = ConfusionMatrixDisplay(matrices_RGBNIRN[i], display_labels=np.unique(y_true)).plot()\n",
    "    plt.title(f'Confusion Matrix for label {new_label_list[i]} - RGBNIRN')\n",
    "    plt.show()"
   ]
  },
  {
   "cell_type": "code",
   "execution_count": null,
   "metadata": {
    "jupyter": {
     "source_hidden": true
    }
   },
   "outputs": [],
   "source": []
  },
  {
   "cell_type": "code",
   "execution_count": 31,
   "metadata": {
    "jupyter": {
     "source_hidden": true
    }
   },
   "outputs": [],
   "source": [
    "KEY = \"s3://canopy-production-ml-output/ckpt/pc-tf-custom-container-test-job-RGBNIRN-2021-04-05-19-32-30-906/model_resnet_epoch_3.h5\"\n",
    "s3 = boto3.resource('s3')\n",
    "s3.Bucket('canopy-production-ml-output').download_file(KEY, 'model_weights_all_bands.h5')"
   ]
  },
  {
   "cell_type": "code",
   "execution_count": 32,
   "metadata": {
    "jupyter": {
     "source_hidden": true
    }
   },
   "outputs": [],
   "source": [
    "model_all_bands.load_weights(\"model_weights_all_bands.h5\")"
   ]
  },
  {
   "cell_type": "code",
   "execution_count": 34,
   "metadata": {
    "collapsed": true,
    "jupyter": {
     "outputs_hidden": true,
     "source_hidden": true
    }
   },
   "outputs": [
    {
     "name": "stdout",
     "output_type": "stream",
     "text": [
      "7706/7706 [==============================] - 2592s 336ms/step\n"
     ]
    }
   ],
   "source": [
    "y_pred_all_bands_2 = model_all_bands.predict(gen_all_bands.test_dataset, verbose=1)"
   ]
  },
  {
   "cell_type": "code",
   "execution_count": 35,
   "metadata": {
    "collapsed": true,
    "jupyter": {
     "outputs_hidden": true,
     "source_hidden": true
    }
   },
   "outputs": [
    {
     "data": {
      "text/plain": [
       "array([[0, 0, 0, ..., 0, 0, 0],\n",
       "       [0, 0, 0, ..., 0, 0, 0],\n",
       "       [0, 0, 0, ..., 0, 0, 0],\n",
       "       ...,\n",
       "       [0, 0, 0, ..., 0, 0, 0],\n",
       "       [0, 0, 0, ..., 0, 0, 0],\n",
       "       [0, 0, 0, ..., 0, 0, 0]])"
      ]
     },
     "execution_count": 35,
     "metadata": {},
     "output_type": "execute_result"
    }
   ],
   "source": [
    "y_pred_all_bands_threshold_2 = np.where(y_pred_all_bands_2 > threshold, 1, 0)\n",
    "y_pred_all_bands_threshold_2"
   ]
  },
  {
   "cell_type": "code",
   "execution_count": 36,
   "metadata": {
    "collapsed": true,
    "jupyter": {
     "outputs_hidden": true,
     "source_hidden": true
    }
   },
   "outputs": [
    {
     "data": {
      "image/png": "[encoded data removed]",
      "text/plain": [
       "<Figure size 432x288 with 2 Axes>"
      ]
     },
     "metadata": {
      "needs_background": "light"
     },
     "output_type": "display_data"
    },
    {
     "data": {
      "image/png": "[encoded data removed]",
      "text/plain": [
       "<Figure size 432x288 with 2 Axes>"
      ]
     },
     "metadata": {
      "needs_background": "light"
     },
     "output_type": "display_data"
    },
    {
     "data": {
      "image/png": "[encoded data removed]",
      "text/plain": [
       "<Figure size 432x288 with 2 Axes>"
      ]
     },
     "metadata": {
      "needs_background": "light"
     },
     "output_type": "display_data"
    },
    {
     "data": {
      "image/png": "[encoded data removed]",
      "text/plain": [
       "<Figure size 432x288 with 2 Axes>"
      ]
     },
     "metadata": {
      "needs_background": "light"
     },
     "output_type": "display_data"
    },
    {
     "data": {
      "image/png": "[encoded data removed]",
      "text/plain": [
       "<Figure size 432x288 with 2 Axes>"
      ]
     },
     "metadata": {
      "needs_background": "light"
     },
     "output_type": "display_data"
    },
    {
     "data": {
      "image/png": "[encoded data removed]",
      "text/plain": [
       "<Figure size 432x288 with 2 Axes>"
      ]
     },
     "metadata": {
      "needs_background": "light"
     },
     "output_type": "display_data"
    },
    {
     "data": {
      "image/png": "[encoded data removed]",
      "text/plain": [
       "<Figure size 432x288 with 2 Axes>"
      ]
     },
     "metadata": {
      "needs_background": "light"
     },
     "output_type": "display_data"
    },
    {
     "data": {
      "image/png": "[encoded data removed]",
      "text/plain": [
       "<Figure size 432x288 with 2 Axes>"
      ]
     },
     "metadata": {
      "needs_background": "light"
     },
     "output_type": "display_data"
    },
    {
     "data": {
      "image/png": "[encoded data removed]",
      "text/plain": [
       "<Figure size 432x288 with 2 Axes>"
      ]
     },
     "metadata": {
      "needs_background": "light"
     },
     "output_type": "display_data"
    },
    {
     "data": {
      "image/png": "[encoded data removed]",
      "text/plain": [
       "<Figure size 432x288 with 2 Axes>"
      ]
     },
     "metadata": {
      "needs_background": "light"
     },
     "output_type": "display_data"
    }
   ],
   "source": [
    "from sklearn.metrics import multilabel_confusion_matrix, ConfusionMatrixDisplay\n",
    "# https://scikit-learn.org/stable/modules/generated/sklearn.metrics.multilabel_confusion_matrix.html\n",
    "matrices_all_bands_2 = multilabel_confusion_matrix(y_true, y_pred_all_bands_threshold_2)\n",
    "for i in range(len(label_list)):\n",
    "    cmd = ConfusionMatrixDisplay(matrices_all_bands_2[i], display_labels=np.unique(y_true)).plot()\n",
    "    plt.title(f'Confusion Matrix for label {label_list[i]} - All bands')\n",
    "    plt.show()    "
   ]
  },
  {
   "cell_type": "code",
   "execution_count": null,
   "metadata": {
    "jupyter": {
     "source_hidden": true
    }
   },
   "outputs": [],
   "source": []
  },
  {
   "cell_type": "code",
   "execution_count": null,
   "metadata": {
    "jupyter": {
     "source_hidden": true
    }
   },
   "outputs": [],
   "source": [
    "loss_all_bands, accuracy_all_bands, precision_all_bands, recall_all_bands, f1score_all_bands = model_all_bands.evaluate(gen_all_bands.test_dataset) "
   ]
  },
  {
   "cell_type": "markdown",
   "metadata": {},
   "source": [
    "# Updated Eval Code"
   ]
  },
  {
   "cell_type": "code",
   "execution_count": 30,
   "metadata": {},
   "outputs": [],
   "source": [
    "# label_list = [\"Habitation\", \"Industrial_agriculture\", \"Mining\", \"Rainforest\", \"River\", \"Roads\", \"Savannah\", \n",
    "#               \"Shifting_cultivation\", \"Water\"]\n",
    "\n",
    "new_label_list = [\"Industrial_agriculture\",\"ISL\",\"Mining\",\"Roads\",\"Shifting_cultivation\"]\n",
    "\n",
    "# 1:\"Industrial_agriculture\"\n",
    "# 2:\"ISL\"\n",
    "# 3:\"Mining\"\n",
    "# 4:\"Roads\"\n",
    "# 5:\"Shifting_cultivation\"\n",
    "\n",
    "\n",
    "numclasses = len(new_label_list)\n",
    "bands_all = [1, 2, 3, 4, 5, 6, 7, 8, 9, 10, 11, 12, 16, 17, 18]\n",
    "bands_RGBNIRN_old = [2, 3, 4, 8,18]\n",
    "bands_RGBNIRN = [2, 3, 4, 8,12]\n",
    "bands_RGBNIRSWR1SWR2 = [2, 3, 4, 8,11,12]\n",
    "bands_RGBNIRSWR1SWR2NDVI = [2, 3, 4, 8,11,12,18]\n",
    "# input_shape_all_bands= (100,100,len(bands_all))\n",
    "input_shape_RGBNIRN = (100,100,len(bands_RGBNIRN))\n",
    "input_shape_RGBNIRN_old = (100,100,len(bands_RGBNIRN_old))\n",
    "input_shape_RGBNIRSWR1SWR2 = (100,100,len(bands_RGBNIRSWR1SWR2))\n",
    "input_shape_RGBNIRSWR1SWR2NDVI = (100,100,len(bands_RGBNIRSWR1SWR2NDVI))\n",
    "input_shape_all = (100,100,len(bands_all))\n",
    "\n",
    "margaux_LR = 0.0001\n"
   ]
  },
  {
   "cell_type": "code",
   "execution_count": 31,
   "metadata": {},
   "outputs": [],
   "source": [
    "# def Simple_CNN(numclasses, input_shape): #TODO use a more complex CNN\n",
    "#     model = Sequential([\n",
    "#         layers.Input(input_shape),\n",
    "#         layers.Conv2D(16, 3, padding='same', activation='relu'),\n",
    "#         layers.MaxPooling2D(),\n",
    "#         layers.Conv2D(32, 3, padding='same', activation='relu'),\n",
    "#         layers.MaxPooling2D(),\n",
    "#         layers.Conv2D(64, 3, padding='same', activation='relu'),\n",
    "#         layers.MaxPooling2D(),\n",
    "#         layers.Flatten(),\n",
    "#         layers.Dense(128, activation='relu'),\n",
    "#         layers.Dense(numclasses, activation=\"softmax\")\n",
    "#     ])\n",
    "#     return model\n",
    "\n",
    "def define_model(numclasses,input_shape,starting_checkpoint=None,lcl_chkpt_dir=None):\n",
    "        # parameters for CNN\n",
    "        input_tensor = Input(shape=input_shape)\n",
    "\n",
    "        # introduce a additional layer to get from bands to 3 input channels\n",
    "        input_tensor = Conv2D(3, (1, 1))(input_tensor)\n",
    "\n",
    "        base_model_resnet50 = keras.applications.ResNet50(include_top=False,\n",
    "                                  weights='imagenet',\n",
    "                                  input_shape=(100, 100, 3))\n",
    "        base_model = keras.applications.ResNet50(include_top=False,\n",
    "                         weights=None,\n",
    "                         input_tensor=input_tensor)\n",
    "\n",
    "        for i, layer in enumerate(base_model_resnet50.layers):\n",
    "            # we must skip input layer, which has no weights\n",
    "            if i == 0:\n",
    "                continue\n",
    "            base_model.layers[i+1].set_weights(layer.get_weights())\n",
    "\n",
    "        # add a global spatial average pooling layer\n",
    "        top_model = base_model.output\n",
    "        top_model = GlobalAveragePooling2D()(top_model)\n",
    "\n",
    "        # let's add a fully-connected layer\n",
    "        top_model = Dense(2048, activation='relu')(top_model)\n",
    "        top_model = Dense(2048, activation='relu')(top_model)\n",
    "        # and a logistic layer\n",
    "        predictions = Dense(numclasses, activation='sigmoid')(top_model)\n",
    "\n",
    "        # this is the model we will train\n",
    "        model = Model(inputs=base_model.input, outputs=predictions)\n",
    "    #     model = model.layers[-1].bias.assign([0.0]) # WIP getting an error ValueError: Cannot assign to variable dense_8/bias:0 due to variable shape (10,) and value shape (1,) are incompatible\n",
    "\n",
    "#         model.summary()\n",
    "        if starting_checkpoint:\n",
    "            s3 = boto3.resource('s3')\n",
    "            chkpt_name = lcl_chkpt_dir + '/' + 'start_chkpt.h5'\n",
    "            s3.download_file('canopy-production-ml-output', starting_checkpoint, chkpt_name)\n",
    "            model.load_weights(chkpt_name)\n",
    "    \n",
    "        return model\n",
    "    \n"
   ]
  },
  {
   "cell_type": "code",
   "execution_count": 32,
   "metadata": {},
   "outputs": [],
   "source": [
    "model_RGBNIRN = define_model(numclasses, input_shape_RGBNIRSWR1SWR2NDVI)"
   ]
  },
  {
   "cell_type": "code",
   "execution_count": 33,
   "metadata": {},
   "outputs": [],
   "source": [
    "# Set the metrics we want to use for the evaluation\n",
    "model_RGBNIRN.compile(loss=BinaryCrossentropy(), # https://www.tensorflow.org/addons/api_docs/python/tfa/losses/SigmoidFocalCrossEntropy\n",
    "                  optimizer=keras.optimizers.Adam(margaux_LR),\n",
    "                   metrics=[tf.metrics.BinaryAccuracy(name='accuracy'),\n",
    "                           tf.keras.metrics.Precision(name='precision'),\n",
    "                           tf.keras.metrics.Precision(class_id=1,name='ISL_precision'),\n",
    "                           # Computes the precision of the predictions with respect to the labels.\n",
    "                           tf.keras.metrics.Recall(name='recall'),\n",
    "                           tf.keras.metrics.Recall(class_id=1,name='ISL_recall'),\n",
    "                           # Computes the recall of the predictions with respect to the labels.\n",
    "                           F1Score(num_classes=numclasses, name=\"f1_score\")\n",
    "                           # https://www.tensorflow.org/addons/api_docs/python/tfa/metrics/F1Score\n",
    "                           ]\n",
    "                  )\n",
    "\n",
    "\n"
   ]
  },
  {
   "cell_type": "code",
   "execution_count": 38,
   "metadata": {},
   "outputs": [],
   "source": [
    "s3_uri = \"s3://canopy-production-ml-output/ckpt/pc-tf-custom-container-2021-04-18-02-11-05-087/model_resnet_epoch_35.h5\"\n",
    "\n",
    "KEY = \"/\".join(s3_uri.split(\"/\")[3:])\n",
    "# KEY = \"ckpt/pc-tf-custom-container-test-job-RGBNIRN-2021-03-27-02-29-15-006/model_resnet_epoch_31.h5\"\n",
    "s3 = boto3.resource('s3')\n",
    "s3.Bucket('canopy-production-ml-output').download_file(KEY, 'model_weights_RGBNIRN.h5')"
   ]
  },
  {
   "cell_type": "code",
   "execution_count": 39,
   "metadata": {},
   "outputs": [],
   "source": [
    "# model_all_bands.load_weights(\"model_weights_all_bands.h5\")\n",
    "model_RGBNIRN.load_weights(\"model_weights_RGBNIRN.h5\")"
   ]
  },
  {
   "cell_type": "code",
   "execution_count": 40,
   "metadata": {},
   "outputs": [
    {
     "name": "stdout",
     "output_type": "stream",
     "text": [
      "The file new_test_labels_v3_one_third_uri_only.csv is missing positive labels for classes []\n",
      "test on 9536 images\n"
     ]
    }
   ],
   "source": [
    "batch_size = 64\n",
    "# csv_path = \"labels_test.csv\" \n",
    "# new_csv_path = \"new_test_labels_v2.csv\" \n",
    "# new_csv_path_one_third = \"new_test_labels_v3_one_third.csv\"\n",
    "train_set = \"new_train_labels_v7_one_quarter.csv\"\n",
    "test_set = \"new_test_labels_v3_one_third_uri_only.csv\"\n",
    "val_labels = \"new_val_labels_v3.csv\"\n",
    "\n",
    "# gen_all_bands = TestGenerator(label_file_path_test=test_set,\n",
    "#                               training_dir = \"./efs/\",\n",
    "#                          bucket_name='canopy-production-ml',\n",
    "#                          label_mapping_path=\"new_labels.json\",\n",
    "#                          data_extension_type='.tif',\n",
    "#                               file_mode=\"file\",\n",
    "#                          bands=bands_all,\n",
    "#                          test_data_shape=input_shape_all,\n",
    "#                          test_data_batch_size=batch_size,\n",
    "#                          enable_data_prefetch=False,\n",
    "#                          data_prefetch_size=tf.data.experimental.AUTOTUNE,\n",
    "#                          num_parallel_calls=2 * multiprocessing.cpu_count(),\n",
    "#                          output_shape=(tf.float32, tf.float32))\n",
    "\n",
    "gen_RGBNIRN = TestGenerator(label_file_path_test=test_set,\n",
    "                            training_dir = \"./efs\",\n",
    "                         bucket_name='canopy-production-ml',\n",
    "                         label_mapping_path=\"new_labels.json\",\n",
    "                         data_extension_type='.tif',\n",
    "                            file_mode=\"file\",\n",
    "                         bands=bands_RGBNIRSWR1SWR2NDVI,\n",
    "                         test_data_shape=input_shape_RGBNIRSWR1SWR2NDVI,\n",
    "                         test_data_batch_size=batch_size,\n",
    "                         enable_data_prefetch=False,\n",
    "                         data_prefetch_size=tf.data.experimental.AUTOTUNE,\n",
    "                         num_parallel_calls=2 * multiprocessing.cpu_count(),\n",
    "                         output_shape=(tf.float32, tf.float32))"
   ]
  },
  {
   "cell_type": "code",
   "execution_count": 41,
   "metadata": {},
   "outputs": [
    {
     "name": "stdout",
     "output_type": "stream",
     "text": [
      "149/149 [==============================] - 336s 2s/step - loss: 0.5550 - accuracy: 0.7895 - precision: 0.0850 - ISL_precision: 0.3129 - recall: 0.5845 - ISL_recall: 0.7696 - f1_score: 0.1724\n"
     ]
    },
    {
     "data": {
      "text/plain": [
       "[0.5549505352973938,\n",
       " 0.7894713282585144,\n",
       " 0.08502575010061264,\n",
       " 0.3128984868526459,\n",
       " 0.5845023393630981,\n",
       " 0.7696019411087036,\n",
       " array([0.152047, 0.463221, 0.090909, 0.12685 , 0.028796], dtype=float32)]"
      ]
     },
     "execution_count": 41,
     "metadata": {},
     "output_type": "execute_result"
    }
   ],
   "source": [
    "model_RGBNIRN.evaluate(gen_RGBNIRN.test_dataset) \n",
    "\n",
    "# model_RGBNIRN.evaluate(gen_all_bands.test_dataset) \n",
    "\n"
   ]
  },
  {
   "cell_type": "code",
   "execution_count": 139,
   "metadata": {},
   "outputs": [
    {
     "name": "stdout",
     "output_type": "stream",
     "text": [
      "75/75 [==============================] - 285s 4s/step\n"
     ]
    }
   ],
   "source": [
    "y_pred_RGBNIRN = model_RGBNIRN.predict(gen_RGBNIRN.test_dataset, verbose=1)"
   ]
  },
  {
   "cell_type": "code",
   "execution_count": 140,
   "metadata": {},
   "outputs": [
    {
     "name": "stdout",
     "output_type": "stream",
     "text": [
      "[[0 0 0 0 0]\n",
      " [0 0 0 0 0]\n",
      " [0 0 0 0 0]\n",
      " ...\n",
      " [0 0 0 0 0]\n",
      " [0 0 0 0 0]\n",
      " [0 0 0 0 0]]\n"
     ]
    }
   ],
   "source": [
    "# Get true labels from csv file \n",
    "y_true_2 = pd.read_csv(new_csv_path_one_third).drop('paths', 1)\n",
    "y_true = np.array([y_true_2.loc[i].to_list() for i in range(len(y_true_2))])\n",
    "print(y_true)"
   ]
  },
  {
   "cell_type": "code",
   "execution_count": 141,
   "metadata": {},
   "outputs": [
    {
     "data": {
      "text/plain": [
       "array([[0, 0, 0, 0, 1],\n",
       "       [0, 0, 0, 1, 0],\n",
       "       [0, 1, 0, 0, 0],\n",
       "       ...,\n",
       "       [0, 0, 0, 0, 0],\n",
       "       [0, 0, 0, 0, 0],\n",
       "       [0, 0, 0, 0, 0]])"
      ]
     },
     "execution_count": 141,
     "metadata": {},
     "output_type": "execute_result"
    }
   ],
   "source": [
    "threshold = .2\n",
    "\n",
    "# y_pred_all_bands_threshold = np.where(y_pred_all_bands > threshold, 1, 0)\n",
    "y_pred_RGBNIRN_threshold = np.where(y_pred_RGBNIRN > threshold, 1, 0)\n",
    "y_pred_RGBNIRN_threshold"
   ]
  },
  {
   "cell_type": "code",
   "execution_count": 142,
   "metadata": {},
   "outputs": [],
   "source": [
    "from sklearn.metrics import multilabel_confusion_matrix, ConfusionMatrixDisplay\n",
    "matrices_RGBNIRN = multilabel_confusion_matrix(y_true, y_pred_RGBNIRN_threshold)"
   ]
  },
  {
   "cell_type": "code",
   "execution_count": 143,
   "metadata": {},
   "outputs": [
    {
     "data": {
      "image/png": "[encoded data removed]",
      "text/plain": [
       "<Figure size 432x288 with 2 Axes>"
      ]
     },
     "metadata": {
      "needs_background": "light"
     },
     "output_type": "display_data"
    },
    {
     "data": {
      "image/png": "[encoded data removed]",
      "text/plain": [
       "<Figure size 432x288 with 2 Axes>"
      ]
     },
     "metadata": {
      "needs_background": "light"
     },
     "output_type": "display_data"
    },
    {
     "data": {
      "image/png": "[encoded data removed]",
      "text/plain": [
       "<Figure size 432x288 with 2 Axes>"
      ]
     },
     "metadata": {
      "needs_background": "light"
     },
     "output_type": "display_data"
    },
    {
     "data": {
      "image/png": "[encoded data removed]",
      "text/plain": [
       "<Figure size 432x288 with 2 Axes>"
      ]
     },
     "metadata": {
      "needs_background": "light"
     },
     "output_type": "display_data"
    },
    {
     "data": {
      "image/png": "[encoded data removed]",
      "text/plain": [
       "<Figure size 432x288 with 2 Axes>"
      ]
     },
     "metadata": {
      "needs_background": "light"
     },
     "output_type": "display_data"
    }
   ],
   "source": [
    "for i in range(len(new_label_list)):\n",
    "    cmd = ConfusionMatrixDisplay(matrices_RGBNIRN[i], display_labels=np.unique(y_true)).plot()\n",
    "    plt.title(f'Confusion Matrix for label {new_label_list[i]} - RGBNIRN')\n",
    "    plt.show()"
   ]
  },
  {
   "cell_type": "markdown",
   "metadata": {},
   "source": [
    "# Eval Pipeline"
   ]
  },
  {
   "cell_type": "code",
   "execution_count": 4,
   "metadata": {},
   "outputs": [],
   "source": [
    "# label_list = [\"Habitation\", \"Industrial_agriculture\", \"Mining\", \"Rainforest\", \"River\", \"Roads\", \"Savannah\", \n",
    "#               \"Shifting_cultivation\", \"Water\"]\n",
    "\n",
    "new_label_list = [\"Industrial_agriculture\",\"ISL\",\"Mining\",\"Roads\",\"Shifting_cultivation\"]\n",
    "\n",
    "# 1:\"Industrial_agriculture\"\n",
    "# 2:\"ISL\"\n",
    "# 3:\"Mining\"\n",
    "# 4:\"Roads\"\n",
    "# 5:\"Shifting_cultivation\"\n",
    "\n",
    "\n",
    "numclasses = len(new_label_list)\n",
    "bands_all = [1, 2, 3, 4, 5, 6, 7, 8, 9, 10, 11, 12, 16, 17, 18]\n",
    "bands_RGBNIRN = [2, 3, 4, 8, 12]\n",
    "# input_shape_all_bands= (100,100,len(bands_all))\n",
    "input_shape_RGBNIRN = (100,100,len(bands_RGBNIRN))\n",
    "input_shape_all = (100,100,len(bands_all))"
   ]
  },
  {
   "cell_type": "code",
   "execution_count": 5,
   "metadata": {},
   "outputs": [],
   "source": [
    "import wget\n",
    "\n",
    "s3 = boto3.resource('s3')\n",
    "model_url = \"https://api.wandb.ai/files/zwarshavsky/project-canopy/pc-tf-custom-container-test-job-RGBNIRN-2021-04-06-20-28-35-428-algo-1/model-best.h5\"\n",
    "checkpoint_url = \"s3://canopy-production-ml-output/ckpt/pc-tf-custom-container-test-job-RGBNIRN-2021-04-06-20-28-35-428/model_resnet_epoch_19.h5\"\n",
    "model_weights_filename = \"model_weights.h5\""
   ]
  },
  {
   "cell_type": "code",
   "execution_count": null,
   "metadata": {},
   "outputs": [],
   "source": [
    "#Download Model \n",
    "model_path = wget.download(model_url)\n",
    "\n",
    "#Download Weights\n",
    "KEY = \"/\".join(checkpoint_url.split(\"/\")[3:])\n",
    "s3.Bucket('canopy-production-ml-output').download_file(KEY, model_weights_filename)"
   ]
  },
  {
   "cell_type": "code",
   "execution_count": null,
   "metadata": {},
   "outputs": [],
   "source": [
    "model_test = tf.keras.models.load_model(model_path)\n",
    "model_test.load_weights(model_weights_filename)"
   ]
  },
  {
   "cell_type": "code",
   "execution_count": null,
   "metadata": {},
   "outputs": [],
   "source": [
    "batch_size = 128\n",
    "# csv_path = \"labels_test.csv\" \n",
    "# new_csv_path = \"new_test_labels_v2.csv\" \n",
    "# new_csv_path_one_third = \"new_test_labels_v3_one_third.csv\"\n",
    "train_set = \"new_train_labels_v7_one_quarter.csv\"\n",
    "test_set = \"new_test_labels_v3_one_third_uri_only.csv\"\n",
    "val_labels = \"new_val_labels_v3.csv\"\n",
    "\n",
    "# gen_all_bands = TestGenerator(label_file_path_test=test_set,\n",
    "#                               training_dir = \"./efs/\",\n",
    "#                          bucket_name='canopy-production-ml',\n",
    "#                          label_mapping_path=\"new_labels.json\",\n",
    "#                          data_extension_type='.tif',\n",
    "#                               file_mode=\"file\",\n",
    "#                          bands=bands_all,\n",
    "#                          test_data_shape=input_shape_all,\n",
    "#                          test_data_batch_size=batch_size,\n",
    "#                          enable_data_prefetch=False,\n",
    "#                          data_prefetch_size=tf.data.experimental.AUTOTUNE,\n",
    "#                          num_parallel_calls=2 * multiprocessing.cpu_count(),\n",
    "#                          output_shape=(tf.float32, tf.float32))\n",
    "\n",
    "gen_RGBNIRN = TestGenerator(label_file_path_test=test_set,\n",
    "                            training_dir = \"./efs\",\n",
    "                         bucket_name='canopy-production-ml',\n",
    "                         label_mapping_path=\"new_labels.json\",\n",
    "                         data_extension_type='.tif',\n",
    "                            file_mode=\"file\",\n",
    "                         bands=bands_RGBNIRN,\n",
    "                         test_data_shape=input_shape_RGBNIRN,\n",
    "                         test_data_batch_size=batch_size,\n",
    "                         enable_data_prefetch=False,\n",
    "                         data_prefetch_size=tf.data.experimental.AUTOTUNE,\n",
    "                         num_parallel_calls=2 * multiprocessing.cpu_count(),\n",
    "                         output_shape=(tf.float32, tf.float32))"
   ]
  },
  {
   "cell_type": "code",
   "execution_count": null,
   "metadata": {},
   "outputs": [],
   "source": [
    "model_test.evaluate(gen_RGBNIRN.validation_dataset)"
   ]
  },
  {
   "cell_type": "markdown",
   "metadata": {},
   "source": [
    "# Sandbox"
   ]
  },
  {
   "cell_type": "code",
   "execution_count": 58,
   "metadata": {},
   "outputs": [
    {
     "data": {
      "text/html": [
       "<div>\n",
       "<style scoped>\n",
       "    .dataframe tbody tr th:only-of-type {\n",
       "        vertical-align: middle;\n",
       "    }\n",
       "\n",
       "    .dataframe tbody tr th {\n",
       "        vertical-align: top;\n",
       "    }\n",
       "\n",
       "    .dataframe thead th {\n",
       "        text-align: right;\n",
       "    }\n",
       "</style>\n",
       "<table border=\"1\" class=\"dataframe\">\n",
       "  <thead>\n",
       "    <tr style=\"text-align: right;\">\n",
       "      <th></th>\n",
       "      <th>0</th>\n",
       "      <th>1</th>\n",
       "      <th>2</th>\n",
       "      <th>3</th>\n",
       "      <th>4</th>\n",
       "      <th>paths</th>\n",
       "    </tr>\n",
       "  </thead>\n",
       "  <tbody>\n",
       "    <tr>\n",
       "      <th>0</th>\n",
       "      <td>0</td>\n",
       "      <td>0</td>\n",
       "      <td>0</td>\n",
       "      <td>0</td>\n",
       "      <td>0</td>\n",
       "      <td>12_2800_2200.tif</td>\n",
       "    </tr>\n",
       "    <tr>\n",
       "      <th>1</th>\n",
       "      <td>0</td>\n",
       "      <td>0</td>\n",
       "      <td>0</td>\n",
       "      <td>0</td>\n",
       "      <td>0</td>\n",
       "      <td>12_1800_0.tif</td>\n",
       "    </tr>\n",
       "    <tr>\n",
       "      <th>2</th>\n",
       "      <td>0</td>\n",
       "      <td>0</td>\n",
       "      <td>0</td>\n",
       "      <td>0</td>\n",
       "      <td>0</td>\n",
       "      <td>12_3200_3800.tif</td>\n",
       "    </tr>\n",
       "    <tr>\n",
       "      <th>3</th>\n",
       "      <td>0</td>\n",
       "      <td>0</td>\n",
       "      <td>0</td>\n",
       "      <td>0</td>\n",
       "      <td>0</td>\n",
       "      <td>12_4500_4100.tif</td>\n",
       "    </tr>\n",
       "    <tr>\n",
       "      <th>4</th>\n",
       "      <td>0</td>\n",
       "      <td>0</td>\n",
       "      <td>0</td>\n",
       "      <td>0</td>\n",
       "      <td>0</td>\n",
       "      <td>12_900_4200.tif</td>\n",
       "    </tr>\n",
       "    <tr>\n",
       "      <th>...</th>\n",
       "      <td>...</td>\n",
       "      <td>...</td>\n",
       "      <td>...</td>\n",
       "      <td>...</td>\n",
       "      <td>...</td>\n",
       "      <td>...</td>\n",
       "    </tr>\n",
       "    <tr>\n",
       "      <th>19897</th>\n",
       "      <td>0</td>\n",
       "      <td>0</td>\n",
       "      <td>0</td>\n",
       "      <td>0</td>\n",
       "      <td>0</td>\n",
       "      <td>101_2800_1300.tif</td>\n",
       "    </tr>\n",
       "    <tr>\n",
       "      <th>19898</th>\n",
       "      <td>0</td>\n",
       "      <td>0</td>\n",
       "      <td>0</td>\n",
       "      <td>0</td>\n",
       "      <td>1</td>\n",
       "      <td>101_1700_2800.tif</td>\n",
       "    </tr>\n",
       "    <tr>\n",
       "      <th>19899</th>\n",
       "      <td>0</td>\n",
       "      <td>0</td>\n",
       "      <td>0</td>\n",
       "      <td>0</td>\n",
       "      <td>0</td>\n",
       "      <td>101_2500_3300.tif</td>\n",
       "    </tr>\n",
       "    <tr>\n",
       "      <th>19900</th>\n",
       "      <td>0</td>\n",
       "      <td>0</td>\n",
       "      <td>0</td>\n",
       "      <td>0</td>\n",
       "      <td>1</td>\n",
       "      <td>101_1900_1600.tif</td>\n",
       "    </tr>\n",
       "    <tr>\n",
       "      <th>19901</th>\n",
       "      <td>0</td>\n",
       "      <td>0</td>\n",
       "      <td>0</td>\n",
       "      <td>0</td>\n",
       "      <td>1</td>\n",
       "      <td>101_400_1800.tif</td>\n",
       "    </tr>\n",
       "  </tbody>\n",
       "</table>\n",
       "<p>19902 rows × 6 columns</p>\n",
       "</div>"
      ],
      "text/plain": [
       "       0  1  2  3  4              paths\n",
       "0      0  0  0  0  0   12_2800_2200.tif\n",
       "1      0  0  0  0  0      12_1800_0.tif\n",
       "2      0  0  0  0  0   12_3200_3800.tif\n",
       "3      0  0  0  0  0   12_4500_4100.tif\n",
       "4      0  0  0  0  0    12_900_4200.tif\n",
       "...   .. .. .. .. ..                ...\n",
       "19897  0  0  0  0  0  101_2800_1300.tif\n",
       "19898  0  0  0  0  1  101_1700_2800.tif\n",
       "19899  0  0  0  0  0  101_2500_3300.tif\n",
       "19900  0  0  0  0  1  101_1900_1600.tif\n",
       "19901  0  0  0  0  1   101_400_1800.tif\n",
       "\n",
       "[19902 rows x 6 columns]"
      ]
     },
     "execution_count": 58,
     "metadata": {},
     "output_type": "execute_result"
    }
   ],
   "source": [
    "df"
   ]
  },
  {
   "cell_type": "code",
   "execution_count": 26,
   "metadata": {},
   "outputs": [
    {
     "data": {
      "text/plain": [
       "0       0\n",
       "1       0\n",
       "2       0\n",
       "3       0\n",
       "4       0\n",
       "       ..\n",
       "9531    0\n",
       "9532    0\n",
       "9533    0\n",
       "9534    0\n",
       "9535    0\n",
       "Name: 0, Length: 9536, dtype: int64"
      ]
     },
     "execution_count": 26,
     "metadata": {},
     "output_type": "execute_result"
    }
   ],
   "source": [
    "df[\"0\"]"
   ]
  },
  {
   "cell_type": "code",
   "execution_count": null,
   "metadata": {},
   "outputs": [],
   "source": []
  }
 ],
 "metadata": {
  "kernelspec": {
   "display_name": "conda_tensorflow2_p36",
   "language": "python",
   "name": "conda_tensorflow2_p36"
  },
  "language_info": {
   "codemirror_mode": {
    "name": "ipython",
    "version": 3
   },
   "file_extension": ".py",
   "mimetype": "text/x-python",
   "name": "python",
   "nbconvert_exporter": "python",
   "pygments_lexer": "ipython3",
   "version": "3.6.13"
  }
 },
 "nbformat": 4,
 "nbformat_minor": 4
}
