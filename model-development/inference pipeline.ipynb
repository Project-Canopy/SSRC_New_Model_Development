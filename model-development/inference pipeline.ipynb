{
 "cells": [
  {
   "cell_type": "code",
   "execution_count": 119,
   "metadata": {},
   "outputs": [],
   "source": [
    "import os\n",
    "import rasterio as rio\n",
    "import numpy as np\n",
    "from rasterio.windows import Window\n",
    "from glob import glob\n",
    "from shapely.geometry import Polygon\n",
    "from shapely.geometry import box\n",
    "import geopandas as gpd\n",
    "from rasterio.windows import get_data_window"
   ]
  },
  {
   "cell_type": "code",
   "execution_count": 33,
   "metadata": {},
   "outputs": [
    {
     "name": "stdout",
     "output_type": "stream",
     "text": [
      "Collecting geopandas\n",
      "  Downloading geopandas-0.9.0-py2.py3-none-any.whl (994 kB)\n",
      "\u001b[K     |████████████████████████████████| 994 kB 15.7 MB/s eta 0:00:01\n",
      "\u001b[?25hCollecting fiona>=1.8\n",
      "  Downloading Fiona-1.8.19-cp36-cp36m-manylinux1_x86_64.whl (15.3 MB)\n",
      "\u001b[K     |████████████████████████████████| 15.3 MB 62.4 MB/s eta 0:00:01\n",
      "\u001b[?25hRequirement already satisfied: pyproj>=2.2.0 in /home/ec2-user/anaconda3/envs/tensorflow2_p36/lib/python3.6/site-packages (from geopandas) (3.0.1)\n",
      "Requirement already satisfied: pandas>=0.24.0 in /home/ec2-user/anaconda3/envs/tensorflow2_p36/lib/python3.6/site-packages (from geopandas) (1.1.5)\n",
      "Requirement already satisfied: shapely>=1.6 in /home/ec2-user/anaconda3/envs/tensorflow2_p36/lib/python3.6/site-packages (from geopandas) (1.7.1)\n",
      "Requirement already satisfied: click-plugins>=1.0 in /home/ec2-user/anaconda3/envs/tensorflow2_p36/lib/python3.6/site-packages (from fiona>=1.8->geopandas) (1.1.1)\n",
      "Collecting munch\n",
      "  Downloading munch-2.5.0-py2.py3-none-any.whl (10 kB)\n",
      "Requirement already satisfied: six>=1.7 in /home/ec2-user/anaconda3/envs/tensorflow2_p36/lib/python3.6/site-packages (from fiona>=1.8->geopandas) (1.15.0)\n",
      "Requirement already satisfied: click<8,>=4.0 in /home/ec2-user/anaconda3/envs/tensorflow2_p36/lib/python3.6/site-packages (from fiona>=1.8->geopandas) (7.1.2)\n",
      "Requirement already satisfied: certifi in /home/ec2-user/anaconda3/envs/tensorflow2_p36/lib/python3.6/site-packages (from fiona>=1.8->geopandas) (2020.12.5)\n",
      "Requirement already satisfied: attrs>=17 in /home/ec2-user/anaconda3/envs/tensorflow2_p36/lib/python3.6/site-packages (from fiona>=1.8->geopandas) (20.3.0)\n",
      "Requirement already satisfied: cligj>=0.5 in /home/ec2-user/anaconda3/envs/tensorflow2_p36/lib/python3.6/site-packages (from fiona>=1.8->geopandas) (0.7.1)\n",
      "Requirement already satisfied: python-dateutil>=2.7.3 in /home/ec2-user/anaconda3/envs/tensorflow2_p36/lib/python3.6/site-packages (from pandas>=0.24.0->geopandas) (2.8.1)\n",
      "Requirement already satisfied: pytz>=2017.2 in /home/ec2-user/anaconda3/envs/tensorflow2_p36/lib/python3.6/site-packages (from pandas>=0.24.0->geopandas) (2021.1)\n",
      "Requirement already satisfied: numpy>=1.15.4 in /home/ec2-user/anaconda3/envs/tensorflow2_p36/lib/python3.6/site-packages (from pandas>=0.24.0->geopandas) (1.19.5)\n",
      "Installing collected packages: munch, fiona, geopandas\n",
      "Successfully installed fiona-1.8.19 geopandas-0.9.0 munch-2.5.0\n"
     ]
    }
   ],
   "source": [
    "!pip install geopandas"
   ]
  },
  {
   "cell_type": "markdown",
   "metadata": {},
   "source": [
    "# Mount Inference Data"
   ]
  },
  {
   "cell_type": "code",
   "execution_count": 37,
   "metadata": {},
   "outputs": [],
   "source": [
    "# !sudo mount -t nfs4 -o nfsvers=4.1,rsize=1048576,wsize=1048576,hard,timeo=600,retrans=2,noresvport 172.31.91.151:/ ./efs_inference_data"
   ]
  },
  {
   "cell_type": "markdown",
   "metadata": {},
   "source": [
    "# Windowing"
   ]
  },
  {
   "cell_type": "code",
   "execution_count": 114,
   "metadata": {},
   "outputs": [],
   "source": [
    "def get_windows(img_dim, patch_size=(240, 240), stride=(240, 240)):\n",
    "    patch_size = np.array(patch_size)\n",
    "    stride = np.array(stride)\n",
    "    img_dim = np.array(img_dim)\n",
    "    \n",
    "    max_dim = (img_dim//patch_size)*patch_size - patch_size\n",
    "\n",
    "    ys = np.arange(0, img_dim[0], stride[0])\n",
    "    xs = np.arange(0, img_dim[1], stride[1])\n",
    "\n",
    "    tlc = np.array(np.meshgrid(ys, xs)).T.reshape(-1, 2)\n",
    "    tlc = tlc[tlc[:, 0] <= max_dim[0]]\n",
    "    tlc = tlc[tlc[:, 1] <= max_dim[1]]\n",
    "    \n",
    "    windows = []\n",
    "    for y,x in tlc.astype(int):\n",
    "        windows.append(Window(x, y, patch_size[1], patch_size[0]))\n",
    "\n",
    "    return windows"
   ]
  },
  {
   "cell_type": "code",
   "execution_count": 115,
   "metadata": {},
   "outputs": [],
   "source": [
    "def add_ndvi(data, dtype_1=rio.float32):\n",
    "    \n",
    "    nir = data[7].astype(dtype_1)\n",
    "    red = data[3].astype(dtype_1)\n",
    "\n",
    "    # Allow division by zero\n",
    "    np.seterr(divide='ignore', invalid='ignore')\n",
    "\n",
    "    # Calculate NDVI\n",
    "    ndvi = np.zeros(nir.shape, dtype=dtype_1)\n",
    "    ndvi = ((nir - red) / (nir + red)).astype(dtype_1)\n",
    "\n",
    "    # Rescaling for use in 16bit output\n",
    "\n",
    "    ndvi = (ndvi + 1) * (2**15 - 1)\n",
    "\n",
    "    # Add NDVI band to end of array    \n",
    "    rast = np.concatenate((data,[ndvi]),axis=0)\n",
    "    \n",
    "    rast = rast.astype(rio.uint16)\n",
    "    \n",
    "    return rast\n"
   ]
  },
  {
   "cell_type": "code",
   "execution_count": 116,
   "metadata": {},
   "outputs": [],
   "source": [
    "# def save_to_s3():\n",
    "    \n",
    "    "
   ]
  },
  {
   "cell_type": "code",
   "execution_count": 143,
   "metadata": {},
   "outputs": [],
   "source": [
    "def output_windows(granule_dir,out_path,patch_size=100,\n",
    "                   stride=100,SAVE=False,SAVE_INDIVIDUAL=False,\n",
    "                   bands=[1, 2, 3, 4, 5, 6, 7, 8, 9, 10, 11, 12, 13, 14, 15, 16, 17]):\n",
    "    \n",
    "    granule_list = glob(f'{granule_dir}/*.tif')\n",
    "    \n",
    "    granule_id_list = []\n",
    "    \n",
    "    window_id_list = []\n",
    "    \n",
    "    window_geom_list = []\n",
    "    \n",
    "    for granule_path in granule_list[0:1]:\n",
    "        \n",
    "        granule_id = granule_path.split(\"/\")[-1].split(\"_\")[0]\n",
    "        \n",
    "#         print(granule_id)\n",
    "\n",
    "        raster = rio.open(granule_path)\n",
    "    \n",
    "        with rasterio.open(granule_path) as src:\n",
    "            \n",
    "            print(src.meta)\n",
    "            \n",
    "            no_data_window = get_data_window(src.read(bands, masked=True))\n",
    "#             \n",
    "            return no_data_window\n",
    "        \n",
    "        \n",
    "\n",
    "    #         affine = raster.transform\n",
    "\n",
    "    #         print(affine)\n",
    "\n",
    "            windows = get_windows(src.shape, (patch_size, patch_size), (stride, stride))\n",
    "\n",
    "            for i, window in enumerate(windows):\n",
    "\n",
    "                granule_id_list.append(granule_id)\n",
    "\n",
    "                window_id_list.append(i+1)\n",
    "\n",
    "                #need to understand impact of \"masked\" argument for inference\n",
    "\n",
    "                data = src.read((bands),window=window, masked=True)\n",
    "\n",
    "                data = add_ndvi(data)\n",
    "\n",
    "    #             print(granule_path, j, data)\n",
    "\n",
    "    #             print(j, window, data.shape)\n",
    "\n",
    "            #     if np.any(data.mask):\n",
    "                    # THE PATCH CONTAINS NODATA PIXELS, HANDLE AS NEEDED\n",
    "\n",
    "            #     data = DO_PREPROCESSING(data.data)\n",
    "            #     result = DO_INFERENCE(data)\n",
    "\n",
    "                window_transform = rio.windows.transform(window, src.transform)\n",
    "    #             print(window_transform)\n",
    "    #             window_transform_2 = raster.window_transform(window)\n",
    "    #             print(window_transform_2)\n",
    "                window_bounds = rio.windows.bounds(window, window_transform, height=patch_size, width=patch_size)\n",
    "                geom = box(*window_bounds)\n",
    "                window_geom_list.append(geom)\n",
    "\n",
    "\n",
    "    #             if gdf:\n",
    "\n",
    "    #                 gdf.loc[j] = [j, [geom] , None]\n",
    "\n",
    "    #             else:\n",
    "\n",
    "    #                 gdf = gpd.GeoDataFrame({\"id\":1,\"geometry\":[geom],\"labels\":None})\n",
    "\n",
    "\n",
    "            gdf = gpd.GeoDataFrame({\"granule_id\":granule_id_list,\"window_id\":window_id_list,\"geometry\":window_geom_list,\"labels\":None})\n",
    "\n",
    "            return gdf\n",
    "\n",
    "\n",
    "    #             if SAVE:\n",
    "\n",
    "    #                 if SAVE_INDIVIDUAL:\n",
    "    #                     meta = raster.meta.copy()\n",
    "    #                     # Get the window specific transform - IF we want to save windows independantly\n",
    "    #             #         trans = raster.window_transform(window)\n",
    "    #                     meta.update({\n",
    "    #             #                 'transform': trans,\n",
    "    #                             'dtype': src.dtype\n",
    "    #                         })\n",
    "\n",
    "    #                     with rasterio.open(f\"{out_path}/some_chip_{j}.tif\", 'w', **meta) as dest:\n",
    "    #                         dest.write(data)\n",
    "    #                 else:\n",
    "    #                     meta = raster.meta.copy()\n",
    "\n",
    "    #                     with rasterio.open(f\"{out_path}/some_chip_{j}.tif\", 'w+', **meta) as dest:\n",
    "    #                         dest.write(data, window=window)"
   ]
  },
  {
   "cell_type": "code",
   "execution_count": 144,
   "metadata": {},
   "outputs": [
    {
     "name": "stdout",
     "output_type": "stream",
     "text": [
      "{'driver': 'GTiff', 'dtype': 'uint16', 'nodata': None, 'width': 3341, 'height': 3341, 'count': 17, 'crs': CRS.from_epsg(4326), 'transform': Affine(8.983152841195215e-05, 0.0, 17.189262961627044,\n",
      "       0.0, -8.983152841195215e-05, 0.49048014512925875)}\n"
     ]
    },
    {
     "ename": "AxisError",
     "evalue": "axis 0 is out of bounds for array of dimension 0",
     "output_type": "error",
     "traceback": [
      "\u001b[0;31m---------------------------------------------------------------------------\u001b[0m",
      "\u001b[0;31mAxisError\u001b[0m                                 Traceback (most recent call last)",
      "\u001b[0;32m<ipython-input-144-56d9d4ce83a5>\u001b[0m in \u001b[0;36m<module>\u001b[0;34m\u001b[0m\n\u001b[1;32m      2\u001b[0m \u001b[0mout_path\u001b[0m \u001b[0;34m=\u001b[0m \u001b[0;34m\"./windows/\"\u001b[0m\u001b[0;34m\u001b[0m\u001b[0;34m\u001b[0m\u001b[0m\n\u001b[1;32m      3\u001b[0m \u001b[0;34m\u001b[0m\u001b[0m\n\u001b[0;32m----> 4\u001b[0;31m \u001b[0mwindow\u001b[0m \u001b[0;34m=\u001b[0m \u001b[0moutput_windows\u001b[0m\u001b[0;34m(\u001b[0m\u001b[0mgranule_dir\u001b[0m\u001b[0;34m,\u001b[0m\u001b[0mout_path\u001b[0m\u001b[0;34m)\u001b[0m\u001b[0;34m\u001b[0m\u001b[0;34m\u001b[0m\u001b[0m\n\u001b[0m",
      "\u001b[0;32m<ipython-input-143-7b4ae5f68b4d>\u001b[0m in \u001b[0;36moutput_windows\u001b[0;34m(granule_dir, out_path, patch_size, stride, SAVE, SAVE_INDIVIDUAL, bands)\u001b[0m\n\u001b[1;32m     23\u001b[0m             \u001b[0mprint\u001b[0m\u001b[0;34m(\u001b[0m\u001b[0msrc\u001b[0m\u001b[0;34m.\u001b[0m\u001b[0mmeta\u001b[0m\u001b[0;34m)\u001b[0m\u001b[0;34m\u001b[0m\u001b[0;34m\u001b[0m\u001b[0m\n\u001b[1;32m     24\u001b[0m \u001b[0;34m\u001b[0m\u001b[0m\n\u001b[0;32m---> 25\u001b[0;31m             \u001b[0mno_data_window\u001b[0m \u001b[0;34m=\u001b[0m \u001b[0mget_data_window\u001b[0m\u001b[0;34m(\u001b[0m\u001b[0msrc\u001b[0m\u001b[0;34m.\u001b[0m\u001b[0mread\u001b[0m\u001b[0;34m(\u001b[0m\u001b[0mbands\u001b[0m\u001b[0;34m,\u001b[0m \u001b[0mmasked\u001b[0m\u001b[0;34m=\u001b[0m\u001b[0;32mTrue\u001b[0m\u001b[0;34m)\u001b[0m\u001b[0;34m)\u001b[0m\u001b[0;34m\u001b[0m\u001b[0;34m\u001b[0m\u001b[0m\n\u001b[0m\u001b[1;32m     26\u001b[0m \u001b[0;31m#\u001b[0m\u001b[0;34m\u001b[0m\u001b[0;34m\u001b[0m\u001b[0;34m\u001b[0m\u001b[0m\n\u001b[1;32m     27\u001b[0m             \u001b[0;32mreturn\u001b[0m \u001b[0mno_data_window\u001b[0m\u001b[0;34m\u001b[0m\u001b[0;34m\u001b[0m\u001b[0m\n",
      "\u001b[0;32m~/anaconda3/envs/tensorflow2_p36/lib/python3.6/site-packages/rasterio/windows.py\u001b[0m in \u001b[0;36mget_data_window\u001b[0;34m(arr, nodata)\u001b[0m\n\u001b[1;32m    158\u001b[0m     \u001b[0;32melse\u001b[0m\u001b[0;34m:\u001b[0m\u001b[0;34m\u001b[0m\u001b[0;34m\u001b[0m\u001b[0m\n\u001b[1;32m    159\u001b[0m         data_rows, data_cols = np.where(\n\u001b[0;32m--> 160\u001b[0;31m             np.any(np.equal(np.rollaxis(arr.mask, 0, 3), False), axis=2))\n\u001b[0m\u001b[1;32m    161\u001b[0m \u001b[0;34m\u001b[0m\u001b[0m\n\u001b[1;32m    162\u001b[0m     \u001b[0;32mif\u001b[0m \u001b[0mdata_rows\u001b[0m\u001b[0;34m.\u001b[0m\u001b[0msize\u001b[0m\u001b[0;34m:\u001b[0m\u001b[0;34m\u001b[0m\u001b[0;34m\u001b[0m\u001b[0m\n",
      "\u001b[0;32m<__array_function__ internals>\u001b[0m in \u001b[0;36mrollaxis\u001b[0;34m(*args, **kwargs)\u001b[0m\n",
      "\u001b[0;32m~/anaconda3/envs/tensorflow2_p36/lib/python3.6/site-packages/numpy/core/numeric.py\u001b[0m in \u001b[0;36mrollaxis\u001b[0;34m(a, axis, start)\u001b[0m\n\u001b[1;32m   1289\u001b[0m     \"\"\"\n\u001b[1;32m   1290\u001b[0m     \u001b[0mn\u001b[0m \u001b[0;34m=\u001b[0m \u001b[0ma\u001b[0m\u001b[0;34m.\u001b[0m\u001b[0mndim\u001b[0m\u001b[0;34m\u001b[0m\u001b[0;34m\u001b[0m\u001b[0m\n\u001b[0;32m-> 1291\u001b[0;31m     \u001b[0maxis\u001b[0m \u001b[0;34m=\u001b[0m \u001b[0mnormalize_axis_index\u001b[0m\u001b[0;34m(\u001b[0m\u001b[0maxis\u001b[0m\u001b[0;34m,\u001b[0m \u001b[0mn\u001b[0m\u001b[0;34m)\u001b[0m\u001b[0;34m\u001b[0m\u001b[0;34m\u001b[0m\u001b[0m\n\u001b[0m\u001b[1;32m   1292\u001b[0m     \u001b[0;32mif\u001b[0m \u001b[0mstart\u001b[0m \u001b[0;34m<\u001b[0m \u001b[0;36m0\u001b[0m\u001b[0;34m:\u001b[0m\u001b[0;34m\u001b[0m\u001b[0;34m\u001b[0m\u001b[0m\n\u001b[1;32m   1293\u001b[0m         \u001b[0mstart\u001b[0m \u001b[0;34m+=\u001b[0m \u001b[0mn\u001b[0m\u001b[0;34m\u001b[0m\u001b[0;34m\u001b[0m\u001b[0m\n",
      "\u001b[0;31mAxisError\u001b[0m: axis 0 is out of bounds for array of dimension 0"
     ]
    }
   ],
   "source": [
    "granule_dir = \"./efs_inference_data/\"\n",
    "out_path = \"./windows/\"\n",
    "\n",
    "window = output_windows(granule_dir,out_path)"
   ]
  },
  {
   "cell_type": "code",
   "execution_count": 126,
   "metadata": {},
   "outputs": [
    {
     "data": {
      "text/plain": [
       "<AxesSubplot:>"
      ]
     },
     "execution_count": 126,
     "metadata": {},
     "output_type": "execute_result"
    },
    {
     "data": {
      "image/png": "[encoded data removed]",
      "text/plain": [
       "<Figure size 432x288 with 1 Axes>"
      ]
     },
     "metadata": {
      "needs_background": "light"
     },
     "output_type": "display_data"
    }
   ],
   "source": [
    "gdf.set_crs(epsg=3257, inplace=True).plot()"
   ]
  },
  {
   "cell_type": "code",
   "execution_count": 81,
   "metadata": {},
   "outputs": [],
   "source": [
    "# gdf.to_file(\"./inference_output/boundary.geojson\", driver=\"GeoJSON\")"
   ]
  },
  {
   "cell_type": "code",
   "execution_count": 138,
   "metadata": {},
   "outputs": [
    {
     "data": {
      "text/plain": [
       "Window(col_off=0, row_off=0, width=3341, height=3341)"
      ]
     },
     "execution_count": 138,
     "metadata": {},
     "output_type": "execute_result"
    }
   ],
   "source": [
    "window"
   ]
  },
  {
   "cell_type": "code",
   "execution_count": 128,
   "metadata": {},
   "outputs": [
    {
     "name": "stdout",
     "output_type": "stream",
     "text": [
      "Help on function get_data_window in module rasterio.windows:\n",
      "\n",
      "get_data_window(arr, nodata=None)\n",
      "    Window covering the input array's valid data pixels.\n",
      "    \n",
      "    Parameters\n",
      "    ----------\n",
      "    arr: numpy ndarray, <= 3 dimensions\n",
      "    nodata: number\n",
      "        If None, will either return a full window if arr is not a masked\n",
      "        array, or will use the mask to determine non-nodata pixels.\n",
      "        If provided, it must be a number within the valid range of the\n",
      "        dtype of the input array.\n",
      "    \n",
      "    Returns\n",
      "    -------\n",
      "    Window\n",
      "\n"
     ]
    }
   ],
   "source": [
    "help(get_data_window)"
   ]
  },
  {
   "cell_type": "code",
   "execution_count": null,
   "metadata": {},
   "outputs": [],
   "source": []
  }
 ],
 "metadata": {
  "kernelspec": {
   "display_name": "conda_tensorflow2_p36",
   "language": "python",
   "name": "conda_tensorflow2_p36"
  },
  "language_info": {
   "codemirror_mode": {
    "name": "ipython",
    "version": 3
   },
   "file_extension": ".py",
   "mimetype": "text/x-python",
   "name": "python",
   "nbconvert_exporter": "python",
   "pygments_lexer": "ipython3",
   "version": "3.6.13"
  }
 },
 "nbformat": 4,
 "nbformat_minor": 4
}
