{
 "cells": [
  {
   "cell_type": "code",
   "execution_count": 78,
   "metadata": {},
   "outputs": [],
   "source": [
    "import os\n",
    "import rasterio as rio\n",
    "import numpy as np\n",
    "from rasterio.windows import Window\n",
    "from glob import glob"
   ]
  },
  {
   "cell_type": "markdown",
   "metadata": {},
   "source": [
    "# Mount Inference Data"
   ]
  },
  {
   "cell_type": "code",
   "execution_count": 37,
   "metadata": {},
   "outputs": [],
   "source": [
    "# !sudo mount -t nfs4 -o nfsvers=4.1,rsize=1048576,wsize=1048576,hard,timeo=600,retrans=2,noresvport 172.31.91.151:/ ./efs_inference_data"
   ]
  },
  {
   "cell_type": "markdown",
   "metadata": {},
   "source": [
    "# Windowing"
   ]
  },
  {
   "cell_type": "code",
   "execution_count": 38,
   "metadata": {},
   "outputs": [],
   "source": [
    "def get_windows(img_dim, patch_size=(240, 240), stride=(240, 240)):\n",
    "    patch_size = np.array(patch_size)\n",
    "    stride = np.array(stride)\n",
    "    img_dim = np.array(img_dim)\n",
    "    \n",
    "    max_dim = (img_dim//patch_size)*patch_size - patch_size\n",
    "\n",
    "    ys = np.arange(0, img_dim[0], stride[0])\n",
    "    xs = np.arange(0, img_dim[1], stride[1])\n",
    "\n",
    "    tlc = np.array(np.meshgrid(ys, xs)).T.reshape(-1, 2)\n",
    "    tlc = tlc[tlc[:, 0] <= max_dim[0]]\n",
    "    tlc = tlc[tlc[:, 1] <= max_dim[1]]\n",
    "    \n",
    "    windows = []\n",
    "    for y,x in tlc.astype(int):\n",
    "        windows.append(Window(x, y, patch_size[1], patch_size[0]))\n",
    "\n",
    "    return windows"
   ]
  },
  {
   "cell_type": "code",
   "execution_count": 82,
   "metadata": {},
   "outputs": [],
   "source": [
    "def add_ndvi(data, dtype_1=rio.float32):\n",
    "    \n",
    "    nir = data[7].astype(dtype_1)\n",
    "    red = data[3].astype(dtype_1)\n",
    "\n",
    "    # Allow division by zero\n",
    "    np.seterr(divide='ignore', invalid='ignore')\n",
    "\n",
    "    # Calculate NDVI\n",
    "    ndvi = np.zeros(nir.shape, dtype=dtype_1)\n",
    "    ndvi = ((nir - red) / (nir + red)).astype(dtype_1)\n",
    "\n",
    "    # Rescaling for use in 16bit output\n",
    "\n",
    "    ndvi = (ndvi + 1) * (2**15 - 1)\n",
    "\n",
    "    # Add NDVI band to end of array    \n",
    "    rast = np.concatenate((data,[ndvi]),axis=0)\n",
    "    \n",
    "    return rast\n"
   ]
  },
  {
   "cell_type": "code",
   "execution_count": 83,
   "metadata": {},
   "outputs": [],
   "source": [
    "def output_windows(granule_dir,out_path,patch_size=100,\n",
    "                   stride=100,SAVE=False,SAVE_INDIVIDUAL=False,\n",
    "                   bands=[1, 2, 3, 4, 5, 6, 7, 8, 9, 10, 11, 12, 13, 14, 15, 16, 17]):\n",
    "    \n",
    "    granule_list = glob(f'{granule_dir}/*.tif')\n",
    "    \n",
    "    for granule_path in granule_list[0:1]:\n",
    "\n",
    "        raster = rio.open(granule_path)\n",
    "\n",
    "        windows = get_windows(raster.shape, (patch_size, patch_size), (stride, stride))\n",
    "\n",
    "        for j, window in enumerate(windows):\n",
    "\n",
    "            data = raster.read((bands),window=window, masked=True)\n",
    "            \n",
    "            data = add_ndvi(data)\n",
    "            \n",
    "            return data\n",
    "            \n",
    "\n",
    "#             print(granule_path, j, data)\n",
    "\n",
    "#             print(j, window, data.shape)\n",
    "\n",
    "        #     if np.any(data.mask):\n",
    "                # THE PATCH CONTAINS NODATA PIXELS, HANDLE AS NEEDED\n",
    "\n",
    "        #     data = DO_PREPROCESSING(data.data)\n",
    "        #     result = DO_INFERENCE(data)\n",
    "\n",
    "#             if SAVE:\n",
    "\n",
    "#                 if SAVE_INDIVIDUAL:\n",
    "#                     meta = raster.meta.copy()\n",
    "#                     # Get the window specific transform - IF we want to save windows independantly\n",
    "#             #         trans = raster.window_transform(window)\n",
    "#                     meta.update({\n",
    "#             #                 'transform': trans,\n",
    "#                             'dtype': src.dtype\n",
    "#                         })\n",
    "\n",
    "#                     with rasterio.open(f\"{out_path}/some_chip_{j}.tif\", 'w', **meta) as dest:\n",
    "#                         dest.write(data)\n",
    "#                 else:\n",
    "#                     meta = raster.meta.copy()\n",
    "\n",
    "#                     with rasterio.open(f\"{out_path}/some_chip_{j}.tif\", 'w+', **meta) as dest:\n",
    "#                         dest.write(data, window=window)"
   ]
  },
  {
   "cell_type": "code",
   "execution_count": 84,
   "metadata": {},
   "outputs": [],
   "source": [
    "granule_dir = \"./efs_inference_data/\"\n",
    "out_path = \"./windows/\"\n",
    "\n",
    "data = output_windows(granule_dir,out_path)"
   ]
  },
  {
   "cell_type": "code",
   "execution_count": null,
   "metadata": {},
   "outputs": [],
   "source": []
  }
 ],
 "metadata": {
  "kernelspec": {
   "display_name": "conda_tensorflow2_p36",
   "language": "python",
   "name": "conda_tensorflow2_p36"
  },
  "language_info": {
   "codemirror_mode": {
    "name": "ipython",
    "version": 3
   },
   "file_extension": ".py",
   "mimetype": "text/x-python",
   "name": "python",
   "nbconvert_exporter": "python",
   "pygments_lexer": "ipython3",
   "version": "3.6.13"
  }
 },
 "nbformat": 4,
 "nbformat_minor": 4
}
