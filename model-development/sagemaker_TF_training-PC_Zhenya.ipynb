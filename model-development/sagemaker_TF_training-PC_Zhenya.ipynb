{
 "cells": [
  {
   "cell_type": "markdown",
   "metadata": {},
   "source": [
    "# Deep Learning with Tensorflow on Amazon SageMaker and S3\n",
    "\n"
   ]
  },
  {
   "cell_type": "markdown",
   "metadata": {},
   "source": [
    "## Imports"
   ]
  },
  {
   "cell_type": "code",
   "execution_count": 7,
   "metadata": {},
   "outputs": [
    {
     "name": "stdout",
     "output_type": "stream",
     "text": [
      "2.31.1\n"
     ]
    }
   ],
   "source": [
    "import sagemaker\n",
    "\n",
    "print(sagemaker.__version__)\n",
    "sess = sagemaker.Session()\n",
    "# role = sagemaker.get_execution_role()\n",
    "import os\n",
    "from tensorflow import keras\n",
    "import tensorflow as tf\n",
    "import numpy as np\n",
    "from sagemaker.inputs import FileSystemInput"
   ]
  },
  {
   "cell_type": "code",
   "execution_count": 8,
   "metadata": {},
   "outputs": [
    {
     "data": {
      "text/plain": [
       "'2.4.1'"
      ]
     },
     "execution_count": 8,
     "metadata": {},
     "output_type": "execute_result"
    }
   ],
   "source": [
    "tf.__version__"
   ]
  },
  {
   "cell_type": "code",
   "execution_count": 3,
   "metadata": {},
   "outputs": [
    {
     "name": "stdout",
     "output_type": "stream",
     "text": [
      "AWS Access Key ID [****************NHZI]: ^C\n",
      "\n"
     ]
    }
   ],
   "source": [
    "!aws configure"
   ]
  },
  {
   "cell_type": "markdown",
   "metadata": {},
   "source": [
    "## Train on the notebook on local machine"
   ]
  },
  {
   "cell_type": "code",
   "execution_count": 6,
   "metadata": {},
   "outputs": [],
   "source": [
    "from sagemaker.tensorflow import TensorFlow\n",
    "\n",
    "# put these files in the respective training folder\n",
    "training_file = \"labels_test_v1_m.csv\"\n",
    "validation_file = \"val_labels_m.csv\"\n",
    "\n",
    "tf_estimator = TensorFlow(entry_point='train_no_s3.py', \n",
    "                          role=\"arn:aws:iam::963659202518:role/service-role/AmazonSageMaker-ExecutionRole-20210306T191865\",\n",
    "                          instance_count=1, \n",
    "                          instance_type='local',\n",
    "                          framework_version='2.4.1', \n",
    "                          base_job_name='pc-tf-custom-container-test-job',\n",
    "                          output_path='s3://canopy-production-ml-output',\n",
    "                          py_version='py37',\n",
    "                          script_mode=True,\n",
    "                          hyperparameters={'training_file':training_file, \n",
    "                                           'validation_file': validation_file,\n",
    "#                                            'bucket':\"margaux-bucket-us-east-1\",\n",
    "                                           'epochs': 2, 'augment': True, 'batch-size': 100,\n",
    "                                           'learning-rate': 0.01, 'numclasses': 10,\n",
    "                                           'wandb_key': \"abfa0dec9fc06fbfa6392496f40a22a8d47e58cf\",\n",
    "                                           's3_chkpt_dir':\"ckpt\",\n",
    "                                           'bands': \"2 3 4 8 12\",\n",
    "                                           'starting_checkpoint':\"ckpt/pc-tf-custom-container-test-job-RGBNIRN-2021-03-15-22-45-06-142/model_resnet_epoch_7.h5\"}\n",
    "                         )\n",
    "                                            "
   ]
  },
  {
   "cell_type": "markdown",
   "metadata": {},
   "source": [
    "Training"
   ]
  },
  {
   "cell_type": "code",
   "execution_count": 5,
   "metadata": {},
   "outputs": [
    {
     "name": "stdout",
     "output_type": "stream",
     "text": [
      "Creating network \"sagemaker-local\" with the default driver\n",
      "Creating g0zhkp446s-algo-1-duwzu ... \n",
      "\u001b[1BAttaching to g0zhkp446s-algo-1-duwzu2mdone\u001b[0m\n",
      "\u001b[36mg0zhkp446s-algo-1-duwzu |\u001b[0m 2021-03-24 02:40:31.880169: W tensorflow/core/profiler/internal/smprofiler_timeline.cc:460] Initializing the SageMaker Profiler.\n",
      "\u001b[36mg0zhkp446s-algo-1-duwzu |\u001b[0m 2021-03-24 02:40:31.882746: W tensorflow/core/profiler/internal/smprofiler_timeline.cc:105] SageMaker Profiler is not enabled. The timeline writer thread will not be started, future recorded events will be dropped.\n",
      "\u001b[36mg0zhkp446s-algo-1-duwzu |\u001b[0m 2021-03-24 02:40:31.928211: W tensorflow/core/profiler/internal/smprofiler_timeline.cc:460] Initializing the SageMaker Profiler.\n",
      "\u001b[36mg0zhkp446s-algo-1-duwzu |\u001b[0m 2021-03-24 02:40:34,195 sagemaker-training-toolkit INFO     Imported framework sagemaker_tensorflow_container.training\n",
      "\u001b[36mg0zhkp446s-algo-1-duwzu |\u001b[0m 2021-03-24 02:40:34,207 sagemaker-training-toolkit INFO     No GPUs detected (normal if no gpus installed)\n",
      "\u001b[36mg0zhkp446s-algo-1-duwzu |\u001b[0m 2021-03-24 02:40:34,244 botocore.credentials INFO     Found credentials in environment variables.\n",
      "\u001b[36mg0zhkp446s-algo-1-duwzu |\u001b[0m 2021-03-24 02:40:34,649 sagemaker-training-toolkit INFO     No GPUs detected (normal if no gpus installed)\n",
      "\u001b[36mg0zhkp446s-algo-1-duwzu |\u001b[0m 2021-03-24 02:40:34,675 sagemaker-training-toolkit INFO     No GPUs detected (normal if no gpus installed)\n",
      "\u001b[36mg0zhkp446s-algo-1-duwzu |\u001b[0m 2021-03-24 02:40:34,702 sagemaker-training-toolkit INFO     No GPUs detected (normal if no gpus installed)\n",
      "\u001b[36mg0zhkp446s-algo-1-duwzu |\u001b[0m 2021-03-24 02:40:34,718 sagemaker-training-toolkit INFO     Invoking user script\n",
      "\u001b[36mg0zhkp446s-algo-1-duwzu |\u001b[0m \n",
      "\u001b[36mg0zhkp446s-algo-1-duwzu |\u001b[0m Training Env:\n",
      "\u001b[36mg0zhkp446s-algo-1-duwzu |\u001b[0m \n",
      "\u001b[36mg0zhkp446s-algo-1-duwzu |\u001b[0m {\n",
      "\u001b[36mg0zhkp446s-algo-1-duwzu |\u001b[0m     \"additional_framework_parameters\": {},\n",
      "\u001b[36mg0zhkp446s-algo-1-duwzu |\u001b[0m     \"channel_input_dirs\": {\n",
      "\u001b[36mg0zhkp446s-algo-1-duwzu |\u001b[0m         \"training\": \"/opt/ml/input/data/training\"\n",
      "\u001b[36mg0zhkp446s-algo-1-duwzu |\u001b[0m     },\n",
      "\u001b[36mg0zhkp446s-algo-1-duwzu |\u001b[0m     \"current_host\": \"algo-1-duwzu\",\n",
      "\u001b[36mg0zhkp446s-algo-1-duwzu |\u001b[0m     \"framework_module\": \"sagemaker_tensorflow_container.training:main\",\n",
      "\u001b[36mg0zhkp446s-algo-1-duwzu |\u001b[0m     \"hosts\": [\n",
      "\u001b[36mg0zhkp446s-algo-1-duwzu |\u001b[0m         \"algo-1-duwzu\"\n",
      "\u001b[36mg0zhkp446s-algo-1-duwzu |\u001b[0m     ],\n",
      "\u001b[36mg0zhkp446s-algo-1-duwzu |\u001b[0m     \"hyperparameters\": {\n",
      "\u001b[36mg0zhkp446s-algo-1-duwzu |\u001b[0m         \"training_file\": \"labels_test_v1_m.csv\",\n",
      "\u001b[36mg0zhkp446s-algo-1-duwzu |\u001b[0m         \"validation_file\": \"val_labels_m.csv\",\n",
      "\u001b[36mg0zhkp446s-algo-1-duwzu |\u001b[0m         \"epochs\": 2,\n",
      "\u001b[36mg0zhkp446s-algo-1-duwzu |\u001b[0m         \"augment\": true,\n",
      "\u001b[36mg0zhkp446s-algo-1-duwzu |\u001b[0m         \"batch-size\": 100,\n",
      "\u001b[36mg0zhkp446s-algo-1-duwzu |\u001b[0m         \"learning-rate\": 0.01,\n",
      "\u001b[36mg0zhkp446s-algo-1-duwzu |\u001b[0m         \"numclasses\": 10,\n",
      "\u001b[36mg0zhkp446s-algo-1-duwzu |\u001b[0m         \"wandb_key\": \"6607ed7a49b452c2f3494ce60f9514f6c9e3b4e6\",\n",
      "\u001b[36mg0zhkp446s-algo-1-duwzu |\u001b[0m         \"s3_chkpt_dir\": \"ckpt\",\n",
      "\u001b[36mg0zhkp446s-algo-1-duwzu |\u001b[0m         \"bands\": \"2 3 4 8 12\",\n",
      "\u001b[36mg0zhkp446s-algo-1-duwzu |\u001b[0m         \"starting_checkpoint\": \"ckpt/pc-tf-custom-container-test-job-RGBNIRN-2021-03-15-22-45-06-142/model_resnet_epoch_7.h5\",\n",
      "\u001b[36mg0zhkp446s-algo-1-duwzu |\u001b[0m         \"model_dir\": \"s3://canopy-production-ml-output/pc-tf-custom-container-test-job-2021-03-24-02-35-34-108/model\"\n",
      "\u001b[36mg0zhkp446s-algo-1-duwzu |\u001b[0m     },\n",
      "\u001b[36mg0zhkp446s-algo-1-duwzu |\u001b[0m     \"input_config_dir\": \"/opt/ml/input/config\",\n",
      "\u001b[36mg0zhkp446s-algo-1-duwzu |\u001b[0m     \"input_data_config\": {\n",
      "\u001b[36mg0zhkp446s-algo-1-duwzu |\u001b[0m         \"training\": {\n",
      "\u001b[36mg0zhkp446s-algo-1-duwzu |\u001b[0m             \"TrainingInputMode\": \"File\"\n",
      "\u001b[36mg0zhkp446s-algo-1-duwzu |\u001b[0m         }\n",
      "\u001b[36mg0zhkp446s-algo-1-duwzu |\u001b[0m     },\n",
      "\u001b[36mg0zhkp446s-algo-1-duwzu |\u001b[0m     \"input_dir\": \"/opt/ml/input\",\n",
      "\u001b[36mg0zhkp446s-algo-1-duwzu |\u001b[0m     \"is_master\": true,\n",
      "\u001b[36mg0zhkp446s-algo-1-duwzu |\u001b[0m     \"job_name\": \"pc-tf-custom-container-test-job-2021-03-24-02-35-34-108\",\n",
      "\u001b[36mg0zhkp446s-algo-1-duwzu |\u001b[0m     \"log_level\": 20,\n",
      "\u001b[36mg0zhkp446s-algo-1-duwzu |\u001b[0m     \"master_hostname\": \"algo-1-duwzu\",\n",
      "\u001b[36mg0zhkp446s-algo-1-duwzu |\u001b[0m     \"model_dir\": \"/opt/ml/model\",\n",
      "\u001b[36mg0zhkp446s-algo-1-duwzu |\u001b[0m     \"module_dir\": \"s3://canopy-production-ml-output/pc-tf-custom-container-test-job-2021-03-24-02-35-34-108/source/sourcedir.tar.gz\",\n",
      "\u001b[36mg0zhkp446s-algo-1-duwzu |\u001b[0m     \"module_name\": \"train_no_s3\",\n",
      "\u001b[36mg0zhkp446s-algo-1-duwzu |\u001b[0m     \"network_interface_name\": \"eth0\",\n",
      "\u001b[36mg0zhkp446s-algo-1-duwzu |\u001b[0m     \"num_cpus\": 2,\n",
      "\u001b[36mg0zhkp446s-algo-1-duwzu |\u001b[0m     \"num_gpus\": 0,\n",
      "\u001b[36mg0zhkp446s-algo-1-duwzu |\u001b[0m     \"output_data_dir\": \"/opt/ml/output/data\",\n",
      "\u001b[36mg0zhkp446s-algo-1-duwzu |\u001b[0m     \"output_dir\": \"/opt/ml/output\",\n",
      "\u001b[36mg0zhkp446s-algo-1-duwzu |\u001b[0m     \"output_intermediate_dir\": \"/opt/ml/output/intermediate\",\n",
      "\u001b[36mg0zhkp446s-algo-1-duwzu |\u001b[0m     \"resource_config\": {\n",
      "\u001b[36mg0zhkp446s-algo-1-duwzu |\u001b[0m         \"current_host\": \"algo-1-duwzu\",\n",
      "\u001b[36mg0zhkp446s-algo-1-duwzu |\u001b[0m         \"hosts\": [\n",
      "\u001b[36mg0zhkp446s-algo-1-duwzu |\u001b[0m             \"algo-1-duwzu\"\n",
      "\u001b[36mg0zhkp446s-algo-1-duwzu |\u001b[0m         ]\n",
      "\u001b[36mg0zhkp446s-algo-1-duwzu |\u001b[0m     },\n",
      "\u001b[36mg0zhkp446s-algo-1-duwzu |\u001b[0m     \"user_entry_point\": \"train_no_s3.py\"\n",
      "\u001b[36mg0zhkp446s-algo-1-duwzu |\u001b[0m }\n",
      "\u001b[36mg0zhkp446s-algo-1-duwzu |\u001b[0m \n",
      "\u001b[36mg0zhkp446s-algo-1-duwzu |\u001b[0m Environment variables:\n",
      "\u001b[36mg0zhkp446s-algo-1-duwzu |\u001b[0m \n",
      "\u001b[36mg0zhkp446s-algo-1-duwzu |\u001b[0m SM_HOSTS=[\"algo-1-duwzu\"]\n",
      "\u001b[36mg0zhkp446s-algo-1-duwzu |\u001b[0m SM_NETWORK_INTERFACE_NAME=eth0\n",
      "\u001b[36mg0zhkp446s-algo-1-duwzu |\u001b[0m SM_HPS={\"augment\":true,\"bands\":\"2 3 4 8 12\",\"batch-size\":100,\"epochs\":2,\"learning-rate\":0.01,\"model_dir\":\"s3://canopy-production-ml-output/pc-tf-custom-container-test-job-2021-03-24-02-35-34-108/model\",\"numclasses\":10,\"s3_chkpt_dir\":\"ckpt\",\"starting_checkpoint\":\"ckpt/pc-tf-custom-container-test-job-RGBNIRN-2021-03-15-22-45-06-142/model_resnet_epoch_7.h5\",\"training_file\":\"labels_test_v1_m.csv\",\"validation_file\":\"val_labels_m.csv\",\"wandb_key\":\"6607ed7a49b452c2f3494ce60f9514f6c9e3b4e6\"}\n",
      "\u001b[36mg0zhkp446s-algo-1-duwzu |\u001b[0m SM_USER_ENTRY_POINT=train_no_s3.py\n",
      "\u001b[36mg0zhkp446s-algo-1-duwzu |\u001b[0m SM_FRAMEWORK_PARAMS={}\n",
      "\u001b[36mg0zhkp446s-algo-1-duwzu |\u001b[0m SM_RESOURCE_CONFIG={\"current_host\":\"algo-1-duwzu\",\"hosts\":[\"algo-1-duwzu\"]}\n",
      "\u001b[36mg0zhkp446s-algo-1-duwzu |\u001b[0m SM_INPUT_DATA_CONFIG={\"training\":{\"TrainingInputMode\":\"File\"}}\n",
      "\u001b[36mg0zhkp446s-algo-1-duwzu |\u001b[0m SM_OUTPUT_DATA_DIR=/opt/ml/output/data\n",
      "\u001b[36mg0zhkp446s-algo-1-duwzu |\u001b[0m SM_CHANNELS=[\"training\"]\n",
      "\u001b[36mg0zhkp446s-algo-1-duwzu |\u001b[0m SM_CURRENT_HOST=algo-1-duwzu\n",
      "\u001b[36mg0zhkp446s-algo-1-duwzu |\u001b[0m SM_MODULE_NAME=train_no_s3\n",
      "\u001b[36mg0zhkp446s-algo-1-duwzu |\u001b[0m SM_LOG_LEVEL=20\n",
      "\u001b[36mg0zhkp446s-algo-1-duwzu |\u001b[0m SM_FRAMEWORK_MODULE=sagemaker_tensorflow_container.training:main\n",
      "\u001b[36mg0zhkp446s-algo-1-duwzu |\u001b[0m SM_INPUT_DIR=/opt/ml/input\n",
      "\u001b[36mg0zhkp446s-algo-1-duwzu |\u001b[0m SM_INPUT_CONFIG_DIR=/opt/ml/input/config\n",
      "\u001b[36mg0zhkp446s-algo-1-duwzu |\u001b[0m SM_OUTPUT_DIR=/opt/ml/output\n",
      "\u001b[36mg0zhkp446s-algo-1-duwzu |\u001b[0m SM_NUM_CPUS=2\n",
      "\u001b[36mg0zhkp446s-algo-1-duwzu |\u001b[0m SM_NUM_GPUS=0\n",
      "\u001b[36mg0zhkp446s-algo-1-duwzu |\u001b[0m SM_MODEL_DIR=/opt/ml/model\n",
      "\u001b[36mg0zhkp446s-algo-1-duwzu |\u001b[0m SM_MODULE_DIR=s3://canopy-production-ml-output/pc-tf-custom-container-test-job-2021-03-24-02-35-34-108/source/sourcedir.tar.gz\n",
      "\u001b[36mg0zhkp446s-algo-1-duwzu |\u001b[0m SM_TRAINING_ENV={\"additional_framework_parameters\":{},\"channel_input_dirs\":{\"training\":\"/opt/ml/input/data/training\"},\"current_host\":\"algo-1-duwzu\",\"framework_module\":\"sagemaker_tensorflow_container.training:main\",\"hosts\":[\"algo-1-duwzu\"],\"hyperparameters\":{\"augment\":true,\"bands\":\"2 3 4 8 12\",\"batch-size\":100,\"epochs\":2,\"learning-rate\":0.01,\"model_dir\":\"s3://canopy-production-ml-output/pc-tf-custom-container-test-job-2021-03-24-02-35-34-108/model\",\"numclasses\":10,\"s3_chkpt_dir\":\"ckpt\",\"starting_checkpoint\":\"ckpt/pc-tf-custom-container-test-job-RGBNIRN-2021-03-15-22-45-06-142/model_resnet_epoch_7.h5\",\"training_file\":\"labels_test_v1_m.csv\",\"validation_file\":\"val_labels_m.csv\",\"wandb_key\":\"6607ed7a49b452c2f3494ce60f9514f6c9e3b4e6\"},\"input_config_dir\":\"/opt/ml/input/config\",\"input_data_config\":{\"training\":{\"TrainingInputMode\":\"File\"}},\"input_dir\":\"/opt/ml/input\",\"is_master\":true,\"job_name\":\"pc-tf-custom-container-test-job-2021-03-24-02-35-34-108\",\"log_level\":20,\"master_hostname\":\"algo-1-duwzu\",\"model_dir\":\"/opt/ml/model\",\"module_dir\":\"s3://canopy-production-ml-output/pc-tf-custom-container-test-job-2021-03-24-02-35-34-108/source/sourcedir.tar.gz\",\"module_name\":\"train_no_s3\",\"network_interface_name\":\"eth0\",\"num_cpus\":2,\"num_gpus\":0,\"output_data_dir\":\"/opt/ml/output/data\",\"output_dir\":\"/opt/ml/output\",\"output_intermediate_dir\":\"/opt/ml/output/intermediate\",\"resource_config\":{\"current_host\":\"algo-1-duwzu\",\"hosts\":[\"algo-1-duwzu\"]},\"user_entry_point\":\"train_no_s3.py\"}\n",
      "\u001b[36mg0zhkp446s-algo-1-duwzu |\u001b[0m SM_USER_ARGS=[\"--augment\",\"True\",\"--bands\",\"2 3 4 8 12\",\"--batch-size\",\"100\",\"--epochs\",\"2\",\"--learning-rate\",\"0.01\",\"--model_dir\",\"s3://canopy-production-ml-output/pc-tf-custom-container-test-job-2021-03-24-02-35-34-108/model\",\"--numclasses\",\"10\",\"--s3_chkpt_dir\",\"ckpt\",\"--starting_checkpoint\",\"ckpt/pc-tf-custom-container-test-job-RGBNIRN-2021-03-15-22-45-06-142/model_resnet_epoch_7.h5\",\"--training_file\",\"labels_test_v1_m.csv\",\"--validation_file\",\"val_labels_m.csv\",\"--wandb_key\",\"6607ed7a49b452c2f3494ce60f9514f6c9e3b4e6\"]\n",
      "\u001b[36mg0zhkp446s-algo-1-duwzu |\u001b[0m SM_OUTPUT_INTERMEDIATE_DIR=/opt/ml/output/intermediate\n",
      "\u001b[36mg0zhkp446s-algo-1-duwzu |\u001b[0m SM_CHANNEL_TRAINING=/opt/ml/input/data/training\n",
      "\u001b[36mg0zhkp446s-algo-1-duwzu |\u001b[0m SM_HP_TRAINING_FILE=labels_test_v1_m.csv\n",
      "\u001b[36mg0zhkp446s-algo-1-duwzu |\u001b[0m SM_HP_VALIDATION_FILE=val_labels_m.csv\n",
      "\u001b[36mg0zhkp446s-algo-1-duwzu |\u001b[0m SM_HP_EPOCHS=2\n",
      "\u001b[36mg0zhkp446s-algo-1-duwzu |\u001b[0m SM_HP_AUGMENT=true\n",
      "\u001b[36mg0zhkp446s-algo-1-duwzu |\u001b[0m SM_HP_BATCH-SIZE=100\n",
      "\u001b[36mg0zhkp446s-algo-1-duwzu |\u001b[0m SM_HP_LEARNING-RATE=0.01\n",
      "\u001b[36mg0zhkp446s-algo-1-duwzu |\u001b[0m SM_HP_NUMCLASSES=10\n",
      "\u001b[36mg0zhkp446s-algo-1-duwzu |\u001b[0m SM_HP_WANDB_KEY=6607ed7a49b452c2f3494ce60f9514f6c9e3b4e6\n",
      "\u001b[36mg0zhkp446s-algo-1-duwzu |\u001b[0m SM_HP_S3_CHKPT_DIR=ckpt\n",
      "\u001b[36mg0zhkp446s-algo-1-duwzu |\u001b[0m SM_HP_BANDS=2 3 4 8 12\n",
      "\u001b[36mg0zhkp446s-algo-1-duwzu |\u001b[0m SM_HP_STARTING_CHECKPOINT=ckpt/pc-tf-custom-container-test-job-RGBNIRN-2021-03-15-22-45-06-142/model_resnet_epoch_7.h5\n",
      "\u001b[36mg0zhkp446s-algo-1-duwzu |\u001b[0m SM_HP_MODEL_DIR=s3://canopy-production-ml-output/pc-tf-custom-container-test-job-2021-03-24-02-35-34-108/model\n",
      "\u001b[36mg0zhkp446s-algo-1-duwzu |\u001b[0m PYTHONPATH=/opt/ml/code:/usr/local/bin:/usr/local/lib/python37.zip:/usr/local/lib/python3.7:/usr/local/lib/python3.7/lib-dynload:/usr/local/lib/python3.7/site-packages\n",
      "\u001b[36mg0zhkp446s-algo-1-duwzu |\u001b[0m \n",
      "\u001b[36mg0zhkp446s-algo-1-duwzu |\u001b[0m Invoking script with the following command:\n",
      "\u001b[36mg0zhkp446s-algo-1-duwzu |\u001b[0m \n",
      "\u001b[36mg0zhkp446s-algo-1-duwzu |\u001b[0m /usr/local/bin/python3.7 train_no_s3.py --augment True --bands 2 3 4 8 12 --batch-size 100 --epochs 2 --learning-rate 0.01 --model_dir s3://canopy-production-ml-output/pc-tf-custom-container-test-job-2021-03-24-02-35-34-108/model --numclasses 10 --s3_chkpt_dir ckpt --starting_checkpoint ckpt/pc-tf-custom-container-test-job-RGBNIRN-2021-03-15-22-45-06-142/model_resnet_epoch_7.h5 --training_file labels_test_v1_m.csv --validation_file val_labels_m.csv --wandb_key 6607ed7a49b452c2f3494ce60f9514f6c9e3b4e6\n",
      "\u001b[36mg0zhkp446s-algo-1-duwzu |\u001b[0m \n",
      "\u001b[36mg0zhkp446s-algo-1-duwzu |\u001b[0m \n",
      "\u001b[36mg0zhkp446s-algo-1-duwzu |\u001b[0m Num GPUs Available:  0\n",
      "\u001b[36mg0zhkp446s-algo-1-duwzu |\u001b[0m TensorFlow version 2.4.1\n",
      "\u001b[36mg0zhkp446s-algo-1-duwzu |\u001b[0m Keras version 2.4.0\n",
      "\u001b[36mg0zhkp446s-algo-1-duwzu |\u001b[0m Collecting keras-metrics\n",
      "\u001b[36mg0zhkp446s-algo-1-duwzu |\u001b[0m   Downloading keras_metrics-1.1.0-py2.py3-none-any.whl (5.6 kB)\n",
      "\u001b[36mg0zhkp446s-algo-1-duwzu |\u001b[0m Collecting Keras>=2.1.5\n",
      "\u001b[36mg0zhkp446s-algo-1-duwzu |\u001b[0m   Downloading Keras-2.4.3-py2.py3-none-any.whl (36 kB)\n",
      "\u001b[36mg0zhkp446s-algo-1-duwzu |\u001b[0m Requirement already satisfied: pyyaml in /usr/local/lib/python3.7/site-packages (from Keras>=2.1.5->keras-metrics) (5.4.1)\n",
      "\u001b[36mg0zhkp446s-algo-1-duwzu |\u001b[0m Requirement already satisfied: h5py in /usr/local/lib/python3.7/site-packages (from Keras>=2.1.5->keras-metrics) (2.10.0)\n",
      "\u001b[36mg0zhkp446s-algo-1-duwzu |\u001b[0m Requirement already satisfied: numpy>=1.9.1 in /usr/local/lib/python3.7/site-packages (from Keras>=2.1.5->keras-metrics) (1.19.5)\n",
      "\u001b[36mg0zhkp446s-algo-1-duwzu |\u001b[0m Requirement already satisfied: scipy>=0.14 in /usr/local/lib/python3.7/site-packages (from Keras>=2.1.5->keras-metrics) (1.5.2)\n",
      "\u001b[36mg0zhkp446s-algo-1-duwzu |\u001b[0m Requirement already satisfied: six in /usr/local/lib/python3.7/site-packages (from h5py->Keras>=2.1.5->keras-metrics) (1.15.0)\n",
      "\u001b[36mg0zhkp446s-algo-1-duwzu |\u001b[0m Installing collected packages: Keras, keras-metrics\n",
      "\u001b[36mg0zhkp446s-algo-1-duwzu |\u001b[0m Successfully installed Keras-2.4.3 keras-metrics-1.1.0\n",
      "\u001b[36mg0zhkp446s-algo-1-duwzu |\u001b[0m Collecting tensorflow-addons\n",
      "\u001b[36mg0zhkp446s-algo-1-duwzu |\u001b[0m   Downloading tensorflow_addons-0.12.1-cp37-cp37m-manylinux2010_x86_64.whl (703 kB)\n",
      "\u001b[K     |████████████████████████████████| 703 kB 5.1 MB/s eta 0:00:01\n",
      "\u001b[36mg0zhkp446s-algo-1-duwzu |\u001b[0m \u001b[?25hCollecting typeguard>=2.7\n",
      "\u001b[36mg0zhkp446s-algo-1-duwzu |\u001b[0m   Downloading typeguard-2.11.1-py3-none-any.whl (16 kB)\n",
      "\u001b[36mg0zhkp446s-algo-1-duwzu |\u001b[0m Installing collected packages: typeguard, tensorflow-addons\n",
      "\u001b[36mg0zhkp446s-algo-1-duwzu |\u001b[0m Successfully installed tensorflow-addons-0.12.1 typeguard-2.11.1\n",
      "\u001b[36mg0zhkp446s-algo-1-duwzu |\u001b[0m Collecting wandb\n",
      "\u001b[36mg0zhkp446s-algo-1-duwzu |\u001b[0m   Downloading wandb-0.10.23-py2.py3-none-any.whl (2.0 MB)\n",
      "\u001b[K     |████████████████████████████████| 2.0 MB 3.4 MB/s eta 0:00:01\n",
      "\u001b[36mg0zhkp446s-algo-1-duwzu |\u001b[0m \u001b[?25hRequirement already satisfied: requests<3,>=2.0.0 in /usr/local/lib/python3.7/site-packages (from wandb) (2.24.0)\n",
      "\u001b[36mg0zhkp446s-algo-1-duwzu |\u001b[0m Collecting configparser>=3.8.1\n",
      "\u001b[36mg0zhkp446s-algo-1-duwzu |\u001b[0m   Downloading configparser-5.0.2-py3-none-any.whl (19 kB)\n",
      "\u001b[36mg0zhkp446s-algo-1-duwzu |\u001b[0m Collecting GitPython>=1.0.0\n",
      "\u001b[36mg0zhkp446s-algo-1-duwzu |\u001b[0m   Downloading GitPython-3.1.14-py3-none-any.whl (159 kB)\n",
      "\u001b[K     |████████████████████████████████| 159 kB 19.2 MB/s eta 0:00:01\n",
      "\u001b[36mg0zhkp446s-algo-1-duwzu |\u001b[0m \u001b[?25hCollecting sentry-sdk>=0.4.0\n",
      "\u001b[36mg0zhkp446s-algo-1-duwzu |\u001b[0m   Downloading sentry_sdk-1.0.0-py2.py3-none-any.whl (131 kB)\n",
      "\u001b[K     |████████████████████████████████| 131 kB 13.4 MB/s eta 0:00:01\n",
      "\u001b[36mg0zhkp446s-algo-1-duwzu |\u001b[0m \u001b[?25hRequirement already satisfied: PyYAML in /usr/local/lib/python3.7/site-packages (from wandb) (5.4.1)\n",
      "\u001b[36mg0zhkp446s-algo-1-duwzu |\u001b[0m Collecting promise<3,>=2.0\n",
      "\u001b[36mg0zhkp446s-algo-1-duwzu |\u001b[0m   Downloading promise-2.3.tar.gz (19 kB)\n",
      "\u001b[36mg0zhkp446s-algo-1-duwzu |\u001b[0m Requirement already satisfied: six>=1.13.0 in /usr/local/lib/python3.7/site-packages (from wandb) (1.15.0)\n",
      "\u001b[36mg0zhkp446s-algo-1-duwzu |\u001b[0m Requirement already satisfied: protobuf>=3.12.0 in /usr/local/lib/python3.7/site-packages (from wandb) (3.15.6)\n",
      "\u001b[36mg0zhkp446s-algo-1-duwzu |\u001b[0m Requirement already satisfied: python-dateutil>=2.6.1 in /usr/local/lib/python3.7/site-packages (from wandb) (2.8.1)\n",
      "\u001b[36mg0zhkp446s-algo-1-duwzu |\u001b[0m Collecting shortuuid>=0.5.0\n",
      "\u001b[36mg0zhkp446s-algo-1-duwzu |\u001b[0m   Downloading shortuuid-1.0.1-py3-none-any.whl (7.5 kB)\n",
      "\u001b[36mg0zhkp446s-algo-1-duwzu |\u001b[0m Collecting docker-pycreds>=0.4.0\n",
      "\u001b[36mg0zhkp446s-algo-1-duwzu |\u001b[0m   Downloading docker_pycreds-0.4.0-py2.py3-none-any.whl (9.0 kB)\n",
      "\u001b[36mg0zhkp446s-algo-1-duwzu |\u001b[0m Collecting pathtools\n",
      "\u001b[36mg0zhkp446s-algo-1-duwzu |\u001b[0m   Downloading pathtools-0.1.2.tar.gz (11 kB)\n",
      "\u001b[36mg0zhkp446s-algo-1-duwzu |\u001b[0m Collecting Click>=7.0\n",
      "\u001b[36mg0zhkp446s-algo-1-duwzu |\u001b[0m   Downloading click-7.1.2-py2.py3-none-any.whl (82 kB)\n",
      "\u001b[K     |████████████████████████████████| 82 kB 1.5 MB/s  eta 0:00:01\n",
      "\u001b[36mg0zhkp446s-algo-1-duwzu |\u001b[0m \u001b[?25hCollecting subprocess32>=3.5.3\n",
      "\u001b[36mg0zhkp446s-algo-1-duwzu |\u001b[0m   Downloading subprocess32-3.5.4.tar.gz (97 kB)\n",
      "\u001b[K     |████████████████████████████████| 97 kB 7.9 MB/s  eta 0:00:01\n",
      "\u001b[36mg0zhkp446s-algo-1-duwzu |\u001b[0m \u001b[?25hRequirement already satisfied: psutil>=5.0.0 in /usr/local/lib/python3.7/site-packages (from wandb) (5.7.2)\n",
      "\u001b[36mg0zhkp446s-algo-1-duwzu |\u001b[0m Collecting gitdb<5,>=4.0.1\n",
      "\u001b[36mg0zhkp446s-algo-1-duwzu |\u001b[0m   Downloading gitdb-4.0.5-py3-none-any.whl (63 kB)\n",
      "\u001b[K     |████████████████████████████████| 63 kB 2.4 MB/s  eta 0:00:01\n",
      "\u001b[36mg0zhkp446s-algo-1-duwzu |\u001b[0m \u001b[?25hCollecting smmap<4,>=3.0.1\n",
      "\u001b[36mg0zhkp446s-algo-1-duwzu |\u001b[0m   Downloading smmap-3.0.5-py2.py3-none-any.whl (25 kB)\n",
      "\u001b[36mg0zhkp446s-algo-1-duwzu |\u001b[0m Requirement already satisfied: urllib3!=1.25.0,!=1.25.1,<1.26,>=1.21.1 in /usr/local/lib/python3.7/site-packages (from requests<3,>=2.0.0->wandb) (1.25.11)\n",
      "\u001b[36mg0zhkp446s-algo-1-duwzu |\u001b[0m Requirement already satisfied: certifi>=2017.4.17 in /usr/local/lib/python3.7/site-packages (from requests<3,>=2.0.0->wandb) (2020.12.5)\n",
      "\u001b[36mg0zhkp446s-algo-1-duwzu |\u001b[0m Requirement already satisfied: idna<3,>=2.5 in /usr/local/lib/python3.7/site-packages (from requests<3,>=2.0.0->wandb) (2.10)\n",
      "\u001b[36mg0zhkp446s-algo-1-duwzu |\u001b[0m Requirement already satisfied: chardet<4,>=3.0.2 in /usr/local/lib/python3.7/site-packages (from requests<3,>=2.0.0->wandb) (3.0.4)\n",
      "\u001b[36mg0zhkp446s-algo-1-duwzu |\u001b[0m Building wheels for collected packages: promise, subprocess32, pathtools\n",
      "\u001b[36mg0zhkp446s-algo-1-duwzu |\u001b[0m   Building wheel for promise (setup.py) ... \u001b[?25ldone\n",
      "\u001b[36mg0zhkp446s-algo-1-duwzu |\u001b[0m \u001b[?25h  Created wheel for promise: filename=promise-2.3-py3-none-any.whl size=21494 sha256=c67fb99e5e2a5ea2ac6195dc0a17b42d115a052158eb4ddeda03ae1548d135d3\n",
      "\u001b[36mg0zhkp446s-algo-1-duwzu |\u001b[0m   Stored in directory: /root/.cache/pip/wheels/29/93/c6/762e359f8cb6a5b69c72235d798804cae523bbe41c2aa8333d\n",
      "\u001b[36mg0zhkp446s-algo-1-duwzu |\u001b[0m   Building wheel for subprocess32 (setup.py) ... \u001b[?25ldone\n",
      "\u001b[36mg0zhkp446s-algo-1-duwzu |\u001b[0m \u001b[?25h  Created wheel for subprocess32: filename=subprocess32-3.5.4-py3-none-any.whl size=6488 sha256=d00542f98c515a0adca41c3eb95631f1533828beb7f20b06442f767dbf984440\n",
      "\u001b[36mg0zhkp446s-algo-1-duwzu |\u001b[0m   Stored in directory: /root/.cache/pip/wheels/50/ca/fa/8fca8d246e64f19488d07567547ddec8eb084e8c0d7a59226a\n",
      "\u001b[36mg0zhkp446s-algo-1-duwzu |\u001b[0m   Building wheel for pathtools (setup.py) ... \u001b[?25ldone\n",
      "\u001b[36mg0zhkp446s-algo-1-duwzu |\u001b[0m \u001b[?25h  Created wheel for pathtools: filename=pathtools-0.1.2-py3-none-any.whl size=8784 sha256=7f80f619687931098be1490fd6e5efc937e318b04d0080e5d50c4c91ef1de871\n",
      "\u001b[36mg0zhkp446s-algo-1-duwzu |\u001b[0m   Stored in directory: /root/.cache/pip/wheels/3e/31/09/fa59cef12cdcfecc627b3d24273699f390e71828921b2cbba2\n",
      "\u001b[36mg0zhkp446s-algo-1-duwzu |\u001b[0m Successfully built promise subprocess32 pathtools\n",
      "\u001b[36mg0zhkp446s-algo-1-duwzu |\u001b[0m Installing collected packages: smmap, gitdb, subprocess32, shortuuid, sentry-sdk, promise, pathtools, GitPython, docker-pycreds, configparser, Click, wandb\n",
      "\u001b[36mg0zhkp446s-algo-1-duwzu |\u001b[0m Successfully installed Click-7.1.2 GitPython-3.1.14 configparser-5.0.2 docker-pycreds-0.4.0 gitdb-4.0.5 pathtools-0.1.2 promise-2.3 sentry-sdk-1.0.0 shortuuid-1.0.1 smmap-3.0.5 subprocess32-3.5.4 wandb-0.10.23\n",
      "\u001b[36mg0zhkp446s-algo-1-duwzu |\u001b[0m Collecting rasterio\n",
      "\u001b[36mg0zhkp446s-algo-1-duwzu |\u001b[0m   Downloading rasterio-1.2.1-cp37-cp37m-manylinux1_x86_64.whl (19.1 MB)\n",
      "\u001b[K     |████████████████████████████████| 19.1 MB 11.1 MB/s eta 0:00:01\n",
      "\u001b[36mg0zhkp446s-algo-1-duwzu |\u001b[0m \u001b[?25hCollecting affine\n",
      "\u001b[36mg0zhkp446s-algo-1-duwzu |\u001b[0m   Downloading affine-2.3.0-py2.py3-none-any.whl (15 kB)\n",
      "\u001b[36mg0zhkp446s-algo-1-duwzu |\u001b[0m Requirement already satisfied: attrs in /usr/local/lib/python3.7/site-packages (from rasterio) (20.3.0)\n",
      "\u001b[36mg0zhkp446s-algo-1-duwzu |\u001b[0m Collecting snuggs>=1.4.1\n",
      "\u001b[36mg0zhkp446s-algo-1-duwzu |\u001b[0m   Downloading snuggs-1.4.7-py3-none-any.whl (5.4 kB)\n",
      "\u001b[36mg0zhkp446s-algo-1-duwzu |\u001b[0m Requirement already satisfied: certifi in /usr/local/lib/python3.7/site-packages (from rasterio) (2020.12.5)\n",
      "\u001b[36mg0zhkp446s-algo-1-duwzu |\u001b[0m Collecting click-plugins\n",
      "\u001b[36mg0zhkp446s-algo-1-duwzu |\u001b[0m   Downloading click_plugins-1.1.1-py2.py3-none-any.whl (7.5 kB)\n",
      "\u001b[36mg0zhkp446s-algo-1-duwzu |\u001b[0m Requirement already satisfied: click<8,>=4.0 in /usr/local/lib/python3.7/site-packages (from rasterio) (7.1.2)\n",
      "\u001b[36mg0zhkp446s-algo-1-duwzu |\u001b[0m Requirement already satisfied: numpy in /usr/local/lib/python3.7/site-packages (from rasterio) (1.19.5)\n",
      "\u001b[36mg0zhkp446s-algo-1-duwzu |\u001b[0m Collecting cligj>=0.5\n",
      "\u001b[36mg0zhkp446s-algo-1-duwzu |\u001b[0m   Downloading cligj-0.7.1-py3-none-any.whl (7.1 kB)\n",
      "\u001b[36mg0zhkp446s-algo-1-duwzu |\u001b[0m Requirement already satisfied: pyparsing>=2.1.6 in /usr/local/lib/python3.7/site-packages (from snuggs>=1.4.1->rasterio) (2.4.7)\n",
      "\u001b[36mg0zhkp446s-algo-1-duwzu |\u001b[0m Installing collected packages: snuggs, cligj, click-plugins, affine, rasterio\n",
      "\u001b[36mg0zhkp446s-algo-1-duwzu |\u001b[0m Successfully installed affine-2.3.0 click-plugins-1.1.1 cligj-0.7.1 rasterio-1.2.1 snuggs-1.4.7\n",
      "\u001b[36mg0zhkp446s-algo-1-duwzu |\u001b[0m Requirement already satisfied: boto3 in /usr/local/lib/python3.7/site-packages (1.17.33)\n",
      "\u001b[36mg0zhkp446s-algo-1-duwzu |\u001b[0m Requirement already satisfied: jmespath<1.0.0,>=0.7.1 in /usr/local/lib/python3.7/site-packages (from boto3) (0.10.0)\n",
      "\u001b[36mg0zhkp446s-algo-1-duwzu |\u001b[0m Requirement already satisfied: botocore<1.21.0,>=1.20.33 in /usr/local/lib/python3.7/site-packages (from boto3) (1.20.33)\n",
      "\u001b[36mg0zhkp446s-algo-1-duwzu |\u001b[0m Requirement already satisfied: s3transfer<0.4.0,>=0.3.0 in /usr/local/lib/python3.7/site-packages (from boto3) (0.3.6)\n",
      "\u001b[36mg0zhkp446s-algo-1-duwzu |\u001b[0m Requirement already satisfied: python-dateutil<3.0.0,>=2.1 in /usr/local/lib/python3.7/site-packages (from botocore<1.21.0,>=1.20.33->boto3) (2.8.1)\n",
      "\u001b[36mg0zhkp446s-algo-1-duwzu |\u001b[0m Requirement already satisfied: urllib3<1.27,>=1.25.4 in /usr/local/lib/python3.7/site-packages (from botocore<1.21.0,>=1.20.33->boto3) (1.25.11)\n",
      "\u001b[36mg0zhkp446s-algo-1-duwzu |\u001b[0m Requirement already satisfied: six>=1.5 in /usr/local/lib/python3.7/site-packages (from python-dateutil<3.0.0,>=2.1->botocore<1.21.0,>=1.20.33->boto3) (1.15.0)\n",
      "\u001b[36mg0zhkp446s-algo-1-duwzu |\u001b[0m \n",
      "\u001b[36mg0zhkp446s-algo-1-duwzu |\u001b[0m Starting checkpoint: ckpt/pc-tf-custom-container-test-job-RGBNIRN-2021-03-15-22-45-06-142/model_resnet_epoch_7.h5\n",
      "\u001b[36mg0zhkp446s-algo-1-duwzu |\u001b[0m lr: 0.01, batch_size: 100, augmentation_data: True\n",
      "\u001b[36mg0zhkp446s-algo-1-duwzu |\u001b[0m bands [2, 3, 4, 8, 12]\n",
      "\u001b[36mg0zhkp446s-algo-1-duwzu |\u001b[0m Input shape: (100, 100, 5)\n",
      "\u001b[36mg0zhkp446s-algo-1-duwzu |\u001b[0m [2021-03-24 02:40:59.631 d34fe9388d12:21 INFO utils.py:27] RULE_JOB_STOP_SIGNAL_FILENAME: None\n",
      "\u001b[36mg0zhkp446s-algo-1-duwzu |\u001b[0m [2021-03-24 02:40:59.748 d34fe9388d12:21 INFO profiler_config_parser.py:102] Unable to find config at /opt/ml/input/config/profilerconfig.json. Profiler is disabled.\n",
      "\u001b[36mg0zhkp446s-algo-1-duwzu |\u001b[0m Downloading data from https://storage.googleapis.com/tensorflow/keras-applications/resnet/resnet50_weights_tf_dim_ordering_tf_kernels_notop.h5\n",
      "94773248/94765736 [==============================] - 4s 0us/step\n",
      "\u001b[36mg0zhkp446s-algo-1-duwzu |\u001b[0m No previous checkpoint found in opt/ml/checkpoints directory; loading checkpoint from ckpt/pc-tf-custom-container-test-job-RGBNIRN-2021-03-15-22-45-06-142/model_resnet_epoch_7.h5\n",
      "\u001b[36mg0zhkp446s-algo-1-duwzu |\u001b[0m training_dir /opt/ml/input/data/training/labels_test_v1_m.csv\n",
      "\u001b[36mg0zhkp446s-algo-1-duwzu |\u001b[0m val_dir /opt/ml/input/data/training/val_labels_m.csv\n",
      "\u001b[36mg0zhkp446s-algo-1-duwzu |\u001b[0m Dataloader initialization...\n",
      "\u001b[36mg0zhkp446s-algo-1-duwzu |\u001b[0m label_file_path_train: /opt/ml/input/data/training/labels_test_v1_m.csv\n",
      "\u001b[36mg0zhkp446s-algo-1-duwzu |\u001b[0m labels_file_val: /opt/ml/input/data/training/val_labels_m.csv\n",
      "\u001b[36mg0zhkp446s-algo-1-duwzu |\u001b[0m Data augmentation enabled\n",
      "\u001b[36mg0zhkp446s-algo-1-duwzu |\u001b[0m Training on 300 images\n",
      "\u001b[36mg0zhkp446s-algo-1-duwzu |\u001b[0m Validation on 3 images \n",
      "\u001b[36mg0zhkp446s-algo-1-duwzu |\u001b[0m Epoch 1/2\n",
      "\u001b[36mg0zhkp446s-algo-1-duwzu |\u001b[0m 2021-03-24 02:40:34.900380: W tensorflow/core/profiler/internal/smprofiler_timeline.cc:460] Initializing the SageMaker Profiler.\n",
      "\u001b[36mg0zhkp446s-algo-1-duwzu |\u001b[0m 2021-03-24 02:40:34.902079: W tensorflow/core/profiler/internal/smprofiler_timeline.cc:105] SageMaker Profiler is not enabled. The timeline writer thread will not be started, future recorded events will be dropped.\n",
      "\u001b[36mg0zhkp446s-algo-1-duwzu |\u001b[0m 2021-03-24 02:40:34.946036: W tensorflow/core/profiler/internal/smprofiler_timeline.cc:460] Initializing the SageMaker Profiler.\n",
      "\u001b[36mg0zhkp446s-algo-1-duwzu |\u001b[0m wandb: Currently logged in as: margauxmforsythe (use `wandb login --relogin` to force relogin)\n",
      "\u001b[36mg0zhkp446s-algo-1-duwzu |\u001b[0m 2021-03-24 02:40:57.351089: W tensorflow/core/profiler/internal/smprofiler_timeline.cc:460] Initializing the SageMaker Profiler.\n",
      "\u001b[36mg0zhkp446s-algo-1-duwzu |\u001b[0m 2021-03-24 02:40:57.352925: W tensorflow/core/profiler/internal/smprofiler_timeline.cc:105] SageMaker Profiler is not enabled. The timeline writer thread will not be started, future recorded events will be dropped.\n",
      "\u001b[36mg0zhkp446s-algo-1-duwzu |\u001b[0m 2021-03-24 02:40:57.403407: W tensorflow/core/profiler/internal/smprofiler_timeline.cc:460] Initializing the SageMaker Profiler.\n",
      "\u001b[36mg0zhkp446s-algo-1-duwzu |\u001b[0m wandb: Tracking run with wandb version 0.10.23\n",
      "\u001b[36mg0zhkp446s-algo-1-duwzu |\u001b[0m wandb: Syncing run pc-tf-custom-container-test-job-2021-03-24-02-35-34-108-algo-1-duwzu\n",
      "\u001b[36mg0zhkp446s-algo-1-duwzu |\u001b[0m wandb: ⭐️ View project at https://wandb.ai/margauxmforsythe/project-canopy\n",
      "\u001b[36mg0zhkp446s-algo-1-duwzu |\u001b[0m wandb: 🚀 View run at https://wandb.ai/margauxmforsythe/project-canopy/runs/pc-tf-custom-container-test-job-2021-03-24-02-35-34-108-algo-1-duwzu\n",
      "\u001b[36mg0zhkp446s-algo-1-duwzu |\u001b[0m wandb: Run data is saved locally in /opt/ml/code/wandb/run-20210324_024056-pc-tf-custom-container-test-job-2021-03-24-02-35-34-108-algo-1-duwzu\n",
      "\u001b[36mg0zhkp446s-algo-1-duwzu |\u001b[0m wandb: Run `wandb offline` to turn off syncing.\n",
      "\u001b[36mg0zhkp446s-algo-1-duwzu |\u001b[0m INFO:botocore.credentials:Found credentials in environment variables.\n",
      "\u001b[36mg0zhkp446s-algo-1-duwzu |\u001b[0m \n",
      "\u001b[36mg0zhkp446s-algo-1-duwzu |\u001b[0m 2021-03-24 02:42:21,890 sagemaker-training-toolkit ERROR    ExecuteUserScriptError:\n",
      "\u001b[36mg0zhkp446s-algo-1-duwzu |\u001b[0m Command \"/usr/local/bin/python3.7 train_no_s3.py --augment True --bands 2 3 4 8 12 --batch-size 100 --epochs 2 --learning-rate 0.01 --model_dir s3://canopy-production-ml-output/pc-tf-custom-container-test-job-2021-03-24-02-35-34-108/model --numclasses 10 --s3_chkpt_dir ckpt --starting_checkpoint ckpt/pc-tf-custom-container-test-job-RGBNIRN-2021-03-15-22-45-06-142/model_resnet_epoch_7.h5 --training_file labels_test_v1_m.csv --validation_file val_labels_m.csv --wandb_key 6607ed7a49b452c2f3494ce60f9514f6c9e3b4e6\"\n",
      "\u001b[36mg0zhkp446s-algo-1-duwzu |\u001b[0m 2021-03-24 02:40:34.900380: W tensorflow/core/profiler/internal/smprofiler_timeline.cc:460] Initializing the SageMaker Profiler.\n",
      "\u001b[36mg0zhkp446s-algo-1-duwzu |\u001b[0m 2021-03-24 02:40:34.902079: W tensorflow/core/profiler/internal/smprofiler_timeline.cc:105] SageMaker Profiler is not enabled. The timeline writer thread will not be started, future recorded events will be dropped.\n",
      "\u001b[36mg0zhkp446s-algo-1-duwzu |\u001b[0m 2021-03-24 02:40:34.946036: W tensorflow/core/profiler/internal/smprofiler_timeline.cc:460] Initializing the SageMaker Profiler.\n",
      "\u001b[36mg0zhkp446s-algo-1-duwzu |\u001b[0m wandb: Currently logged in as: margauxmforsythe (use `wandb login --relogin` to force relogin)\n",
      "\u001b[36mg0zhkp446s-algo-1-duwzu |\u001b[0m 2021-03-24 02:40:57.351089: W tensorflow/core/profiler/internal/smprofiler_timeline.cc:460] Initializing the SageMaker Profiler.\n",
      "\u001b[36mg0zhkp446s-algo-1-duwzu |\u001b[0m 2021-03-24 02:40:57.352925: W tensorflow/core/profiler/internal/smprofiler_timeline.cc:105] SageMaker Profiler is not enabled. The timeline writer thread will not be started, future recorded events will be dropped.\n",
      "\u001b[36mg0zhkp446s-algo-1-duwzu |\u001b[0m 2021-03-24 02:40:57.403407: W tensorflow/core/profiler/internal/smprofiler_timeline.cc:460] Initializing the SageMaker Profiler.\n",
      "\u001b[36mg0zhkp446s-algo-1-duwzu |\u001b[0m wandb: Tracking run with wandb version 0.10.23\n",
      "\u001b[36mg0zhkp446s-algo-1-duwzu |\u001b[0m wandb: Syncing run pc-tf-custom-container-test-job-2021-03-24-02-35-34-108-algo-1-duwzu\n",
      "\u001b[36mg0zhkp446s-algo-1-duwzu |\u001b[0m wandb: â­ï¸ View project at https://wandb.ai/margauxmforsythe/project-canopy\n",
      "\u001b[36mg0zhkp446s-algo-1-duwzu |\u001b[0m wandb: ð View run at https://wandb.ai/margauxmforsythe/project-canopy/runs/pc-tf-custom-container-test-job-2021-03-24-02-35-34-108-algo-1-duwzu\n",
      "\u001b[36mg0zhkp446s-algo-1-duwzu |\u001b[0m wandb: Run data is saved locally in /opt/ml/code/wandb/run-20210324_024056-pc-tf-custom-container-test-job-2021-03-24-02-35-34-108-algo-1-duwzu\n",
      "\u001b[36mg0zhkp446s-algo-1-duwzu |\u001b[0m wandb: Run `wandb offline` to turn off syncing.\n",
      "\u001b[36mg0zhkp446s-algo-1-duwzu |\u001b[0m INFO:botocore.credentials:Found credentials in environment variables.\n",
      "\u001b[36mg0zhkp446s-algo-1-duwzu exited with code 1\n",
      "\u001b[0mAborting on container exit...\n"
     ]
    },
    {
     "ename": "RuntimeError",
     "evalue": "Failed to run: ['docker-compose', '-f', '/private/var/folders/cz/s5n0rss95_d_fkgnjz19kgbr0000gn/T/tmpfdyykckx/docker-compose.yaml', 'up', '--build', '--abort-on-container-exit'], Process exited with code: 1",
     "output_type": "error",
     "traceback": [
      "\u001b[0;31m---------------------------------------------------------------------------\u001b[0m",
      "\u001b[0;31mRuntimeError\u001b[0m                              Traceback (most recent call last)",
      "\u001b[0;32m~/opt/anaconda3/envs/ml-conda/lib/python3.7/site-packages/sagemaker/local/image.py\u001b[0m in \u001b[0;36mtrain\u001b[0;34m(self, input_data_config, output_data_config, hyperparameters, job_name)\u001b[0m\n\u001b[1;32m    237\u001b[0m         \u001b[0;32mtry\u001b[0m\u001b[0;34m:\u001b[0m\u001b[0;34m\u001b[0m\u001b[0;34m\u001b[0m\u001b[0m\n\u001b[0;32m--> 238\u001b[0;31m             \u001b[0m_stream_output\u001b[0m\u001b[0;34m(\u001b[0m\u001b[0mprocess\u001b[0m\u001b[0;34m)\u001b[0m\u001b[0;34m\u001b[0m\u001b[0;34m\u001b[0m\u001b[0m\n\u001b[0m\u001b[1;32m    239\u001b[0m         \u001b[0;32mexcept\u001b[0m \u001b[0mRuntimeError\u001b[0m \u001b[0;32mas\u001b[0m \u001b[0me\u001b[0m\u001b[0;34m:\u001b[0m\u001b[0;34m\u001b[0m\u001b[0;34m\u001b[0m\u001b[0m\n",
      "\u001b[0;32m~/opt/anaconda3/envs/ml-conda/lib/python3.7/site-packages/sagemaker/local/image.py\u001b[0m in \u001b[0;36m_stream_output\u001b[0;34m(process)\u001b[0m\n\u001b[1;32m    893\u001b[0m     \u001b[0;32mif\u001b[0m \u001b[0mexit_code\u001b[0m \u001b[0;34m!=\u001b[0m \u001b[0;36m0\u001b[0m\u001b[0;34m:\u001b[0m\u001b[0;34m\u001b[0m\u001b[0;34m\u001b[0m\u001b[0m\n\u001b[0;32m--> 894\u001b[0;31m         \u001b[0;32mraise\u001b[0m \u001b[0mRuntimeError\u001b[0m\u001b[0;34m(\u001b[0m\u001b[0;34m\"Process exited with code: %s\"\u001b[0m \u001b[0;34m%\u001b[0m \u001b[0mexit_code\u001b[0m\u001b[0;34m)\u001b[0m\u001b[0;34m\u001b[0m\u001b[0;34m\u001b[0m\u001b[0m\n\u001b[0m\u001b[1;32m    895\u001b[0m \u001b[0;34m\u001b[0m\u001b[0m\n",
      "\u001b[0;31mRuntimeError\u001b[0m: Process exited with code: 1",
      "\nDuring handling of the above exception, another exception occurred:\n",
      "\u001b[0;31mRuntimeError\u001b[0m                              Traceback (most recent call last)",
      "\u001b[0;32m<ipython-input-5-85c093f1e0cf>\u001b[0m in \u001b[0;36m<module>\u001b[0;34m\u001b[0m\n\u001b[1;32m      1\u001b[0m \u001b[0;32mimport\u001b[0m \u001b[0mtime\u001b[0m\u001b[0;34m\u001b[0m\u001b[0;34m\u001b[0m\u001b[0m\n\u001b[1;32m      2\u001b[0m \u001b[0mt0\u001b[0m \u001b[0;34m=\u001b[0m \u001b[0mtime\u001b[0m\u001b[0;34m.\u001b[0m\u001b[0mtime\u001b[0m\u001b[0;34m(\u001b[0m\u001b[0;34m)\u001b[0m\u001b[0;34m\u001b[0m\u001b[0;34m\u001b[0m\u001b[0m\n\u001b[0;32m----> 3\u001b[0;31m \u001b[0mtf_estimator\u001b[0m\u001b[0;34m.\u001b[0m\u001b[0mfit\u001b[0m\u001b[0;34m(\u001b[0m\u001b[0;34m\"file:///Users/purgatorid/Documents/GitHub/Project Canopy/cb_feature_detection/model-development/data\"\u001b[0m\u001b[0;34m)\u001b[0m\u001b[0;34m\u001b[0m\u001b[0;34m\u001b[0m\u001b[0m\n\u001b[0m\u001b[1;32m      4\u001b[0m \u001b[0mt1\u001b[0m \u001b[0;34m=\u001b[0m \u001b[0mtime\u001b[0m\u001b[0;34m.\u001b[0m\u001b[0mtime\u001b[0m\u001b[0;34m(\u001b[0m\u001b[0;34m)\u001b[0m\u001b[0;34m\u001b[0m\u001b[0;34m\u001b[0m\u001b[0m\n\u001b[1;32m      5\u001b[0m \u001b[0mtotal\u001b[0m \u001b[0;34m=\u001b[0m \u001b[0;34m(\u001b[0m\u001b[0mt1\u001b[0m\u001b[0;34m-\u001b[0m\u001b[0mt0\u001b[0m\u001b[0;34m)\u001b[0m \u001b[0;34m/\u001b[0m \u001b[0;36m60\u001b[0m\u001b[0;34m\u001b[0m\u001b[0;34m\u001b[0m\u001b[0m\n",
      "\u001b[0;32m~/opt/anaconda3/envs/ml-conda/lib/python3.7/site-packages/sagemaker/estimator.py\u001b[0m in \u001b[0;36mfit\u001b[0;34m(self, inputs, wait, logs, job_name, experiment_config)\u001b[0m\n\u001b[1;32m    659\u001b[0m         \u001b[0mself\u001b[0m\u001b[0;34m.\u001b[0m\u001b[0m_prepare_for_training\u001b[0m\u001b[0;34m(\u001b[0m\u001b[0mjob_name\u001b[0m\u001b[0;34m=\u001b[0m\u001b[0mjob_name\u001b[0m\u001b[0;34m)\u001b[0m\u001b[0;34m\u001b[0m\u001b[0;34m\u001b[0m\u001b[0m\n\u001b[1;32m    660\u001b[0m \u001b[0;34m\u001b[0m\u001b[0m\n\u001b[0;32m--> 661\u001b[0;31m         \u001b[0mself\u001b[0m\u001b[0;34m.\u001b[0m\u001b[0mlatest_training_job\u001b[0m \u001b[0;34m=\u001b[0m \u001b[0m_TrainingJob\u001b[0m\u001b[0;34m.\u001b[0m\u001b[0mstart_new\u001b[0m\u001b[0;34m(\u001b[0m\u001b[0mself\u001b[0m\u001b[0;34m,\u001b[0m \u001b[0minputs\u001b[0m\u001b[0;34m,\u001b[0m \u001b[0mexperiment_config\u001b[0m\u001b[0;34m)\u001b[0m\u001b[0;34m\u001b[0m\u001b[0;34m\u001b[0m\u001b[0m\n\u001b[0m\u001b[1;32m    662\u001b[0m         \u001b[0mself\u001b[0m\u001b[0;34m.\u001b[0m\u001b[0mjobs\u001b[0m\u001b[0;34m.\u001b[0m\u001b[0mappend\u001b[0m\u001b[0;34m(\u001b[0m\u001b[0mself\u001b[0m\u001b[0;34m.\u001b[0m\u001b[0mlatest_training_job\u001b[0m\u001b[0;34m)\u001b[0m\u001b[0;34m\u001b[0m\u001b[0;34m\u001b[0m\u001b[0m\n\u001b[1;32m    663\u001b[0m         \u001b[0;32mif\u001b[0m \u001b[0mwait\u001b[0m\u001b[0;34m:\u001b[0m\u001b[0;34m\u001b[0m\u001b[0;34m\u001b[0m\u001b[0m\n",
      "\u001b[0;32m~/opt/anaconda3/envs/ml-conda/lib/python3.7/site-packages/sagemaker/estimator.py\u001b[0m in \u001b[0;36mstart_new\u001b[0;34m(cls, estimator, inputs, experiment_config)\u001b[0m\n\u001b[1;32m   1422\u001b[0m         \"\"\"\n\u001b[1;32m   1423\u001b[0m         \u001b[0mtrain_args\u001b[0m \u001b[0;34m=\u001b[0m \u001b[0mcls\u001b[0m\u001b[0;34m.\u001b[0m\u001b[0m_get_train_args\u001b[0m\u001b[0;34m(\u001b[0m\u001b[0mestimator\u001b[0m\u001b[0;34m,\u001b[0m \u001b[0minputs\u001b[0m\u001b[0;34m,\u001b[0m \u001b[0mexperiment_config\u001b[0m\u001b[0;34m)\u001b[0m\u001b[0;34m\u001b[0m\u001b[0;34m\u001b[0m\u001b[0m\n\u001b[0;32m-> 1424\u001b[0;31m         \u001b[0mestimator\u001b[0m\u001b[0;34m.\u001b[0m\u001b[0msagemaker_session\u001b[0m\u001b[0;34m.\u001b[0m\u001b[0mtrain\u001b[0m\u001b[0;34m(\u001b[0m\u001b[0;34m**\u001b[0m\u001b[0mtrain_args\u001b[0m\u001b[0;34m)\u001b[0m\u001b[0;34m\u001b[0m\u001b[0;34m\u001b[0m\u001b[0m\n\u001b[0m\u001b[1;32m   1425\u001b[0m \u001b[0;34m\u001b[0m\u001b[0m\n\u001b[1;32m   1426\u001b[0m         \u001b[0;32mreturn\u001b[0m \u001b[0mcls\u001b[0m\u001b[0;34m(\u001b[0m\u001b[0mestimator\u001b[0m\u001b[0;34m.\u001b[0m\u001b[0msagemaker_session\u001b[0m\u001b[0;34m,\u001b[0m \u001b[0mestimator\u001b[0m\u001b[0;34m.\u001b[0m\u001b[0m_current_job_name\u001b[0m\u001b[0;34m)\u001b[0m\u001b[0;34m\u001b[0m\u001b[0;34m\u001b[0m\u001b[0m\n",
      "\u001b[0;32m~/opt/anaconda3/envs/ml-conda/lib/python3.7/site-packages/sagemaker/session.py\u001b[0m in \u001b[0;36mtrain\u001b[0;34m(self, input_mode, input_config, role, job_name, output_config, resource_config, vpc_config, hyperparameters, stop_condition, tags, metric_definitions, enable_network_isolation, image_uri, algorithm_arn, encrypt_inter_container_traffic, use_spot_instances, checkpoint_s3_uri, checkpoint_local_path, experiment_config, debugger_rule_configs, debugger_hook_config, tensorboard_output_config, enable_sagemaker_metrics, profiler_rule_configs, profiler_config)\u001b[0m\n\u001b[1;32m    560\u001b[0m         \u001b[0mLOGGER\u001b[0m\u001b[0;34m.\u001b[0m\u001b[0minfo\u001b[0m\u001b[0;34m(\u001b[0m\u001b[0;34m\"Creating training-job with name: %s\"\u001b[0m\u001b[0;34m,\u001b[0m \u001b[0mjob_name\u001b[0m\u001b[0;34m)\u001b[0m\u001b[0;34m\u001b[0m\u001b[0;34m\u001b[0m\u001b[0m\n\u001b[1;32m    561\u001b[0m         \u001b[0mLOGGER\u001b[0m\u001b[0;34m.\u001b[0m\u001b[0mdebug\u001b[0m\u001b[0;34m(\u001b[0m\u001b[0;34m\"train request: %s\"\u001b[0m\u001b[0;34m,\u001b[0m \u001b[0mjson\u001b[0m\u001b[0;34m.\u001b[0m\u001b[0mdumps\u001b[0m\u001b[0;34m(\u001b[0m\u001b[0mtrain_request\u001b[0m\u001b[0;34m,\u001b[0m \u001b[0mindent\u001b[0m\u001b[0;34m=\u001b[0m\u001b[0;36m4\u001b[0m\u001b[0;34m)\u001b[0m\u001b[0;34m)\u001b[0m\u001b[0;34m\u001b[0m\u001b[0;34m\u001b[0m\u001b[0m\n\u001b[0;32m--> 562\u001b[0;31m         \u001b[0mself\u001b[0m\u001b[0;34m.\u001b[0m\u001b[0msagemaker_client\u001b[0m\u001b[0;34m.\u001b[0m\u001b[0mcreate_training_job\u001b[0m\u001b[0;34m(\u001b[0m\u001b[0;34m**\u001b[0m\u001b[0mtrain_request\u001b[0m\u001b[0;34m)\u001b[0m\u001b[0;34m\u001b[0m\u001b[0;34m\u001b[0m\u001b[0m\n\u001b[0m\u001b[1;32m    563\u001b[0m \u001b[0;34m\u001b[0m\u001b[0m\n\u001b[1;32m    564\u001b[0m     def _get_train_request(  # noqa: C901\n",
      "\u001b[0;32m~/opt/anaconda3/envs/ml-conda/lib/python3.7/site-packages/sagemaker/local/local_session.py\u001b[0m in \u001b[0;36mcreate_training_job\u001b[0;34m(self, TrainingJobName, AlgorithmSpecification, OutputDataConfig, ResourceConfig, InputDataConfig, **kwargs)\u001b[0m\n\u001b[1;32m    184\u001b[0m         \u001b[0mhyperparameters\u001b[0m \u001b[0;34m=\u001b[0m \u001b[0mkwargs\u001b[0m\u001b[0;34m[\u001b[0m\u001b[0;34m\"HyperParameters\"\u001b[0m\u001b[0;34m]\u001b[0m \u001b[0;32mif\u001b[0m \u001b[0;34m\"HyperParameters\"\u001b[0m \u001b[0;32min\u001b[0m \u001b[0mkwargs\u001b[0m \u001b[0;32melse\u001b[0m \u001b[0;34m{\u001b[0m\u001b[0;34m}\u001b[0m\u001b[0;34m\u001b[0m\u001b[0;34m\u001b[0m\u001b[0m\n\u001b[1;32m    185\u001b[0m         \u001b[0mlogger\u001b[0m\u001b[0;34m.\u001b[0m\u001b[0minfo\u001b[0m\u001b[0;34m(\u001b[0m\u001b[0;34m\"Starting training job\"\u001b[0m\u001b[0;34m)\u001b[0m\u001b[0;34m\u001b[0m\u001b[0;34m\u001b[0m\u001b[0m\n\u001b[0;32m--> 186\u001b[0;31m         \u001b[0mtraining_job\u001b[0m\u001b[0;34m.\u001b[0m\u001b[0mstart\u001b[0m\u001b[0;34m(\u001b[0m\u001b[0mInputDataConfig\u001b[0m\u001b[0;34m,\u001b[0m \u001b[0mOutputDataConfig\u001b[0m\u001b[0;34m,\u001b[0m \u001b[0mhyperparameters\u001b[0m\u001b[0;34m,\u001b[0m \u001b[0mTrainingJobName\u001b[0m\u001b[0;34m)\u001b[0m\u001b[0;34m\u001b[0m\u001b[0;34m\u001b[0m\u001b[0m\n\u001b[0m\u001b[1;32m    187\u001b[0m \u001b[0;34m\u001b[0m\u001b[0m\n\u001b[1;32m    188\u001b[0m         \u001b[0mLocalSagemakerClient\u001b[0m\u001b[0;34m.\u001b[0m\u001b[0m_training_jobs\u001b[0m\u001b[0;34m[\u001b[0m\u001b[0mTrainingJobName\u001b[0m\u001b[0;34m]\u001b[0m \u001b[0;34m=\u001b[0m \u001b[0mtraining_job\u001b[0m\u001b[0;34m\u001b[0m\u001b[0;34m\u001b[0m\u001b[0m\n",
      "\u001b[0;32m~/opt/anaconda3/envs/ml-conda/lib/python3.7/site-packages/sagemaker/local/entities.py\u001b[0m in \u001b[0;36mstart\u001b[0;34m(self, input_data_config, output_data_config, hyperparameters, job_name)\u001b[0m\n\u001b[1;32m    219\u001b[0m \u001b[0;34m\u001b[0m\u001b[0m\n\u001b[1;32m    220\u001b[0m         self.model_artifacts = self.container.train(\n\u001b[0;32m--> 221\u001b[0;31m             \u001b[0minput_data_config\u001b[0m\u001b[0;34m,\u001b[0m \u001b[0moutput_data_config\u001b[0m\u001b[0;34m,\u001b[0m \u001b[0mhyperparameters\u001b[0m\u001b[0;34m,\u001b[0m \u001b[0mjob_name\u001b[0m\u001b[0;34m\u001b[0m\u001b[0;34m\u001b[0m\u001b[0m\n\u001b[0m\u001b[1;32m    222\u001b[0m         )\n\u001b[1;32m    223\u001b[0m         \u001b[0mself\u001b[0m\u001b[0;34m.\u001b[0m\u001b[0mend_time\u001b[0m \u001b[0;34m=\u001b[0m \u001b[0mdatetime\u001b[0m\u001b[0;34m.\u001b[0m\u001b[0mdatetime\u001b[0m\u001b[0;34m.\u001b[0m\u001b[0mnow\u001b[0m\u001b[0;34m(\u001b[0m\u001b[0;34m)\u001b[0m\u001b[0;34m\u001b[0m\u001b[0;34m\u001b[0m\u001b[0m\n",
      "\u001b[0;32m~/opt/anaconda3/envs/ml-conda/lib/python3.7/site-packages/sagemaker/local/image.py\u001b[0m in \u001b[0;36mtrain\u001b[0;34m(self, input_data_config, output_data_config, hyperparameters, job_name)\u001b[0m\n\u001b[1;32m    241\u001b[0m             \u001b[0;31m# which contains the exit code and append the command line to it.\u001b[0m\u001b[0;34m\u001b[0m\u001b[0;34m\u001b[0m\u001b[0;34m\u001b[0m\u001b[0m\n\u001b[1;32m    242\u001b[0m             \u001b[0mmsg\u001b[0m \u001b[0;34m=\u001b[0m \u001b[0;34m\"Failed to run: %s, %s\"\u001b[0m \u001b[0;34m%\u001b[0m \u001b[0;34m(\u001b[0m\u001b[0mcompose_command\u001b[0m\u001b[0;34m,\u001b[0m \u001b[0mstr\u001b[0m\u001b[0;34m(\u001b[0m\u001b[0me\u001b[0m\u001b[0;34m)\u001b[0m\u001b[0;34m)\u001b[0m\u001b[0;34m\u001b[0m\u001b[0;34m\u001b[0m\u001b[0m\n\u001b[0;32m--> 243\u001b[0;31m             \u001b[0;32mraise\u001b[0m \u001b[0mRuntimeError\u001b[0m\u001b[0;34m(\u001b[0m\u001b[0mmsg\u001b[0m\u001b[0;34m)\u001b[0m\u001b[0;34m\u001b[0m\u001b[0;34m\u001b[0m\u001b[0m\n\u001b[0m\u001b[1;32m    244\u001b[0m         \u001b[0;32mfinally\u001b[0m\u001b[0;34m:\u001b[0m\u001b[0;34m\u001b[0m\u001b[0;34m\u001b[0m\u001b[0m\n\u001b[1;32m    245\u001b[0m             \u001b[0martifacts\u001b[0m \u001b[0;34m=\u001b[0m \u001b[0mself\u001b[0m\u001b[0;34m.\u001b[0m\u001b[0mretrieve_artifacts\u001b[0m\u001b[0;34m(\u001b[0m\u001b[0mcompose_data\u001b[0m\u001b[0;34m,\u001b[0m \u001b[0moutput_data_config\u001b[0m\u001b[0;34m,\u001b[0m \u001b[0mjob_name\u001b[0m\u001b[0;34m)\u001b[0m\u001b[0;34m\u001b[0m\u001b[0;34m\u001b[0m\u001b[0m\n",
      "\u001b[0;31mRuntimeError\u001b[0m: Failed to run: ['docker-compose', '-f', '/private/var/folders/cz/s5n0rss95_d_fkgnjz19kgbr0000gn/T/tmpfdyykckx/docker-compose.yaml', 'up', '--build', '--abort-on-container-exit'], Process exited with code: 1"
     ]
    }
   ],
   "source": [
    "import time\n",
    "t0 = time.time()\n",
    "tf_estimator.fit(\"file:///Users/purgatorid/Documents/GitHub/Project Canopy/cb_feature_detection/model-development/data\")\n",
    "t1 = time.time()\n",
    "total = (t1-t0) / 60\n",
    "print(f\"{total} min\")"
   ]
  },
  {
   "cell_type": "code",
   "execution_count": null,
   "metadata": {},
   "outputs": [],
   "source": []
  },
  {
   "cell_type": "markdown",
   "metadata": {},
   "source": [
    "## Train on Cloud Amazon SageMaker"
   ]
  },
  {
   "cell_type": "markdown",
   "metadata": {},
   "source": [
    "Training"
   ]
  },
  {
   "cell_type": "code",
   "execution_count": 25,
   "metadata": {},
   "outputs": [],
   "source": [
    "from sagemaker.tensorflow import TensorFlow\n",
    "from sagemaker.debugger import Rule, rule_configs\n",
    "from sagemaker import get_execution_role\n",
    "\n",
    "training_file = \"labels_train.csv\"\n",
    "validation_file = \"labels_val.csv\"\n",
    "tf_estimator = TensorFlow(entry_point='train_no_s3.py', \n",
    "                          role=\"arn:aws:iam::963659202518:role/service-role/AmazonSageMaker-ExecutionRole-20210306T191865\",\n",
    "                          #                           role=get_execution_role(),\n",
    "                          train_instance_count=1, \n",
    "                          train_instance_type='ml.p3.8xlarge', # ml.m5.large, ml.p3.16xlarge, ml.p3.2xlarge, ml.g4dn.xlarge, ml.p3.8xlarge, p3.2xlarge, ml.t2.micro\n",
    "                          framework_version='2.4', \n",
    "                          base_job_name='pc-tf-custom-container-test-job-RGBNIRN',\n",
    "                          output_path='s3://canopy-production-ml-output',\n",
    "                          py_version='py37',\n",
    "                          checkpoint_s3_uri=\"s3://canopy-production-ml-output/ckpt/pc-tf-custom-container-test-job-RGBNIRN\",\n",
    "                          script_mode=True,\n",
    "                          train_use_spot_instances=True,        # Use spot instance\n",
    "                          train_max_run=432000,                    # Max training time\n",
    "                          train_max_wait=450000,                  # Max training time + spot waiting time\n",
    "                          hyperparameters={'training_file':training_file, \n",
    "                                           'validation_file': validation_file,\n",
    "#                                            'bucket':\"margaux-bucket-us-east-1\",\n",
    "                                           'epochs': 5, 'augment': True, 'batch-size': 100,\n",
    "                                           'learning-rate': 0.001, 'numclasses': 10,\n",
    "                                           'wandb_key': \"6607ed7a49b452c2f3494ce60f9514f6c9e3b4e6\",\n",
    "                                           's3_chkpt_dir':\"ckpt\",\n",
    "                                           'bands': \"2 3 4 8 12\",\n",
    "                                          'starting_checkpoint':None\n",
    "                                          }\n",
    "                         )\n",
    "\n"
   ]
  },
  {
   "cell_type": "code",
   "execution_count": null,
   "metadata": {},
   "outputs": [
    {
     "name": "stderr",
     "output_type": "stream",
     "text": [
      "'s3_input' class will be renamed to 'TrainingInput' in SageMaker Python SDK v2.\n",
      "'create_image_uri' will be deprecated in favor of 'ImageURIProvider' class in SageMaker Python SDK v2.\n"
     ]
    },
    {
     "name": "stdout",
     "output_type": "stream",
     "text": [
      "2021-03-22 22:33:23 Starting - Starting the training job...\n",
      "2021-03-22 22:33:24 Starting - Launching requested ML instances.........\n",
      "2021-03-22 22:35:05 Starting - Preparing the instances for training...\n",
      "2021-03-22 22:35:53 Downloading - Downloading input data."
     ]
    }
   ],
   "source": [
    "tf_estimator.fit(\"s3://canopy-production-ml/chips/cloudfree-merge-polygons/split/\")\n"
   ]
  },
  {
   "cell_type": "markdown",
   "metadata": {},
   "source": [
    "# FSX Test"
   ]
  },
  {
   "cell_type": "code",
   "execution_count": 40,
   "metadata": {},
   "outputs": [],
   "source": [
    "fsx_data_obj = FileSystemInput(file_system_id='fs-03cd4325554338c21',\n",
    "                                    file_system_type='FSxLustre',\n",
    "                                    directory_path='/h4zifbmv/chips/cloudfree-merge-polygons/split',\n",
    "                                    file_system_access_mode='ro')"
   ]
  },
  {
   "cell_type": "code",
   "execution_count": 41,
   "metadata": {},
   "outputs": [],
   "source": [
    "from sagemaker.tensorflow import TensorFlow\n",
    "from sagemaker.debugger import Rule, rule_configs\n",
    "from sagemaker import get_execution_role\n",
    "import time\n",
    "\n",
    "job_name = 'pc-tf-custom-container-test-job-RGBNIRN-from-scratch'\n",
    "\n",
    "training_file = \"labels_train.csv\"\n",
    "validation_file = \"labels_val.csv\"\n",
    "tf_estimator = TensorFlow(entry_point='train_no_s3.py', \n",
    "                          role=\"arn:aws:iam::963659202518:role/service-role/AmazonSageMaker-ExecutionRole-20210306T191865\",\n",
    "                          #                           role=get_execution_role(),\n",
    "                          instance_count=1, \n",
    "                          instance_type='ml.p3.8xlarge', # ml.m5.large, ml.p3.16xlarge, ml.p3.2xlarge, ml.g4dn.xlarge, ml.p3.8xlarge, p3.2xlarge, ml.t2.micro\n",
    "                          framework_version='2.4', \n",
    "                          base_job_name=job_name,\n",
    "                          output_path='s3://canopy-production-ml-output',\n",
    "                          py_version='py37',\n",
    "                          checkpoint_s3_uri=f's3://canopy-production-ml-output/ckpt/{job_name}-{time.strftime(\"%Y-%m-%d-%H-%M-%S\", time.gmtime())}',\n",
    "                          script_mode=True,\n",
    "                          use_spot_instances=True,        # Use spot instance\n",
    "                          max_run=432000,                    # Max training time\n",
    "                          max_wait=450000,                  # Max training time + spot waiting time\n",
    "                            subnets=[\"subnet-815befde\"],\n",
    "                              security_group_ids=[\"sg-0df3ac3b4c291c080\"],\n",
    "                          hyperparameters={'training_file':training_file, \n",
    "                                           'validation_file': validation_file,\n",
    "#                                            'bucket':\"margaux-bucket-us-east-1\",\n",
    "                                           'epochs': 200, 'augment': True, 'batch-size': 300,\n",
    "                                           'learning-rate': 0.001, 'numclasses': 10,\n",
    "                                           'wandb_key': \"abfa0dec9fc06fbfa6392496f40a22a8d47e58cf\",\n",
    "                                           's3_chkpt_dir':\"ckpt\",\n",
    "                                           'bands': \"2 3 4 8 12\",\n",
    "                                          'starting_checkpoint':None\n",
    "                                          }\n",
    "                         )"
   ]
  },
  {
   "cell_type": "code",
   "execution_count": null,
   "metadata": {},
   "outputs": [
    {
     "name": "stdout",
     "output_type": "stream",
     "text": [
      "2021-03-25 02:56:39 Starting - Starting the training job...\n",
      "2021-03-25 02:57:02 Starting - Launching requested ML instancesProfilerReport-1616640997: InProgress\n",
      "........"
     ]
    }
   ],
   "source": [
    "tf_estimator.fit(fsx_data_obj)"
   ]
  },
  {
   "cell_type": "code",
   "execution_count": null,
   "metadata": {},
   "outputs": [],
   "source": []
  }
 ],
 "metadata": {
  "kernelspec": {
   "display_name": "ml-conda",
   "language": "python",
   "name": "ml-conda"
  },
  "language_info": {
   "codemirror_mode": {
    "name": "ipython",
    "version": 3
   },
   "file_extension": ".py",
   "mimetype": "text/x-python",
   "name": "python",
   "nbconvert_exporter": "python",
   "pygments_lexer": "ipython3",
   "version": "3.7.7"
  }
 },
 "nbformat": 4,
 "nbformat_minor": 4
}
