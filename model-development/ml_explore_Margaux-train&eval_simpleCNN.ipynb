{
 "cells": [
  {
   "cell_type": "markdown",
   "metadata": {
    "id": "A8gXtOvgfY1v"
   },
   "source": [
    "## Imports"
   ]
  },
  {
   "cell_type": "code",
   "execution_count": 1,
   "metadata": {
    "colab": {
     "base_uri": "https://localhost:8080/"
    },
    "id": "rYyPKRVufY11",
    "outputId": "38b5159e-770a-4ca7-d4c7-33c628298ca8"
   },
   "outputs": [
    {
     "name": "stderr",
     "output_type": "stream",
     "text": [
      "Using TensorFlow backend.\n"
     ]
    },
    {
     "name": "stdout",
     "output_type": "stream",
     "text": [
      "2.4.0\n"
     ]
    }
   ],
   "source": [
    "# import plaidml.keras\n",
    "# plaidml.keras.install_backend()\n",
    "import wandb\n",
    "import os\n",
    "import multiprocessing\n",
    "import rasterio\n",
    "import tensorflow as tf\n",
    "from glob import glob\n",
    "import pickle\n",
    "import numpy as np\n",
    "import os\n",
    "from tensorflow.keras.models import *\n",
    "from tensorflow.keras.layers import *\n",
    "from tensorflow.keras import layers\n",
    "from tensorflow_addons.metrics import F1Score, HammingLoss\n",
    "from tensorflow_addons.losses import SigmoidFocalCrossEntropy\n",
    "from tensorflow.keras.losses import CategoricalCrossentropy, BinaryCrossentropy\n",
    "\n",
    "import keras\n",
    "import pandas as pd\n",
    "import matplotlib.pyplot as plt\n",
    "import random\n",
    "import time\n",
    "np.set_printoptions(suppress=True)\n",
    "np.set_printoptions(precision=6)\n",
    "print(tf.__version__)"
   ]
  },
  {
   "cell_type": "markdown",
   "metadata": {
    "id": "d8jjb7jLfY12"
   },
   "source": [
    "### Test with Simple CNN and Data Loader "
   ]
  },
  {
   "cell_type": "code",
   "execution_count": 2,
   "metadata": {
    "id": "V7vK3XYAfY12"
   },
   "outputs": [],
   "source": [
    "import boto3\n",
    "import rasterio as rio\n",
    "import numpy as np\n",
    "import io"
   ]
  },
  {
   "cell_type": "code",
   "execution_count": 3,
   "metadata": {
    "id": "LSEOQKhQfY12"
   },
   "outputs": [
    {
     "name": "stderr",
     "output_type": "stream",
     "text": [
      "\u001b[34m\u001b[1mwandb\u001b[0m: \u001b[33mWARNING\u001b[0m Keras version 2.2.4 is not fully supported. Required keras >= 2.4.0\n"
     ]
    }
   ],
   "source": [
    "from dataloader import DataLoader"
   ]
  },
  {
   "cell_type": "code",
   "execution_count": 4,
   "metadata": {},
   "outputs": [
    {
     "name": "stderr",
     "output_type": "stream",
     "text": [
      "\u001b[34m\u001b[1mwandb\u001b[0m: Currently logged in as: \u001b[33mmargauxmforsythe\u001b[0m (use `wandb login --relogin` to force relogin)\n",
      "\u001b[34m\u001b[1mwandb\u001b[0m: wandb version 0.10.25 is available!  To upgrade, please run:\n",
      "\u001b[34m\u001b[1mwandb\u001b[0m:  $ pip install wandb --upgrade\n"
     ]
    },
    {
     "data": {
      "text/html": [
       "\n",
       "                Tracking run with wandb version 0.10.21<br/>\n",
       "                Syncing run <strong style=\"color:#cdcd00\">quiet-gorge-182</strong> to <a href=\"https://wandb.ai\" target=\"_blank\">Weights & Biases</a> <a href=\"https://docs.wandb.com/integrations/jupyter.html\" target=\"_blank\">(Documentation)</a>.<br/>\n",
       "                Project page: <a href=\"https://wandb.ai/margauxmforsythe/project_canopy\" target=\"_blank\">https://wandb.ai/margauxmforsythe/project_canopy</a><br/>\n",
       "                Run page: <a href=\"https://wandb.ai/margauxmforsythe/project_canopy/runs/19o6iefo\" target=\"_blank\">https://wandb.ai/margauxmforsythe/project_canopy/runs/19o6iefo</a><br/>\n",
       "                Run data is saved locally in <code>/Users/margauxmforstyhe/Desktop/workspace/ProjectCanopy/cb_feature_detection/model-development/wandb/run-20210407_085344-19o6iefo</code><br/><br/>\n",
       "            "
      ],
      "text/plain": [
       "<IPython.core.display.HTML object>"
      ]
     },
     "metadata": {},
     "output_type": "display_data"
    }
   ],
   "source": [
    "import wandb\n",
    "from wandb.keras import WandbCallback \n",
    "\n",
    "wandb.init(project='project_canopy', sync_tensorboard=True)\n",
    "config = wandb.config"
   ]
  },
  {
   "cell_type": "code",
   "execution_count": 5,
   "metadata": {},
   "outputs": [],
   "source": [
    "class DataLoader:\n",
    "    def __init__(self,\n",
    "                 training_dir=\"/Users/margauxmforstyhe/Desktop/DatasetV2_PC/chips/cloudfree-merge-polygons/dataset_v2/\",\n",
    "                 label_file_path_train=\"labels_test_v1.csv\",\n",
    "                 label_file_path_val=\"labels_val.csv\",\n",
    "#                  bucket_name='canopy-production-ml',\n",
    "                 data_extension_type='.tif',\n",
    "                 bands=[1, 2, 3, 4, 5, 6, 7, 8, 9, 10, 11, 12, 13, 14, 15, 16, 17, 18],\n",
    "                 augment=False,\n",
    "                 enable_shuffle=False,\n",
    "                 training_data_shuffle_buffer_size=1000,\n",
    "                 training_data_batch_size=20,\n",
    "                 enable_data_prefetch=False,\n",
    "                 data_prefetch_size=tf.data.experimental.AUTOTUNE,\n",
    "                 num_parallel_calls=tf.data.AUTOTUNE,\n",
    "                 output_shape=(tf.float32, tf.float32)):\n",
    "\n",
    "#         self.bucket_name = bucket_name\n",
    "\n",
    "        self.label_file_path_train = label_file_path_train\n",
    "        self.label_file_path_val = label_file_path_val\n",
    "\n",
    "        print(f\"label_file_path_train: {self.label_file_path_train}\")\n",
    "        print(f\"labels_file_val: {self.label_file_path_val}\")\n",
    "        self.labels_file_train = pd.read_csv(self.label_file_path_train)\n",
    "        self.labels_file_val = pd.read_csv(self.label_file_path_val)\n",
    "        self.training_filenames = self.labels_file_train.paths.to_list()\n",
    "\n",
    "        self.labels_file_val = pd.read_csv(self.label_file_path_val)\n",
    "        self.validation_filenames = self.labels_file_val.paths.to_list()\n",
    "\n",
    "        self.bands = bands\n",
    "        self.augment = augment\n",
    "        self.local_path_train = training_dir\n",
    "\n",
    "        self.enable_shuffle = enable_shuffle\n",
    "        if training_data_shuffle_buffer_size is not None:\n",
    "            self.training_data_shuffle_buffer_size = training_data_shuffle_buffer_size\n",
    "\n",
    "        self.num_parallel_calls = num_parallel_calls\n",
    "        self.enable_data_prefetch = enable_data_prefetch\n",
    "        self.data_prefetch_size = data_prefetch_size\n",
    "        self.data_extension_type = data_extension_type\n",
    "        self.output_shape = output_shape\n",
    "\n",
    "        self.training_data_batch_size = training_data_batch_size\n",
    "\n",
    "        self.build_training_dataset()\n",
    "        self.build_validation_dataset()\n",
    "\n",
    "    def build_training_dataset(self):\n",
    "        # Tensor of all the paths to the images\n",
    "        self.training_dataset = tf.data.Dataset.from_tensor_slices(self.training_filenames)\n",
    "\n",
    "        # If data augmentation\n",
    "        if self.augment is True:\n",
    "            # https://stackoverflow.com/questions/61760235/data-augmentation-on-tf-dataset-dataset\n",
    "            print(\"Data augmentation enabled\")\n",
    "            \n",
    "            self.training_dataset = self.training_dataset.map((\n",
    "                lambda x: tf.py_function(self.process_path, [x], self.output_shape)),\n",
    "                num_parallel_calls=self.num_parallel_calls).map(\n",
    "            lambda image, label: (tf.image.random_flip_left_right(image), label)\n",
    "            ).map(\n",
    "            lambda image, label: (tf.image.random_flip_up_down(image), label)\n",
    "            ).repeat(3)\n",
    "            \n",
    "            self.length_training_dataset = len(self.training_filenames) * 3\n",
    "            print(f\"Training on {self.length_training_dataset} images\")\n",
    "        else:\n",
    "            print(\"No data augmentation. Please set augment to True if you want to augment training dataset\")\n",
    "            self.training_dataset = self.training_dataset.map((\n",
    "                lambda x: tf.py_function(self.process_path, [x], self.output_shape)),\n",
    "                num_parallel_calls=self.num_parallel_calls)\n",
    "            self.length_training_dataset = len(self.training_filenames)\n",
    "            print(f\"Training on {self.length_training_dataset} images\")\n",
    "\n",
    "        # Randomly shuffles the elements of this dataset.\n",
    "        # This dataset fills a buffer with `buffer_size` elements, then randomly\n",
    "        # samples elements from this buffer, replacing the selected elements with new\n",
    "        # elements. For perfect shuffling, a buffer size greater than or equal to the\n",
    "        # full size of the dataset is required.\n",
    "        if self.enable_shuffle is True:\n",
    "            if self.training_data_shuffle_buffer_size is None:\n",
    "                self.training_data_shuffle_buffer_size = len(self.length_training_dataset)\n",
    "            self.training_dataset = self.training_dataset.shuffle(self.training_data_shuffle_buffer_size,\n",
    "                                                                  reshuffle_each_iteration=True\n",
    "                                                                  # controls whether the shuffle order should be different for each epoch\n",
    "                                                                  )\n",
    "\n",
    "        if self.training_data_batch_size is not None:\n",
    "            # Combines consecutive elements of this dataset into batches\n",
    "            self.training_dataset = self.training_dataset.batch(self.training_data_batch_size)\n",
    "\n",
    "        # Most dataset input pipelines should end with a call to `prefetch`. This\n",
    "        # allows later elements to be prepared while the current element is being\n",
    "        # processed. This often improves latency and throughput, at the cost of\n",
    "        # using additional memory to store prefetched elements.\n",
    "        if self.enable_data_prefetch:\n",
    "            self.training_dataset = self.training_dataset.prefetch(self.data_prefetch_size)\n",
    "\n",
    "    def build_validation_dataset(self):\n",
    "        self.validation_dataset = tf.data.Dataset.from_tensor_slices(list(self.validation_filenames))\n",
    "        self.validation_dataset = self.validation_dataset.map(\n",
    "            (lambda x: tf.py_function(self.process_path, [x], self.output_shape)),\n",
    "            num_parallel_calls=self.num_parallel_calls)\n",
    "\n",
    "        self.validation_dataset = self.validation_dataset.batch(self.training_data_batch_size)\n",
    "        print(f\"Validation on {len(self.validation_filenames)} images \")\n",
    "\n",
    "    def read_image(self, path_img):\n",
    "        path_to_img = self.local_path_train + \"/\" + path_img.numpy().decode()\n",
    "        train_img = np.transpose(rasterio.open(path_to_img).read(self.bands), (1, 2, 0))\n",
    "        # Normalize image\n",
    "        train_img = tf.image.convert_image_dtype(train_img, tf.float32)\n",
    "        return train_img\n",
    "    \n",
    "\n",
    "    def get_label_from_csv(self, path_img):\n",
    "        # testing if path in the training csv file or in the val one\n",
    "        if path_img.numpy().decode() in self.labels_file_train.paths.to_list():\n",
    "            ### Training csv\n",
    "            # path_img is a tf.string and needs to be converted into a string using .numpy().decode()\n",
    "            id = int(self.labels_file_train[self.labels_file_train.paths == path_img.numpy().decode()].index.values[0])\n",
    "            # The list of labels (e.g [0,1,0,0,0,0,0,0,0,0] is grabbed from the csv file on the row where the s3 path is\n",
    "            label = self.labels_file_train.drop('paths', 1).iloc[int(id)].to_list()\n",
    "        else:\n",
    "            ### Validation csv\n",
    "            # path_img is a tf.string and needs to be converted into a string using .numpy().decode()\n",
    "            id = int(self.labels_file_val[self.labels_file_val.paths == path_img.numpy().decode()].index.values[0])\n",
    "            # The list of labels (e.g [0,1,0,0,0,0,0,0,0,0] is grabbed from the csv file on the row where the s3 path is\n",
    "            label = self.labels_file_val.drop('paths', 1).iloc[int(id)].to_list()\n",
    "        return label\n",
    "\n",
    "    # Function used in the map() and returns the image and label corresponding to the file_path input\n",
    "    def process_path(self, file_path):\n",
    "        label = self.get_label_from_csv(file_path)\n",
    "        img = self.read_image(file_path)\n",
    "        return img, label"
   ]
  },
  {
   "cell_type": "code",
   "execution_count": 6,
   "metadata": {},
   "outputs": [
    {
     "name": "stdout",
     "output_type": "stream",
     "text": [
      "batch size 64, learning_rate 0.001, augment False\n"
     ]
    }
   ],
   "source": [
    "# Variables definition\n",
    "config.batch_size = 64\n",
    "config.learning_rate = 0.001\n",
    "config.label_file_path_train=\"data/new_train_labels_v5_10_percent.csv\" # labels_1_4_train_v2\n",
    "config.label_file_path_val=\"data/new_val_labels_v5_10000.csv\"\n",
    "config.loss = SigmoidFocalCrossEntropy() # tf.keras.losses.BinaryCrossentropy(from_logits=False)\n",
    "config.optimizer = keras.optimizers.Adam(config.learning_rate)\n",
    "config.input_shape = (100,100,5)\n",
    "config.numclasses=5\n",
    "\n",
    "config.augment = False\n",
    "config.enable_shuffle=True\n",
    "\n",
    "print(f\"batch size {config.batch_size}, learning_rate {config.learning_rate}, augment {config.augment}\")"
   ]
  },
  {
   "cell_type": "code",
   "execution_count": 7,
   "metadata": {
    "colab": {
     "base_uri": "https://localhost:8080/"
    },
    "id": "AjosfRxQfY12",
    "outputId": "3615ff29-b3d9-4652-d971-3eca3e74c313"
   },
   "outputs": [
    {
     "name": "stdout",
     "output_type": "stream",
     "text": [
      "label_file_path_train: data/new_train_labels_v5_10_percent.csv\n",
      "labels_file_val: data/new_val_labels_v5_10000.csv\n",
      "No data augmentation. Please set augment to True if you want to augment training dataset\n",
      "Training on 21428 images\n",
      "Validation on 10714 images \n"
     ]
    }
   ],
   "source": [
    "bands = [2, 3, 4, 8, 18]\n",
    "gen = DataLoader(label_file_path_train=config.label_file_path_train, # test labels_test_v1 TODO use s3 paths\n",
    "                label_file_path_val=config.label_file_path_val, # or val_all\n",
    "#                 bucket_name='canopy-production-ml/chips/cloudfree-merge-polygons/dataset_v2',\n",
    "                data_extension_type='.tif',\n",
    "                bands=bands,\n",
    "                augment=config.augment,\n",
    "                enable_shuffle=config.enable_shuffle,\n",
    "                training_data_batch_size=config.batch_size,\n",
    "                enable_data_prefetch=True\n",
    "                )\n"
   ]
  },
  {
   "cell_type": "code",
   "execution_count": 8,
   "metadata": {
    "id": "x5Pwm2IFfY16"
   },
   "outputs": [],
   "source": [
    "def plot_learningCurve(history):\n",
    "  # Plot training & validation accuracy values\n",
    "  plt.plot(history.history['accuracy'])\n",
    "#   plt.plot(history.history['val_accuracy'])\n",
    "  plt.title('Model accuracy')\n",
    "  plt.ylabel('Accuracy')\n",
    "  plt.xlabel('Epoch')\n",
    "  plt.legend(['Train'], loc='upper left')\n",
    "  plt.show()\n",
    "\n",
    "  # Plot training & validation loss values\n",
    "  plt.plot(history.history['loss'])\n",
    "#   plt.plot(history.history['val_loss'])\n",
    "  plt.title('Model loss')\n",
    "  plt.ylabel('Loss')\n",
    "  plt.xlabel('Epoch')\n",
    "  plt.legend(['Train'], loc='upper left')\n",
    "  plt.show()\n",
    "  \n",
    "  plt.plot(history.history['val_loss'])\n",
    "  plt.title('Model loss')\n",
    "  plt.ylabel('Loss')\n",
    "  plt.xlabel('Epoch')\n",
    "  plt.legend(['Val'], loc='upper left')\n",
    "  plt.show()\n",
    "\n",
    "  plt.plot(history.history['val_accuracy'])\n",
    "  plt.title('Model accuracy')\n",
    "  plt.ylabel('Accuracy')\n",
    "  plt.xlabel('Epoch')\n",
    "  plt.legend(['Val'], loc='upper left')\n",
    "  plt.show()\n",
    "\n",
    "\n"
   ]
  },
  {
   "cell_type": "markdown",
   "metadata": {
    "id": "D_uYgh5vfY17"
   },
   "source": [
    "## PREPRODUCTION Candidate: ResNet50 pretrained on ImageNet"
   ]
  },
  {
   "cell_type": "markdown",
   "metadata": {
    "id": "Mf6ku3ijfY17"
   },
   "source": [
    "### Build model"
   ]
  },
  {
   "cell_type": "code",
   "execution_count": 9,
   "metadata": {
    "id": "VdfO-zQJfY17"
   },
   "outputs": [],
   "source": [
    "  def define_model(numclasses, input_shape, starting_checkpoint=None, lcl_chkpt_dir=None):\n",
    "        # parameters for CNN\n",
    "        input_tensor = Input(shape=input_shape)\n",
    "\n",
    "        # introduce a additional layer to get from bands to 3 input channels\n",
    "        input_tensor = Conv2D(3, (1, 1))(input_tensor)\n",
    "\n",
    "        base_model_resnet50 = tf.keras.applications.ResNet50(include_top=False,\n",
    "                                                          weights='imagenet',\n",
    "                                                          input_shape=(100, 100, 3))\n",
    "        base_model = tf.keras.applications.ResNet50(include_top=False,\n",
    "                                                 weights=None,\n",
    "                                                 input_tensor=input_tensor)\n",
    "\n",
    "        for i, layer in enumerate(base_model_resnet50.layers):\n",
    "            # we must skip input layer, which has no weights\n",
    "            if i == 0:\n",
    "                continue\n",
    "            base_model.layers[i + 1].set_weights(layer.get_weights())\n",
    "\n",
    "        # add a global spatial average pooling layer\n",
    "        top_model = base_model.output\n",
    "        top_model = GlobalAveragePooling2D()(top_model)\n",
    "\n",
    "        # let's add a fully-connected layer\n",
    "        top_model = Dense(2048, activation='relu')(top_model)\n",
    "        top_model = Dense(2048, activation='relu')(top_model)\n",
    "        # and a logistic layer  \n",
    "        predictions = Dense(numclasses, activation=\"sigmoid\")(top_model)\n",
    "        \n",
    "\n",
    "        # this is the model we will train\n",
    "        model = Model(inputs=base_model.input, outputs=predictions)\n",
    "#         model.summary()\n",
    "\n",
    "        return model"
   ]
  },
  {
   "cell_type": "code",
   "execution_count": 10,
   "metadata": {},
   "outputs": [],
   "source": [
    "def Simple_CNN(numclasses, input_shape): #TODO use a more complex CNN\n",
    "        model = Sequential([\n",
    "            layers.Input(input_shape),\n",
    "            layers.Conv2D(16, 3, padding='same', activation='relu'),\n",
    "            layers.MaxPooling2D(),\n",
    "            layers.Conv2D(32, 3, padding='same', activation='relu'),\n",
    "            layers.MaxPooling2D(),\n",
    "            layers.Conv2D(64, 3, padding='same', activation='relu'),\n",
    "            layers.MaxPooling2D(),\n",
    "            layers.Flatten(),\n",
    "            layers.Dense(128, activation='relu'),\n",
    "            layers.Dense(numclasses, activation=\"softmax\")\n",
    "        ])\n",
    "        return model"
   ]
  },
  {
   "cell_type": "code",
   "execution_count": 11,
   "metadata": {},
   "outputs": [],
   "source": [
    "# def define_model_VGG16(numclasses, input_shape): \n",
    "#     model = Sequential([\n",
    "#         layers.Input(input_shape),\n",
    "#         layers.Conv2D(64, 3, padding='same', activation='relu'),\n",
    "#         layers.Conv2D(64, 3, padding='same', activation='relu'),\n",
    "#         layers.MaxPooling2D(),\n",
    "#         layers.Conv2D(128, 3, padding='same', activation='relu'),\n",
    "#         layers.Conv2D(128, 3, padding='same', activation='relu'),\n",
    "#         layers.MaxPooling2D(),\n",
    "#         layers.Conv2D(256, 3, padding='same', activation='relu'),\n",
    "#         layers.Conv2D(256, 3, padding='same', activation='relu'),\n",
    "#         layers.Conv2D(256, 3, padding='same', activation='relu'),\n",
    "#         layers.MaxPooling2D(),\n",
    "#         layers.Conv2D(512, 3, padding='same', activation='relu'),\n",
    "#         layers.Conv2D(512, 3, padding='same', activation='relu'),\n",
    "#         layers.Conv2D(512, 3, padding='same', activation='relu'),\n",
    "#         layers.MaxPooling2D(),\n",
    "#         layers.Conv2D(512, 3, padding='same', activation='relu'),\n",
    "#         layers.Conv2D(512, 3, padding='same', activation='relu'),\n",
    "#         layers.Conv2D(512, 3, padding='same', activation='relu'),\n",
    "#         layers.MaxPooling2D(),\n",
    "#         layers.Flatten(),\n",
    "#         layers.Dense(256, activation='relu'),\n",
    "#         layers.Dense(numclasses, activation=\"softmax\")\n",
    "#     ])\n",
    "#     return model\n",
    "# model_2 = define_model(config.numclasses, config.input_shape)\n",
    "# model_2.summary()"
   ]
  },
  {
   "cell_type": "code",
   "execution_count": 12,
   "metadata": {
    "id": "nLHatxuSfY17"
   },
   "outputs": [],
   "source": [
    "random_id = random.randint(1,10001) \n",
    "\n",
    "model_checkpoint_callback_loss = tf.keras.callbacks.ModelCheckpoint(\n",
    "  filepath= f'checkpoint_loss.h5',\n",
    "  format='h5',\n",
    "  verbose=1,\n",
    "  save_weights_only=True,\n",
    "  monitor='val_loss',\n",
    "  mode='min',\n",
    "  save_best_only=True)\n",
    "\n",
    "model_checkpoint_callback_recall = tf.keras.callbacks.ModelCheckpoint(\n",
    "  filepath= f'checkpoint_recall.h5',\n",
    "  format='h5',\n",
    "  verbose=1,\n",
    "  save_weights_only=True,\n",
    "  monitor='val_recall',\n",
    "  mode='max',\n",
    "  save_best_only=True)\n",
    "\n",
    "model_checkpoint_callback_precision = tf.keras.callbacks.ModelCheckpoint(\n",
    "  filepath= f'checkpoint_precision.h5',\n",
    "  format='h5',\n",
    "  verbose=1,\n",
    "  save_weights_only=True,\n",
    "  monitor='val_precision',\n",
    "  mode='max',\n",
    "  save_best_only=True)\n",
    "\n",
    "early_stop = tf.keras.callbacks.EarlyStopping(monitor='val_precision', mode='max', patience=20, verbose=1)\n",
    "    \n",
    "reduce_lr = tf.keras.callbacks.ReduceLROnPlateau(monitor='val_precision',mode='max', factor=0.1,patience=5, min_lr=0.000001, verbose=1)\n",
    "wandb_callback = WandbCallback()\n",
    "\n",
    "callbacks_list = [model_checkpoint_callback_recall, early_stop,reduce_lr, WandbCallback()]\n",
    "\n",
    "model = Simple_CNN(config.numclasses, config.input_shape)\n",
    "# model = define_model(config.numclasses, config.input_shape)\n",
    "\n",
    "# loss=tf.keras.losses.BinaryCrossentropy(from_logits=False), # Computes the cross-entropy loss between true labels and predicted labels.\n",
    "# Focal loss instead of class weights: https://www.dlology.com/blog/multi-class-classification-with-focal-loss-for-imbalanced-datasets/\n",
    "model.compile(loss=BinaryCrossentropy(),\n",
    "                  # https://www.tensorflow.org/addons/api_docs/python/tfa/losses/SigmoidFocalCrossEntropy\n",
    "                  optimizer=tf.keras.optimizers.Adam(config.learning_rate),\n",
    "                  metrics=[tf.metrics.BinaryAccuracy(name='accuracy'),\n",
    "                           tf.keras.metrics.Precision(name='precision'),\n",
    "                           tf.keras.metrics.Precision(class_id=1,name='ISL_precision'),\n",
    "                           # Computes the precision of the predictions with respect to the labels.\n",
    "                           tf.keras.metrics.Recall(name='recall'),\n",
    "                           tf.keras.metrics.Recall(class_id=1,name='ISL_recall'),\n",
    "                           # Computes the recall of the predictions with respect to the labels.\n",
    "                           F1Score(num_classes=config.numclasses, name=\"f1_score\"),\n",
    "#                            tf.keras.metrics.AUC(name=\"auc\")\n",
    "                           ]\n",
    "                  )\n"
   ]
  },
  {
   "cell_type": "markdown",
   "metadata": {
    "id": "mpO3m-etfY18"
   },
   "source": [
    "### Start training"
   ]
  },
  {
   "cell_type": "code",
   "execution_count": 14,
   "metadata": {},
   "outputs": [
    {
     "name": "stdout",
     "output_type": "stream",
     "text": [
      "(64, 100, 100, 5)\n",
      "(64, 5)\n",
      "(64, 100, 100, 5)\n",
      "(64, 5)\n"
     ]
    }
   ],
   "source": [
    "for img, label in gen.training_dataset:\n",
    "    print(img.shape)\n",
    "    print(label.shape)\n",
    "    break\n",
    "for img, label in gen.validation_dataset:\n",
    "    print(img.shape)\n",
    "    print(label.shape)\n",
    "    break"
   ]
  },
  {
   "cell_type": "code",
   "execution_count": 15,
   "metadata": {
    "colab": {
     "base_uri": "https://localhost:8080/"
    },
    "id": "w1T0w5tlfY18",
    "outputId": "15b859a2-b0eb-4f1e-e5d5-cf3f2d9f1855",
    "scrolled": true
   },
   "outputs": [
    {
     "name": "stdout",
     "output_type": "stream",
     "text": [
      "Epoch 1/30\n",
      "335/335 [==============================] - 200s 579ms/step - loss: 0.3612 - accuracy: 0.8568 - precision: 0.4747 - ISL_precision: 0.4745 - recall: 0.1568 - ISL_recall: 0.3367 - f1_score: 0.1437 - val_loss: 0.3207 - val_accuracy: 0.8780 - val_precision: 0.5529 - val_ISL_precision: 0.5587 - val_recall: 0.5040 - val_ISL_recall: 0.9376 - val_f1_score: 0.2474\n",
      "\n",
      "Epoch 00001: val_recall improved from -inf to 0.50401, saving model to checkpoint_recall.h5\n",
      "Epoch 2/30\n",
      "335/335 [==============================] - 212s 620ms/step - loss: 0.3266 - accuracy: 0.8715 - precision: 0.5655 - ISL_precision: 0.5680 - recall: 0.3890 - ISL_recall: 0.7339 - f1_score: 0.3002 - val_loss: 0.2954 - val_accuracy: 0.9002 - val_precision: 0.6586 - val_ISL_precision: 0.6643 - val_recall: 0.5420 - val_ISL_recall: 0.8933 - val_f1_score: 0.3633\n",
      "\n",
      "Epoch 00002: val_recall improved from 0.50401 to 0.54204, saving model to checkpoint_recall.h5\n",
      "Epoch 3/30\n",
      "335/335 [==============================] - 220s 641ms/step - loss: 0.3095 - accuracy: 0.8874 - precision: 0.6349 - ISL_precision: 0.6392 - recall: 0.4772 - ISL_recall: 0.7518 - f1_score: 0.3835 - val_loss: 0.2883 - val_accuracy: 0.8991 - val_precision: 0.6461 - val_ISL_precision: 0.6555 - val_recall: 0.5588 - val_ISL_recall: 0.8982 - val_f1_score: 0.3445\n",
      "\n",
      "Epoch 00003: val_recall improved from 0.54204 to 0.55877, saving model to checkpoint_recall.h5\n",
      "Epoch 4/30\n",
      "335/335 [==============================] - 205s 595ms/step - loss: 0.2801 - accuracy: 0.9061 - precision: 0.7058 - ISL_precision: 0.7052 - recall: 0.5741 - ISL_recall: 0.8140 - f1_score: 0.4463 - val_loss: 0.2758 - val_accuracy: 0.9092 - val_precision: 0.6774 - val_ISL_precision: 0.6870 - val_recall: 0.6251 - val_ISL_recall: 0.8910 - val_f1_score: 0.4111\n",
      "\n",
      "Epoch 00004: val_recall improved from 0.55877 to 0.62514, saving model to checkpoint_recall.h5\n",
      "Epoch 5/30\n",
      "335/335 [==============================] - 201s 587ms/step - loss: 0.2597 - accuracy: 0.9154 - precision: 0.7267 - ISL_precision: 0.7327 - recall: 0.6407 - ISL_recall: 0.8367 - f1_score: 0.4860 - val_loss: 0.2650 - val_accuracy: 0.9211 - val_precision: 0.7184 - val_ISL_precision: 0.7792 - val_recall: 0.6834 - val_ISL_recall: 0.8133 - val_f1_score: 0.4409\n",
      "\n",
      "Epoch 00005: val_recall improved from 0.62514 to 0.68335, saving model to checkpoint_recall.h5\n",
      "Epoch 6/30\n",
      "335/335 [==============================] - 201s 585ms/step - loss: 0.2432 - accuracy: 0.9218 - precision: 0.7416 - ISL_precision: 0.7566 - recall: 0.6860 - ISL_recall: 0.8347 - f1_score: 0.5191 - val_loss: 0.2732 - val_accuracy: 0.9127 - val_precision: 0.6799 - val_ISL_precision: 0.7896 - val_recall: 0.6673 - val_ISL_recall: 0.7460 - val_f1_score: 0.4302\n",
      "\n",
      "Epoch 00006: val_recall did not improve from 0.68335\n",
      "Epoch 7/30\n",
      "335/335 [==============================] - 201s 588ms/step - loss: 0.2286 - accuracy: 0.9286 - precision: 0.7589 - ISL_precision: 0.7633 - recall: 0.7251 - ISL_recall: 0.8612 - f1_score: 0.5625 - val_loss: 0.2904 - val_accuracy: 0.9025 - val_precision: 0.6387 - val_ISL_precision: 0.6551 - val_recall: 0.6401 - val_ISL_recall: 0.9143 - val_f1_score: 0.4223\n",
      "\n",
      "Epoch 00007: val_recall did not improve from 0.68335\n",
      "Epoch 8/30\n",
      "335/335 [==============================] - 201s 585ms/step - loss: 0.2158 - accuracy: 0.9352 - precision: 0.7783 - ISL_precision: 0.7756 - recall: 0.7578 - ISL_recall: 0.8931 - f1_score: 0.6031 - val_loss: 0.2539 - val_accuracy: 0.9247 - val_precision: 0.7184 - val_ISL_precision: 0.8072 - val_recall: 0.7269 - val_ISL_recall: 0.8573 - val_f1_score: 0.4861\n",
      "\n",
      "Epoch 00008: val_recall improved from 0.68335 to 0.72691, saving model to checkpoint_recall.h5\n",
      "Epoch 9/30\n",
      "335/335 [==============================] - 200s 584ms/step - loss: 0.1986 - accuracy: 0.9414 - precision: 0.7948 - ISL_precision: 0.7954 - recall: 0.7866 - ISL_recall: 0.9069 - f1_score: 0.6580 - val_loss: 0.2559 - val_accuracy: 0.9235 - val_precision: 0.7078 - val_ISL_precision: 0.7926 - val_recall: 0.7385 - val_ISL_recall: 0.8884 - val_f1_score: 0.4455cy: 0.9414 - precision: 0.7947 - ISL_precision: 0.7953 - recall: 0.7866 - ISL_recall: 0.9069 - f1_score: 0.\n",
      "\n",
      "Epoch 00009: val_recall improved from 0.72691 to 0.73852, saving model to checkpoint_recall.h5\n",
      "Epoch 10/30\n",
      "335/335 [==============================] - 199s 581ms/step - loss: 0.1902 - accuracy: 0.9454 - precision: 0.8093 - ISL_precision: 0.8062 - recall: 0.8029 - ISL_recall: 0.9155 - f1_score: 0.6781 - val_loss: 0.2705 - val_accuracy: 0.9211 - val_precision: 0.6984 - val_ISL_precision: 0.7878 - val_recall: 0.7316 - val_ISL_recall: 0.8855 - val_f1_score: 0.4664\n",
      "\n",
      "Epoch 00010: val_recall did not improve from 0.73852\n",
      "\n",
      "Epoch 00010: ReduceLROnPlateau reducing learning rate to 0.00010000000474974513.\n",
      "Epoch 11/30\n",
      "335/335 [==============================] - 222s 650ms/step - loss: 0.1672 - accuracy: 0.9549 - precision: 0.8369 - ISL_precision: 0.8286 - recall: 0.8450 - ISL_recall: 0.9518 - f1_score: 0.6969 - val_loss: 0.2631 - val_accuracy: 0.9246 - val_precision: 0.7103 - val_ISL_precision: 0.7890 - val_recall: 0.7450 - val_ISL_recall: 0.8996 - val_f1_score: 0.4760accuracy: 0.9548 - precision: 0.8365 - ISL_precision: 0.8282 - recall: 0.8448 - ISL_recall: 0.9517 - f\n",
      "\n",
      "Epoch 00011: val_recall improved from 0.73852 to 0.74502, saving model to checkpoint_recall.h5\n",
      "Epoch 12/30\n",
      "335/335 [==============================] - 235s 688ms/step - loss: 0.1606 - accuracy: 0.9569 - precision: 0.8437 - ISL_precision: 0.8436 - recall: 0.8531 - ISL_recall: 0.9525 - f1_score: 0.7129 - val_loss: 0.2685 - val_accuracy: 0.9255 - val_precision: 0.7126 - val_ISL_precision: 0.7955 - val_recall: 0.7512 - val_ISL_recall: 0.9174 - val_f1_score: 0.4921\n",
      "\n",
      "Epoch 00012: val_recall improved from 0.74502 to 0.75124, saving model to checkpoint_recall.h5\n",
      "Epoch 13/30\n",
      "335/335 [==============================] - 255s 739ms/step - loss: 0.1578 - accuracy: 0.9578 - precision: 0.8487 - ISL_precision: 0.8466 - recall: 0.8542 - ISL_recall: 0.9537 - f1_score: 0.7124 - val_loss: 0.2709 - val_accuracy: 0.9250 - val_precision: 0.7110 - val_ISL_precision: 0.8128 - val_recall: 0.7482 - val_ISL_recall: 0.8941 - val_f1_score: 0.4921\n",
      "\n",
      "Epoch 00013: val_recall did not improve from 0.75124\n",
      "Epoch 14/30\n",
      "335/335 [==============================] - 226s 659ms/step - loss: 0.1557 - accuracy: 0.9581 - precision: 0.8487 - ISL_precision: 0.8483 - recall: 0.8560 - ISL_recall: 0.9543 - f1_score: 0.7161 - val_loss: 0.2727 - val_accuracy: 0.9252 - val_precision: 0.7117 - val_ISL_precision: 0.8048 - val_recall: 0.7493 - val_ISL_recall: 0.9062 - val_f1_score: 0.4917\n",
      "\n",
      "Epoch 00014: val_recall did not improve from 0.75124\n",
      "Epoch 15/30\n",
      "335/335 [==============================] - 222s 648ms/step - loss: 0.1546 - accuracy: 0.9590 - precision: 0.8523 - ISL_precision: 0.8496 - recall: 0.8584 - ISL_recall: 0.9591 - f1_score: 0.7148 - val_loss: 0.2751 - val_accuracy: 0.9246 - val_precision: 0.7092 - val_ISL_precision: 0.8101 - val_recall: 0.7485 - val_ISL_recall: 0.9022 - val_f1_score: 0.4888\n",
      "\n",
      "Epoch 00015: val_recall did not improve from 0.75124\n",
      "\n",
      "Epoch 00015: ReduceLROnPlateau reducing learning rate to 1.0000000474974514e-05.\n",
      "Epoch 16/30\n",
      "335/335 [==============================] - 229s 669ms/step - loss: 0.1509 - accuracy: 0.9597 - precision: 0.8543 - ISL_precision: 0.8528 - recall: 0.8616 - ISL_recall: 0.9593 - f1_score: 0.7229 - val_loss: 0.2752 - val_accuracy: 0.9248 - val_precision: 0.7100 - val_ISL_precision: 0.8057 - val_recall: 0.7483 - val_ISL_recall: 0.9019 - val_f1_score: 0.4890\n",
      "\n",
      "Epoch 00016: val_recall did not improve from 0.75124\n",
      "Epoch 17/30\n",
      "335/335 [==============================] - 233s 683ms/step - loss: 0.1508 - accuracy: 0.9597 - precision: 0.8541 - ISL_precision: 0.8547 - recall: 0.8613 - ISL_recall: 0.9611 - f1_score: 0.7183 - val_loss: 0.2757 - val_accuracy: 0.9246 - val_precision: 0.7094 - val_ISL_precision: 0.8047 - val_recall: 0.7475 - val_ISL_recall: 0.9019 - val_f1_score: 0.4831\n",
      "\n",
      "Epoch 00017: val_recall did not improve from 0.75124\n",
      "Epoch 18/30\n",
      "335/335 [==============================] - 241s 701ms/step - loss: 0.1516 - accuracy: 0.9590 - precision: 0.8533 - ISL_precision: 0.8503 - recall: 0.8576 - ISL_recall: 0.9599 - f1_score: 0.7190 - val_loss: 0.2762 - val_accuracy: 0.9247 - val_precision: 0.7093 - val_ISL_precision: 0.8047 - val_recall: 0.7488 - val_ISL_recall: 0.9033 - val_f1_score: 0.4846\n",
      "\n",
      "Epoch 00018: val_recall did not improve from 0.75124\n",
      "Epoch 19/30\n",
      "335/335 [==============================] - 231s 674ms/step - loss: 0.1496 - accuracy: 0.9602 - precision: 0.8559 - ISL_precision: 0.8562 - recall: 0.8638 - ISL_recall: 0.9633 - f1_score: 0.7201 - val_loss: 0.2765 - val_accuracy: 0.9247 - val_precision: 0.7094 - val_ISL_precision: 0.8047 - val_recall: 0.7494 - val_ISL_recall: 0.9045 - val_f1_score: 0.4826\n",
      "\n",
      "Epoch 00019: val_recall did not improve from 0.75124\n",
      "Epoch 20/30\n",
      "335/335 [==============================] - 234s 682ms/step - loss: 0.1501 - accuracy: 0.9599 - precision: 0.8568 - ISL_precision: 0.8540 - recall: 0.8605 - ISL_recall: 0.9623 - f1_score: 0.7232 - val_loss: 0.2770 - val_accuracy: 0.9243 - val_precision: 0.7087 - val_ISL_precision: 0.8054 - val_recall: 0.7459 - val_ISL_recall: 0.9025 - val_f1_score: 0.4838\n",
      "\n",
      "Epoch 00020: val_recall did not improve from 0.75124\n",
      "\n",
      "Epoch 00020: ReduceLROnPlateau reducing learning rate to 1.0000000656873453e-06.\n",
      "Epoch 21/30\n",
      "335/335 [==============================] - 233s 681ms/step - loss: 0.1501 - accuracy: 0.9604 - precision: 0.8564 - ISL_precision: 0.8530 - recall: 0.8634 - ISL_recall: 0.9663 - f1_score: 0.7222 - val_loss: 0.2771 - val_accuracy: 0.9241 - val_precision: 0.7077 - val_ISL_precision: 0.8048 - val_recall: 0.7459 - val_ISL_recall: 0.9016 - val_f1_score: 0.4872\n",
      "\n",
      "Epoch 00021: val_recall did not improve from 0.75124\n",
      "Epoch 22/30\n",
      "335/335 [==============================] - 231s 675ms/step - loss: 0.1499 - accuracy: 0.9602 - precision: 0.8559 - ISL_precision: 0.8523 - recall: 0.8629 - ISL_recall: 0.9651 - f1_score: 0.7195 - val_loss: 0.2772 - val_accuracy: 0.9242 - val_precision: 0.7081 - val_ISL_precision: 0.8059 - val_recall: 0.7463 - val_ISL_recall: 0.9016 - val_f1_score: 0.4853\n",
      "\n",
      "Epoch 00022: val_recall did not improve from 0.75124\n",
      "Epoch 23/30\n",
      "335/335 [==============================] - 230s 666ms/step - loss: 0.1497 - accuracy: 0.9605 - precision: 0.8576 - ISL_precision: 0.8557 - recall: 0.8633 - ISL_recall: 0.9644 - f1_score: 0.7180 - val_loss: 0.2773 - val_accuracy: 0.9240 - val_precision: 0.7072 - val_ISL_precision: 0.8050 - val_recall: 0.7463 - val_ISL_recall: 0.9016 - val_f1_score: 0.4849\n",
      "\n",
      "Epoch 00023: val_recall did not improve from 0.75124\n",
      "Epoch 24/30\n",
      "335/335 [==============================] - 217s 630ms/step - loss: 0.1494 - accuracy: 0.9601 - precision: 0.8556 - ISL_precision: 0.8537 - recall: 0.8637 - ISL_recall: 0.9635 - f1_score: 0.7197 - val_loss: 0.2773 - val_accuracy: 0.9241 - val_precision: 0.7077 - val_ISL_precision: 0.8059 - val_recall: 0.7463 - val_ISL_recall: 0.9016 - val_f1_score: 0.4848\n",
      "\n",
      "Epoch 00024: val_recall did not improve from 0.75124\n",
      "Epoch 25/30\n",
      "335/335 [==============================] - 224s 653ms/step - loss: 0.1496 - accuracy: 0.9603 - precision: 0.8558 - ISL_precision: 0.8548 - recall: 0.8643 - ISL_recall: 0.9637 - f1_score: 0.7197 - val_loss: 0.2774 - val_accuracy: 0.9241 - val_precision: 0.7074 - val_ISL_precision: 0.8050 - val_recall: 0.7463 - val_ISL_recall: 0.9016 - val_f1_score: 0.4848\n",
      "\n",
      "Epoch 00025: val_recall did not improve from 0.75124\n",
      "\n",
      "Epoch 00025: ReduceLROnPlateau reducing learning rate to 1e-06.\n",
      "Epoch 00025: early stopping\n"
     ]
    }
   ],
   "source": [
    "epochs = 30\n",
    "history = model.fit(gen.training_dataset, \n",
    "                    validation_data=gen.validation_dataset, \n",
    "                    epochs=epochs, \n",
    "                    callbacks=callbacks_list\n",
    "                   ) \n",
    "model.save('./model.h5')"
   ]
  },
  {
   "cell_type": "code",
   "execution_count": 16,
   "metadata": {},
   "outputs": [
    {
     "name": "stdout",
     "output_type": "stream",
     "text": [
      "168/168 [==============================] - 59s 351ms/step - loss: 0.2774 - accuracy: 0.9241 - precision: 0.7074 - ISL_precision: 0.8050 - recall: 0.7463 - ISL_recall: 0.9016 - f1_score: 0.4848\n"
     ]
    },
    {
     "data": {
      "text/plain": [
       "[0.2773585915565491,\n",
       " 0.9240806102752686,\n",
       " 0.7074321508407593,\n",
       " 0.8050346970558167,\n",
       " 0.7462666034698486,\n",
       " 0.9016110301017761,\n",
       " array([0.671849, 0.848233, 0.224215, 0.207275, 0.472472], dtype=float32)]"
      ]
     },
     "execution_count": 16,
     "metadata": {},
     "output_type": "execute_result"
    }
   ],
   "source": [
    "model.evaluate(gen.validation_dataset) "
   ]
  },
  {
   "cell_type": "markdown",
   "metadata": {
    "id": "wlnMosA3fY19"
   },
   "source": [
    "Evaluation"
   ]
  },
  {
   "cell_type": "code",
   "execution_count": 17,
   "metadata": {
    "id": "zzTBEg-ufY19"
   },
   "outputs": [
    {
     "name": "stdout",
     "output_type": "stream",
     "text": [
      "168/168 [==============================] - 60s 349ms/step - loss: 0.2640 - accuracy: 0.9273 - precision: 0.7196 - ISL_precision: 0.7977 - recall: 0.7541 - ISL_recall: 0.9177 - f1_score: 0.5020\n"
     ]
    },
    {
     "data": {
      "text/plain": [
       "[0.26849085092544556,\n",
       " 0.9255180358886719,\n",
       " 0.7126180529594421,\n",
       " 0.7954602241516113,\n",
       " 0.7512444853782654,\n",
       " 0.9174338579177856,\n",
       " array([0.674727, 0.846346, 0.242718, 0.224796, 0.472046], dtype=float32)]"
      ]
     },
     "execution_count": 17,
     "metadata": {},
     "output_type": "execute_result"
    }
   ],
   "source": [
    "model_test = Simple_CNN(config.numclasses, config.input_shape)\n",
    "model_test.compile(loss=BinaryCrossentropy(),\n",
    "                  # https://www.tensorflow.org/addons/api_docs/python/tfa/losses/SigmoidFocalCrossEntropy\n",
    "                  optimizer=tf.keras.optimizers.Adam(config.learning_rate),\n",
    "                  metrics=[tf.metrics.BinaryAccuracy(name='accuracy'),\n",
    "                           tf.keras.metrics.Precision(name='precision'),\n",
    "                           tf.keras.metrics.Precision(class_id=1,name='ISL_precision'),\n",
    "                           # Computes the precision of the predictions with respect to the labels.\n",
    "                           tf.keras.metrics.Recall(name='recall'),\n",
    "                           tf.keras.metrics.Recall(class_id=1,name='ISL_recall'),\n",
    "                           # Computes the recall of the predictions with respect to the labels.\n",
    "                           F1Score(num_classes=config.numclasses, name=\"f1_score\"),\n",
    "#                            tf.keras.metrics.AUC(name=\"auc\")\n",
    "                           ]\n",
    "                  )\n",
    "model_test.load_weights(\"checkpoint_recall.h5\")\n",
    "model_test.evaluate(gen.validation_dataset) "
   ]
  },
  {
   "cell_type": "code",
   "execution_count": 18,
   "metadata": {},
   "outputs": [
    {
     "name": "stdout",
     "output_type": "stream",
     "text": [
      "168/168 [==============================] - 60s 353ms/step - loss: 0.2774 - accuracy: 0.9241 - precision: 0.7074 - ISL_precision: 0.8050 - recall: 0.7463 - ISL_recall: 0.9016 - f1_score: 0.4848\n"
     ]
    },
    {
     "data": {
      "text/plain": [
       "[0.2773585915565491,\n",
       " 0.9240806102752686,\n",
       " 0.7074321508407593,\n",
       " 0.8050346970558167,\n",
       " 0.7462666034698486,\n",
       " 0.9016110301017761,\n",
       " array([0.671849, 0.848233, 0.224215, 0.207275, 0.472472], dtype=float32)]"
      ]
     },
     "execution_count": 18,
     "metadata": {},
     "output_type": "execute_result"
    }
   ],
   "source": [
    "model_test = tf.keras.models.load_model('./model.h5')\n",
    "model_test.evaluate(gen.validation_dataset) "
   ]
  },
  {
   "cell_type": "code",
   "execution_count": 19,
   "metadata": {},
   "outputs": [
    {
     "name": "stdout",
     "output_type": "stream",
     "text": [
      "168/168 [==============================] - 60s 351ms/step - loss: 0.2685 - accuracy: 0.9255 - precision: 0.7126 - ISL_precision: 0.7955 - recall: 0.7512 - ISL_recall: 0.9174 - f1_score: 0.4921\n"
     ]
    },
    {
     "data": {
      "text/plain": [
       "[0.26849085092544556,\n",
       " 0.9255180358886719,\n",
       " 0.7126180529594421,\n",
       " 0.7954602241516113,\n",
       " 0.7512444853782654,\n",
       " 0.9174338579177856,\n",
       " array([0.674727, 0.846346, 0.242718, 0.224796, 0.472046], dtype=float32)]"
      ]
     },
     "execution_count": 19,
     "metadata": {},
     "output_type": "execute_result"
    }
   ],
   "source": [
    "model_test = tf.keras.models.load_model('./model.h5')\n",
    "model_test.load_weights(\"checkpoint_recall.h5\")\n",
    "model_test.evaluate(gen.validation_dataset)"
   ]
  },
  {
   "cell_type": "code",
   "execution_count": null,
   "metadata": {},
   "outputs": [],
   "source": []
  },
  {
   "cell_type": "code",
   "execution_count": 20,
   "metadata": {},
   "outputs": [],
   "source": [
    "class TestDataLoader:\n",
    "    def __init__(self,\n",
    "                 training_dir=\"/Users/margauxmforstyhe/Desktop/DatasetV2_PC/chips/cloudfree-merge-polygons/dataset_v2/\",\n",
    "                 label_file_path_test=\"labels_test.csv\",\n",
    "                 data_extension_type='.tif',\n",
    "                 bands=[1, 2, 3, 4, 5, 6, 7, 8, 9, 10, 11, 12, 13, 14, 15, 16, 17, 18],\n",
    "                 augment=False,\n",
    "                 enable_shuffle=False,\n",
    "                 training_data_shuffle_buffer_size=1000,\n",
    "                 batch_size=20,\n",
    "                 enable_data_prefetch=False,\n",
    "                 data_prefetch_size=tf.data.experimental.AUTOTUNE,\n",
    "                 num_parallel_calls=tf.data.AUTOTUNE,\n",
    "                 output_shape=(tf.float32, tf.float32)):\n",
    "\n",
    "\n",
    "        self.label_file_path_test = label_file_path_test\n",
    "\n",
    "        print(f\"labels_file_test: {self.label_file_path_test}\")\n",
    "\n",
    "        self.labels_file_test = pd.read_csv(self.label_file_path_test)\n",
    "        self.test_filenames = self.labels_file_test.paths.to_list()\n",
    "\n",
    "        self.bands = bands\n",
    "        self.local_path_train = training_dir\n",
    "\n",
    "        self.enable_shuffle = enable_shuffle\n",
    "        if training_data_shuffle_buffer_size is not None:\n",
    "            self.training_data_shuffle_buffer_size = training_data_shuffle_buffer_size\n",
    "\n",
    "        self.num_parallel_calls = num_parallel_calls\n",
    "        self.enable_data_prefetch = enable_data_prefetch\n",
    "        self.data_prefetch_size = data_prefetch_size\n",
    "        self.data_extension_type = data_extension_type\n",
    "        self.output_shape = output_shape\n",
    "\n",
    "        self.batch_size = batch_size\n",
    "\n",
    "        self.build_test_dataset()\n",
    "\n",
    "    def build_test_dataset(self):\n",
    "        self.test_dataset = tf.data.Dataset.from_tensor_slices(list(self.test_filenames))\n",
    "        self.test_dataset = self.test_dataset.map(\n",
    "            (lambda x: tf.py_function(self.process_path, [x], self.output_shape)),\n",
    "            num_parallel_calls=self.num_parallel_calls)\n",
    "\n",
    "        self.test_dataset = self.test_dataset.batch(self.batch_size)\n",
    "        print(f\"test on {len(self.test_filenames)} images \")\n",
    "\n",
    "    def read_image(self, path_img):\n",
    "        path_to_img = self.local_path_train + \"/\" + path_img.numpy().decode()\n",
    "        train_img = np.transpose(rasterio.open(path_to_img).read(self.bands), (1, 2, 0))\n",
    "        # Normalize image\n",
    "        train_img = tf.image.convert_image_dtype(train_img, tf.float32)\n",
    "        return train_img\n",
    "\n",
    "    def get_label_from_csv(self, path_img):\n",
    "        # testing if path in the training csv file or in the val one\n",
    "        if path_img.numpy().decode() in self.labels_file_test.paths.to_list():\n",
    "            # path_img is a tf.string and needs to be converted into a string using .numpy().decode()\n",
    "            id = int(self.labels_file_test[self.labels_file_test.paths == path_img.numpy().decode()].index.values[0])\n",
    "            # The list of labels (e.g [0,1,0,0,0,0,0,0,0,0] is grabbed from the csv file on the row where the s3 path is\n",
    "            label = self.labels_file_test.drop('paths', 1).iloc[int(id)].to_list()\n",
    "        return label\n",
    "\n",
    "    # Function used in the map() and returns the image and label corresponding to the file_path input\n",
    "    def process_path(self, file_path):\n",
    "        label = self.get_label_from_csv(file_path)\n",
    "        img = self.read_image(file_path)\n",
    "        return img, label"
   ]
  },
  {
   "cell_type": "markdown",
   "metadata": {},
   "source": [
    "### Evaluation Set"
   ]
  },
  {
   "cell_type": "code",
   "execution_count": 21,
   "metadata": {},
   "outputs": [
    {
     "name": "stdout",
     "output_type": "stream",
     "text": [
      "labels_file_test: data/new_val_labels_v5_10000.csv\n",
      "test on 10714 images \n"
     ]
    }
   ],
   "source": [
    "bands = [2, 3, 4, 8, 18]\n",
    "gen_test = TestDataLoader(label_file_path_test=config.label_file_path_val, # or val_all\n",
    "                data_extension_type='.tif',\n",
    "                bands=bands,\n",
    "                augment=config.augment,\n",
    "                enable_shuffle=config.enable_shuffle,\n",
    "                batch_size=config.batch_size,\n",
    "                enable_data_prefetch=True\n",
    "                )"
   ]
  },
  {
   "cell_type": "code",
   "execution_count": 22,
   "metadata": {},
   "outputs": [
    {
     "name": "stdout",
     "output_type": "stream",
     "text": [
      "168/168 [==============================] - 56s 330ms/step - loss: 0.2685 - accuracy: 0.9255 - precision: 0.7126 - ISL_precision: 0.7955 - recall: 0.7512 - ISL_recall: 0.9174 - f1_score: 0.4921\n"
     ]
    },
    {
     "data": {
      "text/plain": [
       "[0.26849085092544556,\n",
       " 0.9255180358886719,\n",
       " 0.7126180529594421,\n",
       " 0.7954602241516113,\n",
       " 0.7512444853782654,\n",
       " 0.9174338579177856,\n",
       " array([0.674727, 0.846346, 0.242718, 0.224796, 0.472046], dtype=float32)]"
      ]
     },
     "execution_count": 22,
     "metadata": {},
     "output_type": "execute_result"
    }
   ],
   "source": [
    "model_test.evaluate(gen_test.test_dataset) "
   ]
  },
  {
   "cell_type": "code",
   "execution_count": null,
   "metadata": {},
   "outputs": [],
   "source": []
  },
  {
   "cell_type": "code",
   "execution_count": null,
   "metadata": {},
   "outputs": [],
   "source": []
  },
  {
   "cell_type": "code",
   "execution_count": null,
   "metadata": {},
   "outputs": [],
   "source": []
  },
  {
   "cell_type": "code",
   "execution_count": 23,
   "metadata": {
    "id": "rUQV7eQ4fY19"
   },
   "outputs": [
    {
     "name": "stdout",
     "output_type": "stream",
     "text": [
      "(100, 100, 5)\n"
     ]
    }
   ],
   "source": [
    "s3 = boto3.resource('s3')\n",
    "# TODO test on entire test dataset\n",
    "obj = s3.Object('canopy-production-ml', \"chips/cloudfree-merge-polygons/split/test/100/100_1000_1000.tif\")\n",
    "obj_bytes = io.BytesIO(obj.get()['Body'].read())\n",
    "with rasterio.open(obj_bytes) as src:\n",
    "    img_test = np.transpose(src.read(bands), (1, 2, 0))\n",
    "print(img_test.shape)\n",
    "label_list = ['Industrial_agriculture', 'ISL', 'Mining','Roads', 'Shifting_cultivation'\n",
    "]"
   ]
  },
  {
   "cell_type": "code",
   "execution_count": 24,
   "metadata": {
    "id": "Xka2fcz1fY19"
   },
   "outputs": [
    {
     "name": "stdout",
     "output_type": "stream",
     "text": [
      "This chip was predicted to belong to these classes:\n",
      "['Roads']\n"
     ]
    }
   ],
   "source": [
    "predictions = model_test.predict(np.array([img_test]))\n",
    "\n",
    "threshold = 0.2\n",
    "argsort_list = list(np.argsort(np.array(predictions[0])))\n",
    "argsort_list.reverse()\n",
    "pred_labels = []\n",
    "for top_matches in argsort_list:\n",
    "    if predictions[0][top_matches] > threshold:\n",
    "        pred_labels.append(label_list[top_matches])\n",
    "\n",
    "print(\"This chip was predicted to belong to these classes:\")\n",
    "print(pred_labels)\n"
   ]
  },
  {
   "cell_type": "code",
   "execution_count": 25,
   "metadata": {
    "id": "R1Ae9ca7fY19"
   },
   "outputs": [
    {
     "data": {
      "image/png": "[encoded data removed]",
      "text/plain": [
       "<Figure size 432x288 with 1 Axes>"
      ]
     },
     "metadata": {
      "needs_background": "light"
     },
     "output_type": "display_data"
    },
    {
     "data": {
      "image/png": "[encoded data removed]",
      "text/plain": [
       "<Figure size 432x288 with 1 Axes>"
      ]
     },
     "metadata": {
      "needs_background": "light"
     },
     "output_type": "display_data"
    },
    {
     "data": {
      "image/png": "[encoded data removed]",
      "text/plain": [
       "<Figure size 432x288 with 1 Axes>"
      ]
     },
     "metadata": {
      "needs_background": "light"
     },
     "output_type": "display_data"
    },
    {
     "data": {
      "image/png": "[encoded data removed]",
      "text/plain": [
       "<Figure size 432x288 with 1 Axes>"
      ]
     },
     "metadata": {
      "needs_background": "light"
     },
     "output_type": "display_data"
    }
   ],
   "source": [
    "plot_learningCurve(history)"
   ]
  },
  {
   "cell_type": "code",
   "execution_count": 26,
   "metadata": {},
   "outputs": [
    {
     "name": "stdout",
     "output_type": "stream",
     "text": [
      "168/168 [==============================] - 52s 307ms/step\n"
     ]
    }
   ],
   "source": [
    "y_pred = model_test.predict(gen_test.test_dataset, verbose=1)"
   ]
  },
  {
   "cell_type": "code",
   "execution_count": 27,
   "metadata": {},
   "outputs": [
    {
     "name": "stdout",
     "output_type": "stream",
     "text": [
      "[[0 0 0 0 1]\n",
      " [0 0 0 0 0]\n",
      " [0 1 0 0 0]\n",
      " ...\n",
      " [0 1 0 0 0]\n",
      " [0 1 0 0 0]\n",
      " [1 0 0 0 1]]\n"
     ]
    }
   ],
   "source": [
    "# Get true labels from csv file \n",
    "y_true_2 = pd.read_csv(config.label_file_path_val).drop('paths', 1)\n",
    "y_true = np.array([y_true_2.loc[i].to_list() for i in range(len(y_true_2))])\n",
    "print(y_true)"
   ]
  },
  {
   "cell_type": "code",
   "execution_count": 28,
   "metadata": {},
   "outputs": [],
   "source": [
    "def compare_ytrue_ypred(y_true, y_pred,threshold=0.2):\n",
    "    for idx in range(len(y_pred)):\n",
    "        argsort_list = list(np.argsort(np.array(y_pred[idx])))\n",
    "        argsort_list.reverse()\n",
    "        true_classes_list = [ i for i in range(len(y_true[idx])) if y_true[idx][i] == 1 ]\n",
    "        print(f\"\\n{idx}) True labels:\")\n",
    "        print([label_list[index] for index in true_classes_list])\n",
    "        pred_labels = []\n",
    "        for top_matches in argsort_list:\n",
    "            if y_pred[idx][top_matches] > threshold:\n",
    "                pred_labels.append(label_list[top_matches])\n",
    "        print(\"Predicted labels:\")\n",
    "        print(pred_labels)\n",
    "#         break\n",
    "# compare_ytrue_ypred(y_true, y_pred,threshold=0.2)"
   ]
  },
  {
   "cell_type": "code",
   "execution_count": 29,
   "metadata": {},
   "outputs": [],
   "source": [
    "y_pred_threshold = np.where(y_pred > threshold, 1, 0)"
   ]
  },
  {
   "cell_type": "code",
   "execution_count": 30,
   "metadata": {},
   "outputs": [],
   "source": [
    "from sklearn.metrics import multilabel_confusion_matrix, ConfusionMatrixDisplay\n",
    "# https://scikit-learn.org/stable/modules/generated/sklearn.metrics.multilabel_confusion_matrix.html\n",
    "matrices = multilabel_confusion_matrix(y_true, y_pred_threshold)"
   ]
  },
  {
   "cell_type": "code",
   "execution_count": 31,
   "metadata": {},
   "outputs": [
    {
     "data": {
      "image/png": "[encoded data removed]",
      "text/plain": [
       "<Figure size 432x288 with 2 Axes>"
      ]
     },
     "metadata": {
      "needs_background": "light"
     },
     "output_type": "display_data"
    },
    {
     "data": {
      "image/png": "[encoded data removed]",
      "text/plain": [
       "<Figure size 432x288 with 2 Axes>"
      ]
     },
     "metadata": {
      "needs_background": "light"
     },
     "output_type": "display_data"
    },
    {
     "data": {
      "image/png": "[encoded data removed]",
      "text/plain": [
       "<Figure size 432x288 with 2 Axes>"
      ]
     },
     "metadata": {
      "needs_background": "light"
     },
     "output_type": "display_data"
    },
    {
     "data": {
      "image/png": "[encoded data removed]",
      "text/plain": [
       "<Figure size 432x288 with 2 Axes>"
      ]
     },
     "metadata": {
      "needs_background": "light"
     },
     "output_type": "display_data"
    },
    {
     "data": {
      "image/png": "[encoded data removed]",
      "text/plain": [
       "<Figure size 432x288 with 2 Axes>"
      ]
     },
     "metadata": {
      "needs_background": "light"
     },
     "output_type": "display_data"
    }
   ],
   "source": [
    "# if no label x on chip i then label = 0 and predicted should = 0 otherwise if label predicted = 1 then it is wrongly classifiying the label (FP)\n",
    "# if label x on chip i then label = 1 and predicted should = 1 otherwise if label predicted = 0 then it is missing the label classification (FN)\n",
    "for i in range(len(label_list)):  \n",
    "    cmd = ConfusionMatrixDisplay(matrices[i], display_labels=np.unique(y_true)).plot()\n",
    "    plt.title(f'Confusion Matrix for label {label_list[i]}')\n",
    "    plt.show()"
   ]
  },
  {
   "cell_type": "code",
   "execution_count": null,
   "metadata": {},
   "outputs": [],
   "source": []
  },
  {
   "cell_type": "markdown",
   "metadata": {},
   "source": [
    "### Test Set"
   ]
  },
  {
   "cell_type": "code",
   "execution_count": 34,
   "metadata": {},
   "outputs": [
    {
     "name": "stdout",
     "output_type": "stream",
     "text": [
      "labels_file_test: data/new_test_labels_v2.csv\n",
      "test on 71911 images \n"
     ]
    }
   ],
   "source": [
    "bands = [2, 3, 4, 8, 18]\n",
    "gen_test = TestDataLoader(label_file_path_test=\"data/new_test_labels_v2.csv\", # or val_all\n",
    "                data_extension_type='.tif',\n",
    "                bands=bands,\n",
    "                augment=config.augment,\n",
    "                enable_shuffle=config.enable_shuffle,\n",
    "                batch_size=config.batch_size,\n",
    "                enable_data_prefetch=True\n",
    "                )"
   ]
  },
  {
   "cell_type": "code",
   "execution_count": 35,
   "metadata": {},
   "outputs": [
    {
     "name": "stdout",
     "output_type": "stream",
     "text": [
      "1124/1124 [==============================] - 618s 549ms/step - loss: 0.6277 - accuracy: 0.8065 - precision: 0.3772 - ISL_precision: 0.5405 - recall: 0.3270 - ISL_recall: 0.5265 - f1_score: 0.20634s - loss: 0.6214 - accuracy: 0.8083 - precision: 0.3746 - ISL_precision: 0.5522 - recall: 0.3273 - \n"
     ]
    },
    {
     "data": {
      "text/plain": [
       "[0.6277146339416504,\n",
       " 0.8065260648727417,\n",
       " 0.37722527980804443,\n",
       " 0.5404810905456543,\n",
       " 0.3269522488117218,\n",
       " 0.5265213847160339,\n",
       " array([0.008991, 0.541222, 0.067077, 0.238292, 0.176164], dtype=float32)]"
      ]
     },
     "execution_count": 35,
     "metadata": {},
     "output_type": "execute_result"
    }
   ],
   "source": [
    "model_test.evaluate(gen_test.test_dataset) "
   ]
  },
  {
   "cell_type": "code",
   "execution_count": 36,
   "metadata": {},
   "outputs": [
    {
     "name": "stdout",
     "output_type": "stream",
     "text": [
      "1124/1124 [==============================] - 652s 580ms/step\n",
      "[[0 0 0 0 1]\n",
      " [0 0 0 0 0]\n",
      " [0 1 0 0 0]\n",
      " ...\n",
      " [0 1 0 0 0]\n",
      " [0 1 0 0 0]\n",
      " [1 0 0 0 1]]\n"
     ]
    }
   ],
   "source": [
    "y_pred = model_test.predict(gen_test.test_dataset, verbose=1)\n",
    "# Get true labels from csv file \n",
    "y_true_2 = pd.read_csv(config.label_file_path_val).drop('paths', 1)\n",
    "y_true = np.array([y_true_2.loc[i].to_list() for i in range(len(y_true_2))])\n",
    "print(y_true)"
   ]
  },
  {
   "cell_type": "code",
   "execution_count": 37,
   "metadata": {},
   "outputs": [
    {
     "data": {
      "image/png": "[encoded data removed]",
      "text/plain": [
       "<Figure size 432x288 with 2 Axes>"
      ]
     },
     "metadata": {
      "needs_background": "light"
     },
     "output_type": "display_data"
    },
    {
     "data": {
      "image/png": "[encoded data removed]",
      "text/plain": [
       "<Figure size 432x288 with 2 Axes>"
      ]
     },
     "metadata": {
      "needs_background": "light"
     },
     "output_type": "display_data"
    },
    {
     "data": {
      "image/png": "[encoded data removed]",
      "text/plain": [
       "<Figure size 432x288 with 2 Axes>"
      ]
     },
     "metadata": {
      "needs_background": "light"
     },
     "output_type": "display_data"
    },
    {
     "data": {
      "image/png": "[encoded data removed]",
      "text/plain": [
       "<Figure size 432x288 with 2 Axes>"
      ]
     },
     "metadata": {
      "needs_background": "light"
     },
     "output_type": "display_data"
    },
    {
     "data": {
      "image/png": "[encoded data removed]",
      "text/plain": [
       "<Figure size 432x288 with 2 Axes>"
      ]
     },
     "metadata": {
      "needs_background": "light"
     },
     "output_type": "display_data"
    }
   ],
   "source": [
    "from sklearn.metrics import multilabel_confusion_matrix, ConfusionMatrixDisplay\n",
    "# https://scikit-learn.org/stable/modules/generated/sklearn.metrics.multilabel_confusion_matrix.html\n",
    "matrices = multilabel_confusion_matrix(y_true, y_pred_threshold)\n",
    "# if no label x on chip i then label = 0 and predicted should = 0 otherwise if label predicted = 1 then it is wrongly classifiying the label (FP)\n",
    "# if label x on chip i then label = 1 and predicted should = 1 otherwise if label predicted = 0 then it is missing the label classification (FN)\n",
    "for i in range(len(label_list)):  \n",
    "    cmd = ConfusionMatrixDisplay(matrices[i], display_labels=np.unique(y_true)).plot()\n",
    "    plt.title(f'Confusion Matrix for label {label_list[i]}')\n",
    "    plt.show()"
   ]
  },
  {
   "cell_type": "code",
   "execution_count": null,
   "metadata": {},
   "outputs": [],
   "source": []
  }
 ],
 "metadata": {
  "accelerator": "GPU",
  "colab": {
   "collapsed_sections": [
    "Mf6ku3ijfY17"
   ],
   "name": "ml_explore_Margaux_shuffle.ipynb",
   "provenance": [],
   "toc_visible": true
  },
  "kernelspec": {
   "display_name": "Python 3",
   "language": "python",
   "name": "python3"
  },
  "language_info": {
   "codemirror_mode": {
    "name": "ipython",
    "version": 3
   },
   "file_extension": ".py",
   "mimetype": "text/x-python",
   "name": "python",
   "nbconvert_exporter": "python",
   "pygments_lexer": "ipython3",
   "version": "3.8.3"
  }
 },
 "nbformat": 4,
 "nbformat_minor": 4
}
