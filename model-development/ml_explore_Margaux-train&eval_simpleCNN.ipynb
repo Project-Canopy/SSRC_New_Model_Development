{
 "cells": [
  {
   "cell_type": "markdown",
   "metadata": {
    "id": "A8gXtOvgfY1v"
   },
   "source": [
    "## Imports"
   ]
  },
  {
   "cell_type": "code",
   "execution_count": 1,
   "metadata": {
    "colab": {
     "base_uri": "https://localhost:8080/"
    },
    "id": "rYyPKRVufY11",
    "outputId": "38b5159e-770a-4ca7-d4c7-33c628298ca8"
   },
   "outputs": [
    {
     "name": "stderr",
     "output_type": "stream",
     "text": [
      "Using TensorFlow backend.\n"
     ]
    },
    {
     "name": "stdout",
     "output_type": "stream",
     "text": [
      "2.4.0\n"
     ]
    }
   ],
   "source": [
    "# import plaidml.keras\n",
    "# plaidml.keras.install_backend()\n",
    "import wandb\n",
    "import os\n",
    "import multiprocessing\n",
    "import rasterio\n",
    "import tensorflow as tf\n",
    "from glob import glob\n",
    "import pickle\n",
    "import numpy as np\n",
    "import os\n",
    "from tensorflow.keras.models import *\n",
    "from tensorflow.keras.layers import *\n",
    "from tensorflow.keras import layers\n",
    "from tensorflow_addons.metrics import F1Score, HammingLoss\n",
    "from tensorflow_addons.losses import SigmoidFocalCrossEntropy\n",
    "from tensorflow.keras.losses import CategoricalCrossentropy, BinaryCrossentropy\n",
    "\n",
    "import keras\n",
    "import pandas as pd\n",
    "import matplotlib.pyplot as plt\n",
    "import random\n",
    "import time\n",
    "np.set_printoptions(suppress=True)\n",
    "np.set_printoptions(precision=6)\n",
    "print(tf.__version__)"
   ]
  },
  {
   "cell_type": "markdown",
   "metadata": {
    "id": "d8jjb7jLfY12"
   },
   "source": [
    "### Test with Simple CNN and Data Loader "
   ]
  },
  {
   "cell_type": "code",
   "execution_count": 2,
   "metadata": {
    "id": "V7vK3XYAfY12"
   },
   "outputs": [],
   "source": [
    "import boto3\n",
    "import rasterio as rio\n",
    "import numpy as np\n",
    "import io"
   ]
  },
  {
   "cell_type": "code",
   "execution_count": 3,
   "metadata": {
    "id": "LSEOQKhQfY12"
   },
   "outputs": [
    {
     "name": "stderr",
     "output_type": "stream",
     "text": [
      "\u001b[34m\u001b[1mwandb\u001b[0m: \u001b[33mWARNING\u001b[0m Keras version 2.2.4 is not fully supported. Required keras >= 2.4.0\n"
     ]
    }
   ],
   "source": [
    "from dataloader import DataLoader"
   ]
  },
  {
   "cell_type": "code",
   "execution_count": 4,
   "metadata": {},
   "outputs": [
    {
     "name": "stderr",
     "output_type": "stream",
     "text": [
      "\u001b[34m\u001b[1mwandb\u001b[0m: Currently logged in as: \u001b[33mmargauxmforsythe\u001b[0m (use `wandb login --relogin` to force relogin)\n",
      "\u001b[34m\u001b[1mwandb\u001b[0m: wandb version 0.10.25 is available!  To upgrade, please run:\n",
      "\u001b[34m\u001b[1mwandb\u001b[0m:  $ pip install wandb --upgrade\n"
     ]
    },
    {
     "data": {
      "text/html": [
       "\n",
       "                Tracking run with wandb version 0.10.21<br/>\n",
       "                Syncing run <strong style=\"color:#cdcd00\">divine-valley-178</strong> to <a href=\"https://wandb.ai\" target=\"_blank\">Weights & Biases</a> <a href=\"https://docs.wandb.com/integrations/jupyter.html\" target=\"_blank\">(Documentation)</a>.<br/>\n",
       "                Project page: <a href=\"https://wandb.ai/margauxmforsythe/project_canopy\" target=\"_blank\">https://wandb.ai/margauxmforsythe/project_canopy</a><br/>\n",
       "                Run page: <a href=\"https://wandb.ai/margauxmforsythe/project_canopy/runs/2qb3vrzw\" target=\"_blank\">https://wandb.ai/margauxmforsythe/project_canopy/runs/2qb3vrzw</a><br/>\n",
       "                Run data is saved locally in <code>/Users/margauxmforstyhe/Desktop/workspace/ProjectCanopy/cb_feature_detection/model-development/wandb/run-20210406_142407-2qb3vrzw</code><br/><br/>\n",
       "            "
      ],
      "text/plain": [
       "<IPython.core.display.HTML object>"
      ]
     },
     "metadata": {},
     "output_type": "display_data"
    }
   ],
   "source": [
    "import wandb\n",
    "from wandb.keras import WandbCallback \n",
    "\n",
    "wandb.init(project='project_canopy', sync_tensorboard=True)\n",
    "config = wandb.config"
   ]
  },
  {
   "cell_type": "code",
   "execution_count": 5,
   "metadata": {},
   "outputs": [],
   "source": [
    "class DataLoader:\n",
    "    def __init__(self,\n",
    "                 training_dir=\"/Users/margauxmforstyhe/Desktop/DatasetV2_PC/chips/cloudfree-merge-polygons/dataset_v2/\",\n",
    "                 label_file_path_train=\"labels_test_v1.csv\",\n",
    "                 label_file_path_val=\"labels_val.csv\",\n",
    "#                  bucket_name='canopy-production-ml',\n",
    "                 data_extension_type='.tif',\n",
    "                 bands=[1, 2, 3, 4, 5, 6, 7, 8, 9, 10, 11, 12, 13, 14, 15, 16, 17, 18],\n",
    "                 augment=False,\n",
    "                 enable_shuffle=False,\n",
    "                 training_data_shuffle_buffer_size=1000,\n",
    "                 training_data_batch_size=20,\n",
    "                 enable_data_prefetch=False,\n",
    "                 data_prefetch_size=tf.data.experimental.AUTOTUNE,\n",
    "                 num_parallel_calls=tf.data.AUTOTUNE,\n",
    "                 output_shape=(tf.float32, tf.float32)):\n",
    "\n",
    "#         self.bucket_name = bucket_name\n",
    "\n",
    "        self.label_file_path_train = label_file_path_train\n",
    "        self.label_file_path_val = label_file_path_val\n",
    "\n",
    "        print(f\"label_file_path_train: {self.label_file_path_train}\")\n",
    "        print(f\"labels_file_val: {self.label_file_path_val}\")\n",
    "        self.labels_file_train = pd.read_csv(self.label_file_path_train)\n",
    "        self.labels_file_val = pd.read_csv(self.label_file_path_val)\n",
    "        self.training_filenames = self.labels_file_train.paths.to_list()\n",
    "\n",
    "        self.labels_file_val = pd.read_csv(self.label_file_path_val)\n",
    "        self.validation_filenames = self.labels_file_val.paths.to_list()\n",
    "\n",
    "        self.bands = bands\n",
    "        self.augment = augment\n",
    "        self.local_path_train = training_dir\n",
    "\n",
    "        self.enable_shuffle = enable_shuffle\n",
    "        if training_data_shuffle_buffer_size is not None:\n",
    "            self.training_data_shuffle_buffer_size = training_data_shuffle_buffer_size\n",
    "\n",
    "        self.num_parallel_calls = num_parallel_calls\n",
    "        self.enable_data_prefetch = enable_data_prefetch\n",
    "        self.data_prefetch_size = data_prefetch_size\n",
    "        self.data_extension_type = data_extension_type\n",
    "        self.output_shape = output_shape\n",
    "\n",
    "        self.training_data_batch_size = training_data_batch_size\n",
    "\n",
    "        self.build_training_dataset()\n",
    "        self.build_validation_dataset()\n",
    "\n",
    "    def build_training_dataset(self):\n",
    "        # Tensor of all the paths to the images\n",
    "        self.training_dataset = tf.data.Dataset.from_tensor_slices(self.training_filenames)\n",
    "\n",
    "        # If data augmentation\n",
    "        if self.augment is True:\n",
    "            # https://stackoverflow.com/questions/61760235/data-augmentation-on-tf-dataset-dataset\n",
    "            print(\"Data augmentation enabled\")\n",
    "            \n",
    "            self.training_dataset = self.training_dataset.map((\n",
    "                lambda x: tf.py_function(self.process_path, [x], self.output_shape)),\n",
    "                num_parallel_calls=self.num_parallel_calls).map(\n",
    "            lambda image, label: (tf.image.random_flip_left_right(image), label)\n",
    "            ).map(\n",
    "            lambda image, label: (tf.image.random_flip_up_down(image), label)\n",
    "            ).repeat(3)\n",
    "            \n",
    "            self.length_training_dataset = len(self.training_filenames) * 3\n",
    "            print(f\"Training on {self.length_training_dataset} images\")\n",
    "        else:\n",
    "            print(\"No data augmentation. Please set augment to True if you want to augment training dataset\")\n",
    "            self.training_dataset = self.training_dataset.map((\n",
    "                lambda x: tf.py_function(self.process_path, [x], self.output_shape)),\n",
    "                num_parallel_calls=self.num_parallel_calls)\n",
    "            self.length_training_dataset = len(self.training_filenames)\n",
    "            print(f\"Training on {self.length_training_dataset} images\")\n",
    "\n",
    "        # Randomly shuffles the elements of this dataset.\n",
    "        # This dataset fills a buffer with `buffer_size` elements, then randomly\n",
    "        # samples elements from this buffer, replacing the selected elements with new\n",
    "        # elements. For perfect shuffling, a buffer size greater than or equal to the\n",
    "        # full size of the dataset is required.\n",
    "        if self.enable_shuffle is True:\n",
    "            if self.training_data_shuffle_buffer_size is None:\n",
    "                self.training_data_shuffle_buffer_size = len(self.length_training_dataset)\n",
    "            self.training_dataset = self.training_dataset.shuffle(self.training_data_shuffle_buffer_size,\n",
    "                                                                  reshuffle_each_iteration=True\n",
    "                                                                  # controls whether the shuffle order should be different for each epoch\n",
    "                                                                  )\n",
    "\n",
    "        if self.training_data_batch_size is not None:\n",
    "            # Combines consecutive elements of this dataset into batches\n",
    "            self.training_dataset = self.training_dataset.batch(self.training_data_batch_size)\n",
    "\n",
    "        # Most dataset input pipelines should end with a call to `prefetch`. This\n",
    "        # allows later elements to be prepared while the current element is being\n",
    "        # processed. This often improves latency and throughput, at the cost of\n",
    "        # using additional memory to store prefetched elements.\n",
    "        if self.enable_data_prefetch:\n",
    "            self.training_dataset = self.training_dataset.prefetch(self.data_prefetch_size)\n",
    "\n",
    "    def build_validation_dataset(self):\n",
    "        self.validation_dataset = tf.data.Dataset.from_tensor_slices(list(self.validation_filenames))\n",
    "        self.validation_dataset = self.validation_dataset.map(\n",
    "            (lambda x: tf.py_function(self.process_path, [x], self.output_shape)),\n",
    "            num_parallel_calls=self.num_parallel_calls)\n",
    "\n",
    "        self.validation_dataset = self.validation_dataset.batch(self.training_data_batch_size)\n",
    "        print(f\"Validation on {len(self.validation_filenames)} images \")\n",
    "\n",
    "    def read_image(self, path_img):\n",
    "        path_to_img = self.local_path_train + \"/\" + path_img.numpy().decode()\n",
    "        train_img = np.transpose(rasterio.open(path_to_img).read(self.bands), (1, 2, 0))\n",
    "        # Normalize image\n",
    "        train_img = tf.image.convert_image_dtype(train_img, tf.float32)\n",
    "        return train_img\n",
    "    \n",
    "\n",
    "    def get_label_from_csv(self, path_img):\n",
    "        # testing if path in the training csv file or in the val one\n",
    "        if path_img.numpy().decode() in self.labels_file_train.paths.to_list():\n",
    "            ### Training csv\n",
    "            # path_img is a tf.string and needs to be converted into a string using .numpy().decode()\n",
    "            id = int(self.labels_file_train[self.labels_file_train.paths == path_img.numpy().decode()].index.values[0])\n",
    "            # The list of labels (e.g [0,1,0,0,0,0,0,0,0,0] is grabbed from the csv file on the row where the s3 path is\n",
    "            label = self.labels_file_train.drop('paths', 1).iloc[int(id)].to_list()\n",
    "        else:\n",
    "            ### Validation csv\n",
    "            # path_img is a tf.string and needs to be converted into a string using .numpy().decode()\n",
    "            id = int(self.labels_file_val[self.labels_file_val.paths == path_img.numpy().decode()].index.values[0])\n",
    "            # The list of labels (e.g [0,1,0,0,0,0,0,0,0,0] is grabbed from the csv file on the row where the s3 path is\n",
    "            label = self.labels_file_val.drop('paths', 1).iloc[int(id)].to_list()\n",
    "        return label\n",
    "\n",
    "    # Function used in the map() and returns the image and label corresponding to the file_path input\n",
    "    def process_path(self, file_path):\n",
    "        label = self.get_label_from_csv(file_path)\n",
    "        img = self.read_image(file_path)\n",
    "        return img, label"
   ]
  },
  {
   "cell_type": "code",
   "execution_count": 6,
   "metadata": {},
   "outputs": [
    {
     "name": "stdout",
     "output_type": "stream",
     "text": [
      "batch size 64, learning_rate 0.001, augment False\n"
     ]
    }
   ],
   "source": [
    "# Variables definition\n",
    "config.batch_size = 64\n",
    "config.learning_rate = 0.001\n",
    "config.label_file_path_train=\"data/new_train_labels_v5_10_percent_margaux.csv\" # labels_1_4_train_v2\n",
    "config.label_file_path_val=\"data/new_val_labels_v6_margaux.csv\"\n",
    "config.loss = SigmoidFocalCrossEntropy() # tf.keras.losses.BinaryCrossentropy(from_logits=False)\n",
    "config.optimizer = keras.optimizers.Adam(config.learning_rate)\n",
    "config.input_shape = (100,100,5)\n",
    "config.numclasses=5\n",
    "\n",
    "config.augment = False\n",
    "config.enable_shuffle=True\n",
    "\n",
    "print(f\"batch size {config.batch_size}, learning_rate {config.learning_rate}, augment {config.augment}\")"
   ]
  },
  {
   "cell_type": "code",
   "execution_count": 7,
   "metadata": {
    "colab": {
     "base_uri": "https://localhost:8080/"
    },
    "id": "AjosfRxQfY12",
    "outputId": "3615ff29-b3d9-4652-d971-3eca3e74c313"
   },
   "outputs": [
    {
     "name": "stdout",
     "output_type": "stream",
     "text": [
      "label_file_path_train: data/new_train_labels_v5_10_percent_margaux.csv\n",
      "labels_file_val: data/new_val_labels_v6_margaux.csv\n",
      "No data augmentation. Please set augment to True if you want to augment training dataset\n",
      "Training on 1966 images\n",
      "Validation on 566 images \n"
     ]
    }
   ],
   "source": [
    "bands = [2, 3, 4, 8, 18]\n",
    "gen = DataLoader(label_file_path_train=config.label_file_path_train, # test labels_test_v1 TODO use s3 paths\n",
    "                label_file_path_val=config.label_file_path_val, # or val_all\n",
    "#                 bucket_name='canopy-production-ml/chips/cloudfree-merge-polygons/dataset_v2',\n",
    "                data_extension_type='.tif',\n",
    "                bands=bands,\n",
    "                augment=config.augment,\n",
    "                enable_shuffle=config.enable_shuffle,\n",
    "                training_data_batch_size=config.batch_size,\n",
    "                enable_data_prefetch=True\n",
    "                )\n"
   ]
  },
  {
   "cell_type": "code",
   "execution_count": 8,
   "metadata": {
    "id": "x5Pwm2IFfY16"
   },
   "outputs": [],
   "source": [
    "def plot_learningCurve(history):\n",
    "  # Plot training & validation accuracy values\n",
    "  plt.plot(history.history['accuracy'])\n",
    "#   plt.plot(history.history['val_accuracy'])\n",
    "  plt.title('Model accuracy')\n",
    "  plt.ylabel('Accuracy')\n",
    "  plt.xlabel('Epoch')\n",
    "  plt.legend(['Train'], loc='upper left')\n",
    "  plt.show()\n",
    "\n",
    "  # Plot training & validation loss values\n",
    "  plt.plot(history.history['loss'])\n",
    "#   plt.plot(history.history['val_loss'])\n",
    "  plt.title('Model loss')\n",
    "  plt.ylabel('Loss')\n",
    "  plt.xlabel('Epoch')\n",
    "  plt.legend(['Train'], loc='upper left')\n",
    "  plt.show()\n",
    "  \n",
    "  plt.plot(history.history['val_loss'])\n",
    "  plt.title('Model loss')\n",
    "  plt.ylabel('Loss')\n",
    "  plt.xlabel('Epoch')\n",
    "  plt.legend(['Val'], loc='upper left')\n",
    "  plt.show()\n",
    "\n",
    "  plt.plot(history.history['val_accuracy'])\n",
    "  plt.title('Model accuracy')\n",
    "  plt.ylabel('Accuracy')\n",
    "  plt.xlabel('Epoch')\n",
    "  plt.legend(['Val'], loc='upper left')\n",
    "  plt.show()\n",
    "\n",
    "\n"
   ]
  },
  {
   "cell_type": "markdown",
   "metadata": {
    "id": "D_uYgh5vfY17"
   },
   "source": [
    "## PREPRODUCTION Candidate: ResNet50 pretrained on ImageNet"
   ]
  },
  {
   "cell_type": "markdown",
   "metadata": {
    "id": "Mf6ku3ijfY17"
   },
   "source": [
    "### Build model"
   ]
  },
  {
   "cell_type": "code",
   "execution_count": 9,
   "metadata": {
    "id": "VdfO-zQJfY17"
   },
   "outputs": [],
   "source": [
    "  def define_model(numclasses, input_shape, starting_checkpoint=None, lcl_chkpt_dir=None):\n",
    "        # parameters for CNN\n",
    "        input_tensor = Input(shape=input_shape)\n",
    "\n",
    "        # introduce a additional layer to get from bands to 3 input channels\n",
    "        input_tensor = Conv2D(3, (1, 1))(input_tensor)\n",
    "\n",
    "        base_model_resnet50 = tf.keras.applications.ResNet50(include_top=False,\n",
    "                                                          weights=None,\n",
    "                                                          input_shape=(100, 100, 3))\n",
    "        base_model = tf.keras.applications.ResNet50(include_top=False,\n",
    "                                                 weights=None,\n",
    "                                                 input_tensor=input_tensor)\n",
    "\n",
    "        for i, layer in enumerate(base_model_resnet50.layers):\n",
    "            # we must skip input layer, which has no weights\n",
    "            if i == 0:\n",
    "                continue\n",
    "            base_model.layers[i + 1].set_weights(layer.get_weights())\n",
    "\n",
    "        # add a global spatial average pooling layer\n",
    "        top_model = base_model.output\n",
    "        top_model = GlobalAveragePooling2D()(top_model)\n",
    "\n",
    "        # let's add a fully-connected layer\n",
    "        top_model = Dense(2048, activation='relu')(top_model)\n",
    "        top_model = Dense(2048, activation='relu')(top_model)\n",
    "        # and a logistic layer  \n",
    "        predictions = Dense(numclasses, activation=\"sigmoid\")(top_model)\n",
    "        \n",
    "\n",
    "        # this is the model we will train\n",
    "        model = Model(inputs=base_model.input, outputs=predictions)\n",
    "#         model.summary()\n",
    "\n",
    "        return model"
   ]
  },
  {
   "cell_type": "code",
   "execution_count": 10,
   "metadata": {},
   "outputs": [],
   "source": [
    "def Simple_CNN(numclasses, input_shape): #TODO use a more complex CNN\n",
    "        model = Sequential([\n",
    "            layers.Input(input_shape),\n",
    "            layers.Conv2D(16, 3, padding='same', activation='relu'),\n",
    "            layers.MaxPooling2D(),\n",
    "            layers.Conv2D(32, 3, padding='same', activation='relu'),\n",
    "            layers.MaxPooling2D(),\n",
    "            layers.Conv2D(64, 3, padding='same', activation='relu'),\n",
    "            layers.MaxPooling2D(),\n",
    "            layers.Flatten(),\n",
    "            layers.Dense(128, activation='relu'),\n",
    "            layers.Dense(numclasses, activation=\"softmax\")\n",
    "        ])\n",
    "        return model"
   ]
  },
  {
   "cell_type": "code",
   "execution_count": 11,
   "metadata": {},
   "outputs": [],
   "source": [
    "# def define_model_VGG16(numclasses, input_shape): \n",
    "#     model = Sequential([\n",
    "#         layers.Input(input_shape),\n",
    "#         layers.Conv2D(64, 3, padding='same', activation='relu'),\n",
    "#         layers.Conv2D(64, 3, padding='same', activation='relu'),\n",
    "#         layers.MaxPooling2D(),\n",
    "#         layers.Conv2D(128, 3, padding='same', activation='relu'),\n",
    "#         layers.Conv2D(128, 3, padding='same', activation='relu'),\n",
    "#         layers.MaxPooling2D(),\n",
    "#         layers.Conv2D(256, 3, padding='same', activation='relu'),\n",
    "#         layers.Conv2D(256, 3, padding='same', activation='relu'),\n",
    "#         layers.Conv2D(256, 3, padding='same', activation='relu'),\n",
    "#         layers.MaxPooling2D(),\n",
    "#         layers.Conv2D(512, 3, padding='same', activation='relu'),\n",
    "#         layers.Conv2D(512, 3, padding='same', activation='relu'),\n",
    "#         layers.Conv2D(512, 3, padding='same', activation='relu'),\n",
    "#         layers.MaxPooling2D(),\n",
    "#         layers.Conv2D(512, 3, padding='same', activation='relu'),\n",
    "#         layers.Conv2D(512, 3, padding='same', activation='relu'),\n",
    "#         layers.Conv2D(512, 3, padding='same', activation='relu'),\n",
    "#         layers.MaxPooling2D(),\n",
    "#         layers.Flatten(),\n",
    "#         layers.Dense(256, activation='relu'),\n",
    "#         layers.Dense(numclasses, activation=\"softmax\")\n",
    "#     ])\n",
    "#     return model\n",
    "# model_2 = define_model(config.numclasses, config.input_shape)\n",
    "# model_2.summary()"
   ]
  },
  {
   "cell_type": "code",
   "execution_count": 12,
   "metadata": {
    "id": "nLHatxuSfY17"
   },
   "outputs": [],
   "source": [
    "random_id = random.randint(1,10001) \n",
    "\n",
    "model_checkpoint_callback_loss = tf.keras.callbacks.ModelCheckpoint(\n",
    "  filepath= f'checkpoint_loss.h5',\n",
    "  format='h5',\n",
    "  verbose=1,\n",
    "  save_weights_only=True,\n",
    "  monitor='val_loss',\n",
    "  mode='min',\n",
    "  save_best_only=True)\n",
    "\n",
    "model_checkpoint_callback_recall = tf.keras.callbacks.ModelCheckpoint(\n",
    "  filepath= f'checkpoint_recall.h5',\n",
    "  format='h5',\n",
    "  verbose=1,\n",
    "  save_weights_only=True,\n",
    "  monitor='val_recall',\n",
    "  mode='max',\n",
    "  save_best_only=True)\n",
    "\n",
    "model_checkpoint_callback_precision = tf.keras.callbacks.ModelCheckpoint(\n",
    "  filepath= f'checkpoint_precision.h5',\n",
    "  format='h5',\n",
    "  verbose=1,\n",
    "  save_weights_only=True,\n",
    "  monitor='val_precision',\n",
    "  mode='max',\n",
    "  save_best_only=True)\n",
    "\n",
    "early_stop = tf.keras.callbacks.EarlyStopping(monitor='val_precision', mode='max', patience=20, verbose=1)\n",
    "    \n",
    "reduce_lr = tf.keras.callbacks.ReduceLROnPlateau(monitor='val_precision',mode='max', factor=0.1,patience=5, min_lr=0.000001, verbose=1)\n",
    "wandb_callback = WandbCallback()\n",
    "\n",
    "callbacks_list = [model_checkpoint_callback_recall, early_stop,reduce_lr, WandbCallback()]\n",
    "\n",
    "model = Simple_CNN(config.numclasses, config.input_shape)\n",
    "# model = define_model(config.numclasses, config.input_shape)\n",
    "\n",
    "# loss=tf.keras.losses.BinaryCrossentropy(from_logits=False), # Computes the cross-entropy loss between true labels and predicted labels.\n",
    "# Focal loss instead of class weights: https://www.dlology.com/blog/multi-class-classification-with-focal-loss-for-imbalanced-datasets/\n",
    "model.compile(loss=BinaryCrossentropy(),\n",
    "                  # https://www.tensorflow.org/addons/api_docs/python/tfa/losses/SigmoidFocalCrossEntropy\n",
    "                  optimizer=tf.keras.optimizers.Adam(config.learning_rate),\n",
    "                  metrics=[tf.metrics.BinaryAccuracy(name='accuracy'),\n",
    "                           tf.keras.metrics.Precision(name='precision'),\n",
    "                           tf.keras.metrics.Precision(class_id=1,name='ISL_precision'),\n",
    "                           # Computes the precision of the predictions with respect to the labels.\n",
    "                           tf.keras.metrics.Recall(name='recall'),\n",
    "                           tf.keras.metrics.Recall(class_id=1,name='ISL_recall'),\n",
    "                           # Computes the recall of the predictions with respect to the labels.\n",
    "                           F1Score(num_classes=config.numclasses, name=\"f1_score\"),\n",
    "#                            tf.keras.metrics.AUC(name=\"auc\")\n",
    "                           ]\n",
    "                  )\n"
   ]
  },
  {
   "cell_type": "markdown",
   "metadata": {
    "id": "mpO3m-etfY18"
   },
   "source": [
    "### Start training"
   ]
  },
  {
   "cell_type": "code",
   "execution_count": 13,
   "metadata": {},
   "outputs": [
    {
     "name": "stdout",
     "output_type": "stream",
     "text": [
      "label_file_path_train: data/new_train_labels_v5_10_percent_margaux.csv\n",
      "labels_file_val: data/new_val_labels_v6_margaux.csv\n",
      "No data augmentation. Please set augment to True if you want to augment training dataset\n",
      "Training on 1966 images\n",
      "Validation on 566 images \n"
     ]
    }
   ],
   "source": [
    "bands = [2, 3, 4, 8, 18]\n",
    "gen = DataLoader(label_file_path_train=config.label_file_path_train, # test labels_test_v1 TODO use s3 paths\n",
    "                label_file_path_val=config.label_file_path_val, # or val_all\n",
    "#                 bucket_name='canopy-production-ml/chips/cloudfree-merge-polygons/dataset_v2',\n",
    "                data_extension_type='.tif',\n",
    "                bands=bands,\n",
    "                augment=config.augment,\n",
    "                enable_shuffle=config.enable_shuffle,\n",
    "                training_data_batch_size=config.batch_size,\n",
    "                enable_data_prefetch=True\n",
    "                )\n"
   ]
  },
  {
   "cell_type": "code",
   "execution_count": 14,
   "metadata": {},
   "outputs": [
    {
     "name": "stdout",
     "output_type": "stream",
     "text": [
      "(64, 100, 100, 5)\n",
      "(64, 5)\n",
      "(64, 100, 100, 5)\n",
      "(64, 5)\n"
     ]
    }
   ],
   "source": [
    "for img, label in gen.training_dataset:\n",
    "    print(img.shape)\n",
    "    print(label.shape)\n",
    "    break\n",
    "for img, label in gen.validation_dataset:\n",
    "    print(img.shape)\n",
    "    print(label.shape)\n",
    "    break"
   ]
  },
  {
   "cell_type": "code",
   "execution_count": 15,
   "metadata": {
    "colab": {
     "base_uri": "https://localhost:8080/"
    },
    "id": "w1T0w5tlfY18",
    "outputId": "15b859a2-b0eb-4f1e-e5d5-cf3f2d9f1855",
    "scrolled": true
   },
   "outputs": [
    {
     "name": "stdout",
     "output_type": "stream",
     "text": [
      "Epoch 1/30\n",
      "31/31 [==============================] - 16s 371ms/step - loss: 0.4480 - accuracy: 0.7875 - precision: 0.4509 - ISL_precision: 0.4507 - recall: 0.0923 - ISL_recall: 0.2005 - f1_score: 0.1687 - val_loss: 0.4131 - val_accuracy: 0.7979 - val_precision: 0.6667 - val_ISL_precision: 0.0000e+00 - val_recall: 0.0173 - val_ISL_recall: 0.0000e+00 - val_f1_score: 0.1641\n",
      "\n",
      "Epoch 00001: val_recall improved from -inf to 0.01733, saving model to checkpoint_recall.h5\n",
      "Epoch 2/30\n",
      "31/31 [==============================] - 14s 345ms/step - loss: 0.4228 - accuracy: 0.7949 - precision: 0.5876 - ISL_precision: 0.3634 - recall: 0.1087 - ISL_recall: 0.1858 - f1_score: 0.1617 - val_loss: 0.4029 - val_accuracy: 0.8138 - val_precision: 0.5592 - val_ISL_precision: 0.5553 - val_recall: 0.4090 - val_ISL_recall: 0.8100 - val_f1_score: 0.1641\n",
      "\n",
      "Epoch 00002: val_recall improved from 0.01733 to 0.40901, saving model to checkpoint_recall.h5\n",
      "Epoch 3/30\n",
      "31/31 [==============================] - 14s 359ms/step - loss: 0.4151 - accuracy: 0.8108 - precision: 0.5985 - ISL_precision: 0.5908 - recall: 0.3037 - ISL_recall: 0.6058 - f1_score: 0.1679 - val_loss: 0.3969 - val_accuracy: 0.8219 - val_precision: 0.5795 - val_ISL_precision: 0.5785 - val_recall: 0.4610 - val_ISL_recall: 0.9247 - val_f1_score: 0.1641\n",
      "\n",
      "Epoch 00003: val_recall improved from 0.40901 to 0.46101, saving model to checkpoint_recall.h5\n",
      "Epoch 4/30\n",
      "31/31 [==============================] - 14s 332ms/step - loss: 0.4164 - accuracy: 0.7970 - precision: 0.5496 - ISL_precision: 0.5376 - recall: 0.2575 - ISL_recall: 0.5307 - f1_score: 0.2053 - val_loss: 0.3917 - val_accuracy: 0.8226 - val_precision: 0.5793 - val_ISL_precision: 0.5793 - val_recall: 0.4749 - val_ISL_recall: 0.9427 - val_f1_score: 0.2007\n",
      "\n",
      "Epoch 00004: val_recall improved from 0.46101 to 0.47487, saving model to checkpoint_recall.h5\n",
      "Epoch 5/30\n",
      "31/31 [==============================] - 14s 362ms/step - loss: 0.3974 - accuracy: 0.8007 - precision: 0.5759 - ISL_precision: 0.5625 - recall: 0.2325 - ISL_recall: 0.4607 - f1_score: 0.3134 - val_loss: 0.3767 - val_accuracy: 0.8240 - val_precision: 0.5888 - val_ISL_precision: 0.5938 - val_recall: 0.4541 - val_ISL_recall: 0.8961 - val_f1_score: 0.3002\n",
      "\n",
      "Epoch 00005: val_recall did not improve from 0.47487\n",
      "Epoch 6/30\n",
      "31/31 [==============================] - 14s 351ms/step - loss: 0.3754 - accuracy: 0.8217 - precision: 0.6243 - ISL_precision: 0.6085 - recall: 0.3967 - ISL_recall: 0.7777 - f1_score: 0.3421 - val_loss: 0.3888 - val_accuracy: 0.7979 - val_precision: 0.5316 - val_ISL_precision: 0.2000 - val_recall: 0.0728 - val_ISL_recall: 0.0036 - val_f1_score: 0.2909\n",
      "\n",
      "Epoch 00006: val_recall did not improve from 0.47487\n",
      "\n",
      "Epoch 00006: ReduceLROnPlateau reducing learning rate to 0.00010000000474974513.\n",
      "Epoch 7/30\n",
      "31/31 [==============================] - 15s 379ms/step - loss: 0.3738 - accuracy: 0.8048 - precision: 0.6306 - ISL_precision: 0.6739 - recall: 0.1998 - ISL_recall: 0.2606 - f1_score: 0.3477 - val_loss: 0.3704 - val_accuracy: 0.8346 - val_precision: 0.6133 - val_ISL_precision: 0.6128 - val_recall: 0.5113 - val_ISL_recall: 0.9247 - val_f1_score: 0.3186\n",
      "\n",
      "Epoch 00007: val_recall improved from 0.47487 to 0.51127, saving model to checkpoint_recall.h5\n",
      "Epoch 8/30\n",
      "31/31 [==============================] - 14s 333ms/step - loss: 0.3511 - accuracy: 0.8376 - precision: 0.6459 - ISL_precision: 0.6285 - recall: 0.5142 - ISL_recall: 0.9222 - f1_score: 0.3639 - val_loss: 0.3684 - val_accuracy: 0.8378 - val_precision: 0.6329 - val_ISL_precision: 0.6301 - val_recall: 0.4870 - val_ISL_recall: 0.8853 - val_f1_score: 0.3317\n",
      "\n",
      "Epoch 00008: val_recall did not improve from 0.51127\n",
      "Epoch 9/30\n",
      "31/31 [==============================] - 14s 348ms/step - loss: 0.3443 - accuracy: 0.8431 - precision: 0.6704 - ISL_precision: 0.6572 - recall: 0.5047 - ISL_recall: 0.9088 - f1_score: 0.3985 - val_loss: 0.3672 - val_accuracy: 0.8367 - val_precision: 0.6281 - val_ISL_precision: 0.6316 - val_recall: 0.4887 - val_ISL_recall: 0.9032 - val_f1_score: 0.3329\n",
      "\n",
      "Epoch 00009: val_recall did not improve from 0.51127\n",
      "Epoch 10/30\n",
      "31/31 [==============================] - 18s 439ms/step - loss: 0.3459 - accuracy: 0.8347 - precision: 0.6484 - ISL_precision: 0.6346 - recall: 0.4844 - ISL_recall: 0.9166 - f1_score: 0.4008 - val_loss: 0.3661 - val_accuracy: 0.8350 - val_precision: 0.6206 - val_ISL_precision: 0.6256 - val_recall: 0.4905 - val_ISL_recall: 0.8746 - val_f1_score: 0.3301\n",
      "\n",
      "Epoch 00010: val_recall did not improve from 0.51127\n",
      "Epoch 11/30\n",
      "31/31 [==============================] - 14s 348ms/step - loss: 0.3423 - accuracy: 0.8398 - precision: 0.6614 - ISL_precision: 0.6464 - recall: 0.5085 - ISL_recall: 0.9153 - f1_score: 0.3953 - val_loss: 0.3661 - val_accuracy: 0.8371 - val_precision: 0.6229 - val_ISL_precision: 0.6241 - val_recall: 0.5095 - val_ISL_recall: 0.9283 - val_f1_score: 0.3244\n",
      "\n",
      "Epoch 00011: val_recall did not improve from 0.51127\n",
      "\n",
      "Epoch 00011: ReduceLROnPlateau reducing learning rate to 1.0000000474974514e-05.\n",
      "Epoch 12/30\n",
      "31/31 [==============================] - 14s 340ms/step - loss: 0.3372 - accuracy: 0.8403 - precision: 0.6518 - ISL_precision: 0.6334 - recall: 0.5240 - ISL_recall: 0.9376 - f1_score: 0.4369 - val_loss: 0.3651 - val_accuracy: 0.8360 - val_precision: 0.6226 - val_ISL_precision: 0.6269 - val_recall: 0.4974 - val_ISL_recall: 0.8853 - val_f1_score: 0.3327\n",
      "\n",
      "Epoch 00012: val_recall did not improve from 0.51127\n",
      "Epoch 13/30\n",
      "31/31 [==============================] - 14s 340ms/step - loss: 0.3389 - accuracy: 0.8387 - precision: 0.6589 - ISL_precision: 0.6364 - recall: 0.5086 - ISL_recall: 0.9103 - f1_score: 0.4173 - val_loss: 0.3648 - val_accuracy: 0.8350 - val_precision: 0.6185 - val_ISL_precision: 0.6231 - val_recall: 0.4974 - val_ISL_recall: 0.8889 - val_f1_score: 0.3336\n",
      "\n",
      "Epoch 00013: val_recall did not improve from 0.51127\n",
      "Epoch 14/30\n",
      "31/31 [==============================] - 14s 342ms/step - loss: 0.3395 - accuracy: 0.8364 - precision: 0.6455 - ISL_precision: 0.6224 - recall: 0.5022 - ISL_recall: 0.9102 - f1_score: 0.3992 - val_loss: 0.3647 - val_accuracy: 0.8357 - val_precision: 0.6217 - val_ISL_precision: 0.6269 - val_recall: 0.4957 - val_ISL_recall: 0.8853 - val_f1_score: 0.3360\n",
      "\n",
      "Epoch 00014: val_recall did not improve from 0.51127\n",
      "Epoch 15/30\n",
      "31/31 [==============================] - 14s 339ms/step - loss: 0.3353 - accuracy: 0.8401 - precision: 0.6596 - ISL_precision: 0.6369 - recall: 0.5107 - ISL_recall: 0.9143 - f1_score: 0.4179 - val_loss: 0.3645 - val_accuracy: 0.8364 - val_precision: 0.6223 - val_ISL_precision: 0.6259 - val_recall: 0.5026 - val_ISL_recall: 0.8996 - val_f1_score: 0.3374\n",
      "\n",
      "Epoch 00015: val_recall did not improve from 0.51127\n",
      "Epoch 16/30\n",
      "31/31 [==============================] - 14s 347ms/step - loss: 0.3366 - accuracy: 0.8419 - precision: 0.6612 - ISL_precision: 0.6409 - recall: 0.5161 - ISL_recall: 0.9119 - f1_score: 0.4418 - val_loss: 0.3646 - val_accuracy: 0.8364 - val_precision: 0.6245 - val_ISL_precision: 0.6276 - val_recall: 0.4957 - val_ISL_recall: 0.8817 - val_f1_score: 0.3398\n",
      "\n",
      "Epoch 00016: val_recall did not improve from 0.51127\n",
      "\n",
      "Epoch 00016: ReduceLROnPlateau reducing learning rate to 1.0000000656873453e-06.\n",
      "Epoch 17/30\n",
      "31/31 [==============================] - 14s 340ms/step - loss: 0.3312 - accuracy: 0.8447 - precision: 0.6696 - ISL_precision: 0.6476 - recall: 0.5273 - ISL_recall: 0.9181 - f1_score: 0.4214 - val_loss: 0.3645 - val_accuracy: 0.8367 - val_precision: 0.6253 - val_ISL_precision: 0.6285 - val_recall: 0.4974 - val_ISL_recall: 0.8853 - val_f1_score: 0.3398\n",
      "\n",
      "Epoch 00017: val_recall did not improve from 0.51127\n",
      "Epoch 18/30\n",
      "31/31 [==============================] - 15s 361ms/step - loss: 0.3330 - accuracy: 0.8445 - precision: 0.6765 - ISL_precision: 0.6578 - recall: 0.5163 - ISL_recall: 0.9286 - f1_score: 0.4080 - val_loss: 0.3645 - val_accuracy: 0.8364 - val_precision: 0.6245 - val_ISL_precision: 0.6285 - val_recall: 0.4957 - val_ISL_recall: 0.8853 - val_f1_score: 0.3398\n",
      "\n",
      "Epoch 00018: val_recall did not improve from 0.51127\n",
      "Epoch 19/30\n",
      "31/31 [==============================] - 15s 372ms/step - loss: 0.3379 - accuracy: 0.8382 - precision: 0.6546 - ISL_precision: 0.6312 - recall: 0.5060 - ISL_recall: 0.9070 - f1_score: 0.3926 - val_loss: 0.3644 - val_accuracy: 0.8350 - val_precision: 0.6190 - val_ISL_precision: 0.6222 - val_recall: 0.4957 - val_ISL_recall: 0.8853 - val_f1_score: 0.3336\n",
      "\n",
      "Epoch 00019: val_recall did not improve from 0.51127\n",
      "Epoch 20/30\n",
      "31/31 [==============================] - 17s 391ms/step - loss: 0.3354 - accuracy: 0.8393 - precision: 0.6543 - ISL_precision: 0.6270 - recall: 0.5065 - ISL_recall: 0.9056 - f1_score: 0.4140 - val_loss: 0.3644 - val_accuracy: 0.8350 - val_precision: 0.6190 - val_ISL_precision: 0.6222 - val_recall: 0.4957 - val_ISL_recall: 0.8853 - val_f1_score: 0.3374\n",
      "\n",
      "Epoch 00020: val_recall did not improve from 0.51127\n",
      "Epoch 21/30\n",
      "31/31 [==============================] - 15s 364ms/step - loss: 0.3381 - accuracy: 0.8398 - precision: 0.6576 - ISL_precision: 0.6353 - recall: 0.5102 - ISL_recall: 0.9156 - f1_score: 0.4234 - val_loss: 0.3644 - val_accuracy: 0.8350 - val_precision: 0.6190 - val_ISL_precision: 0.6222 - val_recall: 0.4957 - val_ISL_recall: 0.8853 - val_f1_score: 0.3374\n",
      "\n",
      "Epoch 00021: val_recall did not improve from 0.51127\n",
      "\n",
      "Epoch 00021: ReduceLROnPlateau reducing learning rate to 1e-06.\n",
      "Epoch 00021: early stopping\n"
     ]
    }
   ],
   "source": [
    "epochs = 30\n",
    "history = model.fit(gen.training_dataset, \n",
    "                    validation_data=gen.validation_dataset, \n",
    "                    epochs=epochs, \n",
    "                    callbacks=callbacks_list\n",
    "                   ) \n",
    "model.save('./model.h5')"
   ]
  },
  {
   "cell_type": "code",
   "execution_count": 16,
   "metadata": {},
   "outputs": [
    {
     "name": "stdout",
     "output_type": "stream",
     "text": [
      "9/9 [==============================] - 2s 244ms/step - loss: 0.3644 - accuracy: 0.8350 - precision: 0.6190 - ISL_precision: 0.6222 - recall: 0.4957 - ISL_recall: 0.8853 - f1_score: 0.3374\n"
     ]
    },
    {
     "data": {
      "text/plain": [
       "[0.3643900156021118,\n",
       " 0.8349823355674744,\n",
       " 0.6190476417541504,\n",
       " 0.6221662759780884,\n",
       " 0.4956672489643097,\n",
       " 0.8853046298027039,\n",
       " array([0.556391, 0.740947, 0.      , 0.173913, 0.215962], dtype=float32)]"
      ]
     },
     "execution_count": 16,
     "metadata": {},
     "output_type": "execute_result"
    }
   ],
   "source": [
    "model.evaluate(gen.validation_dataset) "
   ]
  },
  {
   "cell_type": "markdown",
   "metadata": {
    "id": "wlnMosA3fY19"
   },
   "source": [
    "Evaluation"
   ]
  },
  {
   "cell_type": "code",
   "execution_count": 18,
   "metadata": {
    "id": "zzTBEg-ufY19"
   },
   "outputs": [
    {
     "name": "stdout",
     "output_type": "stream",
     "text": [
      "9/9 [==============================] - 3s 271ms/step - loss: 0.3732 - accuracy: 0.8390 - precision: 0.6233 - ISL_precision: 0.6371 - recall: 0.5267 - ISL_recall: 0.9345 - f1_score: 0.3108\n"
     ]
    },
    {
     "data": {
      "text/plain": [
       "[0.3703746795654297,\n",
       " 0.8346289992332458,\n",
       " 0.6133056282997131,\n",
       " 0.6128265857696533,\n",
       " 0.5112651586532593,\n",
       " 0.9247311949729919,\n",
       " array([0.554745, 0.728997, 0.      , 0.153846, 0.15544 ], dtype=float32)]"
      ]
     },
     "execution_count": 18,
     "metadata": {},
     "output_type": "execute_result"
    }
   ],
   "source": [
    "model_test = Simple_CNN(config.numclasses, config.input_shape)\n",
    "model_test.compile(loss=BinaryCrossentropy(),\n",
    "                  # https://www.tensorflow.org/addons/api_docs/python/tfa/losses/SigmoidFocalCrossEntropy\n",
    "                  optimizer=tf.keras.optimizers.Adam(config.learning_rate),\n",
    "                  metrics=[tf.metrics.BinaryAccuracy(name='accuracy'),\n",
    "                           tf.keras.metrics.Precision(name='precision'),\n",
    "                           tf.keras.metrics.Precision(class_id=1,name='ISL_precision'),\n",
    "                           # Computes the precision of the predictions with respect to the labels.\n",
    "                           tf.keras.metrics.Recall(name='recall'),\n",
    "                           tf.keras.metrics.Recall(class_id=1,name='ISL_recall'),\n",
    "                           # Computes the recall of the predictions with respect to the labels.\n",
    "                           F1Score(num_classes=config.numclasses, name=\"f1_score\"),\n",
    "#                            tf.keras.metrics.AUC(name=\"auc\")\n",
    "                           ]\n",
    "                  )\n",
    "model_test.load_weights(\"checkpoint_recall.h5\")\n",
    "model_test.evaluate(gen.validation_dataset) "
   ]
  },
  {
   "cell_type": "code",
   "execution_count": 19,
   "metadata": {},
   "outputs": [
    {
     "name": "stdout",
     "output_type": "stream",
     "text": [
      "9/9 [==============================] - 3s 259ms/step - loss: 0.3644 - accuracy: 0.8350 - precision: 0.6190 - ISL_precision: 0.6222 - recall: 0.4957 - ISL_recall: 0.8853 - f1_score: 0.3374\n"
     ]
    },
    {
     "data": {
      "text/plain": [
       "[0.3643900156021118,\n",
       " 0.8349823355674744,\n",
       " 0.6190476417541504,\n",
       " 0.6221662759780884,\n",
       " 0.4956672489643097,\n",
       " 0.8853046298027039,\n",
       " array([0.556391, 0.740947, 0.      , 0.173913, 0.215962], dtype=float32)]"
      ]
     },
     "execution_count": 19,
     "metadata": {},
     "output_type": "execute_result"
    }
   ],
   "source": [
    "model_test = tf.keras.models.load_model('./model.h5')\n",
    "model_test.evaluate(gen.validation_dataset) "
   ]
  },
  {
   "cell_type": "code",
   "execution_count": 20,
   "metadata": {},
   "outputs": [
    {
     "name": "stdout",
     "output_type": "stream",
     "text": [
      "9/9 [==============================] - 3s 239ms/step - loss: 0.3704 - accuracy: 0.8346 - precision: 0.6133 - ISL_precision: 0.6128 - recall: 0.5113 - ISL_recall: 0.9247 - f1_score: 0.3186\n"
     ]
    },
    {
     "data": {
      "text/plain": [
       "[0.3703746795654297,\n",
       " 0.8346289992332458,\n",
       " 0.6133056282997131,\n",
       " 0.6128265857696533,\n",
       " 0.5112651586532593,\n",
       " 0.9247311949729919,\n",
       " array([0.554745, 0.728997, 0.      , 0.153846, 0.15544 ], dtype=float32)]"
      ]
     },
     "execution_count": 20,
     "metadata": {},
     "output_type": "execute_result"
    }
   ],
   "source": [
    "model_test = tf.keras.models.load_model('./model.h5')\n",
    "model_test.load_weights(\"checkpoint_recall.h5\")\n",
    "model_test.evaluate(gen.validation_dataset)"
   ]
  },
  {
   "cell_type": "code",
   "execution_count": null,
   "metadata": {},
   "outputs": [],
   "source": []
  },
  {
   "cell_type": "code",
   "execution_count": 21,
   "metadata": {},
   "outputs": [],
   "source": [
    "class TestDataLoader:\n",
    "    def __init__(self,\n",
    "                 training_dir=\"/Users/margauxmforstyhe/Desktop/DatasetV2_PC/chips/cloudfree-merge-polygons/dataset_v2/\",\n",
    "                 label_file_path_test=\"labels_test.csv\",\n",
    "                 data_extension_type='.tif',\n",
    "                 bands=[1, 2, 3, 4, 5, 6, 7, 8, 9, 10, 11, 12, 13, 14, 15, 16, 17, 18],\n",
    "                 augment=False,\n",
    "                 enable_shuffle=False,\n",
    "                 training_data_shuffle_buffer_size=1000,\n",
    "                 batch_size=20,\n",
    "                 enable_data_prefetch=False,\n",
    "                 data_prefetch_size=tf.data.experimental.AUTOTUNE,\n",
    "                 num_parallel_calls=tf.data.AUTOTUNE,\n",
    "                 output_shape=(tf.float32, tf.float32)):\n",
    "\n",
    "\n",
    "        self.label_file_path_test = label_file_path_test\n",
    "\n",
    "        print(f\"labels_file_test: {self.label_file_path_test}\")\n",
    "\n",
    "        self.labels_file_test = pd.read_csv(self.label_file_path_test)\n",
    "        self.test_filenames = self.labels_file_test.paths.to_list()\n",
    "\n",
    "        self.bands = bands\n",
    "        self.local_path_train = training_dir\n",
    "\n",
    "        self.enable_shuffle = enable_shuffle\n",
    "        if training_data_shuffle_buffer_size is not None:\n",
    "            self.training_data_shuffle_buffer_size = training_data_shuffle_buffer_size\n",
    "\n",
    "        self.num_parallel_calls = num_parallel_calls\n",
    "        self.enable_data_prefetch = enable_data_prefetch\n",
    "        self.data_prefetch_size = data_prefetch_size\n",
    "        self.data_extension_type = data_extension_type\n",
    "        self.output_shape = output_shape\n",
    "\n",
    "        self.batch_size = batch_size\n",
    "\n",
    "        self.build_test_dataset()\n",
    "\n",
    "    def build_test_dataset(self):\n",
    "        self.test_dataset = tf.data.Dataset.from_tensor_slices(list(self.test_filenames))\n",
    "        self.test_dataset = self.test_dataset.map(\n",
    "            (lambda x: tf.py_function(self.process_path, [x], self.output_shape)),\n",
    "            num_parallel_calls=self.num_parallel_calls)\n",
    "\n",
    "        self.test_dataset = self.test_dataset.batch(self.batch_size)\n",
    "        print(f\"test on {len(self.test_filenames)} images \")\n",
    "\n",
    "    def read_image(self, path_img):\n",
    "        path_to_img = self.local_path_train + \"/\" + path_img.numpy().decode()\n",
    "        train_img = np.transpose(rasterio.open(path_to_img).read(self.bands), (1, 2, 0))\n",
    "        # Normalize image\n",
    "        train_img = tf.image.convert_image_dtype(train_img, tf.float32)\n",
    "        return train_img\n",
    "\n",
    "    def get_label_from_csv(self, path_img):\n",
    "        # testing if path in the training csv file or in the val one\n",
    "        if path_img.numpy().decode() in self.labels_file_test.paths.to_list():\n",
    "            # path_img is a tf.string and needs to be converted into a string using .numpy().decode()\n",
    "            id = int(self.labels_file_test[self.labels_file_test.paths == path_img.numpy().decode()].index.values[0])\n",
    "            # The list of labels (e.g [0,1,0,0,0,0,0,0,0,0] is grabbed from the csv file on the row where the s3 path is\n",
    "            label = self.labels_file_test.drop('paths', 1).iloc[int(id)].to_list()\n",
    "        return label\n",
    "\n",
    "    # Function used in the map() and returns the image and label corresponding to the file_path input\n",
    "    def process_path(self, file_path):\n",
    "        label = self.get_label_from_csv(file_path)\n",
    "        img = self.read_image(file_path)\n",
    "        return img, label"
   ]
  },
  {
   "cell_type": "code",
   "execution_count": 22,
   "metadata": {},
   "outputs": [
    {
     "name": "stdout",
     "output_type": "stream",
     "text": [
      "labels_file_test: data/new_val_labels_v6_margaux.csv\n",
      "test on 566 images \n"
     ]
    }
   ],
   "source": [
    "bands = [2, 3, 4, 8, 18]\n",
    "gen_test = TestDataLoader(label_file_path_test=config.label_file_path_val, # or val_all\n",
    "                data_extension_type='.tif',\n",
    "                bands=bands,\n",
    "                augment=config.augment,\n",
    "                enable_shuffle=config.enable_shuffle,\n",
    "                batch_size=config.batch_size,\n",
    "                enable_data_prefetch=True\n",
    "                )"
   ]
  },
  {
   "cell_type": "code",
   "execution_count": 23,
   "metadata": {},
   "outputs": [
    {
     "name": "stdout",
     "output_type": "stream",
     "text": [
      "9/9 [==============================] - 2s 254ms/step - loss: 0.3704 - accuracy: 0.8346 - precision: 0.6133 - ISL_precision: 0.6128 - recall: 0.5113 - ISL_recall: 0.9247 - f1_score: 0.3186\n"
     ]
    },
    {
     "data": {
      "text/plain": [
       "[0.3703746795654297,\n",
       " 0.8346289992332458,\n",
       " 0.6133056282997131,\n",
       " 0.6128265857696533,\n",
       " 0.5112651586532593,\n",
       " 0.9247311949729919,\n",
       " array([0.554745, 0.728997, 0.      , 0.153846, 0.15544 ], dtype=float32)]"
      ]
     },
     "execution_count": 23,
     "metadata": {},
     "output_type": "execute_result"
    }
   ],
   "source": [
    "model_test.evaluate(gen_test.test_dataset) "
   ]
  },
  {
   "cell_type": "code",
   "execution_count": null,
   "metadata": {},
   "outputs": [],
   "source": []
  },
  {
   "cell_type": "code",
   "execution_count": null,
   "metadata": {},
   "outputs": [],
   "source": []
  },
  {
   "cell_type": "code",
   "execution_count": null,
   "metadata": {},
   "outputs": [],
   "source": []
  },
  {
   "cell_type": "code",
   "execution_count": 24,
   "metadata": {
    "id": "rUQV7eQ4fY19"
   },
   "outputs": [
    {
     "name": "stdout",
     "output_type": "stream",
     "text": [
      "(100, 100, 5)\n"
     ]
    }
   ],
   "source": [
    "s3 = boto3.resource('s3')\n",
    "# TODO test on entire test dataset\n",
    "obj = s3.Object('canopy-production-ml', \"chips/cloudfree-merge-polygons/split/test/100/100_1000_1000.tif\")\n",
    "obj_bytes = io.BytesIO(obj.get()['Body'].read())\n",
    "with rasterio.open(obj_bytes) as src:\n",
    "    img_test = np.transpose(src.read(bands), (1, 2, 0))\n",
    "print(img_test.shape)\n",
    "label_list = ['Industrial_agriculture', 'ISL', 'Mining','Roads', 'Shifting_cultivation'\n",
    "]"
   ]
  },
  {
   "cell_type": "code",
   "execution_count": 25,
   "metadata": {
    "id": "Xka2fcz1fY19"
   },
   "outputs": [
    {
     "name": "stdout",
     "output_type": "stream",
     "text": [
      "This chip was predicted to belong to these classes:\n",
      "['ISL']\n"
     ]
    }
   ],
   "source": [
    "predictions = model_test.predict(np.array([img_test]))\n",
    "\n",
    "threshold = 0.2\n",
    "argsort_list = list(np.argsort(np.array(predictions[0])))\n",
    "argsort_list.reverse()\n",
    "pred_labels = []\n",
    "for top_matches in argsort_list:\n",
    "    if predictions[0][top_matches] > threshold:\n",
    "        pred_labels.append(label_list[top_matches])\n",
    "\n",
    "print(\"This chip was predicted to belong to these classes:\")\n",
    "print(pred_labels)\n"
   ]
  },
  {
   "cell_type": "code",
   "execution_count": 26,
   "metadata": {
    "id": "R1Ae9ca7fY19"
   },
   "outputs": [
    {
     "data": {
      "image/png": "[encoded data removed]",
      "text/plain": [
       "<Figure size 432x288 with 1 Axes>"
      ]
     },
     "metadata": {
      "needs_background": "light"
     },
     "output_type": "display_data"
    },
    {
     "data": {
      "image/png": "[encoded data removed]",
      "text/plain": [
       "<Figure size 432x288 with 1 Axes>"
      ]
     },
     "metadata": {
      "needs_background": "light"
     },
     "output_type": "display_data"
    },
    {
     "data": {
      "image/png": "[encoded data removed]",
      "text/plain": [
       "<Figure size 432x288 with 1 Axes>"
      ]
     },
     "metadata": {
      "needs_background": "light"
     },
     "output_type": "display_data"
    },
    {
     "data": {
      "image/png": "[encoded data removed]",
      "text/plain": [
       "<Figure size 432x288 with 1 Axes>"
      ]
     },
     "metadata": {
      "needs_background": "light"
     },
     "output_type": "display_data"
    }
   ],
   "source": [
    "plot_learningCurve(history)"
   ]
  },
  {
   "cell_type": "code",
   "execution_count": 27,
   "metadata": {},
   "outputs": [
    {
     "name": "stdout",
     "output_type": "stream",
     "text": [
      "9/9 [==============================] - 2s 244ms/step\n"
     ]
    }
   ],
   "source": [
    "y_pred = model_test.predict(gen_test.test_dataset, verbose=1)"
   ]
  },
  {
   "cell_type": "code",
   "execution_count": 28,
   "metadata": {},
   "outputs": [
    {
     "name": "stdout",
     "output_type": "stream",
     "text": [
      "[[0 0 0 0 1]\n",
      " [0 1 0 0 0]\n",
      " [0 1 0 0 0]\n",
      " ...\n",
      " [0 1 0 0 0]\n",
      " [0 1 0 0 0]\n",
      " [0 0 0 0 1]]\n"
     ]
    }
   ],
   "source": [
    "# Get true labels from csv file \n",
    "y_true_2 = pd.read_csv(config.label_file_path_val).drop('paths', 1)\n",
    "y_true = np.array([y_true_2.loc[i].to_list() for i in range(len(y_true_2))])\n",
    "print(y_true)"
   ]
  },
  {
   "cell_type": "code",
   "execution_count": 29,
   "metadata": {},
   "outputs": [],
   "source": [
    "def compare_ytrue_ypred(y_true, y_pred,threshold=0.2):\n",
    "    for idx in range(len(y_pred)):\n",
    "        argsort_list = list(np.argsort(np.array(y_pred[idx])))\n",
    "        argsort_list.reverse()\n",
    "        true_classes_list = [ i for i in range(len(y_true[idx])) if y_true[idx][i] == 1 ]\n",
    "        print(f\"\\n{idx}) True labels:\")\n",
    "        print([label_list[index] for index in true_classes_list])\n",
    "        pred_labels = []\n",
    "        for top_matches in argsort_list:\n",
    "            if y_pred[idx][top_matches] > threshold:\n",
    "                pred_labels.append(label_list[top_matches])\n",
    "        print(\"Predicted labels:\")\n",
    "        print(pred_labels)\n",
    "#         break\n",
    "# compare_ytrue_ypred(y_true, y_pred,threshold=0.2)"
   ]
  },
  {
   "cell_type": "code",
   "execution_count": 30,
   "metadata": {},
   "outputs": [],
   "source": [
    "y_pred_threshold = np.where(y_pred > threshold, 1, 0)"
   ]
  },
  {
   "cell_type": "code",
   "execution_count": 31,
   "metadata": {},
   "outputs": [],
   "source": [
    "from sklearn.metrics import multilabel_confusion_matrix, ConfusionMatrixDisplay\n",
    "# https://scikit-learn.org/stable/modules/generated/sklearn.metrics.multilabel_confusion_matrix.html\n",
    "matrices = multilabel_confusion_matrix(y_true, y_pred_threshold)"
   ]
  },
  {
   "cell_type": "code",
   "execution_count": 32,
   "metadata": {},
   "outputs": [
    {
     "data": {
      "image/png": "[encoded data removed]",
      "text/plain": [
       "<Figure size 432x288 with 2 Axes>"
      ]
     },
     "metadata": {
      "needs_background": "light"
     },
     "output_type": "display_data"
    },
    {
     "data": {
      "image/png": "[encoded data removed]",
      "text/plain": [
       "<Figure size 432x288 with 2 Axes>"
      ]
     },
     "metadata": {
      "needs_background": "light"
     },
     "output_type": "display_data"
    },
    {
     "data": {
      "image/png": "[encoded data removed]",
      "text/plain": [
       "<Figure size 432x288 with 2 Axes>"
      ]
     },
     "metadata": {
      "needs_background": "light"
     },
     "output_type": "display_data"
    },
    {
     "data": {
      "image/png": "[encoded data removed]",
      "text/plain": [
       "<Figure size 432x288 with 2 Axes>"
      ]
     },
     "metadata": {
      "needs_background": "light"
     },
     "output_type": "display_data"
    },
    {
     "data": {
      "image/png": "[encoded data removed]",
      "text/plain": [
       "<Figure size 432x288 with 2 Axes>"
      ]
     },
     "metadata": {
      "needs_background": "light"
     },
     "output_type": "display_data"
    }
   ],
   "source": [
    "# if no label x on chip i then label = 0 and predicted should = 0 otherwise if label predicted = 1 then it is wrongly classifiying the label (FP)\n",
    "# if label x on chip i then label = 1 and predicted should = 1 otherwise if label predicted = 0 then it is missing the label classification (FN)\n",
    "for i in range(len(label_list)):  \n",
    "    cmd = ConfusionMatrixDisplay(matrices[i], display_labels=np.unique(y_true)).plot()\n",
    "    plt.title(f'Confusion Matrix for label {label_list[i]}')\n",
    "    plt.show()"
   ]
  },
  {
   "cell_type": "code",
   "execution_count": null,
   "metadata": {},
   "outputs": [],
   "source": []
  },
  {
   "cell_type": "code",
   "execution_count": null,
   "metadata": {},
   "outputs": [],
   "source": []
  },
  {
   "cell_type": "code",
   "execution_count": null,
   "metadata": {},
   "outputs": [],
   "source": []
  }
 ],
 "metadata": {
  "accelerator": "GPU",
  "colab": {
   "collapsed_sections": [
    "Mf6ku3ijfY17"
   ],
   "name": "ml_explore_Margaux_shuffle.ipynb",
   "provenance": [],
   "toc_visible": true
  },
  "kernelspec": {
   "display_name": "Python 3",
   "language": "python",
   "name": "python3"
  },
  "language_info": {
   "codemirror_mode": {
    "name": "ipython",
    "version": 3
   },
   "file_extension": ".py",
   "mimetype": "text/x-python",
   "name": "python",
   "nbconvert_exporter": "python",
   "pygments_lexer": "ipython3",
   "version": "3.8.3"
  }
 },
 "nbformat": 4,
 "nbformat_minor": 4
}
