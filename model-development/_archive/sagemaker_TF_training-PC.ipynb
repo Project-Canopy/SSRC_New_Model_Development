{
 "cells": [
  {
   "cell_type": "markdown",
   "metadata": {},
   "source": [
    "# Deep Learning with Tensorflow on Amazon SageMaker and S3\n",
    "\n"
   ]
  },
  {
   "cell_type": "markdown",
   "metadata": {},
   "source": [
    "## Imports"
   ]
  },
  {
   "cell_type": "code",
   "execution_count": 1,
   "metadata": {},
   "outputs": [
    {
     "name": "stdout",
     "output_type": "stream",
     "text": [
      "1.60.2\n"
     ]
    }
   ],
   "source": [
    "import sagemaker\n",
    "\n",
    "print(sagemaker.__version__)\n",
    "sess = sagemaker.Session()\n",
    "# role = sagemaker.get_execution_role()\n",
    "import os\n",
    "from tensorflow import keras\n",
    "import numpy as np"
   ]
  },
  {
   "cell_type": "code",
   "execution_count": 5,
   "metadata": {},
   "outputs": [
    {
     "name": "stdout",
     "output_type": "stream",
     "text": [
      "AWS Access Key ID [****************7ZZ2]: ^C\n",
      "\n"
     ]
    }
   ],
   "source": [
    "!aws configure"
   ]
  },
  {
   "cell_type": "markdown",
   "metadata": {},
   "source": [
    "## Train on the notebook on local machine"
   ]
  },
  {
   "cell_type": "code",
   "execution_count": 8,
   "metadata": {},
   "outputs": [],
   "source": [
    "from sagemaker.tensorflow import TensorFlow\n",
    "\n",
    "# put these files in the respective training folder\n",
    "training_file = \"labels_test_v1_m.csv\"\n",
    "validation_file = \"val_labels_m.csv\"\n",
    "\n",
    "tf_estimator = TensorFlow(entry_point='train_no_s3.py', \n",
    "                          role=\"arn:aws:iam::963659202518:role/service-role/AmazonSageMaker-ExecutionRole-20210306T191865\",\n",
    "                          train_instance_count=1, \n",
    "                          train_instance_type='local',\n",
    "                          framework_version='2.4', \n",
    "                          base_job_name='pc-tf-custom-container-test-job',\n",
    "                          output_path='s3://canopy-production-ml-output',\n",
    "                          py_version='py37',\n",
    "                          script_mode=True,\n",
    "                          hyperparameters={'training_file':training_file, \n",
    "                                           'validation_file': validation_file,\n",
    "#                                            'bucket':\"margaux-bucket-us-east-1\",\n",
    "                                           'epochs': 2, 'augment': True, 'batch-size': 100,\n",
    "                                           'learning-rate': 0.01, 'numclasses': 10,\n",
    "                                           'wandb_key': \"6607ed7a49b452c2f3494ce60f9514f6c9e3b4e6\",\n",
    "                                           's3_chkpt_dir':\"ckpt\",\n",
    "                                           'bands': \"2 3 4 8 12\",\n",
    "                                           'starting_checkpoint':\"ckpt/pc-tf-custom-container-test-job-RGBNIRN-2021-03-15-22-45-06-142/model_resnet_epoch_7.h5\"}\n",
    "                         )\n",
    "                                            "
   ]
  },
  {
   "cell_type": "markdown",
   "metadata": {},
   "source": [
    "Training"
   ]
  },
  {
   "cell_type": "code",
   "execution_count": 9,
   "metadata": {},
   "outputs": [
    {
     "name": "stderr",
     "output_type": "stream",
     "text": [
      "'create_image_uri' will be deprecated in favor of 'ImageURIProvider' class in SageMaker Python SDK v2.\n"
     ]
    },
    {
     "name": "stdout",
     "output_type": "stream",
     "text": [
      "Creating tmpv7t2vhho_algo-1-h3wuq_1 ... \n",
      "\u001b[1BAttaching to tmpv7t2vhho_algo-1-h3wuq_12mdone\u001b[0m\n",
      "\u001b[36malgo-1-h3wuq_1  |\u001b[0m 2021-03-20 21:52:38.572225: W tensorflow/core/profiler/internal/smprofiler_timeline.cc:460] Initializing the SageMaker Profiler.\n",
      "\u001b[36malgo-1-h3wuq_1  |\u001b[0m 2021-03-20 21:52:38.579199: W tensorflow/core/profiler/internal/smprofiler_timeline.cc:105] SageMaker Profiler is not enabled. The timeline writer thread will not be started, future recorded events will be dropped.\n",
      "\u001b[36malgo-1-h3wuq_1  |\u001b[0m 2021-03-20 21:52:38.781770: W tensorflow/core/profiler/internal/smprofiler_timeline.cc:460] Initializing the SageMaker Profiler.\n",
      "\u001b[36malgo-1-h3wuq_1  |\u001b[0m 2021-03-20 21:52:43,081 sagemaker-training-toolkit INFO     Imported framework sagemaker_tensorflow_container.training\n",
      "\u001b[36malgo-1-h3wuq_1  |\u001b[0m 2021-03-20 21:52:43,097 sagemaker-training-toolkit INFO     No GPUs detected (normal if no gpus installed)\n",
      "\u001b[36malgo-1-h3wuq_1  |\u001b[0m 2021-03-20 21:52:43,150 botocore.credentials INFO     Found credentials in environment variables.\n",
      "\u001b[36malgo-1-h3wuq_1  |\u001b[0m 2021-03-20 21:52:44,372 sagemaker-training-toolkit INFO     No GPUs detected (normal if no gpus installed)\n",
      "\u001b[36malgo-1-h3wuq_1  |\u001b[0m 2021-03-20 21:52:44,415 sagemaker-training-toolkit INFO     No GPUs detected (normal if no gpus installed)\n",
      "\u001b[36malgo-1-h3wuq_1  |\u001b[0m 2021-03-20 21:52:44,447 sagemaker-training-toolkit INFO     No GPUs detected (normal if no gpus installed)\n",
      "\u001b[36malgo-1-h3wuq_1  |\u001b[0m 2021-03-20 21:52:44,469 sagemaker-training-toolkit INFO     Invoking user script\n",
      "\u001b[36malgo-1-h3wuq_1  |\u001b[0m \n",
      "\u001b[36malgo-1-h3wuq_1  |\u001b[0m Training Env:\n",
      "\u001b[36malgo-1-h3wuq_1  |\u001b[0m \n",
      "\u001b[36malgo-1-h3wuq_1  |\u001b[0m {\n",
      "\u001b[36malgo-1-h3wuq_1  |\u001b[0m     \"additional_framework_parameters\": {},\n",
      "\u001b[36malgo-1-h3wuq_1  |\u001b[0m     \"channel_input_dirs\": {\n",
      "\u001b[36malgo-1-h3wuq_1  |\u001b[0m         \"training\": \"/opt/ml/input/data/training\"\n",
      "\u001b[36malgo-1-h3wuq_1  |\u001b[0m     },\n",
      "\u001b[36malgo-1-h3wuq_1  |\u001b[0m     \"current_host\": \"algo-1-h3wuq\",\n",
      "\u001b[36malgo-1-h3wuq_1  |\u001b[0m     \"framework_module\": \"sagemaker_tensorflow_container.training:main\",\n",
      "\u001b[36malgo-1-h3wuq_1  |\u001b[0m     \"hosts\": [\n",
      "\u001b[36malgo-1-h3wuq_1  |\u001b[0m         \"algo-1-h3wuq\"\n",
      "\u001b[36malgo-1-h3wuq_1  |\u001b[0m     ],\n",
      "\u001b[36malgo-1-h3wuq_1  |\u001b[0m     \"hyperparameters\": {\n",
      "\u001b[36malgo-1-h3wuq_1  |\u001b[0m         \"training_file\": \"labels_test_v1_m.csv\",\n",
      "\u001b[36malgo-1-h3wuq_1  |\u001b[0m         \"validation_file\": \"val_labels_m.csv\",\n",
      "\u001b[36malgo-1-h3wuq_1  |\u001b[0m         \"epochs\": 2,\n",
      "\u001b[36malgo-1-h3wuq_1  |\u001b[0m         \"augment\": true,\n",
      "\u001b[36malgo-1-h3wuq_1  |\u001b[0m         \"batch-size\": 100,\n",
      "\u001b[36malgo-1-h3wuq_1  |\u001b[0m         \"learning-rate\": 0.01,\n",
      "\u001b[36malgo-1-h3wuq_1  |\u001b[0m         \"numclasses\": 10,\n",
      "\u001b[36malgo-1-h3wuq_1  |\u001b[0m         \"wandb_key\": \"6607ed7a49b452c2f3494ce60f9514f6c9e3b4e6\",\n",
      "\u001b[36malgo-1-h3wuq_1  |\u001b[0m         \"s3_chkpt_dir\": \"ckpt\",\n",
      "\u001b[36malgo-1-h3wuq_1  |\u001b[0m         \"bands\": \"2 3 4 8 12\",\n",
      "\u001b[36malgo-1-h3wuq_1  |\u001b[0m         \"starting_checkpoint\": \"ckpt/pc-tf-custom-container-test-job-RGBNIRN-2021-03-15-22-45-06-142/model_resnet_epoch_7.h5\",\n",
      "\u001b[36malgo-1-h3wuq_1  |\u001b[0m         \"model_dir\": \"s3://canopy-production-ml-output/pc-tf-custom-container-test-job-2021-03-20-21-52-32-412/model\"\n",
      "\u001b[36malgo-1-h3wuq_1  |\u001b[0m     },\n",
      "\u001b[36malgo-1-h3wuq_1  |\u001b[0m     \"input_config_dir\": \"/opt/ml/input/config\",\n",
      "\u001b[36malgo-1-h3wuq_1  |\u001b[0m     \"input_data_config\": {\n",
      "\u001b[36malgo-1-h3wuq_1  |\u001b[0m         \"training\": {\n",
      "\u001b[36malgo-1-h3wuq_1  |\u001b[0m             \"TrainingInputMode\": \"File\"\n",
      "\u001b[36malgo-1-h3wuq_1  |\u001b[0m         }\n",
      "\u001b[36malgo-1-h3wuq_1  |\u001b[0m     },\n",
      "\u001b[36malgo-1-h3wuq_1  |\u001b[0m     \"input_dir\": \"/opt/ml/input\",\n",
      "\u001b[36malgo-1-h3wuq_1  |\u001b[0m     \"is_master\": true,\n",
      "\u001b[36malgo-1-h3wuq_1  |\u001b[0m     \"job_name\": \"pc-tf-custom-container-test-job-2021-03-20-21-52-32-412\",\n",
      "\u001b[36malgo-1-h3wuq_1  |\u001b[0m     \"log_level\": 20,\n",
      "\u001b[36malgo-1-h3wuq_1  |\u001b[0m     \"master_hostname\": \"algo-1-h3wuq\",\n",
      "\u001b[36malgo-1-h3wuq_1  |\u001b[0m     \"model_dir\": \"/opt/ml/model\",\n",
      "\u001b[36malgo-1-h3wuq_1  |\u001b[0m     \"module_dir\": \"s3://canopy-production-ml-output/pc-tf-custom-container-test-job-2021-03-20-21-52-32-412/source/sourcedir.tar.gz\",\n",
      "\u001b[36malgo-1-h3wuq_1  |\u001b[0m     \"module_name\": \"train_no_s3\",\n",
      "\u001b[36malgo-1-h3wuq_1  |\u001b[0m     \"network_interface_name\": \"eth0\",\n",
      "\u001b[36malgo-1-h3wuq_1  |\u001b[0m     \"num_cpus\": 6,\n",
      "\u001b[36malgo-1-h3wuq_1  |\u001b[0m     \"num_gpus\": 0,\n",
      "\u001b[36malgo-1-h3wuq_1  |\u001b[0m     \"output_data_dir\": \"/opt/ml/output/data\",\n",
      "\u001b[36malgo-1-h3wuq_1  |\u001b[0m     \"output_dir\": \"/opt/ml/output\",\n",
      "\u001b[36malgo-1-h3wuq_1  |\u001b[0m     \"output_intermediate_dir\": \"/opt/ml/output/intermediate\",\n",
      "\u001b[36malgo-1-h3wuq_1  |\u001b[0m     \"resource_config\": {\n",
      "\u001b[36malgo-1-h3wuq_1  |\u001b[0m         \"current_host\": \"algo-1-h3wuq\",\n",
      "\u001b[36malgo-1-h3wuq_1  |\u001b[0m         \"hosts\": [\n",
      "\u001b[36malgo-1-h3wuq_1  |\u001b[0m             \"algo-1-h3wuq\"\n",
      "\u001b[36malgo-1-h3wuq_1  |\u001b[0m         ]\n",
      "\u001b[36malgo-1-h3wuq_1  |\u001b[0m     },\n",
      "\u001b[36malgo-1-h3wuq_1  |\u001b[0m     \"user_entry_point\": \"train_no_s3.py\"\n",
      "\u001b[36malgo-1-h3wuq_1  |\u001b[0m }\n",
      "\u001b[36malgo-1-h3wuq_1  |\u001b[0m \n",
      "\u001b[36malgo-1-h3wuq_1  |\u001b[0m Environment variables:\n",
      "\u001b[36malgo-1-h3wuq_1  |\u001b[0m \n",
      "\u001b[36malgo-1-h3wuq_1  |\u001b[0m SM_HOSTS=[\"algo-1-h3wuq\"]\n",
      "\u001b[36malgo-1-h3wuq_1  |\u001b[0m SM_NETWORK_INTERFACE_NAME=eth0\n",
      "\u001b[36malgo-1-h3wuq_1  |\u001b[0m SM_HPS={\"augment\":true,\"bands\":\"2 3 4 8 12\",\"batch-size\":100,\"epochs\":2,\"learning-rate\":0.01,\"model_dir\":\"s3://canopy-production-ml-output/pc-tf-custom-container-test-job-2021-03-20-21-52-32-412/model\",\"numclasses\":10,\"s3_chkpt_dir\":\"ckpt\",\"starting_checkpoint\":\"ckpt/pc-tf-custom-container-test-job-RGBNIRN-2021-03-15-22-45-06-142/model_resnet_epoch_7.h5\",\"training_file\":\"labels_test_v1_m.csv\",\"validation_file\":\"val_labels_m.csv\",\"wandb_key\":\"6607ed7a49b452c2f3494ce60f9514f6c9e3b4e6\"}\n",
      "\u001b[36malgo-1-h3wuq_1  |\u001b[0m SM_USER_ENTRY_POINT=train_no_s3.py\n",
      "\u001b[36malgo-1-h3wuq_1  |\u001b[0m SM_FRAMEWORK_PARAMS={}\n",
      "\u001b[36malgo-1-h3wuq_1  |\u001b[0m SM_RESOURCE_CONFIG={\"current_host\":\"algo-1-h3wuq\",\"hosts\":[\"algo-1-h3wuq\"]}\n",
      "\u001b[36malgo-1-h3wuq_1  |\u001b[0m SM_INPUT_DATA_CONFIG={\"training\":{\"TrainingInputMode\":\"File\"}}\n",
      "\u001b[36malgo-1-h3wuq_1  |\u001b[0m SM_OUTPUT_DATA_DIR=/opt/ml/output/data\n",
      "\u001b[36malgo-1-h3wuq_1  |\u001b[0m SM_CHANNELS=[\"training\"]\n",
      "\u001b[36malgo-1-h3wuq_1  |\u001b[0m SM_CURRENT_HOST=algo-1-h3wuq\n",
      "\u001b[36malgo-1-h3wuq_1  |\u001b[0m SM_MODULE_NAME=train_no_s3\n",
      "\u001b[36malgo-1-h3wuq_1  |\u001b[0m SM_LOG_LEVEL=20\n",
      "\u001b[36malgo-1-h3wuq_1  |\u001b[0m SM_FRAMEWORK_MODULE=sagemaker_tensorflow_container.training:main\n",
      "\u001b[36malgo-1-h3wuq_1  |\u001b[0m SM_INPUT_DIR=/opt/ml/input\n",
      "\u001b[36malgo-1-h3wuq_1  |\u001b[0m SM_INPUT_CONFIG_DIR=/opt/ml/input/config\n",
      "\u001b[36malgo-1-h3wuq_1  |\u001b[0m SM_OUTPUT_DIR=/opt/ml/output\n",
      "\u001b[36malgo-1-h3wuq_1  |\u001b[0m SM_NUM_CPUS=6\n",
      "\u001b[36malgo-1-h3wuq_1  |\u001b[0m SM_NUM_GPUS=0\n",
      "\u001b[36malgo-1-h3wuq_1  |\u001b[0m SM_MODEL_DIR=/opt/ml/model\n",
      "\u001b[36malgo-1-h3wuq_1  |\u001b[0m SM_MODULE_DIR=s3://canopy-production-ml-output/pc-tf-custom-container-test-job-2021-03-20-21-52-32-412/source/sourcedir.tar.gz\n",
      "\u001b[36malgo-1-h3wuq_1  |\u001b[0m SM_TRAINING_ENV={\"additional_framework_parameters\":{},\"channel_input_dirs\":{\"training\":\"/opt/ml/input/data/training\"},\"current_host\":\"algo-1-h3wuq\",\"framework_module\":\"sagemaker_tensorflow_container.training:main\",\"hosts\":[\"algo-1-h3wuq\"],\"hyperparameters\":{\"augment\":true,\"bands\":\"2 3 4 8 12\",\"batch-size\":100,\"epochs\":2,\"learning-rate\":0.01,\"model_dir\":\"s3://canopy-production-ml-output/pc-tf-custom-container-test-job-2021-03-20-21-52-32-412/model\",\"numclasses\":10,\"s3_chkpt_dir\":\"ckpt\",\"starting_checkpoint\":\"ckpt/pc-tf-custom-container-test-job-RGBNIRN-2021-03-15-22-45-06-142/model_resnet_epoch_7.h5\",\"training_file\":\"labels_test_v1_m.csv\",\"validation_file\":\"val_labels_m.csv\",\"wandb_key\":\"6607ed7a49b452c2f3494ce60f9514f6c9e3b4e6\"},\"input_config_dir\":\"/opt/ml/input/config\",\"input_data_config\":{\"training\":{\"TrainingInputMode\":\"File\"}},\"input_dir\":\"/opt/ml/input\",\"is_master\":true,\"job_name\":\"pc-tf-custom-container-test-job-2021-03-20-21-52-32-412\",\"log_level\":20,\"master_hostname\":\"algo-1-h3wuq\",\"model_dir\":\"/opt/ml/model\",\"module_dir\":\"s3://canopy-production-ml-output/pc-tf-custom-container-test-job-2021-03-20-21-52-32-412/source/sourcedir.tar.gz\",\"module_name\":\"train_no_s3\",\"network_interface_name\":\"eth0\",\"num_cpus\":6,\"num_gpus\":0,\"output_data_dir\":\"/opt/ml/output/data\",\"output_dir\":\"/opt/ml/output\",\"output_intermediate_dir\":\"/opt/ml/output/intermediate\",\"resource_config\":{\"current_host\":\"algo-1-h3wuq\",\"hosts\":[\"algo-1-h3wuq\"]},\"user_entry_point\":\"train_no_s3.py\"}\n",
      "\u001b[36malgo-1-h3wuq_1  |\u001b[0m SM_USER_ARGS=[\"--augment\",\"True\",\"--bands\",\"2 3 4 8 12\",\"--batch-size\",\"100\",\"--epochs\",\"2\",\"--learning-rate\",\"0.01\",\"--model_dir\",\"s3://canopy-production-ml-output/pc-tf-custom-container-test-job-2021-03-20-21-52-32-412/model\",\"--numclasses\",\"10\",\"--s3_chkpt_dir\",\"ckpt\",\"--starting_checkpoint\",\"ckpt/pc-tf-custom-container-test-job-RGBNIRN-2021-03-15-22-45-06-142/model_resnet_epoch_7.h5\",\"--training_file\",\"labels_test_v1_m.csv\",\"--validation_file\",\"val_labels_m.csv\",\"--wandb_key\",\"6607ed7a49b452c2f3494ce60f9514f6c9e3b4e6\"]\n",
      "\u001b[36malgo-1-h3wuq_1  |\u001b[0m SM_OUTPUT_INTERMEDIATE_DIR=/opt/ml/output/intermediate\n",
      "\u001b[36malgo-1-h3wuq_1  |\u001b[0m SM_CHANNEL_TRAINING=/opt/ml/input/data/training\n",
      "\u001b[36malgo-1-h3wuq_1  |\u001b[0m SM_HP_TRAINING_FILE=labels_test_v1_m.csv\n",
      "\u001b[36malgo-1-h3wuq_1  |\u001b[0m SM_HP_VALIDATION_FILE=val_labels_m.csv\n",
      "\u001b[36malgo-1-h3wuq_1  |\u001b[0m SM_HP_EPOCHS=2\n",
      "\u001b[36malgo-1-h3wuq_1  |\u001b[0m SM_HP_AUGMENT=true\n",
      "\u001b[36malgo-1-h3wuq_1  |\u001b[0m SM_HP_BATCH-SIZE=100\n",
      "\u001b[36malgo-1-h3wuq_1  |\u001b[0m SM_HP_LEARNING-RATE=0.01\n",
      "\u001b[36malgo-1-h3wuq_1  |\u001b[0m SM_HP_NUMCLASSES=10\n",
      "\u001b[36malgo-1-h3wuq_1  |\u001b[0m SM_HP_WANDB_KEY=6607ed7a49b452c2f3494ce60f9514f6c9e3b4e6\n",
      "\u001b[36malgo-1-h3wuq_1  |\u001b[0m SM_HP_S3_CHKPT_DIR=ckpt\n",
      "\u001b[36malgo-1-h3wuq_1  |\u001b[0m SM_HP_BANDS=2 3 4 8 12\n",
      "\u001b[36malgo-1-h3wuq_1  |\u001b[0m SM_HP_STARTING_CHECKPOINT=ckpt/pc-tf-custom-container-test-job-RGBNIRN-2021-03-15-22-45-06-142/model_resnet_epoch_7.h5\n",
      "\u001b[36malgo-1-h3wuq_1  |\u001b[0m SM_HP_MODEL_DIR=s3://canopy-production-ml-output/pc-tf-custom-container-test-job-2021-03-20-21-52-32-412/model\n",
      "\u001b[36malgo-1-h3wuq_1  |\u001b[0m PYTHONPATH=/opt/ml/code:/usr/local/bin:/usr/local/lib/python37.zip:/usr/local/lib/python3.7:/usr/local/lib/python3.7/lib-dynload:/usr/local/lib/python3.7/site-packages\n",
      "\u001b[36malgo-1-h3wuq_1  |\u001b[0m \n",
      "\u001b[36malgo-1-h3wuq_1  |\u001b[0m Invoking script with the following command:\n",
      "\u001b[36malgo-1-h3wuq_1  |\u001b[0m \n",
      "\u001b[36malgo-1-h3wuq_1  |\u001b[0m /usr/local/bin/python3.7 train_no_s3.py --augment True --bands 2 3 4 8 12 --batch-size 100 --epochs 2 --learning-rate 0.01 --model_dir s3://canopy-production-ml-output/pc-tf-custom-container-test-job-2021-03-20-21-52-32-412/model --numclasses 10 --s3_chkpt_dir ckpt --starting_checkpoint ckpt/pc-tf-custom-container-test-job-RGBNIRN-2021-03-15-22-45-06-142/model_resnet_epoch_7.h5 --training_file labels_test_v1_m.csv --validation_file val_labels_m.csv --wandb_key 6607ed7a49b452c2f3494ce60f9514f6c9e3b4e6\n",
      "\u001b[36malgo-1-h3wuq_1  |\u001b[0m \n",
      "\u001b[36malgo-1-h3wuq_1  |\u001b[0m \n"
     ]
    },
    {
     "name": "stdout",
     "output_type": "stream",
     "text": [
      "\u001b[36malgo-1-h3wuq_1  |\u001b[0m Num GPUs Available:  0\n",
      "\u001b[36malgo-1-h3wuq_1  |\u001b[0m TensorFlow version 2.4.1\n",
      "\u001b[36malgo-1-h3wuq_1  |\u001b[0m Keras version 2.4.0\n",
      "\u001b[36malgo-1-h3wuq_1  |\u001b[0m Collecting keras-metrics\n",
      "\u001b[36malgo-1-h3wuq_1  |\u001b[0m   Downloading keras_metrics-1.1.0-py2.py3-none-any.whl (5.6 kB)\n",
      "\u001b[36malgo-1-h3wuq_1  |\u001b[0m Collecting Keras>=2.1.5\n",
      "\u001b[36malgo-1-h3wuq_1  |\u001b[0m   Downloading Keras-2.4.3-py2.py3-none-any.whl (36 kB)\n",
      "\u001b[36malgo-1-h3wuq_1  |\u001b[0m Requirement already satisfied: numpy>=1.9.1 in /usr/local/lib/python3.7/site-packages (from Keras>=2.1.5->keras-metrics) (1.19.5)\n",
      "\u001b[36malgo-1-h3wuq_1  |\u001b[0m Requirement already satisfied: scipy>=0.14 in /usr/local/lib/python3.7/site-packages (from Keras>=2.1.5->keras-metrics) (1.5.2)\n",
      "\u001b[36malgo-1-h3wuq_1  |\u001b[0m Requirement already satisfied: pyyaml in /usr/local/lib/python3.7/site-packages (from Keras>=2.1.5->keras-metrics) (5.4.1)\n",
      "\u001b[36malgo-1-h3wuq_1  |\u001b[0m Requirement already satisfied: h5py in /usr/local/lib/python3.7/site-packages (from Keras>=2.1.5->keras-metrics) (2.10.0)\n",
      "\u001b[36malgo-1-h3wuq_1  |\u001b[0m Requirement already satisfied: six in /usr/local/lib/python3.7/site-packages (from h5py->Keras>=2.1.5->keras-metrics) (1.15.0)\n",
      "\u001b[36malgo-1-h3wuq_1  |\u001b[0m Installing collected packages: Keras, keras-metrics\n",
      "\u001b[36malgo-1-h3wuq_1  |\u001b[0m Successfully installed Keras-2.4.3 keras-metrics-1.1.0\n",
      "\u001b[36malgo-1-h3wuq_1  |\u001b[0m Collecting tensorflow-addons\n",
      "\u001b[36malgo-1-h3wuq_1  |\u001b[0m   Downloading tensorflow_addons-0.12.1-cp37-cp37m-manylinux2010_x86_64.whl (703 kB)\n",
      "\u001b[K     |████████████████████████████████| 703 kB 1.2 MB/s eta 0:00:01\n",
      "\u001b[36malgo-1-h3wuq_1  |\u001b[0m \u001b[?25hCollecting typeguard>=2.7\n",
      "\u001b[36malgo-1-h3wuq_1  |\u001b[0m   Downloading typeguard-2.11.1-py3-none-any.whl (16 kB)\n",
      "\u001b[36malgo-1-h3wuq_1  |\u001b[0m Installing collected packages: typeguard, tensorflow-addons\n",
      "\u001b[36malgo-1-h3wuq_1  |\u001b[0m Successfully installed tensorflow-addons-0.12.1 typeguard-2.11.1\n",
      "\u001b[36malgo-1-h3wuq_1  |\u001b[0m Collecting wandb\n",
      "\u001b[36malgo-1-h3wuq_1  |\u001b[0m   Downloading wandb-0.10.22-py2.py3-none-any.whl (2.0 MB)\n",
      "\u001b[K     |████████████████████████████████| 2.0 MB 3.2 MB/s eta 0:00:01\n",
      "\u001b[36malgo-1-h3wuq_1  |\u001b[0m \u001b[?25hCollecting promise<3,>=2.0\n",
      "\u001b[36malgo-1-h3wuq_1  |\u001b[0m   Downloading promise-2.3.tar.gz (19 kB)\n",
      "\u001b[36malgo-1-h3wuq_1  |\u001b[0m Collecting sentry-sdk>=0.4.0\n",
      "\u001b[36malgo-1-h3wuq_1  |\u001b[0m   Downloading sentry_sdk-1.0.0-py2.py3-none-any.whl (131 kB)\n",
      "\u001b[K     |████████████████████████████████| 131 kB 16.7 MB/s eta 0:00:01\n",
      "\u001b[36malgo-1-h3wuq_1  |\u001b[0m \u001b[?25hRequirement already satisfied: protobuf>=3.12.0 in /usr/local/lib/python3.7/site-packages (from wandb) (3.15.2)\n",
      "\u001b[36malgo-1-h3wuq_1  |\u001b[0m Collecting docker-pycreds>=0.4.0\n",
      "\u001b[36malgo-1-h3wuq_1  |\u001b[0m   Downloading docker_pycreds-0.4.0-py2.py3-none-any.whl (9.0 kB)\n",
      "\u001b[36malgo-1-h3wuq_1  |\u001b[0m Collecting subprocess32>=3.5.3\n",
      "\u001b[36malgo-1-h3wuq_1  |\u001b[0m   Downloading subprocess32-3.5.4.tar.gz (97 kB)\n",
      "\u001b[K     |████████████████████████████████| 97 kB 7.2 MB/s  eta 0:00:01\n",
      "\u001b[36malgo-1-h3wuq_1  |\u001b[0m \u001b[?25hCollecting Click>=7.0\n",
      "\u001b[36malgo-1-h3wuq_1  |\u001b[0m   Downloading click-7.1.2-py2.py3-none-any.whl (82 kB)\n",
      "\u001b[K     |████████████████████████████████| 82 kB 1.7 MB/s  eta 0:00:01\n",
      "\u001b[36malgo-1-h3wuq_1  |\u001b[0m \u001b[?25hRequirement already satisfied: six>=1.13.0 in /usr/local/lib/python3.7/site-packages (from wandb) (1.15.0)\n",
      "\u001b[36malgo-1-h3wuq_1  |\u001b[0m Requirement already satisfied: psutil>=5.0.0 in /usr/local/lib/python3.7/site-packages (from wandb) (5.7.2)\n",
      "\u001b[36malgo-1-h3wuq_1  |\u001b[0m Collecting configparser>=3.8.1\n",
      "\u001b[36malgo-1-h3wuq_1  |\u001b[0m   Downloading configparser-5.0.2-py3-none-any.whl (19 kB)\n",
      "\u001b[36malgo-1-h3wuq_1  |\u001b[0m Requirement already satisfied: PyYAML in /usr/local/lib/python3.7/site-packages (from wandb) (5.4.1)\n",
      "\u001b[36malgo-1-h3wuq_1  |\u001b[0m Requirement already satisfied: requests<3,>=2.0.0 in /usr/local/lib/python3.7/site-packages (from wandb) (2.24.0)\n",
      "\u001b[36malgo-1-h3wuq_1  |\u001b[0m Collecting GitPython>=1.0.0\n",
      "\u001b[36malgo-1-h3wuq_1  |\u001b[0m   Downloading GitPython-3.1.14-py3-none-any.whl (159 kB)\n",
      "\u001b[K     |████████████████████████████████| 159 kB 9.9 MB/s eta 0:00:01\n",
      "\u001b[36malgo-1-h3wuq_1  |\u001b[0m \u001b[?25hCollecting pathtools\n",
      "\u001b[36malgo-1-h3wuq_1  |\u001b[0m   Downloading pathtools-0.1.2.tar.gz (11 kB)\n",
      "\u001b[36malgo-1-h3wuq_1  |\u001b[0m Requirement already satisfied: python-dateutil>=2.6.1 in /usr/local/lib/python3.7/site-packages (from wandb) (2.8.1)\n",
      "\u001b[36malgo-1-h3wuq_1  |\u001b[0m Collecting shortuuid>=0.5.0\n",
      "\u001b[36malgo-1-h3wuq_1  |\u001b[0m   Downloading shortuuid-1.0.1-py3-none-any.whl (7.5 kB)\n",
      "\u001b[36malgo-1-h3wuq_1  |\u001b[0m Collecting gitdb<5,>=4.0.1\n",
      "\u001b[36malgo-1-h3wuq_1  |\u001b[0m   Downloading gitdb-4.0.5-py3-none-any.whl (63 kB)\n",
      "\u001b[K     |████████████████████████████████| 63 kB 2.3 MB/s  eta 0:00:01\n",
      "\u001b[36malgo-1-h3wuq_1  |\u001b[0m \u001b[?25hCollecting smmap<4,>=3.0.1\n",
      "\u001b[36malgo-1-h3wuq_1  |\u001b[0m   Downloading smmap-3.0.5-py2.py3-none-any.whl (25 kB)\n",
      "\u001b[36malgo-1-h3wuq_1  |\u001b[0m Requirement already satisfied: certifi>=2017.4.17 in /usr/local/lib/python3.7/site-packages (from requests<3,>=2.0.0->wandb) (2020.12.5)\n",
      "\u001b[36malgo-1-h3wuq_1  |\u001b[0m Requirement already satisfied: chardet<4,>=3.0.2 in /usr/local/lib/python3.7/site-packages (from requests<3,>=2.0.0->wandb) (3.0.4)\n",
      "\u001b[36malgo-1-h3wuq_1  |\u001b[0m Requirement already satisfied: urllib3!=1.25.0,!=1.25.1,<1.26,>=1.21.1 in /usr/local/lib/python3.7/site-packages (from requests<3,>=2.0.0->wandb) (1.25.11)\n",
      "\u001b[36malgo-1-h3wuq_1  |\u001b[0m Requirement already satisfied: idna<3,>=2.5 in /usr/local/lib/python3.7/site-packages (from requests<3,>=2.0.0->wandb) (2.10)\n",
      "\u001b[36malgo-1-h3wuq_1  |\u001b[0m Building wheels for collected packages: promise, subprocess32, pathtools\n",
      "\u001b[36malgo-1-h3wuq_1  |\u001b[0m   Building wheel for promise (setup.py) ... \u001b[?25ldone\n",
      "\u001b[36malgo-1-h3wuq_1  |\u001b[0m \u001b[?25h  Created wheel for promise: filename=promise-2.3-py3-none-any.whl size=21494 sha256=8483257a8f68e593d9f4d00d65741733d79cb26e9ab4ec1b8649da9ef11fdf41\n",
      "\u001b[36malgo-1-h3wuq_1  |\u001b[0m   Stored in directory: /root/.cache/pip/wheels/29/93/c6/762e359f8cb6a5b69c72235d798804cae523bbe41c2aa8333d\n",
      "\u001b[36malgo-1-h3wuq_1  |\u001b[0m   Building wheel for subprocess32 (setup.py) ... \u001b[?25ldone\n",
      "\u001b[36malgo-1-h3wuq_1  |\u001b[0m \u001b[?25h  Created wheel for subprocess32: filename=subprocess32-3.5.4-py3-none-any.whl size=6488 sha256=62668bee1dc12080113ee84f8d020bf3b318fe908086fa73b1ff5cd003dd8b11\n",
      "\u001b[36malgo-1-h3wuq_1  |\u001b[0m   Stored in directory: /root/.cache/pip/wheels/50/ca/fa/8fca8d246e64f19488d07567547ddec8eb084e8c0d7a59226a\n",
      "\u001b[36malgo-1-h3wuq_1  |\u001b[0m   Building wheel for pathtools (setup.py) ... \u001b[?25ldone\n",
      "\u001b[36malgo-1-h3wuq_1  |\u001b[0m \u001b[?25h  Created wheel for pathtools: filename=pathtools-0.1.2-py3-none-any.whl size=8784 sha256=424aeb25df4a1765974e410f16c8a5d104628a2d811f463ce6b6c9f75024712e\n",
      "\u001b[36malgo-1-h3wuq_1  |\u001b[0m   Stored in directory: /root/.cache/pip/wheels/3e/31/09/fa59cef12cdcfecc627b3d24273699f390e71828921b2cbba2\n",
      "\u001b[36malgo-1-h3wuq_1  |\u001b[0m Successfully built promise subprocess32 pathtools\n",
      "\u001b[36malgo-1-h3wuq_1  |\u001b[0m Installing collected packages: smmap, gitdb, subprocess32, shortuuid, sentry-sdk, promise, pathtools, GitPython, docker-pycreds, configparser, Click, wandb\n",
      "\u001b[36malgo-1-h3wuq_1  |\u001b[0m Successfully installed Click-7.1.2 GitPython-3.1.14 configparser-5.0.2 docker-pycreds-0.4.0 gitdb-4.0.5 pathtools-0.1.2 promise-2.3 sentry-sdk-1.0.0 shortuuid-1.0.1 smmap-3.0.5 subprocess32-3.5.4 wandb-0.10.22\n",
      "\u001b[36malgo-1-h3wuq_1  |\u001b[0m Collecting rasterio\n",
      "\u001b[36malgo-1-h3wuq_1  |\u001b[0m   Downloading rasterio-1.2.1-cp37-cp37m-manylinux1_x86_64.whl (19.1 MB)\n",
      "\u001b[K     |████████████████████████████████| 19.1 MB 8.0 MB/s eta 0:00:01\n",
      "\u001b[36malgo-1-h3wuq_1  |\u001b[0m \u001b[?25hCollecting snuggs>=1.4.1\n",
      "\u001b[36malgo-1-h3wuq_1  |\u001b[0m   Downloading snuggs-1.4.7-py3-none-any.whl (5.4 kB)\n",
      "\u001b[36malgo-1-h3wuq_1  |\u001b[0m Requirement already satisfied: certifi in /usr/local/lib/python3.7/site-packages (from rasterio) (2020.12.5)\n",
      "\u001b[36malgo-1-h3wuq_1  |\u001b[0m Requirement already satisfied: numpy in /usr/local/lib/python3.7/site-packages (from rasterio) (1.19.5)\n",
      "\u001b[36malgo-1-h3wuq_1  |\u001b[0m Collecting affine\n",
      "\u001b[36malgo-1-h3wuq_1  |\u001b[0m   Downloading affine-2.3.0-py2.py3-none-any.whl (15 kB)\n",
      "\u001b[36malgo-1-h3wuq_1  |\u001b[0m Requirement already satisfied: click<8,>=4.0 in /usr/local/lib/python3.7/site-packages (from rasterio) (7.1.2)\n",
      "\u001b[36malgo-1-h3wuq_1  |\u001b[0m Collecting cligj>=0.5\n",
      "\u001b[36malgo-1-h3wuq_1  |\u001b[0m   Downloading cligj-0.7.1-py3-none-any.whl (7.1 kB)\n",
      "\u001b[36malgo-1-h3wuq_1  |\u001b[0m Collecting click-plugins\n",
      "\u001b[36malgo-1-h3wuq_1  |\u001b[0m   Downloading click_plugins-1.1.1-py2.py3-none-any.whl (7.5 kB)\n",
      "\u001b[36malgo-1-h3wuq_1  |\u001b[0m Requirement already satisfied: attrs in /usr/local/lib/python3.7/site-packages (from rasterio) (20.3.0)\n",
      "\u001b[36malgo-1-h3wuq_1  |\u001b[0m Requirement already satisfied: pyparsing>=2.1.6 in /usr/local/lib/python3.7/site-packages (from snuggs>=1.4.1->rasterio) (2.4.7)\n"
     ]
    },
    {
     "name": "stdout",
     "output_type": "stream",
     "text": [
      "\u001b[36malgo-1-h3wuq_1  |\u001b[0m Installing collected packages: snuggs, cligj, click-plugins, affine, rasterio\n",
      "\u001b[36malgo-1-h3wuq_1  |\u001b[0m Successfully installed affine-2.3.0 click-plugins-1.1.1 cligj-0.7.1 rasterio-1.2.1 snuggs-1.4.7\n",
      "\u001b[36malgo-1-h3wuq_1  |\u001b[0m Requirement already satisfied: boto3 in /usr/local/lib/python3.7/site-packages (1.17.16)\n",
      "\u001b[36malgo-1-h3wuq_1  |\u001b[0m Requirement already satisfied: jmespath<1.0.0,>=0.7.1 in /usr/local/lib/python3.7/site-packages (from boto3) (0.10.0)\n",
      "\u001b[36malgo-1-h3wuq_1  |\u001b[0m Requirement already satisfied: botocore<1.21.0,>=1.20.16 in /usr/local/lib/python3.7/site-packages (from boto3) (1.20.16)\n",
      "\u001b[36malgo-1-h3wuq_1  |\u001b[0m Requirement already satisfied: s3transfer<0.4.0,>=0.3.0 in /usr/local/lib/python3.7/site-packages (from boto3) (0.3.4)\n",
      "\u001b[36malgo-1-h3wuq_1  |\u001b[0m Requirement already satisfied: urllib3<1.27,>=1.25.4 in /usr/local/lib/python3.7/site-packages (from botocore<1.21.0,>=1.20.16->boto3) (1.25.11)\n",
      "\u001b[36malgo-1-h3wuq_1  |\u001b[0m Requirement already satisfied: python-dateutil<3.0.0,>=2.1 in /usr/local/lib/python3.7/site-packages (from botocore<1.21.0,>=1.20.16->boto3) (2.8.1)\n",
      "\u001b[36malgo-1-h3wuq_1  |\u001b[0m Requirement already satisfied: six>=1.5 in /usr/local/lib/python3.7/site-packages (from python-dateutil<3.0.0,>=2.1->botocore<1.21.0,>=1.20.16->boto3) (1.15.0)\n",
      "\u001b[36malgo-1-h3wuq_1  |\u001b[0m \n",
      "\u001b[36malgo-1-h3wuq_1  |\u001b[0m Starting checkpoint: ckpt/pc-tf-custom-container-test-job-RGBNIRN-2021-03-15-22-45-06-142/model_resnet_epoch_7.h5\n",
      "\u001b[36malgo-1-h3wuq_1  |\u001b[0m lr: 0.01, batch_size: 100, augmentation_data: True\n",
      "\u001b[36malgo-1-h3wuq_1  |\u001b[0m bands [2, 3, 4, 8, 12]\n",
      "\u001b[36malgo-1-h3wuq_1  |\u001b[0m Input shape: (100, 100, 5)\n",
      "\u001b[36malgo-1-h3wuq_1  |\u001b[0m Running on CPU\n",
      "\u001b[36malgo-1-h3wuq_1  |\u001b[0m [2021-03-20 21:53:15.671 68d926bc7703:29 INFO utils.py:27] RULE_JOB_STOP_SIGNAL_FILENAME: None\n",
      "\u001b[36malgo-1-h3wuq_1  |\u001b[0m [2021-03-20 21:53:15.802 68d926bc7703:29 INFO profiler_config_parser.py:102] Unable to find config at /opt/ml/input/config/profilerconfig.json. Profiler is disabled.\n",
      "\u001b[36malgo-1-h3wuq_1  |\u001b[0m Downloading data from https://storage.googleapis.com/tensorflow/keras-applications/resnet/resnet50_weights_tf_dim_ordering_tf_kernels_notop.h5\n",
      "94773248/94765736 [==============================] - 7s 0us/step\n",
      "\u001b[36malgo-1-h3wuq_1  |\u001b[0m No previous checkpoint found in opt/ml/checkpoints directory; loading checkpoint from ckpt/pc-tf-custom-container-test-job-RGBNIRN-2021-03-15-22-45-06-142/model_resnet_epoch_7.h5\n",
      "\u001b[36malgo-1-h3wuq_1  |\u001b[0m training_dir /opt/ml/input/data/training/labels_test_v1_m.csv\n",
      "\u001b[36malgo-1-h3wuq_1  |\u001b[0m val_dir /opt/ml/input/data/training/val_labels_m.csv\n",
      "\u001b[36malgo-1-h3wuq_1  |\u001b[0m Dataloader initialization...\n",
      "\u001b[36malgo-1-h3wuq_1  |\u001b[0m label_file_path_train: /opt/ml/input/data/training/labels_test_v1_m.csv\n",
      "\u001b[36malgo-1-h3wuq_1  |\u001b[0m labels_file_val: /opt/ml/input/data/training/val_labels_m.csv\n",
      "\u001b[36malgo-1-h3wuq_1  |\u001b[0m Data augmentation enabled\n",
      "\u001b[36malgo-1-h3wuq_1  |\u001b[0m Training on 300 images\n",
      "\u001b[36malgo-1-h3wuq_1  |\u001b[0m Validation on 3 images \n",
      "\u001b[36malgo-1-h3wuq_1  |\u001b[0m Epoch 1/2\n"
     ]
    },
    {
     "name": "stderr",
     "output_type": "stream",
     "text": [
      "'upload_data' method will be deprecated in favor of 'S3Uploader' class (https://sagemaker.readthedocs.io/en/stable/s3.html#sagemaker.s3.S3Uploader) in SageMaker Python SDK v2.\n"
     ]
    },
    {
     "ename": "KeyboardInterrupt",
     "evalue": "",
     "output_type": "error",
     "traceback": [
      "\u001b[0;31m---------------------------------------------------------------------------\u001b[0m",
      "\u001b[0;31mKeyboardInterrupt\u001b[0m                         Traceback (most recent call last)",
      "\u001b[0;32m<ipython-input-9-30ee60234c1f>\u001b[0m in \u001b[0;36m<module>\u001b[0;34m\u001b[0m\n\u001b[1;32m      2\u001b[0m \u001b[0;34m\u001b[0m\u001b[0m\n\u001b[1;32m      3\u001b[0m \u001b[0mt0\u001b[0m \u001b[0;34m=\u001b[0m \u001b[0mtime\u001b[0m\u001b[0;34m.\u001b[0m\u001b[0mtime\u001b[0m\u001b[0;34m(\u001b[0m\u001b[0;34m)\u001b[0m\u001b[0;34m\u001b[0m\u001b[0;34m\u001b[0m\u001b[0m\n\u001b[0;32m----> 4\u001b[0;31m \u001b[0mtf_estimator\u001b[0m\u001b[0;34m.\u001b[0m\u001b[0mfit\u001b[0m\u001b[0;34m(\u001b[0m\u001b[0;34m\"file:///Users/margauxmforstyhe/Desktop/Project Canopy/chips/cloudfree-merge-polygons/data\"\u001b[0m\u001b[0;34m)\u001b[0m\u001b[0;34m\u001b[0m\u001b[0;34m\u001b[0m\u001b[0m\n\u001b[0m\u001b[1;32m      5\u001b[0m \u001b[0mt1\u001b[0m \u001b[0;34m=\u001b[0m \u001b[0mtime\u001b[0m\u001b[0;34m.\u001b[0m\u001b[0mtime\u001b[0m\u001b[0;34m(\u001b[0m\u001b[0;34m)\u001b[0m\u001b[0;34m\u001b[0m\u001b[0;34m\u001b[0m\u001b[0m\n\u001b[1;32m      6\u001b[0m \u001b[0mtotal\u001b[0m \u001b[0;34m=\u001b[0m \u001b[0;34m(\u001b[0m\u001b[0mt1\u001b[0m\u001b[0;34m-\u001b[0m\u001b[0mt0\u001b[0m\u001b[0;34m)\u001b[0m \u001b[0;34m/\u001b[0m \u001b[0;36m60\u001b[0m\u001b[0;34m\u001b[0m\u001b[0;34m\u001b[0m\u001b[0m\n",
      "\u001b[0;32m/usr/local/anaconda3/lib/python3.8/site-packages/sagemaker/tensorflow/estimator.py\u001b[0m in \u001b[0;36mfit\u001b[0;34m(self, inputs, wait, logs, job_name, experiment_config, run_tensorboard_locally)\u001b[0m\n\u001b[1;32m    483\u001b[0m                 \u001b[0mtensorboard\u001b[0m\u001b[0;34m.\u001b[0m\u001b[0mjoin\u001b[0m\u001b[0;34m(\u001b[0m\u001b[0;34m)\u001b[0m\u001b[0;34m\u001b[0m\u001b[0;34m\u001b[0m\u001b[0m\n\u001b[1;32m    484\u001b[0m         \u001b[0;32melse\u001b[0m\u001b[0;34m:\u001b[0m\u001b[0;34m\u001b[0m\u001b[0;34m\u001b[0m\u001b[0m\n\u001b[0;32m--> 485\u001b[0;31m             \u001b[0mfit_super\u001b[0m\u001b[0;34m(\u001b[0m\u001b[0;34m)\u001b[0m\u001b[0;34m\u001b[0m\u001b[0;34m\u001b[0m\u001b[0m\n\u001b[0m\u001b[1;32m    486\u001b[0m \u001b[0;34m\u001b[0m\u001b[0m\n\u001b[1;32m    487\u001b[0m     \u001b[0;34m@\u001b[0m\u001b[0mclassmethod\u001b[0m\u001b[0;34m\u001b[0m\u001b[0;34m\u001b[0m\u001b[0m\n",
      "\u001b[0;32m/usr/local/anaconda3/lib/python3.8/site-packages/sagemaker/tensorflow/estimator.py\u001b[0m in \u001b[0;36mfit_super\u001b[0;34m()\u001b[0m\n\u001b[1;32m    462\u001b[0m \u001b[0;34m\u001b[0m\u001b[0m\n\u001b[1;32m    463\u001b[0m         \u001b[0;32mdef\u001b[0m \u001b[0mfit_super\u001b[0m\u001b[0;34m(\u001b[0m\u001b[0;34m)\u001b[0m\u001b[0;34m:\u001b[0m\u001b[0;34m\u001b[0m\u001b[0;34m\u001b[0m\u001b[0m\n\u001b[0;32m--> 464\u001b[0;31m             \u001b[0msuper\u001b[0m\u001b[0;34m(\u001b[0m\u001b[0mTensorFlow\u001b[0m\u001b[0;34m,\u001b[0m \u001b[0mself\u001b[0m\u001b[0;34m)\u001b[0m\u001b[0;34m.\u001b[0m\u001b[0mfit\u001b[0m\u001b[0;34m(\u001b[0m\u001b[0minputs\u001b[0m\u001b[0;34m,\u001b[0m \u001b[0mwait\u001b[0m\u001b[0;34m,\u001b[0m \u001b[0mlogs\u001b[0m\u001b[0;34m,\u001b[0m \u001b[0mjob_name\u001b[0m\u001b[0;34m,\u001b[0m \u001b[0mexperiment_config\u001b[0m\u001b[0;34m)\u001b[0m\u001b[0;34m\u001b[0m\u001b[0;34m\u001b[0m\u001b[0m\n\u001b[0m\u001b[1;32m    465\u001b[0m \u001b[0;34m\u001b[0m\u001b[0m\n\u001b[1;32m    466\u001b[0m         \u001b[0;32mif\u001b[0m \u001b[0mrun_tensorboard_locally\u001b[0m \u001b[0;32mand\u001b[0m \u001b[0mwait\u001b[0m \u001b[0;32mis\u001b[0m \u001b[0;32mFalse\u001b[0m\u001b[0;34m:\u001b[0m\u001b[0;34m\u001b[0m\u001b[0;34m\u001b[0m\u001b[0m\n",
      "\u001b[0;32m/usr/local/anaconda3/lib/python3.8/site-packages/sagemaker/estimator.py\u001b[0m in \u001b[0;36mfit\u001b[0;34m(self, inputs, wait, logs, job_name, experiment_config)\u001b[0m\n\u001b[1;32m    492\u001b[0m         \u001b[0mself\u001b[0m\u001b[0;34m.\u001b[0m\u001b[0m_prepare_for_training\u001b[0m\u001b[0;34m(\u001b[0m\u001b[0mjob_name\u001b[0m\u001b[0;34m=\u001b[0m\u001b[0mjob_name\u001b[0m\u001b[0;34m)\u001b[0m\u001b[0;34m\u001b[0m\u001b[0;34m\u001b[0m\u001b[0m\n\u001b[1;32m    493\u001b[0m \u001b[0;34m\u001b[0m\u001b[0m\n\u001b[0;32m--> 494\u001b[0;31m         \u001b[0mself\u001b[0m\u001b[0;34m.\u001b[0m\u001b[0mlatest_training_job\u001b[0m \u001b[0;34m=\u001b[0m \u001b[0m_TrainingJob\u001b[0m\u001b[0;34m.\u001b[0m\u001b[0mstart_new\u001b[0m\u001b[0;34m(\u001b[0m\u001b[0mself\u001b[0m\u001b[0;34m,\u001b[0m \u001b[0minputs\u001b[0m\u001b[0;34m,\u001b[0m \u001b[0mexperiment_config\u001b[0m\u001b[0;34m)\u001b[0m\u001b[0;34m\u001b[0m\u001b[0;34m\u001b[0m\u001b[0m\n\u001b[0m\u001b[1;32m    495\u001b[0m         \u001b[0mself\u001b[0m\u001b[0;34m.\u001b[0m\u001b[0mjobs\u001b[0m\u001b[0;34m.\u001b[0m\u001b[0mappend\u001b[0m\u001b[0;34m(\u001b[0m\u001b[0mself\u001b[0m\u001b[0;34m.\u001b[0m\u001b[0mlatest_training_job\u001b[0m\u001b[0;34m)\u001b[0m\u001b[0;34m\u001b[0m\u001b[0;34m\u001b[0m\u001b[0m\n\u001b[1;32m    496\u001b[0m         \u001b[0;32mif\u001b[0m \u001b[0mwait\u001b[0m\u001b[0;34m:\u001b[0m\u001b[0;34m\u001b[0m\u001b[0;34m\u001b[0m\u001b[0m\n",
      "\u001b[0;32m/usr/local/anaconda3/lib/python3.8/site-packages/sagemaker/estimator.py\u001b[0m in \u001b[0;36mstart_new\u001b[0;34m(cls, estimator, inputs, experiment_config)\u001b[0m\n\u001b[1;32m   1059\u001b[0m             \u001b[0mtrain_args\u001b[0m\u001b[0;34m[\u001b[0m\u001b[0;34m\"enable_sagemaker_metrics\"\u001b[0m\u001b[0;34m]\u001b[0m \u001b[0;34m=\u001b[0m \u001b[0mestimator\u001b[0m\u001b[0;34m.\u001b[0m\u001b[0menable_sagemaker_metrics\u001b[0m\u001b[0;34m\u001b[0m\u001b[0;34m\u001b[0m\u001b[0m\n\u001b[1;32m   1060\u001b[0m \u001b[0;34m\u001b[0m\u001b[0m\n\u001b[0;32m-> 1061\u001b[0;31m         \u001b[0mestimator\u001b[0m\u001b[0;34m.\u001b[0m\u001b[0msagemaker_session\u001b[0m\u001b[0;34m.\u001b[0m\u001b[0mtrain\u001b[0m\u001b[0;34m(\u001b[0m\u001b[0;34m**\u001b[0m\u001b[0mtrain_args\u001b[0m\u001b[0;34m)\u001b[0m\u001b[0;34m\u001b[0m\u001b[0;34m\u001b[0m\u001b[0m\n\u001b[0m\u001b[1;32m   1062\u001b[0m \u001b[0;34m\u001b[0m\u001b[0m\n\u001b[1;32m   1063\u001b[0m         \u001b[0;32mreturn\u001b[0m \u001b[0mcls\u001b[0m\u001b[0;34m(\u001b[0m\u001b[0mestimator\u001b[0m\u001b[0;34m.\u001b[0m\u001b[0msagemaker_session\u001b[0m\u001b[0;34m,\u001b[0m \u001b[0mestimator\u001b[0m\u001b[0;34m.\u001b[0m\u001b[0m_current_job_name\u001b[0m\u001b[0;34m)\u001b[0m\u001b[0;34m\u001b[0m\u001b[0;34m\u001b[0m\u001b[0m\n",
      "\u001b[0;32m/usr/local/anaconda3/lib/python3.8/site-packages/sagemaker/session.py\u001b[0m in \u001b[0;36mtrain\u001b[0;34m(self, input_mode, input_config, role, job_name, output_config, resource_config, vpc_config, hyperparameters, stop_condition, tags, metric_definitions, enable_network_isolation, image, algorithm_arn, encrypt_inter_container_traffic, train_use_spot_instances, checkpoint_s3_uri, checkpoint_local_path, experiment_config, debugger_rule_configs, debugger_hook_config, tensorboard_output_config, enable_sagemaker_metrics)\u001b[0m\n\u001b[1;32m    600\u001b[0m         \u001b[0mLOGGER\u001b[0m\u001b[0;34m.\u001b[0m\u001b[0minfo\u001b[0m\u001b[0;34m(\u001b[0m\u001b[0;34m\"Creating training-job with name: %s\"\u001b[0m\u001b[0;34m,\u001b[0m \u001b[0mjob_name\u001b[0m\u001b[0;34m)\u001b[0m\u001b[0;34m\u001b[0m\u001b[0;34m\u001b[0m\u001b[0m\n\u001b[1;32m    601\u001b[0m         \u001b[0mLOGGER\u001b[0m\u001b[0;34m.\u001b[0m\u001b[0mdebug\u001b[0m\u001b[0;34m(\u001b[0m\u001b[0;34m\"train request: %s\"\u001b[0m\u001b[0;34m,\u001b[0m \u001b[0mjson\u001b[0m\u001b[0;34m.\u001b[0m\u001b[0mdumps\u001b[0m\u001b[0;34m(\u001b[0m\u001b[0mtrain_request\u001b[0m\u001b[0;34m,\u001b[0m \u001b[0mindent\u001b[0m\u001b[0;34m=\u001b[0m\u001b[0;36m4\u001b[0m\u001b[0;34m)\u001b[0m\u001b[0;34m)\u001b[0m\u001b[0;34m\u001b[0m\u001b[0;34m\u001b[0m\u001b[0m\n\u001b[0;32m--> 602\u001b[0;31m         \u001b[0mself\u001b[0m\u001b[0;34m.\u001b[0m\u001b[0msagemaker_client\u001b[0m\u001b[0;34m.\u001b[0m\u001b[0mcreate_training_job\u001b[0m\u001b[0;34m(\u001b[0m\u001b[0;34m**\u001b[0m\u001b[0mtrain_request\u001b[0m\u001b[0;34m)\u001b[0m\u001b[0;34m\u001b[0m\u001b[0;34m\u001b[0m\u001b[0m\n\u001b[0m\u001b[1;32m    603\u001b[0m \u001b[0;34m\u001b[0m\u001b[0m\n\u001b[1;32m    604\u001b[0m     def process(\n",
      "\u001b[0;32m/usr/local/anaconda3/lib/python3.8/site-packages/sagemaker/local/local_session.py\u001b[0m in \u001b[0;36mcreate_training_job\u001b[0;34m(self, TrainingJobName, AlgorithmSpecification, OutputDataConfig, ResourceConfig, InputDataConfig, **kwargs)\u001b[0m\n\u001b[1;32m    100\u001b[0m         \u001b[0mhyperparameters\u001b[0m \u001b[0;34m=\u001b[0m \u001b[0mkwargs\u001b[0m\u001b[0;34m[\u001b[0m\u001b[0;34m\"HyperParameters\"\u001b[0m\u001b[0;34m]\u001b[0m \u001b[0;32mif\u001b[0m \u001b[0;34m\"HyperParameters\"\u001b[0m \u001b[0;32min\u001b[0m \u001b[0mkwargs\u001b[0m \u001b[0;32melse\u001b[0m \u001b[0;34m{\u001b[0m\u001b[0;34m}\u001b[0m\u001b[0;34m\u001b[0m\u001b[0;34m\u001b[0m\u001b[0m\n\u001b[1;32m    101\u001b[0m         \u001b[0mlogger\u001b[0m\u001b[0;34m.\u001b[0m\u001b[0minfo\u001b[0m\u001b[0;34m(\u001b[0m\u001b[0;34m\"Starting training job\"\u001b[0m\u001b[0;34m)\u001b[0m\u001b[0;34m\u001b[0m\u001b[0;34m\u001b[0m\u001b[0m\n\u001b[0;32m--> 102\u001b[0;31m         \u001b[0mtraining_job\u001b[0m\u001b[0;34m.\u001b[0m\u001b[0mstart\u001b[0m\u001b[0;34m(\u001b[0m\u001b[0mInputDataConfig\u001b[0m\u001b[0;34m,\u001b[0m \u001b[0mOutputDataConfig\u001b[0m\u001b[0;34m,\u001b[0m \u001b[0mhyperparameters\u001b[0m\u001b[0;34m,\u001b[0m \u001b[0mTrainingJobName\u001b[0m\u001b[0;34m)\u001b[0m\u001b[0;34m\u001b[0m\u001b[0;34m\u001b[0m\u001b[0m\n\u001b[0m\u001b[1;32m    103\u001b[0m \u001b[0;34m\u001b[0m\u001b[0m\n\u001b[1;32m    104\u001b[0m         \u001b[0mLocalSagemakerClient\u001b[0m\u001b[0;34m.\u001b[0m\u001b[0m_training_jobs\u001b[0m\u001b[0;34m[\u001b[0m\u001b[0mTrainingJobName\u001b[0m\u001b[0;34m]\u001b[0m \u001b[0;34m=\u001b[0m \u001b[0mtraining_job\u001b[0m\u001b[0;34m\u001b[0m\u001b[0;34m\u001b[0m\u001b[0m\n",
      "\u001b[0;32m/usr/local/anaconda3/lib/python3.8/site-packages/sagemaker/local/entities.py\u001b[0m in \u001b[0;36mstart\u001b[0;34m(self, input_data_config, output_data_config, hyperparameters, job_name)\u001b[0m\n\u001b[1;32m     93\u001b[0m         \u001b[0mself\u001b[0m\u001b[0;34m.\u001b[0m\u001b[0mstate\u001b[0m \u001b[0;34m=\u001b[0m \u001b[0mself\u001b[0m\u001b[0;34m.\u001b[0m\u001b[0m_TRAINING\u001b[0m\u001b[0;34m\u001b[0m\u001b[0;34m\u001b[0m\u001b[0m\n\u001b[1;32m     94\u001b[0m \u001b[0;34m\u001b[0m\u001b[0m\n\u001b[0;32m---> 95\u001b[0;31m         self.model_artifacts = self.container.train(\n\u001b[0m\u001b[1;32m     96\u001b[0m             \u001b[0minput_data_config\u001b[0m\u001b[0;34m,\u001b[0m \u001b[0moutput_data_config\u001b[0m\u001b[0;34m,\u001b[0m \u001b[0mhyperparameters\u001b[0m\u001b[0;34m,\u001b[0m \u001b[0mjob_name\u001b[0m\u001b[0;34m\u001b[0m\u001b[0;34m\u001b[0m\u001b[0m\n\u001b[1;32m     97\u001b[0m         )\n",
      "\u001b[0;32m/usr/local/anaconda3/lib/python3.8/site-packages/sagemaker/local/image.py\u001b[0m in \u001b[0;36mtrain\u001b[0;34m(self, input_data_config, output_data_config, hyperparameters, job_name)\u001b[0m\n\u001b[1;32m    159\u001b[0m \u001b[0;34m\u001b[0m\u001b[0m\n\u001b[1;32m    160\u001b[0m         \u001b[0;32mtry\u001b[0m\u001b[0;34m:\u001b[0m\u001b[0;34m\u001b[0m\u001b[0;34m\u001b[0m\u001b[0m\n\u001b[0;32m--> 161\u001b[0;31m             \u001b[0m_stream_output\u001b[0m\u001b[0;34m(\u001b[0m\u001b[0mprocess\u001b[0m\u001b[0;34m)\u001b[0m\u001b[0;34m\u001b[0m\u001b[0;34m\u001b[0m\u001b[0m\n\u001b[0m\u001b[1;32m    162\u001b[0m         \u001b[0;32mexcept\u001b[0m \u001b[0mRuntimeError\u001b[0m \u001b[0;32mas\u001b[0m \u001b[0me\u001b[0m\u001b[0;34m:\u001b[0m\u001b[0;34m\u001b[0m\u001b[0;34m\u001b[0m\u001b[0m\n\u001b[1;32m    163\u001b[0m             \u001b[0;31m# _stream_output() doesn't have the command line. We will handle the exception\u001b[0m\u001b[0;34m\u001b[0m\u001b[0;34m\u001b[0m\u001b[0;34m\u001b[0m\u001b[0m\n",
      "\u001b[0;32m/usr/local/anaconda3/lib/python3.8/site-packages/sagemaker/local/image.py\u001b[0m in \u001b[0;36m_stream_output\u001b[0;34m(process)\u001b[0m\n\u001b[1;32m    670\u001b[0m \u001b[0;34m\u001b[0m\u001b[0m\n\u001b[1;32m    671\u001b[0m     \u001b[0;32mwhile\u001b[0m \u001b[0mexit_code\u001b[0m \u001b[0;32mis\u001b[0m \u001b[0;32mNone\u001b[0m\u001b[0;34m:\u001b[0m\u001b[0;34m\u001b[0m\u001b[0;34m\u001b[0m\u001b[0m\n\u001b[0;32m--> 672\u001b[0;31m         \u001b[0mstdout\u001b[0m \u001b[0;34m=\u001b[0m \u001b[0mprocess\u001b[0m\u001b[0;34m.\u001b[0m\u001b[0mstdout\u001b[0m\u001b[0;34m.\u001b[0m\u001b[0mreadline\u001b[0m\u001b[0;34m(\u001b[0m\u001b[0;34m)\u001b[0m\u001b[0;34m.\u001b[0m\u001b[0mdecode\u001b[0m\u001b[0;34m(\u001b[0m\u001b[0;34m\"utf-8\"\u001b[0m\u001b[0;34m)\u001b[0m\u001b[0;34m\u001b[0m\u001b[0;34m\u001b[0m\u001b[0m\n\u001b[0m\u001b[1;32m    673\u001b[0m         \u001b[0msys\u001b[0m\u001b[0;34m.\u001b[0m\u001b[0mstdout\u001b[0m\u001b[0;34m.\u001b[0m\u001b[0mwrite\u001b[0m\u001b[0;34m(\u001b[0m\u001b[0mstdout\u001b[0m\u001b[0;34m)\u001b[0m\u001b[0;34m\u001b[0m\u001b[0;34m\u001b[0m\u001b[0m\n\u001b[1;32m    674\u001b[0m         \u001b[0mexit_code\u001b[0m \u001b[0;34m=\u001b[0m \u001b[0mprocess\u001b[0m\u001b[0;34m.\u001b[0m\u001b[0mpoll\u001b[0m\u001b[0;34m(\u001b[0m\u001b[0;34m)\u001b[0m\u001b[0;34m\u001b[0m\u001b[0;34m\u001b[0m\u001b[0m\n",
      "\u001b[0;31mKeyboardInterrupt\u001b[0m: "
     ]
    }
   ],
   "source": [
    "import time\n",
    "\n",
    "t0 = time.time()\n",
    "tf_estimator.fit(\"file:///Users/margauxmforstyhe/Desktop/Project Canopy/chips/cloudfree-merge-polygons/data\")\n",
    "t1 = time.time()\n",
    "total = (t1-t0) / 60\n",
    "print(f\"{total} min\")"
   ]
  },
  {
   "cell_type": "code",
   "execution_count": null,
   "metadata": {},
   "outputs": [],
   "source": []
  },
  {
   "cell_type": "markdown",
   "metadata": {},
   "source": [
    "## Train on Cloud Amazon SageMaker"
   ]
  },
  {
   "cell_type": "markdown",
   "metadata": {},
   "source": [
    "Training"
   ]
  },
  {
   "cell_type": "code",
   "execution_count": 25,
   "metadata": {},
   "outputs": [],
   "source": [
    "from sagemaker.tensorflow import TensorFlow\n",
    "from sagemaker.debugger import Rule, rule_configs\n",
    "from sagemaker import get_execution_role\n",
    "\n",
    "training_file = \"labels_train.csv\"\n",
    "validation_file = \"labels_val.csv\"\n",
    "tf_estimator = TensorFlow(entry_point='train_no_s3.py', \n",
    "                          role=\"arn:aws:iam::963659202518:role/service-role/AmazonSageMaker-ExecutionRole-20210306T191865\",\n",
    "                          #                           role=get_execution_role(),\n",
    "                          train_instance_count=1, \n",
    "                          train_instance_type='ml.p3.8xlarge', # ml.m5.large, ml.p3.16xlarge, ml.p3.2xlarge, ml.g4dn.xlarge, ml.p3.8xlarge, p3.2xlarge, ml.t2.micro\n",
    "                          framework_version='2.4', \n",
    "                          base_job_name='pc-tf-custom-container-test-job-RGBNIRN',\n",
    "                          output_path='s3://canopy-production-ml-output',\n",
    "                          py_version='py37',\n",
    "                          checkpoint_s3_uri=\"s3://canopy-production-ml-output/ckpt/pc-tf-custom-container-test-job-RGBNIRN\",\n",
    "                          script_mode=True,\n",
    "                          train_use_spot_instances=True,        # Use spot instance\n",
    "                          train_max_run=432000,                    # Max training time\n",
    "                          train_max_wait=450000,                  # Max training time + spot waiting time\n",
    "                          hyperparameters={'training_file':training_file, \n",
    "                                           'validation_file': validation_file,\n",
    "#                                            'bucket':\"margaux-bucket-us-east-1\",\n",
    "                                           'epochs': 5, 'augment': True, 'batch-size': 100,\n",
    "                                           'learning-rate': 0.001, 'numclasses': 10,\n",
    "                                           'wandb_key': \"6607ed7a49b452c2f3494ce60f9514f6c9e3b4e6\",\n",
    "                                           's3_chkpt_dir':\"ckpt\",\n",
    "                                           'bands': \"2 3 4 8 12\",\n",
    "                                          'starting_checkpoint':\"ckpt/pc-tf-custom-container-test-job-RGBNIRN-2021-03-15-22-45-06-142/model_resnet_epoch_7.h5\"\n",
    "                                          }\n",
    "                         )\n",
    "\n"
   ]
  },
  {
   "cell_type": "code",
   "execution_count": null,
   "metadata": {},
   "outputs": [
    {
     "name": "stderr",
     "output_type": "stream",
     "text": [
      "'s3_input' class will be renamed to 'TrainingInput' in SageMaker Python SDK v2.\n",
      "'create_image_uri' will be deprecated in favor of 'ImageURIProvider' class in SageMaker Python SDK v2.\n"
     ]
    },
    {
     "name": "stdout",
     "output_type": "stream",
     "text": [
      "2021-03-22 22:33:23 Starting - Starting the training job...\n",
      "2021-03-22 22:33:24 Starting - Launching requested ML instances.........\n",
      "2021-03-22 22:35:05 Starting - Preparing the instances for training...\n",
      "2021-03-22 22:35:53 Downloading - Downloading input data."
     ]
    }
   ],
   "source": [
    "tf_estimator.fit(\"s3://canopy-production-ml/chips/cloudfree-merge-polygons/split/\")\n"
   ]
  },
  {
   "cell_type": "code",
   "execution_count": null,
   "metadata": {},
   "outputs": [],
   "source": []
  },
  {
   "cell_type": "code",
   "execution_count": null,
   "metadata": {},
   "outputs": [],
   "source": []
  },
  {
   "cell_type": "code",
   "execution_count": null,
   "metadata": {},
   "outputs": [],
   "source": []
  }
 ],
 "metadata": {
  "kernelspec": {
   "display_name": "Python 3",
   "language": "python",
   "name": "python3"
  }
 },
 "nbformat": 4,
 "nbformat_minor": 4
}
