{
 "cells": [
  {
   "cell_type": "markdown",
   "metadata": {},
   "source": [
    "This notebook contains code that adds a \"Near Burn Ratio\" band to a geotiff. This could potentially be useful for detecting certain forest distirbances, particularly slash and burn agriculture."
   ]
  },
  {
   "cell_type": "code",
   "execution_count": 1,
   "metadata": {},
   "outputs": [],
   "source": [
    "import earthpy.spatial as es\n",
    "import rasterio as rio\n",
    "import glob"
   ]
  },
  {
   "cell_type": "code",
   "execution_count": 2,
   "metadata": {},
   "outputs": [
    {
     "data": {
      "text/plain": [
       "'D:/canopy_data/s2cloudless_new_model/null\\\\100_1000_1000.tif'"
      ]
     },
     "execution_count": 2,
     "metadata": {},
     "output_type": "execute_result"
    }
   ],
   "source": [
    "# Test glob function on folder containing geotiffs\n",
    "\n",
    "glob.glob('D:/canopy_data/s2cloudless_new_model/null/*.tif')[2]"
   ]
  },
  {
   "cell_type": "code",
   "execution_count": 17,
   "metadata": {},
   "outputs": [
    {
     "name": "stdout",
     "output_type": "stream",
     "text": [
      "(12, 131, 131)\n"
     ]
    }
   ],
   "source": [
    "# Try a single test geotiff first\n",
    "\n",
    "base_url = 'D:/canopy_data/s2cloudless_new_model/'\n",
    "\n",
    "test_tif = glob.glob(base_url + 'null/*.tif')[2]\n",
    "\n",
    "# open with rasterio\n",
    "with rio.open(test_tif) as src:\n",
    "    chip = src.read()\n",
    "    meta = src.meta\n",
    "    print(chip.shape)\n",
    "    \n",
    "nbr_band = es.normalized_diff(chip[8], chip[10]) # use normalized differential to create NBR band\n",
    "\n",
    "meta.update(count = chip.shape[0] + 1) # add 1 to the number of bands in metadata"
   ]
  },
  {
   "cell_type": "code",
   "execution_count": 18,
   "metadata": {},
   "outputs": [
    {
     "data": {
      "text/plain": [
       "{'driver': 'GTiff',\n",
       " 'dtype': 'float64',\n",
       " 'nodata': None,\n",
       " 'width': 131,\n",
       " 'height': 131,\n",
       " 'count': 13,\n",
       " 'crs': CRS.from_epsg(4326),\n",
       " 'transform': Affine(8.983152841195215e-05, 0.0, 19.14848859629172,\n",
       "        0.0, -8.983152841195215e-05, -3.097660594229346)}"
      ]
     },
     "execution_count": 18,
     "metadata": {},
     "output_type": "execute_result"
    }
   ],
   "source": [
    "meta"
   ]
  },
  {
   "cell_type": "code",
   "execution_count": 20,
   "metadata": {},
   "outputs": [
    {
     "name": "stdout",
     "output_type": "stream",
     "text": [
      "('B1', 'B2', 'B3', 'B4', 'B5', 'B6', 'B7', 'B8', 'B8A', 'B9', 'B11', 'B12')\n"
     ]
    }
   ],
   "source": [
    "with rio.open(test_tif) as src:\n",
    "    print(src.descriptions)"
   ]
  },
  {
   "cell_type": "code",
   "execution_count": 15,
   "metadata": {},
   "outputs": [],
   "source": [
    "with rio.open('new_test.tif', 'w', **meta) as dst:\n",
    "    with rio.open(test_tif) as src:\n",
    "        for i in range(chip.shape[0]):\n",
    "            dst.write_band(i+1, src.read(i+1)) # write all the old bands first\n",
    "    dst.write_band(chip.shape[0]+1, nbr_band) # then write the NBR band"
   ]
  },
  {
   "cell_type": "code",
   "execution_count": 16,
   "metadata": {},
   "outputs": [],
   "source": [
    "import os"
   ]
  },
  {
   "cell_type": "code",
   "execution_count": 25,
   "metadata": {},
   "outputs": [],
   "source": [
    "def make_nbr_band(src_url, dst_url):\n",
    "    \"\"\"\n",
    "    Inserts an NBR band into a geotiff\n",
    "    src_url: The location of your geotiff\n",
    "    dst_url: Where you want to save your new geotiff (includes filename)\n",
    "    \"\"\"\n",
    "    with rio.open(src_url) as src:\n",
    "        tif = src.read()\n",
    "        meta = src.meta\n",
    "        descriptions = src.descriptions\n",
    "        \n",
    "        nbr_band = es.normalized_diff(chip[8], chip[10]) # make NBR band\n",
    "        meta.update(count=chip.shape[0]+1) # add one band to metadata\n",
    "        \n",
    "        with rio.open(dst_url, 'w', **meta) as dst:\n",
    "            for i in range(chip.shape[0]):\n",
    "                dst.write_band(i+1, src.read(i+1)) # write all the old bands\n",
    "            dst.write_band(chip.shape[0]+1, nbr_band) # write the NBR band\n",
    "            new_descriptions = descriptions + ('NBR',) # update descriptions\n",
    "            dst.descriptions = new_descriptions"
   ]
  },
  {
   "cell_type": "code",
   "execution_count": 26,
   "metadata": {},
   "outputs": [],
   "source": [
    "make_nbr_band(test_tif, 'new_test.tif') # test function"
   ]
  },
  {
   "cell_type": "code",
   "execution_count": 27,
   "metadata": {},
   "outputs": [
    {
     "data": {
      "text/plain": [
       "'100_1000_1000.tif'"
      ]
     },
     "execution_count": 27,
     "metadata": {},
     "output_type": "execute_result"
    }
   ],
   "source": [
    "test_tif.split('\\\\')[-1]"
   ]
  },
  {
   "cell_type": "code",
   "execution_count": 28,
   "metadata": {},
   "outputs": [],
   "source": [
    "# Use function on all geotiffs in all relevant folders\n",
    "\n",
    "folders = ['SAB', 'ISL', 'industrial_agriculture', 'null']\n",
    "\n",
    "for folder in folders:\n",
    "    geotiffs = glob.glob(base_url + folder + '/*.tif') # gets list of geotiffs in the folder\n",
    "    for tif in geotiffs:\n",
    "        filename = tif.split('\\\\')[-1] # pull out filename\n",
    "        dst_folder = base_url + folder + '_nbr/' # update folder name for new geotiffs\n",
    "        if not os.path.exists(dst_folder):\n",
    "            os.mkdir(dst_folder)\n",
    "        dst_url = dst_folder + filename\n",
    "        make_nbr_band(tif, dst_url) # run function"
   ]
  },
  {
   "cell_type": "code",
   "execution_count": null,
   "metadata": {},
   "outputs": [],
   "source": []
  }
 ],
 "metadata": {
  "kernelspec": {
   "display_name": "canopy-conda",
   "language": "python",
   "name": "canopy_conda"
  },
  "language_info": {
   "codemirror_mode": {
    "name": "ipython",
    "version": 3
   },
   "file_extension": ".py",
   "mimetype": "text/x-python",
   "name": "python",
   "nbconvert_exporter": "python",
   "pygments_lexer": "ipython3",
   "version": "3.8.5"
  }
 },
 "nbformat": 4,
 "nbformat_minor": 4
}
