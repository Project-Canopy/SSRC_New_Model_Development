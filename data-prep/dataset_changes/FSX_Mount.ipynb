{
 "cells": [
  {
   "cell_type": "code",
   "execution_count": 1,
   "id": "collective-lending",
   "metadata": {},
   "outputs": [
    {
     "name": "stdout",
     "output_type": "stream",
     "text": [
      "Loaded plugins: dkms-build-requires, priorities, update-motd, upgrade-helper,\n",
      "              : versionlock\n",
      "amzn-main                                                | 2.1 kB     00:00     \n",
      "amzn-updates                                             | 3.8 kB     00:00     \n",
      "copr:copr.fedorainfracloud.org:vbatts:shadow-utils-newxi | 3.3 kB     00:00     \n",
      "libnvidia-container/x86_64/signature                     |  833 B     00:00     \n",
      "libnvidia-container/x86_64/signature                     | 2.1 kB     00:00 !!! \n",
      "nvidia-container-runtime/x86_64/signature                |  833 B     00:00     \n",
      "nvidia-container-runtime/x86_64/signature                | 2.1 kB     00:00 !!! \n",
      "nvidia-docker/x86_64/signature                           |  488 B     00:00     \n",
      "nvidia-docker/x86_64/signature                           | 2.1 kB     00:00 !!! \n",
      "Resolving Dependencies\n",
      "--> Running transaction check\n",
      "---> Package lustre-client.x86_64 0:2.10.8-5.amzn1 will be installed\n",
      "--> Finished Dependency Resolution\n",
      "\n",
      "Dependencies Resolved\n",
      "\n",
      "================================================================================\n",
      " Package             Arch         Version              Repository          Size\n",
      "================================================================================\n",
      "Installing:\n",
      " lustre-client       x86_64       2.10.8-5.amzn1       amzn-updates       825 k\n",
      "\n",
      "Transaction Summary\n",
      "================================================================================\n",
      "Install  1 Package\n",
      "\n",
      "Total download size: 825 k\n",
      "Installed size: 1.8 M\n",
      "Downloading packages:\n",
      "lustre-client-2.10.8-5.amzn1.x86_64.rpm                    | 825 kB   00:00     \n",
      "Running transaction check\n",
      "Running transaction test\n",
      "Transaction test succeeded\n",
      "Running transaction\n",
      "  Installing : lustre-client-2.10.8-5.amzn1.x86_64                          1/1 \n",
      "  Verifying  : lustre-client-2.10.8-5.amzn1.x86_64                          1/1 \n",
      "\n",
      "Installed:\n",
      "  lustre-client.x86_64 0:2.10.8-5.amzn1                                         \n",
      "\n",
      "Complete!\n"
     ]
    }
   ],
   "source": [
    "!sudo yum install -y lustre-client"
   ]
  },
  {
   "cell_type": "code",
   "execution_count": 3,
   "id": "persistent-covering",
   "metadata": {},
   "outputs": [
    {
     "name": "stdout",
     "output_type": "stream",
     "text": [
      "/home/ec2-user/SageMaker/cb_feature_detection/data-prep/dataset_changes\n"
     ]
    }
   ],
   "source": [
    "!pwd"
   ]
  },
  {
   "cell_type": "code",
   "execution_count": 4,
   "id": "experienced-inspector",
   "metadata": {},
   "outputs": [
    {
     "name": "stdout",
     "output_type": "stream",
     "text": [
      "/home/ec2-user\n"
     ]
    }
   ],
   "source": [
    "%cd /home/ec2-user/"
   ]
  },
  {
   "cell_type": "code",
   "execution_count": 6,
   "id": "usual-blood",
   "metadata": {},
   "outputs": [],
   "source": [
    "!mkdir fsx"
   ]
  },
  {
   "cell_type": "code",
   "execution_count": 9,
   "id": "corresponding-ceramic",
   "metadata": {},
   "outputs": [
    {
     "name": "stdout",
     "output_type": "stream",
     "text": [
      "anaconda3  LICENSE\t\t  SageMaker\t\t       src\n",
      "examples   Nvidia_Cloud_EULA.pdf  sample-notebooks\t       tools\n",
      "fsx\t   README\t\t  sample-notebooks-1616459174  tutorials\n"
     ]
    }
   ],
   "source": [
    "!ls"
   ]
  },
  {
   "cell_type": "code",
   "execution_count": 10,
   "id": "exempt-needle",
   "metadata": {},
   "outputs": [],
   "source": [
    "!sudo mount -t lustre -o noatime,flock fs-01a1dfba7f2084d85.fsx.us-east-1.amazonaws.com@tcp:/wpgibbmv fsx"
   ]
  },
  {
   "cell_type": "code",
   "execution_count": null,
   "id": "daily-style",
   "metadata": {},
   "outputs": [],
   "source": []
  }
 ],
 "metadata": {
  "kernelspec": {
   "display_name": "conda_tensorflow2_p36",
   "language": "python",
   "name": "conda_tensorflow2_p36"
  },
  "language_info": {
   "codemirror_mode": {
    "name": "ipython",
    "version": 3
   },
   "file_extension": ".py",
   "mimetype": "text/x-python",
   "name": "python",
   "nbconvert_exporter": "python",
   "pygments_lexer": "ipython3",
   "version": "3.6.13"
  }
 },
 "nbformat": 4,
 "nbformat_minor": 5
}
