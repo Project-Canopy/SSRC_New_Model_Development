{
 "cells": [
  {
   "cell_type": "code",
   "execution_count": 3,
   "metadata": {},
   "outputs": [],
   "source": [
    "import pandas as pd"
   ]
  },
  {
   "cell_type": "code",
   "execution_count": 4,
   "metadata": {},
   "outputs": [],
   "source": [
    "df_train = pd.read_csv('new_train_labels_v1.csv')\n",
    "df_val = pd.read_csv('new_val_labels_v1.csv')\n",
    "df_test = pd.read_csv('new_test_labels_v1.csv')\n",
    "\n",
    "df = pd.concat([df_train, df_val, df_test])\n",
    "\n",
    "df = df.reset_index(drop=True)\n",
    "\n",
    "assert len(df) == len(df_train) + len(df_val) + len(df_test)"
   ]
  },
  {
   "cell_type": "code",
   "execution_count": 6,
   "metadata": {},
   "outputs": [
    {
     "data": {
      "text/html": [
       "<div>\n",
       "<style scoped>\n",
       "    .dataframe tbody tr th:only-of-type {\n",
       "        vertical-align: middle;\n",
       "    }\n",
       "\n",
       "    .dataframe tbody tr th {\n",
       "        vertical-align: top;\n",
       "    }\n",
       "\n",
       "    .dataframe thead th {\n",
       "        text-align: right;\n",
       "    }\n",
       "</style>\n",
       "<table border=\"1\" class=\"dataframe\">\n",
       "  <thead>\n",
       "    <tr style=\"text-align: right;\">\n",
       "      <th></th>\n",
       "      <th>0</th>\n",
       "      <th>1</th>\n",
       "      <th>2</th>\n",
       "      <th>3</th>\n",
       "      <th>4</th>\n",
       "      <th>paths</th>\n",
       "    </tr>\n",
       "  </thead>\n",
       "  <tbody>\n",
       "    <tr>\n",
       "      <th>0</th>\n",
       "      <td>0</td>\n",
       "      <td>0</td>\n",
       "      <td>0</td>\n",
       "      <td>0</td>\n",
       "      <td>0</td>\n",
       "      <td>chips/cloudfree-merge-polygons/dataset_v2/misc...</td>\n",
       "    </tr>\n",
       "    <tr>\n",
       "      <th>1</th>\n",
       "      <td>0</td>\n",
       "      <td>0</td>\n",
       "      <td>0</td>\n",
       "      <td>0</td>\n",
       "      <td>0</td>\n",
       "      <td>chips/cloudfree-merge-polygons/dataset_v2/misc...</td>\n",
       "    </tr>\n",
       "    <tr>\n",
       "      <th>2</th>\n",
       "      <td>0</td>\n",
       "      <td>0</td>\n",
       "      <td>0</td>\n",
       "      <td>0</td>\n",
       "      <td>0</td>\n",
       "      <td>chips/cloudfree-merge-polygons/dataset_v2/misc...</td>\n",
       "    </tr>\n",
       "    <tr>\n",
       "      <th>3</th>\n",
       "      <td>0</td>\n",
       "      <td>0</td>\n",
       "      <td>0</td>\n",
       "      <td>0</td>\n",
       "      <td>0</td>\n",
       "      <td>chips/cloudfree-merge-polygons/dataset_v2/misc...</td>\n",
       "    </tr>\n",
       "    <tr>\n",
       "      <th>4</th>\n",
       "      <td>0</td>\n",
       "      <td>0</td>\n",
       "      <td>0</td>\n",
       "      <td>0</td>\n",
       "      <td>0</td>\n",
       "      <td>chips/cloudfree-merge-polygons/dataset_v2/misc...</td>\n",
       "    </tr>\n",
       "  </tbody>\n",
       "</table>\n",
       "</div>"
      ],
      "text/plain": [
       "   0  1  2  3  4                                              paths\n",
       "0  0  0  0  0  0  chips/cloudfree-merge-polygons/dataset_v2/misc...\n",
       "1  0  0  0  0  0  chips/cloudfree-merge-polygons/dataset_v2/misc...\n",
       "2  0  0  0  0  0  chips/cloudfree-merge-polygons/dataset_v2/misc...\n",
       "3  0  0  0  0  0  chips/cloudfree-merge-polygons/dataset_v2/misc...\n",
       "4  0  0  0  0  0  chips/cloudfree-merge-polygons/dataset_v2/misc..."
      ]
     },
     "execution_count": 6,
     "metadata": {},
     "output_type": "execute_result"
    }
   ],
   "source": [
    "df.head()"
   ]
  },
  {
   "cell_type": "code",
   "execution_count": 8,
   "metadata": {},
   "outputs": [
    {
     "data": {
      "text/plain": [
       "['chips',\n",
       " 'cloudfree-merge-polygons',\n",
       " 'dataset_v2',\n",
       " 'misc',\n",
       " '100',\n",
       " '12',\n",
       " '12_2200_4700.tif']"
      ]
     },
     "execution_count": 8,
     "metadata": {},
     "output_type": "execute_result"
    }
   ],
   "source": [
    "df.loc[0, 'paths'].split('/')"
   ]
  },
  {
   "cell_type": "code",
   "execution_count": 14,
   "metadata": {},
   "outputs": [],
   "source": [
    "def get_poly_paths(df, polygon_id=91):\n",
    "    df2 = df.copy()\n",
    "    df2['polygon_id'] = df2['paths'].apply(lambda x: int(x.split('/')[5]))\n",
    "    df_poly = df2[df2['polygon_id'] == polygon_id]\n",
    "    return list(set(df_poly['paths'].tolist()))"
   ]
  },
  {
   "cell_type": "code",
   "execution_count": 15,
   "metadata": {},
   "outputs": [
    {
     "data": {
      "text/plain": [
       "1160"
      ]
     },
     "execution_count": 15,
     "metadata": {},
     "output_type": "execute_result"
    }
   ],
   "source": [
    "poly_paths = get_poly_paths(df)\n",
    "\n",
    "len(poly_paths)"
   ]
  },
  {
   "cell_type": "code",
   "execution_count": 16,
   "metadata": {},
   "outputs": [
    {
     "data": {
      "text/plain": [
       "['chips/cloudfree-merge-polygons/dataset_v2/misc/100/91/91_2300_100.tif',\n",
       " 'chips/cloudfree-merge-polygons/dataset_v2/misc/100/91/91_800_2200.tif',\n",
       " 'chips/cloudfree-merge-polygons/dataset_v2/misc/100/91/91_1000_2400.tif',\n",
       " 'chips/cloudfree-merge-polygons/dataset_v2/misc/100/91/91_2800_3000.tif',\n",
       " 'chips/cloudfree-merge-polygons/dataset_v2/misc/100/91/91_900_2300.tif']"
      ]
     },
     "execution_count": 16,
     "metadata": {},
     "output_type": "execute_result"
    }
   ],
   "source": [
    "poly_paths[0:5]"
   ]
  },
  {
   "cell_type": "code",
   "execution_count": 17,
   "metadata": {},
   "outputs": [
    {
     "data": {
      "text/plain": [
       "75"
      ]
     },
     "execution_count": 17,
     "metadata": {},
     "output_type": "execute_result"
    }
   ],
   "source": [
    "isl_paths = [path for path in poly_paths if path.split('/')[3] == 'ISL']\n",
    "len(isl_paths)"
   ]
  },
  {
   "cell_type": "code",
   "execution_count": 27,
   "metadata": {},
   "outputs": [
    {
     "data": {
      "text/plain": [
       "'chips/cloudfree-merge-polygons/dataset_v2/ISL/100/91/91_1600_1900.tif'"
      ]
     },
     "execution_count": 27,
     "metadata": {},
     "output_type": "execute_result"
    }
   ],
   "source": [
    "isl_paths[0]"
   ]
  },
  {
   "cell_type": "code",
   "execution_count": 25,
   "metadata": {},
   "outputs": [],
   "source": [
    "import boto3\n",
    "\n",
    "\n",
    "def download_chip(chip_url, dest_dir):\n",
    "    if dest_dir[-1] != '/':\n",
    "        dest_dir = dest_dir + '/'\n",
    "        \n",
    "    #print(dest_dir)\n",
    "    \n",
    "    s3 = boto3.resource('s3')\n",
    "    bucket = chip_url.split('/')[2]\n",
    "    chip_key = '/'.join(chip_url.split('/')[3:])\n",
    "    chip_filename = chip_url.split('/')[-1]\n",
    "    dest_path = dest_dir + chip_filename\n",
    "    #print(chip_key)\n",
    "    #print(dest_path)\n",
    "    s3.Bucket(bucket).download_file(chip_key, dest_path)"
   ]
  },
  {
   "cell_type": "code",
   "execution_count": 28,
   "metadata": {},
   "outputs": [
    {
     "name": "stdout",
     "output_type": "stream",
     "text": [
      "Downloading chip 74 of 74\r"
     ]
    }
   ],
   "source": [
    "dest_dir = 'D:/canopy_data/error_fixing/chips'\n",
    "\n",
    "for i, path in enumerate(isl_paths[1:], 1):\n",
    "    print(f'Downloading chip {i} of {len(isl_paths[1:])}', end='\\r', flush=True)\n",
    "    chip_url = 's3://canopy-production-ml/' + path\n",
    "    download_chip(chip_url, dest_dir)"
   ]
  },
  {
   "cell_type": "code",
   "execution_count": 29,
   "metadata": {},
   "outputs": [],
   "source": [
    "def download_model(model_url,weights_url,model_filename=\"D:/canopy_data/error_fixing/model.h5\",\n",
    "                   model_weights_filename=\"D:/canopy_data/error_fixing/model_weights.h5\"):\n",
    "\n",
    "    s3 = boto3.resource('s3')\n",
    "\n",
    "    #Download Model, Weights\n",
    "\n",
    "    bucket = model_url.split(\"/\")[2]\n",
    "    model_key = \"/\".join(model_url.split(\"/\")[3:])\n",
    "    s3.Bucket(bucket).download_file(model_key, model_filename)\n",
    "    weights_key = \"/\".join(weights_url.split(\"/\")[3:])\n",
    "    s3.Bucket(bucket).download_file(weights_key, model_weights_filename)\n",
    "\n",
    "    return "
   ]
  },
  {
   "cell_type": "code",
   "execution_count": 30,
   "metadata": {},
   "outputs": [],
   "source": [
    "model_url = \"s3://canopy-production-ml/inference/model_files/model-best.h5\"\n",
    "weights_url = \"s3://canopy-production-ml/inference/model_files/model_weights_best.h5\"\n",
    "\n",
    "download_model(model_url,weights_url)"
   ]
  },
  {
   "cell_type": "code",
   "execution_count": 8,
   "metadata": {},
   "outputs": [
    {
     "name": "stdout",
     "output_type": "stream",
     "text": [
      "Success for test\n"
     ]
    }
   ],
   "source": [
    "l = ['train', 'val', 'test']\n",
    "\n",
    "for i, df in enumerate([df_train, df_val, df_test]):\n",
    "    df_filter = df[(df['1'] == 1) & (df['paths'].str.contains('/91/'))]\n",
    "    if len(df_filter) > 0:\n",
    "        print('Success for', l[i])"
   ]
  },
  {
   "cell_type": "code",
   "execution_count": null,
   "metadata": {},
   "outputs": [],
   "source": []
  }
 ],
 "metadata": {
  "kernelspec": {
   "display_name": "canopy-conda",
   "language": "python",
   "name": "canopy_conda"
  },
  "language_info": {
   "codemirror_mode": {
    "name": "ipython",
    "version": 3
   },
   "file_extension": ".py",
   "mimetype": "text/x-python",
   "name": "python",
   "nbconvert_exporter": "python",
   "pygments_lexer": "ipython3",
   "version": "3.8.5"
  }
 },
 "nbformat": 4,
 "nbformat_minor": 4
}
