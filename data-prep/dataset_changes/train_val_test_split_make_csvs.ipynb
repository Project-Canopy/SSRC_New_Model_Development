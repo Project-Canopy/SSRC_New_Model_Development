{
 "cells": [
  {
   "cell_type": "code",
   "execution_count": 3,
   "metadata": {},
   "outputs": [],
   "source": [
    "import boto3\n",
    "import pandas as pd\n",
    "import json"
   ]
  },
  {
   "cell_type": "code",
   "execution_count": 2,
   "metadata": {},
   "outputs": [
    {
     "data": {
      "text/plain": [
       "{'train': [12,\n",
       "  1,\n",
       "  74,\n",
       "  10,\n",
       "  7,\n",
       "  19,\n",
       "  28,\n",
       "  9,\n",
       "  21,\n",
       "  32,\n",
       "  31,\n",
       "  53,\n",
       "  64,\n",
       "  37,\n",
       "  33,\n",
       "  58,\n",
       "  86,\n",
       "  77,\n",
       "  27,\n",
       "  84,\n",
       "  30,\n",
       "  18,\n",
       "  22,\n",
       "  15,\n",
       "  25,\n",
       "  23,\n",
       "  75,\n",
       "  78,\n",
       "  85,\n",
       "  55,\n",
       "  89,\n",
       "  48,\n",
       "  44,\n",
       "  66,\n",
       "  39,\n",
       "  29,\n",
       "  81,\n",
       "  60,\n",
       "  57,\n",
       "  50,\n",
       "  92,\n",
       "  101],\n",
       " 'test': [6,\n",
       "  2,\n",
       "  72,\n",
       "  70,\n",
       "  20,\n",
       "  14,\n",
       "  13,\n",
       "  5,\n",
       "  26,\n",
       "  3,\n",
       "  11,\n",
       "  4,\n",
       "  69,\n",
       "  76,\n",
       "  35,\n",
       "  41,\n",
       "  46,\n",
       "  47,\n",
       "  43,\n",
       "  34,\n",
       "  63,\n",
       "  61,\n",
       "  17,\n",
       "  16,\n",
       "  24,\n",
       "  8,\n",
       "  59,\n",
       "  68,\n",
       "  88,\n",
       "  36,\n",
       "  38,\n",
       "  42,\n",
       "  83,\n",
       "  40,\n",
       "  45,\n",
       "  71,\n",
       "  87,\n",
       "  80,\n",
       "  49,\n",
       "  52,\n",
       "  56,\n",
       "  82,\n",
       "  51,\n",
       "  54,\n",
       "  91,\n",
       "  99,\n",
       "  100,\n",
       "  93,\n",
       "  90,\n",
       "  94,\n",
       "  67,\n",
       "  65,\n",
       "  62,\n",
       "  73,\n",
       "  79]}"
      ]
     },
     "execution_count": 2,
     "metadata": {},
     "output_type": "execute_result"
    }
   ],
   "source": [
    "with open('train_test_polygons.json') as ttp:\n",
    "    train_test_polygons = json.load(ttp)\n",
    "    \n",
    "train_test_polygons"
   ]
  },
  {
   "cell_type": "code",
   "execution_count": 4,
   "metadata": {},
   "outputs": [],
   "source": [
    "s3 = boto3.resource('s3')\n",
    "\n",
    "bucket_name = 'canopy-production-ml'\n",
    "\n",
    "pc_bucket = s3.Bucket(bucket_name)\n",
    "\n",
    "all_objects = pc_bucket.objects.all()"
   ]
  },
  {
   "cell_type": "code",
   "execution_count": 5,
   "metadata": {},
   "outputs": [],
   "source": [
    "all_chips = []\n",
    "\n",
    "for obj in all_objects:\n",
    "    if 'cloudfree-merge-polygons/dataset_v2' in obj.key:\n",
    "        all_chips.append(obj)"
   ]
  },
  {
   "cell_type": "code",
   "execution_count": 7,
   "metadata": {},
   "outputs": [],
   "source": [
    "def remove_duplicate_chips(keys):\n",
    "    data = {'Keys': keys}\n",
    "    \n",
    "    df = pd.DataFrame(data=data)\n",
    "    \n",
    "    df['Filenames'] = df['Keys'].apply(lambda x:x.split('/')[-1])\n",
    "    \n",
    "    df = df.drop_duplicates(subset=['Filenames'])\n",
    "    \n",
    "    return df['Keys'].tolist()"
   ]
  },
  {
   "cell_type": "code",
   "execution_count": 16,
   "metadata": {},
   "outputs": [
    {
     "name": "stdout",
     "output_type": "stream",
     "text": [
      "chips/cloudfree-merge-polygons/dataset_v2/\n",
      "chips/cloudfree-merge-polygons/dataset_v2/misc/\n"
     ]
    }
   ],
   "source": [
    "poly_chip_dict = {}\n",
    "\n",
    "for chip in all_chips:\n",
    "    key = chip.key\n",
    "    \n",
    "    try:\n",
    "        poly_id = int(key.split('/')[5])\n",
    "        \n",
    "        if poly_id in poly_chip_dict:\n",
    "            poly_chip_dict[poly_id].append(key)\n",
    "        else:\n",
    "            poly_chip_dict[poly_id] = [key]\n",
    "            \n",
    "    except:\n",
    "        print(key)"
   ]
  },
  {
   "cell_type": "code",
   "execution_count": 17,
   "metadata": {},
   "outputs": [
    {
     "data": {
      "text/plain": [
       "97"
      ]
     },
     "execution_count": 17,
     "metadata": {},
     "output_type": "execute_result"
    }
   ],
   "source": [
    "len(poly_chip_dict)"
   ]
  },
  {
   "cell_type": "code",
   "execution_count": 18,
   "metadata": {},
   "outputs": [
    {
     "data": {
      "text/plain": [
       "559"
      ]
     },
     "execution_count": 18,
     "metadata": {},
     "output_type": "execute_result"
    }
   ],
   "source": [
    "len(poly_chip_dict[1])"
   ]
  },
  {
   "cell_type": "code",
   "execution_count": 19,
   "metadata": {},
   "outputs": [
    {
     "data": {
      "text/plain": [
       "'chips/cloudfree-merge-polygons/dataset_v2/ISL/100/1/1_1000_1000.tif'"
      ]
     },
     "execution_count": 19,
     "metadata": {},
     "output_type": "execute_result"
    }
   ],
   "source": [
    "poly_chip_dict[1][0]"
   ]
  },
  {
   "cell_type": "code",
   "execution_count": 20,
   "metadata": {},
   "outputs": [],
   "source": [
    "labels = ['Industrial_agriculture', 'ISL', 'Mining', 'Roads', 'Shifting_cultivation']\n",
    "\n",
    "test_chip_labels = {}\n",
    "\n",
    "for test_poly in train_test_polygons['test']:\n",
    "    chips = poly_chip_dict[test_poly]\n",
    "    \n",
    "    for chip in chips:\n",
    "        filename = chip.split('/')[-1]\n",
    "        \n",
    "        if filename not in test_chip_labels:\n",
    "            chip_labels = [0,0,0,0,0]\n",
    "            \n",
    "            for i in range(5):\n",
    "                if labels[i] in chip:\n",
    "                    chip_labels[i] = 1\n",
    "                    \n",
    "            test_chip_labels[filename] = {'labels': chip_labels, 'key': chip}\n",
    "            \n",
    "        else:\n",
    "            for i in range(5):\n",
    "                if labels[i] in chip:\n",
    "                    test_chip_labels[filename]['labels'][i] = 1"
   ]
  },
  {
   "cell_type": "code",
   "execution_count": 22,
   "metadata": {},
   "outputs": [
    {
     "data": {
      "text/plain": [
       "['6_1000_1000.tif',\n",
       " '6_1000_1100.tif',\n",
       " '6_1000_1200.tif',\n",
       " '6_1000_1300.tif',\n",
       " '6_1000_600.tif']"
      ]
     },
     "execution_count": 22,
     "metadata": {},
     "output_type": "execute_result"
    }
   ],
   "source": [
    "list(test_chip_labels.keys())[:5]"
   ]
  },
  {
   "cell_type": "code",
   "execution_count": 23,
   "metadata": {},
   "outputs": [
    {
     "data": {
      "text/plain": [
       "{'labels': [1, 0, 0, 1, 0],\n",
       " 'key': 'chips/cloudfree-merge-polygons/dataset_v2/Industrial_agriculture/100/6/6_1000_1000.tif'}"
      ]
     },
     "execution_count": 23,
     "metadata": {},
     "output_type": "execute_result"
    }
   ],
   "source": [
    "test_chip_labels['6_1000_1000.tif']"
   ]
  },
  {
   "cell_type": "code",
   "execution_count": 24,
   "metadata": {},
   "outputs": [
    {
     "data": {
      "text/html": [
       "<div>\n",
       "<style scoped>\n",
       "    .dataframe tbody tr th:only-of-type {\n",
       "        vertical-align: middle;\n",
       "    }\n",
       "\n",
       "    .dataframe tbody tr th {\n",
       "        vertical-align: top;\n",
       "    }\n",
       "\n",
       "    .dataframe thead th {\n",
       "        text-align: right;\n",
       "    }\n",
       "</style>\n",
       "<table border=\"1\" class=\"dataframe\">\n",
       "  <thead>\n",
       "    <tr style=\"text-align: right;\">\n",
       "      <th></th>\n",
       "      <th>0</th>\n",
       "      <th>1</th>\n",
       "      <th>2</th>\n",
       "      <th>3</th>\n",
       "      <th>4</th>\n",
       "      <th>paths</th>\n",
       "    </tr>\n",
       "  </thead>\n",
       "  <tbody>\n",
       "    <tr>\n",
       "      <th>0</th>\n",
       "      <td>1</td>\n",
       "      <td>0</td>\n",
       "      <td>0</td>\n",
       "      <td>1</td>\n",
       "      <td>0</td>\n",
       "      <td>chips/cloudfree-merge-polygons/dataset_v2/Indu...</td>\n",
       "    </tr>\n",
       "    <tr>\n",
       "      <th>1</th>\n",
       "      <td>1</td>\n",
       "      <td>0</td>\n",
       "      <td>0</td>\n",
       "      <td>1</td>\n",
       "      <td>0</td>\n",
       "      <td>chips/cloudfree-merge-polygons/dataset_v2/Indu...</td>\n",
       "    </tr>\n",
       "    <tr>\n",
       "      <th>2</th>\n",
       "      <td>1</td>\n",
       "      <td>0</td>\n",
       "      <td>0</td>\n",
       "      <td>0</td>\n",
       "      <td>0</td>\n",
       "      <td>chips/cloudfree-merge-polygons/dataset_v2/Indu...</td>\n",
       "    </tr>\n",
       "    <tr>\n",
       "      <th>3</th>\n",
       "      <td>1</td>\n",
       "      <td>0</td>\n",
       "      <td>0</td>\n",
       "      <td>0</td>\n",
       "      <td>0</td>\n",
       "      <td>chips/cloudfree-merge-polygons/dataset_v2/Indu...</td>\n",
       "    </tr>\n",
       "    <tr>\n",
       "      <th>4</th>\n",
       "      <td>1</td>\n",
       "      <td>0</td>\n",
       "      <td>0</td>\n",
       "      <td>1</td>\n",
       "      <td>0</td>\n",
       "      <td>chips/cloudfree-merge-polygons/dataset_v2/Indu...</td>\n",
       "    </tr>\n",
       "  </tbody>\n",
       "</table>\n",
       "</div>"
      ],
      "text/plain": [
       "   0  1  2  3  4                                              paths\n",
       "0  1  0  0  1  0  chips/cloudfree-merge-polygons/dataset_v2/Indu...\n",
       "1  1  0  0  1  0  chips/cloudfree-merge-polygons/dataset_v2/Indu...\n",
       "2  1  0  0  0  0  chips/cloudfree-merge-polygons/dataset_v2/Indu...\n",
       "3  1  0  0  0  0  chips/cloudfree-merge-polygons/dataset_v2/Indu...\n",
       "4  1  0  0  1  0  chips/cloudfree-merge-polygons/dataset_v2/Indu..."
      ]
     },
     "execution_count": 24,
     "metadata": {},
     "output_type": "execute_result"
    }
   ],
   "source": [
    "test_data = {\n",
    "    0: [],\n",
    "    1: [],\n",
    "    2: [],\n",
    "    3: [],\n",
    "    4: [],\n",
    "    'paths': []\n",
    "}\n",
    "\n",
    "for filename in test_chip_labels:\n",
    "    chip_labels = test_chip_labels[filename]['labels']\n",
    "    \n",
    "    path = test_chip_labels[filename]['key']\n",
    "    \n",
    "    for i in range(5):\n",
    "        test_data[i].append(chip_labels[i])\n",
    "        \n",
    "    test_data['paths'].append(path)\n",
    "    \n",
    "test_labels_df = pd.DataFrame(data=test_data)\n",
    "\n",
    "test_labels_df.head()"
   ]
  },
  {
   "cell_type": "code",
   "execution_count": 25,
   "metadata": {},
   "outputs": [],
   "source": [
    "test_labels_df.to_csv('new_test_labels_v1.csv', index=None, header=True)"
   ]
  },
  {
   "cell_type": "code",
   "execution_count": 26,
   "metadata": {},
   "outputs": [
    {
     "data": {
      "text/plain": [
       "['Industrial_agriculture', 'ISL', 'Mining', 'Roads', 'Shifting_cultivation']"
      ]
     },
     "execution_count": 26,
     "metadata": {},
     "output_type": "execute_result"
    }
   ],
   "source": [
    "labels"
   ]
  },
  {
   "cell_type": "code",
   "execution_count": 28,
   "metadata": {},
   "outputs": [],
   "source": [
    "def get_chip_labels(chips, label_names, labels_dict):\n",
    "    for chip in chips:\n",
    "        filename = chip.split('/')[-1]\n",
    "        \n",
    "        if filename not in labels_dict:\n",
    "            chip_labels = [0,0,0,0,0]\n",
    "            \n",
    "            for i in range(5):\n",
    "                if label_names[i] in chip:\n",
    "                    chip_labels[i] = 1\n",
    "                    \n",
    "            labels_dict[filename] = {'labels': chip_labels, 'key': chip}\n",
    "            \n",
    "        else:\n",
    "            for i in range(5):\n",
    "                if label_names[i] in chip:\n",
    "                    labels_dict[filename]['labels'][i] = 1"
   ]
  },
  {
   "cell_type": "code",
   "execution_count": 29,
   "metadata": {},
   "outputs": [
    {
     "data": {
      "text/plain": [
       "['Industrial_agriculture', 'ISL', 'Mining', 'Roads', 'Shifting_cultivation']"
      ]
     },
     "execution_count": 29,
     "metadata": {},
     "output_type": "execute_result"
    }
   ],
   "source": [
    "labels"
   ]
  },
  {
   "cell_type": "code",
   "execution_count": 45,
   "metadata": {},
   "outputs": [],
   "source": [
    "import random\n",
    "\n",
    "\n",
    "train_chip_labels = {}\n",
    "val_chip_labels = {}\n",
    "\n",
    "for train_poly in train_test_polygons['train']:\n",
    "    chips = poly_chip_dict[train_poly]\n",
    "    \n",
    "    val_slice = len(chips) // 5\n",
    "    random.shuffle(chips)\n",
    "    val_chips = chips[:val_slice]\n",
    "    train_chips = chips[val_slice:]\n",
    "    \n",
    "    get_chip_labels(train_chips, labels, train_chip_labels)\n",
    "    get_chip_labels(val_chips, labels, val_chip_labels)"
   ]
  },
  {
   "cell_type": "code",
   "execution_count": 46,
   "metadata": {},
   "outputs": [
    {
     "data": {
      "text/plain": [
       "79499"
      ]
     },
     "execution_count": 46,
     "metadata": {},
     "output_type": "execute_result"
    }
   ],
   "source": [
    "len(train_chip_labels)"
   ]
  },
  {
   "cell_type": "code",
   "execution_count": 47,
   "metadata": {},
   "outputs": [
    {
     "data": {
      "text/plain": [
       "19905"
      ]
     },
     "execution_count": 47,
     "metadata": {},
     "output_type": "execute_result"
    }
   ],
   "source": [
    "len(val_chip_labels)"
   ]
  },
  {
   "cell_type": "code",
   "execution_count": 48,
   "metadata": {},
   "outputs": [
    {
     "data": {
      "text/plain": [
       "['12_2200_4700.tif',\n",
       " '12_4100_4400.tif',\n",
       " '12_2700_1500.tif',\n",
       " '12_200_2600.tif',\n",
       " '12_2000_5200.tif']"
      ]
     },
     "execution_count": 48,
     "metadata": {},
     "output_type": "execute_result"
    }
   ],
   "source": [
    "list(train_chip_labels.keys())[:5]"
   ]
  },
  {
   "cell_type": "code",
   "execution_count": 49,
   "metadata": {},
   "outputs": [
    {
     "data": {
      "text/plain": [
       "{'labels': [0, 0, 0, 0, 0],\n",
       " 'key': 'chips/cloudfree-merge-polygons/dataset_v2/misc/100/12/12_1700_2800.tif'}"
      ]
     },
     "execution_count": 49,
     "metadata": {},
     "output_type": "execute_result"
    }
   ],
   "source": [
    "train_chip_labels['12_1700_2800.tif']"
   ]
  },
  {
   "cell_type": "code",
   "execution_count": 50,
   "metadata": {},
   "outputs": [],
   "source": [
    "def make_labels_df(labels_dict):\n",
    "    data = {\n",
    "        0: [],\n",
    "        1: [],\n",
    "        2: [],\n",
    "        3: [],\n",
    "        4: [],\n",
    "        'paths': []\n",
    "    }\n",
    "\n",
    "    for filename in labels_dict:\n",
    "        chip_labels = labels_dict[filename]['labels']\n",
    "\n",
    "        path = labels_dict[filename]['key']\n",
    "\n",
    "        for i in range(5):\n",
    "            data[i].append(chip_labels[i])\n",
    "\n",
    "        data['paths'].append(path)\n",
    "\n",
    "    labels_df = pd.DataFrame(data=data)\n",
    "\n",
    "    return labels_df"
   ]
  },
  {
   "cell_type": "code",
   "execution_count": 51,
   "metadata": {},
   "outputs": [
    {
     "data": {
      "text/html": [
       "<div>\n",
       "<style scoped>\n",
       "    .dataframe tbody tr th:only-of-type {\n",
       "        vertical-align: middle;\n",
       "    }\n",
       "\n",
       "    .dataframe tbody tr th {\n",
       "        vertical-align: top;\n",
       "    }\n",
       "\n",
       "    .dataframe thead th {\n",
       "        text-align: right;\n",
       "    }\n",
       "</style>\n",
       "<table border=\"1\" class=\"dataframe\">\n",
       "  <thead>\n",
       "    <tr style=\"text-align: right;\">\n",
       "      <th></th>\n",
       "      <th>0</th>\n",
       "      <th>1</th>\n",
       "      <th>2</th>\n",
       "      <th>3</th>\n",
       "      <th>4</th>\n",
       "      <th>paths</th>\n",
       "    </tr>\n",
       "  </thead>\n",
       "  <tbody>\n",
       "    <tr>\n",
       "      <th>0</th>\n",
       "      <td>0</td>\n",
       "      <td>0</td>\n",
       "      <td>0</td>\n",
       "      <td>0</td>\n",
       "      <td>0</td>\n",
       "      <td>chips/cloudfree-merge-polygons/dataset_v2/misc...</td>\n",
       "    </tr>\n",
       "    <tr>\n",
       "      <th>1</th>\n",
       "      <td>0</td>\n",
       "      <td>0</td>\n",
       "      <td>0</td>\n",
       "      <td>0</td>\n",
       "      <td>0</td>\n",
       "      <td>chips/cloudfree-merge-polygons/dataset_v2/misc...</td>\n",
       "    </tr>\n",
       "    <tr>\n",
       "      <th>2</th>\n",
       "      <td>0</td>\n",
       "      <td>0</td>\n",
       "      <td>0</td>\n",
       "      <td>0</td>\n",
       "      <td>0</td>\n",
       "      <td>chips/cloudfree-merge-polygons/dataset_v2/misc...</td>\n",
       "    </tr>\n",
       "    <tr>\n",
       "      <th>3</th>\n",
       "      <td>0</td>\n",
       "      <td>0</td>\n",
       "      <td>0</td>\n",
       "      <td>0</td>\n",
       "      <td>0</td>\n",
       "      <td>chips/cloudfree-merge-polygons/dataset_v2/misc...</td>\n",
       "    </tr>\n",
       "    <tr>\n",
       "      <th>4</th>\n",
       "      <td>0</td>\n",
       "      <td>0</td>\n",
       "      <td>0</td>\n",
       "      <td>0</td>\n",
       "      <td>0</td>\n",
       "      <td>chips/cloudfree-merge-polygons/dataset_v2/misc...</td>\n",
       "    </tr>\n",
       "  </tbody>\n",
       "</table>\n",
       "</div>"
      ],
      "text/plain": [
       "   0  1  2  3  4                                              paths\n",
       "0  0  0  0  0  0  chips/cloudfree-merge-polygons/dataset_v2/misc...\n",
       "1  0  0  0  0  0  chips/cloudfree-merge-polygons/dataset_v2/misc...\n",
       "2  0  0  0  0  0  chips/cloudfree-merge-polygons/dataset_v2/misc...\n",
       "3  0  0  0  0  0  chips/cloudfree-merge-polygons/dataset_v2/misc...\n",
       "4  0  0  0  0  0  chips/cloudfree-merge-polygons/dataset_v2/misc..."
      ]
     },
     "execution_count": 51,
     "metadata": {},
     "output_type": "execute_result"
    }
   ],
   "source": [
    "train_labels_df = make_labels_df(train_chip_labels)\n",
    "val_labels_df = make_labels_df(val_chip_labels)\n",
    "\n",
    "train_labels_df.head()"
   ]
  },
  {
   "cell_type": "code",
   "execution_count": 52,
   "metadata": {},
   "outputs": [
    {
     "data": {
      "text/html": [
       "<div>\n",
       "<style scoped>\n",
       "    .dataframe tbody tr th:only-of-type {\n",
       "        vertical-align: middle;\n",
       "    }\n",
       "\n",
       "    .dataframe tbody tr th {\n",
       "        vertical-align: top;\n",
       "    }\n",
       "\n",
       "    .dataframe thead th {\n",
       "        text-align: right;\n",
       "    }\n",
       "</style>\n",
       "<table border=\"1\" class=\"dataframe\">\n",
       "  <thead>\n",
       "    <tr style=\"text-align: right;\">\n",
       "      <th></th>\n",
       "      <th>0</th>\n",
       "      <th>1</th>\n",
       "      <th>2</th>\n",
       "      <th>3</th>\n",
       "      <th>4</th>\n",
       "      <th>paths</th>\n",
       "    </tr>\n",
       "  </thead>\n",
       "  <tbody>\n",
       "    <tr>\n",
       "      <th>0</th>\n",
       "      <td>0</td>\n",
       "      <td>0</td>\n",
       "      <td>0</td>\n",
       "      <td>0</td>\n",
       "      <td>0</td>\n",
       "      <td>chips/cloudfree-merge-polygons/dataset_v2/misc...</td>\n",
       "    </tr>\n",
       "    <tr>\n",
       "      <th>1</th>\n",
       "      <td>0</td>\n",
       "      <td>0</td>\n",
       "      <td>0</td>\n",
       "      <td>0</td>\n",
       "      <td>0</td>\n",
       "      <td>chips/cloudfree-merge-polygons/dataset_v2/misc...</td>\n",
       "    </tr>\n",
       "    <tr>\n",
       "      <th>2</th>\n",
       "      <td>0</td>\n",
       "      <td>0</td>\n",
       "      <td>0</td>\n",
       "      <td>0</td>\n",
       "      <td>0</td>\n",
       "      <td>chips/cloudfree-merge-polygons/dataset_v2/misc...</td>\n",
       "    </tr>\n",
       "    <tr>\n",
       "      <th>3</th>\n",
       "      <td>0</td>\n",
       "      <td>0</td>\n",
       "      <td>0</td>\n",
       "      <td>0</td>\n",
       "      <td>0</td>\n",
       "      <td>chips/cloudfree-merge-polygons/dataset_v2/misc...</td>\n",
       "    </tr>\n",
       "    <tr>\n",
       "      <th>4</th>\n",
       "      <td>0</td>\n",
       "      <td>0</td>\n",
       "      <td>0</td>\n",
       "      <td>0</td>\n",
       "      <td>0</td>\n",
       "      <td>chips/cloudfree-merge-polygons/dataset_v2/misc...</td>\n",
       "    </tr>\n",
       "  </tbody>\n",
       "</table>\n",
       "</div>"
      ],
      "text/plain": [
       "   0  1  2  3  4                                              paths\n",
       "0  0  0  0  0  0  chips/cloudfree-merge-polygons/dataset_v2/misc...\n",
       "1  0  0  0  0  0  chips/cloudfree-merge-polygons/dataset_v2/misc...\n",
       "2  0  0  0  0  0  chips/cloudfree-merge-polygons/dataset_v2/misc...\n",
       "3  0  0  0  0  0  chips/cloudfree-merge-polygons/dataset_v2/misc...\n",
       "4  0  0  0  0  0  chips/cloudfree-merge-polygons/dataset_v2/misc..."
      ]
     },
     "execution_count": 52,
     "metadata": {},
     "output_type": "execute_result"
    }
   ],
   "source": [
    "val_labels_df.head()"
   ]
  },
  {
   "cell_type": "code",
   "execution_count": 53,
   "metadata": {},
   "outputs": [
    {
     "data": {
      "text/html": [
       "<div>\n",
       "<style scoped>\n",
       "    .dataframe tbody tr th:only-of-type {\n",
       "        vertical-align: middle;\n",
       "    }\n",
       "\n",
       "    .dataframe tbody tr th {\n",
       "        vertical-align: top;\n",
       "    }\n",
       "\n",
       "    .dataframe thead th {\n",
       "        text-align: right;\n",
       "    }\n",
       "</style>\n",
       "<table border=\"1\" class=\"dataframe\">\n",
       "  <thead>\n",
       "    <tr style=\"text-align: right;\">\n",
       "      <th></th>\n",
       "      <th>0</th>\n",
       "      <th>1</th>\n",
       "      <th>2</th>\n",
       "      <th>3</th>\n",
       "      <th>4</th>\n",
       "    </tr>\n",
       "  </thead>\n",
       "  <tbody>\n",
       "    <tr>\n",
       "      <th>count</th>\n",
       "      <td>79499.000000</td>\n",
       "      <td>79499.000000</td>\n",
       "      <td>79499.000000</td>\n",
       "      <td>79499.000000</td>\n",
       "      <td>79499.000000</td>\n",
       "    </tr>\n",
       "    <tr>\n",
       "      <th>mean</th>\n",
       "      <td>0.011271</td>\n",
       "      <td>0.044038</td>\n",
       "      <td>0.001598</td>\n",
       "      <td>0.009371</td>\n",
       "      <td>0.028101</td>\n",
       "    </tr>\n",
       "    <tr>\n",
       "      <th>std</th>\n",
       "      <td>0.105564</td>\n",
       "      <td>0.205182</td>\n",
       "      <td>0.039937</td>\n",
       "      <td>0.096351</td>\n",
       "      <td>0.165262</td>\n",
       "    </tr>\n",
       "    <tr>\n",
       "      <th>min</th>\n",
       "      <td>0.000000</td>\n",
       "      <td>0.000000</td>\n",
       "      <td>0.000000</td>\n",
       "      <td>0.000000</td>\n",
       "      <td>0.000000</td>\n",
       "    </tr>\n",
       "    <tr>\n",
       "      <th>25%</th>\n",
       "      <td>0.000000</td>\n",
       "      <td>0.000000</td>\n",
       "      <td>0.000000</td>\n",
       "      <td>0.000000</td>\n",
       "      <td>0.000000</td>\n",
       "    </tr>\n",
       "    <tr>\n",
       "      <th>50%</th>\n",
       "      <td>0.000000</td>\n",
       "      <td>0.000000</td>\n",
       "      <td>0.000000</td>\n",
       "      <td>0.000000</td>\n",
       "      <td>0.000000</td>\n",
       "    </tr>\n",
       "    <tr>\n",
       "      <th>75%</th>\n",
       "      <td>0.000000</td>\n",
       "      <td>0.000000</td>\n",
       "      <td>0.000000</td>\n",
       "      <td>0.000000</td>\n",
       "      <td>0.000000</td>\n",
       "    </tr>\n",
       "    <tr>\n",
       "      <th>max</th>\n",
       "      <td>1.000000</td>\n",
       "      <td>1.000000</td>\n",
       "      <td>1.000000</td>\n",
       "      <td>1.000000</td>\n",
       "      <td>1.000000</td>\n",
       "    </tr>\n",
       "  </tbody>\n",
       "</table>\n",
       "</div>"
      ],
      "text/plain": [
       "                  0             1             2             3             4\n",
       "count  79499.000000  79499.000000  79499.000000  79499.000000  79499.000000\n",
       "mean       0.011271      0.044038      0.001598      0.009371      0.028101\n",
       "std        0.105564      0.205182      0.039937      0.096351      0.165262\n",
       "min        0.000000      0.000000      0.000000      0.000000      0.000000\n",
       "25%        0.000000      0.000000      0.000000      0.000000      0.000000\n",
       "50%        0.000000      0.000000      0.000000      0.000000      0.000000\n",
       "75%        0.000000      0.000000      0.000000      0.000000      0.000000\n",
       "max        1.000000      1.000000      1.000000      1.000000      1.000000"
      ]
     },
     "execution_count": 53,
     "metadata": {},
     "output_type": "execute_result"
    }
   ],
   "source": [
    "train_labels_df.describe()"
   ]
  },
  {
   "cell_type": "code",
   "execution_count": 54,
   "metadata": {},
   "outputs": [
    {
     "data": {
      "text/html": [
       "<div>\n",
       "<style scoped>\n",
       "    .dataframe tbody tr th:only-of-type {\n",
       "        vertical-align: middle;\n",
       "    }\n",
       "\n",
       "    .dataframe tbody tr th {\n",
       "        vertical-align: top;\n",
       "    }\n",
       "\n",
       "    .dataframe thead th {\n",
       "        text-align: right;\n",
       "    }\n",
       "</style>\n",
       "<table border=\"1\" class=\"dataframe\">\n",
       "  <thead>\n",
       "    <tr style=\"text-align: right;\">\n",
       "      <th></th>\n",
       "      <th>0</th>\n",
       "      <th>1</th>\n",
       "      <th>2</th>\n",
       "      <th>3</th>\n",
       "      <th>4</th>\n",
       "    </tr>\n",
       "  </thead>\n",
       "  <tbody>\n",
       "    <tr>\n",
       "      <th>count</th>\n",
       "      <td>19905.000000</td>\n",
       "      <td>19905.000000</td>\n",
       "      <td>19905.000000</td>\n",
       "      <td>19905.000000</td>\n",
       "      <td>19905.000000</td>\n",
       "    </tr>\n",
       "    <tr>\n",
       "      <th>mean</th>\n",
       "      <td>0.012208</td>\n",
       "      <td>0.045416</td>\n",
       "      <td>0.001457</td>\n",
       "      <td>0.010249</td>\n",
       "      <td>0.028636</td>\n",
       "    </tr>\n",
       "    <tr>\n",
       "      <th>std</th>\n",
       "      <td>0.109816</td>\n",
       "      <td>0.208219</td>\n",
       "      <td>0.038143</td>\n",
       "      <td>0.100718</td>\n",
       "      <td>0.166785</td>\n",
       "    </tr>\n",
       "    <tr>\n",
       "      <th>min</th>\n",
       "      <td>0.000000</td>\n",
       "      <td>0.000000</td>\n",
       "      <td>0.000000</td>\n",
       "      <td>0.000000</td>\n",
       "      <td>0.000000</td>\n",
       "    </tr>\n",
       "    <tr>\n",
       "      <th>25%</th>\n",
       "      <td>0.000000</td>\n",
       "      <td>0.000000</td>\n",
       "      <td>0.000000</td>\n",
       "      <td>0.000000</td>\n",
       "      <td>0.000000</td>\n",
       "    </tr>\n",
       "    <tr>\n",
       "      <th>50%</th>\n",
       "      <td>0.000000</td>\n",
       "      <td>0.000000</td>\n",
       "      <td>0.000000</td>\n",
       "      <td>0.000000</td>\n",
       "      <td>0.000000</td>\n",
       "    </tr>\n",
       "    <tr>\n",
       "      <th>75%</th>\n",
       "      <td>0.000000</td>\n",
       "      <td>0.000000</td>\n",
       "      <td>0.000000</td>\n",
       "      <td>0.000000</td>\n",
       "      <td>0.000000</td>\n",
       "    </tr>\n",
       "    <tr>\n",
       "      <th>max</th>\n",
       "      <td>1.000000</td>\n",
       "      <td>1.000000</td>\n",
       "      <td>1.000000</td>\n",
       "      <td>1.000000</td>\n",
       "      <td>1.000000</td>\n",
       "    </tr>\n",
       "  </tbody>\n",
       "</table>\n",
       "</div>"
      ],
      "text/plain": [
       "                  0             1             2             3             4\n",
       "count  19905.000000  19905.000000  19905.000000  19905.000000  19905.000000\n",
       "mean       0.012208      0.045416      0.001457      0.010249      0.028636\n",
       "std        0.109816      0.208219      0.038143      0.100718      0.166785\n",
       "min        0.000000      0.000000      0.000000      0.000000      0.000000\n",
       "25%        0.000000      0.000000      0.000000      0.000000      0.000000\n",
       "50%        0.000000      0.000000      0.000000      0.000000      0.000000\n",
       "75%        0.000000      0.000000      0.000000      0.000000      0.000000\n",
       "max        1.000000      1.000000      1.000000      1.000000      1.000000"
      ]
     },
     "execution_count": 54,
     "metadata": {},
     "output_type": "execute_result"
    }
   ],
   "source": [
    "val_labels_df.describe()"
   ]
  },
  {
   "cell_type": "code",
   "execution_count": 55,
   "metadata": {},
   "outputs": [],
   "source": [
    "train_labels_df.to_csv('new_train_labels_v1.csv', index=None, header=True)\n",
    "val_labels_df.to_csv('new_val_labels_v1.csv', index=None, header=True)"
   ]
  },
  {
   "cell_type": "code",
   "execution_count": null,
   "metadata": {},
   "outputs": [],
   "source": []
  }
 ],
 "metadata": {
  "kernelspec": {
   "display_name": "aws",
   "language": "python",
   "name": "aws"
  },
  "language_info": {
   "codemirror_mode": {
    "name": "ipython",
    "version": 3
   },
   "file_extension": ".py",
   "mimetype": "text/x-python",
   "name": "python",
   "nbconvert_exporter": "python",
   "pygments_lexer": "ipython3",
   "version": "3.9.1"
  }
 },
 "nbformat": 4,
 "nbformat_minor": 4
}
