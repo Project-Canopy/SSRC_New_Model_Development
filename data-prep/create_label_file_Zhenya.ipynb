{
 "cells": [
  {
   "cell_type": "code",
   "execution_count": 1,
   "metadata": {},
   "outputs": [],
   "source": [
    "import ast\n",
    "import boto3\n",
    "import pandas as pd\n",
    "import json"
   ]
  },
  {
   "cell_type": "code",
   "execution_count": 2,
   "metadata": {},
   "outputs": [
    {
     "data": {
      "text/html": [
       "<div>\n",
       "<style scoped>\n",
       "    .dataframe tbody tr th:only-of-type {\n",
       "        vertical-align: middle;\n",
       "    }\n",
       "\n",
       "    .dataframe tbody tr th {\n",
       "        vertical-align: top;\n",
       "    }\n",
       "\n",
       "    .dataframe thead th {\n",
       "        text-align: right;\n",
       "    }\n",
       "</style>\n",
       "<table border=\"1\" class=\"dataframe\">\n",
       "  <thead>\n",
       "    <tr style=\"text-align: right;\">\n",
       "      <th></th>\n",
       "      <th>filepaths</th>\n",
       "      <th>labels</th>\n",
       "    </tr>\n",
       "  </thead>\n",
       "  <tbody>\n",
       "    <tr>\n",
       "      <th>0</th>\n",
       "      <td>/Volumes/Lacie/zhenyadata/Project_Canopy_Data/...</td>\n",
       "      <td>[ISL]</td>\n",
       "    </tr>\n",
       "    <tr>\n",
       "      <th>1</th>\n",
       "      <td>/Volumes/Lacie/zhenyadata/Project_Canopy_Data/...</td>\n",
       "      <td>[ISL]</td>\n",
       "    </tr>\n",
       "    <tr>\n",
       "      <th>2</th>\n",
       "      <td>/Volumes/Lacie/zhenyadata/Project_Canopy_Data/...</td>\n",
       "      <td>[ISL]</td>\n",
       "    </tr>\n",
       "    <tr>\n",
       "      <th>3</th>\n",
       "      <td>/Volumes/Lacie/zhenyadata/Project_Canopy_Data/...</td>\n",
       "      <td>[ISL]</td>\n",
       "    </tr>\n",
       "    <tr>\n",
       "      <th>4</th>\n",
       "      <td>/Volumes/Lacie/zhenyadata/Project_Canopy_Data/...</td>\n",
       "      <td>[ISL]</td>\n",
       "    </tr>\n",
       "  </tbody>\n",
       "</table>\n",
       "</div>"
      ],
      "text/plain": [
       "                                           filepaths labels\n",
       "0  /Volumes/Lacie/zhenyadata/Project_Canopy_Data/...  [ISL]\n",
       "1  /Volumes/Lacie/zhenyadata/Project_Canopy_Data/...  [ISL]\n",
       "2  /Volumes/Lacie/zhenyadata/Project_Canopy_Data/...  [ISL]\n",
       "3  /Volumes/Lacie/zhenyadata/Project_Canopy_Data/...  [ISL]\n",
       "4  /Volumes/Lacie/zhenyadata/Project_Canopy_Data/...  [ISL]"
      ]
     },
     "execution_count": 2,
     "metadata": {},
     "output_type": "execute_result"
    }
   ],
   "source": [
    "label_csv_david = 'D:/canopy_data/csvs/local_multi_label.csv'\n",
    "label_csv_zhenya = '/Users/purgatorid/Documents/GitHub/canopy-gis/labelling/local_multi_label.csv'\n",
    "\n",
    "label_df = pd.read_csv(label_csv_zhenya, converters={1:ast.literal_eval})\n",
    "\n",
    "label_df.head()"
   ]
  },
  {
   "cell_type": "markdown",
   "metadata": {},
   "source": [
    "# Grab Chip List"
   ]
  },
  {
   "cell_type": "code",
   "execution_count": 4,
   "metadata": {},
   "outputs": [],
   "source": [
    "def s3_actions(bucket, in_path=None, out_path=None, copy_list=None, copy_dir=False, delete=False, stop_at=None, chip_list=False, chip_count=False):\n",
    "    s3 = boto3.resource('s3')\n",
    "    my_bucket = s3.Bucket(bucket)\n",
    "    objs = []\n",
    "    total_files = 0 \n",
    "    \n",
    "\n",
    "    \n",
    "    if copy_dir or delete or chip_list or chip_count:\n",
    "        for obj in my_bucket.objects.filter(Prefix=in_path):\n",
    "            total_files += 1 \n",
    "            objs.append(obj.key)\n",
    "            if total_files == stop_at:\n",
    "                break\n",
    "        \n",
    "    tot_objs = len(objs)\n",
    "        \n",
    "    if delete:\n",
    "        for index,obj in enumerate(objs,1):\n",
    "            print(f\"deleting {index} of {tot_objs}\", end='\\r', flush=True)\n",
    "            obj.delete()\n",
    "            \n",
    "    if chip_list:\n",
    "        return objs\n",
    "    \n",
    "    if chip_count:\n",
    "        return total_files\n",
    "    \n",
    "    if copy_list:\n",
    "        total_copy_list = len(copy_list)\n",
    "\n",
    "        for index,obj in enumerate(copy_list,1):\n",
    "            \n",
    "            print(f\"copying {index} of {total_copy_list}\", end='\\r', flush=True)\n",
    "            old_key = in_path + obj\n",
    "            new_key = out_path + obj\n",
    "            CopySource = {\n",
    "                'Bucket': bucket,\n",
    "                'Key':old_key}\n",
    "            my_bucket.copy(CopySource, new_key)"
   ]
  },
  {
   "cell_type": "code",
   "execution_count": 5,
   "metadata": {},
   "outputs": [],
   "source": [
    "bucket = 'canopy-production-ml'\n",
    "path = 'chips/cloudfree-merge-polygons/split/train/'\n",
    "\n",
    "train_chips = s3_actions(bucket,in_path=path,chip_list=True)"
   ]
  },
  {
   "cell_type": "code",
   "execution_count": 7,
   "metadata": {},
   "outputs": [],
   "source": [
    "path = 'chips/cloudfree-merge-polygons/split/val/'\n",
    "\n",
    "val_chips = s3_actions(bucket,in_path=path,chip_list=True)"
   ]
  },
  {
   "cell_type": "code",
   "execution_count": 8,
   "metadata": {},
   "outputs": [
    {
     "data": {
      "text/plain": [
       "6795"
      ]
     },
     "execution_count": 8,
     "metadata": {},
     "output_type": "execute_result"
    }
   ],
   "source": [
    "len(val_chips)"
   ]
  },
  {
   "cell_type": "markdown",
   "metadata": {},
   "source": [
    "## make dataframe of s3 filepaths"
   ]
  },
  {
   "cell_type": "code",
   "execution_count": 5,
   "metadata": {},
   "outputs": [
    {
     "name": "stdout",
     "output_type": "stream",
     "text": [
      "s3.Bucket(name='canopy-production-ml')\n"
     ]
    }
   ],
   "source": [
    "s3 = boto3.resource('s3')\n",
    "\n",
    "bucket_name = 'canopy-production-ml'\n",
    "\n",
    "pc_bucket = s3.Bucket(bucket_name)\n",
    "\n",
    "print(pc_bucket)"
   ]
  },
  {
   "cell_type": "code",
   "execution_count": 6,
   "metadata": {},
   "outputs": [],
   "source": [
    "train_chips = []\n",
    "\n",
    "val_chips = []\n",
    "\n",
    "train_uri = 'chips/cloudfree-merge-polygons/split/train/'\n",
    "\n",
    "val_uri = 'chips/cloudfree-merge-polygons/split/val/'\n",
    "\n",
    "for obj in pc_bucket.objects.all():\n",
    "    #if train_uri in obj.key:\n",
    "    #    train_chips.append(obj.key)\n",
    "    if val_uri in obj.key:\n",
    "        val_chips.append(obj.key)"
   ]
  },
  {
   "cell_type": "code",
   "execution_count": 7,
   "metadata": {},
   "outputs": [
    {
     "data": {
      "text/plain": [
       "6795"
      ]
     },
     "execution_count": 7,
     "metadata": {},
     "output_type": "execute_result"
    }
   ],
   "source": [
    "len(val_chips)"
   ]
  },
  {
   "cell_type": "code",
   "execution_count": 8,
   "metadata": {},
   "outputs": [
    {
     "data": {
      "text/plain": [
       "'chips/cloudfree-merge-polygons/split/val/1/1_1000_1000.tif'"
      ]
     },
     "execution_count": 8,
     "metadata": {},
     "output_type": "execute_result"
    }
   ],
   "source": [
    "val_chips[0]"
   ]
  },
  {
   "cell_type": "code",
   "execution_count": 12,
   "metadata": {},
   "outputs": [
    {
     "data": {
      "text/plain": [
       "(6795, 1)"
      ]
     },
     "execution_count": 12,
     "metadata": {},
     "output_type": "execute_result"
    }
   ],
   "source": [
    "df_val_s3 = pd.DataFrame(data={'s3_paths': val_chips})\n",
    "\n",
    "df_val_s3.shape"
   ]
  },
  {
   "cell_type": "code",
   "execution_count": 13,
   "metadata": {},
   "outputs": [
    {
     "data": {
      "text/plain": [
       "(27276, 1)"
      ]
     },
     "execution_count": 13,
     "metadata": {},
     "output_type": "execute_result"
    }
   ],
   "source": [
    "df_train_s3 = pd.DataFrame(data={'s3_paths': train_chips})\n",
    "\n",
    "df_train_s3.shape"
   ]
  },
  {
   "cell_type": "markdown",
   "metadata": {
    "heading_collapsed": "true"
   },
   "source": [
    "## merge dataframes"
   ]
  },
  {
   "cell_type": "code",
   "execution_count": 12,
   "metadata": {},
   "outputs": [
    {
     "data": {
      "text/html": [
       "<div>\n",
       "<style scoped>\n",
       "    .dataframe tbody tr th:only-of-type {\n",
       "        vertical-align: middle;\n",
       "    }\n",
       "\n",
       "    .dataframe tbody tr th {\n",
       "        vertical-align: top;\n",
       "    }\n",
       "\n",
       "    .dataframe thead th {\n",
       "        text-align: right;\n",
       "    }\n",
       "</style>\n",
       "<table border=\"1\" class=\"dataframe\">\n",
       "  <thead>\n",
       "    <tr style=\"text-align: right;\">\n",
       "      <th></th>\n",
       "      <th>col1</th>\n",
       "      <th>col2</th>\n",
       "      <th>col3</th>\n",
       "    </tr>\n",
       "  </thead>\n",
       "  <tbody>\n",
       "    <tr>\n",
       "      <th>0</th>\n",
       "      <td>1</td>\n",
       "      <td>4</td>\n",
       "      <td>10</td>\n",
       "    </tr>\n",
       "    <tr>\n",
       "      <th>1</th>\n",
       "      <td>2</td>\n",
       "      <td>5</td>\n",
       "      <td>8</td>\n",
       "    </tr>\n",
       "    <tr>\n",
       "      <th>2</th>\n",
       "      <td>3</td>\n",
       "      <td>6</td>\n",
       "      <td>9</td>\n",
       "    </tr>\n",
       "  </tbody>\n",
       "</table>\n",
       "</div>"
      ],
      "text/plain": [
       "   col1  col2  col3\n",
       "0     1     4    10\n",
       "1     2     5     8\n",
       "2     3     6     9"
      ]
     },
     "execution_count": 12,
     "metadata": {},
     "output_type": "execute_result"
    }
   ],
   "source": [
    "test_1 = pd.DataFrame(data={'col1': [1,2,3], 'col2': [4,5,6]})\n",
    "\n",
    "test_2 = pd.DataFrame(data={'col2': [5,6,4], 'col3': [8,9,10]})\n",
    "\n",
    "test_1.merge(test_2, on='col2')"
   ]
  },
  {
   "cell_type": "code",
   "execution_count": 13,
   "metadata": {},
   "outputs": [
    {
     "data": {
      "text/plain": [
       "'/Volumes/Lacie/zhenyadata/Project_Canopy_Data/PC_Data/Sentinel_Data/Chips/misha_polygons_cloudfreemerge/yes/ISL/100/59/59_800_2800.tif'"
      ]
     },
     "execution_count": 13,
     "metadata": {},
     "output_type": "execute_result"
    }
   ],
   "source": [
    "label_df.loc[0, 'filepaths']"
   ]
  },
  {
   "cell_type": "code",
   "execution_count": 14,
   "metadata": {},
   "outputs": [
    {
     "data": {
      "text/plain": [
       "'chips/cloudfree-merge-polygons/split/val/1/1_1000_1000.tif'"
      ]
     },
     "execution_count": 14,
     "metadata": {},
     "output_type": "execute_result"
    }
   ],
   "source": [
    "df_val_s3.loc[0, 's3_paths']"
   ]
  },
  {
   "cell_type": "code",
   "execution_count": 15,
   "metadata": {},
   "outputs": [],
   "source": [
    "def get_filename(path):\n",
    "    return path.split('/')[-1]\n",
    "\n",
    "label_df['filenames'] = label_df['filepaths'].apply(get_filename)\n",
    "df_val_s3['filenames'] = df_val_s3['s3_paths'].apply(get_filename)"
   ]
  },
  {
   "cell_type": "code",
   "execution_count": 16,
   "metadata": {},
   "outputs": [
    {
     "data": {
      "text/html": [
       "<div>\n",
       "<style scoped>\n",
       "    .dataframe tbody tr th:only-of-type {\n",
       "        vertical-align: middle;\n",
       "    }\n",
       "\n",
       "    .dataframe tbody tr th {\n",
       "        vertical-align: top;\n",
       "    }\n",
       "\n",
       "    .dataframe thead th {\n",
       "        text-align: right;\n",
       "    }\n",
       "</style>\n",
       "<table border=\"1\" class=\"dataframe\">\n",
       "  <thead>\n",
       "    <tr style=\"text-align: right;\">\n",
       "      <th></th>\n",
       "      <th>filepaths</th>\n",
       "      <th>labels</th>\n",
       "      <th>lengths</th>\n",
       "      <th>filenames</th>\n",
       "    </tr>\n",
       "  </thead>\n",
       "  <tbody>\n",
       "    <tr>\n",
       "      <th>0</th>\n",
       "      <td>/Volumes/Lacie/zhenyadata/Project_Canopy_Data/...</td>\n",
       "      <td>[ISL]</td>\n",
       "      <td>1</td>\n",
       "      <td>59_800_2800.tif</td>\n",
       "    </tr>\n",
       "    <tr>\n",
       "      <th>1</th>\n",
       "      <td>/Volumes/Lacie/zhenyadata/Project_Canopy_Data/...</td>\n",
       "      <td>[ISL]</td>\n",
       "      <td>1</td>\n",
       "      <td>59_900_2800.tif</td>\n",
       "    </tr>\n",
       "    <tr>\n",
       "      <th>2</th>\n",
       "      <td>/Volumes/Lacie/zhenyadata/Project_Canopy_Data/...</td>\n",
       "      <td>[ISL]</td>\n",
       "      <td>1</td>\n",
       "      <td>59_900_2900.tif</td>\n",
       "    </tr>\n",
       "    <tr>\n",
       "      <th>3</th>\n",
       "      <td>/Volumes/Lacie/zhenyadata/Project_Canopy_Data/...</td>\n",
       "      <td>[ISL]</td>\n",
       "      <td>1</td>\n",
       "      <td>59_1000_2900.tif</td>\n",
       "    </tr>\n",
       "    <tr>\n",
       "      <th>4</th>\n",
       "      <td>/Volumes/Lacie/zhenyadata/Project_Canopy_Data/...</td>\n",
       "      <td>[ISL]</td>\n",
       "      <td>1</td>\n",
       "      <td>59_1000_3000.tif</td>\n",
       "    </tr>\n",
       "  </tbody>\n",
       "</table>\n",
       "</div>"
      ],
      "text/plain": [
       "                                           filepaths labels  lengths  \\\n",
       "0  /Volumes/Lacie/zhenyadata/Project_Canopy_Data/...  [ISL]        1   \n",
       "1  /Volumes/Lacie/zhenyadata/Project_Canopy_Data/...  [ISL]        1   \n",
       "2  /Volumes/Lacie/zhenyadata/Project_Canopy_Data/...  [ISL]        1   \n",
       "3  /Volumes/Lacie/zhenyadata/Project_Canopy_Data/...  [ISL]        1   \n",
       "4  /Volumes/Lacie/zhenyadata/Project_Canopy_Data/...  [ISL]        1   \n",
       "\n",
       "          filenames  \n",
       "0   59_800_2800.tif  \n",
       "1   59_900_2800.tif  \n",
       "2   59_900_2900.tif  \n",
       "3  59_1000_2900.tif  \n",
       "4  59_1000_3000.tif  "
      ]
     },
     "execution_count": 16,
     "metadata": {},
     "output_type": "execute_result"
    }
   ],
   "source": [
    "label_df.head()"
   ]
  },
  {
   "cell_type": "code",
   "execution_count": 17,
   "metadata": {},
   "outputs": [
    {
     "data": {
      "text/html": [
       "<div>\n",
       "<style scoped>\n",
       "    .dataframe tbody tr th:only-of-type {\n",
       "        vertical-align: middle;\n",
       "    }\n",
       "\n",
       "    .dataframe tbody tr th {\n",
       "        vertical-align: top;\n",
       "    }\n",
       "\n",
       "    .dataframe thead th {\n",
       "        text-align: right;\n",
       "    }\n",
       "</style>\n",
       "<table border=\"1\" class=\"dataframe\">\n",
       "  <thead>\n",
       "    <tr style=\"text-align: right;\">\n",
       "      <th></th>\n",
       "      <th>s3_paths</th>\n",
       "      <th>filenames</th>\n",
       "    </tr>\n",
       "  </thead>\n",
       "  <tbody>\n",
       "    <tr>\n",
       "      <th>0</th>\n",
       "      <td>chips/cloudfree-merge-polygons/split/val/1/1_1...</td>\n",
       "      <td>1_1000_1000.tif</td>\n",
       "    </tr>\n",
       "    <tr>\n",
       "      <th>1</th>\n",
       "      <td>chips/cloudfree-merge-polygons/split/val/1/1_1...</td>\n",
       "      <td>1_1000_1100.tif</td>\n",
       "    </tr>\n",
       "    <tr>\n",
       "      <th>2</th>\n",
       "      <td>chips/cloudfree-merge-polygons/split/val/1/1_1...</td>\n",
       "      <td>1_1000_1200.tif</td>\n",
       "    </tr>\n",
       "    <tr>\n",
       "      <th>3</th>\n",
       "      <td>chips/cloudfree-merge-polygons/split/val/1/1_1...</td>\n",
       "      <td>1_1000_1300.tif</td>\n",
       "    </tr>\n",
       "    <tr>\n",
       "      <th>4</th>\n",
       "      <td>chips/cloudfree-merge-polygons/split/val/1/1_1...</td>\n",
       "      <td>1_1000_1400.tif</td>\n",
       "    </tr>\n",
       "  </tbody>\n",
       "</table>\n",
       "</div>"
      ],
      "text/plain": [
       "                                            s3_paths        filenames\n",
       "0  chips/cloudfree-merge-polygons/split/val/1/1_1...  1_1000_1000.tif\n",
       "1  chips/cloudfree-merge-polygons/split/val/1/1_1...  1_1000_1100.tif\n",
       "2  chips/cloudfree-merge-polygons/split/val/1/1_1...  1_1000_1200.tif\n",
       "3  chips/cloudfree-merge-polygons/split/val/1/1_1...  1_1000_1300.tif\n",
       "4  chips/cloudfree-merge-polygons/split/val/1/1_1...  1_1000_1400.tif"
      ]
     },
     "execution_count": 17,
     "metadata": {},
     "output_type": "execute_result"
    }
   ],
   "source": [
    "df_val_s3.head()"
   ]
  },
  {
   "cell_type": "code",
   "execution_count": 18,
   "metadata": {},
   "outputs": [
    {
     "data": {
      "text/html": [
       "<div>\n",
       "<style scoped>\n",
       "    .dataframe tbody tr th:only-of-type {\n",
       "        vertical-align: middle;\n",
       "    }\n",
       "\n",
       "    .dataframe tbody tr th {\n",
       "        vertical-align: top;\n",
       "    }\n",
       "\n",
       "    .dataframe thead th {\n",
       "        text-align: right;\n",
       "    }\n",
       "</style>\n",
       "<table border=\"1\" class=\"dataframe\">\n",
       "  <thead>\n",
       "    <tr style=\"text-align: right;\">\n",
       "      <th></th>\n",
       "      <th>s3_paths</th>\n",
       "      <th>filenames</th>\n",
       "      <th>filepaths</th>\n",
       "      <th>labels</th>\n",
       "      <th>lengths</th>\n",
       "    </tr>\n",
       "  </thead>\n",
       "  <tbody>\n",
       "    <tr>\n",
       "      <th>0</th>\n",
       "      <td>chips/cloudfree-merge-polygons/split/val/1/1_1...</td>\n",
       "      <td>1_1000_1000.tif</td>\n",
       "      <td>/Volumes/Lacie/zhenyadata/Project_Canopy_Data/...</td>\n",
       "      <td>[ISL, Rainforest]</td>\n",
       "      <td>2</td>\n",
       "    </tr>\n",
       "    <tr>\n",
       "      <th>1</th>\n",
       "      <td>chips/cloudfree-merge-polygons/split/val/1/1_1...</td>\n",
       "      <td>1_1000_1100.tif</td>\n",
       "      <td>/Volumes/Lacie/zhenyadata/Project_Canopy_Data/...</td>\n",
       "      <td>[Rainforest]</td>\n",
       "      <td>1</td>\n",
       "    </tr>\n",
       "    <tr>\n",
       "      <th>2</th>\n",
       "      <td>chips/cloudfree-merge-polygons/split/val/1/1_1...</td>\n",
       "      <td>1_1000_1200.tif</td>\n",
       "      <td>/Volumes/Lacie/zhenyadata/Project_Canopy_Data/...</td>\n",
       "      <td>[Rainforest]</td>\n",
       "      <td>1</td>\n",
       "    </tr>\n",
       "    <tr>\n",
       "      <th>3</th>\n",
       "      <td>chips/cloudfree-merge-polygons/split/val/1/1_1...</td>\n",
       "      <td>1_1000_1300.tif</td>\n",
       "      <td>/Volumes/Lacie/zhenyadata/Project_Canopy_Data/...</td>\n",
       "      <td>[Rainforest]</td>\n",
       "      <td>1</td>\n",
       "    </tr>\n",
       "    <tr>\n",
       "      <th>4</th>\n",
       "      <td>chips/cloudfree-merge-polygons/split/val/1/1_1...</td>\n",
       "      <td>1_1000_1400.tif</td>\n",
       "      <td>/Volumes/Lacie/zhenyadata/Project_Canopy_Data/...</td>\n",
       "      <td>[Rainforest]</td>\n",
       "      <td>1</td>\n",
       "    </tr>\n",
       "  </tbody>\n",
       "</table>\n",
       "</div>"
      ],
      "text/plain": [
       "                                            s3_paths        filenames  \\\n",
       "0  chips/cloudfree-merge-polygons/split/val/1/1_1...  1_1000_1000.tif   \n",
       "1  chips/cloudfree-merge-polygons/split/val/1/1_1...  1_1000_1100.tif   \n",
       "2  chips/cloudfree-merge-polygons/split/val/1/1_1...  1_1000_1200.tif   \n",
       "3  chips/cloudfree-merge-polygons/split/val/1/1_1...  1_1000_1300.tif   \n",
       "4  chips/cloudfree-merge-polygons/split/val/1/1_1...  1_1000_1400.tif   \n",
       "\n",
       "                                           filepaths             labels  \\\n",
       "0  /Volumes/Lacie/zhenyadata/Project_Canopy_Data/...  [ISL, Rainforest]   \n",
       "1  /Volumes/Lacie/zhenyadata/Project_Canopy_Data/...       [Rainforest]   \n",
       "2  /Volumes/Lacie/zhenyadata/Project_Canopy_Data/...       [Rainforest]   \n",
       "3  /Volumes/Lacie/zhenyadata/Project_Canopy_Data/...       [Rainforest]   \n",
       "4  /Volumes/Lacie/zhenyadata/Project_Canopy_Data/...       [Rainforest]   \n",
       "\n",
       "   lengths  \n",
       "0        2  \n",
       "1        1  \n",
       "2        1  \n",
       "3        1  \n",
       "4        1  "
      ]
     },
     "execution_count": 18,
     "metadata": {},
     "output_type": "execute_result"
    }
   ],
   "source": [
    "merge_df_val = df_val_s3.merge(label_df, on='filenames')\n",
    "\n",
    "merge_df_val.head()"
   ]
  },
  {
   "cell_type": "code",
   "execution_count": 19,
   "metadata": {},
   "outputs": [],
   "source": [
    "assert len(merge_df_val) == len(val_chips)"
   ]
  },
  {
   "cell_type": "code",
   "execution_count": 20,
   "metadata": {},
   "outputs": [
    {
     "data": {
      "text/plain": [
       "array([[0, 1, 0, ..., 0, 0, 0],\n",
       "       [0, 0, 0, ..., 0, 0, 0],\n",
       "       [0, 0, 0, ..., 0, 0, 0],\n",
       "       ...,\n",
       "       [0, 0, 0, ..., 0, 0, 1],\n",
       "       [0, 0, 0, ..., 0, 0, 1],\n",
       "       [0, 0, 0, ..., 0, 0, 1]])"
      ]
     },
     "execution_count": 20,
     "metadata": {},
     "output_type": "execute_result"
    }
   ],
   "source": [
    "from sklearn.preprocessing import MultiLabelBinarizer\n",
    "\n",
    "\n",
    "mlb = MultiLabelBinarizer()\n",
    "\n",
    "val_ohe = mlb.fit_transform(merge_df_val['labels'])\n",
    "\n",
    "val_ohe"
   ]
  },
  {
   "cell_type": "code",
   "execution_count": 22,
   "metadata": {},
   "outputs": [
    {
     "data": {
      "text/plain": [
       "array(['Habitation', 'ISL', 'Industrial_agriculture', 'Mining',\n",
       "       'Rainforest', 'River', 'Roads', 'Savannah', 'Shifting_cultivation',\n",
       "       'Water'], dtype=object)"
      ]
     },
     "execution_count": 22,
     "metadata": {},
     "output_type": "execute_result"
    }
   ],
   "source": [
    "mlb.classes_"
   ]
  },
  {
   "cell_type": "code",
   "execution_count": 21,
   "metadata": {},
   "outputs": [
    {
     "data": {
      "text/plain": [
       "array([0, 1, 0, 0, 1, 0, 0, 0, 0, 0])"
      ]
     },
     "execution_count": 21,
     "metadata": {},
     "output_type": "execute_result"
    }
   ],
   "source": [
    "list(val_ohe)[0]"
   ]
  },
  {
   "cell_type": "code",
   "execution_count": 23,
   "metadata": {},
   "outputs": [
    {
     "data": {
      "text/plain": [
       "6795"
      ]
     },
     "execution_count": 23,
     "metadata": {},
     "output_type": "execute_result"
    }
   ],
   "source": [
    "len(val_ohe)"
   ]
  },
  {
   "cell_type": "code",
   "execution_count": 26,
   "metadata": {},
   "outputs": [],
   "source": [
    "with open('val.lst', 'w') as lst:\n",
    "    for i in range(len(merge_df_val)):\n",
    "        lst.write(str(i) + '\\t')\n",
    "        for label in list(val_ohe)[i]:\n",
    "            lst.write(str(label) + '\\t')\n",
    "        lst.write(merge_df_val.loc[i, 's3_paths'])\n",
    "        lst.write('\\n')"
   ]
  },
  {
   "cell_type": "markdown",
   "metadata": {},
   "source": [
    "## the function"
   ]
  },
  {
   "cell_type": "code",
   "execution_count": 14,
   "metadata": {},
   "outputs": [
    {
     "data": {
      "text/html": [
       "<div>\n",
       "<style scoped>\n",
       "    .dataframe tbody tr th:only-of-type {\n",
       "        vertical-align: middle;\n",
       "    }\n",
       "\n",
       "    .dataframe tbody tr th {\n",
       "        vertical-align: top;\n",
       "    }\n",
       "\n",
       "    .dataframe thead th {\n",
       "        text-align: right;\n",
       "    }\n",
       "</style>\n",
       "<table border=\"1\" class=\"dataframe\">\n",
       "  <thead>\n",
       "    <tr style=\"text-align: right;\">\n",
       "      <th></th>\n",
       "      <th>filepaths</th>\n",
       "      <th>labels</th>\n",
       "    </tr>\n",
       "  </thead>\n",
       "  <tbody>\n",
       "    <tr>\n",
       "      <th>0</th>\n",
       "      <td>/Volumes/Lacie/zhenyadata/Project_Canopy_Data/...</td>\n",
       "      <td>[ISL]</td>\n",
       "    </tr>\n",
       "    <tr>\n",
       "      <th>1</th>\n",
       "      <td>/Volumes/Lacie/zhenyadata/Project_Canopy_Data/...</td>\n",
       "      <td>[ISL]</td>\n",
       "    </tr>\n",
       "    <tr>\n",
       "      <th>2</th>\n",
       "      <td>/Volumes/Lacie/zhenyadata/Project_Canopy_Data/...</td>\n",
       "      <td>[ISL]</td>\n",
       "    </tr>\n",
       "    <tr>\n",
       "      <th>3</th>\n",
       "      <td>/Volumes/Lacie/zhenyadata/Project_Canopy_Data/...</td>\n",
       "      <td>[ISL]</td>\n",
       "    </tr>\n",
       "    <tr>\n",
       "      <th>4</th>\n",
       "      <td>/Volumes/Lacie/zhenyadata/Project_Canopy_Data/...</td>\n",
       "      <td>[ISL]</td>\n",
       "    </tr>\n",
       "    <tr>\n",
       "      <th>...</th>\n",
       "      <td>...</td>\n",
       "      <td>...</td>\n",
       "    </tr>\n",
       "    <tr>\n",
       "      <th>41766</th>\n",
       "      <td>/Volumes/Lacie/zhenyadata/Project_Canopy_Data/...</td>\n",
       "      <td>[Industrial_agriculture]</td>\n",
       "    </tr>\n",
       "    <tr>\n",
       "      <th>41767</th>\n",
       "      <td>/Volumes/Lacie/zhenyadata/Project_Canopy_Data/...</td>\n",
       "      <td>[Industrial_agriculture]</td>\n",
       "    </tr>\n",
       "    <tr>\n",
       "      <th>41768</th>\n",
       "      <td>/Volumes/Lacie/zhenyadata/Project_Canopy_Data/...</td>\n",
       "      <td>[Industrial_agriculture]</td>\n",
       "    </tr>\n",
       "    <tr>\n",
       "      <th>41769</th>\n",
       "      <td>/Volumes/Lacie/zhenyadata/Project_Canopy_Data/...</td>\n",
       "      <td>[Industrial_agriculture]</td>\n",
       "    </tr>\n",
       "    <tr>\n",
       "      <th>41770</th>\n",
       "      <td>/Volumes/Lacie/zhenyadata/Project_Canopy_Data/...</td>\n",
       "      <td>[Industrial_agriculture]</td>\n",
       "    </tr>\n",
       "  </tbody>\n",
       "</table>\n",
       "<p>41771 rows × 2 columns</p>\n",
       "</div>"
      ],
      "text/plain": [
       "                                               filepaths  \\\n",
       "0      /Volumes/Lacie/zhenyadata/Project_Canopy_Data/...   \n",
       "1      /Volumes/Lacie/zhenyadata/Project_Canopy_Data/...   \n",
       "2      /Volumes/Lacie/zhenyadata/Project_Canopy_Data/...   \n",
       "3      /Volumes/Lacie/zhenyadata/Project_Canopy_Data/...   \n",
       "4      /Volumes/Lacie/zhenyadata/Project_Canopy_Data/...   \n",
       "...                                                  ...   \n",
       "41766  /Volumes/Lacie/zhenyadata/Project_Canopy_Data/...   \n",
       "41767  /Volumes/Lacie/zhenyadata/Project_Canopy_Data/...   \n",
       "41768  /Volumes/Lacie/zhenyadata/Project_Canopy_Data/...   \n",
       "41769  /Volumes/Lacie/zhenyadata/Project_Canopy_Data/...   \n",
       "41770  /Volumes/Lacie/zhenyadata/Project_Canopy_Data/...   \n",
       "\n",
       "                         labels  \n",
       "0                         [ISL]  \n",
       "1                         [ISL]  \n",
       "2                         [ISL]  \n",
       "3                         [ISL]  \n",
       "4                         [ISL]  \n",
       "...                         ...  \n",
       "41766  [Industrial_agriculture]  \n",
       "41767  [Industrial_agriculture]  \n",
       "41768  [Industrial_agriculture]  \n",
       "41769  [Industrial_agriculture]  \n",
       "41770  [Industrial_agriculture]  \n",
       "\n",
       "[41771 rows x 2 columns]"
      ]
     },
     "execution_count": 14,
     "metadata": {},
     "output_type": "execute_result"
    }
   ],
   "source": [
    "label_df"
   ]
  },
  {
   "cell_type": "code",
   "execution_count": 36,
   "metadata": {},
   "outputs": [],
   "source": [
    "from sklearn.preprocessing import MultiLabelBinarizer\n",
    "\n",
    "\n",
    "def make_lst_file(label_df, chips, lst_path):\n",
    "    s3_df = pd.DataFrame(data={'s3_paths': chips})\n",
    "    \n",
    "    def get_filename(path):\n",
    "        return path.split('/')[-1]\n",
    "\n",
    "    label_df['filenames'] = label_df['filepaths'].apply(get_filename)\n",
    "    s3_df['filenames'] = s3_df['s3_paths'].apply(get_filename)\n",
    "    \n",
    "    merge_df = s3_df.merge(label_df, on='filenames')\n",
    "    \n",
    "    mlb = MultiLabelBinarizer()\n",
    "    ohe = mlb.fit_transform(merge_df['labels'])\n",
    "\n",
    "    with open(lst_path, 'w') as lst:\n",
    "        for i in range(len(merge_df)):\n",
    "            lst.write(str(i) + '\\t')\n",
    "            for label in list(ohe)[i]:\n",
    "                lst.write(str(label) + '\\t')\n",
    "            lst.write(merge_df.loc[i, 's3_paths'])\n",
    "            lst.write('\\n')\n",
    "            \n",
    "    return mlb.classes_"
   ]
  },
  {
   "cell_type": "code",
   "execution_count": 37,
   "metadata": {},
   "outputs": [
    {
     "data": {
      "text/plain": [
       "array(['Habitation', 'ISL', 'Industrial_agriculture', 'Mining',\n",
       "       'Rainforest', 'River', 'Roads', 'Savannah', 'Shifting_cultivation',\n",
       "       'Water'], dtype=object)"
      ]
     },
     "execution_count": 37,
     "metadata": {},
     "output_type": "execute_result"
    }
   ],
   "source": [
    "make_lst_file(label_df, chips, 'train_1.lst')"
   ]
  },
  {
   "cell_type": "markdown",
   "metadata": {},
   "source": [
    "# Sandbox"
   ]
  },
  {
   "cell_type": "code",
   "execution_count": 35,
   "metadata": {},
   "outputs": [],
   "source": [
    "def reduce_dominant_class(label_df):\n",
    "    \n",
    "    return label_df[\"labels\"]"
   ]
  },
  {
   "cell_type": "code",
   "execution_count": 36,
   "metadata": {},
   "outputs": [
    {
     "data": {
      "text/plain": [
       "0                           [ISL]\n",
       "1                           [ISL]\n",
       "2                           [ISL]\n",
       "3                           [ISL]\n",
       "4                           [ISL]\n",
       "                   ...           \n",
       "41766    [Industrial_agriculture]\n",
       "41767    [Industrial_agriculture]\n",
       "41768    [Industrial_agriculture]\n",
       "41769    [Industrial_agriculture]\n",
       "41770    [Industrial_agriculture]\n",
       "Name: labels, Length: 41771, dtype: object"
      ]
     },
     "execution_count": 36,
     "metadata": {},
     "output_type": "execute_result"
    }
   ],
   "source": [
    "reduce_dominant_class(label_df)"
   ]
  },
  {
   "cell_type": "code",
   "execution_count": 40,
   "metadata": {},
   "outputs": [],
   "source": [
    "assert label_df[\"labels\"][0] == ['ISL']"
   ]
  },
  {
   "cell_type": "code",
   "execution_count": 46,
   "metadata": {},
   "outputs": [
    {
     "data": {
      "text/plain": [
       "0                           ['ISL']\n",
       "1                           ['ISL']\n",
       "2                           ['ISL']\n",
       "3                           ['ISL']\n",
       "4                           ['ISL']\n",
       "                    ...            \n",
       "41766    ['Industrial_agriculture']\n",
       "41767    ['Industrial_agriculture']\n",
       "41768    ['Industrial_agriculture']\n",
       "41769    ['Industrial_agriculture']\n",
       "41770    ['Industrial_agriculture']\n",
       "Name: labels, Length: 41771, dtype: object"
      ]
     },
     "execution_count": 46,
     "metadata": {},
     "output_type": "execute_result"
    }
   ],
   "source": [
    "label_df[\"labels\"].astype('str')"
   ]
  },
  {
   "cell_type": "code",
   "execution_count": 54,
   "metadata": {},
   "outputs": [],
   "source": [
    "# label_df[\"labels\"]\n",
    "\n",
    "label_df[\"labels_string\"] = label_df[\"labels\"].apply(lambda x : str(x))\n",
    "\n",
    "# label_df[\"labels\"].applymap(str)"
   ]
  },
  {
   "cell_type": "code",
   "execution_count": 96,
   "metadata": {},
   "outputs": [
    {
     "data": {
      "text/html": [
       "<div>\n",
       "<style scoped>\n",
       "    .dataframe tbody tr th:only-of-type {\n",
       "        vertical-align: middle;\n",
       "    }\n",
       "\n",
       "    .dataframe tbody tr th {\n",
       "        vertical-align: top;\n",
       "    }\n",
       "\n",
       "    .dataframe thead th {\n",
       "        text-align: right;\n",
       "    }\n",
       "</style>\n",
       "<table border=\"1\" class=\"dataframe\">\n",
       "  <thead>\n",
       "    <tr style=\"text-align: right;\">\n",
       "      <th></th>\n",
       "      <th>filepaths</th>\n",
       "      <th>labels</th>\n",
       "      <th>filenames</th>\n",
       "      <th>labels_string</th>\n",
       "    </tr>\n",
       "  </thead>\n",
       "  <tbody>\n",
       "    <tr>\n",
       "      <th>0</th>\n",
       "      <td>/Volumes/Lacie/zhenyadata/Project_Canopy_Data/...</td>\n",
       "      <td>[ISL]</td>\n",
       "      <td>59_800_2800.tif</td>\n",
       "      <td>['ISL']</td>\n",
       "    </tr>\n",
       "    <tr>\n",
       "      <th>1</th>\n",
       "      <td>/Volumes/Lacie/zhenyadata/Project_Canopy_Data/...</td>\n",
       "      <td>[ISL]</td>\n",
       "      <td>59_900_2800.tif</td>\n",
       "      <td>['ISL']</td>\n",
       "    </tr>\n",
       "    <tr>\n",
       "      <th>2</th>\n",
       "      <td>/Volumes/Lacie/zhenyadata/Project_Canopy_Data/...</td>\n",
       "      <td>[ISL]</td>\n",
       "      <td>59_900_2900.tif</td>\n",
       "      <td>['ISL']</td>\n",
       "    </tr>\n",
       "    <tr>\n",
       "      <th>3</th>\n",
       "      <td>/Volumes/Lacie/zhenyadata/Project_Canopy_Data/...</td>\n",
       "      <td>[ISL]</td>\n",
       "      <td>59_1000_2900.tif</td>\n",
       "      <td>['ISL']</td>\n",
       "    </tr>\n",
       "    <tr>\n",
       "      <th>4</th>\n",
       "      <td>/Volumes/Lacie/zhenyadata/Project_Canopy_Data/...</td>\n",
       "      <td>[ISL]</td>\n",
       "      <td>59_1000_3000.tif</td>\n",
       "      <td>['ISL']</td>\n",
       "    </tr>\n",
       "    <tr>\n",
       "      <th>...</th>\n",
       "      <td>...</td>\n",
       "      <td>...</td>\n",
       "      <td>...</td>\n",
       "      <td>...</td>\n",
       "    </tr>\n",
       "    <tr>\n",
       "      <th>41766</th>\n",
       "      <td>/Volumes/Lacie/zhenyadata/Project_Canopy_Data/...</td>\n",
       "      <td>[Industrial_agriculture]</td>\n",
       "      <td>49_2300_2800.tif</td>\n",
       "      <td>['Industrial_agriculture']</td>\n",
       "    </tr>\n",
       "    <tr>\n",
       "      <th>41767</th>\n",
       "      <td>/Volumes/Lacie/zhenyadata/Project_Canopy_Data/...</td>\n",
       "      <td>[Industrial_agriculture]</td>\n",
       "      <td>49_2300_2900.tif</td>\n",
       "      <td>['Industrial_agriculture']</td>\n",
       "    </tr>\n",
       "    <tr>\n",
       "      <th>41768</th>\n",
       "      <td>/Volumes/Lacie/zhenyadata/Project_Canopy_Data/...</td>\n",
       "      <td>[Industrial_agriculture]</td>\n",
       "      <td>49_2300_3000.tif</td>\n",
       "      <td>['Industrial_agriculture']</td>\n",
       "    </tr>\n",
       "    <tr>\n",
       "      <th>41769</th>\n",
       "      <td>/Volumes/Lacie/zhenyadata/Project_Canopy_Data/...</td>\n",
       "      <td>[Industrial_agriculture]</td>\n",
       "      <td>49_2400_2500.tif</td>\n",
       "      <td>['Industrial_agriculture']</td>\n",
       "    </tr>\n",
       "    <tr>\n",
       "      <th>41770</th>\n",
       "      <td>/Volumes/Lacie/zhenyadata/Project_Canopy_Data/...</td>\n",
       "      <td>[Industrial_agriculture]</td>\n",
       "      <td>49_2400_2900.tif</td>\n",
       "      <td>['Industrial_agriculture']</td>\n",
       "    </tr>\n",
       "  </tbody>\n",
       "</table>\n",
       "<p>41771 rows × 4 columns</p>\n",
       "</div>"
      ],
      "text/plain": [
       "                                               filepaths  \\\n",
       "0      /Volumes/Lacie/zhenyadata/Project_Canopy_Data/...   \n",
       "1      /Volumes/Lacie/zhenyadata/Project_Canopy_Data/...   \n",
       "2      /Volumes/Lacie/zhenyadata/Project_Canopy_Data/...   \n",
       "3      /Volumes/Lacie/zhenyadata/Project_Canopy_Data/...   \n",
       "4      /Volumes/Lacie/zhenyadata/Project_Canopy_Data/...   \n",
       "...                                                  ...   \n",
       "41766  /Volumes/Lacie/zhenyadata/Project_Canopy_Data/...   \n",
       "41767  /Volumes/Lacie/zhenyadata/Project_Canopy_Data/...   \n",
       "41768  /Volumes/Lacie/zhenyadata/Project_Canopy_Data/...   \n",
       "41769  /Volumes/Lacie/zhenyadata/Project_Canopy_Data/...   \n",
       "41770  /Volumes/Lacie/zhenyadata/Project_Canopy_Data/...   \n",
       "\n",
       "                         labels         filenames               labels_string  \n",
       "0                         [ISL]   59_800_2800.tif                     ['ISL']  \n",
       "1                         [ISL]   59_900_2800.tif                     ['ISL']  \n",
       "2                         [ISL]   59_900_2900.tif                     ['ISL']  \n",
       "3                         [ISL]  59_1000_2900.tif                     ['ISL']  \n",
       "4                         [ISL]  59_1000_3000.tif                     ['ISL']  \n",
       "...                         ...               ...                         ...  \n",
       "41766  [Industrial_agriculture]  49_2300_2800.tif  ['Industrial_agriculture']  \n",
       "41767  [Industrial_agriculture]  49_2300_2900.tif  ['Industrial_agriculture']  \n",
       "41768  [Industrial_agriculture]  49_2300_3000.tif  ['Industrial_agriculture']  \n",
       "41769  [Industrial_agriculture]  49_2400_2500.tif  ['Industrial_agriculture']  \n",
       "41770  [Industrial_agriculture]  49_2400_2900.tif  ['Industrial_agriculture']  \n",
       "\n",
       "[41771 rows x 4 columns]"
      ]
     },
     "execution_count": 96,
     "metadata": {},
     "output_type": "execute_result"
    }
   ],
   "source": [
    "label_df"
   ]
  },
  {
   "cell_type": "markdown",
   "metadata": {},
   "source": [
    "# Create Rainforest Subset DF"
   ]
  },
  {
   "cell_type": "code",
   "execution_count": 97,
   "metadata": {},
   "outputs": [],
   "source": [
    "label_df_no_rainforest = label_df[~label_df[\"labels_string\"].str.contains('Rainforest')]"
   ]
  },
  {
   "cell_type": "code",
   "execution_count": 79,
   "metadata": {},
   "outputs": [],
   "source": [
    "label_df_only_multi_rainforest = label_df[(label_df[\"labels_string\"].str.contains(\"['Rainforest']\")) & (label_df[\"labels_string\"] != \"['Rainforest']\")]"
   ]
  },
  {
   "cell_type": "code",
   "execution_count": 90,
   "metadata": {},
   "outputs": [],
   "source": [
    "df_only_multi_rainforest = label_df_only_multi_rainforest[label_df_only_multi_rainforest[\"labels_string\"].str.contains('Rainforest')]"
   ]
  },
  {
   "cell_type": "code",
   "execution_count": 91,
   "metadata": {},
   "outputs": [],
   "source": [
    "df_only_single_rainforest = label_df[label_df[\"labels_string\"] == \"['Rainforest']\"]"
   ]
  },
  {
   "cell_type": "code",
   "execution_count": 102,
   "metadata": {},
   "outputs": [],
   "source": [
    "df_only_single_rainforest_subset = df_only_single_rainforest.head(df_only_single_rainforest.shape[0] // 8)"
   ]
  },
  {
   "cell_type": "code",
   "execution_count": 105,
   "metadata": {},
   "outputs": [],
   "source": [
    "label_df_reduced_rainforest = pd.concat([label_df_no_rainforest, df_only_multi_rainforest,df_only_single_rainforest_subset])"
   ]
  },
  {
   "cell_type": "markdown",
   "metadata": {},
   "source": [
    "# Export Label File CSV"
   ]
  },
  {
   "cell_type": "code",
   "execution_count": 16,
   "metadata": {},
   "outputs": [],
   "source": [
    "from sklearn.preprocessing import MultiLabelBinarizer\n",
    "\n",
    "\n",
    "def export_path_label_csv(label_df, chips, filepath = 'labels_full_train_v1.csv' ):\n",
    "    s3_df = pd.DataFrame(data={'s3_paths': chips})\n",
    "    \n",
    "    def get_filename(path):\n",
    "        return path.split('/')[-1]\n",
    "\n",
    "    label_df['filenames'] = label_df['filepaths'].apply(get_filename)\n",
    "    s3_df['filenames'] = s3_df['s3_paths'].apply(get_filename)\n",
    "    \n",
    "    merge_df = s3_df.merge(label_df, on='filenames')\n",
    "    paths_df = merge_df[\"s3_paths\"] \n",
    "    \n",
    "    mlb = MultiLabelBinarizer()\n",
    "    ohe = mlb.fit_transform(merge_df['labels'])\n",
    "    \n",
    "    ohe_df = pd.DataFrame(ohe)\n",
    "    \n",
    "    ohe_df[\"paths\"] = paths_df\n",
    "    \n",
    "    ohe_df.to_csv(filepath,index=False)\n",
    "    \n",
    "    return ohe_df"
   ]
  },
  {
   "cell_type": "code",
   "execution_count": 19,
   "metadata": {},
   "outputs": [],
   "source": [
    "ohe_df = export_path_label_csv(label_df,val_chips,\"labels_full_val_v1.csv\")"
   ]
  },
  {
   "cell_type": "code",
   "execution_count": 20,
   "metadata": {},
   "outputs": [
    {
     "data": {
      "text/html": [
       "<div>\n",
       "<style scoped>\n",
       "    .dataframe tbody tr th:only-of-type {\n",
       "        vertical-align: middle;\n",
       "    }\n",
       "\n",
       "    .dataframe tbody tr th {\n",
       "        vertical-align: top;\n",
       "    }\n",
       "\n",
       "    .dataframe thead th {\n",
       "        text-align: right;\n",
       "    }\n",
       "</style>\n",
       "<table border=\"1\" class=\"dataframe\">\n",
       "  <thead>\n",
       "    <tr style=\"text-align: right;\">\n",
       "      <th></th>\n",
       "      <th>0</th>\n",
       "      <th>1</th>\n",
       "      <th>2</th>\n",
       "      <th>3</th>\n",
       "      <th>4</th>\n",
       "      <th>5</th>\n",
       "      <th>6</th>\n",
       "      <th>7</th>\n",
       "      <th>8</th>\n",
       "      <th>9</th>\n",
       "      <th>paths</th>\n",
       "    </tr>\n",
       "  </thead>\n",
       "  <tbody>\n",
       "    <tr>\n",
       "      <th>0</th>\n",
       "      <td>0</td>\n",
       "      <td>1</td>\n",
       "      <td>0</td>\n",
       "      <td>0</td>\n",
       "      <td>1</td>\n",
       "      <td>0</td>\n",
       "      <td>0</td>\n",
       "      <td>0</td>\n",
       "      <td>0</td>\n",
       "      <td>0</td>\n",
       "      <td>chips/cloudfree-merge-polygons/split/val/1/1_1...</td>\n",
       "    </tr>\n",
       "    <tr>\n",
       "      <th>1</th>\n",
       "      <td>0</td>\n",
       "      <td>0</td>\n",
       "      <td>0</td>\n",
       "      <td>0</td>\n",
       "      <td>1</td>\n",
       "      <td>0</td>\n",
       "      <td>0</td>\n",
       "      <td>0</td>\n",
       "      <td>0</td>\n",
       "      <td>0</td>\n",
       "      <td>chips/cloudfree-merge-polygons/split/val/1/1_1...</td>\n",
       "    </tr>\n",
       "    <tr>\n",
       "      <th>2</th>\n",
       "      <td>0</td>\n",
       "      <td>0</td>\n",
       "      <td>0</td>\n",
       "      <td>0</td>\n",
       "      <td>1</td>\n",
       "      <td>0</td>\n",
       "      <td>0</td>\n",
       "      <td>0</td>\n",
       "      <td>0</td>\n",
       "      <td>0</td>\n",
       "      <td>chips/cloudfree-merge-polygons/split/val/1/1_1...</td>\n",
       "    </tr>\n",
       "    <tr>\n",
       "      <th>3</th>\n",
       "      <td>0</td>\n",
       "      <td>0</td>\n",
       "      <td>0</td>\n",
       "      <td>0</td>\n",
       "      <td>1</td>\n",
       "      <td>0</td>\n",
       "      <td>0</td>\n",
       "      <td>0</td>\n",
       "      <td>0</td>\n",
       "      <td>0</td>\n",
       "      <td>chips/cloudfree-merge-polygons/split/val/1/1_1...</td>\n",
       "    </tr>\n",
       "    <tr>\n",
       "      <th>4</th>\n",
       "      <td>0</td>\n",
       "      <td>0</td>\n",
       "      <td>0</td>\n",
       "      <td>0</td>\n",
       "      <td>1</td>\n",
       "      <td>0</td>\n",
       "      <td>0</td>\n",
       "      <td>0</td>\n",
       "      <td>0</td>\n",
       "      <td>0</td>\n",
       "      <td>chips/cloudfree-merge-polygons/split/val/1/1_1...</td>\n",
       "    </tr>\n",
       "  </tbody>\n",
       "</table>\n",
       "</div>"
      ],
      "text/plain": [
       "   0  1  2  3  4  5  6  7  8  9  \\\n",
       "0  0  1  0  0  1  0  0  0  0  0   \n",
       "1  0  0  0  0  1  0  0  0  0  0   \n",
       "2  0  0  0  0  1  0  0  0  0  0   \n",
       "3  0  0  0  0  1  0  0  0  0  0   \n",
       "4  0  0  0  0  1  0  0  0  0  0   \n",
       "\n",
       "                                               paths  \n",
       "0  chips/cloudfree-merge-polygons/split/val/1/1_1...  \n",
       "1  chips/cloudfree-merge-polygons/split/val/1/1_1...  \n",
       "2  chips/cloudfree-merge-polygons/split/val/1/1_1...  \n",
       "3  chips/cloudfree-merge-polygons/split/val/1/1_1...  \n",
       "4  chips/cloudfree-merge-polygons/split/val/1/1_1...  "
      ]
     },
     "execution_count": 20,
     "metadata": {},
     "output_type": "execute_result"
    }
   ],
   "source": [
    "ohe_df.head()"
   ]
  },
  {
   "cell_type": "code",
   "execution_count": 74,
   "metadata": {},
   "outputs": [],
   "source": [
    "def s3_actions(bucket, in_path=None, out_path=None, copy_list=None, copy_dir=False, delete=False, stop_at=None, chip_list=False, chip_count=False):\n",
    "    s3 = boto3.resource('s3')\n",
    "    my_bucket = s3.Bucket(bucket)\n",
    "    objs = []\n",
    "    total_files = 0 \n",
    "    new_paths = []\n",
    "    \n",
    "\n",
    "    \n",
    "    if copy_dir or delete or chip_list or chip_count:\n",
    "        for obj in my_bucket.objects.filter(Prefix=in_path):\n",
    "            total_files += 1 \n",
    "            objs.append(obj.key)\n",
    "            if total_files == stop_at:\n",
    "                break\n",
    "        \n",
    "    tot_objs = len(objs)\n",
    "        \n",
    "    if delete:\n",
    "        for index,obj in enumerate(objs,1):\n",
    "            print(f\"deleting {index} of {tot_objs}\", end='\\r', flush=True)\n",
    "            obj.delete()\n",
    "            \n",
    "    if chip_list:\n",
    "        return objs\n",
    "    \n",
    "    if chip_count:\n",
    "        return total_files\n",
    "    \n",
    "    if copy_list:\n",
    "        total_copy_list = len(copy_list)\n",
    "\n",
    "        for index,obj in enumerate(copy_list,1):\n",
    "            \n",
    "            print(f\"copying {index} of {total_copy_list}\", end='\\r', flush=True)\n",
    "            old_key = obj\n",
    "            polygon_id = obj.split(\"/\")[-1].split(\"_\")[0]\n",
    "            filename = obj.split('/')[-1]\n",
    "            new_key = f'{out_path}{polygon_id}/{filename}'\n",
    "            new_paths.append(new_key)\n",
    "    return new_paths\n",
    "            \n",
    "#             CopySource = {\n",
    "#                 'Bucket': bucket,\n",
    "#                 'Key':old_key}\n",
    "#             my_bucket.copy(CopySource, new_key)\n",
    "            \n",
    "            \n",
    "            \n",
    "                        \n",
    "            \n",
    "            "
   ]
  },
  {
   "cell_type": "code",
   "execution_count": 75,
   "metadata": {},
   "outputs": [
    {
     "name": "stdout",
     "output_type": "stream",
     "text": [
      "copying 100 of 100\r"
     ]
    }
   ],
   "source": [
    "bucket = 'canopy-production-ml'\n",
    "in_path = 'chips/cloudfree-merge-polygons/split/train/'\n",
    "out_path = 'chips/cloudfree-merge-polygons/sandbox/train/'\n",
    "\n",
    "new_paths = s3_actions(bucket,in_path=in_path,out_path=out_path,copy_list=train_copy)"
   ]
  },
  {
   "cell_type": "code",
   "execution_count": 77,
   "metadata": {},
   "outputs": [
    {
     "data": {
      "text/plain": [
       "100"
      ]
     },
     "execution_count": 77,
     "metadata": {},
     "output_type": "execute_result"
    }
   ],
   "source": [
    "len(new_paths)"
   ]
  },
  {
   "cell_type": "code",
   "execution_count": 78,
   "metadata": {},
   "outputs": [],
   "source": [
    "df_labels_paths[\"paths\"] = new_paths"
   ]
  },
  {
   "cell_type": "code",
   "execution_count": 81,
   "metadata": {},
   "outputs": [],
   "source": [
    "df_labels_paths.to_csv(\"labels_test_v1.csv\",index=False)"
   ]
  },
  {
   "cell_type": "markdown",
   "metadata": {},
   "source": [
    "# Generate Class Weights"
   ]
  },
  {
   "cell_type": "code",
   "execution_count": 122,
   "metadata": {},
   "outputs": [],
   "source": [
    "labels = {}\n",
    "\n",
    "for l_l in label_df[\"labels\"]:\n",
    "    \n",
    "    for l in l_l:\n",
    "        \n",
    "        if l in labels.keys():\n",
    "            \n",
    "            labels[l] += 1\n",
    "            \n",
    "        else:\n",
    "            \n",
    "            labels[l] = 1\n",
    "    "
   ]
  },
  {
   "cell_type": "code",
   "execution_count": 129,
   "metadata": {},
   "outputs": [
    {
     "data": {
      "text/plain": [
       "{'ISL': 6963,\n",
       " 'Rainforest': 25687,\n",
       " 'Roads': 1476,\n",
       " 'Shifting_cultivation': 3900,\n",
       " 'Savannah': 4136,\n",
       " 'River': 2626,\n",
       " 'Habitation': 808,\n",
       " 'Mining': 219,\n",
       " 'Industrial_agriculture': 1462,\n",
       " 'Water': 1851}"
      ]
     },
     "execution_count": 129,
     "metadata": {},
     "output_type": "execute_result"
    }
   ],
   "source": [
    "labels"
   ]
  },
  {
   "cell_type": "code",
   "execution_count": 132,
   "metadata": {},
   "outputs": [],
   "source": [
    "labels_sum = sum(labels.values())\n",
    "keys_len = len(labels.keys())"
   ]
  },
  {
   "cell_type": "code",
   "execution_count": 137,
   "metadata": {},
   "outputs": [],
   "source": [
    "# (1 / labels[\"ISL\"]) * (labels_sum)/keys_len\n",
    "\n",
    "class_weight = {}\n",
    "\n",
    "for label_name in labels.keys():\n",
    "    class_weight[label_name] = (1 / labels[label_name]) * (labels_sum)/keys_len\n",
    "    "
   ]
  },
  {
   "cell_type": "code",
   "execution_count": 138,
   "metadata": {},
   "outputs": [
    {
     "data": {
      "text/plain": [
       "{'ISL': 0.7055579491598449,\n",
       " 'Rainforest': 0.19125627749445245,\n",
       " 'Roads': 3.3284552845528452,\n",
       " 'Shifting_cultivation': 1.2596923076923077,\n",
       " 'Savannah': 1.1878143133462282,\n",
       " 'River': 1.8708301599390709,\n",
       " 'Habitation': 6.080198019801981,\n",
       " 'Mining': 22.432876712328767,\n",
       " 'Industrial_agriculture': 3.360328317373461,\n",
       " 'Water': 2.654132901134522}"
      ]
     },
     "execution_count": 138,
     "metadata": {},
     "output_type": "execute_result"
    }
   ],
   "source": [
    "class_weight"
   ]
  },
  {
   "cell_type": "code",
   "execution_count": 4,
   "metadata": {},
   "outputs": [],
   "source": [
    "def generate_class_weight(csv_loc,labels_loc):\n",
    "    \n",
    "    df = pd.read_csv(csv_loc)\n",
    "    \n",
    "    with open(labels_loc) as jsonfile:\n",
    "        data = json.load(jsonfile)\n",
    "    \n",
    "    num_labels = len(data['label_names'].keys())\n",
    "    \n",
    "    labels = {}\n",
    "    \n",
    "    for column in df.columns[0:num_labels]:\n",
    "        col_count = df[column].value_counts()[1]\n",
    "        labels[column] = col_count\n",
    "\n",
    "    labels_sum = sum(labels.values())\n",
    "    keys_len = len(labels.keys())\n",
    "\n",
    "    class_weight = {}\n",
    "\n",
    "    for label_name in labels.keys():\n",
    "        class_weight[label_name] = (1 / labels[label_name]) * (labels_sum)/keys_len\n",
    "\n",
    "    return class_weight\n",
    "    \n",
    "    "
   ]
  },
  {
   "cell_type": "code",
   "execution_count": 5,
   "metadata": {},
   "outputs": [
    {
     "data": {
      "text/plain": [
       "{'0': 4.8802488335925345,\n",
       " '1': 0.8312582781456953,\n",
       " '2': 2.7406113537117904,\n",
       " '3': 21.944055944055943,\n",
       " '4': 0.19916222391469918,\n",
       " '5': 1.8869512928442576,\n",
       " '6': 3.5821917808219177,\n",
       " '7': 1.0633683497119621,\n",
       " '8': 1.0302035456336178,\n",
       " '9': 2.2706222865412444}"
      ]
     },
     "execution_count": 5,
     "metadata": {},
     "output_type": "execute_result"
    }
   ],
   "source": [
    "generate_class_weight('labels_full_train_v1.csv','labels.json')"
   ]
  },
  {
   "cell_type": "code",
   "execution_count": 275,
   "metadata": {},
   "outputs": [
    {
     "data": {
      "text/plain": [
       "{'label_names': {'1': 'Habitation',\n",
       "  '2': 'ISL',\n",
       "  '3': 'Industrial_agriculture',\n",
       "  '4': 'Mining',\n",
       "  '5': 'Rainforest',\n",
       "  '6': 'River',\n",
       "  '7': 'Roads',\n",
       "  '8': 'Savannah',\n",
       "  '9': 'Shifting_cultivation',\n",
       "  '10': 'Water'}}"
      ]
     },
     "execution_count": 275,
     "metadata": {},
     "output_type": "execute_result"
    }
   ],
   "source": [
    "data"
   ]
  },
  {
   "cell_type": "code",
   "execution_count": 264,
   "metadata": {},
   "outputs": [
    {
     "name": "stdout",
     "output_type": "stream",
     "text": [
      "643\n",
      "3775\n",
      "1145\n",
      "143\n",
      "15756\n",
      "1663\n",
      "876\n",
      "2951\n",
      "3046\n",
      "1382\n"
     ]
    }
   ],
   "source": [
    "# column_rename\n",
    "\n",
    "for column in df.columns[0:len(column_rename.keys())]:\n",
    "    print(df[column].value_counts()[1])"
   ]
  },
  {
   "cell_type": "code",
   "execution_count": null,
   "metadata": {},
   "outputs": [],
   "source": []
  }
 ],
 "metadata": {
  "kernelspec": {
   "display_name": "labelling-2",
   "language": "python",
   "name": "labelling-2"
  },
  "language_info": {
   "codemirror_mode": {
    "name": "ipython",
    "version": 3
   },
   "file_extension": ".py",
   "mimetype": "text/x-python",
   "name": "python",
   "nbconvert_exporter": "python",
   "pygments_lexer": "ipython3",
   "version": "3.8.5"
  }
 },
 "nbformat": 4,
 "nbformat_minor": 4
}
