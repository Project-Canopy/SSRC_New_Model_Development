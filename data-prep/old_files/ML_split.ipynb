{
 "cells": [
  {
   "cell_type": "code",
   "execution_count": 1,
   "metadata": {},
   "outputs": [],
   "source": [
    "from shapely.geometry import LineString\n",
    "from shapely.geometry import Polygon\n",
    "from shapely.geometry import shape, GeometryCollection\n",
    "from shapely.ops import transform \n",
    "from geopandas import GeoDataFrame\n",
    "import geopandas as gpd\n",
    "import json\n",
    "import pyproj\n",
    "from functools import partial\n",
    "\n",
    "import warnings\n",
    "\n",
    "warnings.filterwarnings('ignore')"
   ]
  },
  {
   "cell_type": "code",
   "execution_count": 2,
   "metadata": {},
   "outputs": [],
   "source": [
    "def add_trailing_slash(path):\n",
    "    if path[-1] != '/':\n",
    "        path += '/'\n",
    "    return path\n",
    "\n",
    "\n",
    "def create_dir(output_dir):\n",
    "    # If the output folder doesn't exist, create it\n",
    "    if not os.path.isdir(output_dir):\n",
    "        os.mkdir(output_dir)\n",
    "\n",
    "        \n",
    "def poly_area(geom):        \n",
    "    geom_area = transform(\n",
    "    partial(\n",
    "        pyproj.transform,\n",
    "        pyproj.Proj(init='EPSG:4326'),\n",
    "        pyproj.Proj(\n",
    "            proj='aea',\n",
    "            lat_1=geom.bounds[1],\n",
    "            lat_2=geom.bounds[3])),\n",
    "    geom)\n",
    "    \n",
    "    return geom_area.area / 1000000"
   ]
  },
  {
   "cell_type": "code",
   "execution_count": 70,
   "metadata": {},
   "outputs": [
    {
     "data": {
      "text/plain": [
       "206.47482676728058"
      ]
     },
     "execution_count": 70,
     "metadata": {},
     "output_type": "execute_result"
    }
   ],
   "source": [
    "poly_area(p[0])"
   ]
  },
  {
   "cell_type": "code",
   "execution_count": 232,
   "metadata": {},
   "outputs": [],
   "source": [
    "def train_test_split(regions_loc,polygons_loc):\n",
    "    \n",
    "    with open(regions_loc) as r, open(polygons_loc) as p:\n",
    "        \n",
    "        pol_groups = {}\n",
    "        \n",
    "        regions = json.load(r)[\"features\"]\n",
    "        polygons = json.load(p)[\"features\"]\n",
    "        \n",
    "        r_col = GeometryCollection([shape(feature[\"geometry\"]).buffer(0) for feature in regions])\n",
    "        p_col = GeometryCollection([shape(feature[\"geometry\"]).buffer(0) for feature in polygons])\n",
    "        \n",
    "        poly_list = []\n",
    "        \n",
    "        for i,poly_1 in enumerate(r_col,1):\n",
    "            \n",
    "            \n",
    "            for j, poly_2 in enumerate(p_col,1):\n",
    "                \n",
    "                \n",
    "                if poly_2 not in poly_list:\n",
    "                    \n",
    "\n",
    "                    if poly_1.intersects(poly_2):\n",
    "                        \n",
    "                        poly_list.append(poly_2)\n",
    "                        \n",
    "\n",
    "                        if i in list(pol_groups.keys()):\n",
    "\n",
    "                            pol_groups[i].append({j:poly_area(poly_2)})\n",
    "\n",
    "\n",
    "                        else:\n",
    "\n",
    "                            pol_groups[i] = [{j:poly_area(poly_2)}]\n",
    "                        \n",
    "    \n",
    "        return pol_groups\n",
    "    \n",
    "    \n",
    "    \n",
    "    \n",
    "    \n",
    "regions_loc = \"/Volumes/Lacie/zhenyadata/Project_Canopy_Data/PC_Data/Geometry/custom_congo_basin_regions/congo_basin_custom_regions.geojson\"\n",
    "polygons_loc = \"/Volumes/Lacie/zhenyadata/Project_Canopy_Data/PC_Data/Geometry/labelled_boxes/v3/labels.geojson\"\n",
    "\n",
    "pol_groups = train_test_split(regions_loc,polygons_loc)\n"
   ]
  },
  {
   "cell_type": "code",
   "execution_count": 233,
   "metadata": {},
   "outputs": [
    {
     "data": {
      "text/plain": [
       "{1: [{1: 206.47482676728058},\n",
       "  {2: 88.97169557433214},\n",
       "  {6: 130.2101420622314},\n",
       "  {12: 891.1834990635282}],\n",
       " 2: [{70: 124.44686326273228},\n",
       "  {72: 410.69131316719375},\n",
       "  {74: 1196.9796451542381}],\n",
       " 5: [{3: 28.334586252297168},\n",
       "  {4: 7.528261189037973},\n",
       "  {5: 168.64926917058818},\n",
       "  {7: 879.7143196442063},\n",
       "  {9: 367.81642026806276},\n",
       "  {10: 718.983272562892},\n",
       "  {11: 15.311577736438252},\n",
       "  {13: 139.79630502818733},\n",
       "  {14: 305.7903730397029},\n",
       "  {19: 467.73004857890083},\n",
       "  {20: 296.10011320313174},\n",
       "  {21: 332.3091624014897},\n",
       "  {26: 105.51083288864231},\n",
       "  {28: 800.3803582166872}],\n",
       " 6: [{27: 252.49973320471142},\n",
       "  {30: 190.77524205140537},\n",
       "  {31: 398.31553560429444},\n",
       "  {32: 489.65345272545363},\n",
       "  {33: 206.56955336080165},\n",
       "  {34: 24.86065064172461},\n",
       "  {35: 88.02860489336733},\n",
       "  {37: 160.2565547825048},\n",
       "  {41: 93.7460926236144},\n",
       "  {43: 44.92247032955615},\n",
       "  {46: 58.803620931797134},\n",
       "  {47: 68.83435923622781},\n",
       "  {53: 216.7509238285581},\n",
       "  {58: 299.4020515949391},\n",
       "  {61: 5.167511936313324},\n",
       "  {63: 19.001447861512826},\n",
       "  {64: 359.83476895971404},\n",
       "  {69: 137.20198307398468},\n",
       "  {76: 143.7967913618896},\n",
       "  {77: 230.3811087461584},\n",
       "  {84: 202.21301186388075},\n",
       "  {86: 253.55179814752356}],\n",
       " 9: [{8: 32.08048426237463},\n",
       "  {15: 656.9380208728572},\n",
       "  {16: 181.40216330901617},\n",
       "  {17: 405.47495422528186},\n",
       "  {18: 972.4198668407763},\n",
       "  {22: 725.4252729324431},\n",
       "  {23: 336.8047536091503},\n",
       "  {24: 85.19314561204172},\n",
       "  {25: 482.6471541216287}],\n",
       " 10: [{29: 570.8087725897017},\n",
       "  {36: 324.63171026956843},\n",
       "  {38: 120.9757228860824},\n",
       "  {39: 702.3349995987478},\n",
       "  {40: 136.11548850597254},\n",
       "  {42: 190.68822560110505},\n",
       "  {44: 615.6293798263936},\n",
       "  {45: 91.15523156011962},\n",
       "  {48: 605.4274455324673},\n",
       "  {55: 1103.3599233910168},\n",
       "  {59: 609.6137597803602},\n",
       "  {66: 670.3429229649414},\n",
       "  {68: 447.28791059879677},\n",
       "  {71: 38.273082009272116},\n",
       "  {75: 1758.175114575357},\n",
       "  {78: 1806.72978941437},\n",
       "  {83: 213.70101863209158},\n",
       "  {85: 1521.736544506354},\n",
       "  {87: 18.424281417272987},\n",
       "  {88: 205.1837342687875},\n",
       "  {89: 1216.72447644862}],\n",
       " 11: [{96: 1.2609733087995871}, {97: 2.061771621415022}],\n",
       " 14: [{49: 605.986003571921},\n",
       "  {50: 311.91966332874745},\n",
       "  {51: 61.48516078721346},\n",
       "  {52: 480.9295850375944},\n",
       "  {54: 31.279601657907396},\n",
       "  {56: 179.57058503050112},\n",
       "  {57: 320.90691982706005},\n",
       "  {60: 2245.8385956679954},\n",
       "  {80: 153.65482939629106},\n",
       "  {81: 5763.051469027403},\n",
       "  {82: 361.6562020279588}],\n",
       " 15: [{90: 20.71132055729121},\n",
       "  {91: 276.575748201625},\n",
       "  {92: 1537.3819807226973},\n",
       "  {93: 71.36128975583628},\n",
       "  {94: 12.605028659370968},\n",
       "  {95: 2.445762862034009},\n",
       "  {98: 8.32212514674699},\n",
       "  {99: 141.88250369765882},\n",
       "  {100: 118.61885129373377},\n",
       "  {101: 897.3178098559405}],\n",
       " 18: [{62: 86.30629973495643},\n",
       "  {65: 132.86494900738242},\n",
       "  {67: 1497.4390826052768},\n",
       "  {73: 11.644006961715101}],\n",
       " 22: [{79: 199.98132162233372}]}"
      ]
     },
     "execution_count": 233,
     "metadata": {},
     "output_type": "execute_result"
    }
   ],
   "source": [
    "pol_groups"
   ]
  },
  {
   "cell_type": "code",
   "execution_count": 199,
   "metadata": {
    "jupyter": {
     "source_hidden": true
    }
   },
   "outputs": [],
   "source": [
    "# train_test = {\"train\":[],\"test\":[]}\n",
    "\n",
    "# for r_id in pol_groups.keys():\n",
    "    \n",
    "#     print(\"region:\",r_id)\n",
    "    \n",
    "#     vals_1 = []\n",
    "\n",
    "#     for p_list in pol_groups[r_id]:\n",
    "        \n",
    "#         vals_1.append(list(p_list.values())[0])\n",
    "        \n",
    "#     sum_vals = sum(vals_1)\n",
    "    \n",
    "#     r_thresh = sum_vals * .8\n",
    "    \n",
    "#     vals_2 = []\n",
    "    \n",
    "#     for p_list in pol_groups[r_id]:\n",
    "        \n",
    "#         vals_2.append(list(p_list.values())[0])\n",
    "        \n",
    "#     vals_2.sort()\n",
    "    \n",
    "#     temp_sum = 0 \n",
    "    \n",
    "#     for (p_list,val) in zip(pol_groups[r_id],vals_2):\n",
    "        \n",
    "#         print(p_list)\n",
    "        \n",
    "# #         print(list(p_list.keys())[0],val)\n",
    "        \n",
    "#         temp_sum += val\n",
    "        \n",
    "#         if temp_sum < r_thresh:\n",
    "            \n",
    "#             train_test[\"train\"].append(list(p_list.keys())[0]) \n",
    "            \n",
    "#         else:\n",
    "            \n",
    "#             train_test[\"test\"].append(list(p_list.keys())[0]) \n",
    "            \n",
    "        \n",
    "        \n",
    "    "
   ]
  },
  {
   "cell_type": "code",
   "execution_count": 212,
   "metadata": {},
   "outputs": [
    {
     "data": {
      "text/plain": [
       "{1: [{1: 206.47482676728058},\n",
       "  {2: 88.97169557433214},\n",
       "  {6: 130.2101420622314},\n",
       "  {12: 891.1834990635282}]}"
      ]
     },
     "execution_count": 212,
     "metadata": {},
     "output_type": "execute_result"
    }
   ],
   "source": [
    "pol_groups"
   ]
  },
  {
   "cell_type": "code",
   "execution_count": 237,
   "metadata": {},
   "outputs": [],
   "source": [
    "train_test = {\"train\":[],\"test\":[]}\n",
    "\n",
    "counter = 0 \n",
    "\n",
    "for r_id in pol_groups.keys():\n",
    "    \n",
    "    vals_1 = []\n",
    "\n",
    "    for p_list in pol_groups[r_id]:\n",
    "        \n",
    "        vals_1.append(list(p_list.values())[0])\n",
    "        \n",
    "    sum_vals = sum(vals_1)\n",
    "    \n",
    "    r_thresh = sum_vals * .8\n",
    "\n",
    "    pol_groups_sorted = sorted(pol_groups[r_id],key=lambda i:list(i.values())[0])\n",
    "    \n",
    "    temp_sum = 0 \n",
    "    \n",
    "    \n",
    "    for p_list in pol_groups_sorted:\n",
    "        \n",
    "        counter += 1 \n",
    "        \n",
    "        temp_sum += list(p_list.values())[0]\n",
    "        \n",
    "        if temp_sum < r_thresh:\n",
    "            \n",
    "            train_test[\"train\"].append(list(p_list.keys())[0]) \n",
    "            \n",
    "        else:\n",
    "            \n",
    "            train_test[\"test\"].append(list(p_list.keys())[0]) \n",
    "                "
   ]
  },
  {
   "cell_type": "code",
   "execution_count": 236,
   "metadata": {},
   "outputs": [
    {
     "data": {
      "text/plain": [
       "101"
      ]
     },
     "execution_count": 236,
     "metadata": {},
     "output_type": "execute_result"
    }
   ],
   "source": [
    "counter"
   ]
  },
  {
   "cell_type": "code",
   "execution_count": null,
   "metadata": {},
   "outputs": [],
   "source": []
  },
  {
   "cell_type": "code",
   "execution_count": 238,
   "metadata": {},
   "outputs": [
    {
     "data": {
      "text/plain": [
       "101"
      ]
     },
     "execution_count": 238,
     "metadata": {},
     "output_type": "execute_result"
    }
   ],
   "source": [
    "len(train_test['train']) + len(train_test['test']) "
   ]
  },
  {
   "cell_type": "code",
   "execution_count": 140,
   "metadata": {},
   "outputs": [],
   "source": [
    "pols = []\n",
    "for k,v in pol_groups.items():  \n",
    "    for p in v:\n",
    "        pols.append(p)"
   ]
  },
  {
   "cell_type": "code",
   "execution_count": 153,
   "metadata": {
    "collapsed": true,
    "jupyter": {
     "outputs_hidden": true
    }
   },
   "outputs": [
    {
     "name": "stdout",
     "output_type": "stream",
     "text": [
      "{1: 206.47482676728058}\n",
      "{2: 88.97169557433214}\n",
      "{6: 130.2101420622314}\n",
      "{12: 891.1834990635282}\n",
      "{70: 124.44686326273228}\n",
      "{72: 410.69131316719375}\n",
      "{74: 1196.9796451542381}\n",
      "{3: 28.334586252297168}\n",
      "{4: 7.528261189037973}\n",
      "{5: 168.64926917058818}\n",
      "{7: 879.7143196442063}\n",
      "{9: 367.81642026806276}\n",
      "{10: 718.983272562892}\n",
      "{11: 15.311577736438252}\n",
      "{13: 139.79630502818733}\n",
      "{14: 305.7903730397029}\n",
      "{19: 467.73004857890083}\n",
      "{20: 296.10011320313174}\n",
      "{21: 332.3091624014897}\n",
      "{26: 105.51083288864231}\n",
      "{28: 800.3803582166872}\n",
      "{26: 105.51083288864231}\n",
      "{27: 252.49973320471142}\n",
      "{28: 800.3803582166872}\n",
      "{30: 190.77524205140537}\n",
      "{31: 398.31553560429444}\n",
      "{32: 489.65345272545363}\n",
      "{33: 206.56955336080165}\n",
      "{34: 24.86065064172461}\n",
      "{35: 88.02860489336733}\n",
      "{37: 160.2565547825048}\n",
      "{41: 93.7460926236144}\n",
      "{43: 44.92247032955615}\n",
      "{46: 58.803620931797134}\n",
      "{47: 68.83435923622781}\n",
      "{53: 216.7509238285581}\n",
      "{58: 299.4020515949391}\n",
      "{61: 5.167511936313324}\n",
      "{63: 19.001447861512826}\n",
      "{64: 359.83476895971404}\n",
      "{69: 137.20198307398468}\n",
      "{76: 143.7967913618896}\n",
      "{77: 230.3811087461584}\n",
      "{84: 202.21301186388075}\n",
      "{86: 253.55179814752356}\n",
      "{8: 32.08048426237463}\n",
      "{15: 656.9380208728572}\n",
      "{16: 181.40216330901617}\n",
      "{17: 405.47495422528186}\n",
      "{18: 972.4198668407763}\n",
      "{22: 725.4252729324431}\n",
      "{23: 336.8047536091503}\n",
      "{24: 85.19314561204172}\n",
      "{25: 482.6471541216287}\n",
      "{22: 725.4252729324431}\n",
      "{23: 336.8047536091503}\n",
      "{25: 482.6471541216287}\n",
      "{29: 570.8087725897017}\n",
      "{32: 489.65345272545363}\n",
      "{36: 324.63171026956843}\n",
      "{38: 120.9757228860824}\n",
      "{39: 702.3349995987478}\n",
      "{40: 136.11548850597254}\n",
      "{42: 190.68822560110505}\n",
      "{44: 615.6293798263936}\n",
      "{45: 91.15523156011962}\n",
      "{48: 605.4274455324673}\n",
      "{55: 1103.3599233910168}\n",
      "{59: 609.6137597803602}\n",
      "{66: 670.3429229649414}\n",
      "{68: 447.28791059879677}\n",
      "{71: 38.273082009272116}\n",
      "{75: 1758.175114575357}\n",
      "{78: 1806.72978941437}\n",
      "{83: 213.70101863209158}\n",
      "{85: 1521.736544506354}\n",
      "{87: 18.424281417272987}\n",
      "{88: 205.1837342687875}\n",
      "{89: 1216.72447644862}\n",
      "{85: 1521.736544506354}\n",
      "{88: 205.1837342687875}\n",
      "{89: 1216.72447644862}\n",
      "{96: 1.2609733087995871}\n",
      "{97: 2.061771621415022}\n",
      "{22: 725.4252729324431}\n",
      "{22: 725.4252729324431}\n",
      "{49: 605.986003571921}\n",
      "{50: 311.91966332874745}\n",
      "{51: 61.48516078721346}\n",
      "{52: 480.9295850375944}\n",
      "{54: 31.279601657907396}\n",
      "{56: 179.57058503050112}\n",
      "{57: 320.90691982706005}\n",
      "{60: 2245.8385956679954}\n",
      "{80: 153.65482939629106}\n",
      "{81: 5763.051469027403}\n",
      "{82: 361.6562020279588}\n",
      "{90: 20.71132055729121}\n",
      "{91: 276.575748201625}\n",
      "{92: 1537.3819807226973}\n",
      "{93: 71.36128975583628}\n",
      "{94: 12.605028659370968}\n",
      "{95: 2.445762862034009}\n",
      "{97: 2.061771621415022}\n",
      "{98: 8.32212514674699}\n",
      "{99: 141.88250369765882}\n",
      "{100: 118.61885129373377}\n",
      "{101: 897.3178098559405}\n",
      "{62: 86.30629973495643}\n",
      "{65: 132.86494900738242}\n",
      "{67: 1497.4390826052768}\n",
      "{73: 11.644006961715101}\n",
      "{79: 199.98132162233372}\n"
     ]
    }
   ],
   "source": [
    "for i in pols:\n",
    "    print(i)"
   ]
  },
  {
   "cell_type": "code",
   "execution_count": 239,
   "metadata": {},
   "outputs": [],
   "source": [
    "tot_train = 0\n",
    "tot_test = 0\n",
    "for pol_id in train_test[\"train\"]:\n",
    "    for pol_dict in pols:\n",
    "        if pol_id in pol_dict.keys():\n",
    "            tot_train += pol_dict[pol_id]\n",
    "\n",
    "for pol_id in train_test[\"test\"]:\n",
    "    for pol_dict in pols:\n",
    "        if pol_id in pol_dict.keys():\n",
    "            tot_test += pol_dict[pol_id]"
   ]
  },
  {
   "cell_type": "code",
   "execution_count": 240,
   "metadata": {},
   "outputs": [
    {
     "data": {
      "text/plain": [
       "31859.66105193259"
      ]
     },
     "execution_count": 240,
     "metadata": {},
     "output_type": "execute_result"
    }
   ],
   "source": [
    "tot_train"
   ]
  },
  {
   "cell_type": "code",
   "execution_count": 241,
   "metadata": {},
   "outputs": [
    {
     "data": {
      "text/plain": [
       "19485.562789401592"
      ]
     },
     "execution_count": 241,
     "metadata": {},
     "output_type": "execute_result"
    }
   ],
   "source": [
    "tot_test"
   ]
  },
  {
   "cell_type": "code",
   "execution_count": 242,
   "metadata": {},
   "outputs": [
    {
     "data": {
      "text/plain": [
       "0.6116060920309009"
      ]
     },
     "execution_count": 242,
     "metadata": {},
     "output_type": "execute_result"
    }
   ],
   "source": [
    "tot_test / tot_train"
   ]
  },
  {
   "cell_type": "code",
   "execution_count": 162,
   "metadata": {},
   "outputs": [
    {
     "data": {
      "text/plain": [
       "{'train': [1,\n",
       "  2,\n",
       "  6,\n",
       "  70,\n",
       "  72,\n",
       "  3,\n",
       "  4,\n",
       "  5,\n",
       "  7,\n",
       "  9,\n",
       "  10,\n",
       "  11,\n",
       "  13,\n",
       "  14,\n",
       "  19,\n",
       "  20,\n",
       "  21,\n",
       "  26,\n",
       "  27,\n",
       "  28,\n",
       "  30,\n",
       "  31,\n",
       "  32,\n",
       "  33,\n",
       "  34,\n",
       "  35,\n",
       "  37,\n",
       "  41,\n",
       "  43,\n",
       "  46,\n",
       "  47,\n",
       "  53,\n",
       "  58,\n",
       "  61,\n",
       "  63,\n",
       "  64,\n",
       "  69,\n",
       "  76,\n",
       "  77,\n",
       "  8,\n",
       "  15,\n",
       "  16,\n",
       "  17,\n",
       "  18,\n",
       "  22,\n",
       "  23,\n",
       "  24,\n",
       "  22,\n",
       "  23,\n",
       "  25,\n",
       "  29,\n",
       "  32,\n",
       "  36,\n",
       "  38,\n",
       "  39,\n",
       "  40,\n",
       "  42,\n",
       "  44,\n",
       "  45,\n",
       "  48,\n",
       "  55,\n",
       "  59,\n",
       "  66,\n",
       "  68,\n",
       "  71,\n",
       "  75,\n",
       "  78,\n",
       "  83,\n",
       "  85,\n",
       "  87,\n",
       "  85,\n",
       "  88,\n",
       "  89,\n",
       "  96,\n",
       "  22,\n",
       "  49,\n",
       "  50,\n",
       "  51,\n",
       "  52,\n",
       "  54,\n",
       "  56,\n",
       "  57,\n",
       "  60,\n",
       "  80,\n",
       "  81,\n",
       "  90,\n",
       "  91,\n",
       "  92,\n",
       "  93,\n",
       "  94,\n",
       "  95,\n",
       "  97,\n",
       "  98,\n",
       "  99,\n",
       "  100,\n",
       "  62,\n",
       "  65,\n",
       "  67],\n",
       " 'test': [12, 74, 26, 28, 84, 86, 25, 88, 89, 97, 22, 82, 101, 73, 79]}"
      ]
     },
     "execution_count": 162,
     "metadata": {},
     "output_type": "execute_result"
    }
   ],
   "source": [
    "train_test"
   ]
  },
  {
   "cell_type": "code",
   "execution_count": 168,
   "metadata": {},
   "outputs": [
    {
     "data": {
      "text/plain": [
       "[26, 28, 22, 22, 25, 88, 89, 22, 97]"
      ]
     },
     "execution_count": 168,
     "metadata": {},
     "output_type": "execute_result"
    }
   ],
   "source": [
    "def intersection(lst1, lst2): \n",
    "    lst3 = [value for value in lst1 if value in lst2] \n",
    "    return lst3 \n",
    "\n",
    "\n",
    "intersection(train_test[\"train\"],train_test[\"test\"])"
   ]
  },
  {
   "cell_type": "code",
   "execution_count": 165,
   "metadata": {},
   "outputs": [],
   "source": [
    "json_object = json.dumps(train_test)"
   ]
  },
  {
   "cell_type": "code",
   "execution_count": 167,
   "metadata": {},
   "outputs": [],
   "source": [
    "import json\n",
    "with open('train_test_polygons.json', 'w') as fp:\n",
    "    json.dump(train_test, fp)"
   ]
  },
  {
   "cell_type": "markdown",
   "metadata": {},
   "source": [
    "# Id Based on Yes Chips"
   ]
  },
  {
   "cell_type": "code",
   "execution_count": 7,
   "metadata": {},
   "outputs": [],
   "source": [
    "def get_chip_count(chip_file_loc):\n",
    "    \n",
    "    chip_count = {}\n",
    "    \n",
    "    with open(chip_file_loc) as r:\n",
    "        \n",
    "        chips = json.load(r)\n",
    "        \n",
    "    for chip in chips:\n",
    "\n",
    "        poly_id = int(chip.split(\"/\")[5])\n",
    "\n",
    "\n",
    "        if poly_id in chip_count.keys():\n",
    "\n",
    "            chip_count[poly_id] += 1 \n",
    "\n",
    "        else:\n",
    "\n",
    "            chip_count[poly_id] = 1 \n",
    "\n",
    "    return chip_count\n",
    "    "
   ]
  },
  {
   "cell_type": "code",
   "execution_count": 9,
   "metadata": {},
   "outputs": [],
   "source": [
    "chip_file_loc = \"yes_chips_s3.json\"\n",
    "\n",
    "chip_count = get_chip_count(chip_file_loc)"
   ]
  },
  {
   "cell_type": "code",
   "execution_count": 25,
   "metadata": {},
   "outputs": [
    {
     "data": {
      "text/plain": [
       "49133"
      ]
     },
     "execution_count": 25,
     "metadata": {},
     "output_type": "execute_result"
    }
   ],
   "source": [
    "sum(chip_count.values())"
   ]
  },
  {
   "cell_type": "code",
   "execution_count": 29,
   "metadata": {},
   "outputs": [],
   "source": [
    "def train_test_split(regions_loc,polygons_loc,chip_count,skip_poly_ids=[]):\n",
    "    \n",
    "    with open(regions_loc) as r, open(polygons_loc) as p:\n",
    "        \n",
    "        pol_groups = {}\n",
    "        \n",
    "        regions = json.load(r)[\"features\"]\n",
    "        polygons = json.load(p)[\"features\"]\n",
    "        \n",
    "        r_col = GeometryCollection([shape(feature[\"geometry\"]).buffer(0) for feature in regions])\n",
    "        p_col = GeometryCollection([shape(feature[\"geometry\"]).buffer(0) for feature in polygons])\n",
    "        \n",
    "        poly_list = skip_poly_ids.copy()\n",
    "        \n",
    "        for i,poly_1 in enumerate(r_col,1):\n",
    "            \n",
    "            \n",
    "            for j, poly_2 in enumerate(p_col,1):\n",
    "                \n",
    "                \n",
    "                if j not in poly_list:\n",
    "                    \n",
    "\n",
    "                    if poly_1.intersects(poly_2):\n",
    "                        \n",
    "                        poly_list.append(j)\n",
    "                        \n",
    "\n",
    "                        if i in list(pol_groups.keys()):\n",
    "\n",
    "                            pol_groups[i].append({j:chip_count[j]})\n",
    "\n",
    "\n",
    "                        else:\n",
    "\n",
    "                            pol_groups[i] = [{j:chip_count[j]}]\n",
    "                        \n",
    "    \n",
    "        return pol_groups\n",
    "    \n",
    "    \n",
    "    \n",
    "    \n",
    "    \n",
    "regions_loc = \"/Volumes/Lacie/zhenyadata/Project_Canopy_Data/PC_Data/Geometry/custom_congo_basin_regions/congo_basin_custom_regions.geojson\"\n",
    "polygons_loc = \"/Volumes/Lacie/zhenyadata/Project_Canopy_Data/PC_Data/Geometry/labelled_boxes/v3/labels.geojson\"\n",
    "\n",
    "pol_groups = train_test_split(regions_loc,polygons_loc,chip_count,skip_poly_ids=[95,96,97,98])"
   ]
  },
  {
   "cell_type": "code",
   "execution_count": 30,
   "metadata": {},
   "outputs": [],
   "source": [
    "sum_chips = 0 \n",
    "\n",
    "for k1 in pol_groups.keys():\n",
    "    \n",
    "    for k2 in pol_groups[k1]: \n",
    "        \n",
    "        for v1 in k2.values():\n",
    "            \n",
    "            sum_chips += v1\n",
    "        "
   ]
  },
  {
   "cell_type": "code",
   "execution_count": 31,
   "metadata": {},
   "outputs": [
    {
     "data": {
      "text/plain": [
       "49133"
      ]
     },
     "execution_count": 31,
     "metadata": {},
     "output_type": "execute_result"
    }
   ],
   "source": [
    "sum_chips"
   ]
  },
  {
   "cell_type": "code",
   "execution_count": 84,
   "metadata": {},
   "outputs": [],
   "source": [
    "train_test = {\"train\":[],\"test\":[]}\n",
    "\n",
    "counter = 0 \n",
    "\n",
    "for r_id in pol_groups.keys():\n",
    "    \n",
    "    vals_1 = []\n",
    "\n",
    "    for p_list in pol_groups[r_id]:\n",
    "        \n",
    "        vals_1.append(list(p_list.values())[0])\n",
    "        \n",
    "    sum_vals = sum(vals_1)\n",
    "    \n",
    "    r_thresh = sum_vals * .84\n",
    "\n",
    "    pol_groups_sorted = sorted(pol_groups[r_id],key=lambda i:list(i.values())[0],reverse=True)\n",
    "    \n",
    "    temp_sum = 0 \n",
    "    \n",
    "    \n",
    "    for p_list in pol_groups_sorted:\n",
    "        \n",
    "        counter += 1 \n",
    "        \n",
    "        temp_sum += list(p_list.values())[0]\n",
    "        \n",
    "        if temp_sum < r_thresh:\n",
    "            \n",
    "            train_test[\"train\"].append(list(p_list.keys())[0]) \n",
    "            \n",
    "        else:\n",
    "            \n",
    "            train_test[\"test\"].append(list(p_list.keys())[0]) \n",
    "                "
   ]
  },
  {
   "cell_type": "code",
   "execution_count": 85,
   "metadata": {},
   "outputs": [
    {
     "data": {
      "text/plain": [
       "{'train': [12,\n",
       "  1,\n",
       "  74,\n",
       "  7,\n",
       "  28,\n",
       "  10,\n",
       "  19,\n",
       "  9,\n",
       "  20,\n",
       "  21,\n",
       "  32,\n",
       "  58,\n",
       "  64,\n",
       "  30,\n",
       "  77,\n",
       "  53,\n",
       "  86,\n",
       "  31,\n",
       "  33,\n",
       "  84,\n",
       "  27,\n",
       "  69,\n",
       "  37,\n",
       "  18,\n",
       "  22,\n",
       "  15,\n",
       "  25,\n",
       "  78,\n",
       "  85,\n",
       "  75,\n",
       "  55,\n",
       "  89,\n",
       "  66,\n",
       "  44,\n",
       "  39,\n",
       "  48,\n",
       "  68,\n",
       "  29,\n",
       "  81,\n",
       "  60,\n",
       "  49,\n",
       "  52,\n",
       "  92,\n",
       "  101,\n",
       "  91,\n",
       "  67],\n",
       " 'test': [6,\n",
       "  2,\n",
       "  72,\n",
       "  70,\n",
       "  14,\n",
       "  5,\n",
       "  13,\n",
       "  26,\n",
       "  3,\n",
       "  11,\n",
       "  4,\n",
       "  76,\n",
       "  41,\n",
       "  35,\n",
       "  47,\n",
       "  43,\n",
       "  46,\n",
       "  63,\n",
       "  34,\n",
       "  61,\n",
       "  23,\n",
       "  17,\n",
       "  16,\n",
       "  24,\n",
       "  8,\n",
       "  59,\n",
       "  36,\n",
       "  88,\n",
       "  42,\n",
       "  83,\n",
       "  38,\n",
       "  40,\n",
       "  45,\n",
       "  71,\n",
       "  87,\n",
       "  50,\n",
       "  57,\n",
       "  82,\n",
       "  80,\n",
       "  56,\n",
       "  51,\n",
       "  54,\n",
       "  99,\n",
       "  100,\n",
       "  93,\n",
       "  90,\n",
       "  94,\n",
       "  65,\n",
       "  62,\n",
       "  73,\n",
       "  79]}"
      ]
     },
     "execution_count": 85,
     "metadata": {},
     "output_type": "execute_result"
    }
   ],
   "source": [
    "train_test"
   ]
  },
  {
   "cell_type": "code",
   "execution_count": 86,
   "metadata": {},
   "outputs": [],
   "source": [
    "pols = []\n",
    "for k,v in pol_groups.items():  \n",
    "    for p in v:\n",
    "        pols.append(p)"
   ]
  },
  {
   "cell_type": "code",
   "execution_count": 87,
   "metadata": {},
   "outputs": [],
   "source": [
    "tot_train = 0\n",
    "tot_test = 0\n",
    "for pol_id in train_test[\"train\"]:\n",
    "    for pol_dict in pols:\n",
    "        if pol_id in pol_dict.keys():\n",
    "            tot_train += pol_dict[pol_id]\n",
    "\n",
    "for pol_id in train_test[\"test\"]:\n",
    "    for pol_dict in pols:\n",
    "        if pol_id in pol_dict.keys():\n",
    "            tot_test += pol_dict[pol_id]"
   ]
  },
  {
   "cell_type": "code",
   "execution_count": 88,
   "metadata": {},
   "outputs": [
    {
     "data": {
      "text/plain": [
       "39206"
      ]
     },
     "execution_count": 88,
     "metadata": {},
     "output_type": "execute_result"
    }
   ],
   "source": [
    "tot_train"
   ]
  },
  {
   "cell_type": "code",
   "execution_count": 89,
   "metadata": {},
   "outputs": [
    {
     "data": {
      "text/plain": [
       "9927"
      ]
     },
     "execution_count": 89,
     "metadata": {},
     "output_type": "execute_result"
    }
   ],
   "source": [
    "tot_test"
   ]
  },
  {
   "cell_type": "code",
   "execution_count": 90,
   "metadata": {},
   "outputs": [
    {
     "data": {
      "text/plain": [
       "0.20204343313048256"
      ]
     },
     "execution_count": 90,
     "metadata": {},
     "output_type": "execute_result"
    }
   ],
   "source": [
    "tot_test / (tot_train + tot_test)"
   ]
  },
  {
   "cell_type": "code",
   "execution_count": 91,
   "metadata": {},
   "outputs": [],
   "source": [
    "import json\n",
    "with open('train_test_polygons.json', 'w') as fp:\n",
    "    json.dump(train_test, fp)"
   ]
  },
  {
   "cell_type": "code",
   "execution_count": null,
   "metadata": {},
   "outputs": [],
   "source": []
  }
 ],
 "metadata": {
  "kernelspec": {
   "display_name": "labeling-conda",
   "language": "python",
   "name": "labeling-conda"
  },
  "language_info": {
   "codemirror_mode": {
    "name": "ipython",
    "version": 3
   },
   "file_extension": ".py",
   "mimetype": "text/x-python",
   "name": "python",
   "nbconvert_exporter": "python",
   "pygments_lexer": "ipython3",
   "version": "3.9.1"
  }
 },
 "nbformat": 4,
 "nbformat_minor": 4
}
