{
 "cells": [
  {
   "cell_type": "code",
   "execution_count": 1,
   "metadata": {},
   "outputs": [],
   "source": [
    "import ast\n",
    "import boto3\n",
    "import pandas as pd"
   ]
  },
  {
   "cell_type": "code",
   "execution_count": 2,
   "metadata": {},
   "outputs": [
    {
     "data": {
      "text/html": [
       "<div>\n",
       "<style scoped>\n",
       "    .dataframe tbody tr th:only-of-type {\n",
       "        vertical-align: middle;\n",
       "    }\n",
       "\n",
       "    .dataframe tbody tr th {\n",
       "        vertical-align: top;\n",
       "    }\n",
       "\n",
       "    .dataframe thead th {\n",
       "        text-align: right;\n",
       "    }\n",
       "</style>\n",
       "<table border=\"1\" class=\"dataframe\">\n",
       "  <thead>\n",
       "    <tr style=\"text-align: right;\">\n",
       "      <th></th>\n",
       "      <th>filepaths</th>\n",
       "      <th>labels</th>\n",
       "    </tr>\n",
       "  </thead>\n",
       "  <tbody>\n",
       "    <tr>\n",
       "      <th>0</th>\n",
       "      <td>/Volumes/Lacie/zhenyadata/Project_Canopy_Data/...</td>\n",
       "      <td>[ISL]</td>\n",
       "    </tr>\n",
       "    <tr>\n",
       "      <th>1</th>\n",
       "      <td>/Volumes/Lacie/zhenyadata/Project_Canopy_Data/...</td>\n",
       "      <td>[ISL]</td>\n",
       "    </tr>\n",
       "    <tr>\n",
       "      <th>2</th>\n",
       "      <td>/Volumes/Lacie/zhenyadata/Project_Canopy_Data/...</td>\n",
       "      <td>[ISL]</td>\n",
       "    </tr>\n",
       "    <tr>\n",
       "      <th>3</th>\n",
       "      <td>/Volumes/Lacie/zhenyadata/Project_Canopy_Data/...</td>\n",
       "      <td>[ISL]</td>\n",
       "    </tr>\n",
       "    <tr>\n",
       "      <th>4</th>\n",
       "      <td>/Volumes/Lacie/zhenyadata/Project_Canopy_Data/...</td>\n",
       "      <td>[ISL]</td>\n",
       "    </tr>\n",
       "  </tbody>\n",
       "</table>\n",
       "</div>"
      ],
      "text/plain": [
       "                                           filepaths labels\n",
       "0  /Volumes/Lacie/zhenyadata/Project_Canopy_Data/...  [ISL]\n",
       "1  /Volumes/Lacie/zhenyadata/Project_Canopy_Data/...  [ISL]\n",
       "2  /Volumes/Lacie/zhenyadata/Project_Canopy_Data/...  [ISL]\n",
       "3  /Volumes/Lacie/zhenyadata/Project_Canopy_Data/...  [ISL]\n",
       "4  /Volumes/Lacie/zhenyadata/Project_Canopy_Data/...  [ISL]"
      ]
     },
     "execution_count": 2,
     "metadata": {},
     "output_type": "execute_result"
    }
   ],
   "source": [
    "label_csv_david = 'D:/canopy_data/csvs/local_multi_label.csv'\n",
    "\n",
    "label_df = pd.read_csv(label_csv_david, converters={1:ast.literal_eval})\n",
    "\n",
    "label_df.head()"
   ]
  },
  {
   "cell_type": "code",
   "execution_count": 3,
   "metadata": {},
   "outputs": [
    {
     "data": {
      "text/plain": [
       "list"
      ]
     },
     "execution_count": 3,
     "metadata": {},
     "output_type": "execute_result"
    }
   ],
   "source": [
    "type(label_df.loc[0, 'labels'])"
   ]
  },
  {
   "cell_type": "code",
   "execution_count": 4,
   "metadata": {},
   "outputs": [
    {
     "data": {
      "text/plain": [
       "['ISL']"
      ]
     },
     "execution_count": 4,
     "metadata": {},
     "output_type": "execute_result"
    }
   ],
   "source": [
    "value = label_df.loc[0, 'labels']\n",
    "\n",
    "value"
   ]
  },
  {
   "cell_type": "code",
   "execution_count": 5,
   "metadata": {},
   "outputs": [
    {
     "data": {
      "text/html": [
       "<div>\n",
       "<style scoped>\n",
       "    .dataframe tbody tr th:only-of-type {\n",
       "        vertical-align: middle;\n",
       "    }\n",
       "\n",
       "    .dataframe tbody tr th {\n",
       "        vertical-align: top;\n",
       "    }\n",
       "\n",
       "    .dataframe thead th {\n",
       "        text-align: right;\n",
       "    }\n",
       "</style>\n",
       "<table border=\"1\" class=\"dataframe\">\n",
       "  <thead>\n",
       "    <tr style=\"text-align: right;\">\n",
       "      <th></th>\n",
       "      <th>filepaths</th>\n",
       "      <th>labels</th>\n",
       "      <th>lengths</th>\n",
       "    </tr>\n",
       "  </thead>\n",
       "  <tbody>\n",
       "    <tr>\n",
       "      <th>0</th>\n",
       "      <td>/Volumes/Lacie/zhenyadata/Project_Canopy_Data/...</td>\n",
       "      <td>[ISL]</td>\n",
       "      <td>1</td>\n",
       "    </tr>\n",
       "    <tr>\n",
       "      <th>1</th>\n",
       "      <td>/Volumes/Lacie/zhenyadata/Project_Canopy_Data/...</td>\n",
       "      <td>[ISL]</td>\n",
       "      <td>1</td>\n",
       "    </tr>\n",
       "    <tr>\n",
       "      <th>2</th>\n",
       "      <td>/Volumes/Lacie/zhenyadata/Project_Canopy_Data/...</td>\n",
       "      <td>[ISL]</td>\n",
       "      <td>1</td>\n",
       "    </tr>\n",
       "    <tr>\n",
       "      <th>3</th>\n",
       "      <td>/Volumes/Lacie/zhenyadata/Project_Canopy_Data/...</td>\n",
       "      <td>[ISL]</td>\n",
       "      <td>1</td>\n",
       "    </tr>\n",
       "    <tr>\n",
       "      <th>4</th>\n",
       "      <td>/Volumes/Lacie/zhenyadata/Project_Canopy_Data/...</td>\n",
       "      <td>[ISL]</td>\n",
       "      <td>1</td>\n",
       "    </tr>\n",
       "  </tbody>\n",
       "</table>\n",
       "</div>"
      ],
      "text/plain": [
       "                                           filepaths labels  lengths\n",
       "0  /Volumes/Lacie/zhenyadata/Project_Canopy_Data/...  [ISL]        1\n",
       "1  /Volumes/Lacie/zhenyadata/Project_Canopy_Data/...  [ISL]        1\n",
       "2  /Volumes/Lacie/zhenyadata/Project_Canopy_Data/...  [ISL]        1\n",
       "3  /Volumes/Lacie/zhenyadata/Project_Canopy_Data/...  [ISL]        1\n",
       "4  /Volumes/Lacie/zhenyadata/Project_Canopy_Data/...  [ISL]        1"
      ]
     },
     "execution_count": 5,
     "metadata": {},
     "output_type": "execute_result"
    }
   ],
   "source": [
    "label_df['lengths'] = label_df['labels'].apply(lambda x:len(x))\n",
    "\n",
    "label_df.head()"
   ]
  },
  {
   "cell_type": "code",
   "execution_count": 6,
   "metadata": {},
   "outputs": [
    {
     "data": {
      "text/plain": [
       "1    34828\n",
       "2     6558\n",
       "3      356\n",
       "4       29\n",
       "Name: lengths, dtype: int64"
      ]
     },
     "execution_count": 6,
     "metadata": {},
     "output_type": "execute_result"
    }
   ],
   "source": [
    "label_df['lengths'].value_counts()"
   ]
  },
  {
   "cell_type": "markdown",
   "metadata": {},
   "source": [
    "## make dataframe of s3 filepaths"
   ]
  },
  {
   "cell_type": "code",
   "execution_count": 7,
   "metadata": {},
   "outputs": [
    {
     "name": "stdout",
     "output_type": "stream",
     "text": [
      "s3.Bucket(name='canopy-production-ml')\n"
     ]
    }
   ],
   "source": [
    "s3 = boto3.resource('s3')\n",
    "\n",
    "bucket_name = 'canopy-production-ml'\n",
    "\n",
    "pc_bucket = s3.Bucket(bucket_name)\n",
    "\n",
    "print(pc_bucket)"
   ]
  },
  {
   "cell_type": "code",
   "execution_count": 8,
   "metadata": {},
   "outputs": [],
   "source": [
    "train_chips = []\n",
    "\n",
    "val_chips = []\n",
    "\n",
    "train_uri = 'chips/cloudfree-merge-polygons/split/train/'\n",
    "\n",
    "val_uri = 'chips/cloudfree-merge-polygons/split/val/'\n",
    "\n",
    "for obj in pc_bucket.objects.all():\n",
    "    #if train_uri in obj.key:\n",
    "    #    train_chips.append(obj.key)\n",
    "    if val_uri in obj.key:\n",
    "        val_chips.append(obj.key)"
   ]
  },
  {
   "cell_type": "code",
   "execution_count": 9,
   "metadata": {},
   "outputs": [
    {
     "data": {
      "text/plain": [
       "6795"
      ]
     },
     "execution_count": 9,
     "metadata": {},
     "output_type": "execute_result"
    }
   ],
   "source": [
    "len(val_chips)"
   ]
  },
  {
   "cell_type": "code",
   "execution_count": 10,
   "metadata": {},
   "outputs": [
    {
     "data": {
      "text/plain": [
       "'chips/cloudfree-merge-polygons/split/val/1/1_1000_1000.tif'"
      ]
     },
     "execution_count": 10,
     "metadata": {},
     "output_type": "execute_result"
    }
   ],
   "source": [
    "val_chips[0]"
   ]
  },
  {
   "cell_type": "code",
   "execution_count": 11,
   "metadata": {},
   "outputs": [
    {
     "data": {
      "text/html": [
       "<div>\n",
       "<style scoped>\n",
       "    .dataframe tbody tr th:only-of-type {\n",
       "        vertical-align: middle;\n",
       "    }\n",
       "\n",
       "    .dataframe tbody tr th {\n",
       "        vertical-align: top;\n",
       "    }\n",
       "\n",
       "    .dataframe thead th {\n",
       "        text-align: right;\n",
       "    }\n",
       "</style>\n",
       "<table border=\"1\" class=\"dataframe\">\n",
       "  <thead>\n",
       "    <tr style=\"text-align: right;\">\n",
       "      <th></th>\n",
       "      <th>s3_paths</th>\n",
       "    </tr>\n",
       "  </thead>\n",
       "  <tbody>\n",
       "    <tr>\n",
       "      <th>0</th>\n",
       "      <td>chips/cloudfree-merge-polygons/split/val/1/1_1...</td>\n",
       "    </tr>\n",
       "    <tr>\n",
       "      <th>1</th>\n",
       "      <td>chips/cloudfree-merge-polygons/split/val/1/1_1...</td>\n",
       "    </tr>\n",
       "    <tr>\n",
       "      <th>2</th>\n",
       "      <td>chips/cloudfree-merge-polygons/split/val/1/1_1...</td>\n",
       "    </tr>\n",
       "    <tr>\n",
       "      <th>3</th>\n",
       "      <td>chips/cloudfree-merge-polygons/split/val/1/1_1...</td>\n",
       "    </tr>\n",
       "    <tr>\n",
       "      <th>4</th>\n",
       "      <td>chips/cloudfree-merge-polygons/split/val/1/1_1...</td>\n",
       "    </tr>\n",
       "  </tbody>\n",
       "</table>\n",
       "</div>"
      ],
      "text/plain": [
       "                                            s3_paths\n",
       "0  chips/cloudfree-merge-polygons/split/val/1/1_1...\n",
       "1  chips/cloudfree-merge-polygons/split/val/1/1_1...\n",
       "2  chips/cloudfree-merge-polygons/split/val/1/1_1...\n",
       "3  chips/cloudfree-merge-polygons/split/val/1/1_1...\n",
       "4  chips/cloudfree-merge-polygons/split/val/1/1_1..."
      ]
     },
     "execution_count": 11,
     "metadata": {},
     "output_type": "execute_result"
    }
   ],
   "source": [
    "df_val_s3 = pd.DataFrame(data={'s3_paths': val_chips})\n",
    "\n",
    "df_val_s3.head()"
   ]
  },
  {
   "cell_type": "markdown",
   "metadata": {},
   "source": [
    "## merge dataframes"
   ]
  },
  {
   "cell_type": "code",
   "execution_count": 12,
   "metadata": {},
   "outputs": [
    {
     "data": {
      "text/html": [
       "<div>\n",
       "<style scoped>\n",
       "    .dataframe tbody tr th:only-of-type {\n",
       "        vertical-align: middle;\n",
       "    }\n",
       "\n",
       "    .dataframe tbody tr th {\n",
       "        vertical-align: top;\n",
       "    }\n",
       "\n",
       "    .dataframe thead th {\n",
       "        text-align: right;\n",
       "    }\n",
       "</style>\n",
       "<table border=\"1\" class=\"dataframe\">\n",
       "  <thead>\n",
       "    <tr style=\"text-align: right;\">\n",
       "      <th></th>\n",
       "      <th>col1</th>\n",
       "      <th>col2</th>\n",
       "      <th>col3</th>\n",
       "    </tr>\n",
       "  </thead>\n",
       "  <tbody>\n",
       "    <tr>\n",
       "      <th>0</th>\n",
       "      <td>1</td>\n",
       "      <td>4</td>\n",
       "      <td>10</td>\n",
       "    </tr>\n",
       "    <tr>\n",
       "      <th>1</th>\n",
       "      <td>2</td>\n",
       "      <td>5</td>\n",
       "      <td>8</td>\n",
       "    </tr>\n",
       "    <tr>\n",
       "      <th>2</th>\n",
       "      <td>3</td>\n",
       "      <td>6</td>\n",
       "      <td>9</td>\n",
       "    </tr>\n",
       "  </tbody>\n",
       "</table>\n",
       "</div>"
      ],
      "text/plain": [
       "   col1  col2  col3\n",
       "0     1     4    10\n",
       "1     2     5     8\n",
       "2     3     6     9"
      ]
     },
     "execution_count": 12,
     "metadata": {},
     "output_type": "execute_result"
    }
   ],
   "source": [
    "test_1 = pd.DataFrame(data={'col1': [1,2,3], 'col2': [4,5,6]})\n",
    "\n",
    "test_2 = pd.DataFrame(data={'col2': [5,6,4], 'col3': [8,9,10]})\n",
    "\n",
    "test_1.merge(test_2, on='col2')"
   ]
  },
  {
   "cell_type": "code",
   "execution_count": 13,
   "metadata": {},
   "outputs": [
    {
     "data": {
      "text/plain": [
       "'/Volumes/Lacie/zhenyadata/Project_Canopy_Data/PC_Data/Sentinel_Data/Chips/misha_polygons_cloudfreemerge/yes/ISL/100/59/59_800_2800.tif'"
      ]
     },
     "execution_count": 13,
     "metadata": {},
     "output_type": "execute_result"
    }
   ],
   "source": [
    "label_df.loc[0, 'filepaths']"
   ]
  },
  {
   "cell_type": "code",
   "execution_count": 14,
   "metadata": {},
   "outputs": [
    {
     "data": {
      "text/plain": [
       "'chips/cloudfree-merge-polygons/split/val/1/1_1000_1000.tif'"
      ]
     },
     "execution_count": 14,
     "metadata": {},
     "output_type": "execute_result"
    }
   ],
   "source": [
    "df_val_s3.loc[0, 's3_paths']"
   ]
  },
  {
   "cell_type": "code",
   "execution_count": 15,
   "metadata": {},
   "outputs": [],
   "source": [
    "def get_filename(path):\n",
    "    return path.split('/')[-1]\n",
    "\n",
    "label_df['filenames'] = label_df['filepaths'].apply(get_filename)\n",
    "df_val_s3['filenames'] = df_val_s3['s3_paths'].apply(get_filename)"
   ]
  },
  {
   "cell_type": "code",
   "execution_count": 16,
   "metadata": {},
   "outputs": [
    {
     "data": {
      "text/html": [
       "<div>\n",
       "<style scoped>\n",
       "    .dataframe tbody tr th:only-of-type {\n",
       "        vertical-align: middle;\n",
       "    }\n",
       "\n",
       "    .dataframe tbody tr th {\n",
       "        vertical-align: top;\n",
       "    }\n",
       "\n",
       "    .dataframe thead th {\n",
       "        text-align: right;\n",
       "    }\n",
       "</style>\n",
       "<table border=\"1\" class=\"dataframe\">\n",
       "  <thead>\n",
       "    <tr style=\"text-align: right;\">\n",
       "      <th></th>\n",
       "      <th>filepaths</th>\n",
       "      <th>labels</th>\n",
       "      <th>lengths</th>\n",
       "      <th>filenames</th>\n",
       "    </tr>\n",
       "  </thead>\n",
       "  <tbody>\n",
       "    <tr>\n",
       "      <th>0</th>\n",
       "      <td>/Volumes/Lacie/zhenyadata/Project_Canopy_Data/...</td>\n",
       "      <td>[ISL]</td>\n",
       "      <td>1</td>\n",
       "      <td>59_800_2800.tif</td>\n",
       "    </tr>\n",
       "    <tr>\n",
       "      <th>1</th>\n",
       "      <td>/Volumes/Lacie/zhenyadata/Project_Canopy_Data/...</td>\n",
       "      <td>[ISL]</td>\n",
       "      <td>1</td>\n",
       "      <td>59_900_2800.tif</td>\n",
       "    </tr>\n",
       "    <tr>\n",
       "      <th>2</th>\n",
       "      <td>/Volumes/Lacie/zhenyadata/Project_Canopy_Data/...</td>\n",
       "      <td>[ISL]</td>\n",
       "      <td>1</td>\n",
       "      <td>59_900_2900.tif</td>\n",
       "    </tr>\n",
       "    <tr>\n",
       "      <th>3</th>\n",
       "      <td>/Volumes/Lacie/zhenyadata/Project_Canopy_Data/...</td>\n",
       "      <td>[ISL]</td>\n",
       "      <td>1</td>\n",
       "      <td>59_1000_2900.tif</td>\n",
       "    </tr>\n",
       "    <tr>\n",
       "      <th>4</th>\n",
       "      <td>/Volumes/Lacie/zhenyadata/Project_Canopy_Data/...</td>\n",
       "      <td>[ISL]</td>\n",
       "      <td>1</td>\n",
       "      <td>59_1000_3000.tif</td>\n",
       "    </tr>\n",
       "  </tbody>\n",
       "</table>\n",
       "</div>"
      ],
      "text/plain": [
       "                                           filepaths labels  lengths  \\\n",
       "0  /Volumes/Lacie/zhenyadata/Project_Canopy_Data/...  [ISL]        1   \n",
       "1  /Volumes/Lacie/zhenyadata/Project_Canopy_Data/...  [ISL]        1   \n",
       "2  /Volumes/Lacie/zhenyadata/Project_Canopy_Data/...  [ISL]        1   \n",
       "3  /Volumes/Lacie/zhenyadata/Project_Canopy_Data/...  [ISL]        1   \n",
       "4  /Volumes/Lacie/zhenyadata/Project_Canopy_Data/...  [ISL]        1   \n",
       "\n",
       "          filenames  \n",
       "0   59_800_2800.tif  \n",
       "1   59_900_2800.tif  \n",
       "2   59_900_2900.tif  \n",
       "3  59_1000_2900.tif  \n",
       "4  59_1000_3000.tif  "
      ]
     },
     "execution_count": 16,
     "metadata": {},
     "output_type": "execute_result"
    }
   ],
   "source": [
    "label_df.head()"
   ]
  },
  {
   "cell_type": "code",
   "execution_count": 17,
   "metadata": {},
   "outputs": [
    {
     "data": {
      "text/html": [
       "<div>\n",
       "<style scoped>\n",
       "    .dataframe tbody tr th:only-of-type {\n",
       "        vertical-align: middle;\n",
       "    }\n",
       "\n",
       "    .dataframe tbody tr th {\n",
       "        vertical-align: top;\n",
       "    }\n",
       "\n",
       "    .dataframe thead th {\n",
       "        text-align: right;\n",
       "    }\n",
       "</style>\n",
       "<table border=\"1\" class=\"dataframe\">\n",
       "  <thead>\n",
       "    <tr style=\"text-align: right;\">\n",
       "      <th></th>\n",
       "      <th>s3_paths</th>\n",
       "      <th>filenames</th>\n",
       "    </tr>\n",
       "  </thead>\n",
       "  <tbody>\n",
       "    <tr>\n",
       "      <th>0</th>\n",
       "      <td>chips/cloudfree-merge-polygons/split/val/1/1_1...</td>\n",
       "      <td>1_1000_1000.tif</td>\n",
       "    </tr>\n",
       "    <tr>\n",
       "      <th>1</th>\n",
       "      <td>chips/cloudfree-merge-polygons/split/val/1/1_1...</td>\n",
       "      <td>1_1000_1100.tif</td>\n",
       "    </tr>\n",
       "    <tr>\n",
       "      <th>2</th>\n",
       "      <td>chips/cloudfree-merge-polygons/split/val/1/1_1...</td>\n",
       "      <td>1_1000_1200.tif</td>\n",
       "    </tr>\n",
       "    <tr>\n",
       "      <th>3</th>\n",
       "      <td>chips/cloudfree-merge-polygons/split/val/1/1_1...</td>\n",
       "      <td>1_1000_1300.tif</td>\n",
       "    </tr>\n",
       "    <tr>\n",
       "      <th>4</th>\n",
       "      <td>chips/cloudfree-merge-polygons/split/val/1/1_1...</td>\n",
       "      <td>1_1000_1400.tif</td>\n",
       "    </tr>\n",
       "  </tbody>\n",
       "</table>\n",
       "</div>"
      ],
      "text/plain": [
       "                                            s3_paths        filenames\n",
       "0  chips/cloudfree-merge-polygons/split/val/1/1_1...  1_1000_1000.tif\n",
       "1  chips/cloudfree-merge-polygons/split/val/1/1_1...  1_1000_1100.tif\n",
       "2  chips/cloudfree-merge-polygons/split/val/1/1_1...  1_1000_1200.tif\n",
       "3  chips/cloudfree-merge-polygons/split/val/1/1_1...  1_1000_1300.tif\n",
       "4  chips/cloudfree-merge-polygons/split/val/1/1_1...  1_1000_1400.tif"
      ]
     },
     "execution_count": 17,
     "metadata": {},
     "output_type": "execute_result"
    }
   ],
   "source": [
    "df_val_s3.head()"
   ]
  },
  {
   "cell_type": "code",
   "execution_count": 18,
   "metadata": {},
   "outputs": [
    {
     "data": {
      "text/html": [
       "<div>\n",
       "<style scoped>\n",
       "    .dataframe tbody tr th:only-of-type {\n",
       "        vertical-align: middle;\n",
       "    }\n",
       "\n",
       "    .dataframe tbody tr th {\n",
       "        vertical-align: top;\n",
       "    }\n",
       "\n",
       "    .dataframe thead th {\n",
       "        text-align: right;\n",
       "    }\n",
       "</style>\n",
       "<table border=\"1\" class=\"dataframe\">\n",
       "  <thead>\n",
       "    <tr style=\"text-align: right;\">\n",
       "      <th></th>\n",
       "      <th>s3_paths</th>\n",
       "      <th>filenames</th>\n",
       "      <th>filepaths</th>\n",
       "      <th>labels</th>\n",
       "      <th>lengths</th>\n",
       "    </tr>\n",
       "  </thead>\n",
       "  <tbody>\n",
       "    <tr>\n",
       "      <th>0</th>\n",
       "      <td>chips/cloudfree-merge-polygons/split/val/1/1_1...</td>\n",
       "      <td>1_1000_1000.tif</td>\n",
       "      <td>/Volumes/Lacie/zhenyadata/Project_Canopy_Data/...</td>\n",
       "      <td>[ISL, Rainforest]</td>\n",
       "      <td>2</td>\n",
       "    </tr>\n",
       "    <tr>\n",
       "      <th>1</th>\n",
       "      <td>chips/cloudfree-merge-polygons/split/val/1/1_1...</td>\n",
       "      <td>1_1000_1100.tif</td>\n",
       "      <td>/Volumes/Lacie/zhenyadata/Project_Canopy_Data/...</td>\n",
       "      <td>[Rainforest]</td>\n",
       "      <td>1</td>\n",
       "    </tr>\n",
       "    <tr>\n",
       "      <th>2</th>\n",
       "      <td>chips/cloudfree-merge-polygons/split/val/1/1_1...</td>\n",
       "      <td>1_1000_1200.tif</td>\n",
       "      <td>/Volumes/Lacie/zhenyadata/Project_Canopy_Data/...</td>\n",
       "      <td>[Rainforest]</td>\n",
       "      <td>1</td>\n",
       "    </tr>\n",
       "    <tr>\n",
       "      <th>3</th>\n",
       "      <td>chips/cloudfree-merge-polygons/split/val/1/1_1...</td>\n",
       "      <td>1_1000_1300.tif</td>\n",
       "      <td>/Volumes/Lacie/zhenyadata/Project_Canopy_Data/...</td>\n",
       "      <td>[Rainforest]</td>\n",
       "      <td>1</td>\n",
       "    </tr>\n",
       "    <tr>\n",
       "      <th>4</th>\n",
       "      <td>chips/cloudfree-merge-polygons/split/val/1/1_1...</td>\n",
       "      <td>1_1000_1400.tif</td>\n",
       "      <td>/Volumes/Lacie/zhenyadata/Project_Canopy_Data/...</td>\n",
       "      <td>[Rainforest]</td>\n",
       "      <td>1</td>\n",
       "    </tr>\n",
       "  </tbody>\n",
       "</table>\n",
       "</div>"
      ],
      "text/plain": [
       "                                            s3_paths        filenames  \\\n",
       "0  chips/cloudfree-merge-polygons/split/val/1/1_1...  1_1000_1000.tif   \n",
       "1  chips/cloudfree-merge-polygons/split/val/1/1_1...  1_1000_1100.tif   \n",
       "2  chips/cloudfree-merge-polygons/split/val/1/1_1...  1_1000_1200.tif   \n",
       "3  chips/cloudfree-merge-polygons/split/val/1/1_1...  1_1000_1300.tif   \n",
       "4  chips/cloudfree-merge-polygons/split/val/1/1_1...  1_1000_1400.tif   \n",
       "\n",
       "                                           filepaths             labels  \\\n",
       "0  /Volumes/Lacie/zhenyadata/Project_Canopy_Data/...  [ISL, Rainforest]   \n",
       "1  /Volumes/Lacie/zhenyadata/Project_Canopy_Data/...       [Rainforest]   \n",
       "2  /Volumes/Lacie/zhenyadata/Project_Canopy_Data/...       [Rainforest]   \n",
       "3  /Volumes/Lacie/zhenyadata/Project_Canopy_Data/...       [Rainforest]   \n",
       "4  /Volumes/Lacie/zhenyadata/Project_Canopy_Data/...       [Rainforest]   \n",
       "\n",
       "   lengths  \n",
       "0        2  \n",
       "1        1  \n",
       "2        1  \n",
       "3        1  \n",
       "4        1  "
      ]
     },
     "execution_count": 18,
     "metadata": {},
     "output_type": "execute_result"
    }
   ],
   "source": [
    "merge_df_val = df_val_s3.merge(label_df, on='filenames')\n",
    "\n",
    "merge_df_val.head()"
   ]
  },
  {
   "cell_type": "code",
   "execution_count": 19,
   "metadata": {},
   "outputs": [],
   "source": [
    "assert len(merge_df_val) == len(val_chips)"
   ]
  },
  {
   "cell_type": "code",
   "execution_count": 20,
   "metadata": {},
   "outputs": [
    {
     "data": {
      "text/plain": [
       "array([[0, 1, 0, ..., 0, 0, 0],\n",
       "       [0, 0, 0, ..., 0, 0, 0],\n",
       "       [0, 0, 0, ..., 0, 0, 0],\n",
       "       ...,\n",
       "       [0, 0, 0, ..., 0, 0, 1],\n",
       "       [0, 0, 0, ..., 0, 0, 1],\n",
       "       [0, 0, 0, ..., 0, 0, 1]])"
      ]
     },
     "execution_count": 20,
     "metadata": {},
     "output_type": "execute_result"
    }
   ],
   "source": [
    "from sklearn.preprocessing import MultiLabelBinarizer\n",
    "\n",
    "\n",
    "mlb = MultiLabelBinarizer()\n",
    "\n",
    "val_ohe = mlb.fit_transform(merge_df_val['labels'])\n",
    "\n",
    "val_ohe"
   ]
  },
  {
   "cell_type": "code",
   "execution_count": 22,
   "metadata": {},
   "outputs": [
    {
     "data": {
      "text/plain": [
       "array(['Habitation', 'ISL', 'Industrial_agriculture', 'Mining',\n",
       "       'Rainforest', 'River', 'Roads', 'Savannah', 'Shifting_cultivation',\n",
       "       'Water'], dtype=object)"
      ]
     },
     "execution_count": 22,
     "metadata": {},
     "output_type": "execute_result"
    }
   ],
   "source": [
    "mlb.classes_"
   ]
  },
  {
   "cell_type": "code",
   "execution_count": 21,
   "metadata": {},
   "outputs": [
    {
     "data": {
      "text/plain": [
       "array([0, 1, 0, 0, 1, 0, 0, 0, 0, 0])"
      ]
     },
     "execution_count": 21,
     "metadata": {},
     "output_type": "execute_result"
    }
   ],
   "source": [
    "list(val_ohe)[0]"
   ]
  },
  {
   "cell_type": "code",
   "execution_count": 23,
   "metadata": {},
   "outputs": [
    {
     "data": {
      "text/plain": [
       "6795"
      ]
     },
     "execution_count": 23,
     "metadata": {},
     "output_type": "execute_result"
    }
   ],
   "source": [
    "len(val_ohe)"
   ]
  },
  {
   "cell_type": "code",
   "execution_count": 26,
   "metadata": {},
   "outputs": [],
   "source": [
    "with open('val.lst', 'w') as lst:\n",
    "    for i in range(len(merge_df_val)):\n",
    "        lst.write(str(i) + '\\t')\n",
    "        for label in list(val_ohe)[i]:\n",
    "            lst.write(str(label) + '\\t')\n",
    "        lst.write(merge_df_val.loc[i, 's3_paths'])\n",
    "        lst.write('\\n')"
   ]
  },
  {
   "cell_type": "markdown",
   "metadata": {},
   "source": [
    "## the function"
   ]
  },
  {
   "cell_type": "code",
   "execution_count": 27,
   "metadata": {},
   "outputs": [],
   "source": [
    "from sklearn.preprocessing import MultiLabelBinarizer\n",
    "\n",
    "\n",
    "def make_lst_file(label_df, chips, lst_path):\n",
    "    s3_df = pd.DataFrame(data={'s3_paths': chips})\n",
    "    \n",
    "    def get_filename(path):\n",
    "        return path.split('/')[-1]\n",
    "\n",
    "    label_df['filenames'] = label_df['filepaths'].apply(get_filename)\n",
    "    s3_df['filenames'] = df_val_s3['s3_paths'].apply(get_filename)\n",
    "    \n",
    "    merge_df = s3_df.merge(label_df, on='filenames')\n",
    "    \n",
    "    mlb = MultiLabelBinarizer()\n",
    "    ohe = mlb.fit_transform(merge_df_val['labels'])\n",
    "\n",
    "    with open(lst_path, 'w') as lst:\n",
    "        for i in range(len(merge_df)):\n",
    "            lst.write(str(i) + '\\t')\n",
    "            for label in list(ohe)[i]:\n",
    "                lst.write(str(label) + '\\t')\n",
    "            lst.write(merge_df.loc[i, 's3_paths'])\n",
    "            lst.write('\\n')\n",
    "            \n",
    "    return mlb.classes_"
   ]
  },
  {
   "cell_type": "code",
   "execution_count": 28,
   "metadata": {},
   "outputs": [
    {
     "data": {
      "text/plain": [
       "array(['Habitation', 'ISL', 'Industrial_agriculture', 'Mining',\n",
       "       'Rainforest', 'River', 'Roads', 'Savannah', 'Shifting_cultivation',\n",
       "       'Water'], dtype=object)"
      ]
     },
     "execution_count": 28,
     "metadata": {},
     "output_type": "execute_result"
    }
   ],
   "source": [
    "make_lst_file(label_df, val_chips, 'val_2.lst')"
   ]
  },
  {
   "cell_type": "markdown",
   "metadata": {},
   "source": [
    "## label json"
   ]
  },
  {
   "cell_type": "code",
   "execution_count": 1,
   "metadata": {},
   "outputs": [],
   "source": [
    "import json\n",
    "\n",
    "\n",
    "label_list = ['Habitation', 'ISL', 'Industrial_agriculture', 'Mining',\n",
    "    'Rainforest', 'River', 'Roads', 'Savannah', 'Shifting_cultivation',\n",
    "    'Water'\n",
    "]\n",
    "\n",
    "label_dict = {\n",
    "    'label_names': {}\n",
    "}"
   ]
  },
  {
   "cell_type": "code",
   "execution_count": 2,
   "metadata": {},
   "outputs": [],
   "source": [
    "for i, label in enumerate(label_list, 1):\n",
    "    label_dict['label_names'][i] = label"
   ]
  },
  {
   "cell_type": "code",
   "execution_count": 3,
   "metadata": {},
   "outputs": [
    {
     "data": {
      "text/plain": [
       "{'label_names': {1: 'Habitation',\n",
       "  2: 'ISL',\n",
       "  3: 'Industrial_agriculture',\n",
       "  4: 'Mining',\n",
       "  5: 'Rainforest',\n",
       "  6: 'River',\n",
       "  7: 'Roads',\n",
       "  8: 'Savannah',\n",
       "  9: 'Shifting_cultivation',\n",
       "  10: 'Water'}}"
      ]
     },
     "execution_count": 3,
     "metadata": {},
     "output_type": "execute_result"
    }
   ],
   "source": [
    "label_dict"
   ]
  },
  {
   "cell_type": "code",
   "execution_count": 4,
   "metadata": {},
   "outputs": [],
   "source": [
    "with open('labels.json', 'w') as json_file:\n",
    "    json.dump(label_dict, json_file)"
   ]
  },
  {
   "cell_type": "code",
   "execution_count": null,
   "metadata": {},
   "outputs": [],
   "source": []
  }
 ],
 "metadata": {
  "kernelspec": {
   "display_name": "aws",
   "language": "python",
   "name": "aws"
  },
  "language_info": {
   "codemirror_mode": {
    "name": "ipython",
    "version": 3
   },
   "file_extension": ".py",
   "mimetype": "text/x-python",
   "name": "python",
   "nbconvert_exporter": "python",
   "pygments_lexer": "ipython3",
   "version": "3.9.1"
  }
 },
 "nbformat": 4,
 "nbformat_minor": 4
}
