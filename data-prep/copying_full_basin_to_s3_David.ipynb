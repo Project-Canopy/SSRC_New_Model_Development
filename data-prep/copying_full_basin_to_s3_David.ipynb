{
 "cells": [
  {
   "cell_type": "code",
   "execution_count": 6,
   "metadata": {},
   "outputs": [],
   "source": [
    "with open('fullbasin_google.txt') as f:\n",
    "    google_files = f.read().splitlines()\n",
    "    \n",
    "with open('fullbasin_aws.txt') as f:\n",
    "    aws_files = f.read().splitlines()"
   ]
  },
  {
   "cell_type": "code",
   "execution_count": 7,
   "metadata": {},
   "outputs": [
    {
     "data": {
      "text/plain": [
       "['gs://project-canopy-temp-2/S2_CloudFree/full_congo_s2cloudless_3/1000_Feb_12_15_25_44_2021.tif',\n",
       " 'gs://project-canopy-temp-2/S2_CloudFree/full_congo_s2cloudless_3/1001_Feb_12_15_25_46_2021.tif',\n",
       " 'gs://project-canopy-temp-2/S2_CloudFree/full_congo_s2cloudless_3/1002_Feb_12_15_25_49_2021.tif',\n",
       " 'gs://project-canopy-temp-2/S2_CloudFree/full_congo_s2cloudless_3/1003_Feb_12_15_25_51_2021.tif',\n",
       " 'gs://project-canopy-temp-2/S2_CloudFree/full_congo_s2cloudless_3/1004_Feb_12_15_25_54_2021.tif']"
      ]
     },
     "execution_count": 7,
     "metadata": {},
     "output_type": "execute_result"
    }
   ],
   "source": [
    "google_files[0:5]"
   ]
  },
  {
   "cell_type": "code",
   "execution_count": 8,
   "metadata": {},
   "outputs": [
    {
     "data": {
      "text/plain": [
       "['2021-03-29 14:11:33          0 ',\n",
       " '2021-03-29 14:22:41  311023343 1000_Feb_12_15_25_44_2021.tif',\n",
       " '2021-03-29 14:22:27  305703184 1001_Feb_12_15_25_46_2021.tif',\n",
       " '2021-03-29 14:22:33  299788503 1002_Feb_12_15_25_49_2021.tif',\n",
       " '2021-03-29 14:21:27  305490276 1003_Feb_12_15_25_51_2021.tif']"
      ]
     },
     "execution_count": 8,
     "metadata": {},
     "output_type": "execute_result"
    }
   ],
   "source": [
    "aws_files[:5]"
   ]
  },
  {
   "cell_type": "code",
   "execution_count": 9,
   "metadata": {},
   "outputs": [
    {
     "data": {
      "text/plain": [
       "'100_Feb_12_14_49_14_2021.tif'"
      ]
     },
     "execution_count": 9,
     "metadata": {},
     "output_type": "execute_result"
    }
   ],
   "source": [
    "gf = google_files[11]\n",
    "\n",
    "temp = gf.split('/')[-1]\n",
    "\n",
    "temp"
   ]
  },
  {
   "cell_type": "code",
   "execution_count": 10,
   "metadata": {},
   "outputs": [
    {
     "data": {
      "text/plain": [
       "'100_Feb_10_19_35_12_2021.tif'"
      ]
     },
     "execution_count": 10,
     "metadata": {},
     "output_type": "execute_result"
    }
   ],
   "source": [
    "af = aws_files[11]\n",
    "\n",
    "temp = af.split(' ')[-1]\n",
    "\n",
    "temp"
   ]
  },
  {
   "cell_type": "code",
   "execution_count": 11,
   "metadata": {},
   "outputs": [],
   "source": [
    "gcs_f = [f.split('/')[-1] for f in google_files]\n",
    "\n",
    "aws_f = [f.split(' ')[-1] for f in aws_files]"
   ]
  },
  {
   "cell_type": "code",
   "execution_count": 12,
   "metadata": {},
   "outputs": [
    {
     "name": "stdout",
     "output_type": "stream",
     "text": [
      "3165\n",
      "3120\n"
     ]
    }
   ],
   "source": [
    "print(len(gcs_f))\n",
    "\n",
    "print(len(aws_f))"
   ]
  },
  {
   "cell_type": "code",
   "execution_count": 13,
   "metadata": {},
   "outputs": [],
   "source": [
    "missing_files = []\n",
    "\n",
    "for f in gcs_f:\n",
    "    if f not in aws_f:\n",
    "        missing_files.append(f)"
   ]
  },
  {
   "cell_type": "code",
   "execution_count": 14,
   "metadata": {},
   "outputs": [
    {
     "data": {
      "text/plain": [
       "['1149_Feb_12_15_31_24_2021.tif',\n",
       " '1162_Feb_12_15_31_56_2021.tif',\n",
       " '116_Feb_10_19_35_51_2021.tif',\n",
       " '121_Feb_10_19_36_03_2021.tif',\n",
       " '1331_Feb_12_15_38_33_2021.tif',\n",
       " '1454_Feb_12_15_43_17_2021.tif',\n",
       " '1492_Feb_12_15_44_57_2021.tif',\n",
       " '1566_Feb_12_15_47_45_2021.tif',\n",
       " '156_Feb_10_19_37_22_2021.tif',\n",
       " '162_Feb_12_14_51_54_2021.tif',\n",
       " '1765_Feb_12_15_55_24_2021.tif',\n",
       " '1779_Feb_12_15_56_00_2021.tif',\n",
       " '1780_Feb_12_15_56_03_2021.tif',\n",
       " '1791_Feb_12_15_56_30_2021.tif',\n",
       " '1794_Feb_12_15_56_36_2021.tif',\n",
       " '179_Feb_12_14_52_37_2021.tif',\n",
       " '1817_Feb_12_15_57_33_2021.tif',\n",
       " '1826_Feb_12_15_57_54_2021.tif',\n",
       " '1927_Feb_12_16_01_44_2021.tif',\n",
       " '1939_Feb_12_16_02_13_2021.tif',\n",
       " '1964_Feb_12_16_03_11_2021.tif',\n",
       " '1983_Feb_12_16_03_55_2021.tif',\n",
       " '2004_Feb_12_16_04_45_2021.tif',\n",
       " '2079_Feb_12_16_07_40_2021.tif',\n",
       " '2105_Feb_12_16_08_40_2021.tif',\n",
       " '2128_Feb_12_16_09_35_2021.tif',\n",
       " '2160_Feb_12_16_10_50_2021.tif',\n",
       " '2207_Feb_12_16_12_38_2021.tif',\n",
       " '240_Feb_10_19_40_33_2021.tif',\n",
       " '242_Feb_12_14_55_10_2021.tif',\n",
       " '243_Feb_10_19_40_40_2021.tif',\n",
       " '249_Feb_10_19_40_54_2021.tif',\n",
       " '458_Feb_10_19_49_06_2021.tif',\n",
       " '54_Feb_10_19_33_26_2021.tif',\n",
       " '54_Feb_12_14_46_56_2021.tif',\n",
       " '550_Feb_12_15_07_43_2021.tif',\n",
       " '560_Feb_10_19_52_50_2021.tif',\n",
       " '563_Feb_12_15_08_12_2021.tif',\n",
       " '564_Feb_10_19_53_00_2021.tif',\n",
       " '569_Feb_12_15_08_27_2021.tif',\n",
       " '56_Feb_12_14_47_02_2021.tif',\n",
       " '696_Feb_12_15_13_47_2021.tif',\n",
       " '698_Feb_12_15_13_52_2021.tif',\n",
       " '746_Feb_12_15_15_52_2021.tif',\n",
       " '860_Feb_12_15_20_25_2021.tif',\n",
       " '899_Feb_12_15_21_52_2021.tif']"
      ]
     },
     "execution_count": 14,
     "metadata": {},
     "output_type": "execute_result"
    }
   ],
   "source": [
    "missing_files"
   ]
  },
  {
   "cell_type": "code",
   "execution_count": 15,
   "metadata": {},
   "outputs": [
    {
     "data": {
      "text/plain": [
       "46"
      ]
     },
     "execution_count": 15,
     "metadata": {},
     "output_type": "execute_result"
    }
   ],
   "source": [
    "len(missing_files)"
   ]
  },
  {
   "cell_type": "code",
   "execution_count": 16,
   "metadata": {},
   "outputs": [
    {
     "data": {
      "text/plain": [
       "['gs://project-canopy-temp-2/S2_CloudFree/full_congo_s2cloudless_3/1149_Feb_12_15_31_24_2021.tif',\n",
       " 'gs://project-canopy-temp-2/S2_CloudFree/full_congo_s2cloudless_3/1162_Feb_12_15_31_56_2021.tif',\n",
       " 'gs://project-canopy-temp-2/S2_CloudFree/full_congo_s2cloudless_3/116_Feb_10_19_35_51_2021.tif',\n",
       " 'gs://project-canopy-temp-2/S2_CloudFree/full_congo_s2cloudless_3/121_Feb_10_19_36_03_2021.tif',\n",
       " 'gs://project-canopy-temp-2/S2_CloudFree/full_congo_s2cloudless_3/1331_Feb_12_15_38_33_2021.tif',\n",
       " 'gs://project-canopy-temp-2/S2_CloudFree/full_congo_s2cloudless_3/1454_Feb_12_15_43_17_2021.tif',\n",
       " 'gs://project-canopy-temp-2/S2_CloudFree/full_congo_s2cloudless_3/1492_Feb_12_15_44_57_2021.tif',\n",
       " 'gs://project-canopy-temp-2/S2_CloudFree/full_congo_s2cloudless_3/1566_Feb_12_15_47_45_2021.tif',\n",
       " 'gs://project-canopy-temp-2/S2_CloudFree/full_congo_s2cloudless_3/156_Feb_10_19_37_22_2021.tif',\n",
       " 'gs://project-canopy-temp-2/S2_CloudFree/full_congo_s2cloudless_3/162_Feb_12_14_51_54_2021.tif',\n",
       " 'gs://project-canopy-temp-2/S2_CloudFree/full_congo_s2cloudless_3/1765_Feb_12_15_55_24_2021.tif',\n",
       " 'gs://project-canopy-temp-2/S2_CloudFree/full_congo_s2cloudless_3/1779_Feb_12_15_56_00_2021.tif',\n",
       " 'gs://project-canopy-temp-2/S2_CloudFree/full_congo_s2cloudless_3/1780_Feb_12_15_56_03_2021.tif',\n",
       " 'gs://project-canopy-temp-2/S2_CloudFree/full_congo_s2cloudless_3/1791_Feb_12_15_56_30_2021.tif',\n",
       " 'gs://project-canopy-temp-2/S2_CloudFree/full_congo_s2cloudless_3/1794_Feb_12_15_56_36_2021.tif',\n",
       " 'gs://project-canopy-temp-2/S2_CloudFree/full_congo_s2cloudless_3/179_Feb_12_14_52_37_2021.tif',\n",
       " 'gs://project-canopy-temp-2/S2_CloudFree/full_congo_s2cloudless_3/1817_Feb_12_15_57_33_2021.tif',\n",
       " 'gs://project-canopy-temp-2/S2_CloudFree/full_congo_s2cloudless_3/1826_Feb_12_15_57_54_2021.tif',\n",
       " 'gs://project-canopy-temp-2/S2_CloudFree/full_congo_s2cloudless_3/1927_Feb_12_16_01_44_2021.tif',\n",
       " 'gs://project-canopy-temp-2/S2_CloudFree/full_congo_s2cloudless_3/1939_Feb_12_16_02_13_2021.tif',\n",
       " 'gs://project-canopy-temp-2/S2_CloudFree/full_congo_s2cloudless_3/1964_Feb_12_16_03_11_2021.tif',\n",
       " 'gs://project-canopy-temp-2/S2_CloudFree/full_congo_s2cloudless_3/1983_Feb_12_16_03_55_2021.tif',\n",
       " 'gs://project-canopy-temp-2/S2_CloudFree/full_congo_s2cloudless_3/2004_Feb_12_16_04_45_2021.tif',\n",
       " 'gs://project-canopy-temp-2/S2_CloudFree/full_congo_s2cloudless_3/2079_Feb_12_16_07_40_2021.tif',\n",
       " 'gs://project-canopy-temp-2/S2_CloudFree/full_congo_s2cloudless_3/2105_Feb_12_16_08_40_2021.tif',\n",
       " 'gs://project-canopy-temp-2/S2_CloudFree/full_congo_s2cloudless_3/2128_Feb_12_16_09_35_2021.tif',\n",
       " 'gs://project-canopy-temp-2/S2_CloudFree/full_congo_s2cloudless_3/2160_Feb_12_16_10_50_2021.tif',\n",
       " 'gs://project-canopy-temp-2/S2_CloudFree/full_congo_s2cloudless_3/2207_Feb_12_16_12_38_2021.tif',\n",
       " 'gs://project-canopy-temp-2/S2_CloudFree/full_congo_s2cloudless_3/240_Feb_10_19_40_33_2021.tif',\n",
       " 'gs://project-canopy-temp-2/S2_CloudFree/full_congo_s2cloudless_3/242_Feb_12_14_55_10_2021.tif',\n",
       " 'gs://project-canopy-temp-2/S2_CloudFree/full_congo_s2cloudless_3/243_Feb_10_19_40_40_2021.tif',\n",
       " 'gs://project-canopy-temp-2/S2_CloudFree/full_congo_s2cloudless_3/249_Feb_10_19_40_54_2021.tif',\n",
       " 'gs://project-canopy-temp-2/S2_CloudFree/full_congo_s2cloudless_3/458_Feb_10_19_49_06_2021.tif',\n",
       " 'gs://project-canopy-temp-2/S2_CloudFree/full_congo_s2cloudless_3/54_Feb_10_19_33_26_2021.tif',\n",
       " 'gs://project-canopy-temp-2/S2_CloudFree/full_congo_s2cloudless_3/54_Feb_12_14_46_56_2021.tif',\n",
       " 'gs://project-canopy-temp-2/S2_CloudFree/full_congo_s2cloudless_3/550_Feb_12_15_07_43_2021.tif',\n",
       " 'gs://project-canopy-temp-2/S2_CloudFree/full_congo_s2cloudless_3/560_Feb_10_19_52_50_2021.tif',\n",
       " 'gs://project-canopy-temp-2/S2_CloudFree/full_congo_s2cloudless_3/563_Feb_12_15_08_12_2021.tif',\n",
       " 'gs://project-canopy-temp-2/S2_CloudFree/full_congo_s2cloudless_3/564_Feb_10_19_53_00_2021.tif',\n",
       " 'gs://project-canopy-temp-2/S2_CloudFree/full_congo_s2cloudless_3/569_Feb_12_15_08_27_2021.tif',\n",
       " 'gs://project-canopy-temp-2/S2_CloudFree/full_congo_s2cloudless_3/56_Feb_12_14_47_02_2021.tif',\n",
       " 'gs://project-canopy-temp-2/S2_CloudFree/full_congo_s2cloudless_3/696_Feb_12_15_13_47_2021.tif',\n",
       " 'gs://project-canopy-temp-2/S2_CloudFree/full_congo_s2cloudless_3/698_Feb_12_15_13_52_2021.tif',\n",
       " 'gs://project-canopy-temp-2/S2_CloudFree/full_congo_s2cloudless_3/746_Feb_12_15_15_52_2021.tif',\n",
       " 'gs://project-canopy-temp-2/S2_CloudFree/full_congo_s2cloudless_3/860_Feb_12_15_20_25_2021.tif',\n",
       " 'gs://project-canopy-temp-2/S2_CloudFree/full_congo_s2cloudless_3/899_Feb_12_15_21_52_2021.tif']"
      ]
     },
     "execution_count": 16,
     "metadata": {},
     "output_type": "execute_result"
    }
   ],
   "source": [
    "miss_f = ['gs://project-canopy-temp-2/S2_CloudFree/full_congo_s2cloudless_3/' + f for f in missing_files]\n",
    "\n",
    "miss_f"
   ]
  },
  {
   "cell_type": "code",
   "execution_count": 21,
   "metadata": {},
   "outputs": [],
   "source": [
    "import subprocess\n",
    "\n",
    "\n",
    "cloud_env = r\"C:\\Users\\David\\AppData\\Local\\Google\\Cloud SDK\\cloud_env.bat\"\n",
    "\n",
    "dest_folder = 'D:\\canopy_data\\missing_files'\n",
    "\n",
    "for uri in miss_f[2:]:\n",
    "    subprocess.run([cloud_env, '&&', 'gsutil', 'cp', uri, dest_folder])"
   ]
  },
  {
   "cell_type": "code",
   "execution_count": 22,
   "metadata": {},
   "outputs": [],
   "source": [
    "with open('fullbasin_aws.txt') as f:\n",
    "    aws_files = f.read().splitlines()"
   ]
  },
  {
   "cell_type": "code",
   "execution_count": 23,
   "metadata": {},
   "outputs": [
    {
     "data": {
      "text/plain": [
       "'100_Feb_10_19_35_12_2021.tif'"
      ]
     },
     "execution_count": 23,
     "metadata": {},
     "output_type": "execute_result"
    }
   ],
   "source": [
    "aws_f = [f.split(' ')[-1] for f in aws_files]\n",
    "\n",
    "aws_f[11]"
   ]
  },
  {
   "cell_type": "code",
   "execution_count": 24,
   "metadata": {},
   "outputs": [
    {
     "name": "stdout",
     "output_type": "stream",
     "text": [
      "3165\n",
      "3166\n"
     ]
    }
   ],
   "source": [
    "print(len(gcs_f))\n",
    "print(len(aws_f))"
   ]
  },
  {
   "cell_type": "code",
   "execution_count": 25,
   "metadata": {},
   "outputs": [],
   "source": [
    "missing_files = []\n",
    "\n",
    "for f in gcs_f:\n",
    "    if f not in aws_f:\n",
    "        missing_files.append(f)"
   ]
  },
  {
   "cell_type": "code",
   "execution_count": 26,
   "metadata": {},
   "outputs": [
    {
     "data": {
      "text/plain": [
       "[]"
      ]
     },
     "execution_count": 26,
     "metadata": {},
     "output_type": "execute_result"
    }
   ],
   "source": [
    "missing_files"
   ]
  },
  {
   "cell_type": "code",
   "execution_count": null,
   "metadata": {},
   "outputs": [],
   "source": []
  }
 ],
 "metadata": {
  "kernelspec": {
   "display_name": "aws",
   "language": "python",
   "name": "aws"
  },
  "language_info": {
   "codemirror_mode": {
    "name": "ipython",
    "version": 3
   },
   "file_extension": ".py",
   "mimetype": "text/x-python",
   "name": "python",
   "nbconvert_exporter": "python",
   "pygments_lexer": "ipython3",
   "version": "3.9.1"
  }
 },
 "nbformat": 4,
 "nbformat_minor": 4
}
