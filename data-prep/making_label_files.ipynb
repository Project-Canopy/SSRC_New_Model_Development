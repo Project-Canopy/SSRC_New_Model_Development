{
 "cells": [
  {
   "cell_type": "markdown",
   "metadata": {},
   "source": [
    "This notebook contains code that creates label files for the training, validation, and test data."
   ]
  },
  {
   "cell_type": "code",
   "execution_count": 1,
   "metadata": {},
   "outputs": [],
   "source": [
    "import boto3\n",
    "import pandas as pd"
   ]
  },
  {
   "cell_type": "markdown",
   "metadata": {},
   "source": [
    "## make dataframe of s3 filepaths"
   ]
  },
  {
   "cell_type": "code",
   "execution_count": 2,
   "metadata": {},
   "outputs": [
    {
     "name": "stdout",
     "output_type": "stream",
     "text": [
      "s3.Bucket(name='canopy-production-ml')\n"
     ]
    }
   ],
   "source": [
    "s3 = boto3.resource('s3')\n",
    "\n",
    "bucket_name = 'canopy-production-ml'\n",
    "\n",
    "pc_bucket = s3.Bucket(bucket_name)\n",
    "\n",
    "print(pc_bucket)"
   ]
  },
  {
   "cell_type": "code",
   "execution_count": 3,
   "metadata": {},
   "outputs": [
    {
     "data": {
      "text/plain": [
       "19989"
      ]
     },
     "execution_count": 3,
     "metadata": {},
     "output_type": "execute_result"
    }
   ],
   "source": [
    "# Get list of all chip geotiffs in a certain S3 folder\n",
    "\n",
    "unittest_chips = []\n",
    "\n",
    "unittest_uri = 'chips/model2_s2cloudless/training_v1/'\n",
    "\n",
    "for obj in pc_bucket.objects.all():\n",
    "    if unittest_uri in obj.key:\n",
    "        unittest_chips.append(obj.key)\n",
    "        \n",
    "len(unittest_chips)"
   ]
  },
  {
   "cell_type": "code",
   "execution_count": 4,
   "metadata": {},
   "outputs": [
    {
     "data": {
      "text/plain": [
       "'chips/model2_s2cloudless/training_v1/'"
      ]
     },
     "execution_count": 4,
     "metadata": {},
     "output_type": "execute_result"
    }
   ],
   "source": [
    "unittest_chips[0]"
   ]
  },
  {
   "cell_type": "code",
   "execution_count": 5,
   "metadata": {},
   "outputs": [
    {
     "data": {
      "text/plain": [
       "'chips/model2_s2cloudless/training_v1/DRC_train_multiclass_v1.csv'"
      ]
     },
     "execution_count": 5,
     "metadata": {},
     "output_type": "execute_result"
    }
   ],
   "source": [
    "unittest_chips[1]"
   ]
  },
  {
   "cell_type": "code",
   "execution_count": 15,
   "metadata": {},
   "outputs": [
    {
     "data": {
      "text/plain": [
       "'chips/model2_s2cloudless/training_v1/ISL/ISL-100-100-100_1000_1100-2020-12-15-2021-03-15.tif'"
      ]
     },
     "execution_count": 15,
     "metadata": {},
     "output_type": "execute_result"
    }
   ],
   "source": [
    "# Note that each chip is put in a folder according to the label that applies.\n",
    "# So since this chip is in the \"ISL\" folder, it's an ISL chip.\n",
    "# If more than one label applies, the chip will be in two different folders.\n",
    "\n",
    "unittest_chips[6]"
   ]
  },
  {
   "cell_type": "code",
   "execution_count": 16,
   "metadata": {},
   "outputs": [
    {
     "data": {
      "text/plain": [
       "['chips/model2_s2cloudless/training_v1/ISL/ISL',\n",
       " '100',\n",
       " '100',\n",
       " '100_1000_1100',\n",
       " '2020',\n",
       " '12',\n",
       " '15',\n",
       " '2021',\n",
       " '03',\n",
       " '15.tif']"
      ]
     },
     "execution_count": 16,
     "metadata": {},
     "output_type": "execute_result"
    }
   ],
   "source": [
    "c = unittest_chips[6]\n",
    "c.split('-')"
   ]
  },
  {
   "cell_type": "code",
   "execution_count": 4,
   "metadata": {},
   "outputs": [],
   "source": [
    "def get_filename(path):\n",
    "    split = path.split('/')\n",
    "    label = split[0]\n",
    "    filename = split[1]\n",
    "    if label == 'null': # Null chips have a different filename format from labeled chips\n",
    "        return filename[:-4]\n",
    "    else:\n",
    "        return filename.split('-')[2]"
   ]
  },
  {
   "cell_type": "code",
   "execution_count": 7,
   "metadata": {},
   "outputs": [
    {
     "data": {
      "text/plain": [
       "'csv'"
      ]
     },
     "execution_count": 7,
     "metadata": {},
     "output_type": "execute_result"
    }
   ],
   "source": [
    "unittest_chips[2][-3:]"
   ]
  },
  {
   "cell_type": "code",
   "execution_count": 11,
   "metadata": {},
   "outputs": [
    {
     "data": {
      "text/plain": [
       "['chips', 'model2_s2cloudless', 'training_v1', 'DRC_train_multilabel_v1.csv']"
      ]
     },
     "execution_count": 11,
     "metadata": {},
     "output_type": "execute_result"
    }
   ],
   "source": [
    "unittest_chips[2].split('/')"
   ]
  },
  {
   "cell_type": "code",
   "execution_count": 10,
   "metadata": {},
   "outputs": [
    {
     "data": {
      "text/plain": [
       "'ISL/ISL-100-100-100_1000_1100-2020-12-15-2021-03-15.tif'"
      ]
     },
     "execution_count": 10,
     "metadata": {},
     "output_type": "execute_result"
    }
   ],
   "source": [
    "('/').join(unittest_chips[2].split('/')[3:])"
   ]
  },
  {
   "cell_type": "code",
   "execution_count": 11,
   "metadata": {},
   "outputs": [
    {
     "data": {
      "text/plain": [
       "'null'"
      ]
     },
     "execution_count": 11,
     "metadata": {},
     "output_type": "execute_result"
    }
   ],
   "source": [
    "chip = unittest_chips[-1]\n",
    "\n",
    "split = chip.split('/')\n",
    "label = split[3]\n",
    "\n",
    "label"
   ]
  },
  {
   "cell_type": "code",
   "execution_count": 19,
   "metadata": {},
   "outputs": [
    {
     "data": {
      "text/plain": [
       "'chips/model2_s2cloudless/training_v1/null/99_900_600'"
      ]
     },
     "execution_count": 19,
     "metadata": {},
     "output_type": "execute_result"
    }
   ],
   "source": [
    "chip[:-4]"
   ]
  },
  {
   "cell_type": "code",
   "execution_count": 5,
   "metadata": {},
   "outputs": [],
   "source": [
    "def make_multiclass_dataframe(path_list):\n",
    "    \"\"\"\n",
    "    Makes a multiclass label dataframe out of a list of chips in S3.\n",
    "    path_list: List of S3 URLs\n",
    "    \"\"\"\n",
    "    data = {0: [], 1: [], 2: [], 3: [], 'paths': []} # Change number of keys depending on how many labels you have\n",
    "    for chip in unittest_chips:\n",
    "        if chip[-3:] == 'tif': # only put geotiffs in the dataframe\n",
    "            split = chip.split('/')\n",
    "            label = split[3]\n",
    "            # We're doing one-hot encoding\n",
    "            if label == 'ISL':\n",
    "                data[0].append(1) # First column represents ISL\n",
    "                data[1].append(0)\n",
    "                data[2].append(0)\n",
    "                data[3].append(0)\n",
    "            elif label == 'SAB':\n",
    "                data[1].append(1) # second column represents slash and burn\n",
    "                data[0].append(0)\n",
    "                data[2].append(0)\n",
    "                data[3].append(0)\n",
    "            elif label == 'industrial_agriculture':\n",
    "                data[2].append(1) # third column represents industrial ag\n",
    "                data[0].append(0)\n",
    "                data[1].append(0)\n",
    "                data[3].append(0)\n",
    "            elif label == 'null':\n",
    "                data[3].append(1) # fourth column represents the null class\n",
    "                data[0].append(0)\n",
    "                data[1].append(0)\n",
    "                data[2].append(0)\n",
    "            else:\n",
    "                raise ValueError('label error')\n",
    "                \n",
    "            path = ('/').join(chip.split('/')[3:])\n",
    "            data['paths'].append(path) # append URL\n",
    "    \n",
    "    df = pd.DataFrame(data=data)\n",
    "    \n",
    "    def get_filename(path):\n",
    "        split = path.split('/')\n",
    "        label = split[0]\n",
    "        filename = split[1]\n",
    "        if label == 'null':\n",
    "            return filename[:-4]\n",
    "        else:\n",
    "            return filename.split('-')[3]\n",
    "    \n",
    "    df['filenames'] = df['paths'].apply(get_filename) # get filenames\n",
    "    \n",
    "    # drop duplicate filenames (the same file can be in two different folders\n",
    "    # if both labels apply to it)\n",
    "    df = df.drop_duplicates(subset=['filenames'], ignore_index=True)\n",
    "    df = df.drop('filenames', axis=1)\n",
    "\n",
    "    return df"
   ]
  },
  {
   "cell_type": "code",
   "execution_count": 6,
   "metadata": {},
   "outputs": [
    {
     "name": "stdout",
     "output_type": "stream",
     "text": [
      "(19819, 5)\n"
     ]
    },
    {
     "data": {
      "text/html": [
       "<div>\n",
       "<style scoped>\n",
       "    .dataframe tbody tr th:only-of-type {\n",
       "        vertical-align: middle;\n",
       "    }\n",
       "\n",
       "    .dataframe tbody tr th {\n",
       "        vertical-align: top;\n",
       "    }\n",
       "\n",
       "    .dataframe thead th {\n",
       "        text-align: right;\n",
       "    }\n",
       "</style>\n",
       "<table border=\"1\" class=\"dataframe\">\n",
       "  <thead>\n",
       "    <tr style=\"text-align: right;\">\n",
       "      <th></th>\n",
       "      <th>0</th>\n",
       "      <th>1</th>\n",
       "      <th>2</th>\n",
       "      <th>3</th>\n",
       "      <th>paths</th>\n",
       "    </tr>\n",
       "  </thead>\n",
       "  <tbody>\n",
       "    <tr>\n",
       "      <th>0</th>\n",
       "      <td>1</td>\n",
       "      <td>0</td>\n",
       "      <td>0</td>\n",
       "      <td>0</td>\n",
       "      <td>ISL/ISL-100-100-100_1000_1100-2020-12-15-2021-...</td>\n",
       "    </tr>\n",
       "    <tr>\n",
       "      <th>1</th>\n",
       "      <td>1</td>\n",
       "      <td>0</td>\n",
       "      <td>0</td>\n",
       "      <td>0</td>\n",
       "      <td>ISL/ISL-100-100-100_1000_1500-2020-12-15-2021-...</td>\n",
       "    </tr>\n",
       "    <tr>\n",
       "      <th>2</th>\n",
       "      <td>1</td>\n",
       "      <td>0</td>\n",
       "      <td>0</td>\n",
       "      <td>0</td>\n",
       "      <td>ISL/ISL-100-100-100_1100_1000-2020-12-15-2021-...</td>\n",
       "    </tr>\n",
       "    <tr>\n",
       "      <th>3</th>\n",
       "      <td>1</td>\n",
       "      <td>0</td>\n",
       "      <td>0</td>\n",
       "      <td>0</td>\n",
       "      <td>ISL/ISL-100-100-100_1100_1100-2020-12-15-2021-...</td>\n",
       "    </tr>\n",
       "    <tr>\n",
       "      <th>4</th>\n",
       "      <td>1</td>\n",
       "      <td>0</td>\n",
       "      <td>0</td>\n",
       "      <td>0</td>\n",
       "      <td>ISL/ISL-100-100-100_1100_900-2020-12-15-2021-0...</td>\n",
       "    </tr>\n",
       "  </tbody>\n",
       "</table>\n",
       "</div>"
      ],
      "text/plain": [
       "   0  1  2  3                                              paths\n",
       "0  1  0  0  0  ISL/ISL-100-100-100_1000_1100-2020-12-15-2021-...\n",
       "1  1  0  0  0  ISL/ISL-100-100-100_1000_1500-2020-12-15-2021-...\n",
       "2  1  0  0  0  ISL/ISL-100-100-100_1100_1000-2020-12-15-2021-...\n",
       "3  1  0  0  0  ISL/ISL-100-100-100_1100_1100-2020-12-15-2021-...\n",
       "4  1  0  0  0  ISL/ISL-100-100-100_1100_900-2020-12-15-2021-0..."
      ]
     },
     "execution_count": 6,
     "metadata": {},
     "output_type": "execute_result"
    }
   ],
   "source": [
    "df = make_multiclass_dataframe(unittest_chips)\n",
    "\n",
    "print(df.shape)\n",
    "df.head()"
   ]
  },
  {
   "cell_type": "code",
   "execution_count": 7,
   "metadata": {},
   "outputs": [
    {
     "data": {
      "text/plain": [
       "Index([0, 1, 2, 3, 'paths'], dtype='object')"
      ]
     },
     "execution_count": 7,
     "metadata": {},
     "output_type": "execute_result"
    }
   ],
   "source": [
    "df.columns"
   ]
  },
  {
   "cell_type": "code",
   "execution_count": 15,
   "metadata": {},
   "outputs": [
    {
     "data": {
      "text/html": [
       "<div>\n",
       "<style scoped>\n",
       "    .dataframe tbody tr th:only-of-type {\n",
       "        vertical-align: middle;\n",
       "    }\n",
       "\n",
       "    .dataframe tbody tr th {\n",
       "        vertical-align: top;\n",
       "    }\n",
       "\n",
       "    .dataframe thead th {\n",
       "        text-align: right;\n",
       "    }\n",
       "</style>\n",
       "<table border=\"1\" class=\"dataframe\">\n",
       "  <thead>\n",
       "    <tr style=\"text-align: right;\">\n",
       "      <th></th>\n",
       "      <th>0</th>\n",
       "      <th>1</th>\n",
       "      <th>2</th>\n",
       "      <th>3</th>\n",
       "      <th>paths</th>\n",
       "      <th>4</th>\n",
       "    </tr>\n",
       "  </thead>\n",
       "  <tbody>\n",
       "    <tr>\n",
       "      <th>0</th>\n",
       "      <td>1</td>\n",
       "      <td>0</td>\n",
       "      <td>0</td>\n",
       "      <td>0</td>\n",
       "      <td>ISL/ISL-100-100-100_1000_1100-2020-12-15-2021-...</td>\n",
       "      <td>1</td>\n",
       "    </tr>\n",
       "    <tr>\n",
       "      <th>1</th>\n",
       "      <td>1</td>\n",
       "      <td>0</td>\n",
       "      <td>0</td>\n",
       "      <td>0</td>\n",
       "      <td>ISL/ISL-100-100-100_1000_1500-2020-12-15-2021-...</td>\n",
       "      <td>1</td>\n",
       "    </tr>\n",
       "    <tr>\n",
       "      <th>2</th>\n",
       "      <td>1</td>\n",
       "      <td>0</td>\n",
       "      <td>0</td>\n",
       "      <td>0</td>\n",
       "      <td>ISL/ISL-100-100-100_1100_1000-2020-12-15-2021-...</td>\n",
       "      <td>1</td>\n",
       "    </tr>\n",
       "    <tr>\n",
       "      <th>3</th>\n",
       "      <td>1</td>\n",
       "      <td>0</td>\n",
       "      <td>0</td>\n",
       "      <td>0</td>\n",
       "      <td>ISL/ISL-100-100-100_1100_1100-2020-12-15-2021-...</td>\n",
       "      <td>1</td>\n",
       "    </tr>\n",
       "    <tr>\n",
       "      <th>4</th>\n",
       "      <td>1</td>\n",
       "      <td>0</td>\n",
       "      <td>0</td>\n",
       "      <td>0</td>\n",
       "      <td>ISL/ISL-100-100-100_1100_900-2020-12-15-2021-0...</td>\n",
       "      <td>1</td>\n",
       "    </tr>\n",
       "  </tbody>\n",
       "</table>\n",
       "</div>"
      ],
      "text/plain": [
       "   0  1  2  3                                              paths  4\n",
       "0  1  0  0  0  ISL/ISL-100-100-100_1000_1100-2020-12-15-2021-...  1\n",
       "1  1  0  0  0  ISL/ISL-100-100-100_1000_1500-2020-12-15-2021-...  1\n",
       "2  1  0  0  0  ISL/ISL-100-100-100_1100_1000-2020-12-15-2021-...  1\n",
       "3  1  0  0  0  ISL/ISL-100-100-100_1100_1100-2020-12-15-2021-...  1\n",
       "4  1  0  0  0  ISL/ISL-100-100-100_1100_900-2020-12-15-2021-0...  1"
      ]
     },
     "execution_count": 15,
     "metadata": {},
     "output_type": "execute_result"
    }
   ],
   "source": [
    "# Make a new dataframe with just SAB and non-SAB labels\n",
    "df_sab = df.copy()\n",
    "df_sab[4] = df[1].apply(lambda x: 1 if x == 0 else 0) # non-SAB column\n",
    "df_sab.head()"
   ]
  },
  {
   "cell_type": "code",
   "execution_count": 16,
   "metadata": {},
   "outputs": [
    {
     "data": {
      "text/plain": [
       "0    16510\n",
       "1     3309\n",
       "Name: 1, dtype: int64"
      ]
     },
     "execution_count": 16,
     "metadata": {},
     "output_type": "execute_result"
    }
   ],
   "source": [
    "df_sab[1].value_counts()"
   ]
  },
  {
   "cell_type": "code",
   "execution_count": 17,
   "metadata": {},
   "outputs": [
    {
     "data": {
      "text/plain": [
       "1    16510\n",
       "0     3309\n",
       "Name: 4, dtype: int64"
      ]
     },
     "execution_count": 17,
     "metadata": {},
     "output_type": "execute_result"
    }
   ],
   "source": [
    "df_sab[4].value_counts()"
   ]
  },
  {
   "cell_type": "code",
   "execution_count": 18,
   "metadata": {},
   "outputs": [
    {
     "data": {
      "text/html": [
       "<div>\n",
       "<style scoped>\n",
       "    .dataframe tbody tr th:only-of-type {\n",
       "        vertical-align: middle;\n",
       "    }\n",
       "\n",
       "    .dataframe tbody tr th {\n",
       "        vertical-align: top;\n",
       "    }\n",
       "\n",
       "    .dataframe thead th {\n",
       "        text-align: right;\n",
       "    }\n",
       "</style>\n",
       "<table border=\"1\" class=\"dataframe\">\n",
       "  <thead>\n",
       "    <tr style=\"text-align: right;\">\n",
       "      <th></th>\n",
       "      <th>0</th>\n",
       "      <th>1</th>\n",
       "      <th>paths</th>\n",
       "    </tr>\n",
       "  </thead>\n",
       "  <tbody>\n",
       "    <tr>\n",
       "      <th>0</th>\n",
       "      <td>0</td>\n",
       "      <td>1</td>\n",
       "      <td>ISL/ISL-100-100-100_1000_1100-2020-12-15-2021-...</td>\n",
       "    </tr>\n",
       "    <tr>\n",
       "      <th>1</th>\n",
       "      <td>0</td>\n",
       "      <td>1</td>\n",
       "      <td>ISL/ISL-100-100-100_1000_1500-2020-12-15-2021-...</td>\n",
       "    </tr>\n",
       "    <tr>\n",
       "      <th>2</th>\n",
       "      <td>0</td>\n",
       "      <td>1</td>\n",
       "      <td>ISL/ISL-100-100-100_1100_1000-2020-12-15-2021-...</td>\n",
       "    </tr>\n",
       "    <tr>\n",
       "      <th>3</th>\n",
       "      <td>0</td>\n",
       "      <td>1</td>\n",
       "      <td>ISL/ISL-100-100-100_1100_1100-2020-12-15-2021-...</td>\n",
       "    </tr>\n",
       "    <tr>\n",
       "      <th>4</th>\n",
       "      <td>0</td>\n",
       "      <td>1</td>\n",
       "      <td>ISL/ISL-100-100-100_1100_900-2020-12-15-2021-0...</td>\n",
       "    </tr>\n",
       "  </tbody>\n",
       "</table>\n",
       "</div>"
      ],
      "text/plain": [
       "   0  1                                              paths\n",
       "0  0  1  ISL/ISL-100-100-100_1000_1100-2020-12-15-2021-...\n",
       "1  0  1  ISL/ISL-100-100-100_1000_1500-2020-12-15-2021-...\n",
       "2  0  1  ISL/ISL-100-100-100_1100_1000-2020-12-15-2021-...\n",
       "3  0  1  ISL/ISL-100-100-100_1100_1100-2020-12-15-2021-...\n",
       "4  0  1  ISL/ISL-100-100-100_1100_900-2020-12-15-2021-0..."
      ]
     },
     "execution_count": 18,
     "metadata": {},
     "output_type": "execute_result"
    }
   ],
   "source": [
    "df_sab = df_sab.drop([0,2,3], axis=1)\n",
    "df_sab = df_sab.rename(columns={1: 0, 4: 1})\n",
    "df_sab = df_sab[[0,1,'paths']]\n",
    "df_sab.head()"
   ]
  },
  {
   "cell_type": "code",
   "execution_count": null,
   "metadata": {},
   "outputs": [],
   "source": [
    "df_sab = df_sab.reset_index(drop=True)\n",
    "df_sab = df_sab.rename({})"
   ]
  },
  {
   "cell_type": "code",
   "execution_count": 14,
   "metadata": {},
   "outputs": [
    {
     "data": {
      "text/plain": [
       "(19819, 3)"
      ]
     },
     "execution_count": 14,
     "metadata": {},
     "output_type": "execute_result"
    }
   ],
   "source": [
    "df_sab.shape"
   ]
  },
  {
   "cell_type": "code",
   "execution_count": 28,
   "metadata": {},
   "outputs": [
    {
     "data": {
      "text/html": [
       "<div>\n",
       "<style scoped>\n",
       "    .dataframe tbody tr th:only-of-type {\n",
       "        vertical-align: middle;\n",
       "    }\n",
       "\n",
       "    .dataframe tbody tr th {\n",
       "        vertical-align: top;\n",
       "    }\n",
       "\n",
       "    .dataframe thead th {\n",
       "        text-align: right;\n",
       "    }\n",
       "</style>\n",
       "<table border=\"1\" class=\"dataframe\">\n",
       "  <thead>\n",
       "    <tr style=\"text-align: right;\">\n",
       "      <th></th>\n",
       "      <th>0</th>\n",
       "      <th>1</th>\n",
       "      <th>2</th>\n",
       "      <th>3</th>\n",
       "      <th>paths</th>\n",
       "    </tr>\n",
       "  </thead>\n",
       "  <tbody>\n",
       "    <tr>\n",
       "      <th>19814</th>\n",
       "      <td>0</td>\n",
       "      <td>0</td>\n",
       "      <td>0</td>\n",
       "      <td>1</td>\n",
       "      <td>null/99_900_2000.tif</td>\n",
       "    </tr>\n",
       "    <tr>\n",
       "      <th>19815</th>\n",
       "      <td>0</td>\n",
       "      <td>0</td>\n",
       "      <td>0</td>\n",
       "      <td>1</td>\n",
       "      <td>null/99_900_2100.tif</td>\n",
       "    </tr>\n",
       "    <tr>\n",
       "      <th>19816</th>\n",
       "      <td>0</td>\n",
       "      <td>0</td>\n",
       "      <td>0</td>\n",
       "      <td>1</td>\n",
       "      <td>null/99_900_2200.tif</td>\n",
       "    </tr>\n",
       "    <tr>\n",
       "      <th>19817</th>\n",
       "      <td>0</td>\n",
       "      <td>0</td>\n",
       "      <td>0</td>\n",
       "      <td>1</td>\n",
       "      <td>null/99_900_300.tif</td>\n",
       "    </tr>\n",
       "    <tr>\n",
       "      <th>19818</th>\n",
       "      <td>0</td>\n",
       "      <td>0</td>\n",
       "      <td>0</td>\n",
       "      <td>1</td>\n",
       "      <td>null/99_900_600.tif</td>\n",
       "    </tr>\n",
       "  </tbody>\n",
       "</table>\n",
       "</div>"
      ],
      "text/plain": [
       "       0  1  2  3                 paths\n",
       "19814  0  0  0  1  null/99_900_2000.tif\n",
       "19815  0  0  0  1  null/99_900_2100.tif\n",
       "19816  0  0  0  1  null/99_900_2200.tif\n",
       "19817  0  0  0  1   null/99_900_300.tif\n",
       "19818  0  0  0  1   null/99_900_600.tif"
      ]
     },
     "execution_count": 28,
     "metadata": {},
     "output_type": "execute_result"
    }
   ],
   "source": [
    "df.tail()"
   ]
  },
  {
   "cell_type": "code",
   "execution_count": 29,
   "metadata": {},
   "outputs": [],
   "source": [
    "# Saving the non-SAB dataframe as a CSV\n",
    "df.to_csv('DRC_labels_multiclass_v2_unbalanced.csv', index=None, header=True)"
   ]
  },
  {
   "cell_type": "code",
   "execution_count": 30,
   "metadata": {},
   "outputs": [
    {
     "data": {
      "text/plain": [
       "(19819, 5)"
      ]
     },
     "execution_count": 30,
     "metadata": {},
     "output_type": "execute_result"
    }
   ],
   "source": [
    "# Create train, val, and test files\n",
    "df_shuffled = df.sample(frac=1)\n",
    "df_shuffled = df_shuffled.reset_index(drop=True)\n",
    "df_shuffled.shape"
   ]
  },
  {
   "cell_type": "code",
   "execution_count": 31,
   "metadata": {},
   "outputs": [
    {
     "data": {
      "text/plain": [
       "19819"
      ]
     },
     "execution_count": 31,
     "metadata": {},
     "output_type": "execute_result"
    }
   ],
   "source": [
    "total = df_shuffled.shape[0]\n",
    "\n",
    "train_size = round(total * .6)\n",
    "val_test_size = round(total * .2)\n",
    "\n",
    "train_size + val_test_size * 2"
   ]
  },
  {
   "cell_type": "code",
   "execution_count": 32,
   "metadata": {},
   "outputs": [
    {
     "name": "stdout",
     "output_type": "stream",
     "text": [
      "(11891, 5) (3964, 5) (3964, 5)\n"
     ]
    }
   ],
   "source": [
    "df_train = df_shuffled[:train_size]\n",
    "df_val = df_shuffled[train_size:train_size+val_test_size]\n",
    "df_test = df_shuffled[train_size+val_test_size:]\n",
    "\n",
    "print(df_train.shape, df_val.shape, df_test.shape)"
   ]
  },
  {
   "cell_type": "code",
   "execution_count": 33,
   "metadata": {},
   "outputs": [],
   "source": [
    "df_train.to_csv('DRC_labels_multiclass_v2_train.csv', index=None, header=True)\n",
    "df_val = df_val.reset_index(drop=True)\n",
    "df_val.to_csv('DRC_labels_multiclass_v2_val.csv', index=None, header=True)\n",
    "df_test = df_test.reset_index(drop=True)\n",
    "df_test.to_csv('DRC_labels_multiclass_v2_test.csv', index=None, header=True)"
   ]
  },
  {
   "cell_type": "code",
   "execution_count": 34,
   "metadata": {},
   "outputs": [
    {
     "data": {
      "text/html": [
       "<div>\n",
       "<style scoped>\n",
       "    .dataframe tbody tr th:only-of-type {\n",
       "        vertical-align: middle;\n",
       "    }\n",
       "\n",
       "    .dataframe tbody tr th {\n",
       "        vertical-align: top;\n",
       "    }\n",
       "\n",
       "    .dataframe thead th {\n",
       "        text-align: right;\n",
       "    }\n",
       "</style>\n",
       "<table border=\"1\" class=\"dataframe\">\n",
       "  <thead>\n",
       "    <tr style=\"text-align: right;\">\n",
       "      <th></th>\n",
       "      <th>0</th>\n",
       "      <th>1</th>\n",
       "      <th>2</th>\n",
       "      <th>3</th>\n",
       "      <th>paths</th>\n",
       "    </tr>\n",
       "  </thead>\n",
       "  <tbody>\n",
       "    <tr>\n",
       "      <th>0</th>\n",
       "      <td>0</td>\n",
       "      <td>0</td>\n",
       "      <td>0</td>\n",
       "      <td>1</td>\n",
       "      <td>null/81_8100_10900.tif</td>\n",
       "    </tr>\n",
       "    <tr>\n",
       "      <th>1</th>\n",
       "      <td>0</td>\n",
       "      <td>0</td>\n",
       "      <td>0</td>\n",
       "      <td>1</td>\n",
       "      <td>null/81_6900_10900.tif</td>\n",
       "    </tr>\n",
       "    <tr>\n",
       "      <th>2</th>\n",
       "      <td>0</td>\n",
       "      <td>0</td>\n",
       "      <td>0</td>\n",
       "      <td>1</td>\n",
       "      <td>null/81_3100_8400.tif</td>\n",
       "    </tr>\n",
       "    <tr>\n",
       "      <th>3</th>\n",
       "      <td>0</td>\n",
       "      <td>1</td>\n",
       "      <td>0</td>\n",
       "      <td>0</td>\n",
       "      <td>SAB/Shifting_cultivation-100-92-92_2500_2600-2...</td>\n",
       "    </tr>\n",
       "    <tr>\n",
       "      <th>4</th>\n",
       "      <td>0</td>\n",
       "      <td>0</td>\n",
       "      <td>0</td>\n",
       "      <td>1</td>\n",
       "      <td>null/50_2700_2400.tif</td>\n",
       "    </tr>\n",
       "  </tbody>\n",
       "</table>\n",
       "</div>"
      ],
      "text/plain": [
       "   0  1  2  3                                              paths\n",
       "0  0  0  0  1                             null/81_8100_10900.tif\n",
       "1  0  0  0  1                             null/81_6900_10900.tif\n",
       "2  0  0  0  1                              null/81_3100_8400.tif\n",
       "3  0  1  0  0  SAB/Shifting_cultivation-100-92-92_2500_2600-2...\n",
       "4  0  0  0  1                              null/50_2700_2400.tif"
      ]
     },
     "execution_count": 34,
     "metadata": {},
     "output_type": "execute_result"
    }
   ],
   "source": [
    "df_train.head()"
   ]
  },
  {
   "cell_type": "code",
   "execution_count": 35,
   "metadata": {},
   "outputs": [
    {
     "data": {
      "text/html": [
       "<div>\n",
       "<style scoped>\n",
       "    .dataframe tbody tr th:only-of-type {\n",
       "        vertical-align: middle;\n",
       "    }\n",
       "\n",
       "    .dataframe tbody tr th {\n",
       "        vertical-align: top;\n",
       "    }\n",
       "\n",
       "    .dataframe thead th {\n",
       "        text-align: right;\n",
       "    }\n",
       "</style>\n",
       "<table border=\"1\" class=\"dataframe\">\n",
       "  <thead>\n",
       "    <tr style=\"text-align: right;\">\n",
       "      <th></th>\n",
       "      <th>0</th>\n",
       "      <th>1</th>\n",
       "      <th>2</th>\n",
       "      <th>3</th>\n",
       "      <th>paths</th>\n",
       "    </tr>\n",
       "  </thead>\n",
       "  <tbody>\n",
       "    <tr>\n",
       "      <th>0</th>\n",
       "      <td>0</td>\n",
       "      <td>0</td>\n",
       "      <td>0</td>\n",
       "      <td>1</td>\n",
       "      <td>null/60_100_8600.tif</td>\n",
       "    </tr>\n",
       "    <tr>\n",
       "      <th>1</th>\n",
       "      <td>0</td>\n",
       "      <td>0</td>\n",
       "      <td>0</td>\n",
       "      <td>1</td>\n",
       "      <td>null/92_4600_4000.tif</td>\n",
       "    </tr>\n",
       "    <tr>\n",
       "      <th>2</th>\n",
       "      <td>0</td>\n",
       "      <td>0</td>\n",
       "      <td>0</td>\n",
       "      <td>1</td>\n",
       "      <td>null/81_7400_2700.tif</td>\n",
       "    </tr>\n",
       "    <tr>\n",
       "      <th>3</th>\n",
       "      <td>0</td>\n",
       "      <td>0</td>\n",
       "      <td>0</td>\n",
       "      <td>1</td>\n",
       "      <td>null/81_2700_7000.tif</td>\n",
       "    </tr>\n",
       "    <tr>\n",
       "      <th>4</th>\n",
       "      <td>0</td>\n",
       "      <td>1</td>\n",
       "      <td>0</td>\n",
       "      <td>0</td>\n",
       "      <td>SAB/Shifting_cultivation-100-52-52_2000_2200-2...</td>\n",
       "    </tr>\n",
       "  </tbody>\n",
       "</table>\n",
       "</div>"
      ],
      "text/plain": [
       "   0  1  2  3                                              paths\n",
       "0  0  0  0  1                               null/60_100_8600.tif\n",
       "1  0  0  0  1                              null/92_4600_4000.tif\n",
       "2  0  0  0  1                              null/81_7400_2700.tif\n",
       "3  0  0  0  1                              null/81_2700_7000.tif\n",
       "4  0  1  0  0  SAB/Shifting_cultivation-100-52-52_2000_2200-2..."
      ]
     },
     "execution_count": 35,
     "metadata": {},
     "output_type": "execute_result"
    }
   ],
   "source": [
    "df_val.head()"
   ]
  },
  {
   "cell_type": "code",
   "execution_count": 36,
   "metadata": {},
   "outputs": [
    {
     "data": {
      "text/html": [
       "<div>\n",
       "<style scoped>\n",
       "    .dataframe tbody tr th:only-of-type {\n",
       "        vertical-align: middle;\n",
       "    }\n",
       "\n",
       "    .dataframe tbody tr th {\n",
       "        vertical-align: top;\n",
       "    }\n",
       "\n",
       "    .dataframe thead th {\n",
       "        text-align: right;\n",
       "    }\n",
       "</style>\n",
       "<table border=\"1\" class=\"dataframe\">\n",
       "  <thead>\n",
       "    <tr style=\"text-align: right;\">\n",
       "      <th></th>\n",
       "      <th>0</th>\n",
       "      <th>1</th>\n",
       "      <th>2</th>\n",
       "      <th>3</th>\n",
       "      <th>paths</th>\n",
       "    </tr>\n",
       "  </thead>\n",
       "  <tbody>\n",
       "    <tr>\n",
       "      <th>0</th>\n",
       "      <td>0</td>\n",
       "      <td>0</td>\n",
       "      <td>0</td>\n",
       "      <td>1</td>\n",
       "      <td>null/60_200_6400.tif</td>\n",
       "    </tr>\n",
       "    <tr>\n",
       "      <th>1</th>\n",
       "      <td>0</td>\n",
       "      <td>1</td>\n",
       "      <td>0</td>\n",
       "      <td>0</td>\n",
       "      <td>SAB/Shifting_cultivation-100-81-81_4900_12000-...</td>\n",
       "    </tr>\n",
       "    <tr>\n",
       "      <th>2</th>\n",
       "      <td>0</td>\n",
       "      <td>1</td>\n",
       "      <td>0</td>\n",
       "      <td>0</td>\n",
       "      <td>SAB/Shifting_cultivation-100-92-92_6300_3300-2...</td>\n",
       "    </tr>\n",
       "    <tr>\n",
       "      <th>3</th>\n",
       "      <td>0</td>\n",
       "      <td>1</td>\n",
       "      <td>0</td>\n",
       "      <td>0</td>\n",
       "      <td>SAB/Shifting_cultivation-100-81-81_3400_8400-2...</td>\n",
       "    </tr>\n",
       "    <tr>\n",
       "      <th>4</th>\n",
       "      <td>0</td>\n",
       "      <td>0</td>\n",
       "      <td>0</td>\n",
       "      <td>1</td>\n",
       "      <td>null/67_1900_6000.tif</td>\n",
       "    </tr>\n",
       "  </tbody>\n",
       "</table>\n",
       "</div>"
      ],
      "text/plain": [
       "   0  1  2  3                                              paths\n",
       "0  0  0  0  1                               null/60_200_6400.tif\n",
       "1  0  1  0  0  SAB/Shifting_cultivation-100-81-81_4900_12000-...\n",
       "2  0  1  0  0  SAB/Shifting_cultivation-100-92-92_6300_3300-2...\n",
       "3  0  1  0  0  SAB/Shifting_cultivation-100-81-81_3400_8400-2...\n",
       "4  0  0  0  1                              null/67_1900_6000.tif"
      ]
     },
     "execution_count": 36,
     "metadata": {},
     "output_type": "execute_result"
    }
   ],
   "source": [
    "df_test.head()"
   ]
  },
  {
   "cell_type": "code",
   "execution_count": 29,
   "metadata": {},
   "outputs": [],
   "source": [
    "def make_multilabel_dataframe(path_list):\n",
    "    \"\"\"\n",
    "    Makes a multilabel label dataframe out of a list of chips in S3.\n",
    "    path_list: List of S3 URLs\n",
    "    \"\"\"\n",
    "    data = {0: [], 1: [], 2: [], 'paths': []} # Change number of keys depending on how many labels you want\n",
    "    for chip in unittest_chips:\n",
    "        if chip[-3:] == 'tif': # only put geotiffs in the dataframe\n",
    "            split = chip.split('/')\n",
    "            label = split[3]\n",
    "            # we're doing one-hot encoding\n",
    "            if label == 'ISL':\n",
    "                data[0].append(1) # first column represents ISL\n",
    "                data[1].append(0)\n",
    "                data[2].append(0)\n",
    "            elif label == 'SAB':\n",
    "                data[1].append(1) # second column represents slash and burn\n",
    "                data[0].append(0)\n",
    "                data[2].append(0)\n",
    "            elif label == 'industrial_agriculture':\n",
    "                data[2].append(1) # third column represents industrial ag\n",
    "                data[0].append(0)\n",
    "                data[1].append(0)\n",
    "            elif label == 'null':\n",
    "                # if it's a null label, all label columns are zero\n",
    "                data[0].append(0) \n",
    "                data[1].append(0)\n",
    "                data[2].append(0)\n",
    "            else:\n",
    "                raise ValueError('label error')\n",
    "                \n",
    "            path = ('/').join(chip.split('/')[3:])\n",
    "            data['paths'].append(path)\n",
    "    \n",
    "    df = pd.DataFrame(data=data)\n",
    "  \n",
    "    def get_filename(path):\n",
    "        split = path.split('/')\n",
    "        filename = split[-1]\n",
    "        split2 = filename.split('-')\n",
    "        neutral_name = ('-').join(split2[1:])\n",
    "        return neutral_name\n",
    "    \n",
    "    df['filenames'] = df['paths'].apply(get_filename)\n",
    "    \n",
    "    df2 = df.copy()\n",
    "    df2 = df2.groupby('filenames').sum().reset_index()\n",
    "    new_paths = []\n",
    "    for filename in df2['filenames']:\n",
    "        for i in range(len(df)):\n",
    "            if df['filenames'][i] == filename:\n",
    "                new_paths.append(df['paths'][i])\n",
    "                break\n",
    "                \n",
    "    df2['paths'] = new_paths\n",
    "    df2 = df2.drop(['filenames'], axis=1)\n",
    "    df2 = df2[[0, 1, 2, 'paths']]\n",
    "\n",
    "    return df2"
   ]
  },
  {
   "cell_type": "code",
   "execution_count": 30,
   "metadata": {},
   "outputs": [
    {
     "data": {
      "text/html": [
       "<div>\n",
       "<style scoped>\n",
       "    .dataframe tbody tr th:only-of-type {\n",
       "        vertical-align: middle;\n",
       "    }\n",
       "\n",
       "    .dataframe tbody tr th {\n",
       "        vertical-align: top;\n",
       "    }\n",
       "\n",
       "    .dataframe thead th {\n",
       "        text-align: right;\n",
       "    }\n",
       "</style>\n",
       "<table border=\"1\" class=\"dataframe\">\n",
       "  <thead>\n",
       "    <tr style=\"text-align: right;\">\n",
       "      <th></th>\n",
       "      <th>0</th>\n",
       "      <th>1</th>\n",
       "      <th>2</th>\n",
       "      <th>paths</th>\n",
       "    </tr>\n",
       "  </thead>\n",
       "  <tbody>\n",
       "    <tr>\n",
       "      <th>0</th>\n",
       "      <td>1</td>\n",
       "      <td>0</td>\n",
       "      <td>0</td>\n",
       "      <td>ISL/ISL-100-100-100_1000_1100-2020-12-15-2021-...</td>\n",
       "    </tr>\n",
       "    <tr>\n",
       "      <th>1</th>\n",
       "      <td>1</td>\n",
       "      <td>0</td>\n",
       "      <td>0</td>\n",
       "      <td>ISL/ISL-100-100-100_1000_1500-2020-12-15-2021-...</td>\n",
       "    </tr>\n",
       "    <tr>\n",
       "      <th>2</th>\n",
       "      <td>1</td>\n",
       "      <td>0</td>\n",
       "      <td>0</td>\n",
       "      <td>ISL/ISL-100-100-100_1100_1000-2020-12-15-2021-...</td>\n",
       "    </tr>\n",
       "    <tr>\n",
       "      <th>3</th>\n",
       "      <td>1</td>\n",
       "      <td>0</td>\n",
       "      <td>0</td>\n",
       "      <td>ISL/ISL-100-100-100_1100_1100-2020-12-15-2021-...</td>\n",
       "    </tr>\n",
       "    <tr>\n",
       "      <th>4</th>\n",
       "      <td>1</td>\n",
       "      <td>0</td>\n",
       "      <td>0</td>\n",
       "      <td>ISL/ISL-100-100-100_1100_900-2020-12-15-2021-0...</td>\n",
       "    </tr>\n",
       "  </tbody>\n",
       "</table>\n",
       "</div>"
      ],
      "text/plain": [
       "   0  1  2                                              paths\n",
       "0  1  0  0  ISL/ISL-100-100-100_1000_1100-2020-12-15-2021-...\n",
       "1  1  0  0  ISL/ISL-100-100-100_1000_1500-2020-12-15-2021-...\n",
       "2  1  0  0  ISL/ISL-100-100-100_1100_1000-2020-12-15-2021-...\n",
       "3  1  0  0  ISL/ISL-100-100-100_1100_1100-2020-12-15-2021-...\n",
       "4  1  0  0  ISL/ISL-100-100-100_1100_900-2020-12-15-2021-0..."
      ]
     },
     "execution_count": 30,
     "metadata": {},
     "output_type": "execute_result"
    }
   ],
   "source": [
    "df2 = make_multilabel_dataframe(unittest_chips)\n",
    "\n",
    "df2.head()"
   ]
  },
  {
   "cell_type": "code",
   "execution_count": 40,
   "metadata": {},
   "outputs": [],
   "source": [
    "assert df.shape[0] == df2.shape[0]"
   ]
  },
  {
   "cell_type": "code",
   "execution_count": 32,
   "metadata": {},
   "outputs": [
    {
     "data": {
      "text/plain": [
       "(4135, 4)"
      ]
     },
     "execution_count": 32,
     "metadata": {},
     "output_type": "execute_result"
    }
   ],
   "source": [
    "df2.shape"
   ]
  },
  {
   "cell_type": "code",
   "execution_count": 33,
   "metadata": {},
   "outputs": [
    {
     "data": {
      "text/plain": [
       "SAB/Shifting_cultivation-100-81-81_5800_3600-2019-12-01-2020-02-29.tif      1\n",
       "SAB/Shifting_cultivation-100-81-81_8000_5900-2019-12-01-2020-02-29.tif      1\n",
       "SAB/Shifting_cultivation-100-56-56_600_1000-2019-12-01-2020-02-29.tif       1\n",
       "SAB/Shifting_cultivation-100-101-101_2300_3500-2019-12-01-2020-02-29.tif    1\n",
       "SAB/Shifting_cultivation-100-81-81_3100_8700-2019-12-01-2020-02-29.tif      1\n",
       "                                                                           ..\n",
       "SAB/Shifting_cultivation-100-101-101_1000_800-2019-12-01-2020-02-29.tif     1\n",
       "SAB/Shifting_cultivation-100-81-81_5200_11800-2019-12-01-2020-02-29.tif     1\n",
       "SAB/Shifting_cultivation-100-56-56_1100_2700-2019-12-01-2020-02-29.tif      1\n",
       "SAB/Shifting_cultivation-100-52-52_2000_1800-2019-12-01-2020-02-29.tif      1\n",
       "ISL/ISL-100-73-73_400_300-2019-12-13-2020-03-12.tif                         1\n",
       "Name: paths, Length: 4135, dtype: int64"
      ]
     },
     "execution_count": 33,
     "metadata": {},
     "output_type": "execute_result"
    }
   ],
   "source": [
    "df2['paths'].value_counts()"
   ]
  },
  {
   "cell_type": "code",
   "execution_count": 35,
   "metadata": {},
   "outputs": [],
   "source": [
    "df2_shuffle = df2.sample(frac=1)\n",
    "df2_shuffle = df2_shuffle.reset_index(drop=True)\n",
    "\n",
    "df2_train = df2_shuffle.loc[0:2480]\n",
    "df2_val = df2_shuffle.loc[2481:2481+826]\n",
    "df2_test = df2_shuffle.loc[2481+826:2481+826*2+1]\n",
    "\n",
    "df_to_csv(df2_train, 'train_multilabel_full.csv')\n",
    "df_to_csv(df2_val, 'val_multilabel_full.csv')\n",
    "df_to_csv(df2_test, 'test_multilabel_full.csv')"
   ]
  },
  {
   "cell_type": "code",
   "execution_count": 41,
   "metadata": {},
   "outputs": [],
   "source": [
    "df.to_csv('DRC_labels_multiclass_v1.csv', index=None, header=True)\n",
    "\n",
    "df2.to_csv('DRC_labels_multilabel_v1.csv', index=None, header=True)"
   ]
  },
  {
   "cell_type": "code",
   "execution_count": 42,
   "metadata": {},
   "outputs": [],
   "source": [
    "df_sample_train = df.sample(n=6)\n",
    "df_sample_val = df.sample(n=2)\n",
    "df2_sample_train = df2.sample(n=6)\n",
    "df2_sample_val = df2.sample(n=2)"
   ]
  },
  {
   "cell_type": "code",
   "execution_count": null,
   "metadata": {},
   "outputs": [],
   "source": [
    "def df_to_csv(df, filename):\n",
    "    df.to_csv(filename + '.csv', index=None, header=True)\n",
    "    \n",
    "df_to_csv(df_sample_train, 'DRC_train_multiclass_v1')\n",
    "df_to_csv(df_sample_val, 'DRC_val_multiclass_v1')\n",
    "df_to_csv(df2_sample_val, 'DRC_train_multilabel_v1')\n",
    "df_to_csv(df)"
   ]
  },
  {
   "cell_type": "code",
   "execution_count": 24,
   "metadata": {},
   "outputs": [
    {
     "data": {
      "text/html": [
       "<div>\n",
       "<style scoped>\n",
       "    .dataframe tbody tr th:only-of-type {\n",
       "        vertical-align: middle;\n",
       "    }\n",
       "\n",
       "    .dataframe tbody tr th {\n",
       "        vertical-align: top;\n",
       "    }\n",
       "\n",
       "    .dataframe thead th {\n",
       "        text-align: right;\n",
       "    }\n",
       "</style>\n",
       "<table border=\"1\" class=\"dataframe\">\n",
       "  <thead>\n",
       "    <tr style=\"text-align: right;\">\n",
       "      <th></th>\n",
       "      <th>0</th>\n",
       "      <th>paths</th>\n",
       "      <th>filenames</th>\n",
       "    </tr>\n",
       "  </thead>\n",
       "  <tbody>\n",
       "    <tr>\n",
       "      <th>0</th>\n",
       "      <td>1</td>\n",
       "      <td>ISL/ISL-100-100-100_1000_1100-2020-12-15-2021-...</td>\n",
       "      <td>100-100-100_1000_1100-2020-12-15-2021-03-15.tif</td>\n",
       "    </tr>\n",
       "    <tr>\n",
       "      <th>1</th>\n",
       "      <td>1</td>\n",
       "      <td>ISL/ISL-100-100-100_1000_1500-2020-12-15-2021-...</td>\n",
       "      <td>100-100-100_1000_1500-2020-12-15-2021-03-15.tif</td>\n",
       "    </tr>\n",
       "    <tr>\n",
       "      <th>2</th>\n",
       "      <td>1</td>\n",
       "      <td>ISL/ISL-100-100-100_1100_1000-2020-12-15-2021-...</td>\n",
       "      <td>100-100-100_1100_1000-2020-12-15-2021-03-15.tif</td>\n",
       "    </tr>\n",
       "    <tr>\n",
       "      <th>3</th>\n",
       "      <td>1</td>\n",
       "      <td>ISL/ISL-100-100-100_1100_1100-2020-12-15-2021-...</td>\n",
       "      <td>100-100-100_1100_1100-2020-12-15-2021-03-15.tif</td>\n",
       "    </tr>\n",
       "    <tr>\n",
       "      <th>4</th>\n",
       "      <td>1</td>\n",
       "      <td>ISL/ISL-100-100-100_1100_900-2020-12-15-2021-0...</td>\n",
       "      <td>100-100-100_1100_900-2020-12-15-2021-03-15.tif</td>\n",
       "    </tr>\n",
       "  </tbody>\n",
       "</table>\n",
       "</div>"
      ],
      "text/plain": [
       "   0                                              paths  \\\n",
       "0  1  ISL/ISL-100-100-100_1000_1100-2020-12-15-2021-...   \n",
       "1  1  ISL/ISL-100-100-100_1000_1500-2020-12-15-2021-...   \n",
       "2  1  ISL/ISL-100-100-100_1100_1000-2020-12-15-2021-...   \n",
       "3  1  ISL/ISL-100-100-100_1100_1100-2020-12-15-2021-...   \n",
       "4  1  ISL/ISL-100-100-100_1100_900-2020-12-15-2021-0...   \n",
       "\n",
       "                                         filenames  \n",
       "0  100-100-100_1000_1100-2020-12-15-2021-03-15.tif  \n",
       "1  100-100-100_1000_1500-2020-12-15-2021-03-15.tif  \n",
       "2  100-100-100_1100_1000-2020-12-15-2021-03-15.tif  \n",
       "3  100-100-100_1100_1100-2020-12-15-2021-03-15.tif  \n",
       "4   100-100-100_1100_900-2020-12-15-2021-03-15.tif  "
      ]
     },
     "execution_count": 24,
     "metadata": {},
     "output_type": "execute_result"
    }
   ],
   "source": [
    "df3 = df.copy()\n",
    "def get_filename(path):\n",
    "    split = path.split('/')\n",
    "    filename = split[-1]\n",
    "    split2 = filename.split('-')\n",
    "    neutral_name = ('-').join(split2[1:])\n",
    "    return neutral_name\n",
    "\n",
    "df3['filenames'] = df3['paths'].apply(get_filename)\n",
    "\n",
    "df3.head()"
   ]
  },
  {
   "cell_type": "code",
   "execution_count": 25,
   "metadata": {},
   "outputs": [
    {
     "data": {
      "text/plain": [
       "100-52-52_1400_2900-2020-12-15-2021-03-15.tif     1\n",
       "100-81-81_6600_1700-2019-12-01-2020-02-29.tif     1\n",
       "100-52-52_1200_3500-2019-12-01-2020-02-29.tif     1\n",
       "100-81-81_5800_3400-2019-12-01-2020-02-29.tif     1\n",
       "100-92-92_4900_3000-2019-12-01-2020-02-29.tif     1\n",
       "                                                 ..\n",
       "100-81-81_7800_5800-2019-12-01-2020-02-29.tif     1\n",
       "100-49-49_800_2600-2019-12-01-2020-02-29.tif      1\n",
       "100-82-82_1300_2100-2020-12-15-2021-03-15.tif     1\n",
       "100-81-81_5100_10300-2019-12-01-2020-02-29.tif    1\n",
       "100-81-81_5300_10800-2019-12-01-2020-02-29.tif    1\n",
       "Name: filenames, Length: 4135, dtype: int64"
      ]
     },
     "execution_count": 25,
     "metadata": {},
     "output_type": "execute_result"
    }
   ],
   "source": [
    "df3['filenames'].value_counts()"
   ]
  },
  {
   "cell_type": "code",
   "execution_count": 28,
   "metadata": {},
   "outputs": [],
   "source": [
    "df4 = df2.copy()\n",
    "df4['filenames'] = df2['paths'].apply(get_filename)\n",
    "\n",
    "df4 = df4.groupby('filenames').sum().reset_index()"
   ]
  },
  {
   "cell_type": "code",
   "execution_count": 29,
   "metadata": {},
   "outputs": [
    {
     "data": {
      "text/html": [
       "<div>\n",
       "<style scoped>\n",
       "    .dataframe tbody tr th:only-of-type {\n",
       "        vertical-align: middle;\n",
       "    }\n",
       "\n",
       "    .dataframe tbody tr th {\n",
       "        vertical-align: top;\n",
       "    }\n",
       "\n",
       "    .dataframe thead th {\n",
       "        text-align: right;\n",
       "    }\n",
       "</style>\n",
       "<table border=\"1\" class=\"dataframe\">\n",
       "  <thead>\n",
       "    <tr style=\"text-align: right;\">\n",
       "      <th></th>\n",
       "      <th>filenames</th>\n",
       "      <th>0</th>\n",
       "      <th>1</th>\n",
       "      <th>2</th>\n",
       "    </tr>\n",
       "  </thead>\n",
       "  <tbody>\n",
       "    <tr>\n",
       "      <th>0</th>\n",
       "      <td>100-100-100_1000_1100-2020-12-15-2021-03-15.tif</td>\n",
       "      <td>1</td>\n",
       "      <td>0</td>\n",
       "      <td>0</td>\n",
       "    </tr>\n",
       "    <tr>\n",
       "      <th>1</th>\n",
       "      <td>100-100-100_1000_1500-2020-12-15-2021-03-15.tif</td>\n",
       "      <td>1</td>\n",
       "      <td>0</td>\n",
       "      <td>0</td>\n",
       "    </tr>\n",
       "    <tr>\n",
       "      <th>2</th>\n",
       "      <td>100-100-100_1100_1000-2020-12-15-2021-03-15.tif</td>\n",
       "      <td>1</td>\n",
       "      <td>0</td>\n",
       "      <td>0</td>\n",
       "    </tr>\n",
       "    <tr>\n",
       "      <th>3</th>\n",
       "      <td>100-100-100_1100_1100-2020-12-15-2021-03-15.tif</td>\n",
       "      <td>1</td>\n",
       "      <td>0</td>\n",
       "      <td>0</td>\n",
       "    </tr>\n",
       "    <tr>\n",
       "      <th>4</th>\n",
       "      <td>100-100-100_1100_900-2020-12-15-2021-03-15.tif</td>\n",
       "      <td>1</td>\n",
       "      <td>0</td>\n",
       "      <td>0</td>\n",
       "    </tr>\n",
       "  </tbody>\n",
       "</table>\n",
       "</div>"
      ],
      "text/plain": [
       "                                         filenames  0  1  2\n",
       "0  100-100-100_1000_1100-2020-12-15-2021-03-15.tif  1  0  0\n",
       "1  100-100-100_1000_1500-2020-12-15-2021-03-15.tif  1  0  0\n",
       "2  100-100-100_1100_1000-2020-12-15-2021-03-15.tif  1  0  0\n",
       "3  100-100-100_1100_1100-2020-12-15-2021-03-15.tif  1  0  0\n",
       "4   100-100-100_1100_900-2020-12-15-2021-03-15.tif  1  0  0"
      ]
     },
     "execution_count": 29,
     "metadata": {},
     "output_type": "execute_result"
    }
   ],
   "source": [
    "df4.head()"
   ]
  },
  {
   "cell_type": "code",
   "execution_count": 31,
   "metadata": {},
   "outputs": [
    {
     "data": {
      "text/html": [
       "<div>\n",
       "<style scoped>\n",
       "    .dataframe tbody tr th:only-of-type {\n",
       "        vertical-align: middle;\n",
       "    }\n",
       "\n",
       "    .dataframe tbody tr th {\n",
       "        vertical-align: top;\n",
       "    }\n",
       "\n",
       "    .dataframe thead th {\n",
       "        text-align: right;\n",
       "    }\n",
       "</style>\n",
       "<table border=\"1\" class=\"dataframe\">\n",
       "  <thead>\n",
       "    <tr style=\"text-align: right;\">\n",
       "      <th></th>\n",
       "      <th>0</th>\n",
       "      <th>1</th>\n",
       "      <th>2</th>\n",
       "      <th>filenames</th>\n",
       "    </tr>\n",
       "  </thead>\n",
       "  <tbody>\n",
       "    <tr>\n",
       "      <th>0</th>\n",
       "      <td>1</td>\n",
       "      <td>0</td>\n",
       "      <td>0</td>\n",
       "      <td>100-100-100_1000_1100-2020-12-15-2021-03-15.tif</td>\n",
       "    </tr>\n",
       "    <tr>\n",
       "      <th>1</th>\n",
       "      <td>1</td>\n",
       "      <td>0</td>\n",
       "      <td>0</td>\n",
       "      <td>100-100-100_1000_1500-2020-12-15-2021-03-15.tif</td>\n",
       "    </tr>\n",
       "    <tr>\n",
       "      <th>2</th>\n",
       "      <td>1</td>\n",
       "      <td>0</td>\n",
       "      <td>0</td>\n",
       "      <td>100-100-100_1100_1000-2020-12-15-2021-03-15.tif</td>\n",
       "    </tr>\n",
       "    <tr>\n",
       "      <th>3</th>\n",
       "      <td>1</td>\n",
       "      <td>0</td>\n",
       "      <td>0</td>\n",
       "      <td>100-100-100_1100_1100-2020-12-15-2021-03-15.tif</td>\n",
       "    </tr>\n",
       "    <tr>\n",
       "      <th>4</th>\n",
       "      <td>1</td>\n",
       "      <td>0</td>\n",
       "      <td>0</td>\n",
       "      <td>100-100-100_1100_900-2020-12-15-2021-03-15.tif</td>\n",
       "    </tr>\n",
       "  </tbody>\n",
       "</table>\n",
       "</div>"
      ],
      "text/plain": [
       "   0  1  2                                        filenames\n",
       "0  1  0  0  100-100-100_1000_1100-2020-12-15-2021-03-15.tif\n",
       "1  1  0  0  100-100-100_1000_1500-2020-12-15-2021-03-15.tif\n",
       "2  1  0  0  100-100-100_1100_1000-2020-12-15-2021-03-15.tif\n",
       "3  1  0  0  100-100-100_1100_1100-2020-12-15-2021-03-15.tif\n",
       "4  1  0  0   100-100-100_1100_900-2020-12-15-2021-03-15.tif"
      ]
     },
     "execution_count": 31,
     "metadata": {},
     "output_type": "execute_result"
    }
   ],
   "source": [
    "df4 = df4[[0, 1, 2, 'filenames']]\n",
    "\n",
    "df4.head()"
   ]
  },
  {
   "cell_type": "code",
   "execution_count": null,
   "metadata": {},
   "outputs": [],
   "source": []
  },
  {
   "cell_type": "markdown",
   "metadata": {},
   "source": [
    "## merge dataframes"
   ]
  },
  {
   "cell_type": "code",
   "execution_count": 12,
   "metadata": {},
   "outputs": [
    {
     "data": {
      "text/html": [
       "<div>\n",
       "<style scoped>\n",
       "    .dataframe tbody tr th:only-of-type {\n",
       "        vertical-align: middle;\n",
       "    }\n",
       "\n",
       "    .dataframe tbody tr th {\n",
       "        vertical-align: top;\n",
       "    }\n",
       "\n",
       "    .dataframe thead th {\n",
       "        text-align: right;\n",
       "    }\n",
       "</style>\n",
       "<table border=\"1\" class=\"dataframe\">\n",
       "  <thead>\n",
       "    <tr style=\"text-align: right;\">\n",
       "      <th></th>\n",
       "      <th>col1</th>\n",
       "      <th>col2</th>\n",
       "      <th>col3</th>\n",
       "    </tr>\n",
       "  </thead>\n",
       "  <tbody>\n",
       "    <tr>\n",
       "      <th>0</th>\n",
       "      <td>1</td>\n",
       "      <td>4</td>\n",
       "      <td>10</td>\n",
       "    </tr>\n",
       "    <tr>\n",
       "      <th>1</th>\n",
       "      <td>2</td>\n",
       "      <td>5</td>\n",
       "      <td>8</td>\n",
       "    </tr>\n",
       "    <tr>\n",
       "      <th>2</th>\n",
       "      <td>3</td>\n",
       "      <td>6</td>\n",
       "      <td>9</td>\n",
       "    </tr>\n",
       "  </tbody>\n",
       "</table>\n",
       "</div>"
      ],
      "text/plain": [
       "   col1  col2  col3\n",
       "0     1     4    10\n",
       "1     2     5     8\n",
       "2     3     6     9"
      ]
     },
     "execution_count": 12,
     "metadata": {},
     "output_type": "execute_result"
    }
   ],
   "source": [
    "test_1 = pd.DataFrame(data={'col1': [1,2,3], 'col2': [4,5,6]})\n",
    "\n",
    "test_2 = pd.DataFrame(data={'col2': [5,6,4], 'col3': [8,9,10]})\n",
    "\n",
    "test_1.merge(test_2, on='col2')"
   ]
  },
  {
   "cell_type": "code",
   "execution_count": 13,
   "metadata": {},
   "outputs": [
    {
     "data": {
      "text/plain": [
       "'/Volumes/Lacie/zhenyadata/Project_Canopy_Data/PC_Data/Sentinel_Data/Chips/misha_polygons_cloudfreemerge/yes/ISL/100/59/59_800_2800.tif'"
      ]
     },
     "execution_count": 13,
     "metadata": {},
     "output_type": "execute_result"
    }
   ],
   "source": [
    "label_df.loc[0, 'filepaths']"
   ]
  },
  {
   "cell_type": "code",
   "execution_count": 14,
   "metadata": {},
   "outputs": [
    {
     "data": {
      "text/plain": [
       "'chips/cloudfree-merge-polygons/split/val/1/1_1000_1000.tif'"
      ]
     },
     "execution_count": 14,
     "metadata": {},
     "output_type": "execute_result"
    }
   ],
   "source": [
    "df_val_s3.loc[0, 's3_paths']"
   ]
  },
  {
   "cell_type": "code",
   "execution_count": 15,
   "metadata": {},
   "outputs": [],
   "source": [
    "def get_filename(path):\n",
    "    return path.split('/')[-1]\n",
    "\n",
    "label_df['filenames'] = label_df['filepaths'].apply(get_filename)\n",
    "df_val_s3['filenames'] = df_val_s3['s3_paths'].apply(get_filename)"
   ]
  },
  {
   "cell_type": "code",
   "execution_count": 16,
   "metadata": {},
   "outputs": [
    {
     "data": {
      "text/html": [
       "<div>\n",
       "<style scoped>\n",
       "    .dataframe tbody tr th:only-of-type {\n",
       "        vertical-align: middle;\n",
       "    }\n",
       "\n",
       "    .dataframe tbody tr th {\n",
       "        vertical-align: top;\n",
       "    }\n",
       "\n",
       "    .dataframe thead th {\n",
       "        text-align: right;\n",
       "    }\n",
       "</style>\n",
       "<table border=\"1\" class=\"dataframe\">\n",
       "  <thead>\n",
       "    <tr style=\"text-align: right;\">\n",
       "      <th></th>\n",
       "      <th>filepaths</th>\n",
       "      <th>labels</th>\n",
       "      <th>lengths</th>\n",
       "      <th>filenames</th>\n",
       "    </tr>\n",
       "  </thead>\n",
       "  <tbody>\n",
       "    <tr>\n",
       "      <th>0</th>\n",
       "      <td>/Volumes/Lacie/zhenyadata/Project_Canopy_Data/...</td>\n",
       "      <td>[ISL]</td>\n",
       "      <td>1</td>\n",
       "      <td>59_800_2800.tif</td>\n",
       "    </tr>\n",
       "    <tr>\n",
       "      <th>1</th>\n",
       "      <td>/Volumes/Lacie/zhenyadata/Project_Canopy_Data/...</td>\n",
       "      <td>[ISL]</td>\n",
       "      <td>1</td>\n",
       "      <td>59_900_2800.tif</td>\n",
       "    </tr>\n",
       "    <tr>\n",
       "      <th>2</th>\n",
       "      <td>/Volumes/Lacie/zhenyadata/Project_Canopy_Data/...</td>\n",
       "      <td>[ISL]</td>\n",
       "      <td>1</td>\n",
       "      <td>59_900_2900.tif</td>\n",
       "    </tr>\n",
       "    <tr>\n",
       "      <th>3</th>\n",
       "      <td>/Volumes/Lacie/zhenyadata/Project_Canopy_Data/...</td>\n",
       "      <td>[ISL]</td>\n",
       "      <td>1</td>\n",
       "      <td>59_1000_2900.tif</td>\n",
       "    </tr>\n",
       "    <tr>\n",
       "      <th>4</th>\n",
       "      <td>/Volumes/Lacie/zhenyadata/Project_Canopy_Data/...</td>\n",
       "      <td>[ISL]</td>\n",
       "      <td>1</td>\n",
       "      <td>59_1000_3000.tif</td>\n",
       "    </tr>\n",
       "  </tbody>\n",
       "</table>\n",
       "</div>"
      ],
      "text/plain": [
       "                                           filepaths labels  lengths  \\\n",
       "0  /Volumes/Lacie/zhenyadata/Project_Canopy_Data/...  [ISL]        1   \n",
       "1  /Volumes/Lacie/zhenyadata/Project_Canopy_Data/...  [ISL]        1   \n",
       "2  /Volumes/Lacie/zhenyadata/Project_Canopy_Data/...  [ISL]        1   \n",
       "3  /Volumes/Lacie/zhenyadata/Project_Canopy_Data/...  [ISL]        1   \n",
       "4  /Volumes/Lacie/zhenyadata/Project_Canopy_Data/...  [ISL]        1   \n",
       "\n",
       "          filenames  \n",
       "0   59_800_2800.tif  \n",
       "1   59_900_2800.tif  \n",
       "2   59_900_2900.tif  \n",
       "3  59_1000_2900.tif  \n",
       "4  59_1000_3000.tif  "
      ]
     },
     "execution_count": 16,
     "metadata": {},
     "output_type": "execute_result"
    }
   ],
   "source": [
    "label_df.head()"
   ]
  },
  {
   "cell_type": "code",
   "execution_count": 17,
   "metadata": {},
   "outputs": [
    {
     "data": {
      "text/html": [
       "<div>\n",
       "<style scoped>\n",
       "    .dataframe tbody tr th:only-of-type {\n",
       "        vertical-align: middle;\n",
       "    }\n",
       "\n",
       "    .dataframe tbody tr th {\n",
       "        vertical-align: top;\n",
       "    }\n",
       "\n",
       "    .dataframe thead th {\n",
       "        text-align: right;\n",
       "    }\n",
       "</style>\n",
       "<table border=\"1\" class=\"dataframe\">\n",
       "  <thead>\n",
       "    <tr style=\"text-align: right;\">\n",
       "      <th></th>\n",
       "      <th>s3_paths</th>\n",
       "      <th>filenames</th>\n",
       "    </tr>\n",
       "  </thead>\n",
       "  <tbody>\n",
       "    <tr>\n",
       "      <th>0</th>\n",
       "      <td>chips/cloudfree-merge-polygons/split/val/1/1_1...</td>\n",
       "      <td>1_1000_1000.tif</td>\n",
       "    </tr>\n",
       "    <tr>\n",
       "      <th>1</th>\n",
       "      <td>chips/cloudfree-merge-polygons/split/val/1/1_1...</td>\n",
       "      <td>1_1000_1100.tif</td>\n",
       "    </tr>\n",
       "    <tr>\n",
       "      <th>2</th>\n",
       "      <td>chips/cloudfree-merge-polygons/split/val/1/1_1...</td>\n",
       "      <td>1_1000_1200.tif</td>\n",
       "    </tr>\n",
       "    <tr>\n",
       "      <th>3</th>\n",
       "      <td>chips/cloudfree-merge-polygons/split/val/1/1_1...</td>\n",
       "      <td>1_1000_1300.tif</td>\n",
       "    </tr>\n",
       "    <tr>\n",
       "      <th>4</th>\n",
       "      <td>chips/cloudfree-merge-polygons/split/val/1/1_1...</td>\n",
       "      <td>1_1000_1400.tif</td>\n",
       "    </tr>\n",
       "  </tbody>\n",
       "</table>\n",
       "</div>"
      ],
      "text/plain": [
       "                                            s3_paths        filenames\n",
       "0  chips/cloudfree-merge-polygons/split/val/1/1_1...  1_1000_1000.tif\n",
       "1  chips/cloudfree-merge-polygons/split/val/1/1_1...  1_1000_1100.tif\n",
       "2  chips/cloudfree-merge-polygons/split/val/1/1_1...  1_1000_1200.tif\n",
       "3  chips/cloudfree-merge-polygons/split/val/1/1_1...  1_1000_1300.tif\n",
       "4  chips/cloudfree-merge-polygons/split/val/1/1_1...  1_1000_1400.tif"
      ]
     },
     "execution_count": 17,
     "metadata": {},
     "output_type": "execute_result"
    }
   ],
   "source": [
    "df_val_s3.head()"
   ]
  },
  {
   "cell_type": "code",
   "execution_count": 18,
   "metadata": {},
   "outputs": [
    {
     "data": {
      "text/html": [
       "<div>\n",
       "<style scoped>\n",
       "    .dataframe tbody tr th:only-of-type {\n",
       "        vertical-align: middle;\n",
       "    }\n",
       "\n",
       "    .dataframe tbody tr th {\n",
       "        vertical-align: top;\n",
       "    }\n",
       "\n",
       "    .dataframe thead th {\n",
       "        text-align: right;\n",
       "    }\n",
       "</style>\n",
       "<table border=\"1\" class=\"dataframe\">\n",
       "  <thead>\n",
       "    <tr style=\"text-align: right;\">\n",
       "      <th></th>\n",
       "      <th>s3_paths</th>\n",
       "      <th>filenames</th>\n",
       "      <th>filepaths</th>\n",
       "      <th>labels</th>\n",
       "      <th>lengths</th>\n",
       "    </tr>\n",
       "  </thead>\n",
       "  <tbody>\n",
       "    <tr>\n",
       "      <th>0</th>\n",
       "      <td>chips/cloudfree-merge-polygons/split/val/1/1_1...</td>\n",
       "      <td>1_1000_1000.tif</td>\n",
       "      <td>/Volumes/Lacie/zhenyadata/Project_Canopy_Data/...</td>\n",
       "      <td>[ISL, Rainforest]</td>\n",
       "      <td>2</td>\n",
       "    </tr>\n",
       "    <tr>\n",
       "      <th>1</th>\n",
       "      <td>chips/cloudfree-merge-polygons/split/val/1/1_1...</td>\n",
       "      <td>1_1000_1100.tif</td>\n",
       "      <td>/Volumes/Lacie/zhenyadata/Project_Canopy_Data/...</td>\n",
       "      <td>[Rainforest]</td>\n",
       "      <td>1</td>\n",
       "    </tr>\n",
       "    <tr>\n",
       "      <th>2</th>\n",
       "      <td>chips/cloudfree-merge-polygons/split/val/1/1_1...</td>\n",
       "      <td>1_1000_1200.tif</td>\n",
       "      <td>/Volumes/Lacie/zhenyadata/Project_Canopy_Data/...</td>\n",
       "      <td>[Rainforest]</td>\n",
       "      <td>1</td>\n",
       "    </tr>\n",
       "    <tr>\n",
       "      <th>3</th>\n",
       "      <td>chips/cloudfree-merge-polygons/split/val/1/1_1...</td>\n",
       "      <td>1_1000_1300.tif</td>\n",
       "      <td>/Volumes/Lacie/zhenyadata/Project_Canopy_Data/...</td>\n",
       "      <td>[Rainforest]</td>\n",
       "      <td>1</td>\n",
       "    </tr>\n",
       "    <tr>\n",
       "      <th>4</th>\n",
       "      <td>chips/cloudfree-merge-polygons/split/val/1/1_1...</td>\n",
       "      <td>1_1000_1400.tif</td>\n",
       "      <td>/Volumes/Lacie/zhenyadata/Project_Canopy_Data/...</td>\n",
       "      <td>[Rainforest]</td>\n",
       "      <td>1</td>\n",
       "    </tr>\n",
       "  </tbody>\n",
       "</table>\n",
       "</div>"
      ],
      "text/plain": [
       "                                            s3_paths        filenames  \\\n",
       "0  chips/cloudfree-merge-polygons/split/val/1/1_1...  1_1000_1000.tif   \n",
       "1  chips/cloudfree-merge-polygons/split/val/1/1_1...  1_1000_1100.tif   \n",
       "2  chips/cloudfree-merge-polygons/split/val/1/1_1...  1_1000_1200.tif   \n",
       "3  chips/cloudfree-merge-polygons/split/val/1/1_1...  1_1000_1300.tif   \n",
       "4  chips/cloudfree-merge-polygons/split/val/1/1_1...  1_1000_1400.tif   \n",
       "\n",
       "                                           filepaths             labels  \\\n",
       "0  /Volumes/Lacie/zhenyadata/Project_Canopy_Data/...  [ISL, Rainforest]   \n",
       "1  /Volumes/Lacie/zhenyadata/Project_Canopy_Data/...       [Rainforest]   \n",
       "2  /Volumes/Lacie/zhenyadata/Project_Canopy_Data/...       [Rainforest]   \n",
       "3  /Volumes/Lacie/zhenyadata/Project_Canopy_Data/...       [Rainforest]   \n",
       "4  /Volumes/Lacie/zhenyadata/Project_Canopy_Data/...       [Rainforest]   \n",
       "\n",
       "   lengths  \n",
       "0        2  \n",
       "1        1  \n",
       "2        1  \n",
       "3        1  \n",
       "4        1  "
      ]
     },
     "execution_count": 18,
     "metadata": {},
     "output_type": "execute_result"
    }
   ],
   "source": [
    "merge_df_val = df_val_s3.merge(label_df, on='filenames')\n",
    "\n",
    "merge_df_val.head()"
   ]
  },
  {
   "cell_type": "code",
   "execution_count": 19,
   "metadata": {},
   "outputs": [],
   "source": [
    "assert len(merge_df_val) == len(val_chips)"
   ]
  },
  {
   "cell_type": "code",
   "execution_count": 20,
   "metadata": {},
   "outputs": [
    {
     "data": {
      "text/plain": [
       "array([[0, 1, 0, ..., 0, 0, 0],\n",
       "       [0, 0, 0, ..., 0, 0, 0],\n",
       "       [0, 0, 0, ..., 0, 0, 0],\n",
       "       ...,\n",
       "       [0, 0, 0, ..., 0, 0, 1],\n",
       "       [0, 0, 0, ..., 0, 0, 1],\n",
       "       [0, 0, 0, ..., 0, 0, 1]])"
      ]
     },
     "execution_count": 20,
     "metadata": {},
     "output_type": "execute_result"
    }
   ],
   "source": [
    "from sklearn.preprocessing import MultiLabelBinarizer\n",
    "\n",
    "\n",
    "mlb = MultiLabelBinarizer()\n",
    "\n",
    "val_ohe = mlb.fit_transform(merge_df_val['labels'])\n",
    "\n",
    "val_ohe"
   ]
  },
  {
   "cell_type": "code",
   "execution_count": 22,
   "metadata": {},
   "outputs": [
    {
     "data": {
      "text/plain": [
       "array(['Habitation', 'ISL', 'Industrial_agriculture', 'Mining',\n",
       "       'Rainforest', 'River', 'Roads', 'Savannah', 'Shifting_cultivation',\n",
       "       'Water'], dtype=object)"
      ]
     },
     "execution_count": 22,
     "metadata": {},
     "output_type": "execute_result"
    }
   ],
   "source": [
    "mlb.classes_"
   ]
  },
  {
   "cell_type": "code",
   "execution_count": 21,
   "metadata": {},
   "outputs": [
    {
     "data": {
      "text/plain": [
       "array([0, 1, 0, 0, 1, 0, 0, 0, 0, 0])"
      ]
     },
     "execution_count": 21,
     "metadata": {},
     "output_type": "execute_result"
    }
   ],
   "source": [
    "list(val_ohe)[0]"
   ]
  },
  {
   "cell_type": "code",
   "execution_count": 23,
   "metadata": {},
   "outputs": [
    {
     "data": {
      "text/plain": [
       "6795"
      ]
     },
     "execution_count": 23,
     "metadata": {},
     "output_type": "execute_result"
    }
   ],
   "source": [
    "len(val_ohe)"
   ]
  },
  {
   "cell_type": "code",
   "execution_count": 26,
   "metadata": {},
   "outputs": [],
   "source": [
    "with open('val.lst', 'w') as lst:\n",
    "    for i in range(len(merge_df_val)):\n",
    "        lst.write(str(i) + '\\t')\n",
    "        for label in list(val_ohe)[i]:\n",
    "            lst.write(str(label) + '\\t')\n",
    "        lst.write(merge_df_val.loc[i, 's3_paths'])\n",
    "        lst.write('\\n')"
   ]
  },
  {
   "cell_type": "markdown",
   "metadata": {},
   "source": [
    "## the function"
   ]
  },
  {
   "cell_type": "code",
   "execution_count": 27,
   "metadata": {},
   "outputs": [],
   "source": [
    "from sklearn.preprocessing import MultiLabelBinarizer\n",
    "\n",
    "\n",
    "def make_lst_file(label_df, chips, lst_path):\n",
    "    s3_df = pd.DataFrame(data={'s3_paths': chips})\n",
    "    \n",
    "    def get_filename(path):\n",
    "        return path.split('/')[-1]\n",
    "\n",
    "    label_df['filenames'] = label_df['filepaths'].apply(get_filename)\n",
    "    s3_df['filenames'] = df_val_s3['s3_paths'].apply(get_filename)\n",
    "    \n",
    "    merge_df = s3_df.merge(label_df, on='filenames')\n",
    "    \n",
    "    mlb = MultiLabelBinarizer()\n",
    "    ohe = mlb.fit_transform(merge_df_val['labels'])\n",
    "\n",
    "    with open(lst_path, 'w') as lst:\n",
    "        for i in range(len(merge_df)):\n",
    "            lst.write(str(i) + '\\t')\n",
    "            for label in list(ohe)[i]:\n",
    "                lst.write(str(label) + '\\t')\n",
    "            lst.write(merge_df.loc[i, 's3_paths'])\n",
    "            lst.write('\\n')\n",
    "            \n",
    "    return mlb.classes_"
   ]
  },
  {
   "cell_type": "code",
   "execution_count": 28,
   "metadata": {},
   "outputs": [
    {
     "data": {
      "text/plain": [
       "array(['Habitation', 'ISL', 'Industrial_agriculture', 'Mining',\n",
       "       'Rainforest', 'River', 'Roads', 'Savannah', 'Shifting_cultivation',\n",
       "       'Water'], dtype=object)"
      ]
     },
     "execution_count": 28,
     "metadata": {},
     "output_type": "execute_result"
    }
   ],
   "source": [
    "make_lst_file(label_df, val_chips, 'val_2.lst')"
   ]
  },
  {
   "cell_type": "markdown",
   "metadata": {},
   "source": [
    "## label json"
   ]
  },
  {
   "cell_type": "code",
   "execution_count": 1,
   "metadata": {},
   "outputs": [],
   "source": [
    "import json\n",
    "\n",
    "\n",
    "label_list = ['Habitation', 'ISL', 'Industrial_agriculture', 'Mining',\n",
    "    'Rainforest', 'River', 'Roads', 'Savannah', 'Shifting_cultivation',\n",
    "    'Water'\n",
    "]\n",
    "\n",
    "label_dict = {\n",
    "    'label_names': {}\n",
    "}"
   ]
  },
  {
   "cell_type": "code",
   "execution_count": 2,
   "metadata": {},
   "outputs": [],
   "source": [
    "for i, label in enumerate(label_list, 1):\n",
    "    label_dict['label_names'][i] = label"
   ]
  },
  {
   "cell_type": "code",
   "execution_count": 3,
   "metadata": {},
   "outputs": [
    {
     "data": {
      "text/plain": [
       "{'label_names': {1: 'Habitation',\n",
       "  2: 'ISL',\n",
       "  3: 'Industrial_agriculture',\n",
       "  4: 'Mining',\n",
       "  5: 'Rainforest',\n",
       "  6: 'River',\n",
       "  7: 'Roads',\n",
       "  8: 'Savannah',\n",
       "  9: 'Shifting_cultivation',\n",
       "  10: 'Water'}}"
      ]
     },
     "execution_count": 3,
     "metadata": {},
     "output_type": "execute_result"
    }
   ],
   "source": [
    "label_dict"
   ]
  },
  {
   "cell_type": "code",
   "execution_count": 4,
   "metadata": {},
   "outputs": [],
   "source": [
    "with open('labels.json', 'w') as json_file:\n",
    "    json.dump(label_dict, json_file)"
   ]
  },
  {
   "cell_type": "code",
   "execution_count": null,
   "metadata": {},
   "outputs": [],
   "source": []
  }
 ],
 "metadata": {
  "kernelspec": {
   "display_name": "aws",
   "language": "python",
   "name": "aws"
  },
  "language_info": {
   "codemirror_mode": {
    "name": "ipython",
    "version": 3
   },
   "file_extension": ".py",
   "mimetype": "text/x-python",
   "name": "python",
   "nbconvert_exporter": "python",
   "pygments_lexer": "ipython3",
   "version": "3.9.1"
  }
 },
 "nbformat": 4,
 "nbformat_minor": 4
}
